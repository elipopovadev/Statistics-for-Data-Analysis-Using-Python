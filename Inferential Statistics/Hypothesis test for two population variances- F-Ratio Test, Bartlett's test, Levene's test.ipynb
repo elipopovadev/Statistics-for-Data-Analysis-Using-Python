{
 "cells": [
  {
   "cell_type": "code",
   "execution_count": 3,
   "id": "cbfd0748",
   "metadata": {},
   "outputs": [],
   "source": [
    "import numpy as np\n",
    "import pandas as pd\n",
    "import matplotlib.pyplot as plt\n",
    "import seaborn as sns\n",
    "from scipy import stats"
   ]
  },
  {
   "cell_type": "markdown",
   "id": "7f28adcd",
   "metadata": {},
   "source": [
    "# We took 8 items from the first population. Variance is 1.21. We took 5 items from the second population. Variance is 11. Is there a difference in the variances at 90% Confidence level? Answer: F is greater than F_critical => we reject the Null Hypothesis and accept the Althernative Hypothesis that there is statistically significant difference between these two variances."
   ]
  },
  {
   "cell_type": "code",
   "execution_count": 7,
   "id": "84edd044",
   "metadata": {},
   "outputs": [
    {
     "data": {
      "text/plain": [
       "9.090909090909092"
      ]
     },
     "execution_count": 7,
     "metadata": {},
     "output_type": "execute_result"
    }
   ],
   "source": [
    "F = 11 / 1.21\n",
    "F"
   ]
  },
  {
   "cell_type": "code",
   "execution_count": 9,
   "id": "80bec1b1",
   "metadata": {},
   "outputs": [
    {
     "data": {
      "text/plain": [
       "2.9605340887350957"
      ]
     },
     "execution_count": 9,
     "metadata": {},
     "output_type": "execute_result"
    }
   ],
   "source": [
    "alpha = 0.1\n",
    "df_numerator = 4\n",
    "df_denominator = 7\n",
    "F_critical = stats.f.isf(alpha, df_numerator, df_denominator)\n",
    "F_critical"
   ]
  },
  {
   "cell_type": "markdown",
   "id": "6bcb4aa2",
   "metadata": {},
   "source": [
    "# If we know that the data is normally distributed. Аnswer: pvalue is greater than alpha, we fail to reject the Null Hypothesis. We don't have enough evidence to accept the Alternative that there is a difference between these two population variances."
   ]
  },
  {
   "cell_type": "code",
   "execution_count": 33,
   "id": "0da8f6e7",
   "metadata": {},
   "outputs": [],
   "source": [
    "data1 = np.array([130,300,200,120, 100, 300])\n",
    "data2 = np.array([230,400,555,144,300])"
   ]
  },
  {
   "cell_type": "code",
   "execution_count": 31,
   "id": "2814334b",
   "metadata": {},
   "outputs": [
    {
     "data": {
      "text/plain": [
       "BartlettResult(statistic=1.2549348877974815, pvalue=0.26261202931452376)"
      ]
     },
     "execution_count": 31,
     "metadata": {},
     "output_type": "execute_result"
    }
   ],
   "source": [
    "stats.bartlett(data1, data2)"
   ]
  },
  {
   "cell_type": "markdown",
   "id": "f33935df",
   "metadata": {},
   "source": [
    "# If we know nothing about the data."
   ]
  },
  {
   "cell_type": "code",
   "execution_count": 32,
   "id": "252f358b",
   "metadata": {},
   "outputs": [
    {
     "data": {
      "text/plain": [
       "LeveneResult(statistic=0.8653265785156924, pvalue=0.37652930487091973)"
      ]
     },
     "execution_count": 32,
     "metadata": {},
     "output_type": "execute_result"
    }
   ],
   "source": [
    "stats.levene(data1, data2)"
   ]
  }
 ],
 "metadata": {
  "kernelspec": {
   "display_name": "Python 3 (ipykernel)",
   "language": "python",
   "name": "python3"
  },
  "language_info": {
   "codemirror_mode": {
    "name": "ipython",
    "version": 3
   },
   "file_extension": ".py",
   "mimetype": "text/x-python",
   "name": "python",
   "nbconvert_exporter": "python",
   "pygments_lexer": "ipython3",
   "version": "3.9.7"
  }
 },
 "nbformat": 4,
 "nbformat_minor": 5
}

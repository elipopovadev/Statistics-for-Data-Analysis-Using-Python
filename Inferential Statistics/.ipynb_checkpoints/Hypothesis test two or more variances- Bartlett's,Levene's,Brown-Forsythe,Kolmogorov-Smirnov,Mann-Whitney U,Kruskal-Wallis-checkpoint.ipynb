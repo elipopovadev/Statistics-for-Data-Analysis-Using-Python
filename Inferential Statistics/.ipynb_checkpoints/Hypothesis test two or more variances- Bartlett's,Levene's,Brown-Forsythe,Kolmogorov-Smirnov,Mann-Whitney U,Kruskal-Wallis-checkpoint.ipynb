{
 "cells": [
  {
   "cell_type": "code",
   "execution_count": 1,
   "id": "cbfd0748",
   "metadata": {},
   "outputs": [],
   "source": [
    "import numpy as np\n",
    "import pandas as pd\n",
    "import matplotlib.pyplot as plt\n",
    "import seaborn as sns\n",
    "from scipy import stats"
   ]
  },
  {
   "cell_type": "markdown",
   "id": "8ece888b",
   "metadata": {},
   "source": [
    "# If the sample size is small (less than 30), the first step is always to test the normality of the populations. Q-Q plot and One sample Kolmogorov-Smirnov Test (KS Test) can be used for that! If the p-value is larger than 0.05, that means that you can not reject the null. You can say that the sample is from Normal Distribution with a confidence level of 95%.\n",
    "\n"
   ]
  },
  {
   "cell_type": "code",
   "execution_count": null,
   "id": "9bbaf49f",
   "metadata": {},
   "outputs": [],
   "source": [
    "t, pvalue = stats.kstest(sample, 'norm')"
   ]
  },
  {
   "cell_type": "markdown",
   "id": "7f28adcd",
   "metadata": {},
   "source": [
    "# We took 8 items from the first population. Variance is 1.21. We took 5 items from the second population. Variance is 11. Is there a difference in the variances at 90% Confidence level? Answer: F is greater than F_critical => we reject the Null Hypothesis and accept the Althernative Hypothesis that there is statistically significant difference between these two variances."
   ]
  },
  {
   "cell_type": "code",
   "execution_count": 7,
   "id": "84edd044",
   "metadata": {},
   "outputs": [
    {
     "data": {
      "text/plain": [
       "9.090909090909092"
      ]
     },
     "execution_count": 7,
     "metadata": {},
     "output_type": "execute_result"
    }
   ],
   "source": [
    "F = 11 / 1.21\n",
    "F"
   ]
  },
  {
   "cell_type": "code",
   "execution_count": 9,
   "id": "80bec1b1",
   "metadata": {},
   "outputs": [
    {
     "data": {
      "text/plain": [
       "2.9605340887350957"
      ]
     },
     "execution_count": 9,
     "metadata": {},
     "output_type": "execute_result"
    }
   ],
   "source": [
    "alpha = 0.1\n",
    "df_numerator = 4\n",
    "df_denominator = 7\n",
    "F_critical = stats.f.isf(alpha, df_numerator, df_denominator)\n",
    "F_critical"
   ]
  },
  {
   "cell_type": "markdown",
   "id": "6bcb4aa2",
   "metadata": {},
   "source": [
    "# If we know that the all populations are normally distributed: Bartlett's test. Samples are two or more. Аnswer: pvalue is greater than alpha, we fail to reject the Null Hypothesis. We don't have enough evidence to accept the Alternative that there is a difference between these two population variances."
   ]
  },
  {
   "cell_type": "code",
   "execution_count": 2,
   "id": "0da8f6e7",
   "metadata": {},
   "outputs": [],
   "source": [
    "data1 = np.array([130,300,200,120, 100, 300])\n",
    "data2 = np.array([230,400,555,144,300])\n",
    "data3 = np.array([230,410,555,150,300])"
   ]
  },
  {
   "cell_type": "code",
   "execution_count": 3,
   "id": "2814334b",
   "metadata": {},
   "outputs": [
    {
     "data": {
      "text/plain": [
       "BartlettResult(statistic=1.5507701109952754, pvalue=0.4605264186246797)"
      ]
     },
     "execution_count": 3,
     "metadata": {},
     "output_type": "execute_result"
    }
   ],
   "source": [
    "stats.bartlett(data1, data2, data3)"
   ]
  },
  {
   "cell_type": "markdown",
   "id": "f33935df",
   "metadata": {},
   "source": [
    "# If we know that populations are almost normal: Levene's test. Samples are two or more."
   ]
  },
  {
   "cell_type": "code",
   "execution_count": 5,
   "id": "252f358b",
   "metadata": {},
   "outputs": [
    {
     "data": {
      "text/plain": [
       "LeveneResult(statistic=0.9109596880775201, pvalue=0.42633686479145305)"
      ]
     },
     "execution_count": 5,
     "metadata": {},
     "output_type": "execute_result"
    }
   ],
   "source": [
    "stats.levene(data1, data2, data3, center = 'mean')"
   ]
  },
  {
   "cell_type": "markdown",
   "id": "70d5a857",
   "metadata": {},
   "source": [
    "# If we know that populations are sort of normal:  Brown-Forsythe Test. Samples are two or more."
   ]
  },
  {
   "cell_type": "code",
   "execution_count": 6,
   "id": "3d257b49",
   "metadata": {},
   "outputs": [
    {
     "data": {
      "text/plain": [
       "LeveneResult(statistic=0.5009307980168304, pvalue=0.6171975833636575)"
      ]
     },
     "execution_count": 6,
     "metadata": {},
     "output_type": "execute_result"
    }
   ],
   "source": [
    "stats.levene(data1, data2, data3, center = 'median')"
   ]
  },
  {
   "cell_type": "markdown",
   "id": "065ba56f",
   "metadata": {},
   "source": [
    "# If we know that these two populations are not at all normal: Kolmogorov-Smirnov Test (KS Test for 2 samples only). The Kolmogorov–Smirnov statistic quantifies a distance between the empirical distribution functions of two samples."
   ]
  },
  {
   "cell_type": "code",
   "execution_count": 14,
   "id": "a87dc479",
   "metadata": {},
   "outputs": [
    {
     "data": {
      "text/plain": [
       "0.35714285714285715"
      ]
     },
     "execution_count": 14,
     "metadata": {},
     "output_type": "execute_result"
    }
   ],
   "source": [
    "t, pvalue = stats.ks_2samp(data1, data2) \n",
    "pvalue"
   ]
  },
  {
   "cell_type": "markdown",
   "id": "0a083803",
   "metadata": {},
   "source": [
    "# If we know that these two populations are not at all normal: Mann-Whitney U Test (Nonparametric version of 2-sample t test only). For independent two samples only. Use medians.\n"
   ]
  },
  {
   "cell_type": "code",
   "execution_count": 7,
   "id": "441dc6e5",
   "metadata": {},
   "outputs": [
    {
     "data": {
      "text/plain": [
       "0.11730556401208668"
      ]
     },
     "execution_count": 7,
     "metadata": {},
     "output_type": "execute_result"
    }
   ],
   "source": [
    "t, pvalue = stats.mannwhitneyu(data1, data2)\n",
    "pvalue"
   ]
  },
  {
   "cell_type": "markdown",
   "id": "dac1a587",
   "metadata": {},
   "source": [
    " # If we know that the populations are not at all normal and populations are more than two: Kruskal-Wallis Test (nonparametric one-way ANOVA). Note that rejecting the null hypothesis does not indicate which of the groups differs. It simply tells us that not all of the group medians are equal. For independent samples only and all groups should have the same shape distribution."
   ]
  },
  {
   "cell_type": "code",
   "execution_count": 9,
   "id": "70831bfb",
   "metadata": {},
   "outputs": [
    {
     "data": {
      "text/plain": [
       "KruskalResult(statistic=3.89820359281437, pvalue=0.14240192007716848)"
      ]
     },
     "execution_count": 9,
     "metadata": {},
     "output_type": "execute_result"
    }
   ],
   "source": [
    "stats.kruskal(data1, data2, data3)"
   ]
  }
 ],
 "metadata": {
  "kernelspec": {
   "display_name": "Python 3 (ipykernel)",
   "language": "python",
   "name": "python3"
  },
  "language_info": {
   "codemirror_mode": {
    "name": "ipython",
    "version": 3
   },
   "file_extension": ".py",
   "mimetype": "text/x-python",
   "name": "python",
   "nbconvert_exporter": "python",
   "pygments_lexer": "ipython3",
   "version": "3.9.7"
  }
 },
 "nbformat": 4,
 "nbformat_minor": 5
}

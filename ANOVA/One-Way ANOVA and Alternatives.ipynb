{
 "cells": [
  {
   "cell_type": "code",
   "execution_count": 7,
   "id": "ade66012",
   "metadata": {},
   "outputs": [],
   "source": [
    "import numpy as np\n",
    "import pandas as pd\n",
    "import scipy.stats as stats\n",
    "import statsmodels.stats.oneway as oneway"
   ]
  },
  {
   "cell_type": "markdown",
   "id": "e1b6d1ff",
   "metadata": {},
   "source": [
    "We have three different machines wich produce parfumes. Are these machines produce parfumes with different volume? H0 --> m1 = m2 = m3; H1 --> at least one of the means is different;"
   ]
  },
  {
   "cell_type": "code",
   "execution_count": 120,
   "id": "8a21739f",
   "metadata": {},
   "outputs": [],
   "source": [
    "m1 = np.array([143,153,164,185,194,201,130,140,150,160,190,211,222,120,200,136,143,200,160,170,150])\n",
    "m2 = np.array([140,150,160,180,190,200,130,140,150,160,190,211,222,120,200,136,143,200,160,170,150])\n",
    "m3 = np.array([150,155,170,150,240,249,186,140,160,200,120,222,221,223,211,222,120,280])"
   ]
  },
  {
   "cell_type": "markdown",
   "id": "11cf3d6d",
   "metadata": {},
   "source": [
    "1.Check for normality:"
   ]
  },
  {
   "cell_type": "code",
   "execution_count": 112,
   "id": "1ae4be66",
   "metadata": {},
   "outputs": [
    {
     "data": {
      "text/plain": [
       "ShapiroResult(statistic=0.9502843618392944, pvalue=0.34488698840141296)"
      ]
     },
     "execution_count": 112,
     "metadata": {},
     "output_type": "execute_result"
    }
   ],
   "source": [
    "stats.shapiro(m1)"
   ]
  },
  {
   "cell_type": "code",
   "execution_count": 95,
   "id": "3e61ac7c",
   "metadata": {},
   "outputs": [
    {
     "data": {
      "text/plain": [
       "ShapiroResult(statistic=0.947755753993988, pvalue=0.30872842669487)"
      ]
     },
     "execution_count": 95,
     "metadata": {},
     "output_type": "execute_result"
    }
   ],
   "source": [
    "stats.shapiro(m2)"
   ]
  },
  {
   "cell_type": "code",
   "execution_count": 121,
   "id": "c8276571",
   "metadata": {},
   "outputs": [
    {
     "data": {
      "text/plain": [
       "ShapiroResult(statistic=0.9541516900062561, pvalue=0.49378958344459534)"
      ]
     },
     "execution_count": 121,
     "metadata": {},
     "output_type": "execute_result"
    }
   ],
   "source": [
    "stats.shapiro(m3)"
   ]
  },
  {
   "cell_type": "markdown",
   "id": "cca1332a",
   "metadata": {},
   "source": [
    "pvalues are greater than 0.05 --> fail to reject he null hypothesis, data is normaly distributed"
   ]
  },
  {
   "cell_type": "markdown",
   "id": "ccc91875",
   "metadata": {},
   "source": [
    "2. Check for homogeneity of variances for normaly distributed data:"
   ]
  },
  {
   "cell_type": "code",
   "execution_count": 122,
   "id": "a53a71eb",
   "metadata": {},
   "outputs": [
    {
     "data": {
      "text/plain": [
       "BartlettResult(statistic=5.503956910017339, pvalue=0.06380150784294757)"
      ]
     },
     "execution_count": 122,
     "metadata": {},
     "output_type": "execute_result"
    }
   ],
   "source": [
    "stats.bartlett(m1,m2,m3)"
   ]
  },
  {
   "cell_type": "markdown",
   "id": "53e59aea",
   "metadata": {},
   "source": [
    "pvalue is greater than 0.05 --> fail to reject the Null hypothesis, we don't have enough evidence to accept hypothesis that variances are not equal"
   ]
  },
  {
   "cell_type": "markdown",
   "id": "93abd392",
   "metadata": {},
   "source": [
    "Perform One-way ANOVA"
   ]
  },
  {
   "cell_type": "code",
   "execution_count": 124,
   "id": "786cc81b",
   "metadata": {},
   "outputs": [
    {
     "data": {
      "text/plain": [
       "F_onewayResult(statistic=2.6119640271916396, pvalue=0.08215742375784461)"
      ]
     },
     "execution_count": 124,
     "metadata": {},
     "output_type": "execute_result"
    }
   ],
   "source": [
    "stats.f_oneway(m1, m2, m3)"
   ]
  },
  {
   "cell_type": "code",
   "execution_count": 125,
   "id": "5f3a1c67",
   "metadata": {},
   "outputs": [
    {
     "data": {
      "text/plain": [
       "<class 'statsmodels.stats.base.HolderTuple'>\n",
       "statistic = 2.6119640271916413\n",
       "pvalue = 0.08215742375784461\n",
       "df = (2.0, 57.0)\n",
       "df_num = 2.0\n",
       "df_denom = 57.0\n",
       "nobs_t = 60.0\n",
       "n_groups = 3\n",
       "means = [167.71428571 166.76190476 189.94444444]\n",
       "nobs = [21. 21. 18.]\n",
       "vars_ = [ 858.81428571  852.49047619 2162.40849673]\n",
       "use_var = equal\n",
       "welch_correction = False\n",
       "tuple = (2.6119640271916413, 0.08215742375784461)"
      ]
     },
     "execution_count": 125,
     "metadata": {},
     "output_type": "execute_result"
    }
   ],
   "source": [
    "oneway.anova_oneway((m1, m2, m3),use_var='equal',welch_correction=False)"
   ]
  },
  {
   "cell_type": "markdown",
   "id": "c74991e4",
   "metadata": {},
   "source": [
    "pvalue is greater than 0.05 --> fail to reject the Null hypothesis that these three machines produce parfumes with equal volume."
   ]
  },
  {
   "cell_type": "markdown",
   "id": "f97ccf70",
   "metadata": {},
   "source": [
    "Note:\n",
    "if data is not homogeneity, but have normal distribution use Welch's ANOVA;\n",
    "if data is homogeneity, but don't have normal distribution use Kruskal-Wallis Test;"
   ]
  }
 ],
 "metadata": {
  "kernelspec": {
   "display_name": "Python 3 (ipykernel)",
   "language": "python",
   "name": "python3"
  },
  "language_info": {
   "codemirror_mode": {
    "name": "ipython",
    "version": 3
   },
   "file_extension": ".py",
   "mimetype": "text/x-python",
   "name": "python",
   "nbconvert_exporter": "python",
   "pygments_lexer": "ipython3",
   "version": "3.9.7"
  }
 },
 "nbformat": 4,
 "nbformat_minor": 5
}

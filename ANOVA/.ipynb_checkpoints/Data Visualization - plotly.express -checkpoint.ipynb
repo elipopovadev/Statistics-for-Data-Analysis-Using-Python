{
 "cells": [
  {
   "cell_type": "code",
   "execution_count": 65,
   "id": "efba10f6",
   "metadata": {},
   "outputs": [],
   "source": [
    "import plotly.express as px\n",
    "import seaborn as sns"
   ]
  },
  {
   "cell_type": "code",
   "execution_count": 66,
   "id": "a6e8f9b8",
   "metadata": {},
   "outputs": [
    {
     "data": {
      "text/plain": [
       "['anagrams',\n",
       " 'anscombe',\n",
       " 'attention',\n",
       " 'brain_networks',\n",
       " 'car_crashes',\n",
       " 'diamonds',\n",
       " 'dots',\n",
       " 'exercise',\n",
       " 'flights',\n",
       " 'fmri',\n",
       " 'gammas',\n",
       " 'geyser',\n",
       " 'iris',\n",
       " 'mpg',\n",
       " 'penguins',\n",
       " 'planets',\n",
       " 'taxis',\n",
       " 'tips',\n",
       " 'titanic']"
      ]
     },
     "execution_count": 66,
     "metadata": {},
     "output_type": "execute_result"
    }
   ],
   "source": [
    "sns.get_dataset_names()"
   ]
  },
  {
   "cell_type": "code",
   "execution_count": 67,
   "id": "2843729a",
   "metadata": {},
   "outputs": [
    {
     "data": {
      "text/html": [
       "<div>\n",
       "<style scoped>\n",
       "    .dataframe tbody tr th:only-of-type {\n",
       "        vertical-align: middle;\n",
       "    }\n",
       "\n",
       "    .dataframe tbody tr th {\n",
       "        vertical-align: top;\n",
       "    }\n",
       "\n",
       "    .dataframe thead th {\n",
       "        text-align: right;\n",
       "    }\n",
       "</style>\n",
       "<table border=\"1\" class=\"dataframe\">\n",
       "  <thead>\n",
       "    <tr style=\"text-align: right;\">\n",
       "      <th></th>\n",
       "      <th>mpg</th>\n",
       "      <th>cylinders</th>\n",
       "      <th>displacement</th>\n",
       "      <th>horsepower</th>\n",
       "      <th>weight</th>\n",
       "      <th>acceleration</th>\n",
       "      <th>model_year</th>\n",
       "      <th>origin</th>\n",
       "      <th>name</th>\n",
       "    </tr>\n",
       "  </thead>\n",
       "  <tbody>\n",
       "    <tr>\n",
       "      <th>0</th>\n",
       "      <td>18.0</td>\n",
       "      <td>8</td>\n",
       "      <td>307.0</td>\n",
       "      <td>130.0</td>\n",
       "      <td>3504</td>\n",
       "      <td>12.0</td>\n",
       "      <td>70</td>\n",
       "      <td>usa</td>\n",
       "      <td>chevrolet chevelle malibu</td>\n",
       "    </tr>\n",
       "    <tr>\n",
       "      <th>1</th>\n",
       "      <td>15.0</td>\n",
       "      <td>8</td>\n",
       "      <td>350.0</td>\n",
       "      <td>165.0</td>\n",
       "      <td>3693</td>\n",
       "      <td>11.5</td>\n",
       "      <td>70</td>\n",
       "      <td>usa</td>\n",
       "      <td>buick skylark 320</td>\n",
       "    </tr>\n",
       "    <tr>\n",
       "      <th>2</th>\n",
       "      <td>18.0</td>\n",
       "      <td>8</td>\n",
       "      <td>318.0</td>\n",
       "      <td>150.0</td>\n",
       "      <td>3436</td>\n",
       "      <td>11.0</td>\n",
       "      <td>70</td>\n",
       "      <td>usa</td>\n",
       "      <td>plymouth satellite</td>\n",
       "    </tr>\n",
       "    <tr>\n",
       "      <th>3</th>\n",
       "      <td>16.0</td>\n",
       "      <td>8</td>\n",
       "      <td>304.0</td>\n",
       "      <td>150.0</td>\n",
       "      <td>3433</td>\n",
       "      <td>12.0</td>\n",
       "      <td>70</td>\n",
       "      <td>usa</td>\n",
       "      <td>amc rebel sst</td>\n",
       "    </tr>\n",
       "    <tr>\n",
       "      <th>4</th>\n",
       "      <td>17.0</td>\n",
       "      <td>8</td>\n",
       "      <td>302.0</td>\n",
       "      <td>140.0</td>\n",
       "      <td>3449</td>\n",
       "      <td>10.5</td>\n",
       "      <td>70</td>\n",
       "      <td>usa</td>\n",
       "      <td>ford torino</td>\n",
       "    </tr>\n",
       "  </tbody>\n",
       "</table>\n",
       "</div>"
      ],
      "text/plain": [
       "    mpg  cylinders  displacement  horsepower  weight  acceleration  \\\n",
       "0  18.0          8         307.0       130.0    3504          12.0   \n",
       "1  15.0          8         350.0       165.0    3693          11.5   \n",
       "2  18.0          8         318.0       150.0    3436          11.0   \n",
       "3  16.0          8         304.0       150.0    3433          12.0   \n",
       "4  17.0          8         302.0       140.0    3449          10.5   \n",
       "\n",
       "   model_year origin                       name  \n",
       "0          70    usa  chevrolet chevelle malibu  \n",
       "1          70    usa          buick skylark 320  \n",
       "2          70    usa         plymouth satellite  \n",
       "3          70    usa              amc rebel sst  \n",
       "4          70    usa                ford torino  "
      ]
     },
     "execution_count": 67,
     "metadata": {},
     "output_type": "execute_result"
    }
   ],
   "source": [
    "data = sns.load_dataset(\"mpg\")\n",
    "data.head()"
   ]
  },
  {
   "cell_type": "code",
   "execution_count": 68,
   "id": "dde4ab4f",
   "metadata": {},
   "outputs": [
    {
     "data": {
      "application/vnd.plotly.v1+json": {
       "config": {
        "plotlyServerURL": "https://plot.ly"
       },
       "data": [
        {
         "alignmentgroup": "True",
         "boxpoints": "all",
         "fillcolor": "rgba(255,255,255,0)",
         "hoveron": "points",
         "hovertemplate": "<b>%{hovertext}</b><br><br>origin=usa<br>horsepower=%{x}<extra></extra>",
         "hovertext": [
          "chevrolet chevelle malibu",
          "buick skylark 320",
          "plymouth satellite",
          "amc rebel sst",
          "ford torino",
          "ford galaxie 500",
          "chevrolet impala",
          "plymouth fury iii",
          "pontiac catalina",
          "amc ambassador dpl",
          "dodge challenger se",
          "plymouth 'cuda 340",
          "chevrolet monte carlo",
          "buick estate wagon (sw)",
          "plymouth duster",
          "amc hornet",
          "ford maverick",
          "amc gremlin",
          "ford f250",
          "chevy c20",
          "dodge d200",
          "hi 1200d",
          "chevrolet vega 2300",
          "ford pinto",
          "amc gremlin",
          "plymouth satellite custom",
          "chevrolet chevelle malibu",
          "ford torino 500",
          "amc matador",
          "chevrolet impala",
          "pontiac catalina brougham",
          "ford galaxie 500",
          "plymouth fury iii",
          "dodge monaco (sw)",
          "ford country squire (sw)",
          "pontiac safari (sw)",
          "amc hornet sportabout (sw)",
          "chevrolet vega (sw)",
          "pontiac firebird",
          "ford mustang",
          "mercury capri 2000",
          "plymouth cricket",
          "dodge colt hardtop",
          "chevrolet vega",
          "ford pinto runabout",
          "chevrolet impala",
          "pontiac catalina",
          "plymouth fury iii",
          "ford galaxie 500",
          "amc ambassador sst",
          "mercury marquis",
          "buick lesabre custom",
          "oldsmobile delta 88 royale",
          "chrysler newport royal",
          "amc matador (sw)",
          "chevrolet chevelle concours (sw)",
          "ford gran torino (sw)",
          "plymouth satellite custom (sw)",
          "ford pinto (sw)",
          "dodge colt (sw)",
          "buick century 350",
          "amc matador",
          "chevrolet malibu",
          "ford gran torino",
          "dodge coronet custom",
          "mercury marquis brougham",
          "chevrolet caprice classic",
          "ford ltd",
          "plymouth fury gran sedan",
          "chrysler new yorker brougham",
          "buick electra 225 custom",
          "amc ambassador brougham",
          "plymouth valiant",
          "chevrolet nova custom",
          "amc hornet",
          "ford maverick",
          "plymouth duster",
          "chevrolet impala",
          "ford country",
          "plymouth custom suburb",
          "oldsmobile vista cruiser",
          "amc gremlin",
          "chevrolet vega",
          "ford pinto",
          "mercury capri v6",
          "chevrolet monte carlo s",
          "pontiac grand prix",
          "dodge dart custom",
          "oldsmobile omega",
          "plymouth duster",
          "ford maverick",
          "amc hornet",
          "chevrolet nova",
          "ford pinto",
          "chevrolet vega",
          "chevrolet chevelle malibu classic",
          "amc matador",
          "plymouth satellite sebring",
          "ford gran torino",
          "buick century luxus (sw)",
          "dodge coronet custom (sw)",
          "ford gran torino (sw)",
          "amc matador (sw)",
          "dodge colt",
          "plymouth valiant custom",
          "chevrolet nova",
          "mercury monarch",
          "ford maverick",
          "pontiac catalina",
          "chevrolet bel air",
          "plymouth grand fury",
          "ford ltd",
          "buick century",
          "chevroelt chevelle malibu",
          "amc matador",
          "plymouth fury",
          "buick skyhawk",
          "chevrolet monza 2+2",
          "ford mustang ii",
          "ford pinto",
          "amc gremlin",
          "pontiac astro",
          "ford pinto",
          "amc pacer",
          "capri ii",
          "dodge colt",
          "chevrolet chevelle malibu classic",
          "dodge coronet brougham",
          "amc matador",
          "ford gran torino",
          "plymouth valiant",
          "chevrolet nova",
          "ford maverick",
          "amc hornet",
          "chevrolet chevette",
          "chevrolet woody",
          "dodge aspen se",
          "ford granada ghia",
          "pontiac ventura sj",
          "amc pacer d/l",
          "ford pinto",
          "plymouth volare premier v8",
          "cadillac seville",
          "chevy c10",
          "ford f108",
          "dodge d100",
          "buick opel isuzu deluxe",
          "plymouth arrow gs",
          "chevrolet caprice classic",
          "oldsmobile cutlass supreme",
          "dodge monaco brougham",
          "mercury cougar brougham",
          "chevrolet concours",
          "buick skylark",
          "plymouth volare custom",
          "ford granada",
          "pontiac grand prix lj",
          "chevrolet monte carlo landau",
          "chrysler cordoba",
          "ford thunderbird",
          "pontiac sunbird coupe",
          "ford mustang ii 2+2",
          "chevrolet chevette",
          "dodge colt m/m",
          "ford fiesta",
          "oldsmobile cutlass salon brougham",
          "dodge diplomat",
          "mercury monarch ghia",
          "pontiac phoenix lj",
          "chevrolet malibu",
          "ford fairmont (auto)",
          "ford fairmont (man)",
          "plymouth volare",
          "amc concord",
          "buick century special",
          "mercury zephyr",
          "dodge aspen",
          "amc concord d/l",
          "chevrolet monte carlo landau",
          "buick regal sport coupe (turbo)",
          "ford futura",
          "dodge magnum xe",
          "chevrolet chevette",
          "dodge omni",
          "plymouth sapporo",
          "oldsmobile starfire sx",
          "pontiac lemans v6",
          "mercury zephyr 6",
          "ford fairmont 4",
          "amc concord dl 6",
          "dodge aspen 6",
          "chevrolet caprice classic",
          "ford ltd landau",
          "mercury grand marquis",
          "dodge st. regis",
          "buick estate wagon (sw)",
          "ford country squire (sw)",
          "chevrolet malibu classic (sw)",
          "chrysler lebaron town @ country (sw)",
          "dodge colt hatchback custom",
          "amc spirit dl",
          "cadillac eldorado",
          "oldsmobile cutlass salon brougham",
          "plymouth horizon",
          "plymouth horizon tc3",
          "buick skylark limited",
          "chevrolet citation",
          "oldsmobile omega brougham",
          "pontiac phoenix",
          "chevrolet chevette",
          "chevrolet citation",
          "ford fairmont",
          "amc concord",
          "dodge aspen",
          "dodge colt",
          "ford mustang cobra",
          "plymouth reliant",
          "buick skylark",
          "dodge aries wagon (sw)",
          "chevrolet citation",
          "plymouth reliant",
          "plymouth champ",
          "plymouth horizon 4",
          "ford escort 4w",
          "ford escort 2h",
          "buick century",
          "oldsmobile cutlass ls",
          "ford granada gl",
          "chrysler lebaron salon",
          "chevrolet cavalier",
          "chevrolet cavalier wagon",
          "chevrolet cavalier 2-door",
          "pontiac j2000 se hatchback",
          "dodge aries se",
          "pontiac phoenix",
          "ford fairmont futura",
          "amc concord dl",
          "plymouth horizon miser",
          "mercury lynx l",
          "buick century limited",
          "oldsmobile cutlass ciera (diesel)",
          "chrysler lebaron medallion",
          "ford granada l",
          "dodge charger 2.2",
          "chevrolet camaro",
          "ford mustang gl",
          "dodge rampage",
          "ford ranger",
          "chevy s-10"
         ],
         "legendgroup": "usa",
         "line": {
          "color": "rgba(255,255,255,0)"
         },
         "marker": {
          "color": "#636efa"
         },
         "name": "usa",
         "offsetgroup": "usa",
         "orientation": "h",
         "pointpos": 0,
         "showlegend": true,
         "type": "box",
         "x": [
          130,
          165,
          150,
          150,
          140,
          198,
          220,
          215,
          225,
          190,
          170,
          160,
          150,
          225,
          95,
          97,
          85,
          90,
          215,
          200,
          210,
          193,
          90,
          null,
          100,
          105,
          100,
          88,
          100,
          165,
          175,
          153,
          150,
          180,
          170,
          175,
          110,
          72,
          100,
          88,
          86,
          70,
          80,
          90,
          86,
          165,
          175,
          150,
          153,
          150,
          208,
          155,
          160,
          190,
          150,
          130,
          140,
          150,
          86,
          80,
          175,
          150,
          145,
          137,
          150,
          198,
          150,
          158,
          150,
          215,
          225,
          175,
          105,
          100,
          100,
          88,
          95,
          150,
          167,
          170,
          180,
          100,
          72,
          85,
          107,
          145,
          230,
          150,
          180,
          95,
          null,
          100,
          100,
          80,
          75,
          100,
          110,
          105,
          140,
          150,
          150,
          140,
          150,
          75,
          95,
          105,
          72,
          72,
          170,
          145,
          150,
          148,
          110,
          105,
          110,
          95,
          110,
          110,
          129,
          83,
          100,
          78,
          97,
          90,
          92,
          79,
          140,
          150,
          120,
          152,
          100,
          105,
          81,
          90,
          52,
          60,
          100,
          78,
          110,
          95,
          72,
          150,
          180,
          145,
          130,
          150,
          80,
          96,
          145,
          110,
          145,
          130,
          110,
          105,
          100,
          98,
          180,
          170,
          190,
          149,
          88,
          89,
          63,
          83,
          66,
          110,
          140,
          139,
          105,
          95,
          85,
          88,
          100,
          90,
          105,
          85,
          110,
          120,
          145,
          165,
          139,
          140,
          68,
          75,
          105,
          85,
          115,
          85,
          88,
          90,
          110,
          130,
          129,
          138,
          135,
          155,
          142,
          125,
          150,
          80,
          80,
          125,
          90,
          70,
          70,
          90,
          115,
          115,
          90,
          70,
          90,
          88,
          90,
          90,
          105,
          null,
          84,
          84,
          92,
          110,
          84,
          64,
          63,
          65,
          65,
          110,
          105,
          88,
          85,
          88,
          88,
          88,
          85,
          84,
          90,
          92,
          null,
          63,
          70,
          110,
          85,
          92,
          112,
          84,
          90,
          86,
          84,
          79,
          82
         ],
         "x0": " ",
         "xaxis": "x",
         "y0": " ",
         "yaxis": "y"
        },
        {
         "alignmentgroup": "True",
         "boxpoints": "all",
         "fillcolor": "rgba(255,255,255,0)",
         "hoveron": "points",
         "hovertemplate": "<b>%{hovertext}</b><br><br>origin=japan<br>horsepower=%{x}<extra></extra>",
         "hovertext": [
          "toyota corona mark ii",
          "datsun pl510",
          "datsun pl510",
          "toyota corona",
          "toyota corolla 1200",
          "datsun 1200",
          "toyota corona hardtop",
          "mazda rx2 coupe",
          "datsun 510 (sw)",
          "toyouta corona mark ii (sw)",
          "toyota corolla 1600 (sw)",
          "toyota carina",
          "datsun 610",
          "maxda rx3",
          "toyota mark ii",
          "datsun b210",
          "toyota corolla 1200",
          "toyota corona",
          "datsun 710",
          "honda civic",
          "subaru",
          "toyota corolla",
          "toyota corona",
          "datsun 710",
          "honda civic cvcc",
          "honda civic",
          "datsun b-210",
          "toyota corolla",
          "toyota mark ii",
          "honda accord cvcc",
          "datsun f-10 hatchback",
          "toyota corolla liftback",
          "subaru dl",
          "datsun 810",
          "mazda rx-4",
          "mazda glc deluxe",
          "datsun b210 gx",
          "honda civic cvcc",
          "toyota corona",
          "datsun 510",
          "toyota celica gt liftback",
          "datsun 200-sx",
          "honda accord lx",
          "maxda glc deluxe",
          "datsun 210",
          "toyota corolla tercel",
          "datsun 310",
          "toyota corona liftback",
          "mazda 626",
          "datsun 510 hatchback",
          "toyota corolla",
          "mazda glc",
          "datsun 210",
          "honda civic 1500 gl",
          "subaru dl",
          "datsun 280-zx",
          "mazda rx-7 gs",
          "honda accord",
          "toyota starlet",
          "honda civic 1300",
          "subaru",
          "datsun 210 mpg",
          "toyota tercel",
          "mazda glc 4",
          "honda prelude",
          "toyota corolla",
          "datsun 200sx",
          "mazda 626",
          "toyota cressida",
          "datsun 810 maxima",
          "mazda glc custom l",
          "mazda glc custom",
          "nissan stanza xe",
          "honda accord",
          "toyota corolla",
          "honda civic",
          "honda civic (auto)",
          "datsun 310 gx",
          "toyota celica gt"
         ],
         "legendgroup": "japan",
         "line": {
          "color": "rgba(255,255,255,0)"
         },
         "marker": {
          "color": "#EF553B"
         },
         "name": "japan",
         "offsetgroup": "japan",
         "orientation": "h",
         "pointpos": 0,
         "showlegend": true,
         "type": "box",
         "x": [
          95,
          88,
          88,
          95,
          65,
          69,
          95,
          97,
          92,
          97,
          88,
          88,
          94,
          90,
          122,
          67,
          65,
          52,
          61,
          97,
          93,
          75,
          96,
          97,
          53,
          53,
          70,
          75,
          108,
          68,
          70,
          75,
          67,
          97,
          110,
          52,
          70,
          60,
          95,
          97,
          95,
          97,
          68,
          65,
          65,
          60,
          65,
          90,
          75,
          92,
          75,
          65,
          65,
          67,
          67,
          132,
          100,
          72,
          58,
          60,
          67,
          65,
          62,
          68,
          75,
          75,
          100,
          74,
          116,
          120,
          68,
          68,
          88,
          75,
          70,
          67,
          67,
          67,
          96
         ],
         "x0": " ",
         "xaxis": "x",
         "y0": " ",
         "yaxis": "y"
        },
        {
         "alignmentgroup": "True",
         "boxpoints": "all",
         "fillcolor": "rgba(255,255,255,0)",
         "hoveron": "points",
         "hovertemplate": "<b>%{hovertext}</b><br><br>origin=europe<br>horsepower=%{x}<extra></extra>",
         "hovertext": [
          "volkswagen 1131 deluxe sedan",
          "peugeot 504",
          "audi 100 ls",
          "saab 99e",
          "bmw 2002",
          "opel 1900",
          "peugeot 304",
          "fiat 124b",
          "volkswagen model 111",
          "volkswagen type 3",
          "volvo 145e (sw)",
          "volkswagen 411 (sw)",
          "peugeot 504 (sw)",
          "renault 12 (sw)",
          "volkswagen super beetle",
          "fiat 124 sport coupe",
          "fiat 128",
          "opel manta",
          "audi 100ls",
          "volvo 144ea",
          "saab 99le",
          "audi fox",
          "volkswagen dasher",
          "opel manta",
          "fiat 128",
          "fiat 124 tc",
          "fiat x1.9",
          "volkswagen dasher",
          "volkswagen rabbit",
          "audi 100ls",
          "peugeot 504",
          "volvo 244dl",
          "saab 99le",
          "fiat 131",
          "opel 1900",
          "renault 12tl",
          "vw rabbit",
          "volkswagen rabbit",
          "volvo 245",
          "peugeot 504",
          "mercedes-benz 280s",
          "renault 5 gtl",
          "volkswagen rabbit custom",
          "volkswagen dasher",
          "bmw 320i",
          "volkswagen rabbit custom diesel",
          "audi 5000",
          "volvo 264gl",
          "saab 99gle",
          "peugeot 604sl",
          "volkswagen scirocco",
          "vw rabbit custom",
          "mercedes benz 300d",
          "peugeot 504",
          "fiat strada custom",
          "vw rabbit",
          "audi 4000",
          "vw rabbit c (diesel)",
          "vw dasher (diesel)",
          "audi 5000s (diesel)",
          "mercedes-benz 240d",
          "renault lecar deluxe",
          "vokswagen rabbit",
          "triumph tr7 coupe",
          "volkswagen jetta",
          "renault 18i",
          "peugeot 505s turbo diesel",
          "volvo diesel",
          "volkswagen rabbit l",
          "vw pickup"
         ],
         "legendgroup": "europe",
         "line": {
          "color": "rgba(255,255,255,0)"
         },
         "marker": {
          "color": "#00cc96"
         },
         "name": "europe",
         "offsetgroup": "europe",
         "orientation": "h",
         "pointpos": 0,
         "showlegend": true,
         "type": "box",
         "x": [
          46,
          87,
          90,
          95,
          113,
          90,
          70,
          76,
          60,
          54,
          112,
          76,
          87,
          69,
          46,
          90,
          49,
          75,
          91,
          112,
          110,
          83,
          67,
          78,
          75,
          75,
          67,
          71,
          70,
          95,
          88,
          98,
          115,
          86,
          81,
          83,
          70,
          71,
          102,
          88,
          120,
          58,
          78,
          78,
          110,
          48,
          103,
          125,
          115,
          133,
          71,
          71,
          77,
          71,
          69,
          76,
          78,
          48,
          48,
          67,
          67,
          null,
          62,
          88,
          74,
          null,
          80,
          76,
          74,
          52
         ],
         "x0": " ",
         "xaxis": "x",
         "y0": " ",
         "yaxis": "y"
        }
       ],
       "layout": {
        "boxmode": "group",
        "legend": {
         "title": {
          "text": "origin"
         },
         "tracegroupgap": 0
        },
        "margin": {
         "t": 60
        },
        "template": {
         "data": {
          "bar": [
           {
            "error_x": {
             "color": "#2a3f5f"
            },
            "error_y": {
             "color": "#2a3f5f"
            },
            "marker": {
             "line": {
              "color": "#E5ECF6",
              "width": 0.5
             },
             "pattern": {
              "fillmode": "overlay",
              "size": 10,
              "solidity": 0.2
             }
            },
            "type": "bar"
           }
          ],
          "barpolar": [
           {
            "marker": {
             "line": {
              "color": "#E5ECF6",
              "width": 0.5
             },
             "pattern": {
              "fillmode": "overlay",
              "size": 10,
              "solidity": 0.2
             }
            },
            "type": "barpolar"
           }
          ],
          "carpet": [
           {
            "aaxis": {
             "endlinecolor": "#2a3f5f",
             "gridcolor": "white",
             "linecolor": "white",
             "minorgridcolor": "white",
             "startlinecolor": "#2a3f5f"
            },
            "baxis": {
             "endlinecolor": "#2a3f5f",
             "gridcolor": "white",
             "linecolor": "white",
             "minorgridcolor": "white",
             "startlinecolor": "#2a3f5f"
            },
            "type": "carpet"
           }
          ],
          "choropleth": [
           {
            "colorbar": {
             "outlinewidth": 0,
             "ticks": ""
            },
            "type": "choropleth"
           }
          ],
          "contour": [
           {
            "colorbar": {
             "outlinewidth": 0,
             "ticks": ""
            },
            "colorscale": [
             [
              0,
              "#0d0887"
             ],
             [
              0.1111111111111111,
              "#46039f"
             ],
             [
              0.2222222222222222,
              "#7201a8"
             ],
             [
              0.3333333333333333,
              "#9c179e"
             ],
             [
              0.4444444444444444,
              "#bd3786"
             ],
             [
              0.5555555555555556,
              "#d8576b"
             ],
             [
              0.6666666666666666,
              "#ed7953"
             ],
             [
              0.7777777777777778,
              "#fb9f3a"
             ],
             [
              0.8888888888888888,
              "#fdca26"
             ],
             [
              1,
              "#f0f921"
             ]
            ],
            "type": "contour"
           }
          ],
          "contourcarpet": [
           {
            "colorbar": {
             "outlinewidth": 0,
             "ticks": ""
            },
            "type": "contourcarpet"
           }
          ],
          "heatmap": [
           {
            "colorbar": {
             "outlinewidth": 0,
             "ticks": ""
            },
            "colorscale": [
             [
              0,
              "#0d0887"
             ],
             [
              0.1111111111111111,
              "#46039f"
             ],
             [
              0.2222222222222222,
              "#7201a8"
             ],
             [
              0.3333333333333333,
              "#9c179e"
             ],
             [
              0.4444444444444444,
              "#bd3786"
             ],
             [
              0.5555555555555556,
              "#d8576b"
             ],
             [
              0.6666666666666666,
              "#ed7953"
             ],
             [
              0.7777777777777778,
              "#fb9f3a"
             ],
             [
              0.8888888888888888,
              "#fdca26"
             ],
             [
              1,
              "#f0f921"
             ]
            ],
            "type": "heatmap"
           }
          ],
          "heatmapgl": [
           {
            "colorbar": {
             "outlinewidth": 0,
             "ticks": ""
            },
            "colorscale": [
             [
              0,
              "#0d0887"
             ],
             [
              0.1111111111111111,
              "#46039f"
             ],
             [
              0.2222222222222222,
              "#7201a8"
             ],
             [
              0.3333333333333333,
              "#9c179e"
             ],
             [
              0.4444444444444444,
              "#bd3786"
             ],
             [
              0.5555555555555556,
              "#d8576b"
             ],
             [
              0.6666666666666666,
              "#ed7953"
             ],
             [
              0.7777777777777778,
              "#fb9f3a"
             ],
             [
              0.8888888888888888,
              "#fdca26"
             ],
             [
              1,
              "#f0f921"
             ]
            ],
            "type": "heatmapgl"
           }
          ],
          "histogram": [
           {
            "marker": {
             "pattern": {
              "fillmode": "overlay",
              "size": 10,
              "solidity": 0.2
             }
            },
            "type": "histogram"
           }
          ],
          "histogram2d": [
           {
            "colorbar": {
             "outlinewidth": 0,
             "ticks": ""
            },
            "colorscale": [
             [
              0,
              "#0d0887"
             ],
             [
              0.1111111111111111,
              "#46039f"
             ],
             [
              0.2222222222222222,
              "#7201a8"
             ],
             [
              0.3333333333333333,
              "#9c179e"
             ],
             [
              0.4444444444444444,
              "#bd3786"
             ],
             [
              0.5555555555555556,
              "#d8576b"
             ],
             [
              0.6666666666666666,
              "#ed7953"
             ],
             [
              0.7777777777777778,
              "#fb9f3a"
             ],
             [
              0.8888888888888888,
              "#fdca26"
             ],
             [
              1,
              "#f0f921"
             ]
            ],
            "type": "histogram2d"
           }
          ],
          "histogram2dcontour": [
           {
            "colorbar": {
             "outlinewidth": 0,
             "ticks": ""
            },
            "colorscale": [
             [
              0,
              "#0d0887"
             ],
             [
              0.1111111111111111,
              "#46039f"
             ],
             [
              0.2222222222222222,
              "#7201a8"
             ],
             [
              0.3333333333333333,
              "#9c179e"
             ],
             [
              0.4444444444444444,
              "#bd3786"
             ],
             [
              0.5555555555555556,
              "#d8576b"
             ],
             [
              0.6666666666666666,
              "#ed7953"
             ],
             [
              0.7777777777777778,
              "#fb9f3a"
             ],
             [
              0.8888888888888888,
              "#fdca26"
             ],
             [
              1,
              "#f0f921"
             ]
            ],
            "type": "histogram2dcontour"
           }
          ],
          "mesh3d": [
           {
            "colorbar": {
             "outlinewidth": 0,
             "ticks": ""
            },
            "type": "mesh3d"
           }
          ],
          "parcoords": [
           {
            "line": {
             "colorbar": {
              "outlinewidth": 0,
              "ticks": ""
             }
            },
            "type": "parcoords"
           }
          ],
          "pie": [
           {
            "automargin": true,
            "type": "pie"
           }
          ],
          "scatter": [
           {
            "fillpattern": {
             "fillmode": "overlay",
             "size": 10,
             "solidity": 0.2
            },
            "type": "scatter"
           }
          ],
          "scatter3d": [
           {
            "line": {
             "colorbar": {
              "outlinewidth": 0,
              "ticks": ""
             }
            },
            "marker": {
             "colorbar": {
              "outlinewidth": 0,
              "ticks": ""
             }
            },
            "type": "scatter3d"
           }
          ],
          "scattercarpet": [
           {
            "marker": {
             "colorbar": {
              "outlinewidth": 0,
              "ticks": ""
             }
            },
            "type": "scattercarpet"
           }
          ],
          "scattergeo": [
           {
            "marker": {
             "colorbar": {
              "outlinewidth": 0,
              "ticks": ""
             }
            },
            "type": "scattergeo"
           }
          ],
          "scattergl": [
           {
            "marker": {
             "colorbar": {
              "outlinewidth": 0,
              "ticks": ""
             }
            },
            "type": "scattergl"
           }
          ],
          "scattermapbox": [
           {
            "marker": {
             "colorbar": {
              "outlinewidth": 0,
              "ticks": ""
             }
            },
            "type": "scattermapbox"
           }
          ],
          "scatterpolar": [
           {
            "marker": {
             "colorbar": {
              "outlinewidth": 0,
              "ticks": ""
             }
            },
            "type": "scatterpolar"
           }
          ],
          "scatterpolargl": [
           {
            "marker": {
             "colorbar": {
              "outlinewidth": 0,
              "ticks": ""
             }
            },
            "type": "scatterpolargl"
           }
          ],
          "scatterternary": [
           {
            "marker": {
             "colorbar": {
              "outlinewidth": 0,
              "ticks": ""
             }
            },
            "type": "scatterternary"
           }
          ],
          "surface": [
           {
            "colorbar": {
             "outlinewidth": 0,
             "ticks": ""
            },
            "colorscale": [
             [
              0,
              "#0d0887"
             ],
             [
              0.1111111111111111,
              "#46039f"
             ],
             [
              0.2222222222222222,
              "#7201a8"
             ],
             [
              0.3333333333333333,
              "#9c179e"
             ],
             [
              0.4444444444444444,
              "#bd3786"
             ],
             [
              0.5555555555555556,
              "#d8576b"
             ],
             [
              0.6666666666666666,
              "#ed7953"
             ],
             [
              0.7777777777777778,
              "#fb9f3a"
             ],
             [
              0.8888888888888888,
              "#fdca26"
             ],
             [
              1,
              "#f0f921"
             ]
            ],
            "type": "surface"
           }
          ],
          "table": [
           {
            "cells": {
             "fill": {
              "color": "#EBF0F8"
             },
             "line": {
              "color": "white"
             }
            },
            "header": {
             "fill": {
              "color": "#C8D4E3"
             },
             "line": {
              "color": "white"
             }
            },
            "type": "table"
           }
          ]
         },
         "layout": {
          "annotationdefaults": {
           "arrowcolor": "#2a3f5f",
           "arrowhead": 0,
           "arrowwidth": 1
          },
          "autotypenumbers": "strict",
          "coloraxis": {
           "colorbar": {
            "outlinewidth": 0,
            "ticks": ""
           }
          },
          "colorscale": {
           "diverging": [
            [
             0,
             "#8e0152"
            ],
            [
             0.1,
             "#c51b7d"
            ],
            [
             0.2,
             "#de77ae"
            ],
            [
             0.3,
             "#f1b6da"
            ],
            [
             0.4,
             "#fde0ef"
            ],
            [
             0.5,
             "#f7f7f7"
            ],
            [
             0.6,
             "#e6f5d0"
            ],
            [
             0.7,
             "#b8e186"
            ],
            [
             0.8,
             "#7fbc41"
            ],
            [
             0.9,
             "#4d9221"
            ],
            [
             1,
             "#276419"
            ]
           ],
           "sequential": [
            [
             0,
             "#0d0887"
            ],
            [
             0.1111111111111111,
             "#46039f"
            ],
            [
             0.2222222222222222,
             "#7201a8"
            ],
            [
             0.3333333333333333,
             "#9c179e"
            ],
            [
             0.4444444444444444,
             "#bd3786"
            ],
            [
             0.5555555555555556,
             "#d8576b"
            ],
            [
             0.6666666666666666,
             "#ed7953"
            ],
            [
             0.7777777777777778,
             "#fb9f3a"
            ],
            [
             0.8888888888888888,
             "#fdca26"
            ],
            [
             1,
             "#f0f921"
            ]
           ],
           "sequentialminus": [
            [
             0,
             "#0d0887"
            ],
            [
             0.1111111111111111,
             "#46039f"
            ],
            [
             0.2222222222222222,
             "#7201a8"
            ],
            [
             0.3333333333333333,
             "#9c179e"
            ],
            [
             0.4444444444444444,
             "#bd3786"
            ],
            [
             0.5555555555555556,
             "#d8576b"
            ],
            [
             0.6666666666666666,
             "#ed7953"
            ],
            [
             0.7777777777777778,
             "#fb9f3a"
            ],
            [
             0.8888888888888888,
             "#fdca26"
            ],
            [
             1,
             "#f0f921"
            ]
           ]
          },
          "colorway": [
           "#636efa",
           "#EF553B",
           "#00cc96",
           "#ab63fa",
           "#FFA15A",
           "#19d3f3",
           "#FF6692",
           "#B6E880",
           "#FF97FF",
           "#FECB52"
          ],
          "font": {
           "color": "#2a3f5f"
          },
          "geo": {
           "bgcolor": "white",
           "lakecolor": "white",
           "landcolor": "#E5ECF6",
           "showlakes": true,
           "showland": true,
           "subunitcolor": "white"
          },
          "hoverlabel": {
           "align": "left"
          },
          "hovermode": "closest",
          "mapbox": {
           "style": "light"
          },
          "paper_bgcolor": "white",
          "plot_bgcolor": "#E5ECF6",
          "polar": {
           "angularaxis": {
            "gridcolor": "white",
            "linecolor": "white",
            "ticks": ""
           },
           "bgcolor": "#E5ECF6",
           "radialaxis": {
            "gridcolor": "white",
            "linecolor": "white",
            "ticks": ""
           }
          },
          "scene": {
           "xaxis": {
            "backgroundcolor": "#E5ECF6",
            "gridcolor": "white",
            "gridwidth": 2,
            "linecolor": "white",
            "showbackground": true,
            "ticks": "",
            "zerolinecolor": "white"
           },
           "yaxis": {
            "backgroundcolor": "#E5ECF6",
            "gridcolor": "white",
            "gridwidth": 2,
            "linecolor": "white",
            "showbackground": true,
            "ticks": "",
            "zerolinecolor": "white"
           },
           "zaxis": {
            "backgroundcolor": "#E5ECF6",
            "gridcolor": "white",
            "gridwidth": 2,
            "linecolor": "white",
            "showbackground": true,
            "ticks": "",
            "zerolinecolor": "white"
           }
          },
          "shapedefaults": {
           "line": {
            "color": "#2a3f5f"
           }
          },
          "ternary": {
           "aaxis": {
            "gridcolor": "white",
            "linecolor": "white",
            "ticks": ""
           },
           "baxis": {
            "gridcolor": "white",
            "linecolor": "white",
            "ticks": ""
           },
           "bgcolor": "#E5ECF6",
           "caxis": {
            "gridcolor": "white",
            "linecolor": "white",
            "ticks": ""
           }
          },
          "title": {
           "x": 0.05
          },
          "xaxis": {
           "automargin": true,
           "gridcolor": "white",
           "linecolor": "white",
           "ticks": "",
           "title": {
            "standoff": 15
           },
           "zerolinecolor": "white",
           "zerolinewidth": 2
          },
          "yaxis": {
           "automargin": true,
           "gridcolor": "white",
           "linecolor": "white",
           "ticks": "",
           "title": {
            "standoff": 15
           },
           "zerolinecolor": "white",
           "zerolinewidth": 2
          }
         }
        },
        "xaxis": {
         "anchor": "y",
         "domain": [
          0,
          1
         ],
         "title": {
          "text": "horsepower"
         }
        },
        "yaxis": {
         "anchor": "x",
         "domain": [
          0,
          1
         ]
        }
       }
      },
      "text/html": [
       "<div>                            <div id=\"79317b28-ea9e-490c-ac76-af709e204406\" class=\"plotly-graph-div\" style=\"height:525px; width:100%;\"></div>            <script type=\"text/javascript\">                require([\"plotly\"], function(Plotly) {                    window.PLOTLYENV=window.PLOTLYENV || {};                                    if (document.getElementById(\"79317b28-ea9e-490c-ac76-af709e204406\")) {                    Plotly.newPlot(                        \"79317b28-ea9e-490c-ac76-af709e204406\",                        [{\"alignmentgroup\":\"True\",\"boxpoints\":\"all\",\"fillcolor\":\"rgba(255,255,255,0)\",\"hoveron\":\"points\",\"hovertemplate\":\"<b>%{hovertext}</b><br><br>origin=usa<br>horsepower=%{x}<extra></extra>\",\"hovertext\":[\"chevrolet chevelle malibu\",\"buick skylark 320\",\"plymouth satellite\",\"amc rebel sst\",\"ford torino\",\"ford galaxie 500\",\"chevrolet impala\",\"plymouth fury iii\",\"pontiac catalina\",\"amc ambassador dpl\",\"dodge challenger se\",\"plymouth 'cuda 340\",\"chevrolet monte carlo\",\"buick estate wagon (sw)\",\"plymouth duster\",\"amc hornet\",\"ford maverick\",\"amc gremlin\",\"ford f250\",\"chevy c20\",\"dodge d200\",\"hi 1200d\",\"chevrolet vega 2300\",\"ford pinto\",\"amc gremlin\",\"plymouth satellite custom\",\"chevrolet chevelle malibu\",\"ford torino 500\",\"amc matador\",\"chevrolet impala\",\"pontiac catalina brougham\",\"ford galaxie 500\",\"plymouth fury iii\",\"dodge monaco (sw)\",\"ford country squire (sw)\",\"pontiac safari (sw)\",\"amc hornet sportabout (sw)\",\"chevrolet vega (sw)\",\"pontiac firebird\",\"ford mustang\",\"mercury capri 2000\",\"plymouth cricket\",\"dodge colt hardtop\",\"chevrolet vega\",\"ford pinto runabout\",\"chevrolet impala\",\"pontiac catalina\",\"plymouth fury iii\",\"ford galaxie 500\",\"amc ambassador sst\",\"mercury marquis\",\"buick lesabre custom\",\"oldsmobile delta 88 royale\",\"chrysler newport royal\",\"amc matador (sw)\",\"chevrolet chevelle concours (sw)\",\"ford gran torino (sw)\",\"plymouth satellite custom (sw)\",\"ford pinto (sw)\",\"dodge colt (sw)\",\"buick century 350\",\"amc matador\",\"chevrolet malibu\",\"ford gran torino\",\"dodge coronet custom\",\"mercury marquis brougham\",\"chevrolet caprice classic\",\"ford ltd\",\"plymouth fury gran sedan\",\"chrysler new yorker brougham\",\"buick electra 225 custom\",\"amc ambassador brougham\",\"plymouth valiant\",\"chevrolet nova custom\",\"amc hornet\",\"ford maverick\",\"plymouth duster\",\"chevrolet impala\",\"ford country\",\"plymouth custom suburb\",\"oldsmobile vista cruiser\",\"amc gremlin\",\"chevrolet vega\",\"ford pinto\",\"mercury capri v6\",\"chevrolet monte carlo s\",\"pontiac grand prix\",\"dodge dart custom\",\"oldsmobile omega\",\"plymouth duster\",\"ford maverick\",\"amc hornet\",\"chevrolet nova\",\"ford pinto\",\"chevrolet vega\",\"chevrolet chevelle malibu classic\",\"amc matador\",\"plymouth satellite sebring\",\"ford gran torino\",\"buick century luxus (sw)\",\"dodge coronet custom (sw)\",\"ford gran torino (sw)\",\"amc matador (sw)\",\"dodge colt\",\"plymouth valiant custom\",\"chevrolet nova\",\"mercury monarch\",\"ford maverick\",\"pontiac catalina\",\"chevrolet bel air\",\"plymouth grand fury\",\"ford ltd\",\"buick century\",\"chevroelt chevelle malibu\",\"amc matador\",\"plymouth fury\",\"buick skyhawk\",\"chevrolet monza 2+2\",\"ford mustang ii\",\"ford pinto\",\"amc gremlin\",\"pontiac astro\",\"ford pinto\",\"amc pacer\",\"capri ii\",\"dodge colt\",\"chevrolet chevelle malibu classic\",\"dodge coronet brougham\",\"amc matador\",\"ford gran torino\",\"plymouth valiant\",\"chevrolet nova\",\"ford maverick\",\"amc hornet\",\"chevrolet chevette\",\"chevrolet woody\",\"dodge aspen se\",\"ford granada ghia\",\"pontiac ventura sj\",\"amc pacer d/l\",\"ford pinto\",\"plymouth volare premier v8\",\"cadillac seville\",\"chevy c10\",\"ford f108\",\"dodge d100\",\"buick opel isuzu deluxe\",\"plymouth arrow gs\",\"chevrolet caprice classic\",\"oldsmobile cutlass supreme\",\"dodge monaco brougham\",\"mercury cougar brougham\",\"chevrolet concours\",\"buick skylark\",\"plymouth volare custom\",\"ford granada\",\"pontiac grand prix lj\",\"chevrolet monte carlo landau\",\"chrysler cordoba\",\"ford thunderbird\",\"pontiac sunbird coupe\",\"ford mustang ii 2+2\",\"chevrolet chevette\",\"dodge colt m/m\",\"ford fiesta\",\"oldsmobile cutlass salon brougham\",\"dodge diplomat\",\"mercury monarch ghia\",\"pontiac phoenix lj\",\"chevrolet malibu\",\"ford fairmont (auto)\",\"ford fairmont (man)\",\"plymouth volare\",\"amc concord\",\"buick century special\",\"mercury zephyr\",\"dodge aspen\",\"amc concord d/l\",\"chevrolet monte carlo landau\",\"buick regal sport coupe (turbo)\",\"ford futura\",\"dodge magnum xe\",\"chevrolet chevette\",\"dodge omni\",\"plymouth sapporo\",\"oldsmobile starfire sx\",\"pontiac lemans v6\",\"mercury zephyr 6\",\"ford fairmont 4\",\"amc concord dl 6\",\"dodge aspen 6\",\"chevrolet caprice classic\",\"ford ltd landau\",\"mercury grand marquis\",\"dodge st. regis\",\"buick estate wagon (sw)\",\"ford country squire (sw)\",\"chevrolet malibu classic (sw)\",\"chrysler lebaron town @ country (sw)\",\"dodge colt hatchback custom\",\"amc spirit dl\",\"cadillac eldorado\",\"oldsmobile cutlass salon brougham\",\"plymouth horizon\",\"plymouth horizon tc3\",\"buick skylark limited\",\"chevrolet citation\",\"oldsmobile omega brougham\",\"pontiac phoenix\",\"chevrolet chevette\",\"chevrolet citation\",\"ford fairmont\",\"amc concord\",\"dodge aspen\",\"dodge colt\",\"ford mustang cobra\",\"plymouth reliant\",\"buick skylark\",\"dodge aries wagon (sw)\",\"chevrolet citation\",\"plymouth reliant\",\"plymouth champ\",\"plymouth horizon 4\",\"ford escort 4w\",\"ford escort 2h\",\"buick century\",\"oldsmobile cutlass ls\",\"ford granada gl\",\"chrysler lebaron salon\",\"chevrolet cavalier\",\"chevrolet cavalier wagon\",\"chevrolet cavalier 2-door\",\"pontiac j2000 se hatchback\",\"dodge aries se\",\"pontiac phoenix\",\"ford fairmont futura\",\"amc concord dl\",\"plymouth horizon miser\",\"mercury lynx l\",\"buick century limited\",\"oldsmobile cutlass ciera (diesel)\",\"chrysler lebaron medallion\",\"ford granada l\",\"dodge charger 2.2\",\"chevrolet camaro\",\"ford mustang gl\",\"dodge rampage\",\"ford ranger\",\"chevy s-10\"],\"legendgroup\":\"usa\",\"line\":{\"color\":\"rgba(255,255,255,0)\"},\"marker\":{\"color\":\"#636efa\"},\"name\":\"usa\",\"offsetgroup\":\"usa\",\"orientation\":\"h\",\"pointpos\":0,\"showlegend\":true,\"x\":[130.0,165.0,150.0,150.0,140.0,198.0,220.0,215.0,225.0,190.0,170.0,160.0,150.0,225.0,95.0,97.0,85.0,90.0,215.0,200.0,210.0,193.0,90.0,null,100.0,105.0,100.0,88.0,100.0,165.0,175.0,153.0,150.0,180.0,170.0,175.0,110.0,72.0,100.0,88.0,86.0,70.0,80.0,90.0,86.0,165.0,175.0,150.0,153.0,150.0,208.0,155.0,160.0,190.0,150.0,130.0,140.0,150.0,86.0,80.0,175.0,150.0,145.0,137.0,150.0,198.0,150.0,158.0,150.0,215.0,225.0,175.0,105.0,100.0,100.0,88.0,95.0,150.0,167.0,170.0,180.0,100.0,72.0,85.0,107.0,145.0,230.0,150.0,180.0,95.0,null,100.0,100.0,80.0,75.0,100.0,110.0,105.0,140.0,150.0,150.0,140.0,150.0,75.0,95.0,105.0,72.0,72.0,170.0,145.0,150.0,148.0,110.0,105.0,110.0,95.0,110.0,110.0,129.0,83.0,100.0,78.0,97.0,90.0,92.0,79.0,140.0,150.0,120.0,152.0,100.0,105.0,81.0,90.0,52.0,60.0,100.0,78.0,110.0,95.0,72.0,150.0,180.0,145.0,130.0,150.0,80.0,96.0,145.0,110.0,145.0,130.0,110.0,105.0,100.0,98.0,180.0,170.0,190.0,149.0,88.0,89.0,63.0,83.0,66.0,110.0,140.0,139.0,105.0,95.0,85.0,88.0,100.0,90.0,105.0,85.0,110.0,120.0,145.0,165.0,139.0,140.0,68.0,75.0,105.0,85.0,115.0,85.0,88.0,90.0,110.0,130.0,129.0,138.0,135.0,155.0,142.0,125.0,150.0,80.0,80.0,125.0,90.0,70.0,70.0,90.0,115.0,115.0,90.0,70.0,90.0,88.0,90.0,90.0,105.0,null,84.0,84.0,92.0,110.0,84.0,64.0,63.0,65.0,65.0,110.0,105.0,88.0,85.0,88.0,88.0,88.0,85.0,84.0,90.0,92.0,null,63.0,70.0,110.0,85.0,92.0,112.0,84.0,90.0,86.0,84.0,79.0,82.0],\"x0\":\" \",\"xaxis\":\"x\",\"y0\":\" \",\"yaxis\":\"y\",\"type\":\"box\"},{\"alignmentgroup\":\"True\",\"boxpoints\":\"all\",\"fillcolor\":\"rgba(255,255,255,0)\",\"hoveron\":\"points\",\"hovertemplate\":\"<b>%{hovertext}</b><br><br>origin=japan<br>horsepower=%{x}<extra></extra>\",\"hovertext\":[\"toyota corona mark ii\",\"datsun pl510\",\"datsun pl510\",\"toyota corona\",\"toyota corolla 1200\",\"datsun 1200\",\"toyota corona hardtop\",\"mazda rx2 coupe\",\"datsun 510 (sw)\",\"toyouta corona mark ii (sw)\",\"toyota corolla 1600 (sw)\",\"toyota carina\",\"datsun 610\",\"maxda rx3\",\"toyota mark ii\",\"datsun b210\",\"toyota corolla 1200\",\"toyota corona\",\"datsun 710\",\"honda civic\",\"subaru\",\"toyota corolla\",\"toyota corona\",\"datsun 710\",\"honda civic cvcc\",\"honda civic\",\"datsun b-210\",\"toyota corolla\",\"toyota mark ii\",\"honda accord cvcc\",\"datsun f-10 hatchback\",\"toyota corolla liftback\",\"subaru dl\",\"datsun 810\",\"mazda rx-4\",\"mazda glc deluxe\",\"datsun b210 gx\",\"honda civic cvcc\",\"toyota corona\",\"datsun 510\",\"toyota celica gt liftback\",\"datsun 200-sx\",\"honda accord lx\",\"maxda glc deluxe\",\"datsun 210\",\"toyota corolla tercel\",\"datsun 310\",\"toyota corona liftback\",\"mazda 626\",\"datsun 510 hatchback\",\"toyota corolla\",\"mazda glc\",\"datsun 210\",\"honda civic 1500 gl\",\"subaru dl\",\"datsun 280-zx\",\"mazda rx-7 gs\",\"honda accord\",\"toyota starlet\",\"honda civic 1300\",\"subaru\",\"datsun 210 mpg\",\"toyota tercel\",\"mazda glc 4\",\"honda prelude\",\"toyota corolla\",\"datsun 200sx\",\"mazda 626\",\"toyota cressida\",\"datsun 810 maxima\",\"mazda glc custom l\",\"mazda glc custom\",\"nissan stanza xe\",\"honda accord\",\"toyota corolla\",\"honda civic\",\"honda civic (auto)\",\"datsun 310 gx\",\"toyota celica gt\"],\"legendgroup\":\"japan\",\"line\":{\"color\":\"rgba(255,255,255,0)\"},\"marker\":{\"color\":\"#EF553B\"},\"name\":\"japan\",\"offsetgroup\":\"japan\",\"orientation\":\"h\",\"pointpos\":0,\"showlegend\":true,\"x\":[95.0,88.0,88.0,95.0,65.0,69.0,95.0,97.0,92.0,97.0,88.0,88.0,94.0,90.0,122.0,67.0,65.0,52.0,61.0,97.0,93.0,75.0,96.0,97.0,53.0,53.0,70.0,75.0,108.0,68.0,70.0,75.0,67.0,97.0,110.0,52.0,70.0,60.0,95.0,97.0,95.0,97.0,68.0,65.0,65.0,60.0,65.0,90.0,75.0,92.0,75.0,65.0,65.0,67.0,67.0,132.0,100.0,72.0,58.0,60.0,67.0,65.0,62.0,68.0,75.0,75.0,100.0,74.0,116.0,120.0,68.0,68.0,88.0,75.0,70.0,67.0,67.0,67.0,96.0],\"x0\":\" \",\"xaxis\":\"x\",\"y0\":\" \",\"yaxis\":\"y\",\"type\":\"box\"},{\"alignmentgroup\":\"True\",\"boxpoints\":\"all\",\"fillcolor\":\"rgba(255,255,255,0)\",\"hoveron\":\"points\",\"hovertemplate\":\"<b>%{hovertext}</b><br><br>origin=europe<br>horsepower=%{x}<extra></extra>\",\"hovertext\":[\"volkswagen 1131 deluxe sedan\",\"peugeot 504\",\"audi 100 ls\",\"saab 99e\",\"bmw 2002\",\"opel 1900\",\"peugeot 304\",\"fiat 124b\",\"volkswagen model 111\",\"volkswagen type 3\",\"volvo 145e (sw)\",\"volkswagen 411 (sw)\",\"peugeot 504 (sw)\",\"renault 12 (sw)\",\"volkswagen super beetle\",\"fiat 124 sport coupe\",\"fiat 128\",\"opel manta\",\"audi 100ls\",\"volvo 144ea\",\"saab 99le\",\"audi fox\",\"volkswagen dasher\",\"opel manta\",\"fiat 128\",\"fiat 124 tc\",\"fiat x1.9\",\"volkswagen dasher\",\"volkswagen rabbit\",\"audi 100ls\",\"peugeot 504\",\"volvo 244dl\",\"saab 99le\",\"fiat 131\",\"opel 1900\",\"renault 12tl\",\"vw rabbit\",\"volkswagen rabbit\",\"volvo 245\",\"peugeot 504\",\"mercedes-benz 280s\",\"renault 5 gtl\",\"volkswagen rabbit custom\",\"volkswagen dasher\",\"bmw 320i\",\"volkswagen rabbit custom diesel\",\"audi 5000\",\"volvo 264gl\",\"saab 99gle\",\"peugeot 604sl\",\"volkswagen scirocco\",\"vw rabbit custom\",\"mercedes benz 300d\",\"peugeot 504\",\"fiat strada custom\",\"vw rabbit\",\"audi 4000\",\"vw rabbit c (diesel)\",\"vw dasher (diesel)\",\"audi 5000s (diesel)\",\"mercedes-benz 240d\",\"renault lecar deluxe\",\"vokswagen rabbit\",\"triumph tr7 coupe\",\"volkswagen jetta\",\"renault 18i\",\"peugeot 505s turbo diesel\",\"volvo diesel\",\"volkswagen rabbit l\",\"vw pickup\"],\"legendgroup\":\"europe\",\"line\":{\"color\":\"rgba(255,255,255,0)\"},\"marker\":{\"color\":\"#00cc96\"},\"name\":\"europe\",\"offsetgroup\":\"europe\",\"orientation\":\"h\",\"pointpos\":0,\"showlegend\":true,\"x\":[46.0,87.0,90.0,95.0,113.0,90.0,70.0,76.0,60.0,54.0,112.0,76.0,87.0,69.0,46.0,90.0,49.0,75.0,91.0,112.0,110.0,83.0,67.0,78.0,75.0,75.0,67.0,71.0,70.0,95.0,88.0,98.0,115.0,86.0,81.0,83.0,70.0,71.0,102.0,88.0,120.0,58.0,78.0,78.0,110.0,48.0,103.0,125.0,115.0,133.0,71.0,71.0,77.0,71.0,69.0,76.0,78.0,48.0,48.0,67.0,67.0,null,62.0,88.0,74.0,null,80.0,76.0,74.0,52.0],\"x0\":\" \",\"xaxis\":\"x\",\"y0\":\" \",\"yaxis\":\"y\",\"type\":\"box\"}],                        {\"template\":{\"data\":{\"histogram2dcontour\":[{\"type\":\"histogram2dcontour\",\"colorbar\":{\"outlinewidth\":0,\"ticks\":\"\"},\"colorscale\":[[0.0,\"#0d0887\"],[0.1111111111111111,\"#46039f\"],[0.2222222222222222,\"#7201a8\"],[0.3333333333333333,\"#9c179e\"],[0.4444444444444444,\"#bd3786\"],[0.5555555555555556,\"#d8576b\"],[0.6666666666666666,\"#ed7953\"],[0.7777777777777778,\"#fb9f3a\"],[0.8888888888888888,\"#fdca26\"],[1.0,\"#f0f921\"]]}],\"choropleth\":[{\"type\":\"choropleth\",\"colorbar\":{\"outlinewidth\":0,\"ticks\":\"\"}}],\"histogram2d\":[{\"type\":\"histogram2d\",\"colorbar\":{\"outlinewidth\":0,\"ticks\":\"\"},\"colorscale\":[[0.0,\"#0d0887\"],[0.1111111111111111,\"#46039f\"],[0.2222222222222222,\"#7201a8\"],[0.3333333333333333,\"#9c179e\"],[0.4444444444444444,\"#bd3786\"],[0.5555555555555556,\"#d8576b\"],[0.6666666666666666,\"#ed7953\"],[0.7777777777777778,\"#fb9f3a\"],[0.8888888888888888,\"#fdca26\"],[1.0,\"#f0f921\"]]}],\"heatmap\":[{\"type\":\"heatmap\",\"colorbar\":{\"outlinewidth\":0,\"ticks\":\"\"},\"colorscale\":[[0.0,\"#0d0887\"],[0.1111111111111111,\"#46039f\"],[0.2222222222222222,\"#7201a8\"],[0.3333333333333333,\"#9c179e\"],[0.4444444444444444,\"#bd3786\"],[0.5555555555555556,\"#d8576b\"],[0.6666666666666666,\"#ed7953\"],[0.7777777777777778,\"#fb9f3a\"],[0.8888888888888888,\"#fdca26\"],[1.0,\"#f0f921\"]]}],\"heatmapgl\":[{\"type\":\"heatmapgl\",\"colorbar\":{\"outlinewidth\":0,\"ticks\":\"\"},\"colorscale\":[[0.0,\"#0d0887\"],[0.1111111111111111,\"#46039f\"],[0.2222222222222222,\"#7201a8\"],[0.3333333333333333,\"#9c179e\"],[0.4444444444444444,\"#bd3786\"],[0.5555555555555556,\"#d8576b\"],[0.6666666666666666,\"#ed7953\"],[0.7777777777777778,\"#fb9f3a\"],[0.8888888888888888,\"#fdca26\"],[1.0,\"#f0f921\"]]}],\"contourcarpet\":[{\"type\":\"contourcarpet\",\"colorbar\":{\"outlinewidth\":0,\"ticks\":\"\"}}],\"contour\":[{\"type\":\"contour\",\"colorbar\":{\"outlinewidth\":0,\"ticks\":\"\"},\"colorscale\":[[0.0,\"#0d0887\"],[0.1111111111111111,\"#46039f\"],[0.2222222222222222,\"#7201a8\"],[0.3333333333333333,\"#9c179e\"],[0.4444444444444444,\"#bd3786\"],[0.5555555555555556,\"#d8576b\"],[0.6666666666666666,\"#ed7953\"],[0.7777777777777778,\"#fb9f3a\"],[0.8888888888888888,\"#fdca26\"],[1.0,\"#f0f921\"]]}],\"surface\":[{\"type\":\"surface\",\"colorbar\":{\"outlinewidth\":0,\"ticks\":\"\"},\"colorscale\":[[0.0,\"#0d0887\"],[0.1111111111111111,\"#46039f\"],[0.2222222222222222,\"#7201a8\"],[0.3333333333333333,\"#9c179e\"],[0.4444444444444444,\"#bd3786\"],[0.5555555555555556,\"#d8576b\"],[0.6666666666666666,\"#ed7953\"],[0.7777777777777778,\"#fb9f3a\"],[0.8888888888888888,\"#fdca26\"],[1.0,\"#f0f921\"]]}],\"mesh3d\":[{\"type\":\"mesh3d\",\"colorbar\":{\"outlinewidth\":0,\"ticks\":\"\"}}],\"scatter\":[{\"fillpattern\":{\"fillmode\":\"overlay\",\"size\":10,\"solidity\":0.2},\"type\":\"scatter\"}],\"parcoords\":[{\"type\":\"parcoords\",\"line\":{\"colorbar\":{\"outlinewidth\":0,\"ticks\":\"\"}}}],\"scatterpolargl\":[{\"type\":\"scatterpolargl\",\"marker\":{\"colorbar\":{\"outlinewidth\":0,\"ticks\":\"\"}}}],\"bar\":[{\"error_x\":{\"color\":\"#2a3f5f\"},\"error_y\":{\"color\":\"#2a3f5f\"},\"marker\":{\"line\":{\"color\":\"#E5ECF6\",\"width\":0.5},\"pattern\":{\"fillmode\":\"overlay\",\"size\":10,\"solidity\":0.2}},\"type\":\"bar\"}],\"scattergeo\":[{\"type\":\"scattergeo\",\"marker\":{\"colorbar\":{\"outlinewidth\":0,\"ticks\":\"\"}}}],\"scatterpolar\":[{\"type\":\"scatterpolar\",\"marker\":{\"colorbar\":{\"outlinewidth\":0,\"ticks\":\"\"}}}],\"histogram\":[{\"marker\":{\"pattern\":{\"fillmode\":\"overlay\",\"size\":10,\"solidity\":0.2}},\"type\":\"histogram\"}],\"scattergl\":[{\"type\":\"scattergl\",\"marker\":{\"colorbar\":{\"outlinewidth\":0,\"ticks\":\"\"}}}],\"scatter3d\":[{\"type\":\"scatter3d\",\"line\":{\"colorbar\":{\"outlinewidth\":0,\"ticks\":\"\"}},\"marker\":{\"colorbar\":{\"outlinewidth\":0,\"ticks\":\"\"}}}],\"scattermapbox\":[{\"type\":\"scattermapbox\",\"marker\":{\"colorbar\":{\"outlinewidth\":0,\"ticks\":\"\"}}}],\"scatterternary\":[{\"type\":\"scatterternary\",\"marker\":{\"colorbar\":{\"outlinewidth\":0,\"ticks\":\"\"}}}],\"scattercarpet\":[{\"type\":\"scattercarpet\",\"marker\":{\"colorbar\":{\"outlinewidth\":0,\"ticks\":\"\"}}}],\"carpet\":[{\"aaxis\":{\"endlinecolor\":\"#2a3f5f\",\"gridcolor\":\"white\",\"linecolor\":\"white\",\"minorgridcolor\":\"white\",\"startlinecolor\":\"#2a3f5f\"},\"baxis\":{\"endlinecolor\":\"#2a3f5f\",\"gridcolor\":\"white\",\"linecolor\":\"white\",\"minorgridcolor\":\"white\",\"startlinecolor\":\"#2a3f5f\"},\"type\":\"carpet\"}],\"table\":[{\"cells\":{\"fill\":{\"color\":\"#EBF0F8\"},\"line\":{\"color\":\"white\"}},\"header\":{\"fill\":{\"color\":\"#C8D4E3\"},\"line\":{\"color\":\"white\"}},\"type\":\"table\"}],\"barpolar\":[{\"marker\":{\"line\":{\"color\":\"#E5ECF6\",\"width\":0.5},\"pattern\":{\"fillmode\":\"overlay\",\"size\":10,\"solidity\":0.2}},\"type\":\"barpolar\"}],\"pie\":[{\"automargin\":true,\"type\":\"pie\"}]},\"layout\":{\"autotypenumbers\":\"strict\",\"colorway\":[\"#636efa\",\"#EF553B\",\"#00cc96\",\"#ab63fa\",\"#FFA15A\",\"#19d3f3\",\"#FF6692\",\"#B6E880\",\"#FF97FF\",\"#FECB52\"],\"font\":{\"color\":\"#2a3f5f\"},\"hovermode\":\"closest\",\"hoverlabel\":{\"align\":\"left\"},\"paper_bgcolor\":\"white\",\"plot_bgcolor\":\"#E5ECF6\",\"polar\":{\"bgcolor\":\"#E5ECF6\",\"angularaxis\":{\"gridcolor\":\"white\",\"linecolor\":\"white\",\"ticks\":\"\"},\"radialaxis\":{\"gridcolor\":\"white\",\"linecolor\":\"white\",\"ticks\":\"\"}},\"ternary\":{\"bgcolor\":\"#E5ECF6\",\"aaxis\":{\"gridcolor\":\"white\",\"linecolor\":\"white\",\"ticks\":\"\"},\"baxis\":{\"gridcolor\":\"white\",\"linecolor\":\"white\",\"ticks\":\"\"},\"caxis\":{\"gridcolor\":\"white\",\"linecolor\":\"white\",\"ticks\":\"\"}},\"coloraxis\":{\"colorbar\":{\"outlinewidth\":0,\"ticks\":\"\"}},\"colorscale\":{\"sequential\":[[0.0,\"#0d0887\"],[0.1111111111111111,\"#46039f\"],[0.2222222222222222,\"#7201a8\"],[0.3333333333333333,\"#9c179e\"],[0.4444444444444444,\"#bd3786\"],[0.5555555555555556,\"#d8576b\"],[0.6666666666666666,\"#ed7953\"],[0.7777777777777778,\"#fb9f3a\"],[0.8888888888888888,\"#fdca26\"],[1.0,\"#f0f921\"]],\"sequentialminus\":[[0.0,\"#0d0887\"],[0.1111111111111111,\"#46039f\"],[0.2222222222222222,\"#7201a8\"],[0.3333333333333333,\"#9c179e\"],[0.4444444444444444,\"#bd3786\"],[0.5555555555555556,\"#d8576b\"],[0.6666666666666666,\"#ed7953\"],[0.7777777777777778,\"#fb9f3a\"],[0.8888888888888888,\"#fdca26\"],[1.0,\"#f0f921\"]],\"diverging\":[[0,\"#8e0152\"],[0.1,\"#c51b7d\"],[0.2,\"#de77ae\"],[0.3,\"#f1b6da\"],[0.4,\"#fde0ef\"],[0.5,\"#f7f7f7\"],[0.6,\"#e6f5d0\"],[0.7,\"#b8e186\"],[0.8,\"#7fbc41\"],[0.9,\"#4d9221\"],[1,\"#276419\"]]},\"xaxis\":{\"gridcolor\":\"white\",\"linecolor\":\"white\",\"ticks\":\"\",\"title\":{\"standoff\":15},\"zerolinecolor\":\"white\",\"automargin\":true,\"zerolinewidth\":2},\"yaxis\":{\"gridcolor\":\"white\",\"linecolor\":\"white\",\"ticks\":\"\",\"title\":{\"standoff\":15},\"zerolinecolor\":\"white\",\"automargin\":true,\"zerolinewidth\":2},\"scene\":{\"xaxis\":{\"backgroundcolor\":\"#E5ECF6\",\"gridcolor\":\"white\",\"linecolor\":\"white\",\"showbackground\":true,\"ticks\":\"\",\"zerolinecolor\":\"white\",\"gridwidth\":2},\"yaxis\":{\"backgroundcolor\":\"#E5ECF6\",\"gridcolor\":\"white\",\"linecolor\":\"white\",\"showbackground\":true,\"ticks\":\"\",\"zerolinecolor\":\"white\",\"gridwidth\":2},\"zaxis\":{\"backgroundcolor\":\"#E5ECF6\",\"gridcolor\":\"white\",\"linecolor\":\"white\",\"showbackground\":true,\"ticks\":\"\",\"zerolinecolor\":\"white\",\"gridwidth\":2}},\"shapedefaults\":{\"line\":{\"color\":\"#2a3f5f\"}},\"annotationdefaults\":{\"arrowcolor\":\"#2a3f5f\",\"arrowhead\":0,\"arrowwidth\":1},\"geo\":{\"bgcolor\":\"white\",\"landcolor\":\"#E5ECF6\",\"subunitcolor\":\"white\",\"showland\":true,\"showlakes\":true,\"lakecolor\":\"white\"},\"title\":{\"x\":0.05},\"mapbox\":{\"style\":\"light\"}}},\"xaxis\":{\"anchor\":\"y\",\"domain\":[0.0,1.0],\"title\":{\"text\":\"horsepower\"}},\"yaxis\":{\"anchor\":\"x\",\"domain\":[0.0,1.0]},\"legend\":{\"title\":{\"text\":\"origin\"},\"tracegroupgap\":0},\"margin\":{\"t\":60},\"boxmode\":\"group\"},                        {\"responsive\": true}                    ).then(function(){\n",
       "                            \n",
       "var gd = document.getElementById('79317b28-ea9e-490c-ac76-af709e204406');\n",
       "var x = new MutationObserver(function (mutations, observer) {{\n",
       "        var display = window.getComputedStyle(gd).display;\n",
       "        if (!display || display === 'none') {{\n",
       "            console.log([gd, 'removed!']);\n",
       "            Plotly.purge(gd);\n",
       "            observer.disconnect();\n",
       "        }}\n",
       "}});\n",
       "\n",
       "// Listen for the removal of the full notebook cells\n",
       "var notebookContainer = gd.closest('#notebook-container');\n",
       "if (notebookContainer) {{\n",
       "    x.observe(notebookContainer, {childList: true});\n",
       "}}\n",
       "\n",
       "// Listen for the clearing of the current output cell\n",
       "var outputEl = gd.closest('.output');\n",
       "if (outputEl) {{\n",
       "    x.observe(outputEl, {childList: true});\n",
       "}}\n",
       "\n",
       "                        })                };                });            </script>        </div>"
      ]
     },
     "metadata": {},
     "output_type": "display_data"
    }
   ],
   "source": [
    "px.strip(data, x = \"horsepower\", color = \"origin\", hover_name = \"name\")"
   ]
  },
  {
   "cell_type": "code",
   "execution_count": 69,
   "id": "0b0b6879",
   "metadata": {},
   "outputs": [
    {
     "data": {
      "application/vnd.plotly.v1+json": {
       "config": {
        "plotlyServerURL": "https://plot.ly"
       },
       "data": [
        {
         "alignmentgroup": "True",
         "bingroup": "x",
         "hovertemplate": "origin=usa<br>horsepower=%{x}<br>count=%{y}<extra></extra>",
         "legendgroup": "usa",
         "marker": {
          "color": "#636efa",
          "pattern": {
           "shape": ""
          }
         },
         "name": "usa",
         "offsetgroup": "usa",
         "orientation": "v",
         "showlegend": true,
         "type": "histogram",
         "x": [
          130,
          165,
          150,
          150,
          140,
          198,
          220,
          215,
          225,
          190,
          170,
          160,
          150,
          225,
          95,
          97,
          85,
          90,
          215,
          200,
          210,
          193,
          90,
          null,
          100,
          105,
          100,
          88,
          100,
          165,
          175,
          153,
          150,
          180,
          170,
          175,
          110,
          72,
          100,
          88,
          86,
          70,
          80,
          90,
          86,
          165,
          175,
          150,
          153,
          150,
          208,
          155,
          160,
          190,
          150,
          130,
          140,
          150,
          86,
          80,
          175,
          150,
          145,
          137,
          150,
          198,
          150,
          158,
          150,
          215,
          225,
          175,
          105,
          100,
          100,
          88,
          95,
          150,
          167,
          170,
          180,
          100,
          72,
          85,
          107,
          145,
          230,
          150,
          180,
          95,
          null,
          100,
          100,
          80,
          75,
          100,
          110,
          105,
          140,
          150,
          150,
          140,
          150,
          75,
          95,
          105,
          72,
          72,
          170,
          145,
          150,
          148,
          110,
          105,
          110,
          95,
          110,
          110,
          129,
          83,
          100,
          78,
          97,
          90,
          92,
          79,
          140,
          150,
          120,
          152,
          100,
          105,
          81,
          90,
          52,
          60,
          100,
          78,
          110,
          95,
          72,
          150,
          180,
          145,
          130,
          150,
          80,
          96,
          145,
          110,
          145,
          130,
          110,
          105,
          100,
          98,
          180,
          170,
          190,
          149,
          88,
          89,
          63,
          83,
          66,
          110,
          140,
          139,
          105,
          95,
          85,
          88,
          100,
          90,
          105,
          85,
          110,
          120,
          145,
          165,
          139,
          140,
          68,
          75,
          105,
          85,
          115,
          85,
          88,
          90,
          110,
          130,
          129,
          138,
          135,
          155,
          142,
          125,
          150,
          80,
          80,
          125,
          90,
          70,
          70,
          90,
          115,
          115,
          90,
          70,
          90,
          88,
          90,
          90,
          105,
          null,
          84,
          84,
          92,
          110,
          84,
          64,
          63,
          65,
          65,
          110,
          105,
          88,
          85,
          88,
          88,
          88,
          85,
          84,
          90,
          92,
          null,
          63,
          70,
          110,
          85,
          92,
          112,
          84,
          90,
          86,
          84,
          79,
          82
         ],
         "xaxis": "x",
         "yaxis": "y"
        },
        {
         "alignmentgroup": "True",
         "bingroup": "x",
         "hovertemplate": "origin=japan<br>horsepower=%{x}<br>count=%{y}<extra></extra>",
         "legendgroup": "japan",
         "marker": {
          "color": "#EF553B",
          "pattern": {
           "shape": ""
          }
         },
         "name": "japan",
         "offsetgroup": "japan",
         "orientation": "v",
         "showlegend": true,
         "type": "histogram",
         "x": [
          95,
          88,
          88,
          95,
          65,
          69,
          95,
          97,
          92,
          97,
          88,
          88,
          94,
          90,
          122,
          67,
          65,
          52,
          61,
          97,
          93,
          75,
          96,
          97,
          53,
          53,
          70,
          75,
          108,
          68,
          70,
          75,
          67,
          97,
          110,
          52,
          70,
          60,
          95,
          97,
          95,
          97,
          68,
          65,
          65,
          60,
          65,
          90,
          75,
          92,
          75,
          65,
          65,
          67,
          67,
          132,
          100,
          72,
          58,
          60,
          67,
          65,
          62,
          68,
          75,
          75,
          100,
          74,
          116,
          120,
          68,
          68,
          88,
          75,
          70,
          67,
          67,
          67,
          96
         ],
         "xaxis": "x",
         "yaxis": "y"
        },
        {
         "alignmentgroup": "True",
         "bingroup": "x",
         "hovertemplate": "origin=europe<br>horsepower=%{x}<br>count=%{y}<extra></extra>",
         "legendgroup": "europe",
         "marker": {
          "color": "#00cc96",
          "pattern": {
           "shape": ""
          }
         },
         "name": "europe",
         "offsetgroup": "europe",
         "orientation": "v",
         "showlegend": true,
         "type": "histogram",
         "x": [
          46,
          87,
          90,
          95,
          113,
          90,
          70,
          76,
          60,
          54,
          112,
          76,
          87,
          69,
          46,
          90,
          49,
          75,
          91,
          112,
          110,
          83,
          67,
          78,
          75,
          75,
          67,
          71,
          70,
          95,
          88,
          98,
          115,
          86,
          81,
          83,
          70,
          71,
          102,
          88,
          120,
          58,
          78,
          78,
          110,
          48,
          103,
          125,
          115,
          133,
          71,
          71,
          77,
          71,
          69,
          76,
          78,
          48,
          48,
          67,
          67,
          null,
          62,
          88,
          74,
          null,
          80,
          76,
          74,
          52
         ],
         "xaxis": "x",
         "yaxis": "y"
        }
       ],
       "layout": {
        "barmode": "relative",
        "legend": {
         "title": {
          "text": "origin"
         },
         "tracegroupgap": 0
        },
        "margin": {
         "t": 60
        },
        "template": {
         "data": {
          "bar": [
           {
            "error_x": {
             "color": "#2a3f5f"
            },
            "error_y": {
             "color": "#2a3f5f"
            },
            "marker": {
             "line": {
              "color": "#E5ECF6",
              "width": 0.5
             },
             "pattern": {
              "fillmode": "overlay",
              "size": 10,
              "solidity": 0.2
             }
            },
            "type": "bar"
           }
          ],
          "barpolar": [
           {
            "marker": {
             "line": {
              "color": "#E5ECF6",
              "width": 0.5
             },
             "pattern": {
              "fillmode": "overlay",
              "size": 10,
              "solidity": 0.2
             }
            },
            "type": "barpolar"
           }
          ],
          "carpet": [
           {
            "aaxis": {
             "endlinecolor": "#2a3f5f",
             "gridcolor": "white",
             "linecolor": "white",
             "minorgridcolor": "white",
             "startlinecolor": "#2a3f5f"
            },
            "baxis": {
             "endlinecolor": "#2a3f5f",
             "gridcolor": "white",
             "linecolor": "white",
             "minorgridcolor": "white",
             "startlinecolor": "#2a3f5f"
            },
            "type": "carpet"
           }
          ],
          "choropleth": [
           {
            "colorbar": {
             "outlinewidth": 0,
             "ticks": ""
            },
            "type": "choropleth"
           }
          ],
          "contour": [
           {
            "colorbar": {
             "outlinewidth": 0,
             "ticks": ""
            },
            "colorscale": [
             [
              0,
              "#0d0887"
             ],
             [
              0.1111111111111111,
              "#46039f"
             ],
             [
              0.2222222222222222,
              "#7201a8"
             ],
             [
              0.3333333333333333,
              "#9c179e"
             ],
             [
              0.4444444444444444,
              "#bd3786"
             ],
             [
              0.5555555555555556,
              "#d8576b"
             ],
             [
              0.6666666666666666,
              "#ed7953"
             ],
             [
              0.7777777777777778,
              "#fb9f3a"
             ],
             [
              0.8888888888888888,
              "#fdca26"
             ],
             [
              1,
              "#f0f921"
             ]
            ],
            "type": "contour"
           }
          ],
          "contourcarpet": [
           {
            "colorbar": {
             "outlinewidth": 0,
             "ticks": ""
            },
            "type": "contourcarpet"
           }
          ],
          "heatmap": [
           {
            "colorbar": {
             "outlinewidth": 0,
             "ticks": ""
            },
            "colorscale": [
             [
              0,
              "#0d0887"
             ],
             [
              0.1111111111111111,
              "#46039f"
             ],
             [
              0.2222222222222222,
              "#7201a8"
             ],
             [
              0.3333333333333333,
              "#9c179e"
             ],
             [
              0.4444444444444444,
              "#bd3786"
             ],
             [
              0.5555555555555556,
              "#d8576b"
             ],
             [
              0.6666666666666666,
              "#ed7953"
             ],
             [
              0.7777777777777778,
              "#fb9f3a"
             ],
             [
              0.8888888888888888,
              "#fdca26"
             ],
             [
              1,
              "#f0f921"
             ]
            ],
            "type": "heatmap"
           }
          ],
          "heatmapgl": [
           {
            "colorbar": {
             "outlinewidth": 0,
             "ticks": ""
            },
            "colorscale": [
             [
              0,
              "#0d0887"
             ],
             [
              0.1111111111111111,
              "#46039f"
             ],
             [
              0.2222222222222222,
              "#7201a8"
             ],
             [
              0.3333333333333333,
              "#9c179e"
             ],
             [
              0.4444444444444444,
              "#bd3786"
             ],
             [
              0.5555555555555556,
              "#d8576b"
             ],
             [
              0.6666666666666666,
              "#ed7953"
             ],
             [
              0.7777777777777778,
              "#fb9f3a"
             ],
             [
              0.8888888888888888,
              "#fdca26"
             ],
             [
              1,
              "#f0f921"
             ]
            ],
            "type": "heatmapgl"
           }
          ],
          "histogram": [
           {
            "marker": {
             "pattern": {
              "fillmode": "overlay",
              "size": 10,
              "solidity": 0.2
             }
            },
            "type": "histogram"
           }
          ],
          "histogram2d": [
           {
            "colorbar": {
             "outlinewidth": 0,
             "ticks": ""
            },
            "colorscale": [
             [
              0,
              "#0d0887"
             ],
             [
              0.1111111111111111,
              "#46039f"
             ],
             [
              0.2222222222222222,
              "#7201a8"
             ],
             [
              0.3333333333333333,
              "#9c179e"
             ],
             [
              0.4444444444444444,
              "#bd3786"
             ],
             [
              0.5555555555555556,
              "#d8576b"
             ],
             [
              0.6666666666666666,
              "#ed7953"
             ],
             [
              0.7777777777777778,
              "#fb9f3a"
             ],
             [
              0.8888888888888888,
              "#fdca26"
             ],
             [
              1,
              "#f0f921"
             ]
            ],
            "type": "histogram2d"
           }
          ],
          "histogram2dcontour": [
           {
            "colorbar": {
             "outlinewidth": 0,
             "ticks": ""
            },
            "colorscale": [
             [
              0,
              "#0d0887"
             ],
             [
              0.1111111111111111,
              "#46039f"
             ],
             [
              0.2222222222222222,
              "#7201a8"
             ],
             [
              0.3333333333333333,
              "#9c179e"
             ],
             [
              0.4444444444444444,
              "#bd3786"
             ],
             [
              0.5555555555555556,
              "#d8576b"
             ],
             [
              0.6666666666666666,
              "#ed7953"
             ],
             [
              0.7777777777777778,
              "#fb9f3a"
             ],
             [
              0.8888888888888888,
              "#fdca26"
             ],
             [
              1,
              "#f0f921"
             ]
            ],
            "type": "histogram2dcontour"
           }
          ],
          "mesh3d": [
           {
            "colorbar": {
             "outlinewidth": 0,
             "ticks": ""
            },
            "type": "mesh3d"
           }
          ],
          "parcoords": [
           {
            "line": {
             "colorbar": {
              "outlinewidth": 0,
              "ticks": ""
             }
            },
            "type": "parcoords"
           }
          ],
          "pie": [
           {
            "automargin": true,
            "type": "pie"
           }
          ],
          "scatter": [
           {
            "fillpattern": {
             "fillmode": "overlay",
             "size": 10,
             "solidity": 0.2
            },
            "type": "scatter"
           }
          ],
          "scatter3d": [
           {
            "line": {
             "colorbar": {
              "outlinewidth": 0,
              "ticks": ""
             }
            },
            "marker": {
             "colorbar": {
              "outlinewidth": 0,
              "ticks": ""
             }
            },
            "type": "scatter3d"
           }
          ],
          "scattercarpet": [
           {
            "marker": {
             "colorbar": {
              "outlinewidth": 0,
              "ticks": ""
             }
            },
            "type": "scattercarpet"
           }
          ],
          "scattergeo": [
           {
            "marker": {
             "colorbar": {
              "outlinewidth": 0,
              "ticks": ""
             }
            },
            "type": "scattergeo"
           }
          ],
          "scattergl": [
           {
            "marker": {
             "colorbar": {
              "outlinewidth": 0,
              "ticks": ""
             }
            },
            "type": "scattergl"
           }
          ],
          "scattermapbox": [
           {
            "marker": {
             "colorbar": {
              "outlinewidth": 0,
              "ticks": ""
             }
            },
            "type": "scattermapbox"
           }
          ],
          "scatterpolar": [
           {
            "marker": {
             "colorbar": {
              "outlinewidth": 0,
              "ticks": ""
             }
            },
            "type": "scatterpolar"
           }
          ],
          "scatterpolargl": [
           {
            "marker": {
             "colorbar": {
              "outlinewidth": 0,
              "ticks": ""
             }
            },
            "type": "scatterpolargl"
           }
          ],
          "scatterternary": [
           {
            "marker": {
             "colorbar": {
              "outlinewidth": 0,
              "ticks": ""
             }
            },
            "type": "scatterternary"
           }
          ],
          "surface": [
           {
            "colorbar": {
             "outlinewidth": 0,
             "ticks": ""
            },
            "colorscale": [
             [
              0,
              "#0d0887"
             ],
             [
              0.1111111111111111,
              "#46039f"
             ],
             [
              0.2222222222222222,
              "#7201a8"
             ],
             [
              0.3333333333333333,
              "#9c179e"
             ],
             [
              0.4444444444444444,
              "#bd3786"
             ],
             [
              0.5555555555555556,
              "#d8576b"
             ],
             [
              0.6666666666666666,
              "#ed7953"
             ],
             [
              0.7777777777777778,
              "#fb9f3a"
             ],
             [
              0.8888888888888888,
              "#fdca26"
             ],
             [
              1,
              "#f0f921"
             ]
            ],
            "type": "surface"
           }
          ],
          "table": [
           {
            "cells": {
             "fill": {
              "color": "#EBF0F8"
             },
             "line": {
              "color": "white"
             }
            },
            "header": {
             "fill": {
              "color": "#C8D4E3"
             },
             "line": {
              "color": "white"
             }
            },
            "type": "table"
           }
          ]
         },
         "layout": {
          "annotationdefaults": {
           "arrowcolor": "#2a3f5f",
           "arrowhead": 0,
           "arrowwidth": 1
          },
          "autotypenumbers": "strict",
          "coloraxis": {
           "colorbar": {
            "outlinewidth": 0,
            "ticks": ""
           }
          },
          "colorscale": {
           "diverging": [
            [
             0,
             "#8e0152"
            ],
            [
             0.1,
             "#c51b7d"
            ],
            [
             0.2,
             "#de77ae"
            ],
            [
             0.3,
             "#f1b6da"
            ],
            [
             0.4,
             "#fde0ef"
            ],
            [
             0.5,
             "#f7f7f7"
            ],
            [
             0.6,
             "#e6f5d0"
            ],
            [
             0.7,
             "#b8e186"
            ],
            [
             0.8,
             "#7fbc41"
            ],
            [
             0.9,
             "#4d9221"
            ],
            [
             1,
             "#276419"
            ]
           ],
           "sequential": [
            [
             0,
             "#0d0887"
            ],
            [
             0.1111111111111111,
             "#46039f"
            ],
            [
             0.2222222222222222,
             "#7201a8"
            ],
            [
             0.3333333333333333,
             "#9c179e"
            ],
            [
             0.4444444444444444,
             "#bd3786"
            ],
            [
             0.5555555555555556,
             "#d8576b"
            ],
            [
             0.6666666666666666,
             "#ed7953"
            ],
            [
             0.7777777777777778,
             "#fb9f3a"
            ],
            [
             0.8888888888888888,
             "#fdca26"
            ],
            [
             1,
             "#f0f921"
            ]
           ],
           "sequentialminus": [
            [
             0,
             "#0d0887"
            ],
            [
             0.1111111111111111,
             "#46039f"
            ],
            [
             0.2222222222222222,
             "#7201a8"
            ],
            [
             0.3333333333333333,
             "#9c179e"
            ],
            [
             0.4444444444444444,
             "#bd3786"
            ],
            [
             0.5555555555555556,
             "#d8576b"
            ],
            [
             0.6666666666666666,
             "#ed7953"
            ],
            [
             0.7777777777777778,
             "#fb9f3a"
            ],
            [
             0.8888888888888888,
             "#fdca26"
            ],
            [
             1,
             "#f0f921"
            ]
           ]
          },
          "colorway": [
           "#636efa",
           "#EF553B",
           "#00cc96",
           "#ab63fa",
           "#FFA15A",
           "#19d3f3",
           "#FF6692",
           "#B6E880",
           "#FF97FF",
           "#FECB52"
          ],
          "font": {
           "color": "#2a3f5f"
          },
          "geo": {
           "bgcolor": "white",
           "lakecolor": "white",
           "landcolor": "#E5ECF6",
           "showlakes": true,
           "showland": true,
           "subunitcolor": "white"
          },
          "hoverlabel": {
           "align": "left"
          },
          "hovermode": "closest",
          "mapbox": {
           "style": "light"
          },
          "paper_bgcolor": "white",
          "plot_bgcolor": "#E5ECF6",
          "polar": {
           "angularaxis": {
            "gridcolor": "white",
            "linecolor": "white",
            "ticks": ""
           },
           "bgcolor": "#E5ECF6",
           "radialaxis": {
            "gridcolor": "white",
            "linecolor": "white",
            "ticks": ""
           }
          },
          "scene": {
           "xaxis": {
            "backgroundcolor": "#E5ECF6",
            "gridcolor": "white",
            "gridwidth": 2,
            "linecolor": "white",
            "showbackground": true,
            "ticks": "",
            "zerolinecolor": "white"
           },
           "yaxis": {
            "backgroundcolor": "#E5ECF6",
            "gridcolor": "white",
            "gridwidth": 2,
            "linecolor": "white",
            "showbackground": true,
            "ticks": "",
            "zerolinecolor": "white"
           },
           "zaxis": {
            "backgroundcolor": "#E5ECF6",
            "gridcolor": "white",
            "gridwidth": 2,
            "linecolor": "white",
            "showbackground": true,
            "ticks": "",
            "zerolinecolor": "white"
           }
          },
          "shapedefaults": {
           "line": {
            "color": "#2a3f5f"
           }
          },
          "ternary": {
           "aaxis": {
            "gridcolor": "white",
            "linecolor": "white",
            "ticks": ""
           },
           "baxis": {
            "gridcolor": "white",
            "linecolor": "white",
            "ticks": ""
           },
           "bgcolor": "#E5ECF6",
           "caxis": {
            "gridcolor": "white",
            "linecolor": "white",
            "ticks": ""
           }
          },
          "title": {
           "x": 0.05
          },
          "xaxis": {
           "automargin": true,
           "gridcolor": "white",
           "linecolor": "white",
           "ticks": "",
           "title": {
            "standoff": 15
           },
           "zerolinecolor": "white",
           "zerolinewidth": 2
          },
          "yaxis": {
           "automargin": true,
           "gridcolor": "white",
           "linecolor": "white",
           "ticks": "",
           "title": {
            "standoff": 15
           },
           "zerolinecolor": "white",
           "zerolinewidth": 2
          }
         }
        },
        "xaxis": {
         "anchor": "y",
         "domain": [
          0,
          1
         ],
         "title": {
          "text": "horsepower"
         }
        },
        "yaxis": {
         "anchor": "x",
         "domain": [
          0,
          1
         ],
         "title": {
          "text": "count"
         }
        }
       }
      },
      "text/html": [
       "<div>                            <div id=\"e514d617-6e96-4497-bee5-dbe749c77112\" class=\"plotly-graph-div\" style=\"height:525px; width:100%;\"></div>            <script type=\"text/javascript\">                require([\"plotly\"], function(Plotly) {                    window.PLOTLYENV=window.PLOTLYENV || {};                                    if (document.getElementById(\"e514d617-6e96-4497-bee5-dbe749c77112\")) {                    Plotly.newPlot(                        \"e514d617-6e96-4497-bee5-dbe749c77112\",                        [{\"alignmentgroup\":\"True\",\"bingroup\":\"x\",\"hovertemplate\":\"origin=usa<br>horsepower=%{x}<br>count=%{y}<extra></extra>\",\"legendgroup\":\"usa\",\"marker\":{\"color\":\"#636efa\",\"pattern\":{\"shape\":\"\"}},\"name\":\"usa\",\"offsetgroup\":\"usa\",\"orientation\":\"v\",\"showlegend\":true,\"x\":[130.0,165.0,150.0,150.0,140.0,198.0,220.0,215.0,225.0,190.0,170.0,160.0,150.0,225.0,95.0,97.0,85.0,90.0,215.0,200.0,210.0,193.0,90.0,null,100.0,105.0,100.0,88.0,100.0,165.0,175.0,153.0,150.0,180.0,170.0,175.0,110.0,72.0,100.0,88.0,86.0,70.0,80.0,90.0,86.0,165.0,175.0,150.0,153.0,150.0,208.0,155.0,160.0,190.0,150.0,130.0,140.0,150.0,86.0,80.0,175.0,150.0,145.0,137.0,150.0,198.0,150.0,158.0,150.0,215.0,225.0,175.0,105.0,100.0,100.0,88.0,95.0,150.0,167.0,170.0,180.0,100.0,72.0,85.0,107.0,145.0,230.0,150.0,180.0,95.0,null,100.0,100.0,80.0,75.0,100.0,110.0,105.0,140.0,150.0,150.0,140.0,150.0,75.0,95.0,105.0,72.0,72.0,170.0,145.0,150.0,148.0,110.0,105.0,110.0,95.0,110.0,110.0,129.0,83.0,100.0,78.0,97.0,90.0,92.0,79.0,140.0,150.0,120.0,152.0,100.0,105.0,81.0,90.0,52.0,60.0,100.0,78.0,110.0,95.0,72.0,150.0,180.0,145.0,130.0,150.0,80.0,96.0,145.0,110.0,145.0,130.0,110.0,105.0,100.0,98.0,180.0,170.0,190.0,149.0,88.0,89.0,63.0,83.0,66.0,110.0,140.0,139.0,105.0,95.0,85.0,88.0,100.0,90.0,105.0,85.0,110.0,120.0,145.0,165.0,139.0,140.0,68.0,75.0,105.0,85.0,115.0,85.0,88.0,90.0,110.0,130.0,129.0,138.0,135.0,155.0,142.0,125.0,150.0,80.0,80.0,125.0,90.0,70.0,70.0,90.0,115.0,115.0,90.0,70.0,90.0,88.0,90.0,90.0,105.0,null,84.0,84.0,92.0,110.0,84.0,64.0,63.0,65.0,65.0,110.0,105.0,88.0,85.0,88.0,88.0,88.0,85.0,84.0,90.0,92.0,null,63.0,70.0,110.0,85.0,92.0,112.0,84.0,90.0,86.0,84.0,79.0,82.0],\"xaxis\":\"x\",\"yaxis\":\"y\",\"type\":\"histogram\"},{\"alignmentgroup\":\"True\",\"bingroup\":\"x\",\"hovertemplate\":\"origin=japan<br>horsepower=%{x}<br>count=%{y}<extra></extra>\",\"legendgroup\":\"japan\",\"marker\":{\"color\":\"#EF553B\",\"pattern\":{\"shape\":\"\"}},\"name\":\"japan\",\"offsetgroup\":\"japan\",\"orientation\":\"v\",\"showlegend\":true,\"x\":[95.0,88.0,88.0,95.0,65.0,69.0,95.0,97.0,92.0,97.0,88.0,88.0,94.0,90.0,122.0,67.0,65.0,52.0,61.0,97.0,93.0,75.0,96.0,97.0,53.0,53.0,70.0,75.0,108.0,68.0,70.0,75.0,67.0,97.0,110.0,52.0,70.0,60.0,95.0,97.0,95.0,97.0,68.0,65.0,65.0,60.0,65.0,90.0,75.0,92.0,75.0,65.0,65.0,67.0,67.0,132.0,100.0,72.0,58.0,60.0,67.0,65.0,62.0,68.0,75.0,75.0,100.0,74.0,116.0,120.0,68.0,68.0,88.0,75.0,70.0,67.0,67.0,67.0,96.0],\"xaxis\":\"x\",\"yaxis\":\"y\",\"type\":\"histogram\"},{\"alignmentgroup\":\"True\",\"bingroup\":\"x\",\"hovertemplate\":\"origin=europe<br>horsepower=%{x}<br>count=%{y}<extra></extra>\",\"legendgroup\":\"europe\",\"marker\":{\"color\":\"#00cc96\",\"pattern\":{\"shape\":\"\"}},\"name\":\"europe\",\"offsetgroup\":\"europe\",\"orientation\":\"v\",\"showlegend\":true,\"x\":[46.0,87.0,90.0,95.0,113.0,90.0,70.0,76.0,60.0,54.0,112.0,76.0,87.0,69.0,46.0,90.0,49.0,75.0,91.0,112.0,110.0,83.0,67.0,78.0,75.0,75.0,67.0,71.0,70.0,95.0,88.0,98.0,115.0,86.0,81.0,83.0,70.0,71.0,102.0,88.0,120.0,58.0,78.0,78.0,110.0,48.0,103.0,125.0,115.0,133.0,71.0,71.0,77.0,71.0,69.0,76.0,78.0,48.0,48.0,67.0,67.0,null,62.0,88.0,74.0,null,80.0,76.0,74.0,52.0],\"xaxis\":\"x\",\"yaxis\":\"y\",\"type\":\"histogram\"}],                        {\"template\":{\"data\":{\"histogram2dcontour\":[{\"type\":\"histogram2dcontour\",\"colorbar\":{\"outlinewidth\":0,\"ticks\":\"\"},\"colorscale\":[[0.0,\"#0d0887\"],[0.1111111111111111,\"#46039f\"],[0.2222222222222222,\"#7201a8\"],[0.3333333333333333,\"#9c179e\"],[0.4444444444444444,\"#bd3786\"],[0.5555555555555556,\"#d8576b\"],[0.6666666666666666,\"#ed7953\"],[0.7777777777777778,\"#fb9f3a\"],[0.8888888888888888,\"#fdca26\"],[1.0,\"#f0f921\"]]}],\"choropleth\":[{\"type\":\"choropleth\",\"colorbar\":{\"outlinewidth\":0,\"ticks\":\"\"}}],\"histogram2d\":[{\"type\":\"histogram2d\",\"colorbar\":{\"outlinewidth\":0,\"ticks\":\"\"},\"colorscale\":[[0.0,\"#0d0887\"],[0.1111111111111111,\"#46039f\"],[0.2222222222222222,\"#7201a8\"],[0.3333333333333333,\"#9c179e\"],[0.4444444444444444,\"#bd3786\"],[0.5555555555555556,\"#d8576b\"],[0.6666666666666666,\"#ed7953\"],[0.7777777777777778,\"#fb9f3a\"],[0.8888888888888888,\"#fdca26\"],[1.0,\"#f0f921\"]]}],\"heatmap\":[{\"type\":\"heatmap\",\"colorbar\":{\"outlinewidth\":0,\"ticks\":\"\"},\"colorscale\":[[0.0,\"#0d0887\"],[0.1111111111111111,\"#46039f\"],[0.2222222222222222,\"#7201a8\"],[0.3333333333333333,\"#9c179e\"],[0.4444444444444444,\"#bd3786\"],[0.5555555555555556,\"#d8576b\"],[0.6666666666666666,\"#ed7953\"],[0.7777777777777778,\"#fb9f3a\"],[0.8888888888888888,\"#fdca26\"],[1.0,\"#f0f921\"]]}],\"heatmapgl\":[{\"type\":\"heatmapgl\",\"colorbar\":{\"outlinewidth\":0,\"ticks\":\"\"},\"colorscale\":[[0.0,\"#0d0887\"],[0.1111111111111111,\"#46039f\"],[0.2222222222222222,\"#7201a8\"],[0.3333333333333333,\"#9c179e\"],[0.4444444444444444,\"#bd3786\"],[0.5555555555555556,\"#d8576b\"],[0.6666666666666666,\"#ed7953\"],[0.7777777777777778,\"#fb9f3a\"],[0.8888888888888888,\"#fdca26\"],[1.0,\"#f0f921\"]]}],\"contourcarpet\":[{\"type\":\"contourcarpet\",\"colorbar\":{\"outlinewidth\":0,\"ticks\":\"\"}}],\"contour\":[{\"type\":\"contour\",\"colorbar\":{\"outlinewidth\":0,\"ticks\":\"\"},\"colorscale\":[[0.0,\"#0d0887\"],[0.1111111111111111,\"#46039f\"],[0.2222222222222222,\"#7201a8\"],[0.3333333333333333,\"#9c179e\"],[0.4444444444444444,\"#bd3786\"],[0.5555555555555556,\"#d8576b\"],[0.6666666666666666,\"#ed7953\"],[0.7777777777777778,\"#fb9f3a\"],[0.8888888888888888,\"#fdca26\"],[1.0,\"#f0f921\"]]}],\"surface\":[{\"type\":\"surface\",\"colorbar\":{\"outlinewidth\":0,\"ticks\":\"\"},\"colorscale\":[[0.0,\"#0d0887\"],[0.1111111111111111,\"#46039f\"],[0.2222222222222222,\"#7201a8\"],[0.3333333333333333,\"#9c179e\"],[0.4444444444444444,\"#bd3786\"],[0.5555555555555556,\"#d8576b\"],[0.6666666666666666,\"#ed7953\"],[0.7777777777777778,\"#fb9f3a\"],[0.8888888888888888,\"#fdca26\"],[1.0,\"#f0f921\"]]}],\"mesh3d\":[{\"type\":\"mesh3d\",\"colorbar\":{\"outlinewidth\":0,\"ticks\":\"\"}}],\"scatter\":[{\"fillpattern\":{\"fillmode\":\"overlay\",\"size\":10,\"solidity\":0.2},\"type\":\"scatter\"}],\"parcoords\":[{\"type\":\"parcoords\",\"line\":{\"colorbar\":{\"outlinewidth\":0,\"ticks\":\"\"}}}],\"scatterpolargl\":[{\"type\":\"scatterpolargl\",\"marker\":{\"colorbar\":{\"outlinewidth\":0,\"ticks\":\"\"}}}],\"bar\":[{\"error_x\":{\"color\":\"#2a3f5f\"},\"error_y\":{\"color\":\"#2a3f5f\"},\"marker\":{\"line\":{\"color\":\"#E5ECF6\",\"width\":0.5},\"pattern\":{\"fillmode\":\"overlay\",\"size\":10,\"solidity\":0.2}},\"type\":\"bar\"}],\"scattergeo\":[{\"type\":\"scattergeo\",\"marker\":{\"colorbar\":{\"outlinewidth\":0,\"ticks\":\"\"}}}],\"scatterpolar\":[{\"type\":\"scatterpolar\",\"marker\":{\"colorbar\":{\"outlinewidth\":0,\"ticks\":\"\"}}}],\"histogram\":[{\"marker\":{\"pattern\":{\"fillmode\":\"overlay\",\"size\":10,\"solidity\":0.2}},\"type\":\"histogram\"}],\"scattergl\":[{\"type\":\"scattergl\",\"marker\":{\"colorbar\":{\"outlinewidth\":0,\"ticks\":\"\"}}}],\"scatter3d\":[{\"type\":\"scatter3d\",\"line\":{\"colorbar\":{\"outlinewidth\":0,\"ticks\":\"\"}},\"marker\":{\"colorbar\":{\"outlinewidth\":0,\"ticks\":\"\"}}}],\"scattermapbox\":[{\"type\":\"scattermapbox\",\"marker\":{\"colorbar\":{\"outlinewidth\":0,\"ticks\":\"\"}}}],\"scatterternary\":[{\"type\":\"scatterternary\",\"marker\":{\"colorbar\":{\"outlinewidth\":0,\"ticks\":\"\"}}}],\"scattercarpet\":[{\"type\":\"scattercarpet\",\"marker\":{\"colorbar\":{\"outlinewidth\":0,\"ticks\":\"\"}}}],\"carpet\":[{\"aaxis\":{\"endlinecolor\":\"#2a3f5f\",\"gridcolor\":\"white\",\"linecolor\":\"white\",\"minorgridcolor\":\"white\",\"startlinecolor\":\"#2a3f5f\"},\"baxis\":{\"endlinecolor\":\"#2a3f5f\",\"gridcolor\":\"white\",\"linecolor\":\"white\",\"minorgridcolor\":\"white\",\"startlinecolor\":\"#2a3f5f\"},\"type\":\"carpet\"}],\"table\":[{\"cells\":{\"fill\":{\"color\":\"#EBF0F8\"},\"line\":{\"color\":\"white\"}},\"header\":{\"fill\":{\"color\":\"#C8D4E3\"},\"line\":{\"color\":\"white\"}},\"type\":\"table\"}],\"barpolar\":[{\"marker\":{\"line\":{\"color\":\"#E5ECF6\",\"width\":0.5},\"pattern\":{\"fillmode\":\"overlay\",\"size\":10,\"solidity\":0.2}},\"type\":\"barpolar\"}],\"pie\":[{\"automargin\":true,\"type\":\"pie\"}]},\"layout\":{\"autotypenumbers\":\"strict\",\"colorway\":[\"#636efa\",\"#EF553B\",\"#00cc96\",\"#ab63fa\",\"#FFA15A\",\"#19d3f3\",\"#FF6692\",\"#B6E880\",\"#FF97FF\",\"#FECB52\"],\"font\":{\"color\":\"#2a3f5f\"},\"hovermode\":\"closest\",\"hoverlabel\":{\"align\":\"left\"},\"paper_bgcolor\":\"white\",\"plot_bgcolor\":\"#E5ECF6\",\"polar\":{\"bgcolor\":\"#E5ECF6\",\"angularaxis\":{\"gridcolor\":\"white\",\"linecolor\":\"white\",\"ticks\":\"\"},\"radialaxis\":{\"gridcolor\":\"white\",\"linecolor\":\"white\",\"ticks\":\"\"}},\"ternary\":{\"bgcolor\":\"#E5ECF6\",\"aaxis\":{\"gridcolor\":\"white\",\"linecolor\":\"white\",\"ticks\":\"\"},\"baxis\":{\"gridcolor\":\"white\",\"linecolor\":\"white\",\"ticks\":\"\"},\"caxis\":{\"gridcolor\":\"white\",\"linecolor\":\"white\",\"ticks\":\"\"}},\"coloraxis\":{\"colorbar\":{\"outlinewidth\":0,\"ticks\":\"\"}},\"colorscale\":{\"sequential\":[[0.0,\"#0d0887\"],[0.1111111111111111,\"#46039f\"],[0.2222222222222222,\"#7201a8\"],[0.3333333333333333,\"#9c179e\"],[0.4444444444444444,\"#bd3786\"],[0.5555555555555556,\"#d8576b\"],[0.6666666666666666,\"#ed7953\"],[0.7777777777777778,\"#fb9f3a\"],[0.8888888888888888,\"#fdca26\"],[1.0,\"#f0f921\"]],\"sequentialminus\":[[0.0,\"#0d0887\"],[0.1111111111111111,\"#46039f\"],[0.2222222222222222,\"#7201a8\"],[0.3333333333333333,\"#9c179e\"],[0.4444444444444444,\"#bd3786\"],[0.5555555555555556,\"#d8576b\"],[0.6666666666666666,\"#ed7953\"],[0.7777777777777778,\"#fb9f3a\"],[0.8888888888888888,\"#fdca26\"],[1.0,\"#f0f921\"]],\"diverging\":[[0,\"#8e0152\"],[0.1,\"#c51b7d\"],[0.2,\"#de77ae\"],[0.3,\"#f1b6da\"],[0.4,\"#fde0ef\"],[0.5,\"#f7f7f7\"],[0.6,\"#e6f5d0\"],[0.7,\"#b8e186\"],[0.8,\"#7fbc41\"],[0.9,\"#4d9221\"],[1,\"#276419\"]]},\"xaxis\":{\"gridcolor\":\"white\",\"linecolor\":\"white\",\"ticks\":\"\",\"title\":{\"standoff\":15},\"zerolinecolor\":\"white\",\"automargin\":true,\"zerolinewidth\":2},\"yaxis\":{\"gridcolor\":\"white\",\"linecolor\":\"white\",\"ticks\":\"\",\"title\":{\"standoff\":15},\"zerolinecolor\":\"white\",\"automargin\":true,\"zerolinewidth\":2},\"scene\":{\"xaxis\":{\"backgroundcolor\":\"#E5ECF6\",\"gridcolor\":\"white\",\"linecolor\":\"white\",\"showbackground\":true,\"ticks\":\"\",\"zerolinecolor\":\"white\",\"gridwidth\":2},\"yaxis\":{\"backgroundcolor\":\"#E5ECF6\",\"gridcolor\":\"white\",\"linecolor\":\"white\",\"showbackground\":true,\"ticks\":\"\",\"zerolinecolor\":\"white\",\"gridwidth\":2},\"zaxis\":{\"backgroundcolor\":\"#E5ECF6\",\"gridcolor\":\"white\",\"linecolor\":\"white\",\"showbackground\":true,\"ticks\":\"\",\"zerolinecolor\":\"white\",\"gridwidth\":2}},\"shapedefaults\":{\"line\":{\"color\":\"#2a3f5f\"}},\"annotationdefaults\":{\"arrowcolor\":\"#2a3f5f\",\"arrowhead\":0,\"arrowwidth\":1},\"geo\":{\"bgcolor\":\"white\",\"landcolor\":\"#E5ECF6\",\"subunitcolor\":\"white\",\"showland\":true,\"showlakes\":true,\"lakecolor\":\"white\"},\"title\":{\"x\":0.05},\"mapbox\":{\"style\":\"light\"}}},\"xaxis\":{\"anchor\":\"y\",\"domain\":[0.0,1.0],\"title\":{\"text\":\"horsepower\"}},\"yaxis\":{\"anchor\":\"x\",\"domain\":[0.0,1.0],\"title\":{\"text\":\"count\"}},\"legend\":{\"title\":{\"text\":\"origin\"},\"tracegroupgap\":0},\"margin\":{\"t\":60},\"barmode\":\"relative\"},                        {\"responsive\": true}                    ).then(function(){\n",
       "                            \n",
       "var gd = document.getElementById('e514d617-6e96-4497-bee5-dbe749c77112');\n",
       "var x = new MutationObserver(function (mutations, observer) {{\n",
       "        var display = window.getComputedStyle(gd).display;\n",
       "        if (!display || display === 'none') {{\n",
       "            console.log([gd, 'removed!']);\n",
       "            Plotly.purge(gd);\n",
       "            observer.disconnect();\n",
       "        }}\n",
       "}});\n",
       "\n",
       "// Listen for the removal of the full notebook cells\n",
       "var notebookContainer = gd.closest('#notebook-container');\n",
       "if (notebookContainer) {{\n",
       "    x.observe(notebookContainer, {childList: true});\n",
       "}}\n",
       "\n",
       "// Listen for the clearing of the current output cell\n",
       "var outputEl = gd.closest('.output');\n",
       "if (outputEl) {{\n",
       "    x.observe(outputEl, {childList: true});\n",
       "}}\n",
       "\n",
       "                        })                };                });            </script>        </div>"
      ]
     },
     "metadata": {},
     "output_type": "display_data"
    }
   ],
   "source": [
    "px.histogram(data, x = \"horsepower\", color = \"origin\", hover_name = \"name\")"
   ]
  },
  {
   "cell_type": "code",
   "execution_count": 70,
   "id": "e344247e",
   "metadata": {},
   "outputs": [
    {
     "data": {
      "application/vnd.plotly.v1+json": {
       "config": {
        "plotlyServerURL": "https://plot.ly"
       },
       "data": [
        {
         "alignmentgroup": "True",
         "bingroup": "x",
         "hovertemplate": "origin=usa<br>horsepower=%{x}<br>count=%{y}<extra></extra>",
         "legendgroup": "usa",
         "marker": {
          "color": "#636efa",
          "pattern": {
           "shape": ""
          }
         },
         "name": "usa",
         "offsetgroup": "usa",
         "orientation": "v",
         "showlegend": true,
         "type": "histogram",
         "x": [
          130,
          165,
          150,
          150,
          140,
          198,
          220,
          215,
          225,
          190,
          170,
          160,
          150,
          225,
          95,
          97,
          85,
          90,
          215,
          200,
          210,
          193,
          90,
          null,
          100,
          105,
          100,
          88,
          100,
          165,
          175,
          153,
          150,
          180,
          170,
          175,
          110,
          72,
          100,
          88,
          86,
          70,
          80,
          90,
          86,
          165,
          175,
          150,
          153,
          150,
          208,
          155,
          160,
          190,
          150,
          130,
          140,
          150,
          86,
          80,
          175,
          150,
          145,
          137,
          150,
          198,
          150,
          158,
          150,
          215,
          225,
          175,
          105,
          100,
          100,
          88,
          95,
          150,
          167,
          170,
          180,
          100,
          72,
          85,
          107,
          145,
          230,
          150,
          180,
          95,
          null,
          100,
          100,
          80,
          75,
          100,
          110,
          105,
          140,
          150,
          150,
          140,
          150,
          75,
          95,
          105,
          72,
          72,
          170,
          145,
          150,
          148,
          110,
          105,
          110,
          95,
          110,
          110,
          129,
          83,
          100,
          78,
          97,
          90,
          92,
          79,
          140,
          150,
          120,
          152,
          100,
          105,
          81,
          90,
          52,
          60,
          100,
          78,
          110,
          95,
          72,
          150,
          180,
          145,
          130,
          150,
          80,
          96,
          145,
          110,
          145,
          130,
          110,
          105,
          100,
          98,
          180,
          170,
          190,
          149,
          88,
          89,
          63,
          83,
          66,
          110,
          140,
          139,
          105,
          95,
          85,
          88,
          100,
          90,
          105,
          85,
          110,
          120,
          145,
          165,
          139,
          140,
          68,
          75,
          105,
          85,
          115,
          85,
          88,
          90,
          110,
          130,
          129,
          138,
          135,
          155,
          142,
          125,
          150,
          80,
          80,
          125,
          90,
          70,
          70,
          90,
          115,
          115,
          90,
          70,
          90,
          88,
          90,
          90,
          105,
          null,
          84,
          84,
          92,
          110,
          84,
          64,
          63,
          65,
          65,
          110,
          105,
          88,
          85,
          88,
          88,
          88,
          85,
          84,
          90,
          92,
          null,
          63,
          70,
          110,
          85,
          92,
          112,
          84,
          90,
          86,
          84,
          79,
          82
         ],
         "xaxis": "x",
         "yaxis": "y"
        },
        {
         "alignmentgroup": "True",
         "boxpoints": "all",
         "fillcolor": "rgba(255,255,255,0)",
         "hoveron": "points",
         "hovertemplate": "<b>%{hovertext}</b><br><br>origin=usa<br>horsepower=%{x}<extra></extra>",
         "hovertext": [
          "chevrolet chevelle malibu",
          "buick skylark 320",
          "plymouth satellite",
          "amc rebel sst",
          "ford torino",
          "ford galaxie 500",
          "chevrolet impala",
          "plymouth fury iii",
          "pontiac catalina",
          "amc ambassador dpl",
          "dodge challenger se",
          "plymouth 'cuda 340",
          "chevrolet monte carlo",
          "buick estate wagon (sw)",
          "plymouth duster",
          "amc hornet",
          "ford maverick",
          "amc gremlin",
          "ford f250",
          "chevy c20",
          "dodge d200",
          "hi 1200d",
          "chevrolet vega 2300",
          "ford pinto",
          "amc gremlin",
          "plymouth satellite custom",
          "chevrolet chevelle malibu",
          "ford torino 500",
          "amc matador",
          "chevrolet impala",
          "pontiac catalina brougham",
          "ford galaxie 500",
          "plymouth fury iii",
          "dodge monaco (sw)",
          "ford country squire (sw)",
          "pontiac safari (sw)",
          "amc hornet sportabout (sw)",
          "chevrolet vega (sw)",
          "pontiac firebird",
          "ford mustang",
          "mercury capri 2000",
          "plymouth cricket",
          "dodge colt hardtop",
          "chevrolet vega",
          "ford pinto runabout",
          "chevrolet impala",
          "pontiac catalina",
          "plymouth fury iii",
          "ford galaxie 500",
          "amc ambassador sst",
          "mercury marquis",
          "buick lesabre custom",
          "oldsmobile delta 88 royale",
          "chrysler newport royal",
          "amc matador (sw)",
          "chevrolet chevelle concours (sw)",
          "ford gran torino (sw)",
          "plymouth satellite custom (sw)",
          "ford pinto (sw)",
          "dodge colt (sw)",
          "buick century 350",
          "amc matador",
          "chevrolet malibu",
          "ford gran torino",
          "dodge coronet custom",
          "mercury marquis brougham",
          "chevrolet caprice classic",
          "ford ltd",
          "plymouth fury gran sedan",
          "chrysler new yorker brougham",
          "buick electra 225 custom",
          "amc ambassador brougham",
          "plymouth valiant",
          "chevrolet nova custom",
          "amc hornet",
          "ford maverick",
          "plymouth duster",
          "chevrolet impala",
          "ford country",
          "plymouth custom suburb",
          "oldsmobile vista cruiser",
          "amc gremlin",
          "chevrolet vega",
          "ford pinto",
          "mercury capri v6",
          "chevrolet monte carlo s",
          "pontiac grand prix",
          "dodge dart custom",
          "oldsmobile omega",
          "plymouth duster",
          "ford maverick",
          "amc hornet",
          "chevrolet nova",
          "ford pinto",
          "chevrolet vega",
          "chevrolet chevelle malibu classic",
          "amc matador",
          "plymouth satellite sebring",
          "ford gran torino",
          "buick century luxus (sw)",
          "dodge coronet custom (sw)",
          "ford gran torino (sw)",
          "amc matador (sw)",
          "dodge colt",
          "plymouth valiant custom",
          "chevrolet nova",
          "mercury monarch",
          "ford maverick",
          "pontiac catalina",
          "chevrolet bel air",
          "plymouth grand fury",
          "ford ltd",
          "buick century",
          "chevroelt chevelle malibu",
          "amc matador",
          "plymouth fury",
          "buick skyhawk",
          "chevrolet monza 2+2",
          "ford mustang ii",
          "ford pinto",
          "amc gremlin",
          "pontiac astro",
          "ford pinto",
          "amc pacer",
          "capri ii",
          "dodge colt",
          "chevrolet chevelle malibu classic",
          "dodge coronet brougham",
          "amc matador",
          "ford gran torino",
          "plymouth valiant",
          "chevrolet nova",
          "ford maverick",
          "amc hornet",
          "chevrolet chevette",
          "chevrolet woody",
          "dodge aspen se",
          "ford granada ghia",
          "pontiac ventura sj",
          "amc pacer d/l",
          "ford pinto",
          "plymouth volare premier v8",
          "cadillac seville",
          "chevy c10",
          "ford f108",
          "dodge d100",
          "buick opel isuzu deluxe",
          "plymouth arrow gs",
          "chevrolet caprice classic",
          "oldsmobile cutlass supreme",
          "dodge monaco brougham",
          "mercury cougar brougham",
          "chevrolet concours",
          "buick skylark",
          "plymouth volare custom",
          "ford granada",
          "pontiac grand prix lj",
          "chevrolet monte carlo landau",
          "chrysler cordoba",
          "ford thunderbird",
          "pontiac sunbird coupe",
          "ford mustang ii 2+2",
          "chevrolet chevette",
          "dodge colt m/m",
          "ford fiesta",
          "oldsmobile cutlass salon brougham",
          "dodge diplomat",
          "mercury monarch ghia",
          "pontiac phoenix lj",
          "chevrolet malibu",
          "ford fairmont (auto)",
          "ford fairmont (man)",
          "plymouth volare",
          "amc concord",
          "buick century special",
          "mercury zephyr",
          "dodge aspen",
          "amc concord d/l",
          "chevrolet monte carlo landau",
          "buick regal sport coupe (turbo)",
          "ford futura",
          "dodge magnum xe",
          "chevrolet chevette",
          "dodge omni",
          "plymouth sapporo",
          "oldsmobile starfire sx",
          "pontiac lemans v6",
          "mercury zephyr 6",
          "ford fairmont 4",
          "amc concord dl 6",
          "dodge aspen 6",
          "chevrolet caprice classic",
          "ford ltd landau",
          "mercury grand marquis",
          "dodge st. regis",
          "buick estate wagon (sw)",
          "ford country squire (sw)",
          "chevrolet malibu classic (sw)",
          "chrysler lebaron town @ country (sw)",
          "dodge colt hatchback custom",
          "amc spirit dl",
          "cadillac eldorado",
          "oldsmobile cutlass salon brougham",
          "plymouth horizon",
          "plymouth horizon tc3",
          "buick skylark limited",
          "chevrolet citation",
          "oldsmobile omega brougham",
          "pontiac phoenix",
          "chevrolet chevette",
          "chevrolet citation",
          "ford fairmont",
          "amc concord",
          "dodge aspen",
          "dodge colt",
          "ford mustang cobra",
          "plymouth reliant",
          "buick skylark",
          "dodge aries wagon (sw)",
          "chevrolet citation",
          "plymouth reliant",
          "plymouth champ",
          "plymouth horizon 4",
          "ford escort 4w",
          "ford escort 2h",
          "buick century",
          "oldsmobile cutlass ls",
          "ford granada gl",
          "chrysler lebaron salon",
          "chevrolet cavalier",
          "chevrolet cavalier wagon",
          "chevrolet cavalier 2-door",
          "pontiac j2000 se hatchback",
          "dodge aries se",
          "pontiac phoenix",
          "ford fairmont futura",
          "amc concord dl",
          "plymouth horizon miser",
          "mercury lynx l",
          "buick century limited",
          "oldsmobile cutlass ciera (diesel)",
          "chrysler lebaron medallion",
          "ford granada l",
          "dodge charger 2.2",
          "chevrolet camaro",
          "ford mustang gl",
          "dodge rampage",
          "ford ranger",
          "chevy s-10"
         ],
         "jitter": 0,
         "legendgroup": "usa",
         "line": {
          "color": "rgba(255,255,255,0)"
         },
         "marker": {
          "color": "#636efa",
          "symbol": "line-ns-open"
         },
         "name": "usa",
         "offsetgroup": "usa",
         "showlegend": false,
         "type": "box",
         "x": [
          130,
          165,
          150,
          150,
          140,
          198,
          220,
          215,
          225,
          190,
          170,
          160,
          150,
          225,
          95,
          97,
          85,
          90,
          215,
          200,
          210,
          193,
          90,
          null,
          100,
          105,
          100,
          88,
          100,
          165,
          175,
          153,
          150,
          180,
          170,
          175,
          110,
          72,
          100,
          88,
          86,
          70,
          80,
          90,
          86,
          165,
          175,
          150,
          153,
          150,
          208,
          155,
          160,
          190,
          150,
          130,
          140,
          150,
          86,
          80,
          175,
          150,
          145,
          137,
          150,
          198,
          150,
          158,
          150,
          215,
          225,
          175,
          105,
          100,
          100,
          88,
          95,
          150,
          167,
          170,
          180,
          100,
          72,
          85,
          107,
          145,
          230,
          150,
          180,
          95,
          null,
          100,
          100,
          80,
          75,
          100,
          110,
          105,
          140,
          150,
          150,
          140,
          150,
          75,
          95,
          105,
          72,
          72,
          170,
          145,
          150,
          148,
          110,
          105,
          110,
          95,
          110,
          110,
          129,
          83,
          100,
          78,
          97,
          90,
          92,
          79,
          140,
          150,
          120,
          152,
          100,
          105,
          81,
          90,
          52,
          60,
          100,
          78,
          110,
          95,
          72,
          150,
          180,
          145,
          130,
          150,
          80,
          96,
          145,
          110,
          145,
          130,
          110,
          105,
          100,
          98,
          180,
          170,
          190,
          149,
          88,
          89,
          63,
          83,
          66,
          110,
          140,
          139,
          105,
          95,
          85,
          88,
          100,
          90,
          105,
          85,
          110,
          120,
          145,
          165,
          139,
          140,
          68,
          75,
          105,
          85,
          115,
          85,
          88,
          90,
          110,
          130,
          129,
          138,
          135,
          155,
          142,
          125,
          150,
          80,
          80,
          125,
          90,
          70,
          70,
          90,
          115,
          115,
          90,
          70,
          90,
          88,
          90,
          90,
          105,
          null,
          84,
          84,
          92,
          110,
          84,
          64,
          63,
          65,
          65,
          110,
          105,
          88,
          85,
          88,
          88,
          88,
          85,
          84,
          90,
          92,
          null,
          63,
          70,
          110,
          85,
          92,
          112,
          84,
          90,
          86,
          84,
          79,
          82
         ],
         "xaxis": "x2",
         "yaxis": "y2"
        },
        {
         "alignmentgroup": "True",
         "bingroup": "x",
         "hovertemplate": "origin=japan<br>horsepower=%{x}<br>count=%{y}<extra></extra>",
         "legendgroup": "japan",
         "marker": {
          "color": "#EF553B",
          "pattern": {
           "shape": ""
          }
         },
         "name": "japan",
         "offsetgroup": "japan",
         "orientation": "v",
         "showlegend": true,
         "type": "histogram",
         "x": [
          95,
          88,
          88,
          95,
          65,
          69,
          95,
          97,
          92,
          97,
          88,
          88,
          94,
          90,
          122,
          67,
          65,
          52,
          61,
          97,
          93,
          75,
          96,
          97,
          53,
          53,
          70,
          75,
          108,
          68,
          70,
          75,
          67,
          97,
          110,
          52,
          70,
          60,
          95,
          97,
          95,
          97,
          68,
          65,
          65,
          60,
          65,
          90,
          75,
          92,
          75,
          65,
          65,
          67,
          67,
          132,
          100,
          72,
          58,
          60,
          67,
          65,
          62,
          68,
          75,
          75,
          100,
          74,
          116,
          120,
          68,
          68,
          88,
          75,
          70,
          67,
          67,
          67,
          96
         ],
         "xaxis": "x",
         "yaxis": "y"
        },
        {
         "alignmentgroup": "True",
         "boxpoints": "all",
         "fillcolor": "rgba(255,255,255,0)",
         "hoveron": "points",
         "hovertemplate": "<b>%{hovertext}</b><br><br>origin=japan<br>horsepower=%{x}<extra></extra>",
         "hovertext": [
          "toyota corona mark ii",
          "datsun pl510",
          "datsun pl510",
          "toyota corona",
          "toyota corolla 1200",
          "datsun 1200",
          "toyota corona hardtop",
          "mazda rx2 coupe",
          "datsun 510 (sw)",
          "toyouta corona mark ii (sw)",
          "toyota corolla 1600 (sw)",
          "toyota carina",
          "datsun 610",
          "maxda rx3",
          "toyota mark ii",
          "datsun b210",
          "toyota corolla 1200",
          "toyota corona",
          "datsun 710",
          "honda civic",
          "subaru",
          "toyota corolla",
          "toyota corona",
          "datsun 710",
          "honda civic cvcc",
          "honda civic",
          "datsun b-210",
          "toyota corolla",
          "toyota mark ii",
          "honda accord cvcc",
          "datsun f-10 hatchback",
          "toyota corolla liftback",
          "subaru dl",
          "datsun 810",
          "mazda rx-4",
          "mazda glc deluxe",
          "datsun b210 gx",
          "honda civic cvcc",
          "toyota corona",
          "datsun 510",
          "toyota celica gt liftback",
          "datsun 200-sx",
          "honda accord lx",
          "maxda glc deluxe",
          "datsun 210",
          "toyota corolla tercel",
          "datsun 310",
          "toyota corona liftback",
          "mazda 626",
          "datsun 510 hatchback",
          "toyota corolla",
          "mazda glc",
          "datsun 210",
          "honda civic 1500 gl",
          "subaru dl",
          "datsun 280-zx",
          "mazda rx-7 gs",
          "honda accord",
          "toyota starlet",
          "honda civic 1300",
          "subaru",
          "datsun 210 mpg",
          "toyota tercel",
          "mazda glc 4",
          "honda prelude",
          "toyota corolla",
          "datsun 200sx",
          "mazda 626",
          "toyota cressida",
          "datsun 810 maxima",
          "mazda glc custom l",
          "mazda glc custom",
          "nissan stanza xe",
          "honda accord",
          "toyota corolla",
          "honda civic",
          "honda civic (auto)",
          "datsun 310 gx",
          "toyota celica gt"
         ],
         "jitter": 0,
         "legendgroup": "japan",
         "line": {
          "color": "rgba(255,255,255,0)"
         },
         "marker": {
          "color": "#EF553B",
          "symbol": "line-ns-open"
         },
         "name": "japan",
         "offsetgroup": "japan",
         "showlegend": false,
         "type": "box",
         "x": [
          95,
          88,
          88,
          95,
          65,
          69,
          95,
          97,
          92,
          97,
          88,
          88,
          94,
          90,
          122,
          67,
          65,
          52,
          61,
          97,
          93,
          75,
          96,
          97,
          53,
          53,
          70,
          75,
          108,
          68,
          70,
          75,
          67,
          97,
          110,
          52,
          70,
          60,
          95,
          97,
          95,
          97,
          68,
          65,
          65,
          60,
          65,
          90,
          75,
          92,
          75,
          65,
          65,
          67,
          67,
          132,
          100,
          72,
          58,
          60,
          67,
          65,
          62,
          68,
          75,
          75,
          100,
          74,
          116,
          120,
          68,
          68,
          88,
          75,
          70,
          67,
          67,
          67,
          96
         ],
         "xaxis": "x2",
         "yaxis": "y2"
        },
        {
         "alignmentgroup": "True",
         "bingroup": "x",
         "hovertemplate": "origin=europe<br>horsepower=%{x}<br>count=%{y}<extra></extra>",
         "legendgroup": "europe",
         "marker": {
          "color": "#00cc96",
          "pattern": {
           "shape": ""
          }
         },
         "name": "europe",
         "offsetgroup": "europe",
         "orientation": "v",
         "showlegend": true,
         "type": "histogram",
         "x": [
          46,
          87,
          90,
          95,
          113,
          90,
          70,
          76,
          60,
          54,
          112,
          76,
          87,
          69,
          46,
          90,
          49,
          75,
          91,
          112,
          110,
          83,
          67,
          78,
          75,
          75,
          67,
          71,
          70,
          95,
          88,
          98,
          115,
          86,
          81,
          83,
          70,
          71,
          102,
          88,
          120,
          58,
          78,
          78,
          110,
          48,
          103,
          125,
          115,
          133,
          71,
          71,
          77,
          71,
          69,
          76,
          78,
          48,
          48,
          67,
          67,
          null,
          62,
          88,
          74,
          null,
          80,
          76,
          74,
          52
         ],
         "xaxis": "x",
         "yaxis": "y"
        },
        {
         "alignmentgroup": "True",
         "boxpoints": "all",
         "fillcolor": "rgba(255,255,255,0)",
         "hoveron": "points",
         "hovertemplate": "<b>%{hovertext}</b><br><br>origin=europe<br>horsepower=%{x}<extra></extra>",
         "hovertext": [
          "volkswagen 1131 deluxe sedan",
          "peugeot 504",
          "audi 100 ls",
          "saab 99e",
          "bmw 2002",
          "opel 1900",
          "peugeot 304",
          "fiat 124b",
          "volkswagen model 111",
          "volkswagen type 3",
          "volvo 145e (sw)",
          "volkswagen 411 (sw)",
          "peugeot 504 (sw)",
          "renault 12 (sw)",
          "volkswagen super beetle",
          "fiat 124 sport coupe",
          "fiat 128",
          "opel manta",
          "audi 100ls",
          "volvo 144ea",
          "saab 99le",
          "audi fox",
          "volkswagen dasher",
          "opel manta",
          "fiat 128",
          "fiat 124 tc",
          "fiat x1.9",
          "volkswagen dasher",
          "volkswagen rabbit",
          "audi 100ls",
          "peugeot 504",
          "volvo 244dl",
          "saab 99le",
          "fiat 131",
          "opel 1900",
          "renault 12tl",
          "vw rabbit",
          "volkswagen rabbit",
          "volvo 245",
          "peugeot 504",
          "mercedes-benz 280s",
          "renault 5 gtl",
          "volkswagen rabbit custom",
          "volkswagen dasher",
          "bmw 320i",
          "volkswagen rabbit custom diesel",
          "audi 5000",
          "volvo 264gl",
          "saab 99gle",
          "peugeot 604sl",
          "volkswagen scirocco",
          "vw rabbit custom",
          "mercedes benz 300d",
          "peugeot 504",
          "fiat strada custom",
          "vw rabbit",
          "audi 4000",
          "vw rabbit c (diesel)",
          "vw dasher (diesel)",
          "audi 5000s (diesel)",
          "mercedes-benz 240d",
          "renault lecar deluxe",
          "vokswagen rabbit",
          "triumph tr7 coupe",
          "volkswagen jetta",
          "renault 18i",
          "peugeot 505s turbo diesel",
          "volvo diesel",
          "volkswagen rabbit l",
          "vw pickup"
         ],
         "jitter": 0,
         "legendgroup": "europe",
         "line": {
          "color": "rgba(255,255,255,0)"
         },
         "marker": {
          "color": "#00cc96",
          "symbol": "line-ns-open"
         },
         "name": "europe",
         "offsetgroup": "europe",
         "showlegend": false,
         "type": "box",
         "x": [
          46,
          87,
          90,
          95,
          113,
          90,
          70,
          76,
          60,
          54,
          112,
          76,
          87,
          69,
          46,
          90,
          49,
          75,
          91,
          112,
          110,
          83,
          67,
          78,
          75,
          75,
          67,
          71,
          70,
          95,
          88,
          98,
          115,
          86,
          81,
          83,
          70,
          71,
          102,
          88,
          120,
          58,
          78,
          78,
          110,
          48,
          103,
          125,
          115,
          133,
          71,
          71,
          77,
          71,
          69,
          76,
          78,
          48,
          48,
          67,
          67,
          null,
          62,
          88,
          74,
          null,
          80,
          76,
          74,
          52
         ],
         "xaxis": "x2",
         "yaxis": "y2"
        }
       ],
       "layout": {
        "barmode": "relative",
        "legend": {
         "title": {
          "text": "origin"
         },
         "tracegroupgap": 0
        },
        "margin": {
         "t": 60
        },
        "template": {
         "data": {
          "bar": [
           {
            "error_x": {
             "color": "#2a3f5f"
            },
            "error_y": {
             "color": "#2a3f5f"
            },
            "marker": {
             "line": {
              "color": "#E5ECF6",
              "width": 0.5
             },
             "pattern": {
              "fillmode": "overlay",
              "size": 10,
              "solidity": 0.2
             }
            },
            "type": "bar"
           }
          ],
          "barpolar": [
           {
            "marker": {
             "line": {
              "color": "#E5ECF6",
              "width": 0.5
             },
             "pattern": {
              "fillmode": "overlay",
              "size": 10,
              "solidity": 0.2
             }
            },
            "type": "barpolar"
           }
          ],
          "carpet": [
           {
            "aaxis": {
             "endlinecolor": "#2a3f5f",
             "gridcolor": "white",
             "linecolor": "white",
             "minorgridcolor": "white",
             "startlinecolor": "#2a3f5f"
            },
            "baxis": {
             "endlinecolor": "#2a3f5f",
             "gridcolor": "white",
             "linecolor": "white",
             "minorgridcolor": "white",
             "startlinecolor": "#2a3f5f"
            },
            "type": "carpet"
           }
          ],
          "choropleth": [
           {
            "colorbar": {
             "outlinewidth": 0,
             "ticks": ""
            },
            "type": "choropleth"
           }
          ],
          "contour": [
           {
            "colorbar": {
             "outlinewidth": 0,
             "ticks": ""
            },
            "colorscale": [
             [
              0,
              "#0d0887"
             ],
             [
              0.1111111111111111,
              "#46039f"
             ],
             [
              0.2222222222222222,
              "#7201a8"
             ],
             [
              0.3333333333333333,
              "#9c179e"
             ],
             [
              0.4444444444444444,
              "#bd3786"
             ],
             [
              0.5555555555555556,
              "#d8576b"
             ],
             [
              0.6666666666666666,
              "#ed7953"
             ],
             [
              0.7777777777777778,
              "#fb9f3a"
             ],
             [
              0.8888888888888888,
              "#fdca26"
             ],
             [
              1,
              "#f0f921"
             ]
            ],
            "type": "contour"
           }
          ],
          "contourcarpet": [
           {
            "colorbar": {
             "outlinewidth": 0,
             "ticks": ""
            },
            "type": "contourcarpet"
           }
          ],
          "heatmap": [
           {
            "colorbar": {
             "outlinewidth": 0,
             "ticks": ""
            },
            "colorscale": [
             [
              0,
              "#0d0887"
             ],
             [
              0.1111111111111111,
              "#46039f"
             ],
             [
              0.2222222222222222,
              "#7201a8"
             ],
             [
              0.3333333333333333,
              "#9c179e"
             ],
             [
              0.4444444444444444,
              "#bd3786"
             ],
             [
              0.5555555555555556,
              "#d8576b"
             ],
             [
              0.6666666666666666,
              "#ed7953"
             ],
             [
              0.7777777777777778,
              "#fb9f3a"
             ],
             [
              0.8888888888888888,
              "#fdca26"
             ],
             [
              1,
              "#f0f921"
             ]
            ],
            "type": "heatmap"
           }
          ],
          "heatmapgl": [
           {
            "colorbar": {
             "outlinewidth": 0,
             "ticks": ""
            },
            "colorscale": [
             [
              0,
              "#0d0887"
             ],
             [
              0.1111111111111111,
              "#46039f"
             ],
             [
              0.2222222222222222,
              "#7201a8"
             ],
             [
              0.3333333333333333,
              "#9c179e"
             ],
             [
              0.4444444444444444,
              "#bd3786"
             ],
             [
              0.5555555555555556,
              "#d8576b"
             ],
             [
              0.6666666666666666,
              "#ed7953"
             ],
             [
              0.7777777777777778,
              "#fb9f3a"
             ],
             [
              0.8888888888888888,
              "#fdca26"
             ],
             [
              1,
              "#f0f921"
             ]
            ],
            "type": "heatmapgl"
           }
          ],
          "histogram": [
           {
            "marker": {
             "pattern": {
              "fillmode": "overlay",
              "size": 10,
              "solidity": 0.2
             }
            },
            "type": "histogram"
           }
          ],
          "histogram2d": [
           {
            "colorbar": {
             "outlinewidth": 0,
             "ticks": ""
            },
            "colorscale": [
             [
              0,
              "#0d0887"
             ],
             [
              0.1111111111111111,
              "#46039f"
             ],
             [
              0.2222222222222222,
              "#7201a8"
             ],
             [
              0.3333333333333333,
              "#9c179e"
             ],
             [
              0.4444444444444444,
              "#bd3786"
             ],
             [
              0.5555555555555556,
              "#d8576b"
             ],
             [
              0.6666666666666666,
              "#ed7953"
             ],
             [
              0.7777777777777778,
              "#fb9f3a"
             ],
             [
              0.8888888888888888,
              "#fdca26"
             ],
             [
              1,
              "#f0f921"
             ]
            ],
            "type": "histogram2d"
           }
          ],
          "histogram2dcontour": [
           {
            "colorbar": {
             "outlinewidth": 0,
             "ticks": ""
            },
            "colorscale": [
             [
              0,
              "#0d0887"
             ],
             [
              0.1111111111111111,
              "#46039f"
             ],
             [
              0.2222222222222222,
              "#7201a8"
             ],
             [
              0.3333333333333333,
              "#9c179e"
             ],
             [
              0.4444444444444444,
              "#bd3786"
             ],
             [
              0.5555555555555556,
              "#d8576b"
             ],
             [
              0.6666666666666666,
              "#ed7953"
             ],
             [
              0.7777777777777778,
              "#fb9f3a"
             ],
             [
              0.8888888888888888,
              "#fdca26"
             ],
             [
              1,
              "#f0f921"
             ]
            ],
            "type": "histogram2dcontour"
           }
          ],
          "mesh3d": [
           {
            "colorbar": {
             "outlinewidth": 0,
             "ticks": ""
            },
            "type": "mesh3d"
           }
          ],
          "parcoords": [
           {
            "line": {
             "colorbar": {
              "outlinewidth": 0,
              "ticks": ""
             }
            },
            "type": "parcoords"
           }
          ],
          "pie": [
           {
            "automargin": true,
            "type": "pie"
           }
          ],
          "scatter": [
           {
            "fillpattern": {
             "fillmode": "overlay",
             "size": 10,
             "solidity": 0.2
            },
            "type": "scatter"
           }
          ],
          "scatter3d": [
           {
            "line": {
             "colorbar": {
              "outlinewidth": 0,
              "ticks": ""
             }
            },
            "marker": {
             "colorbar": {
              "outlinewidth": 0,
              "ticks": ""
             }
            },
            "type": "scatter3d"
           }
          ],
          "scattercarpet": [
           {
            "marker": {
             "colorbar": {
              "outlinewidth": 0,
              "ticks": ""
             }
            },
            "type": "scattercarpet"
           }
          ],
          "scattergeo": [
           {
            "marker": {
             "colorbar": {
              "outlinewidth": 0,
              "ticks": ""
             }
            },
            "type": "scattergeo"
           }
          ],
          "scattergl": [
           {
            "marker": {
             "colorbar": {
              "outlinewidth": 0,
              "ticks": ""
             }
            },
            "type": "scattergl"
           }
          ],
          "scattermapbox": [
           {
            "marker": {
             "colorbar": {
              "outlinewidth": 0,
              "ticks": ""
             }
            },
            "type": "scattermapbox"
           }
          ],
          "scatterpolar": [
           {
            "marker": {
             "colorbar": {
              "outlinewidth": 0,
              "ticks": ""
             }
            },
            "type": "scatterpolar"
           }
          ],
          "scatterpolargl": [
           {
            "marker": {
             "colorbar": {
              "outlinewidth": 0,
              "ticks": ""
             }
            },
            "type": "scatterpolargl"
           }
          ],
          "scatterternary": [
           {
            "marker": {
             "colorbar": {
              "outlinewidth": 0,
              "ticks": ""
             }
            },
            "type": "scatterternary"
           }
          ],
          "surface": [
           {
            "colorbar": {
             "outlinewidth": 0,
             "ticks": ""
            },
            "colorscale": [
             [
              0,
              "#0d0887"
             ],
             [
              0.1111111111111111,
              "#46039f"
             ],
             [
              0.2222222222222222,
              "#7201a8"
             ],
             [
              0.3333333333333333,
              "#9c179e"
             ],
             [
              0.4444444444444444,
              "#bd3786"
             ],
             [
              0.5555555555555556,
              "#d8576b"
             ],
             [
              0.6666666666666666,
              "#ed7953"
             ],
             [
              0.7777777777777778,
              "#fb9f3a"
             ],
             [
              0.8888888888888888,
              "#fdca26"
             ],
             [
              1,
              "#f0f921"
             ]
            ],
            "type": "surface"
           }
          ],
          "table": [
           {
            "cells": {
             "fill": {
              "color": "#EBF0F8"
             },
             "line": {
              "color": "white"
             }
            },
            "header": {
             "fill": {
              "color": "#C8D4E3"
             },
             "line": {
              "color": "white"
             }
            },
            "type": "table"
           }
          ]
         },
         "layout": {
          "annotationdefaults": {
           "arrowcolor": "#2a3f5f",
           "arrowhead": 0,
           "arrowwidth": 1
          },
          "autotypenumbers": "strict",
          "coloraxis": {
           "colorbar": {
            "outlinewidth": 0,
            "ticks": ""
           }
          },
          "colorscale": {
           "diverging": [
            [
             0,
             "#8e0152"
            ],
            [
             0.1,
             "#c51b7d"
            ],
            [
             0.2,
             "#de77ae"
            ],
            [
             0.3,
             "#f1b6da"
            ],
            [
             0.4,
             "#fde0ef"
            ],
            [
             0.5,
             "#f7f7f7"
            ],
            [
             0.6,
             "#e6f5d0"
            ],
            [
             0.7,
             "#b8e186"
            ],
            [
             0.8,
             "#7fbc41"
            ],
            [
             0.9,
             "#4d9221"
            ],
            [
             1,
             "#276419"
            ]
           ],
           "sequential": [
            [
             0,
             "#0d0887"
            ],
            [
             0.1111111111111111,
             "#46039f"
            ],
            [
             0.2222222222222222,
             "#7201a8"
            ],
            [
             0.3333333333333333,
             "#9c179e"
            ],
            [
             0.4444444444444444,
             "#bd3786"
            ],
            [
             0.5555555555555556,
             "#d8576b"
            ],
            [
             0.6666666666666666,
             "#ed7953"
            ],
            [
             0.7777777777777778,
             "#fb9f3a"
            ],
            [
             0.8888888888888888,
             "#fdca26"
            ],
            [
             1,
             "#f0f921"
            ]
           ],
           "sequentialminus": [
            [
             0,
             "#0d0887"
            ],
            [
             0.1111111111111111,
             "#46039f"
            ],
            [
             0.2222222222222222,
             "#7201a8"
            ],
            [
             0.3333333333333333,
             "#9c179e"
            ],
            [
             0.4444444444444444,
             "#bd3786"
            ],
            [
             0.5555555555555556,
             "#d8576b"
            ],
            [
             0.6666666666666666,
             "#ed7953"
            ],
            [
             0.7777777777777778,
             "#fb9f3a"
            ],
            [
             0.8888888888888888,
             "#fdca26"
            ],
            [
             1,
             "#f0f921"
            ]
           ]
          },
          "colorway": [
           "#636efa",
           "#EF553B",
           "#00cc96",
           "#ab63fa",
           "#FFA15A",
           "#19d3f3",
           "#FF6692",
           "#B6E880",
           "#FF97FF",
           "#FECB52"
          ],
          "font": {
           "color": "#2a3f5f"
          },
          "geo": {
           "bgcolor": "white",
           "lakecolor": "white",
           "landcolor": "#E5ECF6",
           "showlakes": true,
           "showland": true,
           "subunitcolor": "white"
          },
          "hoverlabel": {
           "align": "left"
          },
          "hovermode": "closest",
          "mapbox": {
           "style": "light"
          },
          "paper_bgcolor": "white",
          "plot_bgcolor": "#E5ECF6",
          "polar": {
           "angularaxis": {
            "gridcolor": "white",
            "linecolor": "white",
            "ticks": ""
           },
           "bgcolor": "#E5ECF6",
           "radialaxis": {
            "gridcolor": "white",
            "linecolor": "white",
            "ticks": ""
           }
          },
          "scene": {
           "xaxis": {
            "backgroundcolor": "#E5ECF6",
            "gridcolor": "white",
            "gridwidth": 2,
            "linecolor": "white",
            "showbackground": true,
            "ticks": "",
            "zerolinecolor": "white"
           },
           "yaxis": {
            "backgroundcolor": "#E5ECF6",
            "gridcolor": "white",
            "gridwidth": 2,
            "linecolor": "white",
            "showbackground": true,
            "ticks": "",
            "zerolinecolor": "white"
           },
           "zaxis": {
            "backgroundcolor": "#E5ECF6",
            "gridcolor": "white",
            "gridwidth": 2,
            "linecolor": "white",
            "showbackground": true,
            "ticks": "",
            "zerolinecolor": "white"
           }
          },
          "shapedefaults": {
           "line": {
            "color": "#2a3f5f"
           }
          },
          "ternary": {
           "aaxis": {
            "gridcolor": "white",
            "linecolor": "white",
            "ticks": ""
           },
           "baxis": {
            "gridcolor": "white",
            "linecolor": "white",
            "ticks": ""
           },
           "bgcolor": "#E5ECF6",
           "caxis": {
            "gridcolor": "white",
            "linecolor": "white",
            "ticks": ""
           }
          },
          "title": {
           "x": 0.05
          },
          "xaxis": {
           "automargin": true,
           "gridcolor": "white",
           "linecolor": "white",
           "ticks": "",
           "title": {
            "standoff": 15
           },
           "zerolinecolor": "white",
           "zerolinewidth": 2
          },
          "yaxis": {
           "automargin": true,
           "gridcolor": "white",
           "linecolor": "white",
           "ticks": "",
           "title": {
            "standoff": 15
           },
           "zerolinecolor": "white",
           "zerolinewidth": 2
          }
         }
        },
        "xaxis": {
         "anchor": "y",
         "domain": [
          0,
          1
         ],
         "title": {
          "text": "horsepower"
         }
        },
        "xaxis2": {
         "anchor": "y2",
         "domain": [
          0,
          1
         ],
         "matches": "x",
         "showgrid": true,
         "showticklabels": false
        },
        "yaxis": {
         "anchor": "x",
         "domain": [
          0,
          0.7326
         ],
         "title": {
          "text": "count"
         }
        },
        "yaxis2": {
         "anchor": "x2",
         "domain": [
          0.7426,
          1
         ],
         "matches": "y2",
         "showgrid": false,
         "showline": false,
         "showticklabels": false,
         "ticks": ""
        }
       }
      },
      "text/html": [
       "<div>                            <div id=\"a2a38561-67b8-41a2-a724-60197570ae89\" class=\"plotly-graph-div\" style=\"height:525px; width:100%;\"></div>            <script type=\"text/javascript\">                require([\"plotly\"], function(Plotly) {                    window.PLOTLYENV=window.PLOTLYENV || {};                                    if (document.getElementById(\"a2a38561-67b8-41a2-a724-60197570ae89\")) {                    Plotly.newPlot(                        \"a2a38561-67b8-41a2-a724-60197570ae89\",                        [{\"alignmentgroup\":\"True\",\"bingroup\":\"x\",\"hovertemplate\":\"origin=usa<br>horsepower=%{x}<br>count=%{y}<extra></extra>\",\"legendgroup\":\"usa\",\"marker\":{\"color\":\"#636efa\",\"pattern\":{\"shape\":\"\"}},\"name\":\"usa\",\"offsetgroup\":\"usa\",\"orientation\":\"v\",\"showlegend\":true,\"x\":[130.0,165.0,150.0,150.0,140.0,198.0,220.0,215.0,225.0,190.0,170.0,160.0,150.0,225.0,95.0,97.0,85.0,90.0,215.0,200.0,210.0,193.0,90.0,null,100.0,105.0,100.0,88.0,100.0,165.0,175.0,153.0,150.0,180.0,170.0,175.0,110.0,72.0,100.0,88.0,86.0,70.0,80.0,90.0,86.0,165.0,175.0,150.0,153.0,150.0,208.0,155.0,160.0,190.0,150.0,130.0,140.0,150.0,86.0,80.0,175.0,150.0,145.0,137.0,150.0,198.0,150.0,158.0,150.0,215.0,225.0,175.0,105.0,100.0,100.0,88.0,95.0,150.0,167.0,170.0,180.0,100.0,72.0,85.0,107.0,145.0,230.0,150.0,180.0,95.0,null,100.0,100.0,80.0,75.0,100.0,110.0,105.0,140.0,150.0,150.0,140.0,150.0,75.0,95.0,105.0,72.0,72.0,170.0,145.0,150.0,148.0,110.0,105.0,110.0,95.0,110.0,110.0,129.0,83.0,100.0,78.0,97.0,90.0,92.0,79.0,140.0,150.0,120.0,152.0,100.0,105.0,81.0,90.0,52.0,60.0,100.0,78.0,110.0,95.0,72.0,150.0,180.0,145.0,130.0,150.0,80.0,96.0,145.0,110.0,145.0,130.0,110.0,105.0,100.0,98.0,180.0,170.0,190.0,149.0,88.0,89.0,63.0,83.0,66.0,110.0,140.0,139.0,105.0,95.0,85.0,88.0,100.0,90.0,105.0,85.0,110.0,120.0,145.0,165.0,139.0,140.0,68.0,75.0,105.0,85.0,115.0,85.0,88.0,90.0,110.0,130.0,129.0,138.0,135.0,155.0,142.0,125.0,150.0,80.0,80.0,125.0,90.0,70.0,70.0,90.0,115.0,115.0,90.0,70.0,90.0,88.0,90.0,90.0,105.0,null,84.0,84.0,92.0,110.0,84.0,64.0,63.0,65.0,65.0,110.0,105.0,88.0,85.0,88.0,88.0,88.0,85.0,84.0,90.0,92.0,null,63.0,70.0,110.0,85.0,92.0,112.0,84.0,90.0,86.0,84.0,79.0,82.0],\"xaxis\":\"x\",\"yaxis\":\"y\",\"type\":\"histogram\"},{\"alignmentgroup\":\"True\",\"boxpoints\":\"all\",\"fillcolor\":\"rgba(255,255,255,0)\",\"hoveron\":\"points\",\"hovertemplate\":\"<b>%{hovertext}</b><br><br>origin=usa<br>horsepower=%{x}<extra></extra>\",\"hovertext\":[\"chevrolet chevelle malibu\",\"buick skylark 320\",\"plymouth satellite\",\"amc rebel sst\",\"ford torino\",\"ford galaxie 500\",\"chevrolet impala\",\"plymouth fury iii\",\"pontiac catalina\",\"amc ambassador dpl\",\"dodge challenger se\",\"plymouth 'cuda 340\",\"chevrolet monte carlo\",\"buick estate wagon (sw)\",\"plymouth duster\",\"amc hornet\",\"ford maverick\",\"amc gremlin\",\"ford f250\",\"chevy c20\",\"dodge d200\",\"hi 1200d\",\"chevrolet vega 2300\",\"ford pinto\",\"amc gremlin\",\"plymouth satellite custom\",\"chevrolet chevelle malibu\",\"ford torino 500\",\"amc matador\",\"chevrolet impala\",\"pontiac catalina brougham\",\"ford galaxie 500\",\"plymouth fury iii\",\"dodge monaco (sw)\",\"ford country squire (sw)\",\"pontiac safari (sw)\",\"amc hornet sportabout (sw)\",\"chevrolet vega (sw)\",\"pontiac firebird\",\"ford mustang\",\"mercury capri 2000\",\"plymouth cricket\",\"dodge colt hardtop\",\"chevrolet vega\",\"ford pinto runabout\",\"chevrolet impala\",\"pontiac catalina\",\"plymouth fury iii\",\"ford galaxie 500\",\"amc ambassador sst\",\"mercury marquis\",\"buick lesabre custom\",\"oldsmobile delta 88 royale\",\"chrysler newport royal\",\"amc matador (sw)\",\"chevrolet chevelle concours (sw)\",\"ford gran torino (sw)\",\"plymouth satellite custom (sw)\",\"ford pinto (sw)\",\"dodge colt (sw)\",\"buick century 350\",\"amc matador\",\"chevrolet malibu\",\"ford gran torino\",\"dodge coronet custom\",\"mercury marquis brougham\",\"chevrolet caprice classic\",\"ford ltd\",\"plymouth fury gran sedan\",\"chrysler new yorker brougham\",\"buick electra 225 custom\",\"amc ambassador brougham\",\"plymouth valiant\",\"chevrolet nova custom\",\"amc hornet\",\"ford maverick\",\"plymouth duster\",\"chevrolet impala\",\"ford country\",\"plymouth custom suburb\",\"oldsmobile vista cruiser\",\"amc gremlin\",\"chevrolet vega\",\"ford pinto\",\"mercury capri v6\",\"chevrolet monte carlo s\",\"pontiac grand prix\",\"dodge dart custom\",\"oldsmobile omega\",\"plymouth duster\",\"ford maverick\",\"amc hornet\",\"chevrolet nova\",\"ford pinto\",\"chevrolet vega\",\"chevrolet chevelle malibu classic\",\"amc matador\",\"plymouth satellite sebring\",\"ford gran torino\",\"buick century luxus (sw)\",\"dodge coronet custom (sw)\",\"ford gran torino (sw)\",\"amc matador (sw)\",\"dodge colt\",\"plymouth valiant custom\",\"chevrolet nova\",\"mercury monarch\",\"ford maverick\",\"pontiac catalina\",\"chevrolet bel air\",\"plymouth grand fury\",\"ford ltd\",\"buick century\",\"chevroelt chevelle malibu\",\"amc matador\",\"plymouth fury\",\"buick skyhawk\",\"chevrolet monza 2+2\",\"ford mustang ii\",\"ford pinto\",\"amc gremlin\",\"pontiac astro\",\"ford pinto\",\"amc pacer\",\"capri ii\",\"dodge colt\",\"chevrolet chevelle malibu classic\",\"dodge coronet brougham\",\"amc matador\",\"ford gran torino\",\"plymouth valiant\",\"chevrolet nova\",\"ford maverick\",\"amc hornet\",\"chevrolet chevette\",\"chevrolet woody\",\"dodge aspen se\",\"ford granada ghia\",\"pontiac ventura sj\",\"amc pacer d/l\",\"ford pinto\",\"plymouth volare premier v8\",\"cadillac seville\",\"chevy c10\",\"ford f108\",\"dodge d100\",\"buick opel isuzu deluxe\",\"plymouth arrow gs\",\"chevrolet caprice classic\",\"oldsmobile cutlass supreme\",\"dodge monaco brougham\",\"mercury cougar brougham\",\"chevrolet concours\",\"buick skylark\",\"plymouth volare custom\",\"ford granada\",\"pontiac grand prix lj\",\"chevrolet monte carlo landau\",\"chrysler cordoba\",\"ford thunderbird\",\"pontiac sunbird coupe\",\"ford mustang ii 2+2\",\"chevrolet chevette\",\"dodge colt m/m\",\"ford fiesta\",\"oldsmobile cutlass salon brougham\",\"dodge diplomat\",\"mercury monarch ghia\",\"pontiac phoenix lj\",\"chevrolet malibu\",\"ford fairmont (auto)\",\"ford fairmont (man)\",\"plymouth volare\",\"amc concord\",\"buick century special\",\"mercury zephyr\",\"dodge aspen\",\"amc concord d/l\",\"chevrolet monte carlo landau\",\"buick regal sport coupe (turbo)\",\"ford futura\",\"dodge magnum xe\",\"chevrolet chevette\",\"dodge omni\",\"plymouth sapporo\",\"oldsmobile starfire sx\",\"pontiac lemans v6\",\"mercury zephyr 6\",\"ford fairmont 4\",\"amc concord dl 6\",\"dodge aspen 6\",\"chevrolet caprice classic\",\"ford ltd landau\",\"mercury grand marquis\",\"dodge st. regis\",\"buick estate wagon (sw)\",\"ford country squire (sw)\",\"chevrolet malibu classic (sw)\",\"chrysler lebaron town @ country (sw)\",\"dodge colt hatchback custom\",\"amc spirit dl\",\"cadillac eldorado\",\"oldsmobile cutlass salon brougham\",\"plymouth horizon\",\"plymouth horizon tc3\",\"buick skylark limited\",\"chevrolet citation\",\"oldsmobile omega brougham\",\"pontiac phoenix\",\"chevrolet chevette\",\"chevrolet citation\",\"ford fairmont\",\"amc concord\",\"dodge aspen\",\"dodge colt\",\"ford mustang cobra\",\"plymouth reliant\",\"buick skylark\",\"dodge aries wagon (sw)\",\"chevrolet citation\",\"plymouth reliant\",\"plymouth champ\",\"plymouth horizon 4\",\"ford escort 4w\",\"ford escort 2h\",\"buick century\",\"oldsmobile cutlass ls\",\"ford granada gl\",\"chrysler lebaron salon\",\"chevrolet cavalier\",\"chevrolet cavalier wagon\",\"chevrolet cavalier 2-door\",\"pontiac j2000 se hatchback\",\"dodge aries se\",\"pontiac phoenix\",\"ford fairmont futura\",\"amc concord dl\",\"plymouth horizon miser\",\"mercury lynx l\",\"buick century limited\",\"oldsmobile cutlass ciera (diesel)\",\"chrysler lebaron medallion\",\"ford granada l\",\"dodge charger 2.2\",\"chevrolet camaro\",\"ford mustang gl\",\"dodge rampage\",\"ford ranger\",\"chevy s-10\"],\"jitter\":0,\"legendgroup\":\"usa\",\"line\":{\"color\":\"rgba(255,255,255,0)\"},\"marker\":{\"color\":\"#636efa\",\"symbol\":\"line-ns-open\"},\"name\":\"usa\",\"offsetgroup\":\"usa\",\"showlegend\":false,\"x\":[130.0,165.0,150.0,150.0,140.0,198.0,220.0,215.0,225.0,190.0,170.0,160.0,150.0,225.0,95.0,97.0,85.0,90.0,215.0,200.0,210.0,193.0,90.0,null,100.0,105.0,100.0,88.0,100.0,165.0,175.0,153.0,150.0,180.0,170.0,175.0,110.0,72.0,100.0,88.0,86.0,70.0,80.0,90.0,86.0,165.0,175.0,150.0,153.0,150.0,208.0,155.0,160.0,190.0,150.0,130.0,140.0,150.0,86.0,80.0,175.0,150.0,145.0,137.0,150.0,198.0,150.0,158.0,150.0,215.0,225.0,175.0,105.0,100.0,100.0,88.0,95.0,150.0,167.0,170.0,180.0,100.0,72.0,85.0,107.0,145.0,230.0,150.0,180.0,95.0,null,100.0,100.0,80.0,75.0,100.0,110.0,105.0,140.0,150.0,150.0,140.0,150.0,75.0,95.0,105.0,72.0,72.0,170.0,145.0,150.0,148.0,110.0,105.0,110.0,95.0,110.0,110.0,129.0,83.0,100.0,78.0,97.0,90.0,92.0,79.0,140.0,150.0,120.0,152.0,100.0,105.0,81.0,90.0,52.0,60.0,100.0,78.0,110.0,95.0,72.0,150.0,180.0,145.0,130.0,150.0,80.0,96.0,145.0,110.0,145.0,130.0,110.0,105.0,100.0,98.0,180.0,170.0,190.0,149.0,88.0,89.0,63.0,83.0,66.0,110.0,140.0,139.0,105.0,95.0,85.0,88.0,100.0,90.0,105.0,85.0,110.0,120.0,145.0,165.0,139.0,140.0,68.0,75.0,105.0,85.0,115.0,85.0,88.0,90.0,110.0,130.0,129.0,138.0,135.0,155.0,142.0,125.0,150.0,80.0,80.0,125.0,90.0,70.0,70.0,90.0,115.0,115.0,90.0,70.0,90.0,88.0,90.0,90.0,105.0,null,84.0,84.0,92.0,110.0,84.0,64.0,63.0,65.0,65.0,110.0,105.0,88.0,85.0,88.0,88.0,88.0,85.0,84.0,90.0,92.0,null,63.0,70.0,110.0,85.0,92.0,112.0,84.0,90.0,86.0,84.0,79.0,82.0],\"xaxis\":\"x2\",\"yaxis\":\"y2\",\"type\":\"box\"},{\"alignmentgroup\":\"True\",\"bingroup\":\"x\",\"hovertemplate\":\"origin=japan<br>horsepower=%{x}<br>count=%{y}<extra></extra>\",\"legendgroup\":\"japan\",\"marker\":{\"color\":\"#EF553B\",\"pattern\":{\"shape\":\"\"}},\"name\":\"japan\",\"offsetgroup\":\"japan\",\"orientation\":\"v\",\"showlegend\":true,\"x\":[95.0,88.0,88.0,95.0,65.0,69.0,95.0,97.0,92.0,97.0,88.0,88.0,94.0,90.0,122.0,67.0,65.0,52.0,61.0,97.0,93.0,75.0,96.0,97.0,53.0,53.0,70.0,75.0,108.0,68.0,70.0,75.0,67.0,97.0,110.0,52.0,70.0,60.0,95.0,97.0,95.0,97.0,68.0,65.0,65.0,60.0,65.0,90.0,75.0,92.0,75.0,65.0,65.0,67.0,67.0,132.0,100.0,72.0,58.0,60.0,67.0,65.0,62.0,68.0,75.0,75.0,100.0,74.0,116.0,120.0,68.0,68.0,88.0,75.0,70.0,67.0,67.0,67.0,96.0],\"xaxis\":\"x\",\"yaxis\":\"y\",\"type\":\"histogram\"},{\"alignmentgroup\":\"True\",\"boxpoints\":\"all\",\"fillcolor\":\"rgba(255,255,255,0)\",\"hoveron\":\"points\",\"hovertemplate\":\"<b>%{hovertext}</b><br><br>origin=japan<br>horsepower=%{x}<extra></extra>\",\"hovertext\":[\"toyota corona mark ii\",\"datsun pl510\",\"datsun pl510\",\"toyota corona\",\"toyota corolla 1200\",\"datsun 1200\",\"toyota corona hardtop\",\"mazda rx2 coupe\",\"datsun 510 (sw)\",\"toyouta corona mark ii (sw)\",\"toyota corolla 1600 (sw)\",\"toyota carina\",\"datsun 610\",\"maxda rx3\",\"toyota mark ii\",\"datsun b210\",\"toyota corolla 1200\",\"toyota corona\",\"datsun 710\",\"honda civic\",\"subaru\",\"toyota corolla\",\"toyota corona\",\"datsun 710\",\"honda civic cvcc\",\"honda civic\",\"datsun b-210\",\"toyota corolla\",\"toyota mark ii\",\"honda accord cvcc\",\"datsun f-10 hatchback\",\"toyota corolla liftback\",\"subaru dl\",\"datsun 810\",\"mazda rx-4\",\"mazda glc deluxe\",\"datsun b210 gx\",\"honda civic cvcc\",\"toyota corona\",\"datsun 510\",\"toyota celica gt liftback\",\"datsun 200-sx\",\"honda accord lx\",\"maxda glc deluxe\",\"datsun 210\",\"toyota corolla tercel\",\"datsun 310\",\"toyota corona liftback\",\"mazda 626\",\"datsun 510 hatchback\",\"toyota corolla\",\"mazda glc\",\"datsun 210\",\"honda civic 1500 gl\",\"subaru dl\",\"datsun 280-zx\",\"mazda rx-7 gs\",\"honda accord\",\"toyota starlet\",\"honda civic 1300\",\"subaru\",\"datsun 210 mpg\",\"toyota tercel\",\"mazda glc 4\",\"honda prelude\",\"toyota corolla\",\"datsun 200sx\",\"mazda 626\",\"toyota cressida\",\"datsun 810 maxima\",\"mazda glc custom l\",\"mazda glc custom\",\"nissan stanza xe\",\"honda accord\",\"toyota corolla\",\"honda civic\",\"honda civic (auto)\",\"datsun 310 gx\",\"toyota celica gt\"],\"jitter\":0,\"legendgroup\":\"japan\",\"line\":{\"color\":\"rgba(255,255,255,0)\"},\"marker\":{\"color\":\"#EF553B\",\"symbol\":\"line-ns-open\"},\"name\":\"japan\",\"offsetgroup\":\"japan\",\"showlegend\":false,\"x\":[95.0,88.0,88.0,95.0,65.0,69.0,95.0,97.0,92.0,97.0,88.0,88.0,94.0,90.0,122.0,67.0,65.0,52.0,61.0,97.0,93.0,75.0,96.0,97.0,53.0,53.0,70.0,75.0,108.0,68.0,70.0,75.0,67.0,97.0,110.0,52.0,70.0,60.0,95.0,97.0,95.0,97.0,68.0,65.0,65.0,60.0,65.0,90.0,75.0,92.0,75.0,65.0,65.0,67.0,67.0,132.0,100.0,72.0,58.0,60.0,67.0,65.0,62.0,68.0,75.0,75.0,100.0,74.0,116.0,120.0,68.0,68.0,88.0,75.0,70.0,67.0,67.0,67.0,96.0],\"xaxis\":\"x2\",\"yaxis\":\"y2\",\"type\":\"box\"},{\"alignmentgroup\":\"True\",\"bingroup\":\"x\",\"hovertemplate\":\"origin=europe<br>horsepower=%{x}<br>count=%{y}<extra></extra>\",\"legendgroup\":\"europe\",\"marker\":{\"color\":\"#00cc96\",\"pattern\":{\"shape\":\"\"}},\"name\":\"europe\",\"offsetgroup\":\"europe\",\"orientation\":\"v\",\"showlegend\":true,\"x\":[46.0,87.0,90.0,95.0,113.0,90.0,70.0,76.0,60.0,54.0,112.0,76.0,87.0,69.0,46.0,90.0,49.0,75.0,91.0,112.0,110.0,83.0,67.0,78.0,75.0,75.0,67.0,71.0,70.0,95.0,88.0,98.0,115.0,86.0,81.0,83.0,70.0,71.0,102.0,88.0,120.0,58.0,78.0,78.0,110.0,48.0,103.0,125.0,115.0,133.0,71.0,71.0,77.0,71.0,69.0,76.0,78.0,48.0,48.0,67.0,67.0,null,62.0,88.0,74.0,null,80.0,76.0,74.0,52.0],\"xaxis\":\"x\",\"yaxis\":\"y\",\"type\":\"histogram\"},{\"alignmentgroup\":\"True\",\"boxpoints\":\"all\",\"fillcolor\":\"rgba(255,255,255,0)\",\"hoveron\":\"points\",\"hovertemplate\":\"<b>%{hovertext}</b><br><br>origin=europe<br>horsepower=%{x}<extra></extra>\",\"hovertext\":[\"volkswagen 1131 deluxe sedan\",\"peugeot 504\",\"audi 100 ls\",\"saab 99e\",\"bmw 2002\",\"opel 1900\",\"peugeot 304\",\"fiat 124b\",\"volkswagen model 111\",\"volkswagen type 3\",\"volvo 145e (sw)\",\"volkswagen 411 (sw)\",\"peugeot 504 (sw)\",\"renault 12 (sw)\",\"volkswagen super beetle\",\"fiat 124 sport coupe\",\"fiat 128\",\"opel manta\",\"audi 100ls\",\"volvo 144ea\",\"saab 99le\",\"audi fox\",\"volkswagen dasher\",\"opel manta\",\"fiat 128\",\"fiat 124 tc\",\"fiat x1.9\",\"volkswagen dasher\",\"volkswagen rabbit\",\"audi 100ls\",\"peugeot 504\",\"volvo 244dl\",\"saab 99le\",\"fiat 131\",\"opel 1900\",\"renault 12tl\",\"vw rabbit\",\"volkswagen rabbit\",\"volvo 245\",\"peugeot 504\",\"mercedes-benz 280s\",\"renault 5 gtl\",\"volkswagen rabbit custom\",\"volkswagen dasher\",\"bmw 320i\",\"volkswagen rabbit custom diesel\",\"audi 5000\",\"volvo 264gl\",\"saab 99gle\",\"peugeot 604sl\",\"volkswagen scirocco\",\"vw rabbit custom\",\"mercedes benz 300d\",\"peugeot 504\",\"fiat strada custom\",\"vw rabbit\",\"audi 4000\",\"vw rabbit c (diesel)\",\"vw dasher (diesel)\",\"audi 5000s (diesel)\",\"mercedes-benz 240d\",\"renault lecar deluxe\",\"vokswagen rabbit\",\"triumph tr7 coupe\",\"volkswagen jetta\",\"renault 18i\",\"peugeot 505s turbo diesel\",\"volvo diesel\",\"volkswagen rabbit l\",\"vw pickup\"],\"jitter\":0,\"legendgroup\":\"europe\",\"line\":{\"color\":\"rgba(255,255,255,0)\"},\"marker\":{\"color\":\"#00cc96\",\"symbol\":\"line-ns-open\"},\"name\":\"europe\",\"offsetgroup\":\"europe\",\"showlegend\":false,\"x\":[46.0,87.0,90.0,95.0,113.0,90.0,70.0,76.0,60.0,54.0,112.0,76.0,87.0,69.0,46.0,90.0,49.0,75.0,91.0,112.0,110.0,83.0,67.0,78.0,75.0,75.0,67.0,71.0,70.0,95.0,88.0,98.0,115.0,86.0,81.0,83.0,70.0,71.0,102.0,88.0,120.0,58.0,78.0,78.0,110.0,48.0,103.0,125.0,115.0,133.0,71.0,71.0,77.0,71.0,69.0,76.0,78.0,48.0,48.0,67.0,67.0,null,62.0,88.0,74.0,null,80.0,76.0,74.0,52.0],\"xaxis\":\"x2\",\"yaxis\":\"y2\",\"type\":\"box\"}],                        {\"template\":{\"data\":{\"histogram2dcontour\":[{\"type\":\"histogram2dcontour\",\"colorbar\":{\"outlinewidth\":0,\"ticks\":\"\"},\"colorscale\":[[0.0,\"#0d0887\"],[0.1111111111111111,\"#46039f\"],[0.2222222222222222,\"#7201a8\"],[0.3333333333333333,\"#9c179e\"],[0.4444444444444444,\"#bd3786\"],[0.5555555555555556,\"#d8576b\"],[0.6666666666666666,\"#ed7953\"],[0.7777777777777778,\"#fb9f3a\"],[0.8888888888888888,\"#fdca26\"],[1.0,\"#f0f921\"]]}],\"choropleth\":[{\"type\":\"choropleth\",\"colorbar\":{\"outlinewidth\":0,\"ticks\":\"\"}}],\"histogram2d\":[{\"type\":\"histogram2d\",\"colorbar\":{\"outlinewidth\":0,\"ticks\":\"\"},\"colorscale\":[[0.0,\"#0d0887\"],[0.1111111111111111,\"#46039f\"],[0.2222222222222222,\"#7201a8\"],[0.3333333333333333,\"#9c179e\"],[0.4444444444444444,\"#bd3786\"],[0.5555555555555556,\"#d8576b\"],[0.6666666666666666,\"#ed7953\"],[0.7777777777777778,\"#fb9f3a\"],[0.8888888888888888,\"#fdca26\"],[1.0,\"#f0f921\"]]}],\"heatmap\":[{\"type\":\"heatmap\",\"colorbar\":{\"outlinewidth\":0,\"ticks\":\"\"},\"colorscale\":[[0.0,\"#0d0887\"],[0.1111111111111111,\"#46039f\"],[0.2222222222222222,\"#7201a8\"],[0.3333333333333333,\"#9c179e\"],[0.4444444444444444,\"#bd3786\"],[0.5555555555555556,\"#d8576b\"],[0.6666666666666666,\"#ed7953\"],[0.7777777777777778,\"#fb9f3a\"],[0.8888888888888888,\"#fdca26\"],[1.0,\"#f0f921\"]]}],\"heatmapgl\":[{\"type\":\"heatmapgl\",\"colorbar\":{\"outlinewidth\":0,\"ticks\":\"\"},\"colorscale\":[[0.0,\"#0d0887\"],[0.1111111111111111,\"#46039f\"],[0.2222222222222222,\"#7201a8\"],[0.3333333333333333,\"#9c179e\"],[0.4444444444444444,\"#bd3786\"],[0.5555555555555556,\"#d8576b\"],[0.6666666666666666,\"#ed7953\"],[0.7777777777777778,\"#fb9f3a\"],[0.8888888888888888,\"#fdca26\"],[1.0,\"#f0f921\"]]}],\"contourcarpet\":[{\"type\":\"contourcarpet\",\"colorbar\":{\"outlinewidth\":0,\"ticks\":\"\"}}],\"contour\":[{\"type\":\"contour\",\"colorbar\":{\"outlinewidth\":0,\"ticks\":\"\"},\"colorscale\":[[0.0,\"#0d0887\"],[0.1111111111111111,\"#46039f\"],[0.2222222222222222,\"#7201a8\"],[0.3333333333333333,\"#9c179e\"],[0.4444444444444444,\"#bd3786\"],[0.5555555555555556,\"#d8576b\"],[0.6666666666666666,\"#ed7953\"],[0.7777777777777778,\"#fb9f3a\"],[0.8888888888888888,\"#fdca26\"],[1.0,\"#f0f921\"]]}],\"surface\":[{\"type\":\"surface\",\"colorbar\":{\"outlinewidth\":0,\"ticks\":\"\"},\"colorscale\":[[0.0,\"#0d0887\"],[0.1111111111111111,\"#46039f\"],[0.2222222222222222,\"#7201a8\"],[0.3333333333333333,\"#9c179e\"],[0.4444444444444444,\"#bd3786\"],[0.5555555555555556,\"#d8576b\"],[0.6666666666666666,\"#ed7953\"],[0.7777777777777778,\"#fb9f3a\"],[0.8888888888888888,\"#fdca26\"],[1.0,\"#f0f921\"]]}],\"mesh3d\":[{\"type\":\"mesh3d\",\"colorbar\":{\"outlinewidth\":0,\"ticks\":\"\"}}],\"scatter\":[{\"fillpattern\":{\"fillmode\":\"overlay\",\"size\":10,\"solidity\":0.2},\"type\":\"scatter\"}],\"parcoords\":[{\"type\":\"parcoords\",\"line\":{\"colorbar\":{\"outlinewidth\":0,\"ticks\":\"\"}}}],\"scatterpolargl\":[{\"type\":\"scatterpolargl\",\"marker\":{\"colorbar\":{\"outlinewidth\":0,\"ticks\":\"\"}}}],\"bar\":[{\"error_x\":{\"color\":\"#2a3f5f\"},\"error_y\":{\"color\":\"#2a3f5f\"},\"marker\":{\"line\":{\"color\":\"#E5ECF6\",\"width\":0.5},\"pattern\":{\"fillmode\":\"overlay\",\"size\":10,\"solidity\":0.2}},\"type\":\"bar\"}],\"scattergeo\":[{\"type\":\"scattergeo\",\"marker\":{\"colorbar\":{\"outlinewidth\":0,\"ticks\":\"\"}}}],\"scatterpolar\":[{\"type\":\"scatterpolar\",\"marker\":{\"colorbar\":{\"outlinewidth\":0,\"ticks\":\"\"}}}],\"histogram\":[{\"marker\":{\"pattern\":{\"fillmode\":\"overlay\",\"size\":10,\"solidity\":0.2}},\"type\":\"histogram\"}],\"scattergl\":[{\"type\":\"scattergl\",\"marker\":{\"colorbar\":{\"outlinewidth\":0,\"ticks\":\"\"}}}],\"scatter3d\":[{\"type\":\"scatter3d\",\"line\":{\"colorbar\":{\"outlinewidth\":0,\"ticks\":\"\"}},\"marker\":{\"colorbar\":{\"outlinewidth\":0,\"ticks\":\"\"}}}],\"scattermapbox\":[{\"type\":\"scattermapbox\",\"marker\":{\"colorbar\":{\"outlinewidth\":0,\"ticks\":\"\"}}}],\"scatterternary\":[{\"type\":\"scatterternary\",\"marker\":{\"colorbar\":{\"outlinewidth\":0,\"ticks\":\"\"}}}],\"scattercarpet\":[{\"type\":\"scattercarpet\",\"marker\":{\"colorbar\":{\"outlinewidth\":0,\"ticks\":\"\"}}}],\"carpet\":[{\"aaxis\":{\"endlinecolor\":\"#2a3f5f\",\"gridcolor\":\"white\",\"linecolor\":\"white\",\"minorgridcolor\":\"white\",\"startlinecolor\":\"#2a3f5f\"},\"baxis\":{\"endlinecolor\":\"#2a3f5f\",\"gridcolor\":\"white\",\"linecolor\":\"white\",\"minorgridcolor\":\"white\",\"startlinecolor\":\"#2a3f5f\"},\"type\":\"carpet\"}],\"table\":[{\"cells\":{\"fill\":{\"color\":\"#EBF0F8\"},\"line\":{\"color\":\"white\"}},\"header\":{\"fill\":{\"color\":\"#C8D4E3\"},\"line\":{\"color\":\"white\"}},\"type\":\"table\"}],\"barpolar\":[{\"marker\":{\"line\":{\"color\":\"#E5ECF6\",\"width\":0.5},\"pattern\":{\"fillmode\":\"overlay\",\"size\":10,\"solidity\":0.2}},\"type\":\"barpolar\"}],\"pie\":[{\"automargin\":true,\"type\":\"pie\"}]},\"layout\":{\"autotypenumbers\":\"strict\",\"colorway\":[\"#636efa\",\"#EF553B\",\"#00cc96\",\"#ab63fa\",\"#FFA15A\",\"#19d3f3\",\"#FF6692\",\"#B6E880\",\"#FF97FF\",\"#FECB52\"],\"font\":{\"color\":\"#2a3f5f\"},\"hovermode\":\"closest\",\"hoverlabel\":{\"align\":\"left\"},\"paper_bgcolor\":\"white\",\"plot_bgcolor\":\"#E5ECF6\",\"polar\":{\"bgcolor\":\"#E5ECF6\",\"angularaxis\":{\"gridcolor\":\"white\",\"linecolor\":\"white\",\"ticks\":\"\"},\"radialaxis\":{\"gridcolor\":\"white\",\"linecolor\":\"white\",\"ticks\":\"\"}},\"ternary\":{\"bgcolor\":\"#E5ECF6\",\"aaxis\":{\"gridcolor\":\"white\",\"linecolor\":\"white\",\"ticks\":\"\"},\"baxis\":{\"gridcolor\":\"white\",\"linecolor\":\"white\",\"ticks\":\"\"},\"caxis\":{\"gridcolor\":\"white\",\"linecolor\":\"white\",\"ticks\":\"\"}},\"coloraxis\":{\"colorbar\":{\"outlinewidth\":0,\"ticks\":\"\"}},\"colorscale\":{\"sequential\":[[0.0,\"#0d0887\"],[0.1111111111111111,\"#46039f\"],[0.2222222222222222,\"#7201a8\"],[0.3333333333333333,\"#9c179e\"],[0.4444444444444444,\"#bd3786\"],[0.5555555555555556,\"#d8576b\"],[0.6666666666666666,\"#ed7953\"],[0.7777777777777778,\"#fb9f3a\"],[0.8888888888888888,\"#fdca26\"],[1.0,\"#f0f921\"]],\"sequentialminus\":[[0.0,\"#0d0887\"],[0.1111111111111111,\"#46039f\"],[0.2222222222222222,\"#7201a8\"],[0.3333333333333333,\"#9c179e\"],[0.4444444444444444,\"#bd3786\"],[0.5555555555555556,\"#d8576b\"],[0.6666666666666666,\"#ed7953\"],[0.7777777777777778,\"#fb9f3a\"],[0.8888888888888888,\"#fdca26\"],[1.0,\"#f0f921\"]],\"diverging\":[[0,\"#8e0152\"],[0.1,\"#c51b7d\"],[0.2,\"#de77ae\"],[0.3,\"#f1b6da\"],[0.4,\"#fde0ef\"],[0.5,\"#f7f7f7\"],[0.6,\"#e6f5d0\"],[0.7,\"#b8e186\"],[0.8,\"#7fbc41\"],[0.9,\"#4d9221\"],[1,\"#276419\"]]},\"xaxis\":{\"gridcolor\":\"white\",\"linecolor\":\"white\",\"ticks\":\"\",\"title\":{\"standoff\":15},\"zerolinecolor\":\"white\",\"automargin\":true,\"zerolinewidth\":2},\"yaxis\":{\"gridcolor\":\"white\",\"linecolor\":\"white\",\"ticks\":\"\",\"title\":{\"standoff\":15},\"zerolinecolor\":\"white\",\"automargin\":true,\"zerolinewidth\":2},\"scene\":{\"xaxis\":{\"backgroundcolor\":\"#E5ECF6\",\"gridcolor\":\"white\",\"linecolor\":\"white\",\"showbackground\":true,\"ticks\":\"\",\"zerolinecolor\":\"white\",\"gridwidth\":2},\"yaxis\":{\"backgroundcolor\":\"#E5ECF6\",\"gridcolor\":\"white\",\"linecolor\":\"white\",\"showbackground\":true,\"ticks\":\"\",\"zerolinecolor\":\"white\",\"gridwidth\":2},\"zaxis\":{\"backgroundcolor\":\"#E5ECF6\",\"gridcolor\":\"white\",\"linecolor\":\"white\",\"showbackground\":true,\"ticks\":\"\",\"zerolinecolor\":\"white\",\"gridwidth\":2}},\"shapedefaults\":{\"line\":{\"color\":\"#2a3f5f\"}},\"annotationdefaults\":{\"arrowcolor\":\"#2a3f5f\",\"arrowhead\":0,\"arrowwidth\":1},\"geo\":{\"bgcolor\":\"white\",\"landcolor\":\"#E5ECF6\",\"subunitcolor\":\"white\",\"showland\":true,\"showlakes\":true,\"lakecolor\":\"white\"},\"title\":{\"x\":0.05},\"mapbox\":{\"style\":\"light\"}}},\"xaxis\":{\"anchor\":\"y\",\"domain\":[0.0,1.0],\"title\":{\"text\":\"horsepower\"}},\"yaxis\":{\"anchor\":\"x\",\"domain\":[0.0,0.7326],\"title\":{\"text\":\"count\"}},\"xaxis2\":{\"anchor\":\"y2\",\"domain\":[0.0,1.0],\"matches\":\"x\",\"showticklabels\":false,\"showgrid\":true},\"yaxis2\":{\"anchor\":\"x2\",\"domain\":[0.7426,1.0],\"matches\":\"y2\",\"showticklabels\":false,\"showline\":false,\"ticks\":\"\",\"showgrid\":false},\"legend\":{\"title\":{\"text\":\"origin\"},\"tracegroupgap\":0},\"margin\":{\"t\":60},\"barmode\":\"relative\"},                        {\"responsive\": true}                    ).then(function(){\n",
       "                            \n",
       "var gd = document.getElementById('a2a38561-67b8-41a2-a724-60197570ae89');\n",
       "var x = new MutationObserver(function (mutations, observer) {{\n",
       "        var display = window.getComputedStyle(gd).display;\n",
       "        if (!display || display === 'none') {{\n",
       "            console.log([gd, 'removed!']);\n",
       "            Plotly.purge(gd);\n",
       "            observer.disconnect();\n",
       "        }}\n",
       "}});\n",
       "\n",
       "// Listen for the removal of the full notebook cells\n",
       "var notebookContainer = gd.closest('#notebook-container');\n",
       "if (notebookContainer) {{\n",
       "    x.observe(notebookContainer, {childList: true});\n",
       "}}\n",
       "\n",
       "// Listen for the clearing of the current output cell\n",
       "var outputEl = gd.closest('.output');\n",
       "if (outputEl) {{\n",
       "    x.observe(outputEl, {childList: true});\n",
       "}}\n",
       "\n",
       "                        })                };                });            </script>        </div>"
      ]
     },
     "metadata": {},
     "output_type": "display_data"
    }
   ],
   "source": [
    "px.histogram(data, x = \"horsepower\", color = \"origin\", hover_name = \"name\", marginal = \"rug\")"
   ]
  },
  {
   "cell_type": "code",
   "execution_count": 71,
   "id": "31850db2",
   "metadata": {},
   "outputs": [
    {
     "data": {
      "application/vnd.plotly.v1+json": {
       "config": {
        "plotlyServerURL": "https://plot.ly"
       },
       "data": [
        {
         "alignmentgroup": "True",
         "hovertemplate": "<b>%{hovertext}</b><br><br>count=%{x}<br>origin=%{y}<br>cylinders=%{marker.color}<extra></extra>",
         "hovertext": [
          "chevrolet chevelle malibu",
          "buick skylark 320",
          "plymouth satellite",
          "amc rebel sst",
          "ford torino",
          "ford galaxie 500",
          "chevrolet impala",
          "plymouth fury iii",
          "pontiac catalina",
          "amc ambassador dpl",
          "dodge challenger se",
          "plymouth 'cuda 340",
          "chevrolet monte carlo",
          "buick estate wagon (sw)",
          "toyota corona mark ii",
          "plymouth duster",
          "amc hornet",
          "ford maverick",
          "datsun pl510",
          "volkswagen 1131 deluxe sedan",
          "peugeot 504",
          "audi 100 ls",
          "saab 99e",
          "bmw 2002",
          "amc gremlin",
          "ford f250",
          "chevy c20",
          "dodge d200",
          "hi 1200d",
          "datsun pl510",
          "chevrolet vega 2300",
          "toyota corona",
          "ford pinto",
          "amc gremlin",
          "plymouth satellite custom",
          "chevrolet chevelle malibu",
          "ford torino 500",
          "amc matador",
          "chevrolet impala",
          "pontiac catalina brougham",
          "ford galaxie 500",
          "plymouth fury iii",
          "dodge monaco (sw)",
          "ford country squire (sw)",
          "pontiac safari (sw)",
          "amc hornet sportabout (sw)",
          "chevrolet vega (sw)",
          "pontiac firebird",
          "ford mustang",
          "mercury capri 2000",
          "opel 1900",
          "peugeot 304",
          "fiat 124b",
          "toyota corolla 1200",
          "datsun 1200",
          "volkswagen model 111",
          "plymouth cricket",
          "toyota corona hardtop",
          "dodge colt hardtop",
          "volkswagen type 3",
          "chevrolet vega",
          "ford pinto runabout",
          "chevrolet impala",
          "pontiac catalina",
          "plymouth fury iii",
          "ford galaxie 500",
          "amc ambassador sst",
          "mercury marquis",
          "buick lesabre custom",
          "oldsmobile delta 88 royale",
          "chrysler newport royal",
          "mazda rx2 coupe",
          "amc matador (sw)",
          "chevrolet chevelle concours (sw)",
          "ford gran torino (sw)",
          "plymouth satellite custom (sw)",
          "volvo 145e (sw)",
          "volkswagen 411 (sw)",
          "peugeot 504 (sw)",
          "renault 12 (sw)",
          "ford pinto (sw)",
          "datsun 510 (sw)",
          "toyouta corona mark ii (sw)",
          "dodge colt (sw)",
          "toyota corolla 1600 (sw)",
          "buick century 350",
          "amc matador",
          "chevrolet malibu",
          "ford gran torino",
          "dodge coronet custom",
          "mercury marquis brougham",
          "chevrolet caprice classic",
          "ford ltd",
          "plymouth fury gran sedan",
          "chrysler new yorker brougham",
          "buick electra 225 custom",
          "amc ambassador brougham",
          "plymouth valiant",
          "chevrolet nova custom",
          "amc hornet",
          "ford maverick",
          "plymouth duster",
          "volkswagen super beetle",
          "chevrolet impala",
          "ford country",
          "plymouth custom suburb",
          "oldsmobile vista cruiser",
          "amc gremlin",
          "toyota carina",
          "chevrolet vega",
          "datsun 610",
          "maxda rx3",
          "ford pinto",
          "mercury capri v6",
          "fiat 124 sport coupe",
          "chevrolet monte carlo s",
          "pontiac grand prix",
          "fiat 128",
          "opel manta",
          "audi 100ls",
          "volvo 144ea",
          "dodge dart custom",
          "saab 99le",
          "toyota mark ii",
          "oldsmobile omega",
          "plymouth duster",
          "ford maverick",
          "amc hornet",
          "chevrolet nova",
          "datsun b210",
          "ford pinto",
          "toyota corolla 1200",
          "chevrolet vega",
          "chevrolet chevelle malibu classic",
          "amc matador",
          "plymouth satellite sebring",
          "ford gran torino",
          "buick century luxus (sw)",
          "dodge coronet custom (sw)",
          "ford gran torino (sw)",
          "amc matador (sw)",
          "audi fox",
          "volkswagen dasher",
          "opel manta",
          "toyota corona",
          "datsun 710",
          "dodge colt",
          "fiat 128",
          "fiat 124 tc",
          "honda civic",
          "subaru",
          "fiat x1.9",
          "plymouth valiant custom",
          "chevrolet nova",
          "mercury monarch",
          "ford maverick",
          "pontiac catalina",
          "chevrolet bel air",
          "plymouth grand fury",
          "ford ltd",
          "buick century",
          "chevroelt chevelle malibu",
          "amc matador",
          "plymouth fury",
          "buick skyhawk",
          "chevrolet monza 2+2",
          "ford mustang ii",
          "toyota corolla",
          "ford pinto",
          "amc gremlin",
          "pontiac astro",
          "toyota corona",
          "volkswagen dasher",
          "datsun 710",
          "ford pinto",
          "volkswagen rabbit",
          "amc pacer",
          "audi 100ls",
          "peugeot 504",
          "volvo 244dl",
          "saab 99le",
          "honda civic cvcc",
          "fiat 131",
          "opel 1900",
          "capri ii",
          "dodge colt",
          "renault 12tl",
          "chevrolet chevelle malibu classic",
          "dodge coronet brougham",
          "amc matador",
          "ford gran torino",
          "plymouth valiant",
          "chevrolet nova",
          "ford maverick",
          "amc hornet",
          "chevrolet chevette",
          "chevrolet woody",
          "vw rabbit",
          "honda civic",
          "dodge aspen se",
          "ford granada ghia",
          "pontiac ventura sj",
          "amc pacer d/l",
          "volkswagen rabbit",
          "datsun b-210",
          "toyota corolla",
          "ford pinto",
          "volvo 245",
          "plymouth volare premier v8",
          "peugeot 504",
          "toyota mark ii",
          "mercedes-benz 280s",
          "cadillac seville",
          "chevy c10",
          "ford f108",
          "dodge d100",
          "honda accord cvcc",
          "buick opel isuzu deluxe",
          "renault 5 gtl",
          "plymouth arrow gs",
          "datsun f-10 hatchback",
          "chevrolet caprice classic",
          "oldsmobile cutlass supreme",
          "dodge monaco brougham",
          "mercury cougar brougham",
          "chevrolet concours",
          "buick skylark",
          "plymouth volare custom",
          "ford granada",
          "pontiac grand prix lj",
          "chevrolet monte carlo landau",
          "chrysler cordoba",
          "ford thunderbird",
          "volkswagen rabbit custom",
          "pontiac sunbird coupe",
          "toyota corolla liftback",
          "ford mustang ii 2+2",
          "chevrolet chevette",
          "dodge colt m/m",
          "subaru dl",
          "volkswagen dasher",
          "datsun 810",
          "bmw 320i",
          "mazda rx-4",
          "volkswagen rabbit custom diesel",
          "ford fiesta",
          "mazda glc deluxe",
          "datsun b210 gx",
          "honda civic cvcc",
          "oldsmobile cutlass salon brougham",
          "dodge diplomat",
          "mercury monarch ghia",
          "pontiac phoenix lj",
          "chevrolet malibu",
          "ford fairmont (auto)",
          "ford fairmont (man)",
          "plymouth volare",
          "amc concord",
          "buick century special",
          "mercury zephyr",
          "dodge aspen",
          "amc concord d/l",
          "chevrolet monte carlo landau",
          "buick regal sport coupe (turbo)",
          "ford futura",
          "dodge magnum xe",
          "chevrolet chevette",
          "toyota corona",
          "datsun 510",
          "dodge omni",
          "toyota celica gt liftback",
          "plymouth sapporo",
          "oldsmobile starfire sx",
          "datsun 200-sx",
          "audi 5000",
          "volvo 264gl",
          "saab 99gle",
          "peugeot 604sl",
          "volkswagen scirocco",
          "honda accord lx",
          "pontiac lemans v6",
          "mercury zephyr 6",
          "ford fairmont 4",
          "amc concord dl 6",
          "dodge aspen 6",
          "chevrolet caprice classic",
          "ford ltd landau",
          "mercury grand marquis",
          "dodge st. regis",
          "buick estate wagon (sw)",
          "ford country squire (sw)",
          "chevrolet malibu classic (sw)",
          "chrysler lebaron town @ country (sw)",
          "vw rabbit custom",
          "maxda glc deluxe",
          "dodge colt hatchback custom",
          "amc spirit dl",
          "mercedes benz 300d",
          "cadillac eldorado",
          "peugeot 504",
          "oldsmobile cutlass salon brougham",
          "plymouth horizon",
          "plymouth horizon tc3",
          "datsun 210",
          "fiat strada custom",
          "buick skylark limited",
          "chevrolet citation",
          "oldsmobile omega brougham",
          "pontiac phoenix",
          "vw rabbit",
          "toyota corolla tercel",
          "chevrolet chevette",
          "datsun 310",
          "chevrolet citation",
          "ford fairmont",
          "amc concord",
          "dodge aspen",
          "audi 4000",
          "toyota corona liftback",
          "mazda 626",
          "datsun 510 hatchback",
          "toyota corolla",
          "mazda glc",
          "dodge colt",
          "datsun 210",
          "vw rabbit c (diesel)",
          "vw dasher (diesel)",
          "audi 5000s (diesel)",
          "mercedes-benz 240d",
          "honda civic 1500 gl",
          "renault lecar deluxe",
          "subaru dl",
          "vokswagen rabbit",
          "datsun 280-zx",
          "mazda rx-7 gs",
          "triumph tr7 coupe",
          "ford mustang cobra",
          "honda accord",
          "plymouth reliant",
          "buick skylark",
          "dodge aries wagon (sw)",
          "chevrolet citation",
          "plymouth reliant",
          "toyota starlet",
          "plymouth champ",
          "honda civic 1300",
          "subaru",
          "datsun 210 mpg",
          "toyota tercel",
          "mazda glc 4",
          "plymouth horizon 4",
          "ford escort 4w",
          "ford escort 2h",
          "volkswagen jetta",
          "renault 18i",
          "honda prelude",
          "toyota corolla",
          "datsun 200sx",
          "mazda 626",
          "peugeot 505s turbo diesel",
          "volvo diesel",
          "toyota cressida",
          "datsun 810 maxima",
          "buick century",
          "oldsmobile cutlass ls",
          "ford granada gl",
          "chrysler lebaron salon",
          "chevrolet cavalier",
          "chevrolet cavalier wagon",
          "chevrolet cavalier 2-door",
          "pontiac j2000 se hatchback",
          "dodge aries se",
          "pontiac phoenix",
          "ford fairmont futura",
          "amc concord dl",
          "volkswagen rabbit l",
          "mazda glc custom l",
          "mazda glc custom",
          "plymouth horizon miser",
          "mercury lynx l",
          "nissan stanza xe",
          "honda accord",
          "toyota corolla",
          "honda civic",
          "honda civic (auto)",
          "datsun 310 gx",
          "buick century limited",
          "oldsmobile cutlass ciera (diesel)",
          "chrysler lebaron medallion",
          "ford granada l",
          "toyota celica gt",
          "dodge charger 2.2",
          "chevrolet camaro",
          "ford mustang gl",
          "vw pickup",
          "dodge rampage",
          "ford ranger",
          "chevy s-10"
         ],
         "legendgroup": "",
         "marker": {
          "color": [
           8,
           8,
           8,
           8,
           8,
           8,
           8,
           8,
           8,
           8,
           8,
           8,
           8,
           8,
           4,
           6,
           6,
           6,
           4,
           4,
           4,
           4,
           4,
           4,
           6,
           8,
           8,
           8,
           8,
           4,
           4,
           4,
           4,
           6,
           6,
           6,
           6,
           6,
           8,
           8,
           8,
           8,
           8,
           8,
           8,
           6,
           4,
           6,
           6,
           4,
           4,
           4,
           4,
           4,
           4,
           4,
           4,
           4,
           4,
           4,
           4,
           4,
           8,
           8,
           8,
           8,
           8,
           8,
           8,
           8,
           8,
           3,
           8,
           8,
           8,
           8,
           4,
           4,
           4,
           4,
           4,
           4,
           4,
           4,
           4,
           8,
           8,
           8,
           8,
           8,
           8,
           8,
           8,
           8,
           8,
           8,
           8,
           6,
           6,
           6,
           6,
           6,
           4,
           8,
           8,
           8,
           8,
           6,
           4,
           4,
           4,
           3,
           4,
           6,
           4,
           8,
           8,
           4,
           4,
           4,
           4,
           8,
           4,
           6,
           8,
           6,
           6,
           6,
           6,
           4,
           4,
           4,
           4,
           6,
           6,
           6,
           8,
           8,
           8,
           8,
           8,
           4,
           4,
           4,
           4,
           4,
           4,
           4,
           4,
           4,
           4,
           4,
           6,
           6,
           6,
           6,
           8,
           8,
           8,
           8,
           6,
           6,
           6,
           6,
           6,
           8,
           8,
           4,
           4,
           6,
           4,
           4,
           4,
           4,
           6,
           4,
           6,
           4,
           4,
           4,
           4,
           4,
           4,
           4,
           4,
           4,
           4,
           8,
           8,
           8,
           8,
           6,
           6,
           6,
           6,
           4,
           4,
           4,
           4,
           6,
           6,
           6,
           6,
           4,
           4,
           4,
           4,
           4,
           8,
           4,
           6,
           6,
           8,
           8,
           8,
           8,
           4,
           4,
           4,
           4,
           4,
           8,
           8,
           8,
           8,
           6,
           6,
           6,
           6,
           8,
           8,
           8,
           8,
           4,
           4,
           4,
           4,
           4,
           4,
           4,
           4,
           6,
           4,
           3,
           4,
           4,
           4,
           4,
           4,
           8,
           8,
           8,
           6,
           6,
           6,
           4,
           6,
           6,
           6,
           6,
           6,
           6,
           8,
           6,
           8,
           8,
           4,
           4,
           4,
           4,
           4,
           4,
           4,
           4,
           5,
           6,
           4,
           6,
           4,
           4,
           6,
           6,
           4,
           6,
           6,
           8,
           8,
           8,
           8,
           8,
           8,
           8,
           8,
           4,
           4,
           4,
           4,
           5,
           8,
           4,
           8,
           4,
           4,
           4,
           4,
           4,
           6,
           6,
           4,
           4,
           4,
           4,
           4,
           4,
           4,
           4,
           6,
           4,
           4,
           4,
           4,
           4,
           4,
           4,
           4,
           4,
           4,
           5,
           4,
           4,
           4,
           4,
           4,
           6,
           3,
           4,
           4,
           4,
           4,
           4,
           4,
           6,
           4,
           4,
           4,
           4,
           4,
           4,
           4,
           4,
           4,
           4,
           4,
           4,
           4,
           4,
           4,
           4,
           4,
           4,
           6,
           6,
           6,
           6,
           8,
           6,
           6,
           4,
           4,
           4,
           4,
           4,
           4,
           4,
           4,
           4,
           4,
           4,
           4,
           4,
           4,
           4,
           4,
           4,
           4,
           4,
           6,
           6,
           4,
           6,
           4,
           4,
           4,
           4,
           4,
           4,
           4,
           4
          ],
          "coloraxis": "coloraxis",
          "pattern": {
           "shape": ""
          }
         },
         "name": "",
         "offsetgroup": "",
         "orientation": "h",
         "showlegend": false,
         "textposition": "auto",
         "type": "bar",
         "x": [
          1,
          1,
          1,
          1,
          1,
          1,
          1,
          1,
          1,
          1,
          1,
          1,
          1,
          1,
          1,
          1,
          1,
          1,
          1,
          1,
          1,
          1,
          1,
          1,
          1,
          1,
          1,
          1,
          1,
          1,
          1,
          1,
          1,
          1,
          1,
          1,
          1,
          1,
          1,
          1,
          1,
          1,
          1,
          1,
          1,
          1,
          1,
          1,
          1,
          1,
          1,
          1,
          1,
          1,
          1,
          1,
          1,
          1,
          1,
          1,
          1,
          1,
          1,
          1,
          1,
          1,
          1,
          1,
          1,
          1,
          1,
          1,
          1,
          1,
          1,
          1,
          1,
          1,
          1,
          1,
          1,
          1,
          1,
          1,
          1,
          1,
          1,
          1,
          1,
          1,
          1,
          1,
          1,
          1,
          1,
          1,
          1,
          1,
          1,
          1,
          1,
          1,
          1,
          1,
          1,
          1,
          1,
          1,
          1,
          1,
          1,
          1,
          1,
          1,
          1,
          1,
          1,
          1,
          1,
          1,
          1,
          1,
          1,
          1,
          1,
          1,
          1,
          1,
          1,
          1,
          1,
          1,
          1,
          1,
          1,
          1,
          1,
          1,
          1,
          1,
          1,
          1,
          1,
          1,
          1,
          1,
          1,
          1,
          1,
          1,
          1,
          1,
          1,
          1,
          1,
          1,
          1,
          1,
          1,
          1,
          1,
          1,
          1,
          1,
          1,
          1,
          1,
          1,
          1,
          1,
          1,
          1,
          1,
          1,
          1,
          1,
          1,
          1,
          1,
          1,
          1,
          1,
          1,
          1,
          1,
          1,
          1,
          1,
          1,
          1,
          1,
          1,
          1,
          1,
          1,
          1,
          1,
          1,
          1,
          1,
          1,
          1,
          1,
          1,
          1,
          1,
          1,
          1,
          1,
          1,
          1,
          1,
          1,
          1,
          1,
          1,
          1,
          1,
          1,
          1,
          1,
          1,
          1,
          1,
          1,
          1,
          1,
          1,
          1,
          1,
          1,
          1,
          1,
          1,
          1,
          1,
          1,
          1,
          1,
          1,
          1,
          1,
          1,
          1,
          1,
          1,
          1,
          1,
          1,
          1,
          1,
          1,
          1,
          1,
          1,
          1,
          1,
          1,
          1,
          1,
          1,
          1,
          1,
          1,
          1,
          1,
          1,
          1,
          1,
          1,
          1,
          1,
          1,
          1,
          1,
          1,
          1,
          1,
          1,
          1,
          1,
          1,
          1,
          1,
          1,
          1,
          1,
          1,
          1,
          1,
          1,
          1,
          1,
          1,
          1,
          1,
          1,
          1,
          1,
          1,
          1,
          1,
          1,
          1,
          1,
          1,
          1,
          1,
          1,
          1,
          1,
          1,
          1,
          1,
          1,
          1,
          1,
          1,
          1,
          1,
          1,
          1,
          1,
          1,
          1,
          1,
          1,
          1,
          1,
          1,
          1,
          1,
          1,
          1,
          1,
          1,
          1,
          1,
          1,
          1,
          1,
          1,
          1,
          1,
          1,
          1,
          1,
          1,
          1,
          1,
          1,
          1,
          1,
          1,
          1,
          1,
          1,
          1,
          1,
          1,
          1,
          1,
          1,
          1,
          1,
          1,
          1,
          1,
          1,
          1,
          1,
          1,
          1,
          1,
          1,
          1,
          1,
          1,
          1,
          1,
          1,
          1,
          1,
          1,
          1,
          1,
          1,
          1,
          1,
          1,
          1,
          1,
          1,
          1,
          1,
          1,
          1,
          1
         ],
         "xaxis": "x",
         "y": [
          "usa",
          "usa",
          "usa",
          "usa",
          "usa",
          "usa",
          "usa",
          "usa",
          "usa",
          "usa",
          "usa",
          "usa",
          "usa",
          "usa",
          "japan",
          "usa",
          "usa",
          "usa",
          "japan",
          "europe",
          "europe",
          "europe",
          "europe",
          "europe",
          "usa",
          "usa",
          "usa",
          "usa",
          "usa",
          "japan",
          "usa",
          "japan",
          "usa",
          "usa",
          "usa",
          "usa",
          "usa",
          "usa",
          "usa",
          "usa",
          "usa",
          "usa",
          "usa",
          "usa",
          "usa",
          "usa",
          "usa",
          "usa",
          "usa",
          "usa",
          "europe",
          "europe",
          "europe",
          "japan",
          "japan",
          "europe",
          "usa",
          "japan",
          "usa",
          "europe",
          "usa",
          "usa",
          "usa",
          "usa",
          "usa",
          "usa",
          "usa",
          "usa",
          "usa",
          "usa",
          "usa",
          "japan",
          "usa",
          "usa",
          "usa",
          "usa",
          "europe",
          "europe",
          "europe",
          "europe",
          "usa",
          "japan",
          "japan",
          "usa",
          "japan",
          "usa",
          "usa",
          "usa",
          "usa",
          "usa",
          "usa",
          "usa",
          "usa",
          "usa",
          "usa",
          "usa",
          "usa",
          "usa",
          "usa",
          "usa",
          "usa",
          "usa",
          "europe",
          "usa",
          "usa",
          "usa",
          "usa",
          "usa",
          "japan",
          "usa",
          "japan",
          "japan",
          "usa",
          "usa",
          "europe",
          "usa",
          "usa",
          "europe",
          "europe",
          "europe",
          "europe",
          "usa",
          "europe",
          "japan",
          "usa",
          "usa",
          "usa",
          "usa",
          "usa",
          "japan",
          "usa",
          "japan",
          "usa",
          "usa",
          "usa",
          "usa",
          "usa",
          "usa",
          "usa",
          "usa",
          "usa",
          "europe",
          "europe",
          "europe",
          "japan",
          "japan",
          "usa",
          "europe",
          "europe",
          "japan",
          "japan",
          "europe",
          "usa",
          "usa",
          "usa",
          "usa",
          "usa",
          "usa",
          "usa",
          "usa",
          "usa",
          "usa",
          "usa",
          "usa",
          "usa",
          "usa",
          "usa",
          "japan",
          "usa",
          "usa",
          "usa",
          "japan",
          "europe",
          "japan",
          "usa",
          "europe",
          "usa",
          "europe",
          "europe",
          "europe",
          "europe",
          "japan",
          "europe",
          "europe",
          "usa",
          "usa",
          "europe",
          "usa",
          "usa",
          "usa",
          "usa",
          "usa",
          "usa",
          "usa",
          "usa",
          "usa",
          "usa",
          "europe",
          "japan",
          "usa",
          "usa",
          "usa",
          "usa",
          "europe",
          "japan",
          "japan",
          "usa",
          "europe",
          "usa",
          "europe",
          "japan",
          "europe",
          "usa",
          "usa",
          "usa",
          "usa",
          "japan",
          "usa",
          "europe",
          "usa",
          "japan",
          "usa",
          "usa",
          "usa",
          "usa",
          "usa",
          "usa",
          "usa",
          "usa",
          "usa",
          "usa",
          "usa",
          "usa",
          "europe",
          "usa",
          "japan",
          "usa",
          "usa",
          "usa",
          "japan",
          "europe",
          "japan",
          "europe",
          "japan",
          "europe",
          "usa",
          "japan",
          "japan",
          "japan",
          "usa",
          "usa",
          "usa",
          "usa",
          "usa",
          "usa",
          "usa",
          "usa",
          "usa",
          "usa",
          "usa",
          "usa",
          "usa",
          "usa",
          "usa",
          "usa",
          "usa",
          "usa",
          "japan",
          "japan",
          "usa",
          "japan",
          "usa",
          "usa",
          "japan",
          "europe",
          "europe",
          "europe",
          "europe",
          "europe",
          "japan",
          "usa",
          "usa",
          "usa",
          "usa",
          "usa",
          "usa",
          "usa",
          "usa",
          "usa",
          "usa",
          "usa",
          "usa",
          "usa",
          "europe",
          "japan",
          "usa",
          "usa",
          "europe",
          "usa",
          "europe",
          "usa",
          "usa",
          "usa",
          "japan",
          "europe",
          "usa",
          "usa",
          "usa",
          "usa",
          "europe",
          "japan",
          "usa",
          "japan",
          "usa",
          "usa",
          "usa",
          "usa",
          "europe",
          "japan",
          "japan",
          "japan",
          "japan",
          "japan",
          "usa",
          "japan",
          "europe",
          "europe",
          "europe",
          "europe",
          "japan",
          "europe",
          "japan",
          "europe",
          "japan",
          "japan",
          "europe",
          "usa",
          "japan",
          "usa",
          "usa",
          "usa",
          "usa",
          "usa",
          "japan",
          "usa",
          "japan",
          "japan",
          "japan",
          "japan",
          "japan",
          "usa",
          "usa",
          "usa",
          "europe",
          "europe",
          "japan",
          "japan",
          "japan",
          "japan",
          "europe",
          "europe",
          "japan",
          "japan",
          "usa",
          "usa",
          "usa",
          "usa",
          "usa",
          "usa",
          "usa",
          "usa",
          "usa",
          "usa",
          "usa",
          "usa",
          "europe",
          "japan",
          "japan",
          "usa",
          "usa",
          "japan",
          "japan",
          "japan",
          "japan",
          "japan",
          "japan",
          "usa",
          "usa",
          "usa",
          "usa",
          "japan",
          "usa",
          "usa",
          "usa",
          "europe",
          "usa",
          "usa",
          "usa"
         ],
         "yaxis": "y"
        }
       ],
       "layout": {
        "barmode": "relative",
        "coloraxis": {
         "colorbar": {
          "title": {
           "text": "cylinders"
          }
         },
         "colorscale": [
          [
           0,
           "#0d0887"
          ],
          [
           0.1111111111111111,
           "#46039f"
          ],
          [
           0.2222222222222222,
           "#7201a8"
          ],
          [
           0.3333333333333333,
           "#9c179e"
          ],
          [
           0.4444444444444444,
           "#bd3786"
          ],
          [
           0.5555555555555556,
           "#d8576b"
          ],
          [
           0.6666666666666666,
           "#ed7953"
          ],
          [
           0.7777777777777778,
           "#fb9f3a"
          ],
          [
           0.8888888888888888,
           "#fdca26"
          ],
          [
           1,
           "#f0f921"
          ]
         ]
        },
        "legend": {
         "tracegroupgap": 0
        },
        "margin": {
         "t": 60
        },
        "template": {
         "data": {
          "bar": [
           {
            "error_x": {
             "color": "#2a3f5f"
            },
            "error_y": {
             "color": "#2a3f5f"
            },
            "marker": {
             "line": {
              "color": "#E5ECF6",
              "width": 0.5
             },
             "pattern": {
              "fillmode": "overlay",
              "size": 10,
              "solidity": 0.2
             }
            },
            "type": "bar"
           }
          ],
          "barpolar": [
           {
            "marker": {
             "line": {
              "color": "#E5ECF6",
              "width": 0.5
             },
             "pattern": {
              "fillmode": "overlay",
              "size": 10,
              "solidity": 0.2
             }
            },
            "type": "barpolar"
           }
          ],
          "carpet": [
           {
            "aaxis": {
             "endlinecolor": "#2a3f5f",
             "gridcolor": "white",
             "linecolor": "white",
             "minorgridcolor": "white",
             "startlinecolor": "#2a3f5f"
            },
            "baxis": {
             "endlinecolor": "#2a3f5f",
             "gridcolor": "white",
             "linecolor": "white",
             "minorgridcolor": "white",
             "startlinecolor": "#2a3f5f"
            },
            "type": "carpet"
           }
          ],
          "choropleth": [
           {
            "colorbar": {
             "outlinewidth": 0,
             "ticks": ""
            },
            "type": "choropleth"
           }
          ],
          "contour": [
           {
            "colorbar": {
             "outlinewidth": 0,
             "ticks": ""
            },
            "colorscale": [
             [
              0,
              "#0d0887"
             ],
             [
              0.1111111111111111,
              "#46039f"
             ],
             [
              0.2222222222222222,
              "#7201a8"
             ],
             [
              0.3333333333333333,
              "#9c179e"
             ],
             [
              0.4444444444444444,
              "#bd3786"
             ],
             [
              0.5555555555555556,
              "#d8576b"
             ],
             [
              0.6666666666666666,
              "#ed7953"
             ],
             [
              0.7777777777777778,
              "#fb9f3a"
             ],
             [
              0.8888888888888888,
              "#fdca26"
             ],
             [
              1,
              "#f0f921"
             ]
            ],
            "type": "contour"
           }
          ],
          "contourcarpet": [
           {
            "colorbar": {
             "outlinewidth": 0,
             "ticks": ""
            },
            "type": "contourcarpet"
           }
          ],
          "heatmap": [
           {
            "colorbar": {
             "outlinewidth": 0,
             "ticks": ""
            },
            "colorscale": [
             [
              0,
              "#0d0887"
             ],
             [
              0.1111111111111111,
              "#46039f"
             ],
             [
              0.2222222222222222,
              "#7201a8"
             ],
             [
              0.3333333333333333,
              "#9c179e"
             ],
             [
              0.4444444444444444,
              "#bd3786"
             ],
             [
              0.5555555555555556,
              "#d8576b"
             ],
             [
              0.6666666666666666,
              "#ed7953"
             ],
             [
              0.7777777777777778,
              "#fb9f3a"
             ],
             [
              0.8888888888888888,
              "#fdca26"
             ],
             [
              1,
              "#f0f921"
             ]
            ],
            "type": "heatmap"
           }
          ],
          "heatmapgl": [
           {
            "colorbar": {
             "outlinewidth": 0,
             "ticks": ""
            },
            "colorscale": [
             [
              0,
              "#0d0887"
             ],
             [
              0.1111111111111111,
              "#46039f"
             ],
             [
              0.2222222222222222,
              "#7201a8"
             ],
             [
              0.3333333333333333,
              "#9c179e"
             ],
             [
              0.4444444444444444,
              "#bd3786"
             ],
             [
              0.5555555555555556,
              "#d8576b"
             ],
             [
              0.6666666666666666,
              "#ed7953"
             ],
             [
              0.7777777777777778,
              "#fb9f3a"
             ],
             [
              0.8888888888888888,
              "#fdca26"
             ],
             [
              1,
              "#f0f921"
             ]
            ],
            "type": "heatmapgl"
           }
          ],
          "histogram": [
           {
            "marker": {
             "pattern": {
              "fillmode": "overlay",
              "size": 10,
              "solidity": 0.2
             }
            },
            "type": "histogram"
           }
          ],
          "histogram2d": [
           {
            "colorbar": {
             "outlinewidth": 0,
             "ticks": ""
            },
            "colorscale": [
             [
              0,
              "#0d0887"
             ],
             [
              0.1111111111111111,
              "#46039f"
             ],
             [
              0.2222222222222222,
              "#7201a8"
             ],
             [
              0.3333333333333333,
              "#9c179e"
             ],
             [
              0.4444444444444444,
              "#bd3786"
             ],
             [
              0.5555555555555556,
              "#d8576b"
             ],
             [
              0.6666666666666666,
              "#ed7953"
             ],
             [
              0.7777777777777778,
              "#fb9f3a"
             ],
             [
              0.8888888888888888,
              "#fdca26"
             ],
             [
              1,
              "#f0f921"
             ]
            ],
            "type": "histogram2d"
           }
          ],
          "histogram2dcontour": [
           {
            "colorbar": {
             "outlinewidth": 0,
             "ticks": ""
            },
            "colorscale": [
             [
              0,
              "#0d0887"
             ],
             [
              0.1111111111111111,
              "#46039f"
             ],
             [
              0.2222222222222222,
              "#7201a8"
             ],
             [
              0.3333333333333333,
              "#9c179e"
             ],
             [
              0.4444444444444444,
              "#bd3786"
             ],
             [
              0.5555555555555556,
              "#d8576b"
             ],
             [
              0.6666666666666666,
              "#ed7953"
             ],
             [
              0.7777777777777778,
              "#fb9f3a"
             ],
             [
              0.8888888888888888,
              "#fdca26"
             ],
             [
              1,
              "#f0f921"
             ]
            ],
            "type": "histogram2dcontour"
           }
          ],
          "mesh3d": [
           {
            "colorbar": {
             "outlinewidth": 0,
             "ticks": ""
            },
            "type": "mesh3d"
           }
          ],
          "parcoords": [
           {
            "line": {
             "colorbar": {
              "outlinewidth": 0,
              "ticks": ""
             }
            },
            "type": "parcoords"
           }
          ],
          "pie": [
           {
            "automargin": true,
            "type": "pie"
           }
          ],
          "scatter": [
           {
            "fillpattern": {
             "fillmode": "overlay",
             "size": 10,
             "solidity": 0.2
            },
            "type": "scatter"
           }
          ],
          "scatter3d": [
           {
            "line": {
             "colorbar": {
              "outlinewidth": 0,
              "ticks": ""
             }
            },
            "marker": {
             "colorbar": {
              "outlinewidth": 0,
              "ticks": ""
             }
            },
            "type": "scatter3d"
           }
          ],
          "scattercarpet": [
           {
            "marker": {
             "colorbar": {
              "outlinewidth": 0,
              "ticks": ""
             }
            },
            "type": "scattercarpet"
           }
          ],
          "scattergeo": [
           {
            "marker": {
             "colorbar": {
              "outlinewidth": 0,
              "ticks": ""
             }
            },
            "type": "scattergeo"
           }
          ],
          "scattergl": [
           {
            "marker": {
             "colorbar": {
              "outlinewidth": 0,
              "ticks": ""
             }
            },
            "type": "scattergl"
           }
          ],
          "scattermapbox": [
           {
            "marker": {
             "colorbar": {
              "outlinewidth": 0,
              "ticks": ""
             }
            },
            "type": "scattermapbox"
           }
          ],
          "scatterpolar": [
           {
            "marker": {
             "colorbar": {
              "outlinewidth": 0,
              "ticks": ""
             }
            },
            "type": "scatterpolar"
           }
          ],
          "scatterpolargl": [
           {
            "marker": {
             "colorbar": {
              "outlinewidth": 0,
              "ticks": ""
             }
            },
            "type": "scatterpolargl"
           }
          ],
          "scatterternary": [
           {
            "marker": {
             "colorbar": {
              "outlinewidth": 0,
              "ticks": ""
             }
            },
            "type": "scatterternary"
           }
          ],
          "surface": [
           {
            "colorbar": {
             "outlinewidth": 0,
             "ticks": ""
            },
            "colorscale": [
             [
              0,
              "#0d0887"
             ],
             [
              0.1111111111111111,
              "#46039f"
             ],
             [
              0.2222222222222222,
              "#7201a8"
             ],
             [
              0.3333333333333333,
              "#9c179e"
             ],
             [
              0.4444444444444444,
              "#bd3786"
             ],
             [
              0.5555555555555556,
              "#d8576b"
             ],
             [
              0.6666666666666666,
              "#ed7953"
             ],
             [
              0.7777777777777778,
              "#fb9f3a"
             ],
             [
              0.8888888888888888,
              "#fdca26"
             ],
             [
              1,
              "#f0f921"
             ]
            ],
            "type": "surface"
           }
          ],
          "table": [
           {
            "cells": {
             "fill": {
              "color": "#EBF0F8"
             },
             "line": {
              "color": "white"
             }
            },
            "header": {
             "fill": {
              "color": "#C8D4E3"
             },
             "line": {
              "color": "white"
             }
            },
            "type": "table"
           }
          ]
         },
         "layout": {
          "annotationdefaults": {
           "arrowcolor": "#2a3f5f",
           "arrowhead": 0,
           "arrowwidth": 1
          },
          "autotypenumbers": "strict",
          "coloraxis": {
           "colorbar": {
            "outlinewidth": 0,
            "ticks": ""
           }
          },
          "colorscale": {
           "diverging": [
            [
             0,
             "#8e0152"
            ],
            [
             0.1,
             "#c51b7d"
            ],
            [
             0.2,
             "#de77ae"
            ],
            [
             0.3,
             "#f1b6da"
            ],
            [
             0.4,
             "#fde0ef"
            ],
            [
             0.5,
             "#f7f7f7"
            ],
            [
             0.6,
             "#e6f5d0"
            ],
            [
             0.7,
             "#b8e186"
            ],
            [
             0.8,
             "#7fbc41"
            ],
            [
             0.9,
             "#4d9221"
            ],
            [
             1,
             "#276419"
            ]
           ],
           "sequential": [
            [
             0,
             "#0d0887"
            ],
            [
             0.1111111111111111,
             "#46039f"
            ],
            [
             0.2222222222222222,
             "#7201a8"
            ],
            [
             0.3333333333333333,
             "#9c179e"
            ],
            [
             0.4444444444444444,
             "#bd3786"
            ],
            [
             0.5555555555555556,
             "#d8576b"
            ],
            [
             0.6666666666666666,
             "#ed7953"
            ],
            [
             0.7777777777777778,
             "#fb9f3a"
            ],
            [
             0.8888888888888888,
             "#fdca26"
            ],
            [
             1,
             "#f0f921"
            ]
           ],
           "sequentialminus": [
            [
             0,
             "#0d0887"
            ],
            [
             0.1111111111111111,
             "#46039f"
            ],
            [
             0.2222222222222222,
             "#7201a8"
            ],
            [
             0.3333333333333333,
             "#9c179e"
            ],
            [
             0.4444444444444444,
             "#bd3786"
            ],
            [
             0.5555555555555556,
             "#d8576b"
            ],
            [
             0.6666666666666666,
             "#ed7953"
            ],
            [
             0.7777777777777778,
             "#fb9f3a"
            ],
            [
             0.8888888888888888,
             "#fdca26"
            ],
            [
             1,
             "#f0f921"
            ]
           ]
          },
          "colorway": [
           "#636efa",
           "#EF553B",
           "#00cc96",
           "#ab63fa",
           "#FFA15A",
           "#19d3f3",
           "#FF6692",
           "#B6E880",
           "#FF97FF",
           "#FECB52"
          ],
          "font": {
           "color": "#2a3f5f"
          },
          "geo": {
           "bgcolor": "white",
           "lakecolor": "white",
           "landcolor": "#E5ECF6",
           "showlakes": true,
           "showland": true,
           "subunitcolor": "white"
          },
          "hoverlabel": {
           "align": "left"
          },
          "hovermode": "closest",
          "mapbox": {
           "style": "light"
          },
          "paper_bgcolor": "white",
          "plot_bgcolor": "#E5ECF6",
          "polar": {
           "angularaxis": {
            "gridcolor": "white",
            "linecolor": "white",
            "ticks": ""
           },
           "bgcolor": "#E5ECF6",
           "radialaxis": {
            "gridcolor": "white",
            "linecolor": "white",
            "ticks": ""
           }
          },
          "scene": {
           "xaxis": {
            "backgroundcolor": "#E5ECF6",
            "gridcolor": "white",
            "gridwidth": 2,
            "linecolor": "white",
            "showbackground": true,
            "ticks": "",
            "zerolinecolor": "white"
           },
           "yaxis": {
            "backgroundcolor": "#E5ECF6",
            "gridcolor": "white",
            "gridwidth": 2,
            "linecolor": "white",
            "showbackground": true,
            "ticks": "",
            "zerolinecolor": "white"
           },
           "zaxis": {
            "backgroundcolor": "#E5ECF6",
            "gridcolor": "white",
            "gridwidth": 2,
            "linecolor": "white",
            "showbackground": true,
            "ticks": "",
            "zerolinecolor": "white"
           }
          },
          "shapedefaults": {
           "line": {
            "color": "#2a3f5f"
           }
          },
          "ternary": {
           "aaxis": {
            "gridcolor": "white",
            "linecolor": "white",
            "ticks": ""
           },
           "baxis": {
            "gridcolor": "white",
            "linecolor": "white",
            "ticks": ""
           },
           "bgcolor": "#E5ECF6",
           "caxis": {
            "gridcolor": "white",
            "linecolor": "white",
            "ticks": ""
           }
          },
          "title": {
           "x": 0.05
          },
          "xaxis": {
           "automargin": true,
           "gridcolor": "white",
           "linecolor": "white",
           "ticks": "",
           "title": {
            "standoff": 15
           },
           "zerolinecolor": "white",
           "zerolinewidth": 2
          },
          "yaxis": {
           "automargin": true,
           "gridcolor": "white",
           "linecolor": "white",
           "ticks": "",
           "title": {
            "standoff": 15
           },
           "zerolinecolor": "white",
           "zerolinewidth": 2
          }
         }
        },
        "xaxis": {
         "anchor": "y",
         "domain": [
          0,
          1
         ],
         "title": {
          "text": "count"
         }
        },
        "yaxis": {
         "anchor": "x",
         "domain": [
          0,
          1
         ],
         "title": {
          "text": "origin"
         }
        }
       }
      },
      "text/html": [
       "<div>                            <div id=\"bad8becc-8974-4407-b05f-a22ee06f5cb7\" class=\"plotly-graph-div\" style=\"height:525px; width:100%;\"></div>            <script type=\"text/javascript\">                require([\"plotly\"], function(Plotly) {                    window.PLOTLYENV=window.PLOTLYENV || {};                                    if (document.getElementById(\"bad8becc-8974-4407-b05f-a22ee06f5cb7\")) {                    Plotly.newPlot(                        \"bad8becc-8974-4407-b05f-a22ee06f5cb7\",                        [{\"alignmentgroup\":\"True\",\"hovertemplate\":\"<b>%{hovertext}</b><br><br>count=%{x}<br>origin=%{y}<br>cylinders=%{marker.color}<extra></extra>\",\"hovertext\":[\"chevrolet chevelle malibu\",\"buick skylark 320\",\"plymouth satellite\",\"amc rebel sst\",\"ford torino\",\"ford galaxie 500\",\"chevrolet impala\",\"plymouth fury iii\",\"pontiac catalina\",\"amc ambassador dpl\",\"dodge challenger se\",\"plymouth 'cuda 340\",\"chevrolet monte carlo\",\"buick estate wagon (sw)\",\"toyota corona mark ii\",\"plymouth duster\",\"amc hornet\",\"ford maverick\",\"datsun pl510\",\"volkswagen 1131 deluxe sedan\",\"peugeot 504\",\"audi 100 ls\",\"saab 99e\",\"bmw 2002\",\"amc gremlin\",\"ford f250\",\"chevy c20\",\"dodge d200\",\"hi 1200d\",\"datsun pl510\",\"chevrolet vega 2300\",\"toyota corona\",\"ford pinto\",\"amc gremlin\",\"plymouth satellite custom\",\"chevrolet chevelle malibu\",\"ford torino 500\",\"amc matador\",\"chevrolet impala\",\"pontiac catalina brougham\",\"ford galaxie 500\",\"plymouth fury iii\",\"dodge monaco (sw)\",\"ford country squire (sw)\",\"pontiac safari (sw)\",\"amc hornet sportabout (sw)\",\"chevrolet vega (sw)\",\"pontiac firebird\",\"ford mustang\",\"mercury capri 2000\",\"opel 1900\",\"peugeot 304\",\"fiat 124b\",\"toyota corolla 1200\",\"datsun 1200\",\"volkswagen model 111\",\"plymouth cricket\",\"toyota corona hardtop\",\"dodge colt hardtop\",\"volkswagen type 3\",\"chevrolet vega\",\"ford pinto runabout\",\"chevrolet impala\",\"pontiac catalina\",\"plymouth fury iii\",\"ford galaxie 500\",\"amc ambassador sst\",\"mercury marquis\",\"buick lesabre custom\",\"oldsmobile delta 88 royale\",\"chrysler newport royal\",\"mazda rx2 coupe\",\"amc matador (sw)\",\"chevrolet chevelle concours (sw)\",\"ford gran torino (sw)\",\"plymouth satellite custom (sw)\",\"volvo 145e (sw)\",\"volkswagen 411 (sw)\",\"peugeot 504 (sw)\",\"renault 12 (sw)\",\"ford pinto (sw)\",\"datsun 510 (sw)\",\"toyouta corona mark ii (sw)\",\"dodge colt (sw)\",\"toyota corolla 1600 (sw)\",\"buick century 350\",\"amc matador\",\"chevrolet malibu\",\"ford gran torino\",\"dodge coronet custom\",\"mercury marquis brougham\",\"chevrolet caprice classic\",\"ford ltd\",\"plymouth fury gran sedan\",\"chrysler new yorker brougham\",\"buick electra 225 custom\",\"amc ambassador brougham\",\"plymouth valiant\",\"chevrolet nova custom\",\"amc hornet\",\"ford maverick\",\"plymouth duster\",\"volkswagen super beetle\",\"chevrolet impala\",\"ford country\",\"plymouth custom suburb\",\"oldsmobile vista cruiser\",\"amc gremlin\",\"toyota carina\",\"chevrolet vega\",\"datsun 610\",\"maxda rx3\",\"ford pinto\",\"mercury capri v6\",\"fiat 124 sport coupe\",\"chevrolet monte carlo s\",\"pontiac grand prix\",\"fiat 128\",\"opel manta\",\"audi 100ls\",\"volvo 144ea\",\"dodge dart custom\",\"saab 99le\",\"toyota mark ii\",\"oldsmobile omega\",\"plymouth duster\",\"ford maverick\",\"amc hornet\",\"chevrolet nova\",\"datsun b210\",\"ford pinto\",\"toyota corolla 1200\",\"chevrolet vega\",\"chevrolet chevelle malibu classic\",\"amc matador\",\"plymouth satellite sebring\",\"ford gran torino\",\"buick century luxus (sw)\",\"dodge coronet custom (sw)\",\"ford gran torino (sw)\",\"amc matador (sw)\",\"audi fox\",\"volkswagen dasher\",\"opel manta\",\"toyota corona\",\"datsun 710\",\"dodge colt\",\"fiat 128\",\"fiat 124 tc\",\"honda civic\",\"subaru\",\"fiat x1.9\",\"plymouth valiant custom\",\"chevrolet nova\",\"mercury monarch\",\"ford maverick\",\"pontiac catalina\",\"chevrolet bel air\",\"plymouth grand fury\",\"ford ltd\",\"buick century\",\"chevroelt chevelle malibu\",\"amc matador\",\"plymouth fury\",\"buick skyhawk\",\"chevrolet monza 2+2\",\"ford mustang ii\",\"toyota corolla\",\"ford pinto\",\"amc gremlin\",\"pontiac astro\",\"toyota corona\",\"volkswagen dasher\",\"datsun 710\",\"ford pinto\",\"volkswagen rabbit\",\"amc pacer\",\"audi 100ls\",\"peugeot 504\",\"volvo 244dl\",\"saab 99le\",\"honda civic cvcc\",\"fiat 131\",\"opel 1900\",\"capri ii\",\"dodge colt\",\"renault 12tl\",\"chevrolet chevelle malibu classic\",\"dodge coronet brougham\",\"amc matador\",\"ford gran torino\",\"plymouth valiant\",\"chevrolet nova\",\"ford maverick\",\"amc hornet\",\"chevrolet chevette\",\"chevrolet woody\",\"vw rabbit\",\"honda civic\",\"dodge aspen se\",\"ford granada ghia\",\"pontiac ventura sj\",\"amc pacer d/l\",\"volkswagen rabbit\",\"datsun b-210\",\"toyota corolla\",\"ford pinto\",\"volvo 245\",\"plymouth volare premier v8\",\"peugeot 504\",\"toyota mark ii\",\"mercedes-benz 280s\",\"cadillac seville\",\"chevy c10\",\"ford f108\",\"dodge d100\",\"honda accord cvcc\",\"buick opel isuzu deluxe\",\"renault 5 gtl\",\"plymouth arrow gs\",\"datsun f-10 hatchback\",\"chevrolet caprice classic\",\"oldsmobile cutlass supreme\",\"dodge monaco brougham\",\"mercury cougar brougham\",\"chevrolet concours\",\"buick skylark\",\"plymouth volare custom\",\"ford granada\",\"pontiac grand prix lj\",\"chevrolet monte carlo landau\",\"chrysler cordoba\",\"ford thunderbird\",\"volkswagen rabbit custom\",\"pontiac sunbird coupe\",\"toyota corolla liftback\",\"ford mustang ii 2+2\",\"chevrolet chevette\",\"dodge colt m/m\",\"subaru dl\",\"volkswagen dasher\",\"datsun 810\",\"bmw 320i\",\"mazda rx-4\",\"volkswagen rabbit custom diesel\",\"ford fiesta\",\"mazda glc deluxe\",\"datsun b210 gx\",\"honda civic cvcc\",\"oldsmobile cutlass salon brougham\",\"dodge diplomat\",\"mercury monarch ghia\",\"pontiac phoenix lj\",\"chevrolet malibu\",\"ford fairmont (auto)\",\"ford fairmont (man)\",\"plymouth volare\",\"amc concord\",\"buick century special\",\"mercury zephyr\",\"dodge aspen\",\"amc concord d/l\",\"chevrolet monte carlo landau\",\"buick regal sport coupe (turbo)\",\"ford futura\",\"dodge magnum xe\",\"chevrolet chevette\",\"toyota corona\",\"datsun 510\",\"dodge omni\",\"toyota celica gt liftback\",\"plymouth sapporo\",\"oldsmobile starfire sx\",\"datsun 200-sx\",\"audi 5000\",\"volvo 264gl\",\"saab 99gle\",\"peugeot 604sl\",\"volkswagen scirocco\",\"honda accord lx\",\"pontiac lemans v6\",\"mercury zephyr 6\",\"ford fairmont 4\",\"amc concord dl 6\",\"dodge aspen 6\",\"chevrolet caprice classic\",\"ford ltd landau\",\"mercury grand marquis\",\"dodge st. regis\",\"buick estate wagon (sw)\",\"ford country squire (sw)\",\"chevrolet malibu classic (sw)\",\"chrysler lebaron town @ country (sw)\",\"vw rabbit custom\",\"maxda glc deluxe\",\"dodge colt hatchback custom\",\"amc spirit dl\",\"mercedes benz 300d\",\"cadillac eldorado\",\"peugeot 504\",\"oldsmobile cutlass salon brougham\",\"plymouth horizon\",\"plymouth horizon tc3\",\"datsun 210\",\"fiat strada custom\",\"buick skylark limited\",\"chevrolet citation\",\"oldsmobile omega brougham\",\"pontiac phoenix\",\"vw rabbit\",\"toyota corolla tercel\",\"chevrolet chevette\",\"datsun 310\",\"chevrolet citation\",\"ford fairmont\",\"amc concord\",\"dodge aspen\",\"audi 4000\",\"toyota corona liftback\",\"mazda 626\",\"datsun 510 hatchback\",\"toyota corolla\",\"mazda glc\",\"dodge colt\",\"datsun 210\",\"vw rabbit c (diesel)\",\"vw dasher (diesel)\",\"audi 5000s (diesel)\",\"mercedes-benz 240d\",\"honda civic 1500 gl\",\"renault lecar deluxe\",\"subaru dl\",\"vokswagen rabbit\",\"datsun 280-zx\",\"mazda rx-7 gs\",\"triumph tr7 coupe\",\"ford mustang cobra\",\"honda accord\",\"plymouth reliant\",\"buick skylark\",\"dodge aries wagon (sw)\",\"chevrolet citation\",\"plymouth reliant\",\"toyota starlet\",\"plymouth champ\",\"honda civic 1300\",\"subaru\",\"datsun 210 mpg\",\"toyota tercel\",\"mazda glc 4\",\"plymouth horizon 4\",\"ford escort 4w\",\"ford escort 2h\",\"volkswagen jetta\",\"renault 18i\",\"honda prelude\",\"toyota corolla\",\"datsun 200sx\",\"mazda 626\",\"peugeot 505s turbo diesel\",\"volvo diesel\",\"toyota cressida\",\"datsun 810 maxima\",\"buick century\",\"oldsmobile cutlass ls\",\"ford granada gl\",\"chrysler lebaron salon\",\"chevrolet cavalier\",\"chevrolet cavalier wagon\",\"chevrolet cavalier 2-door\",\"pontiac j2000 se hatchback\",\"dodge aries se\",\"pontiac phoenix\",\"ford fairmont futura\",\"amc concord dl\",\"volkswagen rabbit l\",\"mazda glc custom l\",\"mazda glc custom\",\"plymouth horizon miser\",\"mercury lynx l\",\"nissan stanza xe\",\"honda accord\",\"toyota corolla\",\"honda civic\",\"honda civic (auto)\",\"datsun 310 gx\",\"buick century limited\",\"oldsmobile cutlass ciera (diesel)\",\"chrysler lebaron medallion\",\"ford granada l\",\"toyota celica gt\",\"dodge charger 2.2\",\"chevrolet camaro\",\"ford mustang gl\",\"vw pickup\",\"dodge rampage\",\"ford ranger\",\"chevy s-10\"],\"legendgroup\":\"\",\"marker\":{\"color\":[8,8,8,8,8,8,8,8,8,8,8,8,8,8,4,6,6,6,4,4,4,4,4,4,6,8,8,8,8,4,4,4,4,6,6,6,6,6,8,8,8,8,8,8,8,6,4,6,6,4,4,4,4,4,4,4,4,4,4,4,4,4,8,8,8,8,8,8,8,8,8,3,8,8,8,8,4,4,4,4,4,4,4,4,4,8,8,8,8,8,8,8,8,8,8,8,8,6,6,6,6,6,4,8,8,8,8,6,4,4,4,3,4,6,4,8,8,4,4,4,4,8,4,6,8,6,6,6,6,4,4,4,4,6,6,6,8,8,8,8,8,4,4,4,4,4,4,4,4,4,4,4,6,6,6,6,8,8,8,8,6,6,6,6,6,8,8,4,4,6,4,4,4,4,6,4,6,4,4,4,4,4,4,4,4,4,4,8,8,8,8,6,6,6,6,4,4,4,4,6,6,6,6,4,4,4,4,4,8,4,6,6,8,8,8,8,4,4,4,4,4,8,8,8,8,6,6,6,6,8,8,8,8,4,4,4,4,4,4,4,4,6,4,3,4,4,4,4,4,8,8,8,6,6,6,4,6,6,6,6,6,6,8,6,8,8,4,4,4,4,4,4,4,4,5,6,4,6,4,4,6,6,4,6,6,8,8,8,8,8,8,8,8,4,4,4,4,5,8,4,8,4,4,4,4,4,6,6,4,4,4,4,4,4,4,4,6,4,4,4,4,4,4,4,4,4,4,5,4,4,4,4,4,6,3,4,4,4,4,4,4,6,4,4,4,4,4,4,4,4,4,4,4,4,4,4,4,4,4,4,6,6,6,6,8,6,6,4,4,4,4,4,4,4,4,4,4,4,4,4,4,4,4,4,4,4,6,6,4,6,4,4,4,4,4,4,4,4],\"coloraxis\":\"coloraxis\",\"pattern\":{\"shape\":\"\"}},\"name\":\"\",\"offsetgroup\":\"\",\"orientation\":\"h\",\"showlegend\":false,\"textposition\":\"auto\",\"x\":[1,1,1,1,1,1,1,1,1,1,1,1,1,1,1,1,1,1,1,1,1,1,1,1,1,1,1,1,1,1,1,1,1,1,1,1,1,1,1,1,1,1,1,1,1,1,1,1,1,1,1,1,1,1,1,1,1,1,1,1,1,1,1,1,1,1,1,1,1,1,1,1,1,1,1,1,1,1,1,1,1,1,1,1,1,1,1,1,1,1,1,1,1,1,1,1,1,1,1,1,1,1,1,1,1,1,1,1,1,1,1,1,1,1,1,1,1,1,1,1,1,1,1,1,1,1,1,1,1,1,1,1,1,1,1,1,1,1,1,1,1,1,1,1,1,1,1,1,1,1,1,1,1,1,1,1,1,1,1,1,1,1,1,1,1,1,1,1,1,1,1,1,1,1,1,1,1,1,1,1,1,1,1,1,1,1,1,1,1,1,1,1,1,1,1,1,1,1,1,1,1,1,1,1,1,1,1,1,1,1,1,1,1,1,1,1,1,1,1,1,1,1,1,1,1,1,1,1,1,1,1,1,1,1,1,1,1,1,1,1,1,1,1,1,1,1,1,1,1,1,1,1,1,1,1,1,1,1,1,1,1,1,1,1,1,1,1,1,1,1,1,1,1,1,1,1,1,1,1,1,1,1,1,1,1,1,1,1,1,1,1,1,1,1,1,1,1,1,1,1,1,1,1,1,1,1,1,1,1,1,1,1,1,1,1,1,1,1,1,1,1,1,1,1,1,1,1,1,1,1,1,1,1,1,1,1,1,1,1,1,1,1,1,1,1,1,1,1,1,1,1,1,1,1,1,1,1,1,1,1,1,1,1,1,1,1,1,1,1,1,1,1,1,1,1,1,1,1,1,1,1,1,1,1,1,1,1,1,1,1,1,1,1,1,1,1,1,1],\"xaxis\":\"x\",\"y\":[\"usa\",\"usa\",\"usa\",\"usa\",\"usa\",\"usa\",\"usa\",\"usa\",\"usa\",\"usa\",\"usa\",\"usa\",\"usa\",\"usa\",\"japan\",\"usa\",\"usa\",\"usa\",\"japan\",\"europe\",\"europe\",\"europe\",\"europe\",\"europe\",\"usa\",\"usa\",\"usa\",\"usa\",\"usa\",\"japan\",\"usa\",\"japan\",\"usa\",\"usa\",\"usa\",\"usa\",\"usa\",\"usa\",\"usa\",\"usa\",\"usa\",\"usa\",\"usa\",\"usa\",\"usa\",\"usa\",\"usa\",\"usa\",\"usa\",\"usa\",\"europe\",\"europe\",\"europe\",\"japan\",\"japan\",\"europe\",\"usa\",\"japan\",\"usa\",\"europe\",\"usa\",\"usa\",\"usa\",\"usa\",\"usa\",\"usa\",\"usa\",\"usa\",\"usa\",\"usa\",\"usa\",\"japan\",\"usa\",\"usa\",\"usa\",\"usa\",\"europe\",\"europe\",\"europe\",\"europe\",\"usa\",\"japan\",\"japan\",\"usa\",\"japan\",\"usa\",\"usa\",\"usa\",\"usa\",\"usa\",\"usa\",\"usa\",\"usa\",\"usa\",\"usa\",\"usa\",\"usa\",\"usa\",\"usa\",\"usa\",\"usa\",\"usa\",\"europe\",\"usa\",\"usa\",\"usa\",\"usa\",\"usa\",\"japan\",\"usa\",\"japan\",\"japan\",\"usa\",\"usa\",\"europe\",\"usa\",\"usa\",\"europe\",\"europe\",\"europe\",\"europe\",\"usa\",\"europe\",\"japan\",\"usa\",\"usa\",\"usa\",\"usa\",\"usa\",\"japan\",\"usa\",\"japan\",\"usa\",\"usa\",\"usa\",\"usa\",\"usa\",\"usa\",\"usa\",\"usa\",\"usa\",\"europe\",\"europe\",\"europe\",\"japan\",\"japan\",\"usa\",\"europe\",\"europe\",\"japan\",\"japan\",\"europe\",\"usa\",\"usa\",\"usa\",\"usa\",\"usa\",\"usa\",\"usa\",\"usa\",\"usa\",\"usa\",\"usa\",\"usa\",\"usa\",\"usa\",\"usa\",\"japan\",\"usa\",\"usa\",\"usa\",\"japan\",\"europe\",\"japan\",\"usa\",\"europe\",\"usa\",\"europe\",\"europe\",\"europe\",\"europe\",\"japan\",\"europe\",\"europe\",\"usa\",\"usa\",\"europe\",\"usa\",\"usa\",\"usa\",\"usa\",\"usa\",\"usa\",\"usa\",\"usa\",\"usa\",\"usa\",\"europe\",\"japan\",\"usa\",\"usa\",\"usa\",\"usa\",\"europe\",\"japan\",\"japan\",\"usa\",\"europe\",\"usa\",\"europe\",\"japan\",\"europe\",\"usa\",\"usa\",\"usa\",\"usa\",\"japan\",\"usa\",\"europe\",\"usa\",\"japan\",\"usa\",\"usa\",\"usa\",\"usa\",\"usa\",\"usa\",\"usa\",\"usa\",\"usa\",\"usa\",\"usa\",\"usa\",\"europe\",\"usa\",\"japan\",\"usa\",\"usa\",\"usa\",\"japan\",\"europe\",\"japan\",\"europe\",\"japan\",\"europe\",\"usa\",\"japan\",\"japan\",\"japan\",\"usa\",\"usa\",\"usa\",\"usa\",\"usa\",\"usa\",\"usa\",\"usa\",\"usa\",\"usa\",\"usa\",\"usa\",\"usa\",\"usa\",\"usa\",\"usa\",\"usa\",\"usa\",\"japan\",\"japan\",\"usa\",\"japan\",\"usa\",\"usa\",\"japan\",\"europe\",\"europe\",\"europe\",\"europe\",\"europe\",\"japan\",\"usa\",\"usa\",\"usa\",\"usa\",\"usa\",\"usa\",\"usa\",\"usa\",\"usa\",\"usa\",\"usa\",\"usa\",\"usa\",\"europe\",\"japan\",\"usa\",\"usa\",\"europe\",\"usa\",\"europe\",\"usa\",\"usa\",\"usa\",\"japan\",\"europe\",\"usa\",\"usa\",\"usa\",\"usa\",\"europe\",\"japan\",\"usa\",\"japan\",\"usa\",\"usa\",\"usa\",\"usa\",\"europe\",\"japan\",\"japan\",\"japan\",\"japan\",\"japan\",\"usa\",\"japan\",\"europe\",\"europe\",\"europe\",\"europe\",\"japan\",\"europe\",\"japan\",\"europe\",\"japan\",\"japan\",\"europe\",\"usa\",\"japan\",\"usa\",\"usa\",\"usa\",\"usa\",\"usa\",\"japan\",\"usa\",\"japan\",\"japan\",\"japan\",\"japan\",\"japan\",\"usa\",\"usa\",\"usa\",\"europe\",\"europe\",\"japan\",\"japan\",\"japan\",\"japan\",\"europe\",\"europe\",\"japan\",\"japan\",\"usa\",\"usa\",\"usa\",\"usa\",\"usa\",\"usa\",\"usa\",\"usa\",\"usa\",\"usa\",\"usa\",\"usa\",\"europe\",\"japan\",\"japan\",\"usa\",\"usa\",\"japan\",\"japan\",\"japan\",\"japan\",\"japan\",\"japan\",\"usa\",\"usa\",\"usa\",\"usa\",\"japan\",\"usa\",\"usa\",\"usa\",\"europe\",\"usa\",\"usa\",\"usa\"],\"yaxis\":\"y\",\"type\":\"bar\"}],                        {\"template\":{\"data\":{\"histogram2dcontour\":[{\"type\":\"histogram2dcontour\",\"colorbar\":{\"outlinewidth\":0,\"ticks\":\"\"},\"colorscale\":[[0.0,\"#0d0887\"],[0.1111111111111111,\"#46039f\"],[0.2222222222222222,\"#7201a8\"],[0.3333333333333333,\"#9c179e\"],[0.4444444444444444,\"#bd3786\"],[0.5555555555555556,\"#d8576b\"],[0.6666666666666666,\"#ed7953\"],[0.7777777777777778,\"#fb9f3a\"],[0.8888888888888888,\"#fdca26\"],[1.0,\"#f0f921\"]]}],\"choropleth\":[{\"type\":\"choropleth\",\"colorbar\":{\"outlinewidth\":0,\"ticks\":\"\"}}],\"histogram2d\":[{\"type\":\"histogram2d\",\"colorbar\":{\"outlinewidth\":0,\"ticks\":\"\"},\"colorscale\":[[0.0,\"#0d0887\"],[0.1111111111111111,\"#46039f\"],[0.2222222222222222,\"#7201a8\"],[0.3333333333333333,\"#9c179e\"],[0.4444444444444444,\"#bd3786\"],[0.5555555555555556,\"#d8576b\"],[0.6666666666666666,\"#ed7953\"],[0.7777777777777778,\"#fb9f3a\"],[0.8888888888888888,\"#fdca26\"],[1.0,\"#f0f921\"]]}],\"heatmap\":[{\"type\":\"heatmap\",\"colorbar\":{\"outlinewidth\":0,\"ticks\":\"\"},\"colorscale\":[[0.0,\"#0d0887\"],[0.1111111111111111,\"#46039f\"],[0.2222222222222222,\"#7201a8\"],[0.3333333333333333,\"#9c179e\"],[0.4444444444444444,\"#bd3786\"],[0.5555555555555556,\"#d8576b\"],[0.6666666666666666,\"#ed7953\"],[0.7777777777777778,\"#fb9f3a\"],[0.8888888888888888,\"#fdca26\"],[1.0,\"#f0f921\"]]}],\"heatmapgl\":[{\"type\":\"heatmapgl\",\"colorbar\":{\"outlinewidth\":0,\"ticks\":\"\"},\"colorscale\":[[0.0,\"#0d0887\"],[0.1111111111111111,\"#46039f\"],[0.2222222222222222,\"#7201a8\"],[0.3333333333333333,\"#9c179e\"],[0.4444444444444444,\"#bd3786\"],[0.5555555555555556,\"#d8576b\"],[0.6666666666666666,\"#ed7953\"],[0.7777777777777778,\"#fb9f3a\"],[0.8888888888888888,\"#fdca26\"],[1.0,\"#f0f921\"]]}],\"contourcarpet\":[{\"type\":\"contourcarpet\",\"colorbar\":{\"outlinewidth\":0,\"ticks\":\"\"}}],\"contour\":[{\"type\":\"contour\",\"colorbar\":{\"outlinewidth\":0,\"ticks\":\"\"},\"colorscale\":[[0.0,\"#0d0887\"],[0.1111111111111111,\"#46039f\"],[0.2222222222222222,\"#7201a8\"],[0.3333333333333333,\"#9c179e\"],[0.4444444444444444,\"#bd3786\"],[0.5555555555555556,\"#d8576b\"],[0.6666666666666666,\"#ed7953\"],[0.7777777777777778,\"#fb9f3a\"],[0.8888888888888888,\"#fdca26\"],[1.0,\"#f0f921\"]]}],\"surface\":[{\"type\":\"surface\",\"colorbar\":{\"outlinewidth\":0,\"ticks\":\"\"},\"colorscale\":[[0.0,\"#0d0887\"],[0.1111111111111111,\"#46039f\"],[0.2222222222222222,\"#7201a8\"],[0.3333333333333333,\"#9c179e\"],[0.4444444444444444,\"#bd3786\"],[0.5555555555555556,\"#d8576b\"],[0.6666666666666666,\"#ed7953\"],[0.7777777777777778,\"#fb9f3a\"],[0.8888888888888888,\"#fdca26\"],[1.0,\"#f0f921\"]]}],\"mesh3d\":[{\"type\":\"mesh3d\",\"colorbar\":{\"outlinewidth\":0,\"ticks\":\"\"}}],\"scatter\":[{\"fillpattern\":{\"fillmode\":\"overlay\",\"size\":10,\"solidity\":0.2},\"type\":\"scatter\"}],\"parcoords\":[{\"type\":\"parcoords\",\"line\":{\"colorbar\":{\"outlinewidth\":0,\"ticks\":\"\"}}}],\"scatterpolargl\":[{\"type\":\"scatterpolargl\",\"marker\":{\"colorbar\":{\"outlinewidth\":0,\"ticks\":\"\"}}}],\"bar\":[{\"error_x\":{\"color\":\"#2a3f5f\"},\"error_y\":{\"color\":\"#2a3f5f\"},\"marker\":{\"line\":{\"color\":\"#E5ECF6\",\"width\":0.5},\"pattern\":{\"fillmode\":\"overlay\",\"size\":10,\"solidity\":0.2}},\"type\":\"bar\"}],\"scattergeo\":[{\"type\":\"scattergeo\",\"marker\":{\"colorbar\":{\"outlinewidth\":0,\"ticks\":\"\"}}}],\"scatterpolar\":[{\"type\":\"scatterpolar\",\"marker\":{\"colorbar\":{\"outlinewidth\":0,\"ticks\":\"\"}}}],\"histogram\":[{\"marker\":{\"pattern\":{\"fillmode\":\"overlay\",\"size\":10,\"solidity\":0.2}},\"type\":\"histogram\"}],\"scattergl\":[{\"type\":\"scattergl\",\"marker\":{\"colorbar\":{\"outlinewidth\":0,\"ticks\":\"\"}}}],\"scatter3d\":[{\"type\":\"scatter3d\",\"line\":{\"colorbar\":{\"outlinewidth\":0,\"ticks\":\"\"}},\"marker\":{\"colorbar\":{\"outlinewidth\":0,\"ticks\":\"\"}}}],\"scattermapbox\":[{\"type\":\"scattermapbox\",\"marker\":{\"colorbar\":{\"outlinewidth\":0,\"ticks\":\"\"}}}],\"scatterternary\":[{\"type\":\"scatterternary\",\"marker\":{\"colorbar\":{\"outlinewidth\":0,\"ticks\":\"\"}}}],\"scattercarpet\":[{\"type\":\"scattercarpet\",\"marker\":{\"colorbar\":{\"outlinewidth\":0,\"ticks\":\"\"}}}],\"carpet\":[{\"aaxis\":{\"endlinecolor\":\"#2a3f5f\",\"gridcolor\":\"white\",\"linecolor\":\"white\",\"minorgridcolor\":\"white\",\"startlinecolor\":\"#2a3f5f\"},\"baxis\":{\"endlinecolor\":\"#2a3f5f\",\"gridcolor\":\"white\",\"linecolor\":\"white\",\"minorgridcolor\":\"white\",\"startlinecolor\":\"#2a3f5f\"},\"type\":\"carpet\"}],\"table\":[{\"cells\":{\"fill\":{\"color\":\"#EBF0F8\"},\"line\":{\"color\":\"white\"}},\"header\":{\"fill\":{\"color\":\"#C8D4E3\"},\"line\":{\"color\":\"white\"}},\"type\":\"table\"}],\"barpolar\":[{\"marker\":{\"line\":{\"color\":\"#E5ECF6\",\"width\":0.5},\"pattern\":{\"fillmode\":\"overlay\",\"size\":10,\"solidity\":0.2}},\"type\":\"barpolar\"}],\"pie\":[{\"automargin\":true,\"type\":\"pie\"}]},\"layout\":{\"autotypenumbers\":\"strict\",\"colorway\":[\"#636efa\",\"#EF553B\",\"#00cc96\",\"#ab63fa\",\"#FFA15A\",\"#19d3f3\",\"#FF6692\",\"#B6E880\",\"#FF97FF\",\"#FECB52\"],\"font\":{\"color\":\"#2a3f5f\"},\"hovermode\":\"closest\",\"hoverlabel\":{\"align\":\"left\"},\"paper_bgcolor\":\"white\",\"plot_bgcolor\":\"#E5ECF6\",\"polar\":{\"bgcolor\":\"#E5ECF6\",\"angularaxis\":{\"gridcolor\":\"white\",\"linecolor\":\"white\",\"ticks\":\"\"},\"radialaxis\":{\"gridcolor\":\"white\",\"linecolor\":\"white\",\"ticks\":\"\"}},\"ternary\":{\"bgcolor\":\"#E5ECF6\",\"aaxis\":{\"gridcolor\":\"white\",\"linecolor\":\"white\",\"ticks\":\"\"},\"baxis\":{\"gridcolor\":\"white\",\"linecolor\":\"white\",\"ticks\":\"\"},\"caxis\":{\"gridcolor\":\"white\",\"linecolor\":\"white\",\"ticks\":\"\"}},\"coloraxis\":{\"colorbar\":{\"outlinewidth\":0,\"ticks\":\"\"}},\"colorscale\":{\"sequential\":[[0.0,\"#0d0887\"],[0.1111111111111111,\"#46039f\"],[0.2222222222222222,\"#7201a8\"],[0.3333333333333333,\"#9c179e\"],[0.4444444444444444,\"#bd3786\"],[0.5555555555555556,\"#d8576b\"],[0.6666666666666666,\"#ed7953\"],[0.7777777777777778,\"#fb9f3a\"],[0.8888888888888888,\"#fdca26\"],[1.0,\"#f0f921\"]],\"sequentialminus\":[[0.0,\"#0d0887\"],[0.1111111111111111,\"#46039f\"],[0.2222222222222222,\"#7201a8\"],[0.3333333333333333,\"#9c179e\"],[0.4444444444444444,\"#bd3786\"],[0.5555555555555556,\"#d8576b\"],[0.6666666666666666,\"#ed7953\"],[0.7777777777777778,\"#fb9f3a\"],[0.8888888888888888,\"#fdca26\"],[1.0,\"#f0f921\"]],\"diverging\":[[0,\"#8e0152\"],[0.1,\"#c51b7d\"],[0.2,\"#de77ae\"],[0.3,\"#f1b6da\"],[0.4,\"#fde0ef\"],[0.5,\"#f7f7f7\"],[0.6,\"#e6f5d0\"],[0.7,\"#b8e186\"],[0.8,\"#7fbc41\"],[0.9,\"#4d9221\"],[1,\"#276419\"]]},\"xaxis\":{\"gridcolor\":\"white\",\"linecolor\":\"white\",\"ticks\":\"\",\"title\":{\"standoff\":15},\"zerolinecolor\":\"white\",\"automargin\":true,\"zerolinewidth\":2},\"yaxis\":{\"gridcolor\":\"white\",\"linecolor\":\"white\",\"ticks\":\"\",\"title\":{\"standoff\":15},\"zerolinecolor\":\"white\",\"automargin\":true,\"zerolinewidth\":2},\"scene\":{\"xaxis\":{\"backgroundcolor\":\"#E5ECF6\",\"gridcolor\":\"white\",\"linecolor\":\"white\",\"showbackground\":true,\"ticks\":\"\",\"zerolinecolor\":\"white\",\"gridwidth\":2},\"yaxis\":{\"backgroundcolor\":\"#E5ECF6\",\"gridcolor\":\"white\",\"linecolor\":\"white\",\"showbackground\":true,\"ticks\":\"\",\"zerolinecolor\":\"white\",\"gridwidth\":2},\"zaxis\":{\"backgroundcolor\":\"#E5ECF6\",\"gridcolor\":\"white\",\"linecolor\":\"white\",\"showbackground\":true,\"ticks\":\"\",\"zerolinecolor\":\"white\",\"gridwidth\":2}},\"shapedefaults\":{\"line\":{\"color\":\"#2a3f5f\"}},\"annotationdefaults\":{\"arrowcolor\":\"#2a3f5f\",\"arrowhead\":0,\"arrowwidth\":1},\"geo\":{\"bgcolor\":\"white\",\"landcolor\":\"#E5ECF6\",\"subunitcolor\":\"white\",\"showland\":true,\"showlakes\":true,\"lakecolor\":\"white\"},\"title\":{\"x\":0.05},\"mapbox\":{\"style\":\"light\"}}},\"xaxis\":{\"anchor\":\"y\",\"domain\":[0.0,1.0],\"title\":{\"text\":\"count\"}},\"yaxis\":{\"anchor\":\"x\",\"domain\":[0.0,1.0],\"title\":{\"text\":\"origin\"}},\"coloraxis\":{\"colorbar\":{\"title\":{\"text\":\"cylinders\"}},\"colorscale\":[[0.0,\"#0d0887\"],[0.1111111111111111,\"#46039f\"],[0.2222222222222222,\"#7201a8\"],[0.3333333333333333,\"#9c179e\"],[0.4444444444444444,\"#bd3786\"],[0.5555555555555556,\"#d8576b\"],[0.6666666666666666,\"#ed7953\"],[0.7777777777777778,\"#fb9f3a\"],[0.8888888888888888,\"#fdca26\"],[1.0,\"#f0f921\"]]},\"legend\":{\"tracegroupgap\":0},\"margin\":{\"t\":60},\"barmode\":\"relative\"},                        {\"responsive\": true}                    ).then(function(){\n",
       "                            \n",
       "var gd = document.getElementById('bad8becc-8974-4407-b05f-a22ee06f5cb7');\n",
       "var x = new MutationObserver(function (mutations, observer) {{\n",
       "        var display = window.getComputedStyle(gd).display;\n",
       "        if (!display || display === 'none') {{\n",
       "            console.log([gd, 'removed!']);\n",
       "            Plotly.purge(gd);\n",
       "            observer.disconnect();\n",
       "        }}\n",
       "}});\n",
       "\n",
       "// Listen for the removal of the full notebook cells\n",
       "var notebookContainer = gd.closest('#notebook-container');\n",
       "if (notebookContainer) {{\n",
       "    x.observe(notebookContainer, {childList: true});\n",
       "}}\n",
       "\n",
       "// Listen for the clearing of the current output cell\n",
       "var outputEl = gd.closest('.output');\n",
       "if (outputEl) {{\n",
       "    x.observe(outputEl, {childList: true});\n",
       "}}\n",
       "\n",
       "                        })                };                });            </script>        </div>"
      ]
     },
     "metadata": {},
     "output_type": "display_data"
    }
   ],
   "source": [
    "px.bar(data, y = \"origin\", hover_name = \"name\", color = \"cylinders\")"
   ]
  },
  {
   "cell_type": "code",
   "execution_count": 72,
   "id": "b5cc534c",
   "metadata": {},
   "outputs": [
    {
     "data": {
      "application/vnd.plotly.v1+json": {
       "config": {
        "plotlyServerURL": "https://plot.ly"
       },
       "data": [
        {
         "alignmentgroup": "True",
         "bingroup": "x",
         "hovertemplate": "origin=usa<br>horsepower=%{x}<br>count=%{y}<extra></extra>",
         "legendgroup": "",
         "marker": {
          "color": "#636efa",
          "pattern": {
           "shape": ""
          }
         },
         "name": "",
         "offsetgroup": "",
         "orientation": "v",
         "showlegend": false,
         "type": "histogram",
         "x": [
          130,
          165,
          150,
          150,
          140,
          198,
          220,
          215,
          225,
          190,
          170,
          160,
          150,
          225,
          95,
          97,
          85,
          90,
          215,
          200,
          210,
          193,
          90,
          null,
          100,
          105,
          100,
          88,
          100,
          165,
          175,
          153,
          150,
          180,
          170,
          175,
          110,
          72,
          100,
          88,
          86,
          70,
          80,
          90,
          86,
          165,
          175,
          150,
          153,
          150,
          208,
          155,
          160,
          190,
          150,
          130,
          140,
          150,
          86,
          80,
          175,
          150,
          145,
          137,
          150,
          198,
          150,
          158,
          150,
          215,
          225,
          175,
          105,
          100,
          100,
          88,
          95,
          150,
          167,
          170,
          180,
          100,
          72,
          85,
          107,
          145,
          230,
          150,
          180,
          95,
          null,
          100,
          100,
          80,
          75,
          100,
          110,
          105,
          140,
          150,
          150,
          140,
          150,
          75,
          95,
          105,
          72,
          72,
          170,
          145,
          150,
          148,
          110,
          105,
          110,
          95,
          110,
          110,
          129,
          83,
          100,
          78,
          97,
          90,
          92,
          79,
          140,
          150,
          120,
          152,
          100,
          105,
          81,
          90,
          52,
          60,
          100,
          78,
          110,
          95,
          72,
          150,
          180,
          145,
          130,
          150,
          80,
          96,
          145,
          110,
          145,
          130,
          110,
          105,
          100,
          98,
          180,
          170,
          190,
          149,
          88,
          89,
          63,
          83,
          66,
          110,
          140,
          139,
          105,
          95,
          85,
          88,
          100,
          90,
          105,
          85,
          110,
          120,
          145,
          165,
          139,
          140,
          68,
          75,
          105,
          85,
          115,
          85,
          88,
          90,
          110,
          130,
          129,
          138,
          135,
          155,
          142,
          125,
          150,
          80,
          80,
          125,
          90,
          70,
          70,
          90,
          115,
          115,
          90,
          70,
          90,
          88,
          90,
          90,
          105,
          null,
          84,
          84,
          92,
          110,
          84,
          64,
          63,
          65,
          65,
          110,
          105,
          88,
          85,
          88,
          88,
          88,
          85,
          84,
          90,
          92,
          null,
          63,
          70,
          110,
          85,
          92,
          112,
          84,
          90,
          86,
          84,
          79,
          82
         ],
         "xaxis": "x",
         "yaxis": "y"
        },
        {
         "alignmentgroup": "True",
         "boxpoints": "all",
         "fillcolor": "rgba(255,255,255,0)",
         "hoveron": "points",
         "hovertemplate": "<b>%{hovertext}</b><br><br>origin=usa<br>horsepower=%{x}<extra></extra>",
         "hovertext": [
          "chevrolet chevelle malibu",
          "buick skylark 320",
          "plymouth satellite",
          "amc rebel sst",
          "ford torino",
          "ford galaxie 500",
          "chevrolet impala",
          "plymouth fury iii",
          "pontiac catalina",
          "amc ambassador dpl",
          "dodge challenger se",
          "plymouth 'cuda 340",
          "chevrolet monte carlo",
          "buick estate wagon (sw)",
          "plymouth duster",
          "amc hornet",
          "ford maverick",
          "amc gremlin",
          "ford f250",
          "chevy c20",
          "dodge d200",
          "hi 1200d",
          "chevrolet vega 2300",
          "ford pinto",
          "amc gremlin",
          "plymouth satellite custom",
          "chevrolet chevelle malibu",
          "ford torino 500",
          "amc matador",
          "chevrolet impala",
          "pontiac catalina brougham",
          "ford galaxie 500",
          "plymouth fury iii",
          "dodge monaco (sw)",
          "ford country squire (sw)",
          "pontiac safari (sw)",
          "amc hornet sportabout (sw)",
          "chevrolet vega (sw)",
          "pontiac firebird",
          "ford mustang",
          "mercury capri 2000",
          "plymouth cricket",
          "dodge colt hardtop",
          "chevrolet vega",
          "ford pinto runabout",
          "chevrolet impala",
          "pontiac catalina",
          "plymouth fury iii",
          "ford galaxie 500",
          "amc ambassador sst",
          "mercury marquis",
          "buick lesabre custom",
          "oldsmobile delta 88 royale",
          "chrysler newport royal",
          "amc matador (sw)",
          "chevrolet chevelle concours (sw)",
          "ford gran torino (sw)",
          "plymouth satellite custom (sw)",
          "ford pinto (sw)",
          "dodge colt (sw)",
          "buick century 350",
          "amc matador",
          "chevrolet malibu",
          "ford gran torino",
          "dodge coronet custom",
          "mercury marquis brougham",
          "chevrolet caprice classic",
          "ford ltd",
          "plymouth fury gran sedan",
          "chrysler new yorker brougham",
          "buick electra 225 custom",
          "amc ambassador brougham",
          "plymouth valiant",
          "chevrolet nova custom",
          "amc hornet",
          "ford maverick",
          "plymouth duster",
          "chevrolet impala",
          "ford country",
          "plymouth custom suburb",
          "oldsmobile vista cruiser",
          "amc gremlin",
          "chevrolet vega",
          "ford pinto",
          "mercury capri v6",
          "chevrolet monte carlo s",
          "pontiac grand prix",
          "dodge dart custom",
          "oldsmobile omega",
          "plymouth duster",
          "ford maverick",
          "amc hornet",
          "chevrolet nova",
          "ford pinto",
          "chevrolet vega",
          "chevrolet chevelle malibu classic",
          "amc matador",
          "plymouth satellite sebring",
          "ford gran torino",
          "buick century luxus (sw)",
          "dodge coronet custom (sw)",
          "ford gran torino (sw)",
          "amc matador (sw)",
          "dodge colt",
          "plymouth valiant custom",
          "chevrolet nova",
          "mercury monarch",
          "ford maverick",
          "pontiac catalina",
          "chevrolet bel air",
          "plymouth grand fury",
          "ford ltd",
          "buick century",
          "chevroelt chevelle malibu",
          "amc matador",
          "plymouth fury",
          "buick skyhawk",
          "chevrolet monza 2+2",
          "ford mustang ii",
          "ford pinto",
          "amc gremlin",
          "pontiac astro",
          "ford pinto",
          "amc pacer",
          "capri ii",
          "dodge colt",
          "chevrolet chevelle malibu classic",
          "dodge coronet brougham",
          "amc matador",
          "ford gran torino",
          "plymouth valiant",
          "chevrolet nova",
          "ford maverick",
          "amc hornet",
          "chevrolet chevette",
          "chevrolet woody",
          "dodge aspen se",
          "ford granada ghia",
          "pontiac ventura sj",
          "amc pacer d/l",
          "ford pinto",
          "plymouth volare premier v8",
          "cadillac seville",
          "chevy c10",
          "ford f108",
          "dodge d100",
          "buick opel isuzu deluxe",
          "plymouth arrow gs",
          "chevrolet caprice classic",
          "oldsmobile cutlass supreme",
          "dodge monaco brougham",
          "mercury cougar brougham",
          "chevrolet concours",
          "buick skylark",
          "plymouth volare custom",
          "ford granada",
          "pontiac grand prix lj",
          "chevrolet monte carlo landau",
          "chrysler cordoba",
          "ford thunderbird",
          "pontiac sunbird coupe",
          "ford mustang ii 2+2",
          "chevrolet chevette",
          "dodge colt m/m",
          "ford fiesta",
          "oldsmobile cutlass salon brougham",
          "dodge diplomat",
          "mercury monarch ghia",
          "pontiac phoenix lj",
          "chevrolet malibu",
          "ford fairmont (auto)",
          "ford fairmont (man)",
          "plymouth volare",
          "amc concord",
          "buick century special",
          "mercury zephyr",
          "dodge aspen",
          "amc concord d/l",
          "chevrolet monte carlo landau",
          "buick regal sport coupe (turbo)",
          "ford futura",
          "dodge magnum xe",
          "chevrolet chevette",
          "dodge omni",
          "plymouth sapporo",
          "oldsmobile starfire sx",
          "pontiac lemans v6",
          "mercury zephyr 6",
          "ford fairmont 4",
          "amc concord dl 6",
          "dodge aspen 6",
          "chevrolet caprice classic",
          "ford ltd landau",
          "mercury grand marquis",
          "dodge st. regis",
          "buick estate wagon (sw)",
          "ford country squire (sw)",
          "chevrolet malibu classic (sw)",
          "chrysler lebaron town @ country (sw)",
          "dodge colt hatchback custom",
          "amc spirit dl",
          "cadillac eldorado",
          "oldsmobile cutlass salon brougham",
          "plymouth horizon",
          "plymouth horizon tc3",
          "buick skylark limited",
          "chevrolet citation",
          "oldsmobile omega brougham",
          "pontiac phoenix",
          "chevrolet chevette",
          "chevrolet citation",
          "ford fairmont",
          "amc concord",
          "dodge aspen",
          "dodge colt",
          "ford mustang cobra",
          "plymouth reliant",
          "buick skylark",
          "dodge aries wagon (sw)",
          "chevrolet citation",
          "plymouth reliant",
          "plymouth champ",
          "plymouth horizon 4",
          "ford escort 4w",
          "ford escort 2h",
          "buick century",
          "oldsmobile cutlass ls",
          "ford granada gl",
          "chrysler lebaron salon",
          "chevrolet cavalier",
          "chevrolet cavalier wagon",
          "chevrolet cavalier 2-door",
          "pontiac j2000 se hatchback",
          "dodge aries se",
          "pontiac phoenix",
          "ford fairmont futura",
          "amc concord dl",
          "plymouth horizon miser",
          "mercury lynx l",
          "buick century limited",
          "oldsmobile cutlass ciera (diesel)",
          "chrysler lebaron medallion",
          "ford granada l",
          "dodge charger 2.2",
          "chevrolet camaro",
          "ford mustang gl",
          "dodge rampage",
          "ford ranger",
          "chevy s-10"
         ],
         "jitter": 0,
         "legendgroup": "",
         "line": {
          "color": "rgba(255,255,255,0)"
         },
         "marker": {
          "color": "#636efa",
          "symbol": "line-ns-open"
         },
         "name": "",
         "offsetgroup": "",
         "showlegend": false,
         "type": "box",
         "x": [
          130,
          165,
          150,
          150,
          140,
          198,
          220,
          215,
          225,
          190,
          170,
          160,
          150,
          225,
          95,
          97,
          85,
          90,
          215,
          200,
          210,
          193,
          90,
          null,
          100,
          105,
          100,
          88,
          100,
          165,
          175,
          153,
          150,
          180,
          170,
          175,
          110,
          72,
          100,
          88,
          86,
          70,
          80,
          90,
          86,
          165,
          175,
          150,
          153,
          150,
          208,
          155,
          160,
          190,
          150,
          130,
          140,
          150,
          86,
          80,
          175,
          150,
          145,
          137,
          150,
          198,
          150,
          158,
          150,
          215,
          225,
          175,
          105,
          100,
          100,
          88,
          95,
          150,
          167,
          170,
          180,
          100,
          72,
          85,
          107,
          145,
          230,
          150,
          180,
          95,
          null,
          100,
          100,
          80,
          75,
          100,
          110,
          105,
          140,
          150,
          150,
          140,
          150,
          75,
          95,
          105,
          72,
          72,
          170,
          145,
          150,
          148,
          110,
          105,
          110,
          95,
          110,
          110,
          129,
          83,
          100,
          78,
          97,
          90,
          92,
          79,
          140,
          150,
          120,
          152,
          100,
          105,
          81,
          90,
          52,
          60,
          100,
          78,
          110,
          95,
          72,
          150,
          180,
          145,
          130,
          150,
          80,
          96,
          145,
          110,
          145,
          130,
          110,
          105,
          100,
          98,
          180,
          170,
          190,
          149,
          88,
          89,
          63,
          83,
          66,
          110,
          140,
          139,
          105,
          95,
          85,
          88,
          100,
          90,
          105,
          85,
          110,
          120,
          145,
          165,
          139,
          140,
          68,
          75,
          105,
          85,
          115,
          85,
          88,
          90,
          110,
          130,
          129,
          138,
          135,
          155,
          142,
          125,
          150,
          80,
          80,
          125,
          90,
          70,
          70,
          90,
          115,
          115,
          90,
          70,
          90,
          88,
          90,
          90,
          105,
          null,
          84,
          84,
          92,
          110,
          84,
          64,
          63,
          65,
          65,
          110,
          105,
          88,
          85,
          88,
          88,
          88,
          85,
          84,
          90,
          92,
          null,
          63,
          70,
          110,
          85,
          92,
          112,
          84,
          90,
          86,
          84,
          79,
          82
         ],
         "xaxis": "x4",
         "yaxis": "y4"
        },
        {
         "alignmentgroup": "True",
         "bingroup": "x",
         "hovertemplate": "origin=japan<br>horsepower=%{x}<br>count=%{y}<extra></extra>",
         "legendgroup": "",
         "marker": {
          "color": "#636efa",
          "pattern": {
           "shape": ""
          }
         },
         "name": "",
         "offsetgroup": "",
         "orientation": "v",
         "showlegend": false,
         "type": "histogram",
         "x": [
          95,
          88,
          88,
          95,
          65,
          69,
          95,
          97,
          92,
          97,
          88,
          88,
          94,
          90,
          122,
          67,
          65,
          52,
          61,
          97,
          93,
          75,
          96,
          97,
          53,
          53,
          70,
          75,
          108,
          68,
          70,
          75,
          67,
          97,
          110,
          52,
          70,
          60,
          95,
          97,
          95,
          97,
          68,
          65,
          65,
          60,
          65,
          90,
          75,
          92,
          75,
          65,
          65,
          67,
          67,
          132,
          100,
          72,
          58,
          60,
          67,
          65,
          62,
          68,
          75,
          75,
          100,
          74,
          116,
          120,
          68,
          68,
          88,
          75,
          70,
          67,
          67,
          67,
          96
         ],
         "xaxis": "x2",
         "yaxis": "y2"
        },
        {
         "alignmentgroup": "True",
         "boxpoints": "all",
         "fillcolor": "rgba(255,255,255,0)",
         "hoveron": "points",
         "hovertemplate": "<b>%{hovertext}</b><br><br>origin=japan<br>horsepower=%{x}<extra></extra>",
         "hovertext": [
          "toyota corona mark ii",
          "datsun pl510",
          "datsun pl510",
          "toyota corona",
          "toyota corolla 1200",
          "datsun 1200",
          "toyota corona hardtop",
          "mazda rx2 coupe",
          "datsun 510 (sw)",
          "toyouta corona mark ii (sw)",
          "toyota corolla 1600 (sw)",
          "toyota carina",
          "datsun 610",
          "maxda rx3",
          "toyota mark ii",
          "datsun b210",
          "toyota corolla 1200",
          "toyota corona",
          "datsun 710",
          "honda civic",
          "subaru",
          "toyota corolla",
          "toyota corona",
          "datsun 710",
          "honda civic cvcc",
          "honda civic",
          "datsun b-210",
          "toyota corolla",
          "toyota mark ii",
          "honda accord cvcc",
          "datsun f-10 hatchback",
          "toyota corolla liftback",
          "subaru dl",
          "datsun 810",
          "mazda rx-4",
          "mazda glc deluxe",
          "datsun b210 gx",
          "honda civic cvcc",
          "toyota corona",
          "datsun 510",
          "toyota celica gt liftback",
          "datsun 200-sx",
          "honda accord lx",
          "maxda glc deluxe",
          "datsun 210",
          "toyota corolla tercel",
          "datsun 310",
          "toyota corona liftback",
          "mazda 626",
          "datsun 510 hatchback",
          "toyota corolla",
          "mazda glc",
          "datsun 210",
          "honda civic 1500 gl",
          "subaru dl",
          "datsun 280-zx",
          "mazda rx-7 gs",
          "honda accord",
          "toyota starlet",
          "honda civic 1300",
          "subaru",
          "datsun 210 mpg",
          "toyota tercel",
          "mazda glc 4",
          "honda prelude",
          "toyota corolla",
          "datsun 200sx",
          "mazda 626",
          "toyota cressida",
          "datsun 810 maxima",
          "mazda glc custom l",
          "mazda glc custom",
          "nissan stanza xe",
          "honda accord",
          "toyota corolla",
          "honda civic",
          "honda civic (auto)",
          "datsun 310 gx",
          "toyota celica gt"
         ],
         "jitter": 0,
         "legendgroup": "",
         "line": {
          "color": "rgba(255,255,255,0)"
         },
         "marker": {
          "color": "#636efa",
          "symbol": "line-ns-open"
         },
         "name": "",
         "offsetgroup": "",
         "showlegend": false,
         "type": "box",
         "x": [
          95,
          88,
          88,
          95,
          65,
          69,
          95,
          97,
          92,
          97,
          88,
          88,
          94,
          90,
          122,
          67,
          65,
          52,
          61,
          97,
          93,
          75,
          96,
          97,
          53,
          53,
          70,
          75,
          108,
          68,
          70,
          75,
          67,
          97,
          110,
          52,
          70,
          60,
          95,
          97,
          95,
          97,
          68,
          65,
          65,
          60,
          65,
          90,
          75,
          92,
          75,
          65,
          65,
          67,
          67,
          132,
          100,
          72,
          58,
          60,
          67,
          65,
          62,
          68,
          75,
          75,
          100,
          74,
          116,
          120,
          68,
          68,
          88,
          75,
          70,
          67,
          67,
          67,
          96
         ],
         "xaxis": "x5",
         "yaxis": "y5"
        },
        {
         "alignmentgroup": "True",
         "bingroup": "x",
         "hovertemplate": "origin=europe<br>horsepower=%{x}<br>count=%{y}<extra></extra>",
         "legendgroup": "",
         "marker": {
          "color": "#636efa",
          "pattern": {
           "shape": ""
          }
         },
         "name": "",
         "offsetgroup": "",
         "orientation": "v",
         "showlegend": false,
         "type": "histogram",
         "x": [
          46,
          87,
          90,
          95,
          113,
          90,
          70,
          76,
          60,
          54,
          112,
          76,
          87,
          69,
          46,
          90,
          49,
          75,
          91,
          112,
          110,
          83,
          67,
          78,
          75,
          75,
          67,
          71,
          70,
          95,
          88,
          98,
          115,
          86,
          81,
          83,
          70,
          71,
          102,
          88,
          120,
          58,
          78,
          78,
          110,
          48,
          103,
          125,
          115,
          133,
          71,
          71,
          77,
          71,
          69,
          76,
          78,
          48,
          48,
          67,
          67,
          null,
          62,
          88,
          74,
          null,
          80,
          76,
          74,
          52
         ],
         "xaxis": "x3",
         "yaxis": "y3"
        },
        {
         "alignmentgroup": "True",
         "boxpoints": "all",
         "fillcolor": "rgba(255,255,255,0)",
         "hoveron": "points",
         "hovertemplate": "<b>%{hovertext}</b><br><br>origin=europe<br>horsepower=%{x}<extra></extra>",
         "hovertext": [
          "volkswagen 1131 deluxe sedan",
          "peugeot 504",
          "audi 100 ls",
          "saab 99e",
          "bmw 2002",
          "opel 1900",
          "peugeot 304",
          "fiat 124b",
          "volkswagen model 111",
          "volkswagen type 3",
          "volvo 145e (sw)",
          "volkswagen 411 (sw)",
          "peugeot 504 (sw)",
          "renault 12 (sw)",
          "volkswagen super beetle",
          "fiat 124 sport coupe",
          "fiat 128",
          "opel manta",
          "audi 100ls",
          "volvo 144ea",
          "saab 99le",
          "audi fox",
          "volkswagen dasher",
          "opel manta",
          "fiat 128",
          "fiat 124 tc",
          "fiat x1.9",
          "volkswagen dasher",
          "volkswagen rabbit",
          "audi 100ls",
          "peugeot 504",
          "volvo 244dl",
          "saab 99le",
          "fiat 131",
          "opel 1900",
          "renault 12tl",
          "vw rabbit",
          "volkswagen rabbit",
          "volvo 245",
          "peugeot 504",
          "mercedes-benz 280s",
          "renault 5 gtl",
          "volkswagen rabbit custom",
          "volkswagen dasher",
          "bmw 320i",
          "volkswagen rabbit custom diesel",
          "audi 5000",
          "volvo 264gl",
          "saab 99gle",
          "peugeot 604sl",
          "volkswagen scirocco",
          "vw rabbit custom",
          "mercedes benz 300d",
          "peugeot 504",
          "fiat strada custom",
          "vw rabbit",
          "audi 4000",
          "vw rabbit c (diesel)",
          "vw dasher (diesel)",
          "audi 5000s (diesel)",
          "mercedes-benz 240d",
          "renault lecar deluxe",
          "vokswagen rabbit",
          "triumph tr7 coupe",
          "volkswagen jetta",
          "renault 18i",
          "peugeot 505s turbo diesel",
          "volvo diesel",
          "volkswagen rabbit l",
          "vw pickup"
         ],
         "jitter": 0,
         "legendgroup": "",
         "line": {
          "color": "rgba(255,255,255,0)"
         },
         "marker": {
          "color": "#636efa",
          "symbol": "line-ns-open"
         },
         "name": "",
         "offsetgroup": "",
         "showlegend": false,
         "type": "box",
         "x": [
          46,
          87,
          90,
          95,
          113,
          90,
          70,
          76,
          60,
          54,
          112,
          76,
          87,
          69,
          46,
          90,
          49,
          75,
          91,
          112,
          110,
          83,
          67,
          78,
          75,
          75,
          67,
          71,
          70,
          95,
          88,
          98,
          115,
          86,
          81,
          83,
          70,
          71,
          102,
          88,
          120,
          58,
          78,
          78,
          110,
          48,
          103,
          125,
          115,
          133,
          71,
          71,
          77,
          71,
          69,
          76,
          78,
          48,
          48,
          67,
          67,
          null,
          62,
          88,
          74,
          null,
          80,
          76,
          74,
          52
         ],
         "xaxis": "x6",
         "yaxis": "y6"
        }
       ],
       "layout": {
        "annotations": [
         {
          "font": {},
          "showarrow": false,
          "text": "origin=usa",
          "x": 0.15999999999999998,
          "xanchor": "center",
          "xref": "paper",
          "y": 1,
          "yanchor": "bottom",
          "yref": "paper"
         },
         {
          "font": {},
          "showarrow": false,
          "text": "origin=japan",
          "x": 0.49999999999999994,
          "xanchor": "center",
          "xref": "paper",
          "y": 1,
          "yanchor": "bottom",
          "yref": "paper"
         },
         {
          "font": {},
          "showarrow": false,
          "text": "origin=europe",
          "x": 0.8399999999999999,
          "xanchor": "center",
          "xref": "paper",
          "y": 1,
          "yanchor": "bottom",
          "yref": "paper"
         }
        ],
        "barmode": "relative",
        "legend": {
         "tracegroupgap": 0
        },
        "margin": {
         "t": 60
        },
        "template": {
         "data": {
          "bar": [
           {
            "error_x": {
             "color": "#2a3f5f"
            },
            "error_y": {
             "color": "#2a3f5f"
            },
            "marker": {
             "line": {
              "color": "#E5ECF6",
              "width": 0.5
             },
             "pattern": {
              "fillmode": "overlay",
              "size": 10,
              "solidity": 0.2
             }
            },
            "type": "bar"
           }
          ],
          "barpolar": [
           {
            "marker": {
             "line": {
              "color": "#E5ECF6",
              "width": 0.5
             },
             "pattern": {
              "fillmode": "overlay",
              "size": 10,
              "solidity": 0.2
             }
            },
            "type": "barpolar"
           }
          ],
          "carpet": [
           {
            "aaxis": {
             "endlinecolor": "#2a3f5f",
             "gridcolor": "white",
             "linecolor": "white",
             "minorgridcolor": "white",
             "startlinecolor": "#2a3f5f"
            },
            "baxis": {
             "endlinecolor": "#2a3f5f",
             "gridcolor": "white",
             "linecolor": "white",
             "minorgridcolor": "white",
             "startlinecolor": "#2a3f5f"
            },
            "type": "carpet"
           }
          ],
          "choropleth": [
           {
            "colorbar": {
             "outlinewidth": 0,
             "ticks": ""
            },
            "type": "choropleth"
           }
          ],
          "contour": [
           {
            "colorbar": {
             "outlinewidth": 0,
             "ticks": ""
            },
            "colorscale": [
             [
              0,
              "#0d0887"
             ],
             [
              0.1111111111111111,
              "#46039f"
             ],
             [
              0.2222222222222222,
              "#7201a8"
             ],
             [
              0.3333333333333333,
              "#9c179e"
             ],
             [
              0.4444444444444444,
              "#bd3786"
             ],
             [
              0.5555555555555556,
              "#d8576b"
             ],
             [
              0.6666666666666666,
              "#ed7953"
             ],
             [
              0.7777777777777778,
              "#fb9f3a"
             ],
             [
              0.8888888888888888,
              "#fdca26"
             ],
             [
              1,
              "#f0f921"
             ]
            ],
            "type": "contour"
           }
          ],
          "contourcarpet": [
           {
            "colorbar": {
             "outlinewidth": 0,
             "ticks": ""
            },
            "type": "contourcarpet"
           }
          ],
          "heatmap": [
           {
            "colorbar": {
             "outlinewidth": 0,
             "ticks": ""
            },
            "colorscale": [
             [
              0,
              "#0d0887"
             ],
             [
              0.1111111111111111,
              "#46039f"
             ],
             [
              0.2222222222222222,
              "#7201a8"
             ],
             [
              0.3333333333333333,
              "#9c179e"
             ],
             [
              0.4444444444444444,
              "#bd3786"
             ],
             [
              0.5555555555555556,
              "#d8576b"
             ],
             [
              0.6666666666666666,
              "#ed7953"
             ],
             [
              0.7777777777777778,
              "#fb9f3a"
             ],
             [
              0.8888888888888888,
              "#fdca26"
             ],
             [
              1,
              "#f0f921"
             ]
            ],
            "type": "heatmap"
           }
          ],
          "heatmapgl": [
           {
            "colorbar": {
             "outlinewidth": 0,
             "ticks": ""
            },
            "colorscale": [
             [
              0,
              "#0d0887"
             ],
             [
              0.1111111111111111,
              "#46039f"
             ],
             [
              0.2222222222222222,
              "#7201a8"
             ],
             [
              0.3333333333333333,
              "#9c179e"
             ],
             [
              0.4444444444444444,
              "#bd3786"
             ],
             [
              0.5555555555555556,
              "#d8576b"
             ],
             [
              0.6666666666666666,
              "#ed7953"
             ],
             [
              0.7777777777777778,
              "#fb9f3a"
             ],
             [
              0.8888888888888888,
              "#fdca26"
             ],
             [
              1,
              "#f0f921"
             ]
            ],
            "type": "heatmapgl"
           }
          ],
          "histogram": [
           {
            "marker": {
             "pattern": {
              "fillmode": "overlay",
              "size": 10,
              "solidity": 0.2
             }
            },
            "type": "histogram"
           }
          ],
          "histogram2d": [
           {
            "colorbar": {
             "outlinewidth": 0,
             "ticks": ""
            },
            "colorscale": [
             [
              0,
              "#0d0887"
             ],
             [
              0.1111111111111111,
              "#46039f"
             ],
             [
              0.2222222222222222,
              "#7201a8"
             ],
             [
              0.3333333333333333,
              "#9c179e"
             ],
             [
              0.4444444444444444,
              "#bd3786"
             ],
             [
              0.5555555555555556,
              "#d8576b"
             ],
             [
              0.6666666666666666,
              "#ed7953"
             ],
             [
              0.7777777777777778,
              "#fb9f3a"
             ],
             [
              0.8888888888888888,
              "#fdca26"
             ],
             [
              1,
              "#f0f921"
             ]
            ],
            "type": "histogram2d"
           }
          ],
          "histogram2dcontour": [
           {
            "colorbar": {
             "outlinewidth": 0,
             "ticks": ""
            },
            "colorscale": [
             [
              0,
              "#0d0887"
             ],
             [
              0.1111111111111111,
              "#46039f"
             ],
             [
              0.2222222222222222,
              "#7201a8"
             ],
             [
              0.3333333333333333,
              "#9c179e"
             ],
             [
              0.4444444444444444,
              "#bd3786"
             ],
             [
              0.5555555555555556,
              "#d8576b"
             ],
             [
              0.6666666666666666,
              "#ed7953"
             ],
             [
              0.7777777777777778,
              "#fb9f3a"
             ],
             [
              0.8888888888888888,
              "#fdca26"
             ],
             [
              1,
              "#f0f921"
             ]
            ],
            "type": "histogram2dcontour"
           }
          ],
          "mesh3d": [
           {
            "colorbar": {
             "outlinewidth": 0,
             "ticks": ""
            },
            "type": "mesh3d"
           }
          ],
          "parcoords": [
           {
            "line": {
             "colorbar": {
              "outlinewidth": 0,
              "ticks": ""
             }
            },
            "type": "parcoords"
           }
          ],
          "pie": [
           {
            "automargin": true,
            "type": "pie"
           }
          ],
          "scatter": [
           {
            "fillpattern": {
             "fillmode": "overlay",
             "size": 10,
             "solidity": 0.2
            },
            "type": "scatter"
           }
          ],
          "scatter3d": [
           {
            "line": {
             "colorbar": {
              "outlinewidth": 0,
              "ticks": ""
             }
            },
            "marker": {
             "colorbar": {
              "outlinewidth": 0,
              "ticks": ""
             }
            },
            "type": "scatter3d"
           }
          ],
          "scattercarpet": [
           {
            "marker": {
             "colorbar": {
              "outlinewidth": 0,
              "ticks": ""
             }
            },
            "type": "scattercarpet"
           }
          ],
          "scattergeo": [
           {
            "marker": {
             "colorbar": {
              "outlinewidth": 0,
              "ticks": ""
             }
            },
            "type": "scattergeo"
           }
          ],
          "scattergl": [
           {
            "marker": {
             "colorbar": {
              "outlinewidth": 0,
              "ticks": ""
             }
            },
            "type": "scattergl"
           }
          ],
          "scattermapbox": [
           {
            "marker": {
             "colorbar": {
              "outlinewidth": 0,
              "ticks": ""
             }
            },
            "type": "scattermapbox"
           }
          ],
          "scatterpolar": [
           {
            "marker": {
             "colorbar": {
              "outlinewidth": 0,
              "ticks": ""
             }
            },
            "type": "scatterpolar"
           }
          ],
          "scatterpolargl": [
           {
            "marker": {
             "colorbar": {
              "outlinewidth": 0,
              "ticks": ""
             }
            },
            "type": "scatterpolargl"
           }
          ],
          "scatterternary": [
           {
            "marker": {
             "colorbar": {
              "outlinewidth": 0,
              "ticks": ""
             }
            },
            "type": "scatterternary"
           }
          ],
          "surface": [
           {
            "colorbar": {
             "outlinewidth": 0,
             "ticks": ""
            },
            "colorscale": [
             [
              0,
              "#0d0887"
             ],
             [
              0.1111111111111111,
              "#46039f"
             ],
             [
              0.2222222222222222,
              "#7201a8"
             ],
             [
              0.3333333333333333,
              "#9c179e"
             ],
             [
              0.4444444444444444,
              "#bd3786"
             ],
             [
              0.5555555555555556,
              "#d8576b"
             ],
             [
              0.6666666666666666,
              "#ed7953"
             ],
             [
              0.7777777777777778,
              "#fb9f3a"
             ],
             [
              0.8888888888888888,
              "#fdca26"
             ],
             [
              1,
              "#f0f921"
             ]
            ],
            "type": "surface"
           }
          ],
          "table": [
           {
            "cells": {
             "fill": {
              "color": "#EBF0F8"
             },
             "line": {
              "color": "white"
             }
            },
            "header": {
             "fill": {
              "color": "#C8D4E3"
             },
             "line": {
              "color": "white"
             }
            },
            "type": "table"
           }
          ]
         },
         "layout": {
          "annotationdefaults": {
           "arrowcolor": "#2a3f5f",
           "arrowhead": 0,
           "arrowwidth": 1
          },
          "autotypenumbers": "strict",
          "coloraxis": {
           "colorbar": {
            "outlinewidth": 0,
            "ticks": ""
           }
          },
          "colorscale": {
           "diverging": [
            [
             0,
             "#8e0152"
            ],
            [
             0.1,
             "#c51b7d"
            ],
            [
             0.2,
             "#de77ae"
            ],
            [
             0.3,
             "#f1b6da"
            ],
            [
             0.4,
             "#fde0ef"
            ],
            [
             0.5,
             "#f7f7f7"
            ],
            [
             0.6,
             "#e6f5d0"
            ],
            [
             0.7,
             "#b8e186"
            ],
            [
             0.8,
             "#7fbc41"
            ],
            [
             0.9,
             "#4d9221"
            ],
            [
             1,
             "#276419"
            ]
           ],
           "sequential": [
            [
             0,
             "#0d0887"
            ],
            [
             0.1111111111111111,
             "#46039f"
            ],
            [
             0.2222222222222222,
             "#7201a8"
            ],
            [
             0.3333333333333333,
             "#9c179e"
            ],
            [
             0.4444444444444444,
             "#bd3786"
            ],
            [
             0.5555555555555556,
             "#d8576b"
            ],
            [
             0.6666666666666666,
             "#ed7953"
            ],
            [
             0.7777777777777778,
             "#fb9f3a"
            ],
            [
             0.8888888888888888,
             "#fdca26"
            ],
            [
             1,
             "#f0f921"
            ]
           ],
           "sequentialminus": [
            [
             0,
             "#0d0887"
            ],
            [
             0.1111111111111111,
             "#46039f"
            ],
            [
             0.2222222222222222,
             "#7201a8"
            ],
            [
             0.3333333333333333,
             "#9c179e"
            ],
            [
             0.4444444444444444,
             "#bd3786"
            ],
            [
             0.5555555555555556,
             "#d8576b"
            ],
            [
             0.6666666666666666,
             "#ed7953"
            ],
            [
             0.7777777777777778,
             "#fb9f3a"
            ],
            [
             0.8888888888888888,
             "#fdca26"
            ],
            [
             1,
             "#f0f921"
            ]
           ]
          },
          "colorway": [
           "#636efa",
           "#EF553B",
           "#00cc96",
           "#ab63fa",
           "#FFA15A",
           "#19d3f3",
           "#FF6692",
           "#B6E880",
           "#FF97FF",
           "#FECB52"
          ],
          "font": {
           "color": "#2a3f5f"
          },
          "geo": {
           "bgcolor": "white",
           "lakecolor": "white",
           "landcolor": "#E5ECF6",
           "showlakes": true,
           "showland": true,
           "subunitcolor": "white"
          },
          "hoverlabel": {
           "align": "left"
          },
          "hovermode": "closest",
          "mapbox": {
           "style": "light"
          },
          "paper_bgcolor": "white",
          "plot_bgcolor": "#E5ECF6",
          "polar": {
           "angularaxis": {
            "gridcolor": "white",
            "linecolor": "white",
            "ticks": ""
           },
           "bgcolor": "#E5ECF6",
           "radialaxis": {
            "gridcolor": "white",
            "linecolor": "white",
            "ticks": ""
           }
          },
          "scene": {
           "xaxis": {
            "backgroundcolor": "#E5ECF6",
            "gridcolor": "white",
            "gridwidth": 2,
            "linecolor": "white",
            "showbackground": true,
            "ticks": "",
            "zerolinecolor": "white"
           },
           "yaxis": {
            "backgroundcolor": "#E5ECF6",
            "gridcolor": "white",
            "gridwidth": 2,
            "linecolor": "white",
            "showbackground": true,
            "ticks": "",
            "zerolinecolor": "white"
           },
           "zaxis": {
            "backgroundcolor": "#E5ECF6",
            "gridcolor": "white",
            "gridwidth": 2,
            "linecolor": "white",
            "showbackground": true,
            "ticks": "",
            "zerolinecolor": "white"
           }
          },
          "shapedefaults": {
           "line": {
            "color": "#2a3f5f"
           }
          },
          "ternary": {
           "aaxis": {
            "gridcolor": "white",
            "linecolor": "white",
            "ticks": ""
           },
           "baxis": {
            "gridcolor": "white",
            "linecolor": "white",
            "ticks": ""
           },
           "bgcolor": "#E5ECF6",
           "caxis": {
            "gridcolor": "white",
            "linecolor": "white",
            "ticks": ""
           }
          },
          "title": {
           "x": 0.05
          },
          "xaxis": {
           "automargin": true,
           "gridcolor": "white",
           "linecolor": "white",
           "ticks": "",
           "title": {
            "standoff": 15
           },
           "zerolinecolor": "white",
           "zerolinewidth": 2
          },
          "yaxis": {
           "automargin": true,
           "gridcolor": "white",
           "linecolor": "white",
           "ticks": "",
           "title": {
            "standoff": 15
           },
           "zerolinecolor": "white",
           "zerolinewidth": 2
          }
         }
        },
        "xaxis": {
         "anchor": "y",
         "domain": [
          0,
          0.31999999999999995
         ],
         "title": {
          "text": "horsepower"
         }
        },
        "xaxis2": {
         "anchor": "y2",
         "domain": [
          0.33999999999999997,
          0.6599999999999999
         ],
         "matches": "x",
         "title": {
          "text": "horsepower"
         }
        },
        "xaxis3": {
         "anchor": "y3",
         "domain": [
          0.6799999999999999,
          0.9999999999999999
         ],
         "matches": "x",
         "title": {
          "text": "horsepower"
         }
        },
        "xaxis4": {
         "anchor": "y4",
         "domain": [
          0,
          0.31999999999999995
         ],
         "matches": "x",
         "showgrid": true,
         "showticklabels": false
        },
        "xaxis5": {
         "anchor": "y5",
         "domain": [
          0.33999999999999997,
          0.6599999999999999
         ],
         "matches": "x",
         "showgrid": true,
         "showticklabels": false
        },
        "xaxis6": {
         "anchor": "y6",
         "domain": [
          0.6799999999999999,
          0.9999999999999999
         ],
         "matches": "x",
         "showgrid": true,
         "showticklabels": false
        },
        "yaxis": {
         "anchor": "x",
         "domain": [
          0,
          0.8316
         ],
         "title": {
          "text": "count"
         }
        },
        "yaxis2": {
         "anchor": "x2",
         "domain": [
          0,
          0.8316
         ],
         "matches": "y",
         "showticklabels": false
        },
        "yaxis3": {
         "anchor": "x3",
         "domain": [
          0,
          0.8316
         ],
         "matches": "y",
         "showticklabels": false
        },
        "yaxis4": {
         "anchor": "x4",
         "domain": [
          0.8416,
          1
         ],
         "matches": "y4",
         "showgrid": false,
         "showline": false,
         "showticklabels": false,
         "ticks": ""
        },
        "yaxis5": {
         "anchor": "x5",
         "domain": [
          0.8416,
          1
         ],
         "matches": "y4",
         "showgrid": false,
         "showline": false,
         "showticklabels": false,
         "ticks": ""
        },
        "yaxis6": {
         "anchor": "x6",
         "domain": [
          0.8416,
          1
         ],
         "matches": "y4",
         "showgrid": false,
         "showline": false,
         "showticklabels": false,
         "ticks": ""
        }
       }
      },
      "text/html": [
       "<div>                            <div id=\"da25e25e-3284-4682-8c7b-fe849f67fed1\" class=\"plotly-graph-div\" style=\"height:525px; width:100%;\"></div>            <script type=\"text/javascript\">                require([\"plotly\"], function(Plotly) {                    window.PLOTLYENV=window.PLOTLYENV || {};                                    if (document.getElementById(\"da25e25e-3284-4682-8c7b-fe849f67fed1\")) {                    Plotly.newPlot(                        \"da25e25e-3284-4682-8c7b-fe849f67fed1\",                        [{\"alignmentgroup\":\"True\",\"bingroup\":\"x\",\"hovertemplate\":\"origin=usa<br>horsepower=%{x}<br>count=%{y}<extra></extra>\",\"legendgroup\":\"\",\"marker\":{\"color\":\"#636efa\",\"pattern\":{\"shape\":\"\"}},\"name\":\"\",\"offsetgroup\":\"\",\"orientation\":\"v\",\"showlegend\":false,\"x\":[130.0,165.0,150.0,150.0,140.0,198.0,220.0,215.0,225.0,190.0,170.0,160.0,150.0,225.0,95.0,97.0,85.0,90.0,215.0,200.0,210.0,193.0,90.0,null,100.0,105.0,100.0,88.0,100.0,165.0,175.0,153.0,150.0,180.0,170.0,175.0,110.0,72.0,100.0,88.0,86.0,70.0,80.0,90.0,86.0,165.0,175.0,150.0,153.0,150.0,208.0,155.0,160.0,190.0,150.0,130.0,140.0,150.0,86.0,80.0,175.0,150.0,145.0,137.0,150.0,198.0,150.0,158.0,150.0,215.0,225.0,175.0,105.0,100.0,100.0,88.0,95.0,150.0,167.0,170.0,180.0,100.0,72.0,85.0,107.0,145.0,230.0,150.0,180.0,95.0,null,100.0,100.0,80.0,75.0,100.0,110.0,105.0,140.0,150.0,150.0,140.0,150.0,75.0,95.0,105.0,72.0,72.0,170.0,145.0,150.0,148.0,110.0,105.0,110.0,95.0,110.0,110.0,129.0,83.0,100.0,78.0,97.0,90.0,92.0,79.0,140.0,150.0,120.0,152.0,100.0,105.0,81.0,90.0,52.0,60.0,100.0,78.0,110.0,95.0,72.0,150.0,180.0,145.0,130.0,150.0,80.0,96.0,145.0,110.0,145.0,130.0,110.0,105.0,100.0,98.0,180.0,170.0,190.0,149.0,88.0,89.0,63.0,83.0,66.0,110.0,140.0,139.0,105.0,95.0,85.0,88.0,100.0,90.0,105.0,85.0,110.0,120.0,145.0,165.0,139.0,140.0,68.0,75.0,105.0,85.0,115.0,85.0,88.0,90.0,110.0,130.0,129.0,138.0,135.0,155.0,142.0,125.0,150.0,80.0,80.0,125.0,90.0,70.0,70.0,90.0,115.0,115.0,90.0,70.0,90.0,88.0,90.0,90.0,105.0,null,84.0,84.0,92.0,110.0,84.0,64.0,63.0,65.0,65.0,110.0,105.0,88.0,85.0,88.0,88.0,88.0,85.0,84.0,90.0,92.0,null,63.0,70.0,110.0,85.0,92.0,112.0,84.0,90.0,86.0,84.0,79.0,82.0],\"xaxis\":\"x\",\"yaxis\":\"y\",\"type\":\"histogram\"},{\"alignmentgroup\":\"True\",\"boxpoints\":\"all\",\"fillcolor\":\"rgba(255,255,255,0)\",\"hoveron\":\"points\",\"hovertemplate\":\"<b>%{hovertext}</b><br><br>origin=usa<br>horsepower=%{x}<extra></extra>\",\"hovertext\":[\"chevrolet chevelle malibu\",\"buick skylark 320\",\"plymouth satellite\",\"amc rebel sst\",\"ford torino\",\"ford galaxie 500\",\"chevrolet impala\",\"plymouth fury iii\",\"pontiac catalina\",\"amc ambassador dpl\",\"dodge challenger se\",\"plymouth 'cuda 340\",\"chevrolet monte carlo\",\"buick estate wagon (sw)\",\"plymouth duster\",\"amc hornet\",\"ford maverick\",\"amc gremlin\",\"ford f250\",\"chevy c20\",\"dodge d200\",\"hi 1200d\",\"chevrolet vega 2300\",\"ford pinto\",\"amc gremlin\",\"plymouth satellite custom\",\"chevrolet chevelle malibu\",\"ford torino 500\",\"amc matador\",\"chevrolet impala\",\"pontiac catalina brougham\",\"ford galaxie 500\",\"plymouth fury iii\",\"dodge monaco (sw)\",\"ford country squire (sw)\",\"pontiac safari (sw)\",\"amc hornet sportabout (sw)\",\"chevrolet vega (sw)\",\"pontiac firebird\",\"ford mustang\",\"mercury capri 2000\",\"plymouth cricket\",\"dodge colt hardtop\",\"chevrolet vega\",\"ford pinto runabout\",\"chevrolet impala\",\"pontiac catalina\",\"plymouth fury iii\",\"ford galaxie 500\",\"amc ambassador sst\",\"mercury marquis\",\"buick lesabre custom\",\"oldsmobile delta 88 royale\",\"chrysler newport royal\",\"amc matador (sw)\",\"chevrolet chevelle concours (sw)\",\"ford gran torino (sw)\",\"plymouth satellite custom (sw)\",\"ford pinto (sw)\",\"dodge colt (sw)\",\"buick century 350\",\"amc matador\",\"chevrolet malibu\",\"ford gran torino\",\"dodge coronet custom\",\"mercury marquis brougham\",\"chevrolet caprice classic\",\"ford ltd\",\"plymouth fury gran sedan\",\"chrysler new yorker brougham\",\"buick electra 225 custom\",\"amc ambassador brougham\",\"plymouth valiant\",\"chevrolet nova custom\",\"amc hornet\",\"ford maverick\",\"plymouth duster\",\"chevrolet impala\",\"ford country\",\"plymouth custom suburb\",\"oldsmobile vista cruiser\",\"amc gremlin\",\"chevrolet vega\",\"ford pinto\",\"mercury capri v6\",\"chevrolet monte carlo s\",\"pontiac grand prix\",\"dodge dart custom\",\"oldsmobile omega\",\"plymouth duster\",\"ford maverick\",\"amc hornet\",\"chevrolet nova\",\"ford pinto\",\"chevrolet vega\",\"chevrolet chevelle malibu classic\",\"amc matador\",\"plymouth satellite sebring\",\"ford gran torino\",\"buick century luxus (sw)\",\"dodge coronet custom (sw)\",\"ford gran torino (sw)\",\"amc matador (sw)\",\"dodge colt\",\"plymouth valiant custom\",\"chevrolet nova\",\"mercury monarch\",\"ford maverick\",\"pontiac catalina\",\"chevrolet bel air\",\"plymouth grand fury\",\"ford ltd\",\"buick century\",\"chevroelt chevelle malibu\",\"amc matador\",\"plymouth fury\",\"buick skyhawk\",\"chevrolet monza 2+2\",\"ford mustang ii\",\"ford pinto\",\"amc gremlin\",\"pontiac astro\",\"ford pinto\",\"amc pacer\",\"capri ii\",\"dodge colt\",\"chevrolet chevelle malibu classic\",\"dodge coronet brougham\",\"amc matador\",\"ford gran torino\",\"plymouth valiant\",\"chevrolet nova\",\"ford maverick\",\"amc hornet\",\"chevrolet chevette\",\"chevrolet woody\",\"dodge aspen se\",\"ford granada ghia\",\"pontiac ventura sj\",\"amc pacer d/l\",\"ford pinto\",\"plymouth volare premier v8\",\"cadillac seville\",\"chevy c10\",\"ford f108\",\"dodge d100\",\"buick opel isuzu deluxe\",\"plymouth arrow gs\",\"chevrolet caprice classic\",\"oldsmobile cutlass supreme\",\"dodge monaco brougham\",\"mercury cougar brougham\",\"chevrolet concours\",\"buick skylark\",\"plymouth volare custom\",\"ford granada\",\"pontiac grand prix lj\",\"chevrolet monte carlo landau\",\"chrysler cordoba\",\"ford thunderbird\",\"pontiac sunbird coupe\",\"ford mustang ii 2+2\",\"chevrolet chevette\",\"dodge colt m/m\",\"ford fiesta\",\"oldsmobile cutlass salon brougham\",\"dodge diplomat\",\"mercury monarch ghia\",\"pontiac phoenix lj\",\"chevrolet malibu\",\"ford fairmont (auto)\",\"ford fairmont (man)\",\"plymouth volare\",\"amc concord\",\"buick century special\",\"mercury zephyr\",\"dodge aspen\",\"amc concord d/l\",\"chevrolet monte carlo landau\",\"buick regal sport coupe (turbo)\",\"ford futura\",\"dodge magnum xe\",\"chevrolet chevette\",\"dodge omni\",\"plymouth sapporo\",\"oldsmobile starfire sx\",\"pontiac lemans v6\",\"mercury zephyr 6\",\"ford fairmont 4\",\"amc concord dl 6\",\"dodge aspen 6\",\"chevrolet caprice classic\",\"ford ltd landau\",\"mercury grand marquis\",\"dodge st. regis\",\"buick estate wagon (sw)\",\"ford country squire (sw)\",\"chevrolet malibu classic (sw)\",\"chrysler lebaron town @ country (sw)\",\"dodge colt hatchback custom\",\"amc spirit dl\",\"cadillac eldorado\",\"oldsmobile cutlass salon brougham\",\"plymouth horizon\",\"plymouth horizon tc3\",\"buick skylark limited\",\"chevrolet citation\",\"oldsmobile omega brougham\",\"pontiac phoenix\",\"chevrolet chevette\",\"chevrolet citation\",\"ford fairmont\",\"amc concord\",\"dodge aspen\",\"dodge colt\",\"ford mustang cobra\",\"plymouth reliant\",\"buick skylark\",\"dodge aries wagon (sw)\",\"chevrolet citation\",\"plymouth reliant\",\"plymouth champ\",\"plymouth horizon 4\",\"ford escort 4w\",\"ford escort 2h\",\"buick century\",\"oldsmobile cutlass ls\",\"ford granada gl\",\"chrysler lebaron salon\",\"chevrolet cavalier\",\"chevrolet cavalier wagon\",\"chevrolet cavalier 2-door\",\"pontiac j2000 se hatchback\",\"dodge aries se\",\"pontiac phoenix\",\"ford fairmont futura\",\"amc concord dl\",\"plymouth horizon miser\",\"mercury lynx l\",\"buick century limited\",\"oldsmobile cutlass ciera (diesel)\",\"chrysler lebaron medallion\",\"ford granada l\",\"dodge charger 2.2\",\"chevrolet camaro\",\"ford mustang gl\",\"dodge rampage\",\"ford ranger\",\"chevy s-10\"],\"jitter\":0,\"legendgroup\":\"\",\"line\":{\"color\":\"rgba(255,255,255,0)\"},\"marker\":{\"color\":\"#636efa\",\"symbol\":\"line-ns-open\"},\"name\":\"\",\"offsetgroup\":\"\",\"showlegend\":false,\"x\":[130.0,165.0,150.0,150.0,140.0,198.0,220.0,215.0,225.0,190.0,170.0,160.0,150.0,225.0,95.0,97.0,85.0,90.0,215.0,200.0,210.0,193.0,90.0,null,100.0,105.0,100.0,88.0,100.0,165.0,175.0,153.0,150.0,180.0,170.0,175.0,110.0,72.0,100.0,88.0,86.0,70.0,80.0,90.0,86.0,165.0,175.0,150.0,153.0,150.0,208.0,155.0,160.0,190.0,150.0,130.0,140.0,150.0,86.0,80.0,175.0,150.0,145.0,137.0,150.0,198.0,150.0,158.0,150.0,215.0,225.0,175.0,105.0,100.0,100.0,88.0,95.0,150.0,167.0,170.0,180.0,100.0,72.0,85.0,107.0,145.0,230.0,150.0,180.0,95.0,null,100.0,100.0,80.0,75.0,100.0,110.0,105.0,140.0,150.0,150.0,140.0,150.0,75.0,95.0,105.0,72.0,72.0,170.0,145.0,150.0,148.0,110.0,105.0,110.0,95.0,110.0,110.0,129.0,83.0,100.0,78.0,97.0,90.0,92.0,79.0,140.0,150.0,120.0,152.0,100.0,105.0,81.0,90.0,52.0,60.0,100.0,78.0,110.0,95.0,72.0,150.0,180.0,145.0,130.0,150.0,80.0,96.0,145.0,110.0,145.0,130.0,110.0,105.0,100.0,98.0,180.0,170.0,190.0,149.0,88.0,89.0,63.0,83.0,66.0,110.0,140.0,139.0,105.0,95.0,85.0,88.0,100.0,90.0,105.0,85.0,110.0,120.0,145.0,165.0,139.0,140.0,68.0,75.0,105.0,85.0,115.0,85.0,88.0,90.0,110.0,130.0,129.0,138.0,135.0,155.0,142.0,125.0,150.0,80.0,80.0,125.0,90.0,70.0,70.0,90.0,115.0,115.0,90.0,70.0,90.0,88.0,90.0,90.0,105.0,null,84.0,84.0,92.0,110.0,84.0,64.0,63.0,65.0,65.0,110.0,105.0,88.0,85.0,88.0,88.0,88.0,85.0,84.0,90.0,92.0,null,63.0,70.0,110.0,85.0,92.0,112.0,84.0,90.0,86.0,84.0,79.0,82.0],\"xaxis\":\"x4\",\"yaxis\":\"y4\",\"type\":\"box\"},{\"alignmentgroup\":\"True\",\"bingroup\":\"x\",\"hovertemplate\":\"origin=japan<br>horsepower=%{x}<br>count=%{y}<extra></extra>\",\"legendgroup\":\"\",\"marker\":{\"color\":\"#636efa\",\"pattern\":{\"shape\":\"\"}},\"name\":\"\",\"offsetgroup\":\"\",\"orientation\":\"v\",\"showlegend\":false,\"x\":[95.0,88.0,88.0,95.0,65.0,69.0,95.0,97.0,92.0,97.0,88.0,88.0,94.0,90.0,122.0,67.0,65.0,52.0,61.0,97.0,93.0,75.0,96.0,97.0,53.0,53.0,70.0,75.0,108.0,68.0,70.0,75.0,67.0,97.0,110.0,52.0,70.0,60.0,95.0,97.0,95.0,97.0,68.0,65.0,65.0,60.0,65.0,90.0,75.0,92.0,75.0,65.0,65.0,67.0,67.0,132.0,100.0,72.0,58.0,60.0,67.0,65.0,62.0,68.0,75.0,75.0,100.0,74.0,116.0,120.0,68.0,68.0,88.0,75.0,70.0,67.0,67.0,67.0,96.0],\"xaxis\":\"x2\",\"yaxis\":\"y2\",\"type\":\"histogram\"},{\"alignmentgroup\":\"True\",\"boxpoints\":\"all\",\"fillcolor\":\"rgba(255,255,255,0)\",\"hoveron\":\"points\",\"hovertemplate\":\"<b>%{hovertext}</b><br><br>origin=japan<br>horsepower=%{x}<extra></extra>\",\"hovertext\":[\"toyota corona mark ii\",\"datsun pl510\",\"datsun pl510\",\"toyota corona\",\"toyota corolla 1200\",\"datsun 1200\",\"toyota corona hardtop\",\"mazda rx2 coupe\",\"datsun 510 (sw)\",\"toyouta corona mark ii (sw)\",\"toyota corolla 1600 (sw)\",\"toyota carina\",\"datsun 610\",\"maxda rx3\",\"toyota mark ii\",\"datsun b210\",\"toyota corolla 1200\",\"toyota corona\",\"datsun 710\",\"honda civic\",\"subaru\",\"toyota corolla\",\"toyota corona\",\"datsun 710\",\"honda civic cvcc\",\"honda civic\",\"datsun b-210\",\"toyota corolla\",\"toyota mark ii\",\"honda accord cvcc\",\"datsun f-10 hatchback\",\"toyota corolla liftback\",\"subaru dl\",\"datsun 810\",\"mazda rx-4\",\"mazda glc deluxe\",\"datsun b210 gx\",\"honda civic cvcc\",\"toyota corona\",\"datsun 510\",\"toyota celica gt liftback\",\"datsun 200-sx\",\"honda accord lx\",\"maxda glc deluxe\",\"datsun 210\",\"toyota corolla tercel\",\"datsun 310\",\"toyota corona liftback\",\"mazda 626\",\"datsun 510 hatchback\",\"toyota corolla\",\"mazda glc\",\"datsun 210\",\"honda civic 1500 gl\",\"subaru dl\",\"datsun 280-zx\",\"mazda rx-7 gs\",\"honda accord\",\"toyota starlet\",\"honda civic 1300\",\"subaru\",\"datsun 210 mpg\",\"toyota tercel\",\"mazda glc 4\",\"honda prelude\",\"toyota corolla\",\"datsun 200sx\",\"mazda 626\",\"toyota cressida\",\"datsun 810 maxima\",\"mazda glc custom l\",\"mazda glc custom\",\"nissan stanza xe\",\"honda accord\",\"toyota corolla\",\"honda civic\",\"honda civic (auto)\",\"datsun 310 gx\",\"toyota celica gt\"],\"jitter\":0,\"legendgroup\":\"\",\"line\":{\"color\":\"rgba(255,255,255,0)\"},\"marker\":{\"color\":\"#636efa\",\"symbol\":\"line-ns-open\"},\"name\":\"\",\"offsetgroup\":\"\",\"showlegend\":false,\"x\":[95.0,88.0,88.0,95.0,65.0,69.0,95.0,97.0,92.0,97.0,88.0,88.0,94.0,90.0,122.0,67.0,65.0,52.0,61.0,97.0,93.0,75.0,96.0,97.0,53.0,53.0,70.0,75.0,108.0,68.0,70.0,75.0,67.0,97.0,110.0,52.0,70.0,60.0,95.0,97.0,95.0,97.0,68.0,65.0,65.0,60.0,65.0,90.0,75.0,92.0,75.0,65.0,65.0,67.0,67.0,132.0,100.0,72.0,58.0,60.0,67.0,65.0,62.0,68.0,75.0,75.0,100.0,74.0,116.0,120.0,68.0,68.0,88.0,75.0,70.0,67.0,67.0,67.0,96.0],\"xaxis\":\"x5\",\"yaxis\":\"y5\",\"type\":\"box\"},{\"alignmentgroup\":\"True\",\"bingroup\":\"x\",\"hovertemplate\":\"origin=europe<br>horsepower=%{x}<br>count=%{y}<extra></extra>\",\"legendgroup\":\"\",\"marker\":{\"color\":\"#636efa\",\"pattern\":{\"shape\":\"\"}},\"name\":\"\",\"offsetgroup\":\"\",\"orientation\":\"v\",\"showlegend\":false,\"x\":[46.0,87.0,90.0,95.0,113.0,90.0,70.0,76.0,60.0,54.0,112.0,76.0,87.0,69.0,46.0,90.0,49.0,75.0,91.0,112.0,110.0,83.0,67.0,78.0,75.0,75.0,67.0,71.0,70.0,95.0,88.0,98.0,115.0,86.0,81.0,83.0,70.0,71.0,102.0,88.0,120.0,58.0,78.0,78.0,110.0,48.0,103.0,125.0,115.0,133.0,71.0,71.0,77.0,71.0,69.0,76.0,78.0,48.0,48.0,67.0,67.0,null,62.0,88.0,74.0,null,80.0,76.0,74.0,52.0],\"xaxis\":\"x3\",\"yaxis\":\"y3\",\"type\":\"histogram\"},{\"alignmentgroup\":\"True\",\"boxpoints\":\"all\",\"fillcolor\":\"rgba(255,255,255,0)\",\"hoveron\":\"points\",\"hovertemplate\":\"<b>%{hovertext}</b><br><br>origin=europe<br>horsepower=%{x}<extra></extra>\",\"hovertext\":[\"volkswagen 1131 deluxe sedan\",\"peugeot 504\",\"audi 100 ls\",\"saab 99e\",\"bmw 2002\",\"opel 1900\",\"peugeot 304\",\"fiat 124b\",\"volkswagen model 111\",\"volkswagen type 3\",\"volvo 145e (sw)\",\"volkswagen 411 (sw)\",\"peugeot 504 (sw)\",\"renault 12 (sw)\",\"volkswagen super beetle\",\"fiat 124 sport coupe\",\"fiat 128\",\"opel manta\",\"audi 100ls\",\"volvo 144ea\",\"saab 99le\",\"audi fox\",\"volkswagen dasher\",\"opel manta\",\"fiat 128\",\"fiat 124 tc\",\"fiat x1.9\",\"volkswagen dasher\",\"volkswagen rabbit\",\"audi 100ls\",\"peugeot 504\",\"volvo 244dl\",\"saab 99le\",\"fiat 131\",\"opel 1900\",\"renault 12tl\",\"vw rabbit\",\"volkswagen rabbit\",\"volvo 245\",\"peugeot 504\",\"mercedes-benz 280s\",\"renault 5 gtl\",\"volkswagen rabbit custom\",\"volkswagen dasher\",\"bmw 320i\",\"volkswagen rabbit custom diesel\",\"audi 5000\",\"volvo 264gl\",\"saab 99gle\",\"peugeot 604sl\",\"volkswagen scirocco\",\"vw rabbit custom\",\"mercedes benz 300d\",\"peugeot 504\",\"fiat strada custom\",\"vw rabbit\",\"audi 4000\",\"vw rabbit c (diesel)\",\"vw dasher (diesel)\",\"audi 5000s (diesel)\",\"mercedes-benz 240d\",\"renault lecar deluxe\",\"vokswagen rabbit\",\"triumph tr7 coupe\",\"volkswagen jetta\",\"renault 18i\",\"peugeot 505s turbo diesel\",\"volvo diesel\",\"volkswagen rabbit l\",\"vw pickup\"],\"jitter\":0,\"legendgroup\":\"\",\"line\":{\"color\":\"rgba(255,255,255,0)\"},\"marker\":{\"color\":\"#636efa\",\"symbol\":\"line-ns-open\"},\"name\":\"\",\"offsetgroup\":\"\",\"showlegend\":false,\"x\":[46.0,87.0,90.0,95.0,113.0,90.0,70.0,76.0,60.0,54.0,112.0,76.0,87.0,69.0,46.0,90.0,49.0,75.0,91.0,112.0,110.0,83.0,67.0,78.0,75.0,75.0,67.0,71.0,70.0,95.0,88.0,98.0,115.0,86.0,81.0,83.0,70.0,71.0,102.0,88.0,120.0,58.0,78.0,78.0,110.0,48.0,103.0,125.0,115.0,133.0,71.0,71.0,77.0,71.0,69.0,76.0,78.0,48.0,48.0,67.0,67.0,null,62.0,88.0,74.0,null,80.0,76.0,74.0,52.0],\"xaxis\":\"x6\",\"yaxis\":\"y6\",\"type\":\"box\"}],                        {\"template\":{\"data\":{\"histogram2dcontour\":[{\"type\":\"histogram2dcontour\",\"colorbar\":{\"outlinewidth\":0,\"ticks\":\"\"},\"colorscale\":[[0.0,\"#0d0887\"],[0.1111111111111111,\"#46039f\"],[0.2222222222222222,\"#7201a8\"],[0.3333333333333333,\"#9c179e\"],[0.4444444444444444,\"#bd3786\"],[0.5555555555555556,\"#d8576b\"],[0.6666666666666666,\"#ed7953\"],[0.7777777777777778,\"#fb9f3a\"],[0.8888888888888888,\"#fdca26\"],[1.0,\"#f0f921\"]]}],\"choropleth\":[{\"type\":\"choropleth\",\"colorbar\":{\"outlinewidth\":0,\"ticks\":\"\"}}],\"histogram2d\":[{\"type\":\"histogram2d\",\"colorbar\":{\"outlinewidth\":0,\"ticks\":\"\"},\"colorscale\":[[0.0,\"#0d0887\"],[0.1111111111111111,\"#46039f\"],[0.2222222222222222,\"#7201a8\"],[0.3333333333333333,\"#9c179e\"],[0.4444444444444444,\"#bd3786\"],[0.5555555555555556,\"#d8576b\"],[0.6666666666666666,\"#ed7953\"],[0.7777777777777778,\"#fb9f3a\"],[0.8888888888888888,\"#fdca26\"],[1.0,\"#f0f921\"]]}],\"heatmap\":[{\"type\":\"heatmap\",\"colorbar\":{\"outlinewidth\":0,\"ticks\":\"\"},\"colorscale\":[[0.0,\"#0d0887\"],[0.1111111111111111,\"#46039f\"],[0.2222222222222222,\"#7201a8\"],[0.3333333333333333,\"#9c179e\"],[0.4444444444444444,\"#bd3786\"],[0.5555555555555556,\"#d8576b\"],[0.6666666666666666,\"#ed7953\"],[0.7777777777777778,\"#fb9f3a\"],[0.8888888888888888,\"#fdca26\"],[1.0,\"#f0f921\"]]}],\"heatmapgl\":[{\"type\":\"heatmapgl\",\"colorbar\":{\"outlinewidth\":0,\"ticks\":\"\"},\"colorscale\":[[0.0,\"#0d0887\"],[0.1111111111111111,\"#46039f\"],[0.2222222222222222,\"#7201a8\"],[0.3333333333333333,\"#9c179e\"],[0.4444444444444444,\"#bd3786\"],[0.5555555555555556,\"#d8576b\"],[0.6666666666666666,\"#ed7953\"],[0.7777777777777778,\"#fb9f3a\"],[0.8888888888888888,\"#fdca26\"],[1.0,\"#f0f921\"]]}],\"contourcarpet\":[{\"type\":\"contourcarpet\",\"colorbar\":{\"outlinewidth\":0,\"ticks\":\"\"}}],\"contour\":[{\"type\":\"contour\",\"colorbar\":{\"outlinewidth\":0,\"ticks\":\"\"},\"colorscale\":[[0.0,\"#0d0887\"],[0.1111111111111111,\"#46039f\"],[0.2222222222222222,\"#7201a8\"],[0.3333333333333333,\"#9c179e\"],[0.4444444444444444,\"#bd3786\"],[0.5555555555555556,\"#d8576b\"],[0.6666666666666666,\"#ed7953\"],[0.7777777777777778,\"#fb9f3a\"],[0.8888888888888888,\"#fdca26\"],[1.0,\"#f0f921\"]]}],\"surface\":[{\"type\":\"surface\",\"colorbar\":{\"outlinewidth\":0,\"ticks\":\"\"},\"colorscale\":[[0.0,\"#0d0887\"],[0.1111111111111111,\"#46039f\"],[0.2222222222222222,\"#7201a8\"],[0.3333333333333333,\"#9c179e\"],[0.4444444444444444,\"#bd3786\"],[0.5555555555555556,\"#d8576b\"],[0.6666666666666666,\"#ed7953\"],[0.7777777777777778,\"#fb9f3a\"],[0.8888888888888888,\"#fdca26\"],[1.0,\"#f0f921\"]]}],\"mesh3d\":[{\"type\":\"mesh3d\",\"colorbar\":{\"outlinewidth\":0,\"ticks\":\"\"}}],\"scatter\":[{\"fillpattern\":{\"fillmode\":\"overlay\",\"size\":10,\"solidity\":0.2},\"type\":\"scatter\"}],\"parcoords\":[{\"type\":\"parcoords\",\"line\":{\"colorbar\":{\"outlinewidth\":0,\"ticks\":\"\"}}}],\"scatterpolargl\":[{\"type\":\"scatterpolargl\",\"marker\":{\"colorbar\":{\"outlinewidth\":0,\"ticks\":\"\"}}}],\"bar\":[{\"error_x\":{\"color\":\"#2a3f5f\"},\"error_y\":{\"color\":\"#2a3f5f\"},\"marker\":{\"line\":{\"color\":\"#E5ECF6\",\"width\":0.5},\"pattern\":{\"fillmode\":\"overlay\",\"size\":10,\"solidity\":0.2}},\"type\":\"bar\"}],\"scattergeo\":[{\"type\":\"scattergeo\",\"marker\":{\"colorbar\":{\"outlinewidth\":0,\"ticks\":\"\"}}}],\"scatterpolar\":[{\"type\":\"scatterpolar\",\"marker\":{\"colorbar\":{\"outlinewidth\":0,\"ticks\":\"\"}}}],\"histogram\":[{\"marker\":{\"pattern\":{\"fillmode\":\"overlay\",\"size\":10,\"solidity\":0.2}},\"type\":\"histogram\"}],\"scattergl\":[{\"type\":\"scattergl\",\"marker\":{\"colorbar\":{\"outlinewidth\":0,\"ticks\":\"\"}}}],\"scatter3d\":[{\"type\":\"scatter3d\",\"line\":{\"colorbar\":{\"outlinewidth\":0,\"ticks\":\"\"}},\"marker\":{\"colorbar\":{\"outlinewidth\":0,\"ticks\":\"\"}}}],\"scattermapbox\":[{\"type\":\"scattermapbox\",\"marker\":{\"colorbar\":{\"outlinewidth\":0,\"ticks\":\"\"}}}],\"scatterternary\":[{\"type\":\"scatterternary\",\"marker\":{\"colorbar\":{\"outlinewidth\":0,\"ticks\":\"\"}}}],\"scattercarpet\":[{\"type\":\"scattercarpet\",\"marker\":{\"colorbar\":{\"outlinewidth\":0,\"ticks\":\"\"}}}],\"carpet\":[{\"aaxis\":{\"endlinecolor\":\"#2a3f5f\",\"gridcolor\":\"white\",\"linecolor\":\"white\",\"minorgridcolor\":\"white\",\"startlinecolor\":\"#2a3f5f\"},\"baxis\":{\"endlinecolor\":\"#2a3f5f\",\"gridcolor\":\"white\",\"linecolor\":\"white\",\"minorgridcolor\":\"white\",\"startlinecolor\":\"#2a3f5f\"},\"type\":\"carpet\"}],\"table\":[{\"cells\":{\"fill\":{\"color\":\"#EBF0F8\"},\"line\":{\"color\":\"white\"}},\"header\":{\"fill\":{\"color\":\"#C8D4E3\"},\"line\":{\"color\":\"white\"}},\"type\":\"table\"}],\"barpolar\":[{\"marker\":{\"line\":{\"color\":\"#E5ECF6\",\"width\":0.5},\"pattern\":{\"fillmode\":\"overlay\",\"size\":10,\"solidity\":0.2}},\"type\":\"barpolar\"}],\"pie\":[{\"automargin\":true,\"type\":\"pie\"}]},\"layout\":{\"autotypenumbers\":\"strict\",\"colorway\":[\"#636efa\",\"#EF553B\",\"#00cc96\",\"#ab63fa\",\"#FFA15A\",\"#19d3f3\",\"#FF6692\",\"#B6E880\",\"#FF97FF\",\"#FECB52\"],\"font\":{\"color\":\"#2a3f5f\"},\"hovermode\":\"closest\",\"hoverlabel\":{\"align\":\"left\"},\"paper_bgcolor\":\"white\",\"plot_bgcolor\":\"#E5ECF6\",\"polar\":{\"bgcolor\":\"#E5ECF6\",\"angularaxis\":{\"gridcolor\":\"white\",\"linecolor\":\"white\",\"ticks\":\"\"},\"radialaxis\":{\"gridcolor\":\"white\",\"linecolor\":\"white\",\"ticks\":\"\"}},\"ternary\":{\"bgcolor\":\"#E5ECF6\",\"aaxis\":{\"gridcolor\":\"white\",\"linecolor\":\"white\",\"ticks\":\"\"},\"baxis\":{\"gridcolor\":\"white\",\"linecolor\":\"white\",\"ticks\":\"\"},\"caxis\":{\"gridcolor\":\"white\",\"linecolor\":\"white\",\"ticks\":\"\"}},\"coloraxis\":{\"colorbar\":{\"outlinewidth\":0,\"ticks\":\"\"}},\"colorscale\":{\"sequential\":[[0.0,\"#0d0887\"],[0.1111111111111111,\"#46039f\"],[0.2222222222222222,\"#7201a8\"],[0.3333333333333333,\"#9c179e\"],[0.4444444444444444,\"#bd3786\"],[0.5555555555555556,\"#d8576b\"],[0.6666666666666666,\"#ed7953\"],[0.7777777777777778,\"#fb9f3a\"],[0.8888888888888888,\"#fdca26\"],[1.0,\"#f0f921\"]],\"sequentialminus\":[[0.0,\"#0d0887\"],[0.1111111111111111,\"#46039f\"],[0.2222222222222222,\"#7201a8\"],[0.3333333333333333,\"#9c179e\"],[0.4444444444444444,\"#bd3786\"],[0.5555555555555556,\"#d8576b\"],[0.6666666666666666,\"#ed7953\"],[0.7777777777777778,\"#fb9f3a\"],[0.8888888888888888,\"#fdca26\"],[1.0,\"#f0f921\"]],\"diverging\":[[0,\"#8e0152\"],[0.1,\"#c51b7d\"],[0.2,\"#de77ae\"],[0.3,\"#f1b6da\"],[0.4,\"#fde0ef\"],[0.5,\"#f7f7f7\"],[0.6,\"#e6f5d0\"],[0.7,\"#b8e186\"],[0.8,\"#7fbc41\"],[0.9,\"#4d9221\"],[1,\"#276419\"]]},\"xaxis\":{\"gridcolor\":\"white\",\"linecolor\":\"white\",\"ticks\":\"\",\"title\":{\"standoff\":15},\"zerolinecolor\":\"white\",\"automargin\":true,\"zerolinewidth\":2},\"yaxis\":{\"gridcolor\":\"white\",\"linecolor\":\"white\",\"ticks\":\"\",\"title\":{\"standoff\":15},\"zerolinecolor\":\"white\",\"automargin\":true,\"zerolinewidth\":2},\"scene\":{\"xaxis\":{\"backgroundcolor\":\"#E5ECF6\",\"gridcolor\":\"white\",\"linecolor\":\"white\",\"showbackground\":true,\"ticks\":\"\",\"zerolinecolor\":\"white\",\"gridwidth\":2},\"yaxis\":{\"backgroundcolor\":\"#E5ECF6\",\"gridcolor\":\"white\",\"linecolor\":\"white\",\"showbackground\":true,\"ticks\":\"\",\"zerolinecolor\":\"white\",\"gridwidth\":2},\"zaxis\":{\"backgroundcolor\":\"#E5ECF6\",\"gridcolor\":\"white\",\"linecolor\":\"white\",\"showbackground\":true,\"ticks\":\"\",\"zerolinecolor\":\"white\",\"gridwidth\":2}},\"shapedefaults\":{\"line\":{\"color\":\"#2a3f5f\"}},\"annotationdefaults\":{\"arrowcolor\":\"#2a3f5f\",\"arrowhead\":0,\"arrowwidth\":1},\"geo\":{\"bgcolor\":\"white\",\"landcolor\":\"#E5ECF6\",\"subunitcolor\":\"white\",\"showland\":true,\"showlakes\":true,\"lakecolor\":\"white\"},\"title\":{\"x\":0.05},\"mapbox\":{\"style\":\"light\"}}},\"xaxis\":{\"anchor\":\"y\",\"domain\":[0.0,0.31999999999999995],\"title\":{\"text\":\"horsepower\"}},\"yaxis\":{\"anchor\":\"x\",\"domain\":[0.0,0.8316],\"title\":{\"text\":\"count\"}},\"xaxis2\":{\"anchor\":\"y2\",\"domain\":[0.33999999999999997,0.6599999999999999],\"matches\":\"x\",\"title\":{\"text\":\"horsepower\"}},\"yaxis2\":{\"anchor\":\"x2\",\"domain\":[0.0,0.8316],\"matches\":\"y\",\"showticklabels\":false},\"xaxis3\":{\"anchor\":\"y3\",\"domain\":[0.6799999999999999,0.9999999999999999],\"matches\":\"x\",\"title\":{\"text\":\"horsepower\"}},\"yaxis3\":{\"anchor\":\"x3\",\"domain\":[0.0,0.8316],\"matches\":\"y\",\"showticklabels\":false},\"xaxis4\":{\"anchor\":\"y4\",\"domain\":[0.0,0.31999999999999995],\"matches\":\"x\",\"showticklabels\":false,\"showgrid\":true},\"yaxis4\":{\"anchor\":\"x4\",\"domain\":[0.8416,1.0],\"matches\":\"y4\",\"showticklabels\":false,\"showline\":false,\"ticks\":\"\",\"showgrid\":false},\"xaxis5\":{\"anchor\":\"y5\",\"domain\":[0.33999999999999997,0.6599999999999999],\"matches\":\"x\",\"showticklabels\":false,\"showgrid\":true},\"yaxis5\":{\"anchor\":\"x5\",\"domain\":[0.8416,1.0],\"matches\":\"y4\",\"showticklabels\":false,\"showline\":false,\"ticks\":\"\",\"showgrid\":false},\"xaxis6\":{\"anchor\":\"y6\",\"domain\":[0.6799999999999999,0.9999999999999999],\"matches\":\"x\",\"showticklabels\":false,\"showgrid\":true},\"yaxis6\":{\"anchor\":\"x6\",\"domain\":[0.8416,1.0],\"matches\":\"y4\",\"showticklabels\":false,\"showline\":false,\"ticks\":\"\",\"showgrid\":false},\"annotations\":[{\"font\":{},\"showarrow\":false,\"text\":\"origin=usa\",\"x\":0.15999999999999998,\"xanchor\":\"center\",\"xref\":\"paper\",\"y\":1.0,\"yanchor\":\"bottom\",\"yref\":\"paper\"},{\"font\":{},\"showarrow\":false,\"text\":\"origin=japan\",\"x\":0.49999999999999994,\"xanchor\":\"center\",\"xref\":\"paper\",\"y\":1.0,\"yanchor\":\"bottom\",\"yref\":\"paper\"},{\"font\":{},\"showarrow\":false,\"text\":\"origin=europe\",\"x\":0.8399999999999999,\"xanchor\":\"center\",\"xref\":\"paper\",\"y\":1.0,\"yanchor\":\"bottom\",\"yref\":\"paper\"}],\"legend\":{\"tracegroupgap\":0},\"margin\":{\"t\":60},\"barmode\":\"relative\"},                        {\"responsive\": true}                    ).then(function(){\n",
       "                            \n",
       "var gd = document.getElementById('da25e25e-3284-4682-8c7b-fe849f67fed1');\n",
       "var x = new MutationObserver(function (mutations, observer) {{\n",
       "        var display = window.getComputedStyle(gd).display;\n",
       "        if (!display || display === 'none') {{\n",
       "            console.log([gd, 'removed!']);\n",
       "            Plotly.purge(gd);\n",
       "            observer.disconnect();\n",
       "        }}\n",
       "}});\n",
       "\n",
       "// Listen for the removal of the full notebook cells\n",
       "var notebookContainer = gd.closest('#notebook-container');\n",
       "if (notebookContainer) {{\n",
       "    x.observe(notebookContainer, {childList: true});\n",
       "}}\n",
       "\n",
       "// Listen for the clearing of the current output cell\n",
       "var outputEl = gd.closest('.output');\n",
       "if (outputEl) {{\n",
       "    x.observe(outputEl, {childList: true});\n",
       "}}\n",
       "\n",
       "                        })                };                });            </script>        </div>"
      ]
     },
     "metadata": {},
     "output_type": "display_data"
    }
   ],
   "source": [
    "px.histogram(data, x = \"horsepower\", hover_name = \"name\", marginal = \"rug\", facet_col = \"origin\")"
   ]
  },
  {
   "cell_type": "code",
   "execution_count": 73,
   "id": "697106f6",
   "metadata": {},
   "outputs": [
    {
     "data": {
      "application/vnd.plotly.v1+json": {
       "config": {
        "plotlyServerURL": "https://plot.ly"
       },
       "data": [
        {
         "alignmentgroup": "True",
         "hovertemplate": "origin=usa<br>horsepower=%{x}<extra></extra>",
         "legendgroup": "",
         "marker": {
          "color": "#636efa"
         },
         "name": "",
         "notched": false,
         "offsetgroup": "",
         "orientation": "h",
         "showlegend": false,
         "type": "box",
         "x": [
          130,
          165,
          150,
          150,
          140,
          198,
          220,
          215,
          225,
          190,
          170,
          160,
          150,
          225,
          95,
          97,
          85,
          90,
          215,
          200,
          210,
          193,
          90,
          null,
          100,
          105,
          100,
          88,
          100,
          165,
          175,
          153,
          150,
          180,
          170,
          175,
          110,
          72,
          100,
          88,
          86,
          70,
          80,
          90,
          86,
          165,
          175,
          150,
          153,
          150,
          208,
          155,
          160,
          190,
          150,
          130,
          140,
          150,
          86,
          80,
          175,
          150,
          145,
          137,
          150,
          198,
          150,
          158,
          150,
          215,
          225,
          175,
          105,
          100,
          100,
          88,
          95,
          150,
          167,
          170,
          180,
          100,
          72,
          85,
          107,
          145,
          230,
          150,
          180,
          95,
          null,
          100,
          100,
          80,
          75,
          100,
          110,
          105,
          140,
          150,
          150,
          140,
          150,
          75,
          95,
          105,
          72,
          72,
          170,
          145,
          150,
          148,
          110,
          105,
          110,
          95,
          110,
          110,
          129,
          83,
          100,
          78,
          97,
          90,
          92,
          79,
          140,
          150,
          120,
          152,
          100,
          105,
          81,
          90,
          52,
          60,
          100,
          78,
          110,
          95,
          72,
          150,
          180,
          145,
          130,
          150,
          80,
          96,
          145,
          110,
          145,
          130,
          110,
          105,
          100,
          98,
          180,
          170,
          190,
          149,
          88,
          89,
          63,
          83,
          66,
          110,
          140,
          139,
          105,
          95,
          85,
          88,
          100,
          90,
          105,
          85,
          110,
          120,
          145,
          165,
          139,
          140,
          68,
          75,
          105,
          85,
          115,
          85,
          88,
          90,
          110,
          130,
          129,
          138,
          135,
          155,
          142,
          125,
          150,
          80,
          80,
          125,
          90,
          70,
          70,
          90,
          115,
          115,
          90,
          70,
          90,
          88,
          90,
          90,
          105,
          null,
          84,
          84,
          92,
          110,
          84,
          64,
          63,
          65,
          65,
          110,
          105,
          88,
          85,
          88,
          88,
          88,
          85,
          84,
          90,
          92,
          null,
          63,
          70,
          110,
          85,
          92,
          112,
          84,
          90,
          86,
          84,
          79,
          82
         ],
         "x0": " ",
         "xaxis": "x3",
         "y0": " ",
         "yaxis": "y3"
        },
        {
         "alignmentgroup": "True",
         "hovertemplate": "origin=japan<br>horsepower=%{x}<extra></extra>",
         "legendgroup": "",
         "marker": {
          "color": "#636efa"
         },
         "name": "",
         "notched": false,
         "offsetgroup": "",
         "orientation": "h",
         "showlegend": false,
         "type": "box",
         "x": [
          95,
          88,
          88,
          95,
          65,
          69,
          95,
          97,
          92,
          97,
          88,
          88,
          94,
          90,
          122,
          67,
          65,
          52,
          61,
          97,
          93,
          75,
          96,
          97,
          53,
          53,
          70,
          75,
          108,
          68,
          70,
          75,
          67,
          97,
          110,
          52,
          70,
          60,
          95,
          97,
          95,
          97,
          68,
          65,
          65,
          60,
          65,
          90,
          75,
          92,
          75,
          65,
          65,
          67,
          67,
          132,
          100,
          72,
          58,
          60,
          67,
          65,
          62,
          68,
          75,
          75,
          100,
          74,
          116,
          120,
          68,
          68,
          88,
          75,
          70,
          67,
          67,
          67,
          96
         ],
         "x0": " ",
         "xaxis": "x2",
         "y0": " ",
         "yaxis": "y2"
        },
        {
         "alignmentgroup": "True",
         "hovertemplate": "origin=europe<br>horsepower=%{x}<extra></extra>",
         "legendgroup": "",
         "marker": {
          "color": "#636efa"
         },
         "name": "",
         "notched": false,
         "offsetgroup": "",
         "orientation": "h",
         "showlegend": false,
         "type": "box",
         "x": [
          46,
          87,
          90,
          95,
          113,
          90,
          70,
          76,
          60,
          54,
          112,
          76,
          87,
          69,
          46,
          90,
          49,
          75,
          91,
          112,
          110,
          83,
          67,
          78,
          75,
          75,
          67,
          71,
          70,
          95,
          88,
          98,
          115,
          86,
          81,
          83,
          70,
          71,
          102,
          88,
          120,
          58,
          78,
          78,
          110,
          48,
          103,
          125,
          115,
          133,
          71,
          71,
          77,
          71,
          69,
          76,
          78,
          48,
          48,
          67,
          67,
          null,
          62,
          88,
          74,
          null,
          80,
          76,
          74,
          52
         ],
         "x0": " ",
         "xaxis": "x",
         "y0": " ",
         "yaxis": "y"
        }
       ],
       "layout": {
        "annotations": [
         {
          "font": {},
          "showarrow": false,
          "text": "origin=europe",
          "textangle": 90,
          "x": 0.98,
          "xanchor": "left",
          "xref": "paper",
          "y": 0.15666666666666665,
          "yanchor": "middle",
          "yref": "paper"
         },
         {
          "font": {},
          "showarrow": false,
          "text": "origin=japan",
          "textangle": 90,
          "x": 0.98,
          "xanchor": "left",
          "xref": "paper",
          "y": 0.4999999999999999,
          "yanchor": "middle",
          "yref": "paper"
         },
         {
          "font": {},
          "showarrow": false,
          "text": "origin=usa",
          "textangle": 90,
          "x": 0.98,
          "xanchor": "left",
          "xref": "paper",
          "y": 0.8433333333333332,
          "yanchor": "middle",
          "yref": "paper"
         }
        ],
        "boxmode": "group",
        "height": 900,
        "legend": {
         "tracegroupgap": 0
        },
        "margin": {
         "t": 60
        },
        "template": {
         "data": {
          "bar": [
           {
            "error_x": {
             "color": "#2a3f5f"
            },
            "error_y": {
             "color": "#2a3f5f"
            },
            "marker": {
             "line": {
              "color": "#E5ECF6",
              "width": 0.5
             },
             "pattern": {
              "fillmode": "overlay",
              "size": 10,
              "solidity": 0.2
             }
            },
            "type": "bar"
           }
          ],
          "barpolar": [
           {
            "marker": {
             "line": {
              "color": "#E5ECF6",
              "width": 0.5
             },
             "pattern": {
              "fillmode": "overlay",
              "size": 10,
              "solidity": 0.2
             }
            },
            "type": "barpolar"
           }
          ],
          "carpet": [
           {
            "aaxis": {
             "endlinecolor": "#2a3f5f",
             "gridcolor": "white",
             "linecolor": "white",
             "minorgridcolor": "white",
             "startlinecolor": "#2a3f5f"
            },
            "baxis": {
             "endlinecolor": "#2a3f5f",
             "gridcolor": "white",
             "linecolor": "white",
             "minorgridcolor": "white",
             "startlinecolor": "#2a3f5f"
            },
            "type": "carpet"
           }
          ],
          "choropleth": [
           {
            "colorbar": {
             "outlinewidth": 0,
             "ticks": ""
            },
            "type": "choropleth"
           }
          ],
          "contour": [
           {
            "colorbar": {
             "outlinewidth": 0,
             "ticks": ""
            },
            "colorscale": [
             [
              0,
              "#0d0887"
             ],
             [
              0.1111111111111111,
              "#46039f"
             ],
             [
              0.2222222222222222,
              "#7201a8"
             ],
             [
              0.3333333333333333,
              "#9c179e"
             ],
             [
              0.4444444444444444,
              "#bd3786"
             ],
             [
              0.5555555555555556,
              "#d8576b"
             ],
             [
              0.6666666666666666,
              "#ed7953"
             ],
             [
              0.7777777777777778,
              "#fb9f3a"
             ],
             [
              0.8888888888888888,
              "#fdca26"
             ],
             [
              1,
              "#f0f921"
             ]
            ],
            "type": "contour"
           }
          ],
          "contourcarpet": [
           {
            "colorbar": {
             "outlinewidth": 0,
             "ticks": ""
            },
            "type": "contourcarpet"
           }
          ],
          "heatmap": [
           {
            "colorbar": {
             "outlinewidth": 0,
             "ticks": ""
            },
            "colorscale": [
             [
              0,
              "#0d0887"
             ],
             [
              0.1111111111111111,
              "#46039f"
             ],
             [
              0.2222222222222222,
              "#7201a8"
             ],
             [
              0.3333333333333333,
              "#9c179e"
             ],
             [
              0.4444444444444444,
              "#bd3786"
             ],
             [
              0.5555555555555556,
              "#d8576b"
             ],
             [
              0.6666666666666666,
              "#ed7953"
             ],
             [
              0.7777777777777778,
              "#fb9f3a"
             ],
             [
              0.8888888888888888,
              "#fdca26"
             ],
             [
              1,
              "#f0f921"
             ]
            ],
            "type": "heatmap"
           }
          ],
          "heatmapgl": [
           {
            "colorbar": {
             "outlinewidth": 0,
             "ticks": ""
            },
            "colorscale": [
             [
              0,
              "#0d0887"
             ],
             [
              0.1111111111111111,
              "#46039f"
             ],
             [
              0.2222222222222222,
              "#7201a8"
             ],
             [
              0.3333333333333333,
              "#9c179e"
             ],
             [
              0.4444444444444444,
              "#bd3786"
             ],
             [
              0.5555555555555556,
              "#d8576b"
             ],
             [
              0.6666666666666666,
              "#ed7953"
             ],
             [
              0.7777777777777778,
              "#fb9f3a"
             ],
             [
              0.8888888888888888,
              "#fdca26"
             ],
             [
              1,
              "#f0f921"
             ]
            ],
            "type": "heatmapgl"
           }
          ],
          "histogram": [
           {
            "marker": {
             "pattern": {
              "fillmode": "overlay",
              "size": 10,
              "solidity": 0.2
             }
            },
            "type": "histogram"
           }
          ],
          "histogram2d": [
           {
            "colorbar": {
             "outlinewidth": 0,
             "ticks": ""
            },
            "colorscale": [
             [
              0,
              "#0d0887"
             ],
             [
              0.1111111111111111,
              "#46039f"
             ],
             [
              0.2222222222222222,
              "#7201a8"
             ],
             [
              0.3333333333333333,
              "#9c179e"
             ],
             [
              0.4444444444444444,
              "#bd3786"
             ],
             [
              0.5555555555555556,
              "#d8576b"
             ],
             [
              0.6666666666666666,
              "#ed7953"
             ],
             [
              0.7777777777777778,
              "#fb9f3a"
             ],
             [
              0.8888888888888888,
              "#fdca26"
             ],
             [
              1,
              "#f0f921"
             ]
            ],
            "type": "histogram2d"
           }
          ],
          "histogram2dcontour": [
           {
            "colorbar": {
             "outlinewidth": 0,
             "ticks": ""
            },
            "colorscale": [
             [
              0,
              "#0d0887"
             ],
             [
              0.1111111111111111,
              "#46039f"
             ],
             [
              0.2222222222222222,
              "#7201a8"
             ],
             [
              0.3333333333333333,
              "#9c179e"
             ],
             [
              0.4444444444444444,
              "#bd3786"
             ],
             [
              0.5555555555555556,
              "#d8576b"
             ],
             [
              0.6666666666666666,
              "#ed7953"
             ],
             [
              0.7777777777777778,
              "#fb9f3a"
             ],
             [
              0.8888888888888888,
              "#fdca26"
             ],
             [
              1,
              "#f0f921"
             ]
            ],
            "type": "histogram2dcontour"
           }
          ],
          "mesh3d": [
           {
            "colorbar": {
             "outlinewidth": 0,
             "ticks": ""
            },
            "type": "mesh3d"
           }
          ],
          "parcoords": [
           {
            "line": {
             "colorbar": {
              "outlinewidth": 0,
              "ticks": ""
             }
            },
            "type": "parcoords"
           }
          ],
          "pie": [
           {
            "automargin": true,
            "type": "pie"
           }
          ],
          "scatter": [
           {
            "fillpattern": {
             "fillmode": "overlay",
             "size": 10,
             "solidity": 0.2
            },
            "type": "scatter"
           }
          ],
          "scatter3d": [
           {
            "line": {
             "colorbar": {
              "outlinewidth": 0,
              "ticks": ""
             }
            },
            "marker": {
             "colorbar": {
              "outlinewidth": 0,
              "ticks": ""
             }
            },
            "type": "scatter3d"
           }
          ],
          "scattercarpet": [
           {
            "marker": {
             "colorbar": {
              "outlinewidth": 0,
              "ticks": ""
             }
            },
            "type": "scattercarpet"
           }
          ],
          "scattergeo": [
           {
            "marker": {
             "colorbar": {
              "outlinewidth": 0,
              "ticks": ""
             }
            },
            "type": "scattergeo"
           }
          ],
          "scattergl": [
           {
            "marker": {
             "colorbar": {
              "outlinewidth": 0,
              "ticks": ""
             }
            },
            "type": "scattergl"
           }
          ],
          "scattermapbox": [
           {
            "marker": {
             "colorbar": {
              "outlinewidth": 0,
              "ticks": ""
             }
            },
            "type": "scattermapbox"
           }
          ],
          "scatterpolar": [
           {
            "marker": {
             "colorbar": {
              "outlinewidth": 0,
              "ticks": ""
             }
            },
            "type": "scatterpolar"
           }
          ],
          "scatterpolargl": [
           {
            "marker": {
             "colorbar": {
              "outlinewidth": 0,
              "ticks": ""
             }
            },
            "type": "scatterpolargl"
           }
          ],
          "scatterternary": [
           {
            "marker": {
             "colorbar": {
              "outlinewidth": 0,
              "ticks": ""
             }
            },
            "type": "scatterternary"
           }
          ],
          "surface": [
           {
            "colorbar": {
             "outlinewidth": 0,
             "ticks": ""
            },
            "colorscale": [
             [
              0,
              "#0d0887"
             ],
             [
              0.1111111111111111,
              "#46039f"
             ],
             [
              0.2222222222222222,
              "#7201a8"
             ],
             [
              0.3333333333333333,
              "#9c179e"
             ],
             [
              0.4444444444444444,
              "#bd3786"
             ],
             [
              0.5555555555555556,
              "#d8576b"
             ],
             [
              0.6666666666666666,
              "#ed7953"
             ],
             [
              0.7777777777777778,
              "#fb9f3a"
             ],
             [
              0.8888888888888888,
              "#fdca26"
             ],
             [
              1,
              "#f0f921"
             ]
            ],
            "type": "surface"
           }
          ],
          "table": [
           {
            "cells": {
             "fill": {
              "color": "#EBF0F8"
             },
             "line": {
              "color": "white"
             }
            },
            "header": {
             "fill": {
              "color": "#C8D4E3"
             },
             "line": {
              "color": "white"
             }
            },
            "type": "table"
           }
          ]
         },
         "layout": {
          "annotationdefaults": {
           "arrowcolor": "#2a3f5f",
           "arrowhead": 0,
           "arrowwidth": 1
          },
          "autotypenumbers": "strict",
          "coloraxis": {
           "colorbar": {
            "outlinewidth": 0,
            "ticks": ""
           }
          },
          "colorscale": {
           "diverging": [
            [
             0,
             "#8e0152"
            ],
            [
             0.1,
             "#c51b7d"
            ],
            [
             0.2,
             "#de77ae"
            ],
            [
             0.3,
             "#f1b6da"
            ],
            [
             0.4,
             "#fde0ef"
            ],
            [
             0.5,
             "#f7f7f7"
            ],
            [
             0.6,
             "#e6f5d0"
            ],
            [
             0.7,
             "#b8e186"
            ],
            [
             0.8,
             "#7fbc41"
            ],
            [
             0.9,
             "#4d9221"
            ],
            [
             1,
             "#276419"
            ]
           ],
           "sequential": [
            [
             0,
             "#0d0887"
            ],
            [
             0.1111111111111111,
             "#46039f"
            ],
            [
             0.2222222222222222,
             "#7201a8"
            ],
            [
             0.3333333333333333,
             "#9c179e"
            ],
            [
             0.4444444444444444,
             "#bd3786"
            ],
            [
             0.5555555555555556,
             "#d8576b"
            ],
            [
             0.6666666666666666,
             "#ed7953"
            ],
            [
             0.7777777777777778,
             "#fb9f3a"
            ],
            [
             0.8888888888888888,
             "#fdca26"
            ],
            [
             1,
             "#f0f921"
            ]
           ],
           "sequentialminus": [
            [
             0,
             "#0d0887"
            ],
            [
             0.1111111111111111,
             "#46039f"
            ],
            [
             0.2222222222222222,
             "#7201a8"
            ],
            [
             0.3333333333333333,
             "#9c179e"
            ],
            [
             0.4444444444444444,
             "#bd3786"
            ],
            [
             0.5555555555555556,
             "#d8576b"
            ],
            [
             0.6666666666666666,
             "#ed7953"
            ],
            [
             0.7777777777777778,
             "#fb9f3a"
            ],
            [
             0.8888888888888888,
             "#fdca26"
            ],
            [
             1,
             "#f0f921"
            ]
           ]
          },
          "colorway": [
           "#636efa",
           "#EF553B",
           "#00cc96",
           "#ab63fa",
           "#FFA15A",
           "#19d3f3",
           "#FF6692",
           "#B6E880",
           "#FF97FF",
           "#FECB52"
          ],
          "font": {
           "color": "#2a3f5f"
          },
          "geo": {
           "bgcolor": "white",
           "lakecolor": "white",
           "landcolor": "#E5ECF6",
           "showlakes": true,
           "showland": true,
           "subunitcolor": "white"
          },
          "hoverlabel": {
           "align": "left"
          },
          "hovermode": "closest",
          "mapbox": {
           "style": "light"
          },
          "paper_bgcolor": "white",
          "plot_bgcolor": "#E5ECF6",
          "polar": {
           "angularaxis": {
            "gridcolor": "white",
            "linecolor": "white",
            "ticks": ""
           },
           "bgcolor": "#E5ECF6",
           "radialaxis": {
            "gridcolor": "white",
            "linecolor": "white",
            "ticks": ""
           }
          },
          "scene": {
           "xaxis": {
            "backgroundcolor": "#E5ECF6",
            "gridcolor": "white",
            "gridwidth": 2,
            "linecolor": "white",
            "showbackground": true,
            "ticks": "",
            "zerolinecolor": "white"
           },
           "yaxis": {
            "backgroundcolor": "#E5ECF6",
            "gridcolor": "white",
            "gridwidth": 2,
            "linecolor": "white",
            "showbackground": true,
            "ticks": "",
            "zerolinecolor": "white"
           },
           "zaxis": {
            "backgroundcolor": "#E5ECF6",
            "gridcolor": "white",
            "gridwidth": 2,
            "linecolor": "white",
            "showbackground": true,
            "ticks": "",
            "zerolinecolor": "white"
           }
          },
          "shapedefaults": {
           "line": {
            "color": "#2a3f5f"
           }
          },
          "ternary": {
           "aaxis": {
            "gridcolor": "white",
            "linecolor": "white",
            "ticks": ""
           },
           "baxis": {
            "gridcolor": "white",
            "linecolor": "white",
            "ticks": ""
           },
           "bgcolor": "#E5ECF6",
           "caxis": {
            "gridcolor": "white",
            "linecolor": "white",
            "ticks": ""
           }
          },
          "title": {
           "x": 0.05
          },
          "xaxis": {
           "automargin": true,
           "gridcolor": "white",
           "linecolor": "white",
           "ticks": "",
           "title": {
            "standoff": 15
           },
           "zerolinecolor": "white",
           "zerolinewidth": 2
          },
          "yaxis": {
           "automargin": true,
           "gridcolor": "white",
           "linecolor": "white",
           "ticks": "",
           "title": {
            "standoff": 15
           },
           "zerolinecolor": "white",
           "zerolinewidth": 2
          }
         }
        },
        "xaxis": {
         "anchor": "y",
         "domain": [
          0,
          0.98
         ],
         "title": {
          "text": "horsepower"
         }
        },
        "xaxis2": {
         "anchor": "y2",
         "domain": [
          0,
          0.98
         ],
         "matches": "x",
         "showticklabels": false
        },
        "xaxis3": {
         "anchor": "y3",
         "domain": [
          0,
          0.98
         ],
         "matches": "x",
         "showticklabels": false
        },
        "yaxis": {
         "anchor": "x",
         "domain": [
          0,
          0.3133333333333333
         ]
        },
        "yaxis2": {
         "anchor": "x2",
         "domain": [
          0.34333333333333327,
          0.6566666666666665
         ],
         "matches": "y"
        },
        "yaxis3": {
         "anchor": "x3",
         "domain": [
          0.6866666666666665,
          0.9999999999999998
         ],
         "matches": "y"
        }
       }
      },
      "text/html": [
       "<div>                            <div id=\"1e685025-016b-4e53-a8d0-d698cc68dfbf\" class=\"plotly-graph-div\" style=\"height:900px; width:100%;\"></div>            <script type=\"text/javascript\">                require([\"plotly\"], function(Plotly) {                    window.PLOTLYENV=window.PLOTLYENV || {};                                    if (document.getElementById(\"1e685025-016b-4e53-a8d0-d698cc68dfbf\")) {                    Plotly.newPlot(                        \"1e685025-016b-4e53-a8d0-d698cc68dfbf\",                        [{\"alignmentgroup\":\"True\",\"hovertemplate\":\"origin=usa<br>horsepower=%{x}<extra></extra>\",\"legendgroup\":\"\",\"marker\":{\"color\":\"#636efa\"},\"name\":\"\",\"notched\":false,\"offsetgroup\":\"\",\"orientation\":\"h\",\"showlegend\":false,\"x\":[130.0,165.0,150.0,150.0,140.0,198.0,220.0,215.0,225.0,190.0,170.0,160.0,150.0,225.0,95.0,97.0,85.0,90.0,215.0,200.0,210.0,193.0,90.0,null,100.0,105.0,100.0,88.0,100.0,165.0,175.0,153.0,150.0,180.0,170.0,175.0,110.0,72.0,100.0,88.0,86.0,70.0,80.0,90.0,86.0,165.0,175.0,150.0,153.0,150.0,208.0,155.0,160.0,190.0,150.0,130.0,140.0,150.0,86.0,80.0,175.0,150.0,145.0,137.0,150.0,198.0,150.0,158.0,150.0,215.0,225.0,175.0,105.0,100.0,100.0,88.0,95.0,150.0,167.0,170.0,180.0,100.0,72.0,85.0,107.0,145.0,230.0,150.0,180.0,95.0,null,100.0,100.0,80.0,75.0,100.0,110.0,105.0,140.0,150.0,150.0,140.0,150.0,75.0,95.0,105.0,72.0,72.0,170.0,145.0,150.0,148.0,110.0,105.0,110.0,95.0,110.0,110.0,129.0,83.0,100.0,78.0,97.0,90.0,92.0,79.0,140.0,150.0,120.0,152.0,100.0,105.0,81.0,90.0,52.0,60.0,100.0,78.0,110.0,95.0,72.0,150.0,180.0,145.0,130.0,150.0,80.0,96.0,145.0,110.0,145.0,130.0,110.0,105.0,100.0,98.0,180.0,170.0,190.0,149.0,88.0,89.0,63.0,83.0,66.0,110.0,140.0,139.0,105.0,95.0,85.0,88.0,100.0,90.0,105.0,85.0,110.0,120.0,145.0,165.0,139.0,140.0,68.0,75.0,105.0,85.0,115.0,85.0,88.0,90.0,110.0,130.0,129.0,138.0,135.0,155.0,142.0,125.0,150.0,80.0,80.0,125.0,90.0,70.0,70.0,90.0,115.0,115.0,90.0,70.0,90.0,88.0,90.0,90.0,105.0,null,84.0,84.0,92.0,110.0,84.0,64.0,63.0,65.0,65.0,110.0,105.0,88.0,85.0,88.0,88.0,88.0,85.0,84.0,90.0,92.0,null,63.0,70.0,110.0,85.0,92.0,112.0,84.0,90.0,86.0,84.0,79.0,82.0],\"x0\":\" \",\"xaxis\":\"x3\",\"y0\":\" \",\"yaxis\":\"y3\",\"type\":\"box\"},{\"alignmentgroup\":\"True\",\"hovertemplate\":\"origin=japan<br>horsepower=%{x}<extra></extra>\",\"legendgroup\":\"\",\"marker\":{\"color\":\"#636efa\"},\"name\":\"\",\"notched\":false,\"offsetgroup\":\"\",\"orientation\":\"h\",\"showlegend\":false,\"x\":[95.0,88.0,88.0,95.0,65.0,69.0,95.0,97.0,92.0,97.0,88.0,88.0,94.0,90.0,122.0,67.0,65.0,52.0,61.0,97.0,93.0,75.0,96.0,97.0,53.0,53.0,70.0,75.0,108.0,68.0,70.0,75.0,67.0,97.0,110.0,52.0,70.0,60.0,95.0,97.0,95.0,97.0,68.0,65.0,65.0,60.0,65.0,90.0,75.0,92.0,75.0,65.0,65.0,67.0,67.0,132.0,100.0,72.0,58.0,60.0,67.0,65.0,62.0,68.0,75.0,75.0,100.0,74.0,116.0,120.0,68.0,68.0,88.0,75.0,70.0,67.0,67.0,67.0,96.0],\"x0\":\" \",\"xaxis\":\"x2\",\"y0\":\" \",\"yaxis\":\"y2\",\"type\":\"box\"},{\"alignmentgroup\":\"True\",\"hovertemplate\":\"origin=europe<br>horsepower=%{x}<extra></extra>\",\"legendgroup\":\"\",\"marker\":{\"color\":\"#636efa\"},\"name\":\"\",\"notched\":false,\"offsetgroup\":\"\",\"orientation\":\"h\",\"showlegend\":false,\"x\":[46.0,87.0,90.0,95.0,113.0,90.0,70.0,76.0,60.0,54.0,112.0,76.0,87.0,69.0,46.0,90.0,49.0,75.0,91.0,112.0,110.0,83.0,67.0,78.0,75.0,75.0,67.0,71.0,70.0,95.0,88.0,98.0,115.0,86.0,81.0,83.0,70.0,71.0,102.0,88.0,120.0,58.0,78.0,78.0,110.0,48.0,103.0,125.0,115.0,133.0,71.0,71.0,77.0,71.0,69.0,76.0,78.0,48.0,48.0,67.0,67.0,null,62.0,88.0,74.0,null,80.0,76.0,74.0,52.0],\"x0\":\" \",\"xaxis\":\"x\",\"y0\":\" \",\"yaxis\":\"y\",\"type\":\"box\"}],                        {\"template\":{\"data\":{\"histogram2dcontour\":[{\"type\":\"histogram2dcontour\",\"colorbar\":{\"outlinewidth\":0,\"ticks\":\"\"},\"colorscale\":[[0.0,\"#0d0887\"],[0.1111111111111111,\"#46039f\"],[0.2222222222222222,\"#7201a8\"],[0.3333333333333333,\"#9c179e\"],[0.4444444444444444,\"#bd3786\"],[0.5555555555555556,\"#d8576b\"],[0.6666666666666666,\"#ed7953\"],[0.7777777777777778,\"#fb9f3a\"],[0.8888888888888888,\"#fdca26\"],[1.0,\"#f0f921\"]]}],\"choropleth\":[{\"type\":\"choropleth\",\"colorbar\":{\"outlinewidth\":0,\"ticks\":\"\"}}],\"histogram2d\":[{\"type\":\"histogram2d\",\"colorbar\":{\"outlinewidth\":0,\"ticks\":\"\"},\"colorscale\":[[0.0,\"#0d0887\"],[0.1111111111111111,\"#46039f\"],[0.2222222222222222,\"#7201a8\"],[0.3333333333333333,\"#9c179e\"],[0.4444444444444444,\"#bd3786\"],[0.5555555555555556,\"#d8576b\"],[0.6666666666666666,\"#ed7953\"],[0.7777777777777778,\"#fb9f3a\"],[0.8888888888888888,\"#fdca26\"],[1.0,\"#f0f921\"]]}],\"heatmap\":[{\"type\":\"heatmap\",\"colorbar\":{\"outlinewidth\":0,\"ticks\":\"\"},\"colorscale\":[[0.0,\"#0d0887\"],[0.1111111111111111,\"#46039f\"],[0.2222222222222222,\"#7201a8\"],[0.3333333333333333,\"#9c179e\"],[0.4444444444444444,\"#bd3786\"],[0.5555555555555556,\"#d8576b\"],[0.6666666666666666,\"#ed7953\"],[0.7777777777777778,\"#fb9f3a\"],[0.8888888888888888,\"#fdca26\"],[1.0,\"#f0f921\"]]}],\"heatmapgl\":[{\"type\":\"heatmapgl\",\"colorbar\":{\"outlinewidth\":0,\"ticks\":\"\"},\"colorscale\":[[0.0,\"#0d0887\"],[0.1111111111111111,\"#46039f\"],[0.2222222222222222,\"#7201a8\"],[0.3333333333333333,\"#9c179e\"],[0.4444444444444444,\"#bd3786\"],[0.5555555555555556,\"#d8576b\"],[0.6666666666666666,\"#ed7953\"],[0.7777777777777778,\"#fb9f3a\"],[0.8888888888888888,\"#fdca26\"],[1.0,\"#f0f921\"]]}],\"contourcarpet\":[{\"type\":\"contourcarpet\",\"colorbar\":{\"outlinewidth\":0,\"ticks\":\"\"}}],\"contour\":[{\"type\":\"contour\",\"colorbar\":{\"outlinewidth\":0,\"ticks\":\"\"},\"colorscale\":[[0.0,\"#0d0887\"],[0.1111111111111111,\"#46039f\"],[0.2222222222222222,\"#7201a8\"],[0.3333333333333333,\"#9c179e\"],[0.4444444444444444,\"#bd3786\"],[0.5555555555555556,\"#d8576b\"],[0.6666666666666666,\"#ed7953\"],[0.7777777777777778,\"#fb9f3a\"],[0.8888888888888888,\"#fdca26\"],[1.0,\"#f0f921\"]]}],\"surface\":[{\"type\":\"surface\",\"colorbar\":{\"outlinewidth\":0,\"ticks\":\"\"},\"colorscale\":[[0.0,\"#0d0887\"],[0.1111111111111111,\"#46039f\"],[0.2222222222222222,\"#7201a8\"],[0.3333333333333333,\"#9c179e\"],[0.4444444444444444,\"#bd3786\"],[0.5555555555555556,\"#d8576b\"],[0.6666666666666666,\"#ed7953\"],[0.7777777777777778,\"#fb9f3a\"],[0.8888888888888888,\"#fdca26\"],[1.0,\"#f0f921\"]]}],\"mesh3d\":[{\"type\":\"mesh3d\",\"colorbar\":{\"outlinewidth\":0,\"ticks\":\"\"}}],\"scatter\":[{\"fillpattern\":{\"fillmode\":\"overlay\",\"size\":10,\"solidity\":0.2},\"type\":\"scatter\"}],\"parcoords\":[{\"type\":\"parcoords\",\"line\":{\"colorbar\":{\"outlinewidth\":0,\"ticks\":\"\"}}}],\"scatterpolargl\":[{\"type\":\"scatterpolargl\",\"marker\":{\"colorbar\":{\"outlinewidth\":0,\"ticks\":\"\"}}}],\"bar\":[{\"error_x\":{\"color\":\"#2a3f5f\"},\"error_y\":{\"color\":\"#2a3f5f\"},\"marker\":{\"line\":{\"color\":\"#E5ECF6\",\"width\":0.5},\"pattern\":{\"fillmode\":\"overlay\",\"size\":10,\"solidity\":0.2}},\"type\":\"bar\"}],\"scattergeo\":[{\"type\":\"scattergeo\",\"marker\":{\"colorbar\":{\"outlinewidth\":0,\"ticks\":\"\"}}}],\"scatterpolar\":[{\"type\":\"scatterpolar\",\"marker\":{\"colorbar\":{\"outlinewidth\":0,\"ticks\":\"\"}}}],\"histogram\":[{\"marker\":{\"pattern\":{\"fillmode\":\"overlay\",\"size\":10,\"solidity\":0.2}},\"type\":\"histogram\"}],\"scattergl\":[{\"type\":\"scattergl\",\"marker\":{\"colorbar\":{\"outlinewidth\":0,\"ticks\":\"\"}}}],\"scatter3d\":[{\"type\":\"scatter3d\",\"line\":{\"colorbar\":{\"outlinewidth\":0,\"ticks\":\"\"}},\"marker\":{\"colorbar\":{\"outlinewidth\":0,\"ticks\":\"\"}}}],\"scattermapbox\":[{\"type\":\"scattermapbox\",\"marker\":{\"colorbar\":{\"outlinewidth\":0,\"ticks\":\"\"}}}],\"scatterternary\":[{\"type\":\"scatterternary\",\"marker\":{\"colorbar\":{\"outlinewidth\":0,\"ticks\":\"\"}}}],\"scattercarpet\":[{\"type\":\"scattercarpet\",\"marker\":{\"colorbar\":{\"outlinewidth\":0,\"ticks\":\"\"}}}],\"carpet\":[{\"aaxis\":{\"endlinecolor\":\"#2a3f5f\",\"gridcolor\":\"white\",\"linecolor\":\"white\",\"minorgridcolor\":\"white\",\"startlinecolor\":\"#2a3f5f\"},\"baxis\":{\"endlinecolor\":\"#2a3f5f\",\"gridcolor\":\"white\",\"linecolor\":\"white\",\"minorgridcolor\":\"white\",\"startlinecolor\":\"#2a3f5f\"},\"type\":\"carpet\"}],\"table\":[{\"cells\":{\"fill\":{\"color\":\"#EBF0F8\"},\"line\":{\"color\":\"white\"}},\"header\":{\"fill\":{\"color\":\"#C8D4E3\"},\"line\":{\"color\":\"white\"}},\"type\":\"table\"}],\"barpolar\":[{\"marker\":{\"line\":{\"color\":\"#E5ECF6\",\"width\":0.5},\"pattern\":{\"fillmode\":\"overlay\",\"size\":10,\"solidity\":0.2}},\"type\":\"barpolar\"}],\"pie\":[{\"automargin\":true,\"type\":\"pie\"}]},\"layout\":{\"autotypenumbers\":\"strict\",\"colorway\":[\"#636efa\",\"#EF553B\",\"#00cc96\",\"#ab63fa\",\"#FFA15A\",\"#19d3f3\",\"#FF6692\",\"#B6E880\",\"#FF97FF\",\"#FECB52\"],\"font\":{\"color\":\"#2a3f5f\"},\"hovermode\":\"closest\",\"hoverlabel\":{\"align\":\"left\"},\"paper_bgcolor\":\"white\",\"plot_bgcolor\":\"#E5ECF6\",\"polar\":{\"bgcolor\":\"#E5ECF6\",\"angularaxis\":{\"gridcolor\":\"white\",\"linecolor\":\"white\",\"ticks\":\"\"},\"radialaxis\":{\"gridcolor\":\"white\",\"linecolor\":\"white\",\"ticks\":\"\"}},\"ternary\":{\"bgcolor\":\"#E5ECF6\",\"aaxis\":{\"gridcolor\":\"white\",\"linecolor\":\"white\",\"ticks\":\"\"},\"baxis\":{\"gridcolor\":\"white\",\"linecolor\":\"white\",\"ticks\":\"\"},\"caxis\":{\"gridcolor\":\"white\",\"linecolor\":\"white\",\"ticks\":\"\"}},\"coloraxis\":{\"colorbar\":{\"outlinewidth\":0,\"ticks\":\"\"}},\"colorscale\":{\"sequential\":[[0.0,\"#0d0887\"],[0.1111111111111111,\"#46039f\"],[0.2222222222222222,\"#7201a8\"],[0.3333333333333333,\"#9c179e\"],[0.4444444444444444,\"#bd3786\"],[0.5555555555555556,\"#d8576b\"],[0.6666666666666666,\"#ed7953\"],[0.7777777777777778,\"#fb9f3a\"],[0.8888888888888888,\"#fdca26\"],[1.0,\"#f0f921\"]],\"sequentialminus\":[[0.0,\"#0d0887\"],[0.1111111111111111,\"#46039f\"],[0.2222222222222222,\"#7201a8\"],[0.3333333333333333,\"#9c179e\"],[0.4444444444444444,\"#bd3786\"],[0.5555555555555556,\"#d8576b\"],[0.6666666666666666,\"#ed7953\"],[0.7777777777777778,\"#fb9f3a\"],[0.8888888888888888,\"#fdca26\"],[1.0,\"#f0f921\"]],\"diverging\":[[0,\"#8e0152\"],[0.1,\"#c51b7d\"],[0.2,\"#de77ae\"],[0.3,\"#f1b6da\"],[0.4,\"#fde0ef\"],[0.5,\"#f7f7f7\"],[0.6,\"#e6f5d0\"],[0.7,\"#b8e186\"],[0.8,\"#7fbc41\"],[0.9,\"#4d9221\"],[1,\"#276419\"]]},\"xaxis\":{\"gridcolor\":\"white\",\"linecolor\":\"white\",\"ticks\":\"\",\"title\":{\"standoff\":15},\"zerolinecolor\":\"white\",\"automargin\":true,\"zerolinewidth\":2},\"yaxis\":{\"gridcolor\":\"white\",\"linecolor\":\"white\",\"ticks\":\"\",\"title\":{\"standoff\":15},\"zerolinecolor\":\"white\",\"automargin\":true,\"zerolinewidth\":2},\"scene\":{\"xaxis\":{\"backgroundcolor\":\"#E5ECF6\",\"gridcolor\":\"white\",\"linecolor\":\"white\",\"showbackground\":true,\"ticks\":\"\",\"zerolinecolor\":\"white\",\"gridwidth\":2},\"yaxis\":{\"backgroundcolor\":\"#E5ECF6\",\"gridcolor\":\"white\",\"linecolor\":\"white\",\"showbackground\":true,\"ticks\":\"\",\"zerolinecolor\":\"white\",\"gridwidth\":2},\"zaxis\":{\"backgroundcolor\":\"#E5ECF6\",\"gridcolor\":\"white\",\"linecolor\":\"white\",\"showbackground\":true,\"ticks\":\"\",\"zerolinecolor\":\"white\",\"gridwidth\":2}},\"shapedefaults\":{\"line\":{\"color\":\"#2a3f5f\"}},\"annotationdefaults\":{\"arrowcolor\":\"#2a3f5f\",\"arrowhead\":0,\"arrowwidth\":1},\"geo\":{\"bgcolor\":\"white\",\"landcolor\":\"#E5ECF6\",\"subunitcolor\":\"white\",\"showland\":true,\"showlakes\":true,\"lakecolor\":\"white\"},\"title\":{\"x\":0.05},\"mapbox\":{\"style\":\"light\"}}},\"xaxis\":{\"anchor\":\"y\",\"domain\":[0.0,0.98],\"title\":{\"text\":\"horsepower\"}},\"yaxis\":{\"anchor\":\"x\",\"domain\":[0.0,0.3133333333333333]},\"xaxis2\":{\"anchor\":\"y2\",\"domain\":[0.0,0.98],\"matches\":\"x\",\"showticklabels\":false},\"yaxis2\":{\"anchor\":\"x2\",\"domain\":[0.34333333333333327,0.6566666666666665],\"matches\":\"y\"},\"xaxis3\":{\"anchor\":\"y3\",\"domain\":[0.0,0.98],\"matches\":\"x\",\"showticklabels\":false},\"yaxis3\":{\"anchor\":\"x3\",\"domain\":[0.6866666666666665,0.9999999999999998],\"matches\":\"y\"},\"annotations\":[{\"font\":{},\"showarrow\":false,\"text\":\"origin=europe\",\"textangle\":90,\"x\":0.98,\"xanchor\":\"left\",\"xref\":\"paper\",\"y\":0.15666666666666665,\"yanchor\":\"middle\",\"yref\":\"paper\"},{\"font\":{},\"showarrow\":false,\"text\":\"origin=japan\",\"textangle\":90,\"x\":0.98,\"xanchor\":\"left\",\"xref\":\"paper\",\"y\":0.4999999999999999,\"yanchor\":\"middle\",\"yref\":\"paper\"},{\"font\":{},\"showarrow\":false,\"text\":\"origin=usa\",\"textangle\":90,\"x\":0.98,\"xanchor\":\"left\",\"xref\":\"paper\",\"y\":0.8433333333333332,\"yanchor\":\"middle\",\"yref\":\"paper\"}],\"legend\":{\"tracegroupgap\":0},\"margin\":{\"t\":60},\"boxmode\":\"group\",\"height\":900},                        {\"responsive\": true}                    ).then(function(){\n",
       "                            \n",
       "var gd = document.getElementById('1e685025-016b-4e53-a8d0-d698cc68dfbf');\n",
       "var x = new MutationObserver(function (mutations, observer) {{\n",
       "        var display = window.getComputedStyle(gd).display;\n",
       "        if (!display || display === 'none') {{\n",
       "            console.log([gd, 'removed!']);\n",
       "            Plotly.purge(gd);\n",
       "            observer.disconnect();\n",
       "        }}\n",
       "}});\n",
       "\n",
       "// Listen for the removal of the full notebook cells\n",
       "var notebookContainer = gd.closest('#notebook-container');\n",
       "if (notebookContainer) {{\n",
       "    x.observe(notebookContainer, {childList: true});\n",
       "}}\n",
       "\n",
       "// Listen for the clearing of the current output cell\n",
       "var outputEl = gd.closest('.output');\n",
       "if (outputEl) {{\n",
       "    x.observe(outputEl, {childList: true});\n",
       "}}\n",
       "\n",
       "                        })                };                });            </script>        </div>"
      ]
     },
     "metadata": {},
     "output_type": "display_data"
    }
   ],
   "source": [
    "px.box(data, x = \"horsepower\", facet_row = \"origin\", height = 900)"
   ]
  },
  {
   "cell_type": "code",
   "execution_count": 44,
   "id": "7a102aaa",
   "metadata": {},
   "outputs": [
    {
     "data": {
      "application/vnd.plotly.v1+json": {
       "config": {
        "plotlyServerURL": "https://plot.ly"
       },
       "data": [
        {
         "branchvalues": "total",
         "customdata": [
          [
           4
          ],
          [
           4
          ],
          [
           7.511904761904762
          ],
          [
           4
          ],
          [
           4
          ],
          [
           5.834254143646409
          ],
          [
           4
          ],
          [
           3.84297520661157
          ],
          [
           6.416382252559727
          ],
          [
           4
          ],
          [
           4.275
          ],
          [
           7.027522935779817
          ],
          [
           4
          ],
          [
           4
          ],
          [
           5.941818181818181
          ],
          [
           4
          ],
          [
           4
          ],
          [
           6.273504273504273
          ],
          [
           4.170103092783505
          ],
          [
           4.339285714285714
          ],
          [
           6.0046783625731
          ],
          [
           4
          ],
          [
           4.13677811550152
          ],
          [
           5.777479892761394
          ],
          [
           4.579158316633267
          ],
          [
           4
          ],
          [
           5.771189979123173
          ],
          [
           4.208538587848932
          ],
          [
           4
          ],
          [
           5.890000000000001
          ],
          [
           4.108462455303933
          ],
          [
           4.0906127770534555
          ],
          [
           4.210584343991179
          ],
          [
           4.486144101346001
          ],
          [
           4.250821744627055
          ],
          [
           4.765018161497625
          ],
          [
           4
          ],
          [
           4
          ],
          [
           4.288624787775891
          ],
          [
           4.124410981356279
          ],
          [
           4.084968407050216
          ],
          [
           5.814709646456567
          ]
         ],
         "domain": {
          "x": [
           0,
           1
          ],
          "y": [
           0,
           1
          ]
         },
         "hovertemplate": "labels=%{label}<br>mpg=%{value}<br>parent=%{parent}<br>id=%{id}<br>cylinders=%{color}<extra></extra>",
         "ids": [
          "europe/70",
          "japan/70",
          "usa/70",
          "europe/71",
          "japan/71",
          "usa/71",
          "europe/72",
          "japan/72",
          "usa/72",
          "europe/73",
          "japan/73",
          "usa/73",
          "europe/74",
          "japan/74",
          "usa/74",
          "europe/75",
          "japan/75",
          "usa/75",
          "europe/76",
          "japan/76",
          "usa/76",
          "europe/77",
          "japan/77",
          "usa/77",
          "europe/78",
          "japan/78",
          "usa/78",
          "europe/79",
          "japan/79",
          "usa/79",
          "europe/80",
          "japan/80",
          "usa/80",
          "europe/81",
          "japan/81",
          "usa/81",
          "europe/82",
          "japan/82",
          "usa/82",
          "europe",
          "japan",
          "usa"
         ],
         "labels": [
          "70",
          "70",
          "70",
          "71",
          "71",
          "71",
          "72",
          "72",
          "72",
          "73",
          "73",
          "73",
          "74",
          "74",
          "74",
          "75",
          "75",
          "75",
          "76",
          "76",
          "76",
          "77",
          "77",
          "77",
          "78",
          "78",
          "78",
          "79",
          "79",
          "79",
          "80",
          "80",
          "80",
          "81",
          "81",
          "81",
          "82",
          "82",
          "82",
          "europe",
          "japan",
          "usa"
         ],
         "marker": {
          "coloraxis": "coloraxis",
          "colors": [
           4,
           4,
           7.511904761904762,
           4,
           4,
           5.834254143646409,
           4,
           3.84297520661157,
           6.416382252559727,
           4,
           4.275,
           7.027522935779817,
           4,
           4,
           5.941818181818181,
           4,
           4,
           6.273504273504273,
           4.170103092783505,
           4.339285714285714,
           6.0046783625731,
           4,
           4.13677811550152,
           5.777479892761394,
           4.579158316633267,
           4,
           5.771189979123173,
           4.208538587848932,
           4,
           5.890000000000001,
           4.108462455303933,
           4.0906127770534555,
           4.210584343991179,
           4.486144101346001,
           4.250821744627055,
           4.765018161497625,
           4,
           4,
           4.288624787775891,
           4.124410981356279,
           4.084968407050216,
           5.814709646456567
          ]
         },
         "name": "",
         "parents": [
          "europe",
          "japan",
          "usa",
          "europe",
          "japan",
          "usa",
          "europe",
          "japan",
          "usa",
          "europe",
          "japan",
          "usa",
          "europe",
          "japan",
          "usa",
          "europe",
          "japan",
          "usa",
          "europe",
          "japan",
          "usa",
          "europe",
          "japan",
          "usa",
          "europe",
          "japan",
          "usa",
          "europe",
          "japan",
          "usa",
          "europe",
          "japan",
          "usa",
          "europe",
          "japan",
          "usa",
          "europe",
          "japan",
          "usa",
          "",
          "",
          ""
         ],
         "type": "treemap",
         "values": [
          126,
          51,
          336,
          115,
          118,
          362,
          110,
          121,
          293,
          168,
          80,
          436,
          162,
          176,
          275,
          147,
          110,
          351,
          194,
          112,
          427.5,
          117,
          164.5,
          373,
          149.7,
          237.5,
          479,
          121.8,
          65.9,
          540,
          335.6,
          460.2,
          181.4,
          126.3,
          395.5,
          357.9,
          80,
          314,
          589,
          1952.4,
          2405.6,
          5000.8
         ]
        }
       ],
       "layout": {
        "coloraxis": {
         "colorbar": {
          "title": {
           "text": "cylinders"
          }
         },
         "colorscale": [
          [
           0,
           "#0d0887"
          ],
          [
           0.1111111111111111,
           "#46039f"
          ],
          [
           0.2222222222222222,
           "#7201a8"
          ],
          [
           0.3333333333333333,
           "#9c179e"
          ],
          [
           0.4444444444444444,
           "#bd3786"
          ],
          [
           0.5555555555555556,
           "#d8576b"
          ],
          [
           0.6666666666666666,
           "#ed7953"
          ],
          [
           0.7777777777777778,
           "#fb9f3a"
          ],
          [
           0.8888888888888888,
           "#fdca26"
          ],
          [
           1,
           "#f0f921"
          ]
         ]
        },
        "legend": {
         "tracegroupgap": 0
        },
        "margin": {
         "t": 60
        },
        "template": {
         "data": {
          "bar": [
           {
            "error_x": {
             "color": "#2a3f5f"
            },
            "error_y": {
             "color": "#2a3f5f"
            },
            "marker": {
             "line": {
              "color": "#E5ECF6",
              "width": 0.5
             },
             "pattern": {
              "fillmode": "overlay",
              "size": 10,
              "solidity": 0.2
             }
            },
            "type": "bar"
           }
          ],
          "barpolar": [
           {
            "marker": {
             "line": {
              "color": "#E5ECF6",
              "width": 0.5
             },
             "pattern": {
              "fillmode": "overlay",
              "size": 10,
              "solidity": 0.2
             }
            },
            "type": "barpolar"
           }
          ],
          "carpet": [
           {
            "aaxis": {
             "endlinecolor": "#2a3f5f",
             "gridcolor": "white",
             "linecolor": "white",
             "minorgridcolor": "white",
             "startlinecolor": "#2a3f5f"
            },
            "baxis": {
             "endlinecolor": "#2a3f5f",
             "gridcolor": "white",
             "linecolor": "white",
             "minorgridcolor": "white",
             "startlinecolor": "#2a3f5f"
            },
            "type": "carpet"
           }
          ],
          "choropleth": [
           {
            "colorbar": {
             "outlinewidth": 0,
             "ticks": ""
            },
            "type": "choropleth"
           }
          ],
          "contour": [
           {
            "colorbar": {
             "outlinewidth": 0,
             "ticks": ""
            },
            "colorscale": [
             [
              0,
              "#0d0887"
             ],
             [
              0.1111111111111111,
              "#46039f"
             ],
             [
              0.2222222222222222,
              "#7201a8"
             ],
             [
              0.3333333333333333,
              "#9c179e"
             ],
             [
              0.4444444444444444,
              "#bd3786"
             ],
             [
              0.5555555555555556,
              "#d8576b"
             ],
             [
              0.6666666666666666,
              "#ed7953"
             ],
             [
              0.7777777777777778,
              "#fb9f3a"
             ],
             [
              0.8888888888888888,
              "#fdca26"
             ],
             [
              1,
              "#f0f921"
             ]
            ],
            "type": "contour"
           }
          ],
          "contourcarpet": [
           {
            "colorbar": {
             "outlinewidth": 0,
             "ticks": ""
            },
            "type": "contourcarpet"
           }
          ],
          "heatmap": [
           {
            "colorbar": {
             "outlinewidth": 0,
             "ticks": ""
            },
            "colorscale": [
             [
              0,
              "#0d0887"
             ],
             [
              0.1111111111111111,
              "#46039f"
             ],
             [
              0.2222222222222222,
              "#7201a8"
             ],
             [
              0.3333333333333333,
              "#9c179e"
             ],
             [
              0.4444444444444444,
              "#bd3786"
             ],
             [
              0.5555555555555556,
              "#d8576b"
             ],
             [
              0.6666666666666666,
              "#ed7953"
             ],
             [
              0.7777777777777778,
              "#fb9f3a"
             ],
             [
              0.8888888888888888,
              "#fdca26"
             ],
             [
              1,
              "#f0f921"
             ]
            ],
            "type": "heatmap"
           }
          ],
          "heatmapgl": [
           {
            "colorbar": {
             "outlinewidth": 0,
             "ticks": ""
            },
            "colorscale": [
             [
              0,
              "#0d0887"
             ],
             [
              0.1111111111111111,
              "#46039f"
             ],
             [
              0.2222222222222222,
              "#7201a8"
             ],
             [
              0.3333333333333333,
              "#9c179e"
             ],
             [
              0.4444444444444444,
              "#bd3786"
             ],
             [
              0.5555555555555556,
              "#d8576b"
             ],
             [
              0.6666666666666666,
              "#ed7953"
             ],
             [
              0.7777777777777778,
              "#fb9f3a"
             ],
             [
              0.8888888888888888,
              "#fdca26"
             ],
             [
              1,
              "#f0f921"
             ]
            ],
            "type": "heatmapgl"
           }
          ],
          "histogram": [
           {
            "marker": {
             "pattern": {
              "fillmode": "overlay",
              "size": 10,
              "solidity": 0.2
             }
            },
            "type": "histogram"
           }
          ],
          "histogram2d": [
           {
            "colorbar": {
             "outlinewidth": 0,
             "ticks": ""
            },
            "colorscale": [
             [
              0,
              "#0d0887"
             ],
             [
              0.1111111111111111,
              "#46039f"
             ],
             [
              0.2222222222222222,
              "#7201a8"
             ],
             [
              0.3333333333333333,
              "#9c179e"
             ],
             [
              0.4444444444444444,
              "#bd3786"
             ],
             [
              0.5555555555555556,
              "#d8576b"
             ],
             [
              0.6666666666666666,
              "#ed7953"
             ],
             [
              0.7777777777777778,
              "#fb9f3a"
             ],
             [
              0.8888888888888888,
              "#fdca26"
             ],
             [
              1,
              "#f0f921"
             ]
            ],
            "type": "histogram2d"
           }
          ],
          "histogram2dcontour": [
           {
            "colorbar": {
             "outlinewidth": 0,
             "ticks": ""
            },
            "colorscale": [
             [
              0,
              "#0d0887"
             ],
             [
              0.1111111111111111,
              "#46039f"
             ],
             [
              0.2222222222222222,
              "#7201a8"
             ],
             [
              0.3333333333333333,
              "#9c179e"
             ],
             [
              0.4444444444444444,
              "#bd3786"
             ],
             [
              0.5555555555555556,
              "#d8576b"
             ],
             [
              0.6666666666666666,
              "#ed7953"
             ],
             [
              0.7777777777777778,
              "#fb9f3a"
             ],
             [
              0.8888888888888888,
              "#fdca26"
             ],
             [
              1,
              "#f0f921"
             ]
            ],
            "type": "histogram2dcontour"
           }
          ],
          "mesh3d": [
           {
            "colorbar": {
             "outlinewidth": 0,
             "ticks": ""
            },
            "type": "mesh3d"
           }
          ],
          "parcoords": [
           {
            "line": {
             "colorbar": {
              "outlinewidth": 0,
              "ticks": ""
             }
            },
            "type": "parcoords"
           }
          ],
          "pie": [
           {
            "automargin": true,
            "type": "pie"
           }
          ],
          "scatter": [
           {
            "fillpattern": {
             "fillmode": "overlay",
             "size": 10,
             "solidity": 0.2
            },
            "type": "scatter"
           }
          ],
          "scatter3d": [
           {
            "line": {
             "colorbar": {
              "outlinewidth": 0,
              "ticks": ""
             }
            },
            "marker": {
             "colorbar": {
              "outlinewidth": 0,
              "ticks": ""
             }
            },
            "type": "scatter3d"
           }
          ],
          "scattercarpet": [
           {
            "marker": {
             "colorbar": {
              "outlinewidth": 0,
              "ticks": ""
             }
            },
            "type": "scattercarpet"
           }
          ],
          "scattergeo": [
           {
            "marker": {
             "colorbar": {
              "outlinewidth": 0,
              "ticks": ""
             }
            },
            "type": "scattergeo"
           }
          ],
          "scattergl": [
           {
            "marker": {
             "colorbar": {
              "outlinewidth": 0,
              "ticks": ""
             }
            },
            "type": "scattergl"
           }
          ],
          "scattermapbox": [
           {
            "marker": {
             "colorbar": {
              "outlinewidth": 0,
              "ticks": ""
             }
            },
            "type": "scattermapbox"
           }
          ],
          "scatterpolar": [
           {
            "marker": {
             "colorbar": {
              "outlinewidth": 0,
              "ticks": ""
             }
            },
            "type": "scatterpolar"
           }
          ],
          "scatterpolargl": [
           {
            "marker": {
             "colorbar": {
              "outlinewidth": 0,
              "ticks": ""
             }
            },
            "type": "scatterpolargl"
           }
          ],
          "scatterternary": [
           {
            "marker": {
             "colorbar": {
              "outlinewidth": 0,
              "ticks": ""
             }
            },
            "type": "scatterternary"
           }
          ],
          "surface": [
           {
            "colorbar": {
             "outlinewidth": 0,
             "ticks": ""
            },
            "colorscale": [
             [
              0,
              "#0d0887"
             ],
             [
              0.1111111111111111,
              "#46039f"
             ],
             [
              0.2222222222222222,
              "#7201a8"
             ],
             [
              0.3333333333333333,
              "#9c179e"
             ],
             [
              0.4444444444444444,
              "#bd3786"
             ],
             [
              0.5555555555555556,
              "#d8576b"
             ],
             [
              0.6666666666666666,
              "#ed7953"
             ],
             [
              0.7777777777777778,
              "#fb9f3a"
             ],
             [
              0.8888888888888888,
              "#fdca26"
             ],
             [
              1,
              "#f0f921"
             ]
            ],
            "type": "surface"
           }
          ],
          "table": [
           {
            "cells": {
             "fill": {
              "color": "#EBF0F8"
             },
             "line": {
              "color": "white"
             }
            },
            "header": {
             "fill": {
              "color": "#C8D4E3"
             },
             "line": {
              "color": "white"
             }
            },
            "type": "table"
           }
          ]
         },
         "layout": {
          "annotationdefaults": {
           "arrowcolor": "#2a3f5f",
           "arrowhead": 0,
           "arrowwidth": 1
          },
          "autotypenumbers": "strict",
          "coloraxis": {
           "colorbar": {
            "outlinewidth": 0,
            "ticks": ""
           }
          },
          "colorscale": {
           "diverging": [
            [
             0,
             "#8e0152"
            ],
            [
             0.1,
             "#c51b7d"
            ],
            [
             0.2,
             "#de77ae"
            ],
            [
             0.3,
             "#f1b6da"
            ],
            [
             0.4,
             "#fde0ef"
            ],
            [
             0.5,
             "#f7f7f7"
            ],
            [
             0.6,
             "#e6f5d0"
            ],
            [
             0.7,
             "#b8e186"
            ],
            [
             0.8,
             "#7fbc41"
            ],
            [
             0.9,
             "#4d9221"
            ],
            [
             1,
             "#276419"
            ]
           ],
           "sequential": [
            [
             0,
             "#0d0887"
            ],
            [
             0.1111111111111111,
             "#46039f"
            ],
            [
             0.2222222222222222,
             "#7201a8"
            ],
            [
             0.3333333333333333,
             "#9c179e"
            ],
            [
             0.4444444444444444,
             "#bd3786"
            ],
            [
             0.5555555555555556,
             "#d8576b"
            ],
            [
             0.6666666666666666,
             "#ed7953"
            ],
            [
             0.7777777777777778,
             "#fb9f3a"
            ],
            [
             0.8888888888888888,
             "#fdca26"
            ],
            [
             1,
             "#f0f921"
            ]
           ],
           "sequentialminus": [
            [
             0,
             "#0d0887"
            ],
            [
             0.1111111111111111,
             "#46039f"
            ],
            [
             0.2222222222222222,
             "#7201a8"
            ],
            [
             0.3333333333333333,
             "#9c179e"
            ],
            [
             0.4444444444444444,
             "#bd3786"
            ],
            [
             0.5555555555555556,
             "#d8576b"
            ],
            [
             0.6666666666666666,
             "#ed7953"
            ],
            [
             0.7777777777777778,
             "#fb9f3a"
            ],
            [
             0.8888888888888888,
             "#fdca26"
            ],
            [
             1,
             "#f0f921"
            ]
           ]
          },
          "colorway": [
           "#636efa",
           "#EF553B",
           "#00cc96",
           "#ab63fa",
           "#FFA15A",
           "#19d3f3",
           "#FF6692",
           "#B6E880",
           "#FF97FF",
           "#FECB52"
          ],
          "font": {
           "color": "#2a3f5f"
          },
          "geo": {
           "bgcolor": "white",
           "lakecolor": "white",
           "landcolor": "#E5ECF6",
           "showlakes": true,
           "showland": true,
           "subunitcolor": "white"
          },
          "hoverlabel": {
           "align": "left"
          },
          "hovermode": "closest",
          "mapbox": {
           "style": "light"
          },
          "paper_bgcolor": "white",
          "plot_bgcolor": "#E5ECF6",
          "polar": {
           "angularaxis": {
            "gridcolor": "white",
            "linecolor": "white",
            "ticks": ""
           },
           "bgcolor": "#E5ECF6",
           "radialaxis": {
            "gridcolor": "white",
            "linecolor": "white",
            "ticks": ""
           }
          },
          "scene": {
           "xaxis": {
            "backgroundcolor": "#E5ECF6",
            "gridcolor": "white",
            "gridwidth": 2,
            "linecolor": "white",
            "showbackground": true,
            "ticks": "",
            "zerolinecolor": "white"
           },
           "yaxis": {
            "backgroundcolor": "#E5ECF6",
            "gridcolor": "white",
            "gridwidth": 2,
            "linecolor": "white",
            "showbackground": true,
            "ticks": "",
            "zerolinecolor": "white"
           },
           "zaxis": {
            "backgroundcolor": "#E5ECF6",
            "gridcolor": "white",
            "gridwidth": 2,
            "linecolor": "white",
            "showbackground": true,
            "ticks": "",
            "zerolinecolor": "white"
           }
          },
          "shapedefaults": {
           "line": {
            "color": "#2a3f5f"
           }
          },
          "ternary": {
           "aaxis": {
            "gridcolor": "white",
            "linecolor": "white",
            "ticks": ""
           },
           "baxis": {
            "gridcolor": "white",
            "linecolor": "white",
            "ticks": ""
           },
           "bgcolor": "#E5ECF6",
           "caxis": {
            "gridcolor": "white",
            "linecolor": "white",
            "ticks": ""
           }
          },
          "title": {
           "x": 0.05
          },
          "xaxis": {
           "automargin": true,
           "gridcolor": "white",
           "linecolor": "white",
           "ticks": "",
           "title": {
            "standoff": 15
           },
           "zerolinecolor": "white",
           "zerolinewidth": 2
          },
          "yaxis": {
           "automargin": true,
           "gridcolor": "white",
           "linecolor": "white",
           "ticks": "",
           "title": {
            "standoff": 15
           },
           "zerolinecolor": "white",
           "zerolinewidth": 2
          }
         }
        }
       }
      },
      "text/html": [
       "<div>                            <div id=\"4fa4d9dd-79dc-4f82-8518-6bea0b964a53\" class=\"plotly-graph-div\" style=\"height:525px; width:100%;\"></div>            <script type=\"text/javascript\">                require([\"plotly\"], function(Plotly) {                    window.PLOTLYENV=window.PLOTLYENV || {};                                    if (document.getElementById(\"4fa4d9dd-79dc-4f82-8518-6bea0b964a53\")) {                    Plotly.newPlot(                        \"4fa4d9dd-79dc-4f82-8518-6bea0b964a53\",                        [{\"branchvalues\":\"total\",\"customdata\":[[4.0],[4.0],[7.511904761904762],[4.0],[4.0],[5.834254143646409],[4.0],[3.84297520661157],[6.416382252559727],[4.0],[4.275],[7.027522935779817],[4.0],[4.0],[5.941818181818181],[4.0],[4.0],[6.273504273504273],[4.170103092783505],[4.339285714285714],[6.0046783625731],[4.0],[4.13677811550152],[5.777479892761394],[4.579158316633267],[4.0],[5.771189979123173],[4.208538587848932],[4.0],[5.890000000000001],[4.108462455303933],[4.0906127770534555],[4.210584343991179],[4.486144101346001],[4.250821744627055],[4.765018161497625],[4.0],[4.0],[4.288624787775891],[4.124410981356279],[4.084968407050216],[5.814709646456567]],\"domain\":{\"x\":[0.0,1.0],\"y\":[0.0,1.0]},\"hovertemplate\":\"labels=%{label}<br>mpg=%{value}<br>parent=%{parent}<br>id=%{id}<br>cylinders=%{color}<extra></extra>\",\"ids\":[\"europe/70\",\"japan/70\",\"usa/70\",\"europe/71\",\"japan/71\",\"usa/71\",\"europe/72\",\"japan/72\",\"usa/72\",\"europe/73\",\"japan/73\",\"usa/73\",\"europe/74\",\"japan/74\",\"usa/74\",\"europe/75\",\"japan/75\",\"usa/75\",\"europe/76\",\"japan/76\",\"usa/76\",\"europe/77\",\"japan/77\",\"usa/77\",\"europe/78\",\"japan/78\",\"usa/78\",\"europe/79\",\"japan/79\",\"usa/79\",\"europe/80\",\"japan/80\",\"usa/80\",\"europe/81\",\"japan/81\",\"usa/81\",\"europe/82\",\"japan/82\",\"usa/82\",\"europe\",\"japan\",\"usa\"],\"labels\":[\"70\",\"70\",\"70\",\"71\",\"71\",\"71\",\"72\",\"72\",\"72\",\"73\",\"73\",\"73\",\"74\",\"74\",\"74\",\"75\",\"75\",\"75\",\"76\",\"76\",\"76\",\"77\",\"77\",\"77\",\"78\",\"78\",\"78\",\"79\",\"79\",\"79\",\"80\",\"80\",\"80\",\"81\",\"81\",\"81\",\"82\",\"82\",\"82\",\"europe\",\"japan\",\"usa\"],\"marker\":{\"coloraxis\":\"coloraxis\",\"colors\":[4.0,4.0,7.511904761904762,4.0,4.0,5.834254143646409,4.0,3.84297520661157,6.416382252559727,4.0,4.275,7.027522935779817,4.0,4.0,5.941818181818181,4.0,4.0,6.273504273504273,4.170103092783505,4.339285714285714,6.0046783625731,4.0,4.13677811550152,5.777479892761394,4.579158316633267,4.0,5.771189979123173,4.208538587848932,4.0,5.890000000000001,4.108462455303933,4.0906127770534555,4.210584343991179,4.486144101346001,4.250821744627055,4.765018161497625,4.0,4.0,4.288624787775891,4.124410981356279,4.084968407050216,5.814709646456567]},\"name\":\"\",\"parents\":[\"europe\",\"japan\",\"usa\",\"europe\",\"japan\",\"usa\",\"europe\",\"japan\",\"usa\",\"europe\",\"japan\",\"usa\",\"europe\",\"japan\",\"usa\",\"europe\",\"japan\",\"usa\",\"europe\",\"japan\",\"usa\",\"europe\",\"japan\",\"usa\",\"europe\",\"japan\",\"usa\",\"europe\",\"japan\",\"usa\",\"europe\",\"japan\",\"usa\",\"europe\",\"japan\",\"usa\",\"europe\",\"japan\",\"usa\",\"\",\"\",\"\"],\"values\":[126.0,51.0,336.0,115.0,118.0,362.0,110.0,121.0,293.0,168.0,80.0,436.0,162.0,176.0,275.0,147.0,110.0,351.0,194.0,112.0,427.5,117.0,164.5,373.0,149.7,237.5,479.0,121.8,65.9,540.0,335.6,460.2,181.4,126.3,395.5,357.9,80.0,314.0,589.0,1952.4,2405.6,5000.8],\"type\":\"treemap\"}],                        {\"template\":{\"data\":{\"histogram2dcontour\":[{\"type\":\"histogram2dcontour\",\"colorbar\":{\"outlinewidth\":0,\"ticks\":\"\"},\"colorscale\":[[0.0,\"#0d0887\"],[0.1111111111111111,\"#46039f\"],[0.2222222222222222,\"#7201a8\"],[0.3333333333333333,\"#9c179e\"],[0.4444444444444444,\"#bd3786\"],[0.5555555555555556,\"#d8576b\"],[0.6666666666666666,\"#ed7953\"],[0.7777777777777778,\"#fb9f3a\"],[0.8888888888888888,\"#fdca26\"],[1.0,\"#f0f921\"]]}],\"choropleth\":[{\"type\":\"choropleth\",\"colorbar\":{\"outlinewidth\":0,\"ticks\":\"\"}}],\"histogram2d\":[{\"type\":\"histogram2d\",\"colorbar\":{\"outlinewidth\":0,\"ticks\":\"\"},\"colorscale\":[[0.0,\"#0d0887\"],[0.1111111111111111,\"#46039f\"],[0.2222222222222222,\"#7201a8\"],[0.3333333333333333,\"#9c179e\"],[0.4444444444444444,\"#bd3786\"],[0.5555555555555556,\"#d8576b\"],[0.6666666666666666,\"#ed7953\"],[0.7777777777777778,\"#fb9f3a\"],[0.8888888888888888,\"#fdca26\"],[1.0,\"#f0f921\"]]}],\"heatmap\":[{\"type\":\"heatmap\",\"colorbar\":{\"outlinewidth\":0,\"ticks\":\"\"},\"colorscale\":[[0.0,\"#0d0887\"],[0.1111111111111111,\"#46039f\"],[0.2222222222222222,\"#7201a8\"],[0.3333333333333333,\"#9c179e\"],[0.4444444444444444,\"#bd3786\"],[0.5555555555555556,\"#d8576b\"],[0.6666666666666666,\"#ed7953\"],[0.7777777777777778,\"#fb9f3a\"],[0.8888888888888888,\"#fdca26\"],[1.0,\"#f0f921\"]]}],\"heatmapgl\":[{\"type\":\"heatmapgl\",\"colorbar\":{\"outlinewidth\":0,\"ticks\":\"\"},\"colorscale\":[[0.0,\"#0d0887\"],[0.1111111111111111,\"#46039f\"],[0.2222222222222222,\"#7201a8\"],[0.3333333333333333,\"#9c179e\"],[0.4444444444444444,\"#bd3786\"],[0.5555555555555556,\"#d8576b\"],[0.6666666666666666,\"#ed7953\"],[0.7777777777777778,\"#fb9f3a\"],[0.8888888888888888,\"#fdca26\"],[1.0,\"#f0f921\"]]}],\"contourcarpet\":[{\"type\":\"contourcarpet\",\"colorbar\":{\"outlinewidth\":0,\"ticks\":\"\"}}],\"contour\":[{\"type\":\"contour\",\"colorbar\":{\"outlinewidth\":0,\"ticks\":\"\"},\"colorscale\":[[0.0,\"#0d0887\"],[0.1111111111111111,\"#46039f\"],[0.2222222222222222,\"#7201a8\"],[0.3333333333333333,\"#9c179e\"],[0.4444444444444444,\"#bd3786\"],[0.5555555555555556,\"#d8576b\"],[0.6666666666666666,\"#ed7953\"],[0.7777777777777778,\"#fb9f3a\"],[0.8888888888888888,\"#fdca26\"],[1.0,\"#f0f921\"]]}],\"surface\":[{\"type\":\"surface\",\"colorbar\":{\"outlinewidth\":0,\"ticks\":\"\"},\"colorscale\":[[0.0,\"#0d0887\"],[0.1111111111111111,\"#46039f\"],[0.2222222222222222,\"#7201a8\"],[0.3333333333333333,\"#9c179e\"],[0.4444444444444444,\"#bd3786\"],[0.5555555555555556,\"#d8576b\"],[0.6666666666666666,\"#ed7953\"],[0.7777777777777778,\"#fb9f3a\"],[0.8888888888888888,\"#fdca26\"],[1.0,\"#f0f921\"]]}],\"mesh3d\":[{\"type\":\"mesh3d\",\"colorbar\":{\"outlinewidth\":0,\"ticks\":\"\"}}],\"scatter\":[{\"fillpattern\":{\"fillmode\":\"overlay\",\"size\":10,\"solidity\":0.2},\"type\":\"scatter\"}],\"parcoords\":[{\"type\":\"parcoords\",\"line\":{\"colorbar\":{\"outlinewidth\":0,\"ticks\":\"\"}}}],\"scatterpolargl\":[{\"type\":\"scatterpolargl\",\"marker\":{\"colorbar\":{\"outlinewidth\":0,\"ticks\":\"\"}}}],\"bar\":[{\"error_x\":{\"color\":\"#2a3f5f\"},\"error_y\":{\"color\":\"#2a3f5f\"},\"marker\":{\"line\":{\"color\":\"#E5ECF6\",\"width\":0.5},\"pattern\":{\"fillmode\":\"overlay\",\"size\":10,\"solidity\":0.2}},\"type\":\"bar\"}],\"scattergeo\":[{\"type\":\"scattergeo\",\"marker\":{\"colorbar\":{\"outlinewidth\":0,\"ticks\":\"\"}}}],\"scatterpolar\":[{\"type\":\"scatterpolar\",\"marker\":{\"colorbar\":{\"outlinewidth\":0,\"ticks\":\"\"}}}],\"histogram\":[{\"marker\":{\"pattern\":{\"fillmode\":\"overlay\",\"size\":10,\"solidity\":0.2}},\"type\":\"histogram\"}],\"scattergl\":[{\"type\":\"scattergl\",\"marker\":{\"colorbar\":{\"outlinewidth\":0,\"ticks\":\"\"}}}],\"scatter3d\":[{\"type\":\"scatter3d\",\"line\":{\"colorbar\":{\"outlinewidth\":0,\"ticks\":\"\"}},\"marker\":{\"colorbar\":{\"outlinewidth\":0,\"ticks\":\"\"}}}],\"scattermapbox\":[{\"type\":\"scattermapbox\",\"marker\":{\"colorbar\":{\"outlinewidth\":0,\"ticks\":\"\"}}}],\"scatterternary\":[{\"type\":\"scatterternary\",\"marker\":{\"colorbar\":{\"outlinewidth\":0,\"ticks\":\"\"}}}],\"scattercarpet\":[{\"type\":\"scattercarpet\",\"marker\":{\"colorbar\":{\"outlinewidth\":0,\"ticks\":\"\"}}}],\"carpet\":[{\"aaxis\":{\"endlinecolor\":\"#2a3f5f\",\"gridcolor\":\"white\",\"linecolor\":\"white\",\"minorgridcolor\":\"white\",\"startlinecolor\":\"#2a3f5f\"},\"baxis\":{\"endlinecolor\":\"#2a3f5f\",\"gridcolor\":\"white\",\"linecolor\":\"white\",\"minorgridcolor\":\"white\",\"startlinecolor\":\"#2a3f5f\"},\"type\":\"carpet\"}],\"table\":[{\"cells\":{\"fill\":{\"color\":\"#EBF0F8\"},\"line\":{\"color\":\"white\"}},\"header\":{\"fill\":{\"color\":\"#C8D4E3\"},\"line\":{\"color\":\"white\"}},\"type\":\"table\"}],\"barpolar\":[{\"marker\":{\"line\":{\"color\":\"#E5ECF6\",\"width\":0.5},\"pattern\":{\"fillmode\":\"overlay\",\"size\":10,\"solidity\":0.2}},\"type\":\"barpolar\"}],\"pie\":[{\"automargin\":true,\"type\":\"pie\"}]},\"layout\":{\"autotypenumbers\":\"strict\",\"colorway\":[\"#636efa\",\"#EF553B\",\"#00cc96\",\"#ab63fa\",\"#FFA15A\",\"#19d3f3\",\"#FF6692\",\"#B6E880\",\"#FF97FF\",\"#FECB52\"],\"font\":{\"color\":\"#2a3f5f\"},\"hovermode\":\"closest\",\"hoverlabel\":{\"align\":\"left\"},\"paper_bgcolor\":\"white\",\"plot_bgcolor\":\"#E5ECF6\",\"polar\":{\"bgcolor\":\"#E5ECF6\",\"angularaxis\":{\"gridcolor\":\"white\",\"linecolor\":\"white\",\"ticks\":\"\"},\"radialaxis\":{\"gridcolor\":\"white\",\"linecolor\":\"white\",\"ticks\":\"\"}},\"ternary\":{\"bgcolor\":\"#E5ECF6\",\"aaxis\":{\"gridcolor\":\"white\",\"linecolor\":\"white\",\"ticks\":\"\"},\"baxis\":{\"gridcolor\":\"white\",\"linecolor\":\"white\",\"ticks\":\"\"},\"caxis\":{\"gridcolor\":\"white\",\"linecolor\":\"white\",\"ticks\":\"\"}},\"coloraxis\":{\"colorbar\":{\"outlinewidth\":0,\"ticks\":\"\"}},\"colorscale\":{\"sequential\":[[0.0,\"#0d0887\"],[0.1111111111111111,\"#46039f\"],[0.2222222222222222,\"#7201a8\"],[0.3333333333333333,\"#9c179e\"],[0.4444444444444444,\"#bd3786\"],[0.5555555555555556,\"#d8576b\"],[0.6666666666666666,\"#ed7953\"],[0.7777777777777778,\"#fb9f3a\"],[0.8888888888888888,\"#fdca26\"],[1.0,\"#f0f921\"]],\"sequentialminus\":[[0.0,\"#0d0887\"],[0.1111111111111111,\"#46039f\"],[0.2222222222222222,\"#7201a8\"],[0.3333333333333333,\"#9c179e\"],[0.4444444444444444,\"#bd3786\"],[0.5555555555555556,\"#d8576b\"],[0.6666666666666666,\"#ed7953\"],[0.7777777777777778,\"#fb9f3a\"],[0.8888888888888888,\"#fdca26\"],[1.0,\"#f0f921\"]],\"diverging\":[[0,\"#8e0152\"],[0.1,\"#c51b7d\"],[0.2,\"#de77ae\"],[0.3,\"#f1b6da\"],[0.4,\"#fde0ef\"],[0.5,\"#f7f7f7\"],[0.6,\"#e6f5d0\"],[0.7,\"#b8e186\"],[0.8,\"#7fbc41\"],[0.9,\"#4d9221\"],[1,\"#276419\"]]},\"xaxis\":{\"gridcolor\":\"white\",\"linecolor\":\"white\",\"ticks\":\"\",\"title\":{\"standoff\":15},\"zerolinecolor\":\"white\",\"automargin\":true,\"zerolinewidth\":2},\"yaxis\":{\"gridcolor\":\"white\",\"linecolor\":\"white\",\"ticks\":\"\",\"title\":{\"standoff\":15},\"zerolinecolor\":\"white\",\"automargin\":true,\"zerolinewidth\":2},\"scene\":{\"xaxis\":{\"backgroundcolor\":\"#E5ECF6\",\"gridcolor\":\"white\",\"linecolor\":\"white\",\"showbackground\":true,\"ticks\":\"\",\"zerolinecolor\":\"white\",\"gridwidth\":2},\"yaxis\":{\"backgroundcolor\":\"#E5ECF6\",\"gridcolor\":\"white\",\"linecolor\":\"white\",\"showbackground\":true,\"ticks\":\"\",\"zerolinecolor\":\"white\",\"gridwidth\":2},\"zaxis\":{\"backgroundcolor\":\"#E5ECF6\",\"gridcolor\":\"white\",\"linecolor\":\"white\",\"showbackground\":true,\"ticks\":\"\",\"zerolinecolor\":\"white\",\"gridwidth\":2}},\"shapedefaults\":{\"line\":{\"color\":\"#2a3f5f\"}},\"annotationdefaults\":{\"arrowcolor\":\"#2a3f5f\",\"arrowhead\":0,\"arrowwidth\":1},\"geo\":{\"bgcolor\":\"white\",\"landcolor\":\"#E5ECF6\",\"subunitcolor\":\"white\",\"showland\":true,\"showlakes\":true,\"lakecolor\":\"white\"},\"title\":{\"x\":0.05},\"mapbox\":{\"style\":\"light\"}}},\"coloraxis\":{\"colorbar\":{\"title\":{\"text\":\"cylinders\"}},\"colorscale\":[[0.0,\"#0d0887\"],[0.1111111111111111,\"#46039f\"],[0.2222222222222222,\"#7201a8\"],[0.3333333333333333,\"#9c179e\"],[0.4444444444444444,\"#bd3786\"],[0.5555555555555556,\"#d8576b\"],[0.6666666666666666,\"#ed7953\"],[0.7777777777777778,\"#fb9f3a\"],[0.8888888888888888,\"#fdca26\"],[1.0,\"#f0f921\"]]},\"legend\":{\"tracegroupgap\":0},\"margin\":{\"t\":60}},                        {\"responsive\": true}                    ).then(function(){\n",
       "                            \n",
       "var gd = document.getElementById('4fa4d9dd-79dc-4f82-8518-6bea0b964a53');\n",
       "var x = new MutationObserver(function (mutations, observer) {{\n",
       "        var display = window.getComputedStyle(gd).display;\n",
       "        if (!display || display === 'none') {{\n",
       "            console.log([gd, 'removed!']);\n",
       "            Plotly.purge(gd);\n",
       "            observer.disconnect();\n",
       "        }}\n",
       "}});\n",
       "\n",
       "// Listen for the removal of the full notebook cells\n",
       "var notebookContainer = gd.closest('#notebook-container');\n",
       "if (notebookContainer) {{\n",
       "    x.observe(notebookContainer, {childList: true});\n",
       "}}\n",
       "\n",
       "// Listen for the clearing of the current output cell\n",
       "var outputEl = gd.closest('.output');\n",
       "if (outputEl) {{\n",
       "    x.observe(outputEl, {childList: true});\n",
       "}}\n",
       "\n",
       "                        })                };                });            </script>        </div>"
      ]
     },
     "metadata": {},
     "output_type": "display_data"
    }
   ],
   "source": [
    "px.treemap(data,values = \"mpg\", path = [\"origin\", \"model_year\"], color = \"cylinders\")"
   ]
  },
  {
   "cell_type": "code",
   "execution_count": 53,
   "id": "96f8751d",
   "metadata": {},
   "outputs": [
    {
     "data": {
      "application/vnd.plotly.v1+json": {
       "config": {
        "plotlyServerURL": "https://plot.ly"
       },
       "data": [
        {
         "branchvalues": "total",
         "customdata": [
          [
           4
          ],
          [
           4
          ],
          [
           7.511904761904762
          ],
          [
           4
          ],
          [
           4
          ],
          [
           5.834254143646409
          ],
          [
           4
          ],
          [
           3.84297520661157
          ],
          [
           6.416382252559727
          ],
          [
           4
          ],
          [
           4.275
          ],
          [
           7.027522935779817
          ],
          [
           4
          ],
          [
           4
          ],
          [
           5.941818181818181
          ],
          [
           4
          ],
          [
           4
          ],
          [
           6.273504273504273
          ],
          [
           4.170103092783505
          ],
          [
           4.339285714285714
          ],
          [
           6.0046783625731
          ],
          [
           4
          ],
          [
           4.13677811550152
          ],
          [
           5.777479892761394
          ],
          [
           4.579158316633267
          ],
          [
           4
          ],
          [
           5.771189979123173
          ],
          [
           4.208538587848932
          ],
          [
           4
          ],
          [
           5.890000000000001
          ],
          [
           4.108462455303933
          ],
          [
           4.0906127770534555
          ],
          [
           4.210584343991179
          ],
          [
           4.486144101346001
          ],
          [
           4.250821744627055
          ],
          [
           4.765018161497625
          ],
          [
           4
          ],
          [
           4
          ],
          [
           4.288624787775891
          ],
          [
           4.124410981356279
          ],
          [
           4.084968407050216
          ],
          [
           5.814709646456567
          ]
         ],
         "domain": {
          "x": [
           0,
           1
          ],
          "y": [
           0,
           1
          ]
         },
         "hovertemplate": "labels=%{label}<br>mpg=%{value}<br>parent=%{parent}<br>id=%{id}<br>cylinders=%{color}<extra></extra>",
         "ids": [
          "europe/70",
          "japan/70",
          "usa/70",
          "europe/71",
          "japan/71",
          "usa/71",
          "europe/72",
          "japan/72",
          "usa/72",
          "europe/73",
          "japan/73",
          "usa/73",
          "europe/74",
          "japan/74",
          "usa/74",
          "europe/75",
          "japan/75",
          "usa/75",
          "europe/76",
          "japan/76",
          "usa/76",
          "europe/77",
          "japan/77",
          "usa/77",
          "europe/78",
          "japan/78",
          "usa/78",
          "europe/79",
          "japan/79",
          "usa/79",
          "europe/80",
          "japan/80",
          "usa/80",
          "europe/81",
          "japan/81",
          "usa/81",
          "europe/82",
          "japan/82",
          "usa/82",
          "europe",
          "japan",
          "usa"
         ],
         "labels": [
          "70",
          "70",
          "70",
          "71",
          "71",
          "71",
          "72",
          "72",
          "72",
          "73",
          "73",
          "73",
          "74",
          "74",
          "74",
          "75",
          "75",
          "75",
          "76",
          "76",
          "76",
          "77",
          "77",
          "77",
          "78",
          "78",
          "78",
          "79",
          "79",
          "79",
          "80",
          "80",
          "80",
          "81",
          "81",
          "81",
          "82",
          "82",
          "82",
          "europe",
          "japan",
          "usa"
         ],
         "marker": {
          "coloraxis": "coloraxis",
          "colors": [
           4,
           4,
           7.511904761904762,
           4,
           4,
           5.834254143646409,
           4,
           3.84297520661157,
           6.416382252559727,
           4,
           4.275,
           7.027522935779817,
           4,
           4,
           5.941818181818181,
           4,
           4,
           6.273504273504273,
           4.170103092783505,
           4.339285714285714,
           6.0046783625731,
           4,
           4.13677811550152,
           5.777479892761394,
           4.579158316633267,
           4,
           5.771189979123173,
           4.208538587848932,
           4,
           5.890000000000001,
           4.108462455303933,
           4.0906127770534555,
           4.210584343991179,
           4.486144101346001,
           4.250821744627055,
           4.765018161497625,
           4,
           4,
           4.288624787775891,
           4.124410981356279,
           4.084968407050216,
           5.814709646456567
          ]
         },
         "name": "",
         "parents": [
          "europe",
          "japan",
          "usa",
          "europe",
          "japan",
          "usa",
          "europe",
          "japan",
          "usa",
          "europe",
          "japan",
          "usa",
          "europe",
          "japan",
          "usa",
          "europe",
          "japan",
          "usa",
          "europe",
          "japan",
          "usa",
          "europe",
          "japan",
          "usa",
          "europe",
          "japan",
          "usa",
          "europe",
          "japan",
          "usa",
          "europe",
          "japan",
          "usa",
          "europe",
          "japan",
          "usa",
          "europe",
          "japan",
          "usa",
          "",
          "",
          ""
         ],
         "type": "sunburst",
         "values": [
          126,
          51,
          336,
          115,
          118,
          362,
          110,
          121,
          293,
          168,
          80,
          436,
          162,
          176,
          275,
          147,
          110,
          351,
          194,
          112,
          427.5,
          117,
          164.5,
          373,
          149.7,
          237.5,
          479,
          121.8,
          65.9,
          540,
          335.6,
          460.2,
          181.4,
          126.3,
          395.5,
          357.9,
          80,
          314,
          589,
          1952.4,
          2405.6,
          5000.8
         ]
        }
       ],
       "layout": {
        "coloraxis": {
         "colorbar": {
          "title": {
           "text": "cylinders"
          }
         },
         "colorscale": [
          [
           0,
           "#0d0887"
          ],
          [
           0.1111111111111111,
           "#46039f"
          ],
          [
           0.2222222222222222,
           "#7201a8"
          ],
          [
           0.3333333333333333,
           "#9c179e"
          ],
          [
           0.4444444444444444,
           "#bd3786"
          ],
          [
           0.5555555555555556,
           "#d8576b"
          ],
          [
           0.6666666666666666,
           "#ed7953"
          ],
          [
           0.7777777777777778,
           "#fb9f3a"
          ],
          [
           0.8888888888888888,
           "#fdca26"
          ],
          [
           1,
           "#f0f921"
          ]
         ]
        },
        "legend": {
         "tracegroupgap": 0
        },
        "template": {
         "data": {
          "bar": [
           {
            "error_x": {
             "color": "#2a3f5f"
            },
            "error_y": {
             "color": "#2a3f5f"
            },
            "marker": {
             "line": {
              "color": "#E5ECF6",
              "width": 0.5
             },
             "pattern": {
              "fillmode": "overlay",
              "size": 10,
              "solidity": 0.2
             }
            },
            "type": "bar"
           }
          ],
          "barpolar": [
           {
            "marker": {
             "line": {
              "color": "#E5ECF6",
              "width": 0.5
             },
             "pattern": {
              "fillmode": "overlay",
              "size": 10,
              "solidity": 0.2
             }
            },
            "type": "barpolar"
           }
          ],
          "carpet": [
           {
            "aaxis": {
             "endlinecolor": "#2a3f5f",
             "gridcolor": "white",
             "linecolor": "white",
             "minorgridcolor": "white",
             "startlinecolor": "#2a3f5f"
            },
            "baxis": {
             "endlinecolor": "#2a3f5f",
             "gridcolor": "white",
             "linecolor": "white",
             "minorgridcolor": "white",
             "startlinecolor": "#2a3f5f"
            },
            "type": "carpet"
           }
          ],
          "choropleth": [
           {
            "colorbar": {
             "outlinewidth": 0,
             "ticks": ""
            },
            "type": "choropleth"
           }
          ],
          "contour": [
           {
            "colorbar": {
             "outlinewidth": 0,
             "ticks": ""
            },
            "colorscale": [
             [
              0,
              "#0d0887"
             ],
             [
              0.1111111111111111,
              "#46039f"
             ],
             [
              0.2222222222222222,
              "#7201a8"
             ],
             [
              0.3333333333333333,
              "#9c179e"
             ],
             [
              0.4444444444444444,
              "#bd3786"
             ],
             [
              0.5555555555555556,
              "#d8576b"
             ],
             [
              0.6666666666666666,
              "#ed7953"
             ],
             [
              0.7777777777777778,
              "#fb9f3a"
             ],
             [
              0.8888888888888888,
              "#fdca26"
             ],
             [
              1,
              "#f0f921"
             ]
            ],
            "type": "contour"
           }
          ],
          "contourcarpet": [
           {
            "colorbar": {
             "outlinewidth": 0,
             "ticks": ""
            },
            "type": "contourcarpet"
           }
          ],
          "heatmap": [
           {
            "colorbar": {
             "outlinewidth": 0,
             "ticks": ""
            },
            "colorscale": [
             [
              0,
              "#0d0887"
             ],
             [
              0.1111111111111111,
              "#46039f"
             ],
             [
              0.2222222222222222,
              "#7201a8"
             ],
             [
              0.3333333333333333,
              "#9c179e"
             ],
             [
              0.4444444444444444,
              "#bd3786"
             ],
             [
              0.5555555555555556,
              "#d8576b"
             ],
             [
              0.6666666666666666,
              "#ed7953"
             ],
             [
              0.7777777777777778,
              "#fb9f3a"
             ],
             [
              0.8888888888888888,
              "#fdca26"
             ],
             [
              1,
              "#f0f921"
             ]
            ],
            "type": "heatmap"
           }
          ],
          "heatmapgl": [
           {
            "colorbar": {
             "outlinewidth": 0,
             "ticks": ""
            },
            "colorscale": [
             [
              0,
              "#0d0887"
             ],
             [
              0.1111111111111111,
              "#46039f"
             ],
             [
              0.2222222222222222,
              "#7201a8"
             ],
             [
              0.3333333333333333,
              "#9c179e"
             ],
             [
              0.4444444444444444,
              "#bd3786"
             ],
             [
              0.5555555555555556,
              "#d8576b"
             ],
             [
              0.6666666666666666,
              "#ed7953"
             ],
             [
              0.7777777777777778,
              "#fb9f3a"
             ],
             [
              0.8888888888888888,
              "#fdca26"
             ],
             [
              1,
              "#f0f921"
             ]
            ],
            "type": "heatmapgl"
           }
          ],
          "histogram": [
           {
            "marker": {
             "pattern": {
              "fillmode": "overlay",
              "size": 10,
              "solidity": 0.2
             }
            },
            "type": "histogram"
           }
          ],
          "histogram2d": [
           {
            "colorbar": {
             "outlinewidth": 0,
             "ticks": ""
            },
            "colorscale": [
             [
              0,
              "#0d0887"
             ],
             [
              0.1111111111111111,
              "#46039f"
             ],
             [
              0.2222222222222222,
              "#7201a8"
             ],
             [
              0.3333333333333333,
              "#9c179e"
             ],
             [
              0.4444444444444444,
              "#bd3786"
             ],
             [
              0.5555555555555556,
              "#d8576b"
             ],
             [
              0.6666666666666666,
              "#ed7953"
             ],
             [
              0.7777777777777778,
              "#fb9f3a"
             ],
             [
              0.8888888888888888,
              "#fdca26"
             ],
             [
              1,
              "#f0f921"
             ]
            ],
            "type": "histogram2d"
           }
          ],
          "histogram2dcontour": [
           {
            "colorbar": {
             "outlinewidth": 0,
             "ticks": ""
            },
            "colorscale": [
             [
              0,
              "#0d0887"
             ],
             [
              0.1111111111111111,
              "#46039f"
             ],
             [
              0.2222222222222222,
              "#7201a8"
             ],
             [
              0.3333333333333333,
              "#9c179e"
             ],
             [
              0.4444444444444444,
              "#bd3786"
             ],
             [
              0.5555555555555556,
              "#d8576b"
             ],
             [
              0.6666666666666666,
              "#ed7953"
             ],
             [
              0.7777777777777778,
              "#fb9f3a"
             ],
             [
              0.8888888888888888,
              "#fdca26"
             ],
             [
              1,
              "#f0f921"
             ]
            ],
            "type": "histogram2dcontour"
           }
          ],
          "mesh3d": [
           {
            "colorbar": {
             "outlinewidth": 0,
             "ticks": ""
            },
            "type": "mesh3d"
           }
          ],
          "parcoords": [
           {
            "line": {
             "colorbar": {
              "outlinewidth": 0,
              "ticks": ""
             }
            },
            "type": "parcoords"
           }
          ],
          "pie": [
           {
            "automargin": true,
            "type": "pie"
           }
          ],
          "scatter": [
           {
            "fillpattern": {
             "fillmode": "overlay",
             "size": 10,
             "solidity": 0.2
            },
            "type": "scatter"
           }
          ],
          "scatter3d": [
           {
            "line": {
             "colorbar": {
              "outlinewidth": 0,
              "ticks": ""
             }
            },
            "marker": {
             "colorbar": {
              "outlinewidth": 0,
              "ticks": ""
             }
            },
            "type": "scatter3d"
           }
          ],
          "scattercarpet": [
           {
            "marker": {
             "colorbar": {
              "outlinewidth": 0,
              "ticks": ""
             }
            },
            "type": "scattercarpet"
           }
          ],
          "scattergeo": [
           {
            "marker": {
             "colorbar": {
              "outlinewidth": 0,
              "ticks": ""
             }
            },
            "type": "scattergeo"
           }
          ],
          "scattergl": [
           {
            "marker": {
             "colorbar": {
              "outlinewidth": 0,
              "ticks": ""
             }
            },
            "type": "scattergl"
           }
          ],
          "scattermapbox": [
           {
            "marker": {
             "colorbar": {
              "outlinewidth": 0,
              "ticks": ""
             }
            },
            "type": "scattermapbox"
           }
          ],
          "scatterpolar": [
           {
            "marker": {
             "colorbar": {
              "outlinewidth": 0,
              "ticks": ""
             }
            },
            "type": "scatterpolar"
           }
          ],
          "scatterpolargl": [
           {
            "marker": {
             "colorbar": {
              "outlinewidth": 0,
              "ticks": ""
             }
            },
            "type": "scatterpolargl"
           }
          ],
          "scatterternary": [
           {
            "marker": {
             "colorbar": {
              "outlinewidth": 0,
              "ticks": ""
             }
            },
            "type": "scatterternary"
           }
          ],
          "surface": [
           {
            "colorbar": {
             "outlinewidth": 0,
             "ticks": ""
            },
            "colorscale": [
             [
              0,
              "#0d0887"
             ],
             [
              0.1111111111111111,
              "#46039f"
             ],
             [
              0.2222222222222222,
              "#7201a8"
             ],
             [
              0.3333333333333333,
              "#9c179e"
             ],
             [
              0.4444444444444444,
              "#bd3786"
             ],
             [
              0.5555555555555556,
              "#d8576b"
             ],
             [
              0.6666666666666666,
              "#ed7953"
             ],
             [
              0.7777777777777778,
              "#fb9f3a"
             ],
             [
              0.8888888888888888,
              "#fdca26"
             ],
             [
              1,
              "#f0f921"
             ]
            ],
            "type": "surface"
           }
          ],
          "table": [
           {
            "cells": {
             "fill": {
              "color": "#EBF0F8"
             },
             "line": {
              "color": "white"
             }
            },
            "header": {
             "fill": {
              "color": "#C8D4E3"
             },
             "line": {
              "color": "white"
             }
            },
            "type": "table"
           }
          ]
         },
         "layout": {
          "annotationdefaults": {
           "arrowcolor": "#2a3f5f",
           "arrowhead": 0,
           "arrowwidth": 1
          },
          "autotypenumbers": "strict",
          "coloraxis": {
           "colorbar": {
            "outlinewidth": 0,
            "ticks": ""
           }
          },
          "colorscale": {
           "diverging": [
            [
             0,
             "#8e0152"
            ],
            [
             0.1,
             "#c51b7d"
            ],
            [
             0.2,
             "#de77ae"
            ],
            [
             0.3,
             "#f1b6da"
            ],
            [
             0.4,
             "#fde0ef"
            ],
            [
             0.5,
             "#f7f7f7"
            ],
            [
             0.6,
             "#e6f5d0"
            ],
            [
             0.7,
             "#b8e186"
            ],
            [
             0.8,
             "#7fbc41"
            ],
            [
             0.9,
             "#4d9221"
            ],
            [
             1,
             "#276419"
            ]
           ],
           "sequential": [
            [
             0,
             "#0d0887"
            ],
            [
             0.1111111111111111,
             "#46039f"
            ],
            [
             0.2222222222222222,
             "#7201a8"
            ],
            [
             0.3333333333333333,
             "#9c179e"
            ],
            [
             0.4444444444444444,
             "#bd3786"
            ],
            [
             0.5555555555555556,
             "#d8576b"
            ],
            [
             0.6666666666666666,
             "#ed7953"
            ],
            [
             0.7777777777777778,
             "#fb9f3a"
            ],
            [
             0.8888888888888888,
             "#fdca26"
            ],
            [
             1,
             "#f0f921"
            ]
           ],
           "sequentialminus": [
            [
             0,
             "#0d0887"
            ],
            [
             0.1111111111111111,
             "#46039f"
            ],
            [
             0.2222222222222222,
             "#7201a8"
            ],
            [
             0.3333333333333333,
             "#9c179e"
            ],
            [
             0.4444444444444444,
             "#bd3786"
            ],
            [
             0.5555555555555556,
             "#d8576b"
            ],
            [
             0.6666666666666666,
             "#ed7953"
            ],
            [
             0.7777777777777778,
             "#fb9f3a"
            ],
            [
             0.8888888888888888,
             "#fdca26"
            ],
            [
             1,
             "#f0f921"
            ]
           ]
          },
          "colorway": [
           "#636efa",
           "#EF553B",
           "#00cc96",
           "#ab63fa",
           "#FFA15A",
           "#19d3f3",
           "#FF6692",
           "#B6E880",
           "#FF97FF",
           "#FECB52"
          ],
          "font": {
           "color": "#2a3f5f"
          },
          "geo": {
           "bgcolor": "white",
           "lakecolor": "white",
           "landcolor": "#E5ECF6",
           "showlakes": true,
           "showland": true,
           "subunitcolor": "white"
          },
          "hoverlabel": {
           "align": "left"
          },
          "hovermode": "closest",
          "mapbox": {
           "style": "light"
          },
          "paper_bgcolor": "white",
          "plot_bgcolor": "#E5ECF6",
          "polar": {
           "angularaxis": {
            "gridcolor": "white",
            "linecolor": "white",
            "ticks": ""
           },
           "bgcolor": "#E5ECF6",
           "radialaxis": {
            "gridcolor": "white",
            "linecolor": "white",
            "ticks": ""
           }
          },
          "scene": {
           "xaxis": {
            "backgroundcolor": "#E5ECF6",
            "gridcolor": "white",
            "gridwidth": 2,
            "linecolor": "white",
            "showbackground": true,
            "ticks": "",
            "zerolinecolor": "white"
           },
           "yaxis": {
            "backgroundcolor": "#E5ECF6",
            "gridcolor": "white",
            "gridwidth": 2,
            "linecolor": "white",
            "showbackground": true,
            "ticks": "",
            "zerolinecolor": "white"
           },
           "zaxis": {
            "backgroundcolor": "#E5ECF6",
            "gridcolor": "white",
            "gridwidth": 2,
            "linecolor": "white",
            "showbackground": true,
            "ticks": "",
            "zerolinecolor": "white"
           }
          },
          "shapedefaults": {
           "line": {
            "color": "#2a3f5f"
           }
          },
          "ternary": {
           "aaxis": {
            "gridcolor": "white",
            "linecolor": "white",
            "ticks": ""
           },
           "baxis": {
            "gridcolor": "white",
            "linecolor": "white",
            "ticks": ""
           },
           "bgcolor": "#E5ECF6",
           "caxis": {
            "gridcolor": "white",
            "linecolor": "white",
            "ticks": ""
           }
          },
          "title": {
           "x": 0.05
          },
          "xaxis": {
           "automargin": true,
           "gridcolor": "white",
           "linecolor": "white",
           "ticks": "",
           "title": {
            "standoff": 15
           },
           "zerolinecolor": "white",
           "zerolinewidth": 2
          },
          "yaxis": {
           "automargin": true,
           "gridcolor": "white",
           "linecolor": "white",
           "ticks": "",
           "title": {
            "standoff": 15
           },
           "zerolinecolor": "white",
           "zerolinewidth": 2
          }
         }
        },
        "title": {
         "text": "Title"
        }
       }
      },
      "text/html": [
       "<div>                            <div id=\"2500d16c-ba3d-4159-89ed-46ec6d19e2c3\" class=\"plotly-graph-div\" style=\"height:525px; width:100%;\"></div>            <script type=\"text/javascript\">                require([\"plotly\"], function(Plotly) {                    window.PLOTLYENV=window.PLOTLYENV || {};                                    if (document.getElementById(\"2500d16c-ba3d-4159-89ed-46ec6d19e2c3\")) {                    Plotly.newPlot(                        \"2500d16c-ba3d-4159-89ed-46ec6d19e2c3\",                        [{\"branchvalues\":\"total\",\"customdata\":[[4.0],[4.0],[7.511904761904762],[4.0],[4.0],[5.834254143646409],[4.0],[3.84297520661157],[6.416382252559727],[4.0],[4.275],[7.027522935779817],[4.0],[4.0],[5.941818181818181],[4.0],[4.0],[6.273504273504273],[4.170103092783505],[4.339285714285714],[6.0046783625731],[4.0],[4.13677811550152],[5.777479892761394],[4.579158316633267],[4.0],[5.771189979123173],[4.208538587848932],[4.0],[5.890000000000001],[4.108462455303933],[4.0906127770534555],[4.210584343991179],[4.486144101346001],[4.250821744627055],[4.765018161497625],[4.0],[4.0],[4.288624787775891],[4.124410981356279],[4.084968407050216],[5.814709646456567]],\"domain\":{\"x\":[0.0,1.0],\"y\":[0.0,1.0]},\"hovertemplate\":\"labels=%{label}<br>mpg=%{value}<br>parent=%{parent}<br>id=%{id}<br>cylinders=%{color}<extra></extra>\",\"ids\":[\"europe/70\",\"japan/70\",\"usa/70\",\"europe/71\",\"japan/71\",\"usa/71\",\"europe/72\",\"japan/72\",\"usa/72\",\"europe/73\",\"japan/73\",\"usa/73\",\"europe/74\",\"japan/74\",\"usa/74\",\"europe/75\",\"japan/75\",\"usa/75\",\"europe/76\",\"japan/76\",\"usa/76\",\"europe/77\",\"japan/77\",\"usa/77\",\"europe/78\",\"japan/78\",\"usa/78\",\"europe/79\",\"japan/79\",\"usa/79\",\"europe/80\",\"japan/80\",\"usa/80\",\"europe/81\",\"japan/81\",\"usa/81\",\"europe/82\",\"japan/82\",\"usa/82\",\"europe\",\"japan\",\"usa\"],\"labels\":[\"70\",\"70\",\"70\",\"71\",\"71\",\"71\",\"72\",\"72\",\"72\",\"73\",\"73\",\"73\",\"74\",\"74\",\"74\",\"75\",\"75\",\"75\",\"76\",\"76\",\"76\",\"77\",\"77\",\"77\",\"78\",\"78\",\"78\",\"79\",\"79\",\"79\",\"80\",\"80\",\"80\",\"81\",\"81\",\"81\",\"82\",\"82\",\"82\",\"europe\",\"japan\",\"usa\"],\"marker\":{\"coloraxis\":\"coloraxis\",\"colors\":[4.0,4.0,7.511904761904762,4.0,4.0,5.834254143646409,4.0,3.84297520661157,6.416382252559727,4.0,4.275,7.027522935779817,4.0,4.0,5.941818181818181,4.0,4.0,6.273504273504273,4.170103092783505,4.339285714285714,6.0046783625731,4.0,4.13677811550152,5.777479892761394,4.579158316633267,4.0,5.771189979123173,4.208538587848932,4.0,5.890000000000001,4.108462455303933,4.0906127770534555,4.210584343991179,4.486144101346001,4.250821744627055,4.765018161497625,4.0,4.0,4.288624787775891,4.124410981356279,4.084968407050216,5.814709646456567]},\"name\":\"\",\"parents\":[\"europe\",\"japan\",\"usa\",\"europe\",\"japan\",\"usa\",\"europe\",\"japan\",\"usa\",\"europe\",\"japan\",\"usa\",\"europe\",\"japan\",\"usa\",\"europe\",\"japan\",\"usa\",\"europe\",\"japan\",\"usa\",\"europe\",\"japan\",\"usa\",\"europe\",\"japan\",\"usa\",\"europe\",\"japan\",\"usa\",\"europe\",\"japan\",\"usa\",\"europe\",\"japan\",\"usa\",\"europe\",\"japan\",\"usa\",\"\",\"\",\"\"],\"values\":[126.0,51.0,336.0,115.0,118.0,362.0,110.0,121.0,293.0,168.0,80.0,436.0,162.0,176.0,275.0,147.0,110.0,351.0,194.0,112.0,427.5,117.0,164.5,373.0,149.7,237.5,479.0,121.8,65.9,540.0,335.6,460.2,181.4,126.3,395.5,357.9,80.0,314.0,589.0,1952.4,2405.6,5000.8],\"type\":\"sunburst\"}],                        {\"template\":{\"data\":{\"histogram2dcontour\":[{\"type\":\"histogram2dcontour\",\"colorbar\":{\"outlinewidth\":0,\"ticks\":\"\"},\"colorscale\":[[0.0,\"#0d0887\"],[0.1111111111111111,\"#46039f\"],[0.2222222222222222,\"#7201a8\"],[0.3333333333333333,\"#9c179e\"],[0.4444444444444444,\"#bd3786\"],[0.5555555555555556,\"#d8576b\"],[0.6666666666666666,\"#ed7953\"],[0.7777777777777778,\"#fb9f3a\"],[0.8888888888888888,\"#fdca26\"],[1.0,\"#f0f921\"]]}],\"choropleth\":[{\"type\":\"choropleth\",\"colorbar\":{\"outlinewidth\":0,\"ticks\":\"\"}}],\"histogram2d\":[{\"type\":\"histogram2d\",\"colorbar\":{\"outlinewidth\":0,\"ticks\":\"\"},\"colorscale\":[[0.0,\"#0d0887\"],[0.1111111111111111,\"#46039f\"],[0.2222222222222222,\"#7201a8\"],[0.3333333333333333,\"#9c179e\"],[0.4444444444444444,\"#bd3786\"],[0.5555555555555556,\"#d8576b\"],[0.6666666666666666,\"#ed7953\"],[0.7777777777777778,\"#fb9f3a\"],[0.8888888888888888,\"#fdca26\"],[1.0,\"#f0f921\"]]}],\"heatmap\":[{\"type\":\"heatmap\",\"colorbar\":{\"outlinewidth\":0,\"ticks\":\"\"},\"colorscale\":[[0.0,\"#0d0887\"],[0.1111111111111111,\"#46039f\"],[0.2222222222222222,\"#7201a8\"],[0.3333333333333333,\"#9c179e\"],[0.4444444444444444,\"#bd3786\"],[0.5555555555555556,\"#d8576b\"],[0.6666666666666666,\"#ed7953\"],[0.7777777777777778,\"#fb9f3a\"],[0.8888888888888888,\"#fdca26\"],[1.0,\"#f0f921\"]]}],\"heatmapgl\":[{\"type\":\"heatmapgl\",\"colorbar\":{\"outlinewidth\":0,\"ticks\":\"\"},\"colorscale\":[[0.0,\"#0d0887\"],[0.1111111111111111,\"#46039f\"],[0.2222222222222222,\"#7201a8\"],[0.3333333333333333,\"#9c179e\"],[0.4444444444444444,\"#bd3786\"],[0.5555555555555556,\"#d8576b\"],[0.6666666666666666,\"#ed7953\"],[0.7777777777777778,\"#fb9f3a\"],[0.8888888888888888,\"#fdca26\"],[1.0,\"#f0f921\"]]}],\"contourcarpet\":[{\"type\":\"contourcarpet\",\"colorbar\":{\"outlinewidth\":0,\"ticks\":\"\"}}],\"contour\":[{\"type\":\"contour\",\"colorbar\":{\"outlinewidth\":0,\"ticks\":\"\"},\"colorscale\":[[0.0,\"#0d0887\"],[0.1111111111111111,\"#46039f\"],[0.2222222222222222,\"#7201a8\"],[0.3333333333333333,\"#9c179e\"],[0.4444444444444444,\"#bd3786\"],[0.5555555555555556,\"#d8576b\"],[0.6666666666666666,\"#ed7953\"],[0.7777777777777778,\"#fb9f3a\"],[0.8888888888888888,\"#fdca26\"],[1.0,\"#f0f921\"]]}],\"surface\":[{\"type\":\"surface\",\"colorbar\":{\"outlinewidth\":0,\"ticks\":\"\"},\"colorscale\":[[0.0,\"#0d0887\"],[0.1111111111111111,\"#46039f\"],[0.2222222222222222,\"#7201a8\"],[0.3333333333333333,\"#9c179e\"],[0.4444444444444444,\"#bd3786\"],[0.5555555555555556,\"#d8576b\"],[0.6666666666666666,\"#ed7953\"],[0.7777777777777778,\"#fb9f3a\"],[0.8888888888888888,\"#fdca26\"],[1.0,\"#f0f921\"]]}],\"mesh3d\":[{\"type\":\"mesh3d\",\"colorbar\":{\"outlinewidth\":0,\"ticks\":\"\"}}],\"scatter\":[{\"fillpattern\":{\"fillmode\":\"overlay\",\"size\":10,\"solidity\":0.2},\"type\":\"scatter\"}],\"parcoords\":[{\"type\":\"parcoords\",\"line\":{\"colorbar\":{\"outlinewidth\":0,\"ticks\":\"\"}}}],\"scatterpolargl\":[{\"type\":\"scatterpolargl\",\"marker\":{\"colorbar\":{\"outlinewidth\":0,\"ticks\":\"\"}}}],\"bar\":[{\"error_x\":{\"color\":\"#2a3f5f\"},\"error_y\":{\"color\":\"#2a3f5f\"},\"marker\":{\"line\":{\"color\":\"#E5ECF6\",\"width\":0.5},\"pattern\":{\"fillmode\":\"overlay\",\"size\":10,\"solidity\":0.2}},\"type\":\"bar\"}],\"scattergeo\":[{\"type\":\"scattergeo\",\"marker\":{\"colorbar\":{\"outlinewidth\":0,\"ticks\":\"\"}}}],\"scatterpolar\":[{\"type\":\"scatterpolar\",\"marker\":{\"colorbar\":{\"outlinewidth\":0,\"ticks\":\"\"}}}],\"histogram\":[{\"marker\":{\"pattern\":{\"fillmode\":\"overlay\",\"size\":10,\"solidity\":0.2}},\"type\":\"histogram\"}],\"scattergl\":[{\"type\":\"scattergl\",\"marker\":{\"colorbar\":{\"outlinewidth\":0,\"ticks\":\"\"}}}],\"scatter3d\":[{\"type\":\"scatter3d\",\"line\":{\"colorbar\":{\"outlinewidth\":0,\"ticks\":\"\"}},\"marker\":{\"colorbar\":{\"outlinewidth\":0,\"ticks\":\"\"}}}],\"scattermapbox\":[{\"type\":\"scattermapbox\",\"marker\":{\"colorbar\":{\"outlinewidth\":0,\"ticks\":\"\"}}}],\"scatterternary\":[{\"type\":\"scatterternary\",\"marker\":{\"colorbar\":{\"outlinewidth\":0,\"ticks\":\"\"}}}],\"scattercarpet\":[{\"type\":\"scattercarpet\",\"marker\":{\"colorbar\":{\"outlinewidth\":0,\"ticks\":\"\"}}}],\"carpet\":[{\"aaxis\":{\"endlinecolor\":\"#2a3f5f\",\"gridcolor\":\"white\",\"linecolor\":\"white\",\"minorgridcolor\":\"white\",\"startlinecolor\":\"#2a3f5f\"},\"baxis\":{\"endlinecolor\":\"#2a3f5f\",\"gridcolor\":\"white\",\"linecolor\":\"white\",\"minorgridcolor\":\"white\",\"startlinecolor\":\"#2a3f5f\"},\"type\":\"carpet\"}],\"table\":[{\"cells\":{\"fill\":{\"color\":\"#EBF0F8\"},\"line\":{\"color\":\"white\"}},\"header\":{\"fill\":{\"color\":\"#C8D4E3\"},\"line\":{\"color\":\"white\"}},\"type\":\"table\"}],\"barpolar\":[{\"marker\":{\"line\":{\"color\":\"#E5ECF6\",\"width\":0.5},\"pattern\":{\"fillmode\":\"overlay\",\"size\":10,\"solidity\":0.2}},\"type\":\"barpolar\"}],\"pie\":[{\"automargin\":true,\"type\":\"pie\"}]},\"layout\":{\"autotypenumbers\":\"strict\",\"colorway\":[\"#636efa\",\"#EF553B\",\"#00cc96\",\"#ab63fa\",\"#FFA15A\",\"#19d3f3\",\"#FF6692\",\"#B6E880\",\"#FF97FF\",\"#FECB52\"],\"font\":{\"color\":\"#2a3f5f\"},\"hovermode\":\"closest\",\"hoverlabel\":{\"align\":\"left\"},\"paper_bgcolor\":\"white\",\"plot_bgcolor\":\"#E5ECF6\",\"polar\":{\"bgcolor\":\"#E5ECF6\",\"angularaxis\":{\"gridcolor\":\"white\",\"linecolor\":\"white\",\"ticks\":\"\"},\"radialaxis\":{\"gridcolor\":\"white\",\"linecolor\":\"white\",\"ticks\":\"\"}},\"ternary\":{\"bgcolor\":\"#E5ECF6\",\"aaxis\":{\"gridcolor\":\"white\",\"linecolor\":\"white\",\"ticks\":\"\"},\"baxis\":{\"gridcolor\":\"white\",\"linecolor\":\"white\",\"ticks\":\"\"},\"caxis\":{\"gridcolor\":\"white\",\"linecolor\":\"white\",\"ticks\":\"\"}},\"coloraxis\":{\"colorbar\":{\"outlinewidth\":0,\"ticks\":\"\"}},\"colorscale\":{\"sequential\":[[0.0,\"#0d0887\"],[0.1111111111111111,\"#46039f\"],[0.2222222222222222,\"#7201a8\"],[0.3333333333333333,\"#9c179e\"],[0.4444444444444444,\"#bd3786\"],[0.5555555555555556,\"#d8576b\"],[0.6666666666666666,\"#ed7953\"],[0.7777777777777778,\"#fb9f3a\"],[0.8888888888888888,\"#fdca26\"],[1.0,\"#f0f921\"]],\"sequentialminus\":[[0.0,\"#0d0887\"],[0.1111111111111111,\"#46039f\"],[0.2222222222222222,\"#7201a8\"],[0.3333333333333333,\"#9c179e\"],[0.4444444444444444,\"#bd3786\"],[0.5555555555555556,\"#d8576b\"],[0.6666666666666666,\"#ed7953\"],[0.7777777777777778,\"#fb9f3a\"],[0.8888888888888888,\"#fdca26\"],[1.0,\"#f0f921\"]],\"diverging\":[[0,\"#8e0152\"],[0.1,\"#c51b7d\"],[0.2,\"#de77ae\"],[0.3,\"#f1b6da\"],[0.4,\"#fde0ef\"],[0.5,\"#f7f7f7\"],[0.6,\"#e6f5d0\"],[0.7,\"#b8e186\"],[0.8,\"#7fbc41\"],[0.9,\"#4d9221\"],[1,\"#276419\"]]},\"xaxis\":{\"gridcolor\":\"white\",\"linecolor\":\"white\",\"ticks\":\"\",\"title\":{\"standoff\":15},\"zerolinecolor\":\"white\",\"automargin\":true,\"zerolinewidth\":2},\"yaxis\":{\"gridcolor\":\"white\",\"linecolor\":\"white\",\"ticks\":\"\",\"title\":{\"standoff\":15},\"zerolinecolor\":\"white\",\"automargin\":true,\"zerolinewidth\":2},\"scene\":{\"xaxis\":{\"backgroundcolor\":\"#E5ECF6\",\"gridcolor\":\"white\",\"linecolor\":\"white\",\"showbackground\":true,\"ticks\":\"\",\"zerolinecolor\":\"white\",\"gridwidth\":2},\"yaxis\":{\"backgroundcolor\":\"#E5ECF6\",\"gridcolor\":\"white\",\"linecolor\":\"white\",\"showbackground\":true,\"ticks\":\"\",\"zerolinecolor\":\"white\",\"gridwidth\":2},\"zaxis\":{\"backgroundcolor\":\"#E5ECF6\",\"gridcolor\":\"white\",\"linecolor\":\"white\",\"showbackground\":true,\"ticks\":\"\",\"zerolinecolor\":\"white\",\"gridwidth\":2}},\"shapedefaults\":{\"line\":{\"color\":\"#2a3f5f\"}},\"annotationdefaults\":{\"arrowcolor\":\"#2a3f5f\",\"arrowhead\":0,\"arrowwidth\":1},\"geo\":{\"bgcolor\":\"white\",\"landcolor\":\"#E5ECF6\",\"subunitcolor\":\"white\",\"showland\":true,\"showlakes\":true,\"lakecolor\":\"white\"},\"title\":{\"x\":0.05},\"mapbox\":{\"style\":\"light\"}}},\"coloraxis\":{\"colorbar\":{\"title\":{\"text\":\"cylinders\"}},\"colorscale\":[[0.0,\"#0d0887\"],[0.1111111111111111,\"#46039f\"],[0.2222222222222222,\"#7201a8\"],[0.3333333333333333,\"#9c179e\"],[0.4444444444444444,\"#bd3786\"],[0.5555555555555556,\"#d8576b\"],[0.6666666666666666,\"#ed7953\"],[0.7777777777777778,\"#fb9f3a\"],[0.8888888888888888,\"#fdca26\"],[1.0,\"#f0f921\"]]},\"legend\":{\"tracegroupgap\":0},\"title\":{\"text\":\"Title\"}},                        {\"responsive\": true}                    ).then(function(){\n",
       "                            \n",
       "var gd = document.getElementById('2500d16c-ba3d-4159-89ed-46ec6d19e2c3');\n",
       "var x = new MutationObserver(function (mutations, observer) {{\n",
       "        var display = window.getComputedStyle(gd).display;\n",
       "        if (!display || display === 'none') {{\n",
       "            console.log([gd, 'removed!']);\n",
       "            Plotly.purge(gd);\n",
       "            observer.disconnect();\n",
       "        }}\n",
       "}});\n",
       "\n",
       "// Listen for the removal of the full notebook cells\n",
       "var notebookContainer = gd.closest('#notebook-container');\n",
       "if (notebookContainer) {{\n",
       "    x.observe(notebookContainer, {childList: true});\n",
       "}}\n",
       "\n",
       "// Listen for the clearing of the current output cell\n",
       "var outputEl = gd.closest('.output');\n",
       "if (outputEl) {{\n",
       "    x.observe(outputEl, {childList: true});\n",
       "}}\n",
       "\n",
       "                        })                };                });            </script>        </div>"
      ]
     },
     "metadata": {},
     "output_type": "display_data"
    }
   ],
   "source": [
    "px.sunburst(data,values = \"mpg\", path = [\"origin\", \"model_year\"], color = \"cylinders\", title = \"Title\")"
   ]
  },
  {
   "cell_type": "code",
   "execution_count": 57,
   "id": "fd83bc97",
   "metadata": {},
   "outputs": [
    {
     "data": {
      "application/vnd.plotly.v1+json": {
       "config": {
        "plotlyServerURL": "https://plot.ly"
       },
       "data": [
        {
         "hovertemplate": "origin=usa<br>mpg=%{x}<br>horsepower=%{y}<br>cylinders=%{marker.size}<extra></extra>",
         "legendgroup": "usa",
         "marker": {
          "color": "#636efa",
          "size": [
           8,
           8,
           8,
           8,
           8,
           8,
           8,
           8,
           8,
           8,
           8,
           8,
           8,
           8,
           6,
           6,
           6,
           6,
           8,
           8,
           8,
           8,
           4,
           4,
           6,
           6,
           6,
           6,
           6,
           8,
           8,
           8,
           8,
           8,
           8,
           8,
           6,
           4,
           6,
           6,
           4,
           4,
           4,
           4,
           4,
           8,
           8,
           8,
           8,
           8,
           8,
           8,
           8,
           8,
           8,
           8,
           8,
           8,
           4,
           4,
           8,
           8,
           8,
           8,
           8,
           8,
           8,
           8,
           8,
           8,
           8,
           8,
           6,
           6,
           6,
           6,
           6,
           8,
           8,
           8,
           8,
           6,
           4,
           4,
           6,
           8,
           8,
           8,
           8,
           6,
           6,
           6,
           6,
           4,
           4,
           6,
           6,
           6,
           8,
           8,
           8,
           8,
           8,
           4,
           6,
           6,
           6,
           6,
           8,
           8,
           8,
           8,
           6,
           6,
           6,
           6,
           6,
           8,
           8,
           4,
           6,
           4,
           6,
           6,
           4,
           4,
           8,
           8,
           8,
           8,
           6,
           6,
           6,
           6,
           4,
           4,
           6,
           6,
           6,
           6,
           4,
           8,
           8,
           8,
           8,
           8,
           4,
           4,
           8,
           8,
           8,
           8,
           6,
           6,
           6,
           6,
           8,
           8,
           8,
           8,
           4,
           4,
           4,
           4,
           4,
           8,
           8,
           8,
           6,
           6,
           6,
           4,
           6,
           6,
           6,
           6,
           6,
           6,
           8,
           6,
           8,
           8,
           4,
           4,
           4,
           4,
           6,
           6,
           4,
           6,
           6,
           8,
           8,
           8,
           8,
           8,
           8,
           8,
           8,
           4,
           4,
           8,
           8,
           4,
           4,
           4,
           6,
           6,
           4,
           4,
           4,
           4,
           4,
           6,
           4,
           4,
           4,
           4,
           4,
           6,
           4,
           4,
           4,
           4,
           4,
           6,
           8,
           6,
           6,
           4,
           4,
           4,
           4,
           4,
           4,
           4,
           4,
           4,
           4,
           6,
           6,
           4,
           6,
           4,
           4,
           4,
           4,
           4,
           4
          ],
          "sizemode": "area",
          "sizeref": 0.008888888888888889,
          "symbol": "circle"
         },
         "mode": "markers",
         "name": "usa",
         "orientation": "v",
         "showlegend": true,
         "type": "scatter",
         "x": [
          18,
          15,
          18,
          16,
          17,
          15,
          14,
          14,
          14,
          15,
          15,
          14,
          15,
          14,
          22,
          18,
          21,
          21,
          10,
          10,
          11,
          9,
          28,
          25,
          19,
          16,
          17,
          19,
          18,
          14,
          14,
          14,
          14,
          12,
          13,
          13,
          18,
          22,
          19,
          18,
          23,
          26,
          25,
          20,
          21,
          13,
          14,
          15,
          14,
          17,
          11,
          13,
          12,
          13,
          15,
          13,
          13,
          14,
          22,
          28,
          13,
          14,
          13,
          14,
          15,
          12,
          13,
          13,
          14,
          13,
          12,
          13,
          18,
          16,
          18,
          18,
          23,
          11,
          12,
          13,
          12,
          18,
          21,
          19,
          21,
          15,
          16,
          15,
          11,
          20,
          21,
          19,
          15,
          26,
          25,
          16,
          16,
          18,
          16,
          13,
          14,
          14,
          14,
          28,
          19,
          18,
          15,
          15,
          16,
          15,
          16,
          14,
          17,
          16,
          15,
          18,
          21,
          20,
          13,
          23,
          20,
          23,
          18,
          19,
          25,
          26,
          17.5,
          16,
          15.5,
          14.5,
          22,
          22,
          24,
          22.5,
          29,
          24.5,
          20,
          18,
          18.5,
          17.5,
          26.5,
          13,
          16.5,
          13,
          13,
          13,
          30,
          25.5,
          17.5,
          17,
          15.5,
          15,
          17.5,
          20.5,
          19,
          18.5,
          16,
          15.5,
          15.5,
          16,
          24.5,
          25.5,
          30.5,
          33.5,
          36.1,
          19.9,
          19.4,
          20.2,
          19.2,
          20.5,
          20.2,
          25.1,
          20.5,
          19.4,
          20.6,
          20.8,
          18.6,
          18.1,
          19.2,
          17.7,
          18.1,
          17.5,
          30,
          30.9,
          23.2,
          23.8,
          21.5,
          19.8,
          22.3,
          20.2,
          20.6,
          17,
          17.6,
          16.5,
          18.2,
          16.9,
          15.5,
          19.2,
          18.5,
          35.7,
          27.4,
          23,
          23.9,
          34.2,
          34.5,
          28.4,
          28.8,
          26.8,
          33.5,
          32.1,
          28,
          26.4,
          24.3,
          19.1,
          27.9,
          23.6,
          27.2,
          26.6,
          25.8,
          23.5,
          30,
          39,
          34.7,
          34.4,
          29.9,
          22.4,
          26.6,
          20.2,
          17.6,
          28,
          27,
          34,
          31,
          29,
          27,
          24,
          23,
          38,
          36,
          25,
          38,
          26,
          22,
          36,
          27,
          27,
          32,
          28,
          31
         ],
         "xaxis": "x",
         "y": [
          130,
          165,
          150,
          150,
          140,
          198,
          220,
          215,
          225,
          190,
          170,
          160,
          150,
          225,
          95,
          97,
          85,
          90,
          215,
          200,
          210,
          193,
          90,
          null,
          100,
          105,
          100,
          88,
          100,
          165,
          175,
          153,
          150,
          180,
          170,
          175,
          110,
          72,
          100,
          88,
          86,
          70,
          80,
          90,
          86,
          165,
          175,
          150,
          153,
          150,
          208,
          155,
          160,
          190,
          150,
          130,
          140,
          150,
          86,
          80,
          175,
          150,
          145,
          137,
          150,
          198,
          150,
          158,
          150,
          215,
          225,
          175,
          105,
          100,
          100,
          88,
          95,
          150,
          167,
          170,
          180,
          100,
          72,
          85,
          107,
          145,
          230,
          150,
          180,
          95,
          null,
          100,
          100,
          80,
          75,
          100,
          110,
          105,
          140,
          150,
          150,
          140,
          150,
          75,
          95,
          105,
          72,
          72,
          170,
          145,
          150,
          148,
          110,
          105,
          110,
          95,
          110,
          110,
          129,
          83,
          100,
          78,
          97,
          90,
          92,
          79,
          140,
          150,
          120,
          152,
          100,
          105,
          81,
          90,
          52,
          60,
          100,
          78,
          110,
          95,
          72,
          150,
          180,
          145,
          130,
          150,
          80,
          96,
          145,
          110,
          145,
          130,
          110,
          105,
          100,
          98,
          180,
          170,
          190,
          149,
          88,
          89,
          63,
          83,
          66,
          110,
          140,
          139,
          105,
          95,
          85,
          88,
          100,
          90,
          105,
          85,
          110,
          120,
          145,
          165,
          139,
          140,
          68,
          75,
          105,
          85,
          115,
          85,
          88,
          90,
          110,
          130,
          129,
          138,
          135,
          155,
          142,
          125,
          150,
          80,
          80,
          125,
          90,
          70,
          70,
          90,
          115,
          115,
          90,
          70,
          90,
          88,
          90,
          90,
          105,
          null,
          84,
          84,
          92,
          110,
          84,
          64,
          63,
          65,
          65,
          110,
          105,
          88,
          85,
          88,
          88,
          88,
          85,
          84,
          90,
          92,
          null,
          63,
          70,
          110,
          85,
          92,
          112,
          84,
          90,
          86,
          84,
          79,
          82
         ],
         "yaxis": "y"
        },
        {
         "hovertemplate": "origin=japan<br>mpg=%{x}<br>horsepower=%{y}<br>cylinders=%{marker.size}<extra></extra>",
         "legendgroup": "japan",
         "marker": {
          "color": "#EF553B",
          "size": [
           4,
           4,
           4,
           4,
           4,
           4,
           4,
           3,
           4,
           4,
           4,
           4,
           4,
           3,
           6,
           4,
           4,
           4,
           4,
           4,
           4,
           4,
           4,
           4,
           4,
           4,
           4,
           4,
           6,
           4,
           4,
           4,
           4,
           6,
           3,
           4,
           4,
           4,
           4,
           4,
           4,
           4,
           4,
           4,
           4,
           4,
           4,
           4,
           4,
           4,
           4,
           4,
           4,
           4,
           4,
           6,
           3,
           4,
           4,
           4,
           4,
           4,
           4,
           4,
           4,
           4,
           4,
           4,
           6,
           6,
           4,
           4,
           4,
           4,
           4,
           4,
           4,
           4,
           4
          ],
          "sizemode": "area",
          "sizeref": 0.008888888888888889,
          "symbol": "circle"
         },
         "mode": "markers",
         "name": "japan",
         "orientation": "v",
         "showlegend": true,
         "type": "scatter",
         "x": [
          24,
          27,
          27,
          25,
          31,
          35,
          24,
          19,
          28,
          23,
          27,
          20,
          22,
          18,
          20,
          31,
          32,
          31,
          32,
          24,
          26,
          29,
          24,
          24,
          33,
          33,
          32,
          28,
          19,
          31.5,
          33.5,
          26,
          30,
          22,
          21.5,
          32.8,
          39.4,
          36.1,
          27.5,
          27.2,
          21.1,
          23.9,
          29.5,
          34.1,
          31.8,
          38.1,
          37.2,
          29.8,
          31.3,
          37,
          32.2,
          46.6,
          40.8,
          44.6,
          33.8,
          32.7,
          23.7,
          32.4,
          39.1,
          35.1,
          32.3,
          37,
          37.7,
          34.1,
          33.7,
          32.4,
          32.9,
          31.6,
          25.4,
          24.2,
          37,
          31,
          36,
          36,
          34,
          38,
          32,
          38,
          32
         ],
         "xaxis": "x",
         "y": [
          95,
          88,
          88,
          95,
          65,
          69,
          95,
          97,
          92,
          97,
          88,
          88,
          94,
          90,
          122,
          67,
          65,
          52,
          61,
          97,
          93,
          75,
          96,
          97,
          53,
          53,
          70,
          75,
          108,
          68,
          70,
          75,
          67,
          97,
          110,
          52,
          70,
          60,
          95,
          97,
          95,
          97,
          68,
          65,
          65,
          60,
          65,
          90,
          75,
          92,
          75,
          65,
          65,
          67,
          67,
          132,
          100,
          72,
          58,
          60,
          67,
          65,
          62,
          68,
          75,
          75,
          100,
          74,
          116,
          120,
          68,
          68,
          88,
          75,
          70,
          67,
          67,
          67,
          96
         ],
         "yaxis": "y"
        },
        {
         "hovertemplate": "origin=europe<br>mpg=%{x}<br>horsepower=%{y}<br>cylinders=%{marker.size}<extra></extra>",
         "legendgroup": "europe",
         "marker": {
          "color": "#00cc96",
          "size": [
           4,
           4,
           4,
           4,
           4,
           4,
           4,
           4,
           4,
           4,
           4,
           4,
           4,
           4,
           4,
           4,
           4,
           4,
           4,
           4,
           4,
           4,
           4,
           4,
           4,
           4,
           4,
           4,
           4,
           4,
           4,
           4,
           4,
           4,
           4,
           4,
           4,
           4,
           4,
           4,
           6,
           4,
           4,
           4,
           4,
           4,
           5,
           6,
           4,
           6,
           4,
           4,
           5,
           4,
           4,
           4,
           4,
           4,
           4,
           5,
           4,
           4,
           4,
           4,
           4,
           4,
           4,
           6,
           4,
           4
          ],
          "sizemode": "area",
          "sizeref": 0.008888888888888889,
          "symbol": "circle"
         },
         "mode": "markers",
         "name": "europe",
         "orientation": "v",
         "showlegend": true,
         "type": "scatter",
         "x": [
          26,
          25,
          24,
          25,
          26,
          28,
          30,
          30,
          27,
          23,
          18,
          22,
          21,
          26,
          26,
          26,
          29,
          24,
          20,
          19,
          24,
          29,
          26,
          26,
          24,
          26,
          31,
          25,
          29,
          23,
          23,
          22,
          25,
          28,
          25,
          27,
          29,
          29.5,
          20,
          19,
          16.5,
          36,
          29,
          30.5,
          21.5,
          43.1,
          20.3,
          17,
          21.6,
          16.2,
          31.5,
          31.9,
          25.4,
          27.2,
          37.3,
          41.5,
          34.3,
          44.3,
          43.4,
          36.4,
          30,
          40.9,
          29.8,
          35,
          33,
          34.5,
          28.1,
          30.7,
          36,
          44
         ],
         "xaxis": "x",
         "y": [
          46,
          87,
          90,
          95,
          113,
          90,
          70,
          76,
          60,
          54,
          112,
          76,
          87,
          69,
          46,
          90,
          49,
          75,
          91,
          112,
          110,
          83,
          67,
          78,
          75,
          75,
          67,
          71,
          70,
          95,
          88,
          98,
          115,
          86,
          81,
          83,
          70,
          71,
          102,
          88,
          120,
          58,
          78,
          78,
          110,
          48,
          103,
          125,
          115,
          133,
          71,
          71,
          77,
          71,
          69,
          76,
          78,
          48,
          48,
          67,
          67,
          null,
          62,
          88,
          74,
          null,
          80,
          76,
          74,
          52
         ],
         "yaxis": "y"
        }
       ],
       "layout": {
        "legend": {
         "itemsizing": "constant",
         "title": {
          "text": "origin"
         },
         "tracegroupgap": 0
        },
        "margin": {
         "t": 60
        },
        "template": {
         "data": {
          "bar": [
           {
            "error_x": {
             "color": "#2a3f5f"
            },
            "error_y": {
             "color": "#2a3f5f"
            },
            "marker": {
             "line": {
              "color": "#E5ECF6",
              "width": 0.5
             },
             "pattern": {
              "fillmode": "overlay",
              "size": 10,
              "solidity": 0.2
             }
            },
            "type": "bar"
           }
          ],
          "barpolar": [
           {
            "marker": {
             "line": {
              "color": "#E5ECF6",
              "width": 0.5
             },
             "pattern": {
              "fillmode": "overlay",
              "size": 10,
              "solidity": 0.2
             }
            },
            "type": "barpolar"
           }
          ],
          "carpet": [
           {
            "aaxis": {
             "endlinecolor": "#2a3f5f",
             "gridcolor": "white",
             "linecolor": "white",
             "minorgridcolor": "white",
             "startlinecolor": "#2a3f5f"
            },
            "baxis": {
             "endlinecolor": "#2a3f5f",
             "gridcolor": "white",
             "linecolor": "white",
             "minorgridcolor": "white",
             "startlinecolor": "#2a3f5f"
            },
            "type": "carpet"
           }
          ],
          "choropleth": [
           {
            "colorbar": {
             "outlinewidth": 0,
             "ticks": ""
            },
            "type": "choropleth"
           }
          ],
          "contour": [
           {
            "colorbar": {
             "outlinewidth": 0,
             "ticks": ""
            },
            "colorscale": [
             [
              0,
              "#0d0887"
             ],
             [
              0.1111111111111111,
              "#46039f"
             ],
             [
              0.2222222222222222,
              "#7201a8"
             ],
             [
              0.3333333333333333,
              "#9c179e"
             ],
             [
              0.4444444444444444,
              "#bd3786"
             ],
             [
              0.5555555555555556,
              "#d8576b"
             ],
             [
              0.6666666666666666,
              "#ed7953"
             ],
             [
              0.7777777777777778,
              "#fb9f3a"
             ],
             [
              0.8888888888888888,
              "#fdca26"
             ],
             [
              1,
              "#f0f921"
             ]
            ],
            "type": "contour"
           }
          ],
          "contourcarpet": [
           {
            "colorbar": {
             "outlinewidth": 0,
             "ticks": ""
            },
            "type": "contourcarpet"
           }
          ],
          "heatmap": [
           {
            "colorbar": {
             "outlinewidth": 0,
             "ticks": ""
            },
            "colorscale": [
             [
              0,
              "#0d0887"
             ],
             [
              0.1111111111111111,
              "#46039f"
             ],
             [
              0.2222222222222222,
              "#7201a8"
             ],
             [
              0.3333333333333333,
              "#9c179e"
             ],
             [
              0.4444444444444444,
              "#bd3786"
             ],
             [
              0.5555555555555556,
              "#d8576b"
             ],
             [
              0.6666666666666666,
              "#ed7953"
             ],
             [
              0.7777777777777778,
              "#fb9f3a"
             ],
             [
              0.8888888888888888,
              "#fdca26"
             ],
             [
              1,
              "#f0f921"
             ]
            ],
            "type": "heatmap"
           }
          ],
          "heatmapgl": [
           {
            "colorbar": {
             "outlinewidth": 0,
             "ticks": ""
            },
            "colorscale": [
             [
              0,
              "#0d0887"
             ],
             [
              0.1111111111111111,
              "#46039f"
             ],
             [
              0.2222222222222222,
              "#7201a8"
             ],
             [
              0.3333333333333333,
              "#9c179e"
             ],
             [
              0.4444444444444444,
              "#bd3786"
             ],
             [
              0.5555555555555556,
              "#d8576b"
             ],
             [
              0.6666666666666666,
              "#ed7953"
             ],
             [
              0.7777777777777778,
              "#fb9f3a"
             ],
             [
              0.8888888888888888,
              "#fdca26"
             ],
             [
              1,
              "#f0f921"
             ]
            ],
            "type": "heatmapgl"
           }
          ],
          "histogram": [
           {
            "marker": {
             "pattern": {
              "fillmode": "overlay",
              "size": 10,
              "solidity": 0.2
             }
            },
            "type": "histogram"
           }
          ],
          "histogram2d": [
           {
            "colorbar": {
             "outlinewidth": 0,
             "ticks": ""
            },
            "colorscale": [
             [
              0,
              "#0d0887"
             ],
             [
              0.1111111111111111,
              "#46039f"
             ],
             [
              0.2222222222222222,
              "#7201a8"
             ],
             [
              0.3333333333333333,
              "#9c179e"
             ],
             [
              0.4444444444444444,
              "#bd3786"
             ],
             [
              0.5555555555555556,
              "#d8576b"
             ],
             [
              0.6666666666666666,
              "#ed7953"
             ],
             [
              0.7777777777777778,
              "#fb9f3a"
             ],
             [
              0.8888888888888888,
              "#fdca26"
             ],
             [
              1,
              "#f0f921"
             ]
            ],
            "type": "histogram2d"
           }
          ],
          "histogram2dcontour": [
           {
            "colorbar": {
             "outlinewidth": 0,
             "ticks": ""
            },
            "colorscale": [
             [
              0,
              "#0d0887"
             ],
             [
              0.1111111111111111,
              "#46039f"
             ],
             [
              0.2222222222222222,
              "#7201a8"
             ],
             [
              0.3333333333333333,
              "#9c179e"
             ],
             [
              0.4444444444444444,
              "#bd3786"
             ],
             [
              0.5555555555555556,
              "#d8576b"
             ],
             [
              0.6666666666666666,
              "#ed7953"
             ],
             [
              0.7777777777777778,
              "#fb9f3a"
             ],
             [
              0.8888888888888888,
              "#fdca26"
             ],
             [
              1,
              "#f0f921"
             ]
            ],
            "type": "histogram2dcontour"
           }
          ],
          "mesh3d": [
           {
            "colorbar": {
             "outlinewidth": 0,
             "ticks": ""
            },
            "type": "mesh3d"
           }
          ],
          "parcoords": [
           {
            "line": {
             "colorbar": {
              "outlinewidth": 0,
              "ticks": ""
             }
            },
            "type": "parcoords"
           }
          ],
          "pie": [
           {
            "automargin": true,
            "type": "pie"
           }
          ],
          "scatter": [
           {
            "fillpattern": {
             "fillmode": "overlay",
             "size": 10,
             "solidity": 0.2
            },
            "type": "scatter"
           }
          ],
          "scatter3d": [
           {
            "line": {
             "colorbar": {
              "outlinewidth": 0,
              "ticks": ""
             }
            },
            "marker": {
             "colorbar": {
              "outlinewidth": 0,
              "ticks": ""
             }
            },
            "type": "scatter3d"
           }
          ],
          "scattercarpet": [
           {
            "marker": {
             "colorbar": {
              "outlinewidth": 0,
              "ticks": ""
             }
            },
            "type": "scattercarpet"
           }
          ],
          "scattergeo": [
           {
            "marker": {
             "colorbar": {
              "outlinewidth": 0,
              "ticks": ""
             }
            },
            "type": "scattergeo"
           }
          ],
          "scattergl": [
           {
            "marker": {
             "colorbar": {
              "outlinewidth": 0,
              "ticks": ""
             }
            },
            "type": "scattergl"
           }
          ],
          "scattermapbox": [
           {
            "marker": {
             "colorbar": {
              "outlinewidth": 0,
              "ticks": ""
             }
            },
            "type": "scattermapbox"
           }
          ],
          "scatterpolar": [
           {
            "marker": {
             "colorbar": {
              "outlinewidth": 0,
              "ticks": ""
             }
            },
            "type": "scatterpolar"
           }
          ],
          "scatterpolargl": [
           {
            "marker": {
             "colorbar": {
              "outlinewidth": 0,
              "ticks": ""
             }
            },
            "type": "scatterpolargl"
           }
          ],
          "scatterternary": [
           {
            "marker": {
             "colorbar": {
              "outlinewidth": 0,
              "ticks": ""
             }
            },
            "type": "scatterternary"
           }
          ],
          "surface": [
           {
            "colorbar": {
             "outlinewidth": 0,
             "ticks": ""
            },
            "colorscale": [
             [
              0,
              "#0d0887"
             ],
             [
              0.1111111111111111,
              "#46039f"
             ],
             [
              0.2222222222222222,
              "#7201a8"
             ],
             [
              0.3333333333333333,
              "#9c179e"
             ],
             [
              0.4444444444444444,
              "#bd3786"
             ],
             [
              0.5555555555555556,
              "#d8576b"
             ],
             [
              0.6666666666666666,
              "#ed7953"
             ],
             [
              0.7777777777777778,
              "#fb9f3a"
             ],
             [
              0.8888888888888888,
              "#fdca26"
             ],
             [
              1,
              "#f0f921"
             ]
            ],
            "type": "surface"
           }
          ],
          "table": [
           {
            "cells": {
             "fill": {
              "color": "#EBF0F8"
             },
             "line": {
              "color": "white"
             }
            },
            "header": {
             "fill": {
              "color": "#C8D4E3"
             },
             "line": {
              "color": "white"
             }
            },
            "type": "table"
           }
          ]
         },
         "layout": {
          "annotationdefaults": {
           "arrowcolor": "#2a3f5f",
           "arrowhead": 0,
           "arrowwidth": 1
          },
          "autotypenumbers": "strict",
          "coloraxis": {
           "colorbar": {
            "outlinewidth": 0,
            "ticks": ""
           }
          },
          "colorscale": {
           "diverging": [
            [
             0,
             "#8e0152"
            ],
            [
             0.1,
             "#c51b7d"
            ],
            [
             0.2,
             "#de77ae"
            ],
            [
             0.3,
             "#f1b6da"
            ],
            [
             0.4,
             "#fde0ef"
            ],
            [
             0.5,
             "#f7f7f7"
            ],
            [
             0.6,
             "#e6f5d0"
            ],
            [
             0.7,
             "#b8e186"
            ],
            [
             0.8,
             "#7fbc41"
            ],
            [
             0.9,
             "#4d9221"
            ],
            [
             1,
             "#276419"
            ]
           ],
           "sequential": [
            [
             0,
             "#0d0887"
            ],
            [
             0.1111111111111111,
             "#46039f"
            ],
            [
             0.2222222222222222,
             "#7201a8"
            ],
            [
             0.3333333333333333,
             "#9c179e"
            ],
            [
             0.4444444444444444,
             "#bd3786"
            ],
            [
             0.5555555555555556,
             "#d8576b"
            ],
            [
             0.6666666666666666,
             "#ed7953"
            ],
            [
             0.7777777777777778,
             "#fb9f3a"
            ],
            [
             0.8888888888888888,
             "#fdca26"
            ],
            [
             1,
             "#f0f921"
            ]
           ],
           "sequentialminus": [
            [
             0,
             "#0d0887"
            ],
            [
             0.1111111111111111,
             "#46039f"
            ],
            [
             0.2222222222222222,
             "#7201a8"
            ],
            [
             0.3333333333333333,
             "#9c179e"
            ],
            [
             0.4444444444444444,
             "#bd3786"
            ],
            [
             0.5555555555555556,
             "#d8576b"
            ],
            [
             0.6666666666666666,
             "#ed7953"
            ],
            [
             0.7777777777777778,
             "#fb9f3a"
            ],
            [
             0.8888888888888888,
             "#fdca26"
            ],
            [
             1,
             "#f0f921"
            ]
           ]
          },
          "colorway": [
           "#636efa",
           "#EF553B",
           "#00cc96",
           "#ab63fa",
           "#FFA15A",
           "#19d3f3",
           "#FF6692",
           "#B6E880",
           "#FF97FF",
           "#FECB52"
          ],
          "font": {
           "color": "#2a3f5f"
          },
          "geo": {
           "bgcolor": "white",
           "lakecolor": "white",
           "landcolor": "#E5ECF6",
           "showlakes": true,
           "showland": true,
           "subunitcolor": "white"
          },
          "hoverlabel": {
           "align": "left"
          },
          "hovermode": "closest",
          "mapbox": {
           "style": "light"
          },
          "paper_bgcolor": "white",
          "plot_bgcolor": "#E5ECF6",
          "polar": {
           "angularaxis": {
            "gridcolor": "white",
            "linecolor": "white",
            "ticks": ""
           },
           "bgcolor": "#E5ECF6",
           "radialaxis": {
            "gridcolor": "white",
            "linecolor": "white",
            "ticks": ""
           }
          },
          "scene": {
           "xaxis": {
            "backgroundcolor": "#E5ECF6",
            "gridcolor": "white",
            "gridwidth": 2,
            "linecolor": "white",
            "showbackground": true,
            "ticks": "",
            "zerolinecolor": "white"
           },
           "yaxis": {
            "backgroundcolor": "#E5ECF6",
            "gridcolor": "white",
            "gridwidth": 2,
            "linecolor": "white",
            "showbackground": true,
            "ticks": "",
            "zerolinecolor": "white"
           },
           "zaxis": {
            "backgroundcolor": "#E5ECF6",
            "gridcolor": "white",
            "gridwidth": 2,
            "linecolor": "white",
            "showbackground": true,
            "ticks": "",
            "zerolinecolor": "white"
           }
          },
          "shapedefaults": {
           "line": {
            "color": "#2a3f5f"
           }
          },
          "ternary": {
           "aaxis": {
            "gridcolor": "white",
            "linecolor": "white",
            "ticks": ""
           },
           "baxis": {
            "gridcolor": "white",
            "linecolor": "white",
            "ticks": ""
           },
           "bgcolor": "#E5ECF6",
           "caxis": {
            "gridcolor": "white",
            "linecolor": "white",
            "ticks": ""
           }
          },
          "title": {
           "x": 0.05
          },
          "xaxis": {
           "automargin": true,
           "gridcolor": "white",
           "linecolor": "white",
           "ticks": "",
           "title": {
            "standoff": 15
           },
           "zerolinecolor": "white",
           "zerolinewidth": 2
          },
          "yaxis": {
           "automargin": true,
           "gridcolor": "white",
           "linecolor": "white",
           "ticks": "",
           "title": {
            "standoff": 15
           },
           "zerolinecolor": "white",
           "zerolinewidth": 2
          }
         }
        },
        "xaxis": {
         "anchor": "y",
         "domain": [
          0,
          1
         ],
         "title": {
          "text": "mpg"
         },
         "type": "log"
        },
        "yaxis": {
         "anchor": "x",
         "domain": [
          0,
          1
         ],
         "title": {
          "text": "horsepower"
         }
        }
       }
      },
      "text/html": [
       "<div>                            <div id=\"867a5e1f-fbfb-4179-b010-afeda3958c6b\" class=\"plotly-graph-div\" style=\"height:525px; width:100%;\"></div>            <script type=\"text/javascript\">                require([\"plotly\"], function(Plotly) {                    window.PLOTLYENV=window.PLOTLYENV || {};                                    if (document.getElementById(\"867a5e1f-fbfb-4179-b010-afeda3958c6b\")) {                    Plotly.newPlot(                        \"867a5e1f-fbfb-4179-b010-afeda3958c6b\",                        [{\"hovertemplate\":\"origin=usa<br>mpg=%{x}<br>horsepower=%{y}<br>cylinders=%{marker.size}<extra></extra>\",\"legendgroup\":\"usa\",\"marker\":{\"color\":\"#636efa\",\"size\":[8,8,8,8,8,8,8,8,8,8,8,8,8,8,6,6,6,6,8,8,8,8,4,4,6,6,6,6,6,8,8,8,8,8,8,8,6,4,6,6,4,4,4,4,4,8,8,8,8,8,8,8,8,8,8,8,8,8,4,4,8,8,8,8,8,8,8,8,8,8,8,8,6,6,6,6,6,8,8,8,8,6,4,4,6,8,8,8,8,6,6,6,6,4,4,6,6,6,8,8,8,8,8,4,6,6,6,6,8,8,8,8,6,6,6,6,6,8,8,4,6,4,6,6,4,4,8,8,8,8,6,6,6,6,4,4,6,6,6,6,4,8,8,8,8,8,4,4,8,8,8,8,6,6,6,6,8,8,8,8,4,4,4,4,4,8,8,8,6,6,6,4,6,6,6,6,6,6,8,6,8,8,4,4,4,4,6,6,4,6,6,8,8,8,8,8,8,8,8,4,4,8,8,4,4,4,6,6,4,4,4,4,4,6,4,4,4,4,4,6,4,4,4,4,4,6,8,6,6,4,4,4,4,4,4,4,4,4,4,6,6,4,6,4,4,4,4,4,4],\"sizemode\":\"area\",\"sizeref\":0.008888888888888889,\"symbol\":\"circle\"},\"mode\":\"markers\",\"name\":\"usa\",\"orientation\":\"v\",\"showlegend\":true,\"x\":[18.0,15.0,18.0,16.0,17.0,15.0,14.0,14.0,14.0,15.0,15.0,14.0,15.0,14.0,22.0,18.0,21.0,21.0,10.0,10.0,11.0,9.0,28.0,25.0,19.0,16.0,17.0,19.0,18.0,14.0,14.0,14.0,14.0,12.0,13.0,13.0,18.0,22.0,19.0,18.0,23.0,26.0,25.0,20.0,21.0,13.0,14.0,15.0,14.0,17.0,11.0,13.0,12.0,13.0,15.0,13.0,13.0,14.0,22.0,28.0,13.0,14.0,13.0,14.0,15.0,12.0,13.0,13.0,14.0,13.0,12.0,13.0,18.0,16.0,18.0,18.0,23.0,11.0,12.0,13.0,12.0,18.0,21.0,19.0,21.0,15.0,16.0,15.0,11.0,20.0,21.0,19.0,15.0,26.0,25.0,16.0,16.0,18.0,16.0,13.0,14.0,14.0,14.0,28.0,19.0,18.0,15.0,15.0,16.0,15.0,16.0,14.0,17.0,16.0,15.0,18.0,21.0,20.0,13.0,23.0,20.0,23.0,18.0,19.0,25.0,26.0,17.5,16.0,15.5,14.5,22.0,22.0,24.0,22.5,29.0,24.5,20.0,18.0,18.5,17.5,26.5,13.0,16.5,13.0,13.0,13.0,30.0,25.5,17.5,17.0,15.5,15.0,17.5,20.5,19.0,18.5,16.0,15.5,15.5,16.0,24.5,25.5,30.5,33.5,36.1,19.9,19.4,20.2,19.2,20.5,20.2,25.1,20.5,19.4,20.6,20.8,18.6,18.1,19.2,17.7,18.1,17.5,30.0,30.9,23.2,23.8,21.5,19.8,22.3,20.2,20.6,17.0,17.6,16.5,18.2,16.9,15.5,19.2,18.5,35.7,27.4,23.0,23.9,34.2,34.5,28.4,28.8,26.8,33.5,32.1,28.0,26.4,24.3,19.1,27.9,23.6,27.2,26.6,25.8,23.5,30.0,39.0,34.7,34.4,29.9,22.4,26.6,20.2,17.6,28.0,27.0,34.0,31.0,29.0,27.0,24.0,23.0,38.0,36.0,25.0,38.0,26.0,22.0,36.0,27.0,27.0,32.0,28.0,31.0],\"xaxis\":\"x\",\"y\":[130.0,165.0,150.0,150.0,140.0,198.0,220.0,215.0,225.0,190.0,170.0,160.0,150.0,225.0,95.0,97.0,85.0,90.0,215.0,200.0,210.0,193.0,90.0,null,100.0,105.0,100.0,88.0,100.0,165.0,175.0,153.0,150.0,180.0,170.0,175.0,110.0,72.0,100.0,88.0,86.0,70.0,80.0,90.0,86.0,165.0,175.0,150.0,153.0,150.0,208.0,155.0,160.0,190.0,150.0,130.0,140.0,150.0,86.0,80.0,175.0,150.0,145.0,137.0,150.0,198.0,150.0,158.0,150.0,215.0,225.0,175.0,105.0,100.0,100.0,88.0,95.0,150.0,167.0,170.0,180.0,100.0,72.0,85.0,107.0,145.0,230.0,150.0,180.0,95.0,null,100.0,100.0,80.0,75.0,100.0,110.0,105.0,140.0,150.0,150.0,140.0,150.0,75.0,95.0,105.0,72.0,72.0,170.0,145.0,150.0,148.0,110.0,105.0,110.0,95.0,110.0,110.0,129.0,83.0,100.0,78.0,97.0,90.0,92.0,79.0,140.0,150.0,120.0,152.0,100.0,105.0,81.0,90.0,52.0,60.0,100.0,78.0,110.0,95.0,72.0,150.0,180.0,145.0,130.0,150.0,80.0,96.0,145.0,110.0,145.0,130.0,110.0,105.0,100.0,98.0,180.0,170.0,190.0,149.0,88.0,89.0,63.0,83.0,66.0,110.0,140.0,139.0,105.0,95.0,85.0,88.0,100.0,90.0,105.0,85.0,110.0,120.0,145.0,165.0,139.0,140.0,68.0,75.0,105.0,85.0,115.0,85.0,88.0,90.0,110.0,130.0,129.0,138.0,135.0,155.0,142.0,125.0,150.0,80.0,80.0,125.0,90.0,70.0,70.0,90.0,115.0,115.0,90.0,70.0,90.0,88.0,90.0,90.0,105.0,null,84.0,84.0,92.0,110.0,84.0,64.0,63.0,65.0,65.0,110.0,105.0,88.0,85.0,88.0,88.0,88.0,85.0,84.0,90.0,92.0,null,63.0,70.0,110.0,85.0,92.0,112.0,84.0,90.0,86.0,84.0,79.0,82.0],\"yaxis\":\"y\",\"type\":\"scatter\"},{\"hovertemplate\":\"origin=japan<br>mpg=%{x}<br>horsepower=%{y}<br>cylinders=%{marker.size}<extra></extra>\",\"legendgroup\":\"japan\",\"marker\":{\"color\":\"#EF553B\",\"size\":[4,4,4,4,4,4,4,3,4,4,4,4,4,3,6,4,4,4,4,4,4,4,4,4,4,4,4,4,6,4,4,4,4,6,3,4,4,4,4,4,4,4,4,4,4,4,4,4,4,4,4,4,4,4,4,6,3,4,4,4,4,4,4,4,4,4,4,4,6,6,4,4,4,4,4,4,4,4,4],\"sizemode\":\"area\",\"sizeref\":0.008888888888888889,\"symbol\":\"circle\"},\"mode\":\"markers\",\"name\":\"japan\",\"orientation\":\"v\",\"showlegend\":true,\"x\":[24.0,27.0,27.0,25.0,31.0,35.0,24.0,19.0,28.0,23.0,27.0,20.0,22.0,18.0,20.0,31.0,32.0,31.0,32.0,24.0,26.0,29.0,24.0,24.0,33.0,33.0,32.0,28.0,19.0,31.5,33.5,26.0,30.0,22.0,21.5,32.8,39.4,36.1,27.5,27.2,21.1,23.9,29.5,34.1,31.8,38.1,37.2,29.8,31.3,37.0,32.2,46.6,40.8,44.6,33.8,32.7,23.7,32.4,39.1,35.1,32.3,37.0,37.7,34.1,33.7,32.4,32.9,31.6,25.4,24.2,37.0,31.0,36.0,36.0,34.0,38.0,32.0,38.0,32.0],\"xaxis\":\"x\",\"y\":[95.0,88.0,88.0,95.0,65.0,69.0,95.0,97.0,92.0,97.0,88.0,88.0,94.0,90.0,122.0,67.0,65.0,52.0,61.0,97.0,93.0,75.0,96.0,97.0,53.0,53.0,70.0,75.0,108.0,68.0,70.0,75.0,67.0,97.0,110.0,52.0,70.0,60.0,95.0,97.0,95.0,97.0,68.0,65.0,65.0,60.0,65.0,90.0,75.0,92.0,75.0,65.0,65.0,67.0,67.0,132.0,100.0,72.0,58.0,60.0,67.0,65.0,62.0,68.0,75.0,75.0,100.0,74.0,116.0,120.0,68.0,68.0,88.0,75.0,70.0,67.0,67.0,67.0,96.0],\"yaxis\":\"y\",\"type\":\"scatter\"},{\"hovertemplate\":\"origin=europe<br>mpg=%{x}<br>horsepower=%{y}<br>cylinders=%{marker.size}<extra></extra>\",\"legendgroup\":\"europe\",\"marker\":{\"color\":\"#00cc96\",\"size\":[4,4,4,4,4,4,4,4,4,4,4,4,4,4,4,4,4,4,4,4,4,4,4,4,4,4,4,4,4,4,4,4,4,4,4,4,4,4,4,4,6,4,4,4,4,4,5,6,4,6,4,4,5,4,4,4,4,4,4,5,4,4,4,4,4,4,4,6,4,4],\"sizemode\":\"area\",\"sizeref\":0.008888888888888889,\"symbol\":\"circle\"},\"mode\":\"markers\",\"name\":\"europe\",\"orientation\":\"v\",\"showlegend\":true,\"x\":[26.0,25.0,24.0,25.0,26.0,28.0,30.0,30.0,27.0,23.0,18.0,22.0,21.0,26.0,26.0,26.0,29.0,24.0,20.0,19.0,24.0,29.0,26.0,26.0,24.0,26.0,31.0,25.0,29.0,23.0,23.0,22.0,25.0,28.0,25.0,27.0,29.0,29.5,20.0,19.0,16.5,36.0,29.0,30.5,21.5,43.1,20.3,17.0,21.6,16.2,31.5,31.9,25.4,27.2,37.3,41.5,34.3,44.3,43.4,36.4,30.0,40.9,29.8,35.0,33.0,34.5,28.1,30.7,36.0,44.0],\"xaxis\":\"x\",\"y\":[46.0,87.0,90.0,95.0,113.0,90.0,70.0,76.0,60.0,54.0,112.0,76.0,87.0,69.0,46.0,90.0,49.0,75.0,91.0,112.0,110.0,83.0,67.0,78.0,75.0,75.0,67.0,71.0,70.0,95.0,88.0,98.0,115.0,86.0,81.0,83.0,70.0,71.0,102.0,88.0,120.0,58.0,78.0,78.0,110.0,48.0,103.0,125.0,115.0,133.0,71.0,71.0,77.0,71.0,69.0,76.0,78.0,48.0,48.0,67.0,67.0,null,62.0,88.0,74.0,null,80.0,76.0,74.0,52.0],\"yaxis\":\"y\",\"type\":\"scatter\"}],                        {\"template\":{\"data\":{\"histogram2dcontour\":[{\"type\":\"histogram2dcontour\",\"colorbar\":{\"outlinewidth\":0,\"ticks\":\"\"},\"colorscale\":[[0.0,\"#0d0887\"],[0.1111111111111111,\"#46039f\"],[0.2222222222222222,\"#7201a8\"],[0.3333333333333333,\"#9c179e\"],[0.4444444444444444,\"#bd3786\"],[0.5555555555555556,\"#d8576b\"],[0.6666666666666666,\"#ed7953\"],[0.7777777777777778,\"#fb9f3a\"],[0.8888888888888888,\"#fdca26\"],[1.0,\"#f0f921\"]]}],\"choropleth\":[{\"type\":\"choropleth\",\"colorbar\":{\"outlinewidth\":0,\"ticks\":\"\"}}],\"histogram2d\":[{\"type\":\"histogram2d\",\"colorbar\":{\"outlinewidth\":0,\"ticks\":\"\"},\"colorscale\":[[0.0,\"#0d0887\"],[0.1111111111111111,\"#46039f\"],[0.2222222222222222,\"#7201a8\"],[0.3333333333333333,\"#9c179e\"],[0.4444444444444444,\"#bd3786\"],[0.5555555555555556,\"#d8576b\"],[0.6666666666666666,\"#ed7953\"],[0.7777777777777778,\"#fb9f3a\"],[0.8888888888888888,\"#fdca26\"],[1.0,\"#f0f921\"]]}],\"heatmap\":[{\"type\":\"heatmap\",\"colorbar\":{\"outlinewidth\":0,\"ticks\":\"\"},\"colorscale\":[[0.0,\"#0d0887\"],[0.1111111111111111,\"#46039f\"],[0.2222222222222222,\"#7201a8\"],[0.3333333333333333,\"#9c179e\"],[0.4444444444444444,\"#bd3786\"],[0.5555555555555556,\"#d8576b\"],[0.6666666666666666,\"#ed7953\"],[0.7777777777777778,\"#fb9f3a\"],[0.8888888888888888,\"#fdca26\"],[1.0,\"#f0f921\"]]}],\"heatmapgl\":[{\"type\":\"heatmapgl\",\"colorbar\":{\"outlinewidth\":0,\"ticks\":\"\"},\"colorscale\":[[0.0,\"#0d0887\"],[0.1111111111111111,\"#46039f\"],[0.2222222222222222,\"#7201a8\"],[0.3333333333333333,\"#9c179e\"],[0.4444444444444444,\"#bd3786\"],[0.5555555555555556,\"#d8576b\"],[0.6666666666666666,\"#ed7953\"],[0.7777777777777778,\"#fb9f3a\"],[0.8888888888888888,\"#fdca26\"],[1.0,\"#f0f921\"]]}],\"contourcarpet\":[{\"type\":\"contourcarpet\",\"colorbar\":{\"outlinewidth\":0,\"ticks\":\"\"}}],\"contour\":[{\"type\":\"contour\",\"colorbar\":{\"outlinewidth\":0,\"ticks\":\"\"},\"colorscale\":[[0.0,\"#0d0887\"],[0.1111111111111111,\"#46039f\"],[0.2222222222222222,\"#7201a8\"],[0.3333333333333333,\"#9c179e\"],[0.4444444444444444,\"#bd3786\"],[0.5555555555555556,\"#d8576b\"],[0.6666666666666666,\"#ed7953\"],[0.7777777777777778,\"#fb9f3a\"],[0.8888888888888888,\"#fdca26\"],[1.0,\"#f0f921\"]]}],\"surface\":[{\"type\":\"surface\",\"colorbar\":{\"outlinewidth\":0,\"ticks\":\"\"},\"colorscale\":[[0.0,\"#0d0887\"],[0.1111111111111111,\"#46039f\"],[0.2222222222222222,\"#7201a8\"],[0.3333333333333333,\"#9c179e\"],[0.4444444444444444,\"#bd3786\"],[0.5555555555555556,\"#d8576b\"],[0.6666666666666666,\"#ed7953\"],[0.7777777777777778,\"#fb9f3a\"],[0.8888888888888888,\"#fdca26\"],[1.0,\"#f0f921\"]]}],\"mesh3d\":[{\"type\":\"mesh3d\",\"colorbar\":{\"outlinewidth\":0,\"ticks\":\"\"}}],\"scatter\":[{\"fillpattern\":{\"fillmode\":\"overlay\",\"size\":10,\"solidity\":0.2},\"type\":\"scatter\"}],\"parcoords\":[{\"type\":\"parcoords\",\"line\":{\"colorbar\":{\"outlinewidth\":0,\"ticks\":\"\"}}}],\"scatterpolargl\":[{\"type\":\"scatterpolargl\",\"marker\":{\"colorbar\":{\"outlinewidth\":0,\"ticks\":\"\"}}}],\"bar\":[{\"error_x\":{\"color\":\"#2a3f5f\"},\"error_y\":{\"color\":\"#2a3f5f\"},\"marker\":{\"line\":{\"color\":\"#E5ECF6\",\"width\":0.5},\"pattern\":{\"fillmode\":\"overlay\",\"size\":10,\"solidity\":0.2}},\"type\":\"bar\"}],\"scattergeo\":[{\"type\":\"scattergeo\",\"marker\":{\"colorbar\":{\"outlinewidth\":0,\"ticks\":\"\"}}}],\"scatterpolar\":[{\"type\":\"scatterpolar\",\"marker\":{\"colorbar\":{\"outlinewidth\":0,\"ticks\":\"\"}}}],\"histogram\":[{\"marker\":{\"pattern\":{\"fillmode\":\"overlay\",\"size\":10,\"solidity\":0.2}},\"type\":\"histogram\"}],\"scattergl\":[{\"type\":\"scattergl\",\"marker\":{\"colorbar\":{\"outlinewidth\":0,\"ticks\":\"\"}}}],\"scatter3d\":[{\"type\":\"scatter3d\",\"line\":{\"colorbar\":{\"outlinewidth\":0,\"ticks\":\"\"}},\"marker\":{\"colorbar\":{\"outlinewidth\":0,\"ticks\":\"\"}}}],\"scattermapbox\":[{\"type\":\"scattermapbox\",\"marker\":{\"colorbar\":{\"outlinewidth\":0,\"ticks\":\"\"}}}],\"scatterternary\":[{\"type\":\"scatterternary\",\"marker\":{\"colorbar\":{\"outlinewidth\":0,\"ticks\":\"\"}}}],\"scattercarpet\":[{\"type\":\"scattercarpet\",\"marker\":{\"colorbar\":{\"outlinewidth\":0,\"ticks\":\"\"}}}],\"carpet\":[{\"aaxis\":{\"endlinecolor\":\"#2a3f5f\",\"gridcolor\":\"white\",\"linecolor\":\"white\",\"minorgridcolor\":\"white\",\"startlinecolor\":\"#2a3f5f\"},\"baxis\":{\"endlinecolor\":\"#2a3f5f\",\"gridcolor\":\"white\",\"linecolor\":\"white\",\"minorgridcolor\":\"white\",\"startlinecolor\":\"#2a3f5f\"},\"type\":\"carpet\"}],\"table\":[{\"cells\":{\"fill\":{\"color\":\"#EBF0F8\"},\"line\":{\"color\":\"white\"}},\"header\":{\"fill\":{\"color\":\"#C8D4E3\"},\"line\":{\"color\":\"white\"}},\"type\":\"table\"}],\"barpolar\":[{\"marker\":{\"line\":{\"color\":\"#E5ECF6\",\"width\":0.5},\"pattern\":{\"fillmode\":\"overlay\",\"size\":10,\"solidity\":0.2}},\"type\":\"barpolar\"}],\"pie\":[{\"automargin\":true,\"type\":\"pie\"}]},\"layout\":{\"autotypenumbers\":\"strict\",\"colorway\":[\"#636efa\",\"#EF553B\",\"#00cc96\",\"#ab63fa\",\"#FFA15A\",\"#19d3f3\",\"#FF6692\",\"#B6E880\",\"#FF97FF\",\"#FECB52\"],\"font\":{\"color\":\"#2a3f5f\"},\"hovermode\":\"closest\",\"hoverlabel\":{\"align\":\"left\"},\"paper_bgcolor\":\"white\",\"plot_bgcolor\":\"#E5ECF6\",\"polar\":{\"bgcolor\":\"#E5ECF6\",\"angularaxis\":{\"gridcolor\":\"white\",\"linecolor\":\"white\",\"ticks\":\"\"},\"radialaxis\":{\"gridcolor\":\"white\",\"linecolor\":\"white\",\"ticks\":\"\"}},\"ternary\":{\"bgcolor\":\"#E5ECF6\",\"aaxis\":{\"gridcolor\":\"white\",\"linecolor\":\"white\",\"ticks\":\"\"},\"baxis\":{\"gridcolor\":\"white\",\"linecolor\":\"white\",\"ticks\":\"\"},\"caxis\":{\"gridcolor\":\"white\",\"linecolor\":\"white\",\"ticks\":\"\"}},\"coloraxis\":{\"colorbar\":{\"outlinewidth\":0,\"ticks\":\"\"}},\"colorscale\":{\"sequential\":[[0.0,\"#0d0887\"],[0.1111111111111111,\"#46039f\"],[0.2222222222222222,\"#7201a8\"],[0.3333333333333333,\"#9c179e\"],[0.4444444444444444,\"#bd3786\"],[0.5555555555555556,\"#d8576b\"],[0.6666666666666666,\"#ed7953\"],[0.7777777777777778,\"#fb9f3a\"],[0.8888888888888888,\"#fdca26\"],[1.0,\"#f0f921\"]],\"sequentialminus\":[[0.0,\"#0d0887\"],[0.1111111111111111,\"#46039f\"],[0.2222222222222222,\"#7201a8\"],[0.3333333333333333,\"#9c179e\"],[0.4444444444444444,\"#bd3786\"],[0.5555555555555556,\"#d8576b\"],[0.6666666666666666,\"#ed7953\"],[0.7777777777777778,\"#fb9f3a\"],[0.8888888888888888,\"#fdca26\"],[1.0,\"#f0f921\"]],\"diverging\":[[0,\"#8e0152\"],[0.1,\"#c51b7d\"],[0.2,\"#de77ae\"],[0.3,\"#f1b6da\"],[0.4,\"#fde0ef\"],[0.5,\"#f7f7f7\"],[0.6,\"#e6f5d0\"],[0.7,\"#b8e186\"],[0.8,\"#7fbc41\"],[0.9,\"#4d9221\"],[1,\"#276419\"]]},\"xaxis\":{\"gridcolor\":\"white\",\"linecolor\":\"white\",\"ticks\":\"\",\"title\":{\"standoff\":15},\"zerolinecolor\":\"white\",\"automargin\":true,\"zerolinewidth\":2},\"yaxis\":{\"gridcolor\":\"white\",\"linecolor\":\"white\",\"ticks\":\"\",\"title\":{\"standoff\":15},\"zerolinecolor\":\"white\",\"automargin\":true,\"zerolinewidth\":2},\"scene\":{\"xaxis\":{\"backgroundcolor\":\"#E5ECF6\",\"gridcolor\":\"white\",\"linecolor\":\"white\",\"showbackground\":true,\"ticks\":\"\",\"zerolinecolor\":\"white\",\"gridwidth\":2},\"yaxis\":{\"backgroundcolor\":\"#E5ECF6\",\"gridcolor\":\"white\",\"linecolor\":\"white\",\"showbackground\":true,\"ticks\":\"\",\"zerolinecolor\":\"white\",\"gridwidth\":2},\"zaxis\":{\"backgroundcolor\":\"#E5ECF6\",\"gridcolor\":\"white\",\"linecolor\":\"white\",\"showbackground\":true,\"ticks\":\"\",\"zerolinecolor\":\"white\",\"gridwidth\":2}},\"shapedefaults\":{\"line\":{\"color\":\"#2a3f5f\"}},\"annotationdefaults\":{\"arrowcolor\":\"#2a3f5f\",\"arrowhead\":0,\"arrowwidth\":1},\"geo\":{\"bgcolor\":\"white\",\"landcolor\":\"#E5ECF6\",\"subunitcolor\":\"white\",\"showland\":true,\"showlakes\":true,\"lakecolor\":\"white\"},\"title\":{\"x\":0.05},\"mapbox\":{\"style\":\"light\"}}},\"xaxis\":{\"anchor\":\"y\",\"domain\":[0.0,1.0],\"title\":{\"text\":\"mpg\"},\"type\":\"log\"},\"yaxis\":{\"anchor\":\"x\",\"domain\":[0.0,1.0],\"title\":{\"text\":\"horsepower\"}},\"legend\":{\"title\":{\"text\":\"origin\"},\"tracegroupgap\":0,\"itemsizing\":\"constant\"},\"margin\":{\"t\":60}},                        {\"responsive\": true}                    ).then(function(){\n",
       "                            \n",
       "var gd = document.getElementById('867a5e1f-fbfb-4179-b010-afeda3958c6b');\n",
       "var x = new MutationObserver(function (mutations, observer) {{\n",
       "        var display = window.getComputedStyle(gd).display;\n",
       "        if (!display || display === 'none') {{\n",
       "            console.log([gd, 'removed!']);\n",
       "            Plotly.purge(gd);\n",
       "            observer.disconnect();\n",
       "        }}\n",
       "}});\n",
       "\n",
       "// Listen for the removal of the full notebook cells\n",
       "var notebookContainer = gd.closest('#notebook-container');\n",
       "if (notebookContainer) {{\n",
       "    x.observe(notebookContainer, {childList: true});\n",
       "}}\n",
       "\n",
       "// Listen for the clearing of the current output cell\n",
       "var outputEl = gd.closest('.output');\n",
       "if (outputEl) {{\n",
       "    x.observe(outputEl, {childList: true});\n",
       "}}\n",
       "\n",
       "                        })                };                });            </script>        </div>"
      ]
     },
     "metadata": {},
     "output_type": "display_data"
    }
   ],
   "source": [
    "px.scatter(data,x = \"mpg\", y = \"horsepower\",size = \"cylinders\", size_max = 30, log_x = True, color = \"origin\")"
   ]
  },
  {
   "cell_type": "code",
   "execution_count": 55,
   "id": "261fb78c",
   "metadata": {},
   "outputs": [
    {
     "data": {
      "application/vnd.plotly.v1+json": {
       "config": {
        "plotlyServerURL": "https://plot.ly"
       },
       "data": [
        {
         "coloraxis": "coloraxis",
         "histfunc": "sum",
         "hovertemplate": "model_year=%{x}<br>origin=%{y}<br>sum of horsepower=%{z}<extra></extra>",
         "name": "",
         "type": "histogram2d",
         "x": [
          70,
          70,
          70,
          70,
          70,
          70,
          70,
          70,
          70,
          70,
          70,
          70,
          70,
          70,
          70,
          70,
          70,
          70,
          70,
          70,
          70,
          70,
          70,
          70,
          70,
          70,
          70,
          70,
          70,
          71,
          71,
          71,
          71,
          71,
          71,
          71,
          71,
          71,
          71,
          71,
          71,
          71,
          71,
          71,
          71,
          71,
          71,
          71,
          71,
          71,
          71,
          71,
          71,
          71,
          71,
          71,
          71,
          72,
          72,
          72,
          72,
          72,
          72,
          72,
          72,
          72,
          72,
          72,
          72,
          72,
          72,
          72,
          72,
          72,
          72,
          72,
          72,
          72,
          72,
          72,
          72,
          72,
          72,
          72,
          72,
          73,
          73,
          73,
          73,
          73,
          73,
          73,
          73,
          73,
          73,
          73,
          73,
          73,
          73,
          73,
          73,
          73,
          73,
          73,
          73,
          73,
          73,
          73,
          73,
          73,
          73,
          73,
          73,
          73,
          73,
          73,
          73,
          73,
          73,
          73,
          73,
          73,
          73,
          73,
          73,
          74,
          74,
          74,
          74,
          74,
          74,
          74,
          74,
          74,
          74,
          74,
          74,
          74,
          74,
          74,
          74,
          74,
          74,
          74,
          74,
          74,
          74,
          74,
          74,
          74,
          74,
          74,
          75,
          75,
          75,
          75,
          75,
          75,
          75,
          75,
          75,
          75,
          75,
          75,
          75,
          75,
          75,
          75,
          75,
          75,
          75,
          75,
          75,
          75,
          75,
          75,
          75,
          75,
          75,
          75,
          75,
          75,
          76,
          76,
          76,
          76,
          76,
          76,
          76,
          76,
          76,
          76,
          76,
          76,
          76,
          76,
          76,
          76,
          76,
          76,
          76,
          76,
          76,
          76,
          76,
          76,
          76,
          76,
          76,
          76,
          76,
          76,
          76,
          76,
          76,
          76,
          77,
          77,
          77,
          77,
          77,
          77,
          77,
          77,
          77,
          77,
          77,
          77,
          77,
          77,
          77,
          77,
          77,
          77,
          77,
          77,
          77,
          77,
          77,
          77,
          77,
          77,
          77,
          77,
          78,
          78,
          78,
          78,
          78,
          78,
          78,
          78,
          78,
          78,
          78,
          78,
          78,
          78,
          78,
          78,
          78,
          78,
          78,
          78,
          78,
          78,
          78,
          78,
          78,
          78,
          78,
          78,
          78,
          78,
          78,
          78,
          78,
          78,
          78,
          78,
          79,
          79,
          79,
          79,
          79,
          79,
          79,
          79,
          79,
          79,
          79,
          79,
          79,
          79,
          79,
          79,
          79,
          79,
          79,
          79,
          79,
          79,
          79,
          79,
          79,
          79,
          79,
          79,
          79,
          80,
          80,
          80,
          80,
          80,
          80,
          80,
          80,
          80,
          80,
          80,
          80,
          80,
          80,
          80,
          80,
          80,
          80,
          80,
          80,
          80,
          80,
          80,
          80,
          80,
          80,
          80,
          80,
          80,
          81,
          81,
          81,
          81,
          81,
          81,
          81,
          81,
          81,
          81,
          81,
          81,
          81,
          81,
          81,
          81,
          81,
          81,
          81,
          81,
          81,
          81,
          81,
          81,
          81,
          81,
          81,
          81,
          81,
          82,
          82,
          82,
          82,
          82,
          82,
          82,
          82,
          82,
          82,
          82,
          82,
          82,
          82,
          82,
          82,
          82,
          82,
          82,
          82,
          82,
          82,
          82,
          82,
          82,
          82,
          82,
          82,
          82,
          82,
          82
         ],
         "xaxis": "x",
         "xbingroup": "x",
         "y": [
          "usa",
          "usa",
          "usa",
          "usa",
          "usa",
          "usa",
          "usa",
          "usa",
          "usa",
          "usa",
          "usa",
          "usa",
          "usa",
          "usa",
          "japan",
          "usa",
          "usa",
          "usa",
          "japan",
          "europe",
          "europe",
          "europe",
          "europe",
          "europe",
          "usa",
          "usa",
          "usa",
          "usa",
          "usa",
          "japan",
          "usa",
          "japan",
          "usa",
          "usa",
          "usa",
          "usa",
          "usa",
          "usa",
          "usa",
          "usa",
          "usa",
          "usa",
          "usa",
          "usa",
          "usa",
          "usa",
          "usa",
          "usa",
          "usa",
          "usa",
          "europe",
          "europe",
          "europe",
          "japan",
          "japan",
          "europe",
          "usa",
          "japan",
          "usa",
          "europe",
          "usa",
          "usa",
          "usa",
          "usa",
          "usa",
          "usa",
          "usa",
          "usa",
          "usa",
          "usa",
          "usa",
          "japan",
          "usa",
          "usa",
          "usa",
          "usa",
          "europe",
          "europe",
          "europe",
          "europe",
          "usa",
          "japan",
          "japan",
          "usa",
          "japan",
          "usa",
          "usa",
          "usa",
          "usa",
          "usa",
          "usa",
          "usa",
          "usa",
          "usa",
          "usa",
          "usa",
          "usa",
          "usa",
          "usa",
          "usa",
          "usa",
          "usa",
          "europe",
          "usa",
          "usa",
          "usa",
          "usa",
          "usa",
          "japan",
          "usa",
          "japan",
          "japan",
          "usa",
          "usa",
          "europe",
          "usa",
          "usa",
          "europe",
          "europe",
          "europe",
          "europe",
          "usa",
          "europe",
          "japan",
          "usa",
          "usa",
          "usa",
          "usa",
          "usa",
          "japan",
          "usa",
          "japan",
          "usa",
          "usa",
          "usa",
          "usa",
          "usa",
          "usa",
          "usa",
          "usa",
          "usa",
          "europe",
          "europe",
          "europe",
          "japan",
          "japan",
          "usa",
          "europe",
          "europe",
          "japan",
          "japan",
          "europe",
          "usa",
          "usa",
          "usa",
          "usa",
          "usa",
          "usa",
          "usa",
          "usa",
          "usa",
          "usa",
          "usa",
          "usa",
          "usa",
          "usa",
          "usa",
          "japan",
          "usa",
          "usa",
          "usa",
          "japan",
          "europe",
          "japan",
          "usa",
          "europe",
          "usa",
          "europe",
          "europe",
          "europe",
          "europe",
          "japan",
          "europe",
          "europe",
          "usa",
          "usa",
          "europe",
          "usa",
          "usa",
          "usa",
          "usa",
          "usa",
          "usa",
          "usa",
          "usa",
          "usa",
          "usa",
          "europe",
          "japan",
          "usa",
          "usa",
          "usa",
          "usa",
          "europe",
          "japan",
          "japan",
          "usa",
          "europe",
          "usa",
          "europe",
          "japan",
          "europe",
          "usa",
          "usa",
          "usa",
          "usa",
          "japan",
          "usa",
          "europe",
          "usa",
          "japan",
          "usa",
          "usa",
          "usa",
          "usa",
          "usa",
          "usa",
          "usa",
          "usa",
          "usa",
          "usa",
          "usa",
          "usa",
          "europe",
          "usa",
          "japan",
          "usa",
          "usa",
          "usa",
          "japan",
          "europe",
          "japan",
          "europe",
          "japan",
          "europe",
          "usa",
          "japan",
          "japan",
          "japan",
          "usa",
          "usa",
          "usa",
          "usa",
          "usa",
          "usa",
          "usa",
          "usa",
          "usa",
          "usa",
          "usa",
          "usa",
          "usa",
          "usa",
          "usa",
          "usa",
          "usa",
          "usa",
          "japan",
          "japan",
          "usa",
          "japan",
          "usa",
          "usa",
          "japan",
          "europe",
          "europe",
          "europe",
          "europe",
          "europe",
          "japan",
          "usa",
          "usa",
          "usa",
          "usa",
          "usa",
          "usa",
          "usa",
          "usa",
          "usa",
          "usa",
          "usa",
          "usa",
          "usa",
          "europe",
          "japan",
          "usa",
          "usa",
          "europe",
          "usa",
          "europe",
          "usa",
          "usa",
          "usa",
          "japan",
          "europe",
          "usa",
          "usa",
          "usa",
          "usa",
          "europe",
          "japan",
          "usa",
          "japan",
          "usa",
          "usa",
          "usa",
          "usa",
          "europe",
          "japan",
          "japan",
          "japan",
          "japan",
          "japan",
          "usa",
          "japan",
          "europe",
          "europe",
          "europe",
          "europe",
          "japan",
          "europe",
          "japan",
          "europe",
          "japan",
          "japan",
          "europe",
          "usa",
          "japan",
          "usa",
          "usa",
          "usa",
          "usa",
          "usa",
          "japan",
          "usa",
          "japan",
          "japan",
          "japan",
          "japan",
          "japan",
          "usa",
          "usa",
          "usa",
          "europe",
          "europe",
          "japan",
          "japan",
          "japan",
          "japan",
          "europe",
          "europe",
          "japan",
          "japan",
          "usa",
          "usa",
          "usa",
          "usa",
          "usa",
          "usa",
          "usa",
          "usa",
          "usa",
          "usa",
          "usa",
          "usa",
          "europe",
          "japan",
          "japan",
          "usa",
          "usa",
          "japan",
          "japan",
          "japan",
          "japan",
          "japan",
          "japan",
          "usa",
          "usa",
          "usa",
          "usa",
          "japan",
          "usa",
          "usa",
          "usa",
          "europe",
          "usa",
          "usa",
          "usa"
         ],
         "yaxis": "y",
         "ybingroup": "y",
         "z": [
          130,
          165,
          150,
          150,
          140,
          198,
          220,
          215,
          225,
          190,
          170,
          160,
          150,
          225,
          95,
          95,
          97,
          85,
          88,
          46,
          87,
          90,
          95,
          113,
          90,
          215,
          200,
          210,
          193,
          88,
          90,
          95,
          null,
          100,
          105,
          100,
          88,
          100,
          165,
          175,
          153,
          150,
          180,
          170,
          175,
          110,
          72,
          100,
          88,
          86,
          90,
          70,
          76,
          65,
          69,
          60,
          70,
          95,
          80,
          54,
          90,
          86,
          165,
          175,
          150,
          153,
          150,
          208,
          155,
          160,
          190,
          97,
          150,
          130,
          140,
          150,
          112,
          76,
          87,
          69,
          86,
          92,
          97,
          80,
          88,
          175,
          150,
          145,
          137,
          150,
          198,
          150,
          158,
          150,
          215,
          225,
          175,
          105,
          100,
          100,
          88,
          95,
          46,
          150,
          167,
          170,
          180,
          100,
          88,
          72,
          94,
          90,
          85,
          107,
          90,
          145,
          230,
          49,
          75,
          91,
          112,
          150,
          110,
          122,
          180,
          95,
          null,
          100,
          100,
          67,
          80,
          65,
          75,
          100,
          110,
          105,
          140,
          150,
          150,
          140,
          150,
          83,
          67,
          78,
          52,
          61,
          75,
          75,
          75,
          97,
          93,
          67,
          95,
          105,
          72,
          72,
          170,
          145,
          150,
          148,
          110,
          105,
          110,
          95,
          110,
          110,
          129,
          75,
          83,
          100,
          78,
          96,
          71,
          97,
          97,
          70,
          90,
          95,
          88,
          98,
          115,
          53,
          86,
          81,
          92,
          79,
          83,
          140,
          150,
          120,
          152,
          100,
          105,
          81,
          90,
          52,
          60,
          70,
          53,
          100,
          78,
          110,
          95,
          71,
          70,
          75,
          72,
          102,
          150,
          88,
          108,
          120,
          180,
          145,
          130,
          150,
          68,
          80,
          58,
          96,
          70,
          145,
          110,
          145,
          130,
          110,
          105,
          100,
          98,
          180,
          170,
          190,
          149,
          78,
          88,
          75,
          89,
          63,
          83,
          67,
          78,
          97,
          110,
          110,
          48,
          66,
          52,
          70,
          60,
          110,
          140,
          139,
          105,
          95,
          85,
          88,
          100,
          90,
          105,
          85,
          110,
          120,
          145,
          165,
          139,
          140,
          68,
          95,
          97,
          75,
          95,
          105,
          85,
          97,
          103,
          125,
          115,
          133,
          71,
          68,
          115,
          85,
          88,
          90,
          110,
          130,
          129,
          138,
          135,
          155,
          142,
          125,
          150,
          71,
          65,
          80,
          80,
          77,
          125,
          71,
          90,
          70,
          70,
          65,
          69,
          90,
          115,
          115,
          90,
          76,
          60,
          70,
          65,
          90,
          88,
          90,
          90,
          78,
          90,
          75,
          92,
          75,
          65,
          105,
          65,
          48,
          48,
          67,
          67,
          67,
          null,
          67,
          62,
          132,
          100,
          88,
          null,
          72,
          84,
          84,
          92,
          110,
          84,
          58,
          64,
          60,
          67,
          65,
          62,
          68,
          63,
          65,
          65,
          74,
          null,
          75,
          75,
          100,
          74,
          80,
          76,
          116,
          120,
          110,
          105,
          88,
          85,
          88,
          88,
          88,
          85,
          84,
          90,
          92,
          null,
          74,
          68,
          68,
          63,
          70,
          88,
          75,
          70,
          67,
          67,
          67,
          110,
          85,
          92,
          112,
          96,
          84,
          90,
          86,
          52,
          84,
          79,
          82
         ]
        }
       ],
       "layout": {
        "coloraxis": {
         "colorbar": {
          "title": {
           "text": "sum of horsepower"
          }
         },
         "colorscale": [
          [
           0,
           "#440154"
          ],
          [
           0.1111111111111111,
           "#482878"
          ],
          [
           0.2222222222222222,
           "#3e4989"
          ],
          [
           0.3333333333333333,
           "#31688e"
          ],
          [
           0.4444444444444444,
           "#26828e"
          ],
          [
           0.5555555555555556,
           "#1f9e89"
          ],
          [
           0.6666666666666666,
           "#35b779"
          ],
          [
           0.7777777777777778,
           "#6ece58"
          ],
          [
           0.8888888888888888,
           "#b5de2b"
          ],
          [
           1,
           "#fde725"
          ]
         ]
        },
        "legend": {
         "tracegroupgap": 0
        },
        "margin": {
         "t": 60
        },
        "template": {
         "data": {
          "bar": [
           {
            "error_x": {
             "color": "#2a3f5f"
            },
            "error_y": {
             "color": "#2a3f5f"
            },
            "marker": {
             "line": {
              "color": "#E5ECF6",
              "width": 0.5
             },
             "pattern": {
              "fillmode": "overlay",
              "size": 10,
              "solidity": 0.2
             }
            },
            "type": "bar"
           }
          ],
          "barpolar": [
           {
            "marker": {
             "line": {
              "color": "#E5ECF6",
              "width": 0.5
             },
             "pattern": {
              "fillmode": "overlay",
              "size": 10,
              "solidity": 0.2
             }
            },
            "type": "barpolar"
           }
          ],
          "carpet": [
           {
            "aaxis": {
             "endlinecolor": "#2a3f5f",
             "gridcolor": "white",
             "linecolor": "white",
             "minorgridcolor": "white",
             "startlinecolor": "#2a3f5f"
            },
            "baxis": {
             "endlinecolor": "#2a3f5f",
             "gridcolor": "white",
             "linecolor": "white",
             "minorgridcolor": "white",
             "startlinecolor": "#2a3f5f"
            },
            "type": "carpet"
           }
          ],
          "choropleth": [
           {
            "colorbar": {
             "outlinewidth": 0,
             "ticks": ""
            },
            "type": "choropleth"
           }
          ],
          "contour": [
           {
            "colorbar": {
             "outlinewidth": 0,
             "ticks": ""
            },
            "colorscale": [
             [
              0,
              "#0d0887"
             ],
             [
              0.1111111111111111,
              "#46039f"
             ],
             [
              0.2222222222222222,
              "#7201a8"
             ],
             [
              0.3333333333333333,
              "#9c179e"
             ],
             [
              0.4444444444444444,
              "#bd3786"
             ],
             [
              0.5555555555555556,
              "#d8576b"
             ],
             [
              0.6666666666666666,
              "#ed7953"
             ],
             [
              0.7777777777777778,
              "#fb9f3a"
             ],
             [
              0.8888888888888888,
              "#fdca26"
             ],
             [
              1,
              "#f0f921"
             ]
            ],
            "type": "contour"
           }
          ],
          "contourcarpet": [
           {
            "colorbar": {
             "outlinewidth": 0,
             "ticks": ""
            },
            "type": "contourcarpet"
           }
          ],
          "heatmap": [
           {
            "colorbar": {
             "outlinewidth": 0,
             "ticks": ""
            },
            "colorscale": [
             [
              0,
              "#0d0887"
             ],
             [
              0.1111111111111111,
              "#46039f"
             ],
             [
              0.2222222222222222,
              "#7201a8"
             ],
             [
              0.3333333333333333,
              "#9c179e"
             ],
             [
              0.4444444444444444,
              "#bd3786"
             ],
             [
              0.5555555555555556,
              "#d8576b"
             ],
             [
              0.6666666666666666,
              "#ed7953"
             ],
             [
              0.7777777777777778,
              "#fb9f3a"
             ],
             [
              0.8888888888888888,
              "#fdca26"
             ],
             [
              1,
              "#f0f921"
             ]
            ],
            "type": "heatmap"
           }
          ],
          "heatmapgl": [
           {
            "colorbar": {
             "outlinewidth": 0,
             "ticks": ""
            },
            "colorscale": [
             [
              0,
              "#0d0887"
             ],
             [
              0.1111111111111111,
              "#46039f"
             ],
             [
              0.2222222222222222,
              "#7201a8"
             ],
             [
              0.3333333333333333,
              "#9c179e"
             ],
             [
              0.4444444444444444,
              "#bd3786"
             ],
             [
              0.5555555555555556,
              "#d8576b"
             ],
             [
              0.6666666666666666,
              "#ed7953"
             ],
             [
              0.7777777777777778,
              "#fb9f3a"
             ],
             [
              0.8888888888888888,
              "#fdca26"
             ],
             [
              1,
              "#f0f921"
             ]
            ],
            "type": "heatmapgl"
           }
          ],
          "histogram": [
           {
            "marker": {
             "pattern": {
              "fillmode": "overlay",
              "size": 10,
              "solidity": 0.2
             }
            },
            "type": "histogram"
           }
          ],
          "histogram2d": [
           {
            "colorbar": {
             "outlinewidth": 0,
             "ticks": ""
            },
            "colorscale": [
             [
              0,
              "#0d0887"
             ],
             [
              0.1111111111111111,
              "#46039f"
             ],
             [
              0.2222222222222222,
              "#7201a8"
             ],
             [
              0.3333333333333333,
              "#9c179e"
             ],
             [
              0.4444444444444444,
              "#bd3786"
             ],
             [
              0.5555555555555556,
              "#d8576b"
             ],
             [
              0.6666666666666666,
              "#ed7953"
             ],
             [
              0.7777777777777778,
              "#fb9f3a"
             ],
             [
              0.8888888888888888,
              "#fdca26"
             ],
             [
              1,
              "#f0f921"
             ]
            ],
            "type": "histogram2d"
           }
          ],
          "histogram2dcontour": [
           {
            "colorbar": {
             "outlinewidth": 0,
             "ticks": ""
            },
            "colorscale": [
             [
              0,
              "#0d0887"
             ],
             [
              0.1111111111111111,
              "#46039f"
             ],
             [
              0.2222222222222222,
              "#7201a8"
             ],
             [
              0.3333333333333333,
              "#9c179e"
             ],
             [
              0.4444444444444444,
              "#bd3786"
             ],
             [
              0.5555555555555556,
              "#d8576b"
             ],
             [
              0.6666666666666666,
              "#ed7953"
             ],
             [
              0.7777777777777778,
              "#fb9f3a"
             ],
             [
              0.8888888888888888,
              "#fdca26"
             ],
             [
              1,
              "#f0f921"
             ]
            ],
            "type": "histogram2dcontour"
           }
          ],
          "mesh3d": [
           {
            "colorbar": {
             "outlinewidth": 0,
             "ticks": ""
            },
            "type": "mesh3d"
           }
          ],
          "parcoords": [
           {
            "line": {
             "colorbar": {
              "outlinewidth": 0,
              "ticks": ""
             }
            },
            "type": "parcoords"
           }
          ],
          "pie": [
           {
            "automargin": true,
            "type": "pie"
           }
          ],
          "scatter": [
           {
            "fillpattern": {
             "fillmode": "overlay",
             "size": 10,
             "solidity": 0.2
            },
            "type": "scatter"
           }
          ],
          "scatter3d": [
           {
            "line": {
             "colorbar": {
              "outlinewidth": 0,
              "ticks": ""
             }
            },
            "marker": {
             "colorbar": {
              "outlinewidth": 0,
              "ticks": ""
             }
            },
            "type": "scatter3d"
           }
          ],
          "scattercarpet": [
           {
            "marker": {
             "colorbar": {
              "outlinewidth": 0,
              "ticks": ""
             }
            },
            "type": "scattercarpet"
           }
          ],
          "scattergeo": [
           {
            "marker": {
             "colorbar": {
              "outlinewidth": 0,
              "ticks": ""
             }
            },
            "type": "scattergeo"
           }
          ],
          "scattergl": [
           {
            "marker": {
             "colorbar": {
              "outlinewidth": 0,
              "ticks": ""
             }
            },
            "type": "scattergl"
           }
          ],
          "scattermapbox": [
           {
            "marker": {
             "colorbar": {
              "outlinewidth": 0,
              "ticks": ""
             }
            },
            "type": "scattermapbox"
           }
          ],
          "scatterpolar": [
           {
            "marker": {
             "colorbar": {
              "outlinewidth": 0,
              "ticks": ""
             }
            },
            "type": "scatterpolar"
           }
          ],
          "scatterpolargl": [
           {
            "marker": {
             "colorbar": {
              "outlinewidth": 0,
              "ticks": ""
             }
            },
            "type": "scatterpolargl"
           }
          ],
          "scatterternary": [
           {
            "marker": {
             "colorbar": {
              "outlinewidth": 0,
              "ticks": ""
             }
            },
            "type": "scatterternary"
           }
          ],
          "surface": [
           {
            "colorbar": {
             "outlinewidth": 0,
             "ticks": ""
            },
            "colorscale": [
             [
              0,
              "#0d0887"
             ],
             [
              0.1111111111111111,
              "#46039f"
             ],
             [
              0.2222222222222222,
              "#7201a8"
             ],
             [
              0.3333333333333333,
              "#9c179e"
             ],
             [
              0.4444444444444444,
              "#bd3786"
             ],
             [
              0.5555555555555556,
              "#d8576b"
             ],
             [
              0.6666666666666666,
              "#ed7953"
             ],
             [
              0.7777777777777778,
              "#fb9f3a"
             ],
             [
              0.8888888888888888,
              "#fdca26"
             ],
             [
              1,
              "#f0f921"
             ]
            ],
            "type": "surface"
           }
          ],
          "table": [
           {
            "cells": {
             "fill": {
              "color": "#EBF0F8"
             },
             "line": {
              "color": "white"
             }
            },
            "header": {
             "fill": {
              "color": "#C8D4E3"
             },
             "line": {
              "color": "white"
             }
            },
            "type": "table"
           }
          ]
         },
         "layout": {
          "annotationdefaults": {
           "arrowcolor": "#2a3f5f",
           "arrowhead": 0,
           "arrowwidth": 1
          },
          "autotypenumbers": "strict",
          "coloraxis": {
           "colorbar": {
            "outlinewidth": 0,
            "ticks": ""
           }
          },
          "colorscale": {
           "diverging": [
            [
             0,
             "#8e0152"
            ],
            [
             0.1,
             "#c51b7d"
            ],
            [
             0.2,
             "#de77ae"
            ],
            [
             0.3,
             "#f1b6da"
            ],
            [
             0.4,
             "#fde0ef"
            ],
            [
             0.5,
             "#f7f7f7"
            ],
            [
             0.6,
             "#e6f5d0"
            ],
            [
             0.7,
             "#b8e186"
            ],
            [
             0.8,
             "#7fbc41"
            ],
            [
             0.9,
             "#4d9221"
            ],
            [
             1,
             "#276419"
            ]
           ],
           "sequential": [
            [
             0,
             "#0d0887"
            ],
            [
             0.1111111111111111,
             "#46039f"
            ],
            [
             0.2222222222222222,
             "#7201a8"
            ],
            [
             0.3333333333333333,
             "#9c179e"
            ],
            [
             0.4444444444444444,
             "#bd3786"
            ],
            [
             0.5555555555555556,
             "#d8576b"
            ],
            [
             0.6666666666666666,
             "#ed7953"
            ],
            [
             0.7777777777777778,
             "#fb9f3a"
            ],
            [
             0.8888888888888888,
             "#fdca26"
            ],
            [
             1,
             "#f0f921"
            ]
           ],
           "sequentialminus": [
            [
             0,
             "#0d0887"
            ],
            [
             0.1111111111111111,
             "#46039f"
            ],
            [
             0.2222222222222222,
             "#7201a8"
            ],
            [
             0.3333333333333333,
             "#9c179e"
            ],
            [
             0.4444444444444444,
             "#bd3786"
            ],
            [
             0.5555555555555556,
             "#d8576b"
            ],
            [
             0.6666666666666666,
             "#ed7953"
            ],
            [
             0.7777777777777778,
             "#fb9f3a"
            ],
            [
             0.8888888888888888,
             "#fdca26"
            ],
            [
             1,
             "#f0f921"
            ]
           ]
          },
          "colorway": [
           "#636efa",
           "#EF553B",
           "#00cc96",
           "#ab63fa",
           "#FFA15A",
           "#19d3f3",
           "#FF6692",
           "#B6E880",
           "#FF97FF",
           "#FECB52"
          ],
          "font": {
           "color": "#2a3f5f"
          },
          "geo": {
           "bgcolor": "white",
           "lakecolor": "white",
           "landcolor": "#E5ECF6",
           "showlakes": true,
           "showland": true,
           "subunitcolor": "white"
          },
          "hoverlabel": {
           "align": "left"
          },
          "hovermode": "closest",
          "mapbox": {
           "style": "light"
          },
          "paper_bgcolor": "white",
          "plot_bgcolor": "#E5ECF6",
          "polar": {
           "angularaxis": {
            "gridcolor": "white",
            "linecolor": "white",
            "ticks": ""
           },
           "bgcolor": "#E5ECF6",
           "radialaxis": {
            "gridcolor": "white",
            "linecolor": "white",
            "ticks": ""
           }
          },
          "scene": {
           "xaxis": {
            "backgroundcolor": "#E5ECF6",
            "gridcolor": "white",
            "gridwidth": 2,
            "linecolor": "white",
            "showbackground": true,
            "ticks": "",
            "zerolinecolor": "white"
           },
           "yaxis": {
            "backgroundcolor": "#E5ECF6",
            "gridcolor": "white",
            "gridwidth": 2,
            "linecolor": "white",
            "showbackground": true,
            "ticks": "",
            "zerolinecolor": "white"
           },
           "zaxis": {
            "backgroundcolor": "#E5ECF6",
            "gridcolor": "white",
            "gridwidth": 2,
            "linecolor": "white",
            "showbackground": true,
            "ticks": "",
            "zerolinecolor": "white"
           }
          },
          "shapedefaults": {
           "line": {
            "color": "#2a3f5f"
           }
          },
          "ternary": {
           "aaxis": {
            "gridcolor": "white",
            "linecolor": "white",
            "ticks": ""
           },
           "baxis": {
            "gridcolor": "white",
            "linecolor": "white",
            "ticks": ""
           },
           "bgcolor": "#E5ECF6",
           "caxis": {
            "gridcolor": "white",
            "linecolor": "white",
            "ticks": ""
           }
          },
          "title": {
           "x": 0.05
          },
          "xaxis": {
           "automargin": true,
           "gridcolor": "white",
           "linecolor": "white",
           "ticks": "",
           "title": {
            "standoff": 15
           },
           "zerolinecolor": "white",
           "zerolinewidth": 2
          },
          "yaxis": {
           "automargin": true,
           "gridcolor": "white",
           "linecolor": "white",
           "ticks": "",
           "title": {
            "standoff": 15
           },
           "zerolinecolor": "white",
           "zerolinewidth": 2
          }
         }
        },
        "xaxis": {
         "anchor": "y",
         "domain": [
          0,
          1
         ],
         "title": {
          "text": "model_year"
         }
        },
        "yaxis": {
         "anchor": "x",
         "domain": [
          0,
          1
         ],
         "title": {
          "text": "origin"
         }
        }
       }
      },
      "text/html": [
       "<div>                            <div id=\"e0cef632-83ba-4321-995d-a841f3d40e6e\" class=\"plotly-graph-div\" style=\"height:525px; width:100%;\"></div>            <script type=\"text/javascript\">                require([\"plotly\"], function(Plotly) {                    window.PLOTLYENV=window.PLOTLYENV || {};                                    if (document.getElementById(\"e0cef632-83ba-4321-995d-a841f3d40e6e\")) {                    Plotly.newPlot(                        \"e0cef632-83ba-4321-995d-a841f3d40e6e\",                        [{\"coloraxis\":\"coloraxis\",\"histfunc\":\"sum\",\"hovertemplate\":\"model_year=%{x}<br>origin=%{y}<br>sum of horsepower=%{z}<extra></extra>\",\"name\":\"\",\"x\":[70,70,70,70,70,70,70,70,70,70,70,70,70,70,70,70,70,70,70,70,70,70,70,70,70,70,70,70,70,71,71,71,71,71,71,71,71,71,71,71,71,71,71,71,71,71,71,71,71,71,71,71,71,71,71,71,71,72,72,72,72,72,72,72,72,72,72,72,72,72,72,72,72,72,72,72,72,72,72,72,72,72,72,72,72,73,73,73,73,73,73,73,73,73,73,73,73,73,73,73,73,73,73,73,73,73,73,73,73,73,73,73,73,73,73,73,73,73,73,73,73,73,73,73,73,74,74,74,74,74,74,74,74,74,74,74,74,74,74,74,74,74,74,74,74,74,74,74,74,74,74,74,75,75,75,75,75,75,75,75,75,75,75,75,75,75,75,75,75,75,75,75,75,75,75,75,75,75,75,75,75,75,76,76,76,76,76,76,76,76,76,76,76,76,76,76,76,76,76,76,76,76,76,76,76,76,76,76,76,76,76,76,76,76,76,76,77,77,77,77,77,77,77,77,77,77,77,77,77,77,77,77,77,77,77,77,77,77,77,77,77,77,77,77,78,78,78,78,78,78,78,78,78,78,78,78,78,78,78,78,78,78,78,78,78,78,78,78,78,78,78,78,78,78,78,78,78,78,78,78,79,79,79,79,79,79,79,79,79,79,79,79,79,79,79,79,79,79,79,79,79,79,79,79,79,79,79,79,79,80,80,80,80,80,80,80,80,80,80,80,80,80,80,80,80,80,80,80,80,80,80,80,80,80,80,80,80,80,81,81,81,81,81,81,81,81,81,81,81,81,81,81,81,81,81,81,81,81,81,81,81,81,81,81,81,81,81,82,82,82,82,82,82,82,82,82,82,82,82,82,82,82,82,82,82,82,82,82,82,82,82,82,82,82,82,82,82,82],\"xaxis\":\"x\",\"xbingroup\":\"x\",\"y\":[\"usa\",\"usa\",\"usa\",\"usa\",\"usa\",\"usa\",\"usa\",\"usa\",\"usa\",\"usa\",\"usa\",\"usa\",\"usa\",\"usa\",\"japan\",\"usa\",\"usa\",\"usa\",\"japan\",\"europe\",\"europe\",\"europe\",\"europe\",\"europe\",\"usa\",\"usa\",\"usa\",\"usa\",\"usa\",\"japan\",\"usa\",\"japan\",\"usa\",\"usa\",\"usa\",\"usa\",\"usa\",\"usa\",\"usa\",\"usa\",\"usa\",\"usa\",\"usa\",\"usa\",\"usa\",\"usa\",\"usa\",\"usa\",\"usa\",\"usa\",\"europe\",\"europe\",\"europe\",\"japan\",\"japan\",\"europe\",\"usa\",\"japan\",\"usa\",\"europe\",\"usa\",\"usa\",\"usa\",\"usa\",\"usa\",\"usa\",\"usa\",\"usa\",\"usa\",\"usa\",\"usa\",\"japan\",\"usa\",\"usa\",\"usa\",\"usa\",\"europe\",\"europe\",\"europe\",\"europe\",\"usa\",\"japan\",\"japan\",\"usa\",\"japan\",\"usa\",\"usa\",\"usa\",\"usa\",\"usa\",\"usa\",\"usa\",\"usa\",\"usa\",\"usa\",\"usa\",\"usa\",\"usa\",\"usa\",\"usa\",\"usa\",\"usa\",\"europe\",\"usa\",\"usa\",\"usa\",\"usa\",\"usa\",\"japan\",\"usa\",\"japan\",\"japan\",\"usa\",\"usa\",\"europe\",\"usa\",\"usa\",\"europe\",\"europe\",\"europe\",\"europe\",\"usa\",\"europe\",\"japan\",\"usa\",\"usa\",\"usa\",\"usa\",\"usa\",\"japan\",\"usa\",\"japan\",\"usa\",\"usa\",\"usa\",\"usa\",\"usa\",\"usa\",\"usa\",\"usa\",\"usa\",\"europe\",\"europe\",\"europe\",\"japan\",\"japan\",\"usa\",\"europe\",\"europe\",\"japan\",\"japan\",\"europe\",\"usa\",\"usa\",\"usa\",\"usa\",\"usa\",\"usa\",\"usa\",\"usa\",\"usa\",\"usa\",\"usa\",\"usa\",\"usa\",\"usa\",\"usa\",\"japan\",\"usa\",\"usa\",\"usa\",\"japan\",\"europe\",\"japan\",\"usa\",\"europe\",\"usa\",\"europe\",\"europe\",\"europe\",\"europe\",\"japan\",\"europe\",\"europe\",\"usa\",\"usa\",\"europe\",\"usa\",\"usa\",\"usa\",\"usa\",\"usa\",\"usa\",\"usa\",\"usa\",\"usa\",\"usa\",\"europe\",\"japan\",\"usa\",\"usa\",\"usa\",\"usa\",\"europe\",\"japan\",\"japan\",\"usa\",\"europe\",\"usa\",\"europe\",\"japan\",\"europe\",\"usa\",\"usa\",\"usa\",\"usa\",\"japan\",\"usa\",\"europe\",\"usa\",\"japan\",\"usa\",\"usa\",\"usa\",\"usa\",\"usa\",\"usa\",\"usa\",\"usa\",\"usa\",\"usa\",\"usa\",\"usa\",\"europe\",\"usa\",\"japan\",\"usa\",\"usa\",\"usa\",\"japan\",\"europe\",\"japan\",\"europe\",\"japan\",\"europe\",\"usa\",\"japan\",\"japan\",\"japan\",\"usa\",\"usa\",\"usa\",\"usa\",\"usa\",\"usa\",\"usa\",\"usa\",\"usa\",\"usa\",\"usa\",\"usa\",\"usa\",\"usa\",\"usa\",\"usa\",\"usa\",\"usa\",\"japan\",\"japan\",\"usa\",\"japan\",\"usa\",\"usa\",\"japan\",\"europe\",\"europe\",\"europe\",\"europe\",\"europe\",\"japan\",\"usa\",\"usa\",\"usa\",\"usa\",\"usa\",\"usa\",\"usa\",\"usa\",\"usa\",\"usa\",\"usa\",\"usa\",\"usa\",\"europe\",\"japan\",\"usa\",\"usa\",\"europe\",\"usa\",\"europe\",\"usa\",\"usa\",\"usa\",\"japan\",\"europe\",\"usa\",\"usa\",\"usa\",\"usa\",\"europe\",\"japan\",\"usa\",\"japan\",\"usa\",\"usa\",\"usa\",\"usa\",\"europe\",\"japan\",\"japan\",\"japan\",\"japan\",\"japan\",\"usa\",\"japan\",\"europe\",\"europe\",\"europe\",\"europe\",\"japan\",\"europe\",\"japan\",\"europe\",\"japan\",\"japan\",\"europe\",\"usa\",\"japan\",\"usa\",\"usa\",\"usa\",\"usa\",\"usa\",\"japan\",\"usa\",\"japan\",\"japan\",\"japan\",\"japan\",\"japan\",\"usa\",\"usa\",\"usa\",\"europe\",\"europe\",\"japan\",\"japan\",\"japan\",\"japan\",\"europe\",\"europe\",\"japan\",\"japan\",\"usa\",\"usa\",\"usa\",\"usa\",\"usa\",\"usa\",\"usa\",\"usa\",\"usa\",\"usa\",\"usa\",\"usa\",\"europe\",\"japan\",\"japan\",\"usa\",\"usa\",\"japan\",\"japan\",\"japan\",\"japan\",\"japan\",\"japan\",\"usa\",\"usa\",\"usa\",\"usa\",\"japan\",\"usa\",\"usa\",\"usa\",\"europe\",\"usa\",\"usa\",\"usa\"],\"yaxis\":\"y\",\"ybingroup\":\"y\",\"z\":[130.0,165.0,150.0,150.0,140.0,198.0,220.0,215.0,225.0,190.0,170.0,160.0,150.0,225.0,95.0,95.0,97.0,85.0,88.0,46.0,87.0,90.0,95.0,113.0,90.0,215.0,200.0,210.0,193.0,88.0,90.0,95.0,null,100.0,105.0,100.0,88.0,100.0,165.0,175.0,153.0,150.0,180.0,170.0,175.0,110.0,72.0,100.0,88.0,86.0,90.0,70.0,76.0,65.0,69.0,60.0,70.0,95.0,80.0,54.0,90.0,86.0,165.0,175.0,150.0,153.0,150.0,208.0,155.0,160.0,190.0,97.0,150.0,130.0,140.0,150.0,112.0,76.0,87.0,69.0,86.0,92.0,97.0,80.0,88.0,175.0,150.0,145.0,137.0,150.0,198.0,150.0,158.0,150.0,215.0,225.0,175.0,105.0,100.0,100.0,88.0,95.0,46.0,150.0,167.0,170.0,180.0,100.0,88.0,72.0,94.0,90.0,85.0,107.0,90.0,145.0,230.0,49.0,75.0,91.0,112.0,150.0,110.0,122.0,180.0,95.0,null,100.0,100.0,67.0,80.0,65.0,75.0,100.0,110.0,105.0,140.0,150.0,150.0,140.0,150.0,83.0,67.0,78.0,52.0,61.0,75.0,75.0,75.0,97.0,93.0,67.0,95.0,105.0,72.0,72.0,170.0,145.0,150.0,148.0,110.0,105.0,110.0,95.0,110.0,110.0,129.0,75.0,83.0,100.0,78.0,96.0,71.0,97.0,97.0,70.0,90.0,95.0,88.0,98.0,115.0,53.0,86.0,81.0,92.0,79.0,83.0,140.0,150.0,120.0,152.0,100.0,105.0,81.0,90.0,52.0,60.0,70.0,53.0,100.0,78.0,110.0,95.0,71.0,70.0,75.0,72.0,102.0,150.0,88.0,108.0,120.0,180.0,145.0,130.0,150.0,68.0,80.0,58.0,96.0,70.0,145.0,110.0,145.0,130.0,110.0,105.0,100.0,98.0,180.0,170.0,190.0,149.0,78.0,88.0,75.0,89.0,63.0,83.0,67.0,78.0,97.0,110.0,110.0,48.0,66.0,52.0,70.0,60.0,110.0,140.0,139.0,105.0,95.0,85.0,88.0,100.0,90.0,105.0,85.0,110.0,120.0,145.0,165.0,139.0,140.0,68.0,95.0,97.0,75.0,95.0,105.0,85.0,97.0,103.0,125.0,115.0,133.0,71.0,68.0,115.0,85.0,88.0,90.0,110.0,130.0,129.0,138.0,135.0,155.0,142.0,125.0,150.0,71.0,65.0,80.0,80.0,77.0,125.0,71.0,90.0,70.0,70.0,65.0,69.0,90.0,115.0,115.0,90.0,76.0,60.0,70.0,65.0,90.0,88.0,90.0,90.0,78.0,90.0,75.0,92.0,75.0,65.0,105.0,65.0,48.0,48.0,67.0,67.0,67.0,null,67.0,62.0,132.0,100.0,88.0,null,72.0,84.0,84.0,92.0,110.0,84.0,58.0,64.0,60.0,67.0,65.0,62.0,68.0,63.0,65.0,65.0,74.0,null,75.0,75.0,100.0,74.0,80.0,76.0,116.0,120.0,110.0,105.0,88.0,85.0,88.0,88.0,88.0,85.0,84.0,90.0,92.0,null,74.0,68.0,68.0,63.0,70.0,88.0,75.0,70.0,67.0,67.0,67.0,110.0,85.0,92.0,112.0,96.0,84.0,90.0,86.0,52.0,84.0,79.0,82.0],\"type\":\"histogram2d\"}],                        {\"template\":{\"data\":{\"histogram2dcontour\":[{\"type\":\"histogram2dcontour\",\"colorbar\":{\"outlinewidth\":0,\"ticks\":\"\"},\"colorscale\":[[0.0,\"#0d0887\"],[0.1111111111111111,\"#46039f\"],[0.2222222222222222,\"#7201a8\"],[0.3333333333333333,\"#9c179e\"],[0.4444444444444444,\"#bd3786\"],[0.5555555555555556,\"#d8576b\"],[0.6666666666666666,\"#ed7953\"],[0.7777777777777778,\"#fb9f3a\"],[0.8888888888888888,\"#fdca26\"],[1.0,\"#f0f921\"]]}],\"choropleth\":[{\"type\":\"choropleth\",\"colorbar\":{\"outlinewidth\":0,\"ticks\":\"\"}}],\"histogram2d\":[{\"type\":\"histogram2d\",\"colorbar\":{\"outlinewidth\":0,\"ticks\":\"\"},\"colorscale\":[[0.0,\"#0d0887\"],[0.1111111111111111,\"#46039f\"],[0.2222222222222222,\"#7201a8\"],[0.3333333333333333,\"#9c179e\"],[0.4444444444444444,\"#bd3786\"],[0.5555555555555556,\"#d8576b\"],[0.6666666666666666,\"#ed7953\"],[0.7777777777777778,\"#fb9f3a\"],[0.8888888888888888,\"#fdca26\"],[1.0,\"#f0f921\"]]}],\"heatmap\":[{\"type\":\"heatmap\",\"colorbar\":{\"outlinewidth\":0,\"ticks\":\"\"},\"colorscale\":[[0.0,\"#0d0887\"],[0.1111111111111111,\"#46039f\"],[0.2222222222222222,\"#7201a8\"],[0.3333333333333333,\"#9c179e\"],[0.4444444444444444,\"#bd3786\"],[0.5555555555555556,\"#d8576b\"],[0.6666666666666666,\"#ed7953\"],[0.7777777777777778,\"#fb9f3a\"],[0.8888888888888888,\"#fdca26\"],[1.0,\"#f0f921\"]]}],\"heatmapgl\":[{\"type\":\"heatmapgl\",\"colorbar\":{\"outlinewidth\":0,\"ticks\":\"\"},\"colorscale\":[[0.0,\"#0d0887\"],[0.1111111111111111,\"#46039f\"],[0.2222222222222222,\"#7201a8\"],[0.3333333333333333,\"#9c179e\"],[0.4444444444444444,\"#bd3786\"],[0.5555555555555556,\"#d8576b\"],[0.6666666666666666,\"#ed7953\"],[0.7777777777777778,\"#fb9f3a\"],[0.8888888888888888,\"#fdca26\"],[1.0,\"#f0f921\"]]}],\"contourcarpet\":[{\"type\":\"contourcarpet\",\"colorbar\":{\"outlinewidth\":0,\"ticks\":\"\"}}],\"contour\":[{\"type\":\"contour\",\"colorbar\":{\"outlinewidth\":0,\"ticks\":\"\"},\"colorscale\":[[0.0,\"#0d0887\"],[0.1111111111111111,\"#46039f\"],[0.2222222222222222,\"#7201a8\"],[0.3333333333333333,\"#9c179e\"],[0.4444444444444444,\"#bd3786\"],[0.5555555555555556,\"#d8576b\"],[0.6666666666666666,\"#ed7953\"],[0.7777777777777778,\"#fb9f3a\"],[0.8888888888888888,\"#fdca26\"],[1.0,\"#f0f921\"]]}],\"surface\":[{\"type\":\"surface\",\"colorbar\":{\"outlinewidth\":0,\"ticks\":\"\"},\"colorscale\":[[0.0,\"#0d0887\"],[0.1111111111111111,\"#46039f\"],[0.2222222222222222,\"#7201a8\"],[0.3333333333333333,\"#9c179e\"],[0.4444444444444444,\"#bd3786\"],[0.5555555555555556,\"#d8576b\"],[0.6666666666666666,\"#ed7953\"],[0.7777777777777778,\"#fb9f3a\"],[0.8888888888888888,\"#fdca26\"],[1.0,\"#f0f921\"]]}],\"mesh3d\":[{\"type\":\"mesh3d\",\"colorbar\":{\"outlinewidth\":0,\"ticks\":\"\"}}],\"scatter\":[{\"fillpattern\":{\"fillmode\":\"overlay\",\"size\":10,\"solidity\":0.2},\"type\":\"scatter\"}],\"parcoords\":[{\"type\":\"parcoords\",\"line\":{\"colorbar\":{\"outlinewidth\":0,\"ticks\":\"\"}}}],\"scatterpolargl\":[{\"type\":\"scatterpolargl\",\"marker\":{\"colorbar\":{\"outlinewidth\":0,\"ticks\":\"\"}}}],\"bar\":[{\"error_x\":{\"color\":\"#2a3f5f\"},\"error_y\":{\"color\":\"#2a3f5f\"},\"marker\":{\"line\":{\"color\":\"#E5ECF6\",\"width\":0.5},\"pattern\":{\"fillmode\":\"overlay\",\"size\":10,\"solidity\":0.2}},\"type\":\"bar\"}],\"scattergeo\":[{\"type\":\"scattergeo\",\"marker\":{\"colorbar\":{\"outlinewidth\":0,\"ticks\":\"\"}}}],\"scatterpolar\":[{\"type\":\"scatterpolar\",\"marker\":{\"colorbar\":{\"outlinewidth\":0,\"ticks\":\"\"}}}],\"histogram\":[{\"marker\":{\"pattern\":{\"fillmode\":\"overlay\",\"size\":10,\"solidity\":0.2}},\"type\":\"histogram\"}],\"scattergl\":[{\"type\":\"scattergl\",\"marker\":{\"colorbar\":{\"outlinewidth\":0,\"ticks\":\"\"}}}],\"scatter3d\":[{\"type\":\"scatter3d\",\"line\":{\"colorbar\":{\"outlinewidth\":0,\"ticks\":\"\"}},\"marker\":{\"colorbar\":{\"outlinewidth\":0,\"ticks\":\"\"}}}],\"scattermapbox\":[{\"type\":\"scattermapbox\",\"marker\":{\"colorbar\":{\"outlinewidth\":0,\"ticks\":\"\"}}}],\"scatterternary\":[{\"type\":\"scatterternary\",\"marker\":{\"colorbar\":{\"outlinewidth\":0,\"ticks\":\"\"}}}],\"scattercarpet\":[{\"type\":\"scattercarpet\",\"marker\":{\"colorbar\":{\"outlinewidth\":0,\"ticks\":\"\"}}}],\"carpet\":[{\"aaxis\":{\"endlinecolor\":\"#2a3f5f\",\"gridcolor\":\"white\",\"linecolor\":\"white\",\"minorgridcolor\":\"white\",\"startlinecolor\":\"#2a3f5f\"},\"baxis\":{\"endlinecolor\":\"#2a3f5f\",\"gridcolor\":\"white\",\"linecolor\":\"white\",\"minorgridcolor\":\"white\",\"startlinecolor\":\"#2a3f5f\"},\"type\":\"carpet\"}],\"table\":[{\"cells\":{\"fill\":{\"color\":\"#EBF0F8\"},\"line\":{\"color\":\"white\"}},\"header\":{\"fill\":{\"color\":\"#C8D4E3\"},\"line\":{\"color\":\"white\"}},\"type\":\"table\"}],\"barpolar\":[{\"marker\":{\"line\":{\"color\":\"#E5ECF6\",\"width\":0.5},\"pattern\":{\"fillmode\":\"overlay\",\"size\":10,\"solidity\":0.2}},\"type\":\"barpolar\"}],\"pie\":[{\"automargin\":true,\"type\":\"pie\"}]},\"layout\":{\"autotypenumbers\":\"strict\",\"colorway\":[\"#636efa\",\"#EF553B\",\"#00cc96\",\"#ab63fa\",\"#FFA15A\",\"#19d3f3\",\"#FF6692\",\"#B6E880\",\"#FF97FF\",\"#FECB52\"],\"font\":{\"color\":\"#2a3f5f\"},\"hovermode\":\"closest\",\"hoverlabel\":{\"align\":\"left\"},\"paper_bgcolor\":\"white\",\"plot_bgcolor\":\"#E5ECF6\",\"polar\":{\"bgcolor\":\"#E5ECF6\",\"angularaxis\":{\"gridcolor\":\"white\",\"linecolor\":\"white\",\"ticks\":\"\"},\"radialaxis\":{\"gridcolor\":\"white\",\"linecolor\":\"white\",\"ticks\":\"\"}},\"ternary\":{\"bgcolor\":\"#E5ECF6\",\"aaxis\":{\"gridcolor\":\"white\",\"linecolor\":\"white\",\"ticks\":\"\"},\"baxis\":{\"gridcolor\":\"white\",\"linecolor\":\"white\",\"ticks\":\"\"},\"caxis\":{\"gridcolor\":\"white\",\"linecolor\":\"white\",\"ticks\":\"\"}},\"coloraxis\":{\"colorbar\":{\"outlinewidth\":0,\"ticks\":\"\"}},\"colorscale\":{\"sequential\":[[0.0,\"#0d0887\"],[0.1111111111111111,\"#46039f\"],[0.2222222222222222,\"#7201a8\"],[0.3333333333333333,\"#9c179e\"],[0.4444444444444444,\"#bd3786\"],[0.5555555555555556,\"#d8576b\"],[0.6666666666666666,\"#ed7953\"],[0.7777777777777778,\"#fb9f3a\"],[0.8888888888888888,\"#fdca26\"],[1.0,\"#f0f921\"]],\"sequentialminus\":[[0.0,\"#0d0887\"],[0.1111111111111111,\"#46039f\"],[0.2222222222222222,\"#7201a8\"],[0.3333333333333333,\"#9c179e\"],[0.4444444444444444,\"#bd3786\"],[0.5555555555555556,\"#d8576b\"],[0.6666666666666666,\"#ed7953\"],[0.7777777777777778,\"#fb9f3a\"],[0.8888888888888888,\"#fdca26\"],[1.0,\"#f0f921\"]],\"diverging\":[[0,\"#8e0152\"],[0.1,\"#c51b7d\"],[0.2,\"#de77ae\"],[0.3,\"#f1b6da\"],[0.4,\"#fde0ef\"],[0.5,\"#f7f7f7\"],[0.6,\"#e6f5d0\"],[0.7,\"#b8e186\"],[0.8,\"#7fbc41\"],[0.9,\"#4d9221\"],[1,\"#276419\"]]},\"xaxis\":{\"gridcolor\":\"white\",\"linecolor\":\"white\",\"ticks\":\"\",\"title\":{\"standoff\":15},\"zerolinecolor\":\"white\",\"automargin\":true,\"zerolinewidth\":2},\"yaxis\":{\"gridcolor\":\"white\",\"linecolor\":\"white\",\"ticks\":\"\",\"title\":{\"standoff\":15},\"zerolinecolor\":\"white\",\"automargin\":true,\"zerolinewidth\":2},\"scene\":{\"xaxis\":{\"backgroundcolor\":\"#E5ECF6\",\"gridcolor\":\"white\",\"linecolor\":\"white\",\"showbackground\":true,\"ticks\":\"\",\"zerolinecolor\":\"white\",\"gridwidth\":2},\"yaxis\":{\"backgroundcolor\":\"#E5ECF6\",\"gridcolor\":\"white\",\"linecolor\":\"white\",\"showbackground\":true,\"ticks\":\"\",\"zerolinecolor\":\"white\",\"gridwidth\":2},\"zaxis\":{\"backgroundcolor\":\"#E5ECF6\",\"gridcolor\":\"white\",\"linecolor\":\"white\",\"showbackground\":true,\"ticks\":\"\",\"zerolinecolor\":\"white\",\"gridwidth\":2}},\"shapedefaults\":{\"line\":{\"color\":\"#2a3f5f\"}},\"annotationdefaults\":{\"arrowcolor\":\"#2a3f5f\",\"arrowhead\":0,\"arrowwidth\":1},\"geo\":{\"bgcolor\":\"white\",\"landcolor\":\"#E5ECF6\",\"subunitcolor\":\"white\",\"showland\":true,\"showlakes\":true,\"lakecolor\":\"white\"},\"title\":{\"x\":0.05},\"mapbox\":{\"style\":\"light\"}}},\"xaxis\":{\"anchor\":\"y\",\"domain\":[0.0,1.0],\"title\":{\"text\":\"model_year\"}},\"yaxis\":{\"anchor\":\"x\",\"domain\":[0.0,1.0],\"title\":{\"text\":\"origin\"}},\"coloraxis\":{\"colorbar\":{\"title\":{\"text\":\"sum of horsepower\"}},\"colorscale\":[[0.0,\"#440154\"],[0.1111111111111111,\"#482878\"],[0.2222222222222222,\"#3e4989\"],[0.3333333333333333,\"#31688e\"],[0.4444444444444444,\"#26828e\"],[0.5555555555555556,\"#1f9e89\"],[0.6666666666666666,\"#35b779\"],[0.7777777777777778,\"#6ece58\"],[0.8888888888888888,\"#b5de2b\"],[1.0,\"#fde725\"]]},\"legend\":{\"tracegroupgap\":0},\"margin\":{\"t\":60}},                        {\"responsive\": true}                    ).then(function(){\n",
       "                            \n",
       "var gd = document.getElementById('e0cef632-83ba-4321-995d-a841f3d40e6e');\n",
       "var x = new MutationObserver(function (mutations, observer) {{\n",
       "        var display = window.getComputedStyle(gd).display;\n",
       "        if (!display || display === 'none') {{\n",
       "            console.log([gd, 'removed!']);\n",
       "            Plotly.purge(gd);\n",
       "            observer.disconnect();\n",
       "        }}\n",
       "}});\n",
       "\n",
       "// Listen for the removal of the full notebook cells\n",
       "var notebookContainer = gd.closest('#notebook-container');\n",
       "if (notebookContainer) {{\n",
       "    x.observe(notebookContainer, {childList: true});\n",
       "}}\n",
       "\n",
       "// Listen for the clearing of the current output cell\n",
       "var outputEl = gd.closest('.output');\n",
       "if (outputEl) {{\n",
       "    x.observe(outputEl, {childList: true});\n",
       "}}\n",
       "\n",
       "                        })                };                });            </script>        </div>"
      ]
     },
     "metadata": {},
     "output_type": "display_data"
    }
   ],
   "source": [
    "px.density_heatmap(data, x = \"model_year\", y = \"origin\", z = \"horsepower\", color_continuous_scale = \"Viridis\")"
   ]
  },
  {
   "cell_type": "code",
   "execution_count": 60,
   "id": "dbb0db04",
   "metadata": {},
   "outputs": [
    {
     "data": {
      "application/vnd.plotly.v1+json": {
       "config": {
        "plotlyServerURL": "https://plot.ly"
       },
       "data": [
        {
         "hovertemplate": "origin=%{x}<br>model_year=%{marker.color}<br>horsepower=%{z}<extra></extra>",
         "legendgroup": "",
         "marker": {
          "color": [
           70,
           70,
           70,
           70,
           70,
           70,
           70,
           70,
           70,
           70,
           70,
           70,
           70,
           70,
           70,
           70,
           70,
           70,
           70,
           70,
           70,
           70,
           70,
           70,
           70,
           70,
           70,
           70,
           70,
           71,
           71,
           71,
           71,
           71,
           71,
           71,
           71,
           71,
           71,
           71,
           71,
           71,
           71,
           71,
           71,
           71,
           71,
           71,
           71,
           71,
           71,
           71,
           71,
           71,
           71,
           71,
           71,
           72,
           72,
           72,
           72,
           72,
           72,
           72,
           72,
           72,
           72,
           72,
           72,
           72,
           72,
           72,
           72,
           72,
           72,
           72,
           72,
           72,
           72,
           72,
           72,
           72,
           72,
           72,
           72,
           73,
           73,
           73,
           73,
           73,
           73,
           73,
           73,
           73,
           73,
           73,
           73,
           73,
           73,
           73,
           73,
           73,
           73,
           73,
           73,
           73,
           73,
           73,
           73,
           73,
           73,
           73,
           73,
           73,
           73,
           73,
           73,
           73,
           73,
           73,
           73,
           73,
           73,
           73,
           73,
           74,
           74,
           74,
           74,
           74,
           74,
           74,
           74,
           74,
           74,
           74,
           74,
           74,
           74,
           74,
           74,
           74,
           74,
           74,
           74,
           74,
           74,
           74,
           74,
           74,
           74,
           74,
           75,
           75,
           75,
           75,
           75,
           75,
           75,
           75,
           75,
           75,
           75,
           75,
           75,
           75,
           75,
           75,
           75,
           75,
           75,
           75,
           75,
           75,
           75,
           75,
           75,
           75,
           75,
           75,
           75,
           75,
           76,
           76,
           76,
           76,
           76,
           76,
           76,
           76,
           76,
           76,
           76,
           76,
           76,
           76,
           76,
           76,
           76,
           76,
           76,
           76,
           76,
           76,
           76,
           76,
           76,
           76,
           76,
           76,
           76,
           76,
           76,
           76,
           76,
           76,
           77,
           77,
           77,
           77,
           77,
           77,
           77,
           77,
           77,
           77,
           77,
           77,
           77,
           77,
           77,
           77,
           77,
           77,
           77,
           77,
           77,
           77,
           77,
           77,
           77,
           77,
           77,
           77,
           78,
           78,
           78,
           78,
           78,
           78,
           78,
           78,
           78,
           78,
           78,
           78,
           78,
           78,
           78,
           78,
           78,
           78,
           78,
           78,
           78,
           78,
           78,
           78,
           78,
           78,
           78,
           78,
           78,
           78,
           78,
           78,
           78,
           78,
           78,
           78,
           79,
           79,
           79,
           79,
           79,
           79,
           79,
           79,
           79,
           79,
           79,
           79,
           79,
           79,
           79,
           79,
           79,
           79,
           79,
           79,
           79,
           79,
           79,
           79,
           79,
           79,
           79,
           79,
           79,
           80,
           80,
           80,
           80,
           80,
           80,
           80,
           80,
           80,
           80,
           80,
           80,
           80,
           80,
           80,
           80,
           80,
           80,
           80,
           80,
           80,
           80,
           80,
           80,
           80,
           80,
           80,
           80,
           80,
           81,
           81,
           81,
           81,
           81,
           81,
           81,
           81,
           81,
           81,
           81,
           81,
           81,
           81,
           81,
           81,
           81,
           81,
           81,
           81,
           81,
           81,
           81,
           81,
           81,
           81,
           81,
           81,
           81,
           82,
           82,
           82,
           82,
           82,
           82,
           82,
           82,
           82,
           82,
           82,
           82,
           82,
           82,
           82,
           82,
           82,
           82,
           82,
           82,
           82,
           82,
           82,
           82,
           82,
           82,
           82,
           82,
           82,
           82,
           82
          ],
          "coloraxis": "coloraxis",
          "opacity": 0.7,
          "symbol": "circle"
         },
         "mode": "markers",
         "name": "",
         "scene": "scene",
         "showlegend": false,
         "type": "scatter3d",
         "x": [
          "usa",
          "usa",
          "usa",
          "usa",
          "usa",
          "usa",
          "usa",
          "usa",
          "usa",
          "usa",
          "usa",
          "usa",
          "usa",
          "usa",
          "japan",
          "usa",
          "usa",
          "usa",
          "japan",
          "europe",
          "europe",
          "europe",
          "europe",
          "europe",
          "usa",
          "usa",
          "usa",
          "usa",
          "usa",
          "japan",
          "usa",
          "japan",
          "usa",
          "usa",
          "usa",
          "usa",
          "usa",
          "usa",
          "usa",
          "usa",
          "usa",
          "usa",
          "usa",
          "usa",
          "usa",
          "usa",
          "usa",
          "usa",
          "usa",
          "usa",
          "europe",
          "europe",
          "europe",
          "japan",
          "japan",
          "europe",
          "usa",
          "japan",
          "usa",
          "europe",
          "usa",
          "usa",
          "usa",
          "usa",
          "usa",
          "usa",
          "usa",
          "usa",
          "usa",
          "usa",
          "usa",
          "japan",
          "usa",
          "usa",
          "usa",
          "usa",
          "europe",
          "europe",
          "europe",
          "europe",
          "usa",
          "japan",
          "japan",
          "usa",
          "japan",
          "usa",
          "usa",
          "usa",
          "usa",
          "usa",
          "usa",
          "usa",
          "usa",
          "usa",
          "usa",
          "usa",
          "usa",
          "usa",
          "usa",
          "usa",
          "usa",
          "usa",
          "europe",
          "usa",
          "usa",
          "usa",
          "usa",
          "usa",
          "japan",
          "usa",
          "japan",
          "japan",
          "usa",
          "usa",
          "europe",
          "usa",
          "usa",
          "europe",
          "europe",
          "europe",
          "europe",
          "usa",
          "europe",
          "japan",
          "usa",
          "usa",
          "usa",
          "usa",
          "usa",
          "japan",
          "usa",
          "japan",
          "usa",
          "usa",
          "usa",
          "usa",
          "usa",
          "usa",
          "usa",
          "usa",
          "usa",
          "europe",
          "europe",
          "europe",
          "japan",
          "japan",
          "usa",
          "europe",
          "europe",
          "japan",
          "japan",
          "europe",
          "usa",
          "usa",
          "usa",
          "usa",
          "usa",
          "usa",
          "usa",
          "usa",
          "usa",
          "usa",
          "usa",
          "usa",
          "usa",
          "usa",
          "usa",
          "japan",
          "usa",
          "usa",
          "usa",
          "japan",
          "europe",
          "japan",
          "usa",
          "europe",
          "usa",
          "europe",
          "europe",
          "europe",
          "europe",
          "japan",
          "europe",
          "europe",
          "usa",
          "usa",
          "europe",
          "usa",
          "usa",
          "usa",
          "usa",
          "usa",
          "usa",
          "usa",
          "usa",
          "usa",
          "usa",
          "europe",
          "japan",
          "usa",
          "usa",
          "usa",
          "usa",
          "europe",
          "japan",
          "japan",
          "usa",
          "europe",
          "usa",
          "europe",
          "japan",
          "europe",
          "usa",
          "usa",
          "usa",
          "usa",
          "japan",
          "usa",
          "europe",
          "usa",
          "japan",
          "usa",
          "usa",
          "usa",
          "usa",
          "usa",
          "usa",
          "usa",
          "usa",
          "usa",
          "usa",
          "usa",
          "usa",
          "europe",
          "usa",
          "japan",
          "usa",
          "usa",
          "usa",
          "japan",
          "europe",
          "japan",
          "europe",
          "japan",
          "europe",
          "usa",
          "japan",
          "japan",
          "japan",
          "usa",
          "usa",
          "usa",
          "usa",
          "usa",
          "usa",
          "usa",
          "usa",
          "usa",
          "usa",
          "usa",
          "usa",
          "usa",
          "usa",
          "usa",
          "usa",
          "usa",
          "usa",
          "japan",
          "japan",
          "usa",
          "japan",
          "usa",
          "usa",
          "japan",
          "europe",
          "europe",
          "europe",
          "europe",
          "europe",
          "japan",
          "usa",
          "usa",
          "usa",
          "usa",
          "usa",
          "usa",
          "usa",
          "usa",
          "usa",
          "usa",
          "usa",
          "usa",
          "usa",
          "europe",
          "japan",
          "usa",
          "usa",
          "europe",
          "usa",
          "europe",
          "usa",
          "usa",
          "usa",
          "japan",
          "europe",
          "usa",
          "usa",
          "usa",
          "usa",
          "europe",
          "japan",
          "usa",
          "japan",
          "usa",
          "usa",
          "usa",
          "usa",
          "europe",
          "japan",
          "japan",
          "japan",
          "japan",
          "japan",
          "usa",
          "japan",
          "europe",
          "europe",
          "europe",
          "europe",
          "japan",
          "europe",
          "japan",
          "europe",
          "japan",
          "japan",
          "europe",
          "usa",
          "japan",
          "usa",
          "usa",
          "usa",
          "usa",
          "usa",
          "japan",
          "usa",
          "japan",
          "japan",
          "japan",
          "japan",
          "japan",
          "usa",
          "usa",
          "usa",
          "europe",
          "europe",
          "japan",
          "japan",
          "japan",
          "japan",
          "europe",
          "europe",
          "japan",
          "japan",
          "usa",
          "usa",
          "usa",
          "usa",
          "usa",
          "usa",
          "usa",
          "usa",
          "usa",
          "usa",
          "usa",
          "usa",
          "europe",
          "japan",
          "japan",
          "usa",
          "usa",
          "japan",
          "japan",
          "japan",
          "japan",
          "japan",
          "japan",
          "usa",
          "usa",
          "usa",
          "usa",
          "japan",
          "usa",
          "usa",
          "usa",
          "europe",
          "usa",
          "usa",
          "usa"
         ],
         "y": [
          70,
          70,
          70,
          70,
          70,
          70,
          70,
          70,
          70,
          70,
          70,
          70,
          70,
          70,
          70,
          70,
          70,
          70,
          70,
          70,
          70,
          70,
          70,
          70,
          70,
          70,
          70,
          70,
          70,
          71,
          71,
          71,
          71,
          71,
          71,
          71,
          71,
          71,
          71,
          71,
          71,
          71,
          71,
          71,
          71,
          71,
          71,
          71,
          71,
          71,
          71,
          71,
          71,
          71,
          71,
          71,
          71,
          72,
          72,
          72,
          72,
          72,
          72,
          72,
          72,
          72,
          72,
          72,
          72,
          72,
          72,
          72,
          72,
          72,
          72,
          72,
          72,
          72,
          72,
          72,
          72,
          72,
          72,
          72,
          72,
          73,
          73,
          73,
          73,
          73,
          73,
          73,
          73,
          73,
          73,
          73,
          73,
          73,
          73,
          73,
          73,
          73,
          73,
          73,
          73,
          73,
          73,
          73,
          73,
          73,
          73,
          73,
          73,
          73,
          73,
          73,
          73,
          73,
          73,
          73,
          73,
          73,
          73,
          73,
          73,
          74,
          74,
          74,
          74,
          74,
          74,
          74,
          74,
          74,
          74,
          74,
          74,
          74,
          74,
          74,
          74,
          74,
          74,
          74,
          74,
          74,
          74,
          74,
          74,
          74,
          74,
          74,
          75,
          75,
          75,
          75,
          75,
          75,
          75,
          75,
          75,
          75,
          75,
          75,
          75,
          75,
          75,
          75,
          75,
          75,
          75,
          75,
          75,
          75,
          75,
          75,
          75,
          75,
          75,
          75,
          75,
          75,
          76,
          76,
          76,
          76,
          76,
          76,
          76,
          76,
          76,
          76,
          76,
          76,
          76,
          76,
          76,
          76,
          76,
          76,
          76,
          76,
          76,
          76,
          76,
          76,
          76,
          76,
          76,
          76,
          76,
          76,
          76,
          76,
          76,
          76,
          77,
          77,
          77,
          77,
          77,
          77,
          77,
          77,
          77,
          77,
          77,
          77,
          77,
          77,
          77,
          77,
          77,
          77,
          77,
          77,
          77,
          77,
          77,
          77,
          77,
          77,
          77,
          77,
          78,
          78,
          78,
          78,
          78,
          78,
          78,
          78,
          78,
          78,
          78,
          78,
          78,
          78,
          78,
          78,
          78,
          78,
          78,
          78,
          78,
          78,
          78,
          78,
          78,
          78,
          78,
          78,
          78,
          78,
          78,
          78,
          78,
          78,
          78,
          78,
          79,
          79,
          79,
          79,
          79,
          79,
          79,
          79,
          79,
          79,
          79,
          79,
          79,
          79,
          79,
          79,
          79,
          79,
          79,
          79,
          79,
          79,
          79,
          79,
          79,
          79,
          79,
          79,
          79,
          80,
          80,
          80,
          80,
          80,
          80,
          80,
          80,
          80,
          80,
          80,
          80,
          80,
          80,
          80,
          80,
          80,
          80,
          80,
          80,
          80,
          80,
          80,
          80,
          80,
          80,
          80,
          80,
          80,
          81,
          81,
          81,
          81,
          81,
          81,
          81,
          81,
          81,
          81,
          81,
          81,
          81,
          81,
          81,
          81,
          81,
          81,
          81,
          81,
          81,
          81,
          81,
          81,
          81,
          81,
          81,
          81,
          81,
          82,
          82,
          82,
          82,
          82,
          82,
          82,
          82,
          82,
          82,
          82,
          82,
          82,
          82,
          82,
          82,
          82,
          82,
          82,
          82,
          82,
          82,
          82,
          82,
          82,
          82,
          82,
          82,
          82,
          82,
          82
         ],
         "z": [
          130,
          165,
          150,
          150,
          140,
          198,
          220,
          215,
          225,
          190,
          170,
          160,
          150,
          225,
          95,
          95,
          97,
          85,
          88,
          46,
          87,
          90,
          95,
          113,
          90,
          215,
          200,
          210,
          193,
          88,
          90,
          95,
          null,
          100,
          105,
          100,
          88,
          100,
          165,
          175,
          153,
          150,
          180,
          170,
          175,
          110,
          72,
          100,
          88,
          86,
          90,
          70,
          76,
          65,
          69,
          60,
          70,
          95,
          80,
          54,
          90,
          86,
          165,
          175,
          150,
          153,
          150,
          208,
          155,
          160,
          190,
          97,
          150,
          130,
          140,
          150,
          112,
          76,
          87,
          69,
          86,
          92,
          97,
          80,
          88,
          175,
          150,
          145,
          137,
          150,
          198,
          150,
          158,
          150,
          215,
          225,
          175,
          105,
          100,
          100,
          88,
          95,
          46,
          150,
          167,
          170,
          180,
          100,
          88,
          72,
          94,
          90,
          85,
          107,
          90,
          145,
          230,
          49,
          75,
          91,
          112,
          150,
          110,
          122,
          180,
          95,
          null,
          100,
          100,
          67,
          80,
          65,
          75,
          100,
          110,
          105,
          140,
          150,
          150,
          140,
          150,
          83,
          67,
          78,
          52,
          61,
          75,
          75,
          75,
          97,
          93,
          67,
          95,
          105,
          72,
          72,
          170,
          145,
          150,
          148,
          110,
          105,
          110,
          95,
          110,
          110,
          129,
          75,
          83,
          100,
          78,
          96,
          71,
          97,
          97,
          70,
          90,
          95,
          88,
          98,
          115,
          53,
          86,
          81,
          92,
          79,
          83,
          140,
          150,
          120,
          152,
          100,
          105,
          81,
          90,
          52,
          60,
          70,
          53,
          100,
          78,
          110,
          95,
          71,
          70,
          75,
          72,
          102,
          150,
          88,
          108,
          120,
          180,
          145,
          130,
          150,
          68,
          80,
          58,
          96,
          70,
          145,
          110,
          145,
          130,
          110,
          105,
          100,
          98,
          180,
          170,
          190,
          149,
          78,
          88,
          75,
          89,
          63,
          83,
          67,
          78,
          97,
          110,
          110,
          48,
          66,
          52,
          70,
          60,
          110,
          140,
          139,
          105,
          95,
          85,
          88,
          100,
          90,
          105,
          85,
          110,
          120,
          145,
          165,
          139,
          140,
          68,
          95,
          97,
          75,
          95,
          105,
          85,
          97,
          103,
          125,
          115,
          133,
          71,
          68,
          115,
          85,
          88,
          90,
          110,
          130,
          129,
          138,
          135,
          155,
          142,
          125,
          150,
          71,
          65,
          80,
          80,
          77,
          125,
          71,
          90,
          70,
          70,
          65,
          69,
          90,
          115,
          115,
          90,
          76,
          60,
          70,
          65,
          90,
          88,
          90,
          90,
          78,
          90,
          75,
          92,
          75,
          65,
          105,
          65,
          48,
          48,
          67,
          67,
          67,
          null,
          67,
          62,
          132,
          100,
          88,
          null,
          72,
          84,
          84,
          92,
          110,
          84,
          58,
          64,
          60,
          67,
          65,
          62,
          68,
          63,
          65,
          65,
          74,
          null,
          75,
          75,
          100,
          74,
          80,
          76,
          116,
          120,
          110,
          105,
          88,
          85,
          88,
          88,
          88,
          85,
          84,
          90,
          92,
          null,
          74,
          68,
          68,
          63,
          70,
          88,
          75,
          70,
          67,
          67,
          67,
          110,
          85,
          92,
          112,
          96,
          84,
          90,
          86,
          52,
          84,
          79,
          82
         ]
        }
       ],
       "layout": {
        "coloraxis": {
         "colorbar": {
          "title": {
           "text": "model_year"
          }
         },
         "colorscale": [
          [
           0,
           "#0d0887"
          ],
          [
           0.1111111111111111,
           "#46039f"
          ],
          [
           0.2222222222222222,
           "#7201a8"
          ],
          [
           0.3333333333333333,
           "#9c179e"
          ],
          [
           0.4444444444444444,
           "#bd3786"
          ],
          [
           0.5555555555555556,
           "#d8576b"
          ],
          [
           0.6666666666666666,
           "#ed7953"
          ],
          [
           0.7777777777777778,
           "#fb9f3a"
          ],
          [
           0.8888888888888888,
           "#fdca26"
          ],
          [
           1,
           "#f0f921"
          ]
         ]
        },
        "legend": {
         "tracegroupgap": 0
        },
        "margin": {
         "t": 60
        },
        "scene": {
         "domain": {
          "x": [
           0,
           1
          ],
          "y": [
           0,
           1
          ]
         },
         "xaxis": {
          "title": {
           "text": "origin"
          }
         },
         "yaxis": {
          "title": {
           "text": "model_year"
          }
         },
         "zaxis": {
          "title": {
           "text": "horsepower"
          }
         }
        },
        "template": {
         "data": {
          "bar": [
           {
            "error_x": {
             "color": "#2a3f5f"
            },
            "error_y": {
             "color": "#2a3f5f"
            },
            "marker": {
             "line": {
              "color": "#E5ECF6",
              "width": 0.5
             },
             "pattern": {
              "fillmode": "overlay",
              "size": 10,
              "solidity": 0.2
             }
            },
            "type": "bar"
           }
          ],
          "barpolar": [
           {
            "marker": {
             "line": {
              "color": "#E5ECF6",
              "width": 0.5
             },
             "pattern": {
              "fillmode": "overlay",
              "size": 10,
              "solidity": 0.2
             }
            },
            "type": "barpolar"
           }
          ],
          "carpet": [
           {
            "aaxis": {
             "endlinecolor": "#2a3f5f",
             "gridcolor": "white",
             "linecolor": "white",
             "minorgridcolor": "white",
             "startlinecolor": "#2a3f5f"
            },
            "baxis": {
             "endlinecolor": "#2a3f5f",
             "gridcolor": "white",
             "linecolor": "white",
             "minorgridcolor": "white",
             "startlinecolor": "#2a3f5f"
            },
            "type": "carpet"
           }
          ],
          "choropleth": [
           {
            "colorbar": {
             "outlinewidth": 0,
             "ticks": ""
            },
            "type": "choropleth"
           }
          ],
          "contour": [
           {
            "colorbar": {
             "outlinewidth": 0,
             "ticks": ""
            },
            "colorscale": [
             [
              0,
              "#0d0887"
             ],
             [
              0.1111111111111111,
              "#46039f"
             ],
             [
              0.2222222222222222,
              "#7201a8"
             ],
             [
              0.3333333333333333,
              "#9c179e"
             ],
             [
              0.4444444444444444,
              "#bd3786"
             ],
             [
              0.5555555555555556,
              "#d8576b"
             ],
             [
              0.6666666666666666,
              "#ed7953"
             ],
             [
              0.7777777777777778,
              "#fb9f3a"
             ],
             [
              0.8888888888888888,
              "#fdca26"
             ],
             [
              1,
              "#f0f921"
             ]
            ],
            "type": "contour"
           }
          ],
          "contourcarpet": [
           {
            "colorbar": {
             "outlinewidth": 0,
             "ticks": ""
            },
            "type": "contourcarpet"
           }
          ],
          "heatmap": [
           {
            "colorbar": {
             "outlinewidth": 0,
             "ticks": ""
            },
            "colorscale": [
             [
              0,
              "#0d0887"
             ],
             [
              0.1111111111111111,
              "#46039f"
             ],
             [
              0.2222222222222222,
              "#7201a8"
             ],
             [
              0.3333333333333333,
              "#9c179e"
             ],
             [
              0.4444444444444444,
              "#bd3786"
             ],
             [
              0.5555555555555556,
              "#d8576b"
             ],
             [
              0.6666666666666666,
              "#ed7953"
             ],
             [
              0.7777777777777778,
              "#fb9f3a"
             ],
             [
              0.8888888888888888,
              "#fdca26"
             ],
             [
              1,
              "#f0f921"
             ]
            ],
            "type": "heatmap"
           }
          ],
          "heatmapgl": [
           {
            "colorbar": {
             "outlinewidth": 0,
             "ticks": ""
            },
            "colorscale": [
             [
              0,
              "#0d0887"
             ],
             [
              0.1111111111111111,
              "#46039f"
             ],
             [
              0.2222222222222222,
              "#7201a8"
             ],
             [
              0.3333333333333333,
              "#9c179e"
             ],
             [
              0.4444444444444444,
              "#bd3786"
             ],
             [
              0.5555555555555556,
              "#d8576b"
             ],
             [
              0.6666666666666666,
              "#ed7953"
             ],
             [
              0.7777777777777778,
              "#fb9f3a"
             ],
             [
              0.8888888888888888,
              "#fdca26"
             ],
             [
              1,
              "#f0f921"
             ]
            ],
            "type": "heatmapgl"
           }
          ],
          "histogram": [
           {
            "marker": {
             "pattern": {
              "fillmode": "overlay",
              "size": 10,
              "solidity": 0.2
             }
            },
            "type": "histogram"
           }
          ],
          "histogram2d": [
           {
            "colorbar": {
             "outlinewidth": 0,
             "ticks": ""
            },
            "colorscale": [
             [
              0,
              "#0d0887"
             ],
             [
              0.1111111111111111,
              "#46039f"
             ],
             [
              0.2222222222222222,
              "#7201a8"
             ],
             [
              0.3333333333333333,
              "#9c179e"
             ],
             [
              0.4444444444444444,
              "#bd3786"
             ],
             [
              0.5555555555555556,
              "#d8576b"
             ],
             [
              0.6666666666666666,
              "#ed7953"
             ],
             [
              0.7777777777777778,
              "#fb9f3a"
             ],
             [
              0.8888888888888888,
              "#fdca26"
             ],
             [
              1,
              "#f0f921"
             ]
            ],
            "type": "histogram2d"
           }
          ],
          "histogram2dcontour": [
           {
            "colorbar": {
             "outlinewidth": 0,
             "ticks": ""
            },
            "colorscale": [
             [
              0,
              "#0d0887"
             ],
             [
              0.1111111111111111,
              "#46039f"
             ],
             [
              0.2222222222222222,
              "#7201a8"
             ],
             [
              0.3333333333333333,
              "#9c179e"
             ],
             [
              0.4444444444444444,
              "#bd3786"
             ],
             [
              0.5555555555555556,
              "#d8576b"
             ],
             [
              0.6666666666666666,
              "#ed7953"
             ],
             [
              0.7777777777777778,
              "#fb9f3a"
             ],
             [
              0.8888888888888888,
              "#fdca26"
             ],
             [
              1,
              "#f0f921"
             ]
            ],
            "type": "histogram2dcontour"
           }
          ],
          "mesh3d": [
           {
            "colorbar": {
             "outlinewidth": 0,
             "ticks": ""
            },
            "type": "mesh3d"
           }
          ],
          "parcoords": [
           {
            "line": {
             "colorbar": {
              "outlinewidth": 0,
              "ticks": ""
             }
            },
            "type": "parcoords"
           }
          ],
          "pie": [
           {
            "automargin": true,
            "type": "pie"
           }
          ],
          "scatter": [
           {
            "fillpattern": {
             "fillmode": "overlay",
             "size": 10,
             "solidity": 0.2
            },
            "type": "scatter"
           }
          ],
          "scatter3d": [
           {
            "line": {
             "colorbar": {
              "outlinewidth": 0,
              "ticks": ""
             }
            },
            "marker": {
             "colorbar": {
              "outlinewidth": 0,
              "ticks": ""
             }
            },
            "type": "scatter3d"
           }
          ],
          "scattercarpet": [
           {
            "marker": {
             "colorbar": {
              "outlinewidth": 0,
              "ticks": ""
             }
            },
            "type": "scattercarpet"
           }
          ],
          "scattergeo": [
           {
            "marker": {
             "colorbar": {
              "outlinewidth": 0,
              "ticks": ""
             }
            },
            "type": "scattergeo"
           }
          ],
          "scattergl": [
           {
            "marker": {
             "colorbar": {
              "outlinewidth": 0,
              "ticks": ""
             }
            },
            "type": "scattergl"
           }
          ],
          "scattermapbox": [
           {
            "marker": {
             "colorbar": {
              "outlinewidth": 0,
              "ticks": ""
             }
            },
            "type": "scattermapbox"
           }
          ],
          "scatterpolar": [
           {
            "marker": {
             "colorbar": {
              "outlinewidth": 0,
              "ticks": ""
             }
            },
            "type": "scatterpolar"
           }
          ],
          "scatterpolargl": [
           {
            "marker": {
             "colorbar": {
              "outlinewidth": 0,
              "ticks": ""
             }
            },
            "type": "scatterpolargl"
           }
          ],
          "scatterternary": [
           {
            "marker": {
             "colorbar": {
              "outlinewidth": 0,
              "ticks": ""
             }
            },
            "type": "scatterternary"
           }
          ],
          "surface": [
           {
            "colorbar": {
             "outlinewidth": 0,
             "ticks": ""
            },
            "colorscale": [
             [
              0,
              "#0d0887"
             ],
             [
              0.1111111111111111,
              "#46039f"
             ],
             [
              0.2222222222222222,
              "#7201a8"
             ],
             [
              0.3333333333333333,
              "#9c179e"
             ],
             [
              0.4444444444444444,
              "#bd3786"
             ],
             [
              0.5555555555555556,
              "#d8576b"
             ],
             [
              0.6666666666666666,
              "#ed7953"
             ],
             [
              0.7777777777777778,
              "#fb9f3a"
             ],
             [
              0.8888888888888888,
              "#fdca26"
             ],
             [
              1,
              "#f0f921"
             ]
            ],
            "type": "surface"
           }
          ],
          "table": [
           {
            "cells": {
             "fill": {
              "color": "#EBF0F8"
             },
             "line": {
              "color": "white"
             }
            },
            "header": {
             "fill": {
              "color": "#C8D4E3"
             },
             "line": {
              "color": "white"
             }
            },
            "type": "table"
           }
          ]
         },
         "layout": {
          "annotationdefaults": {
           "arrowcolor": "#2a3f5f",
           "arrowhead": 0,
           "arrowwidth": 1
          },
          "autotypenumbers": "strict",
          "coloraxis": {
           "colorbar": {
            "outlinewidth": 0,
            "ticks": ""
           }
          },
          "colorscale": {
           "diverging": [
            [
             0,
             "#8e0152"
            ],
            [
             0.1,
             "#c51b7d"
            ],
            [
             0.2,
             "#de77ae"
            ],
            [
             0.3,
             "#f1b6da"
            ],
            [
             0.4,
             "#fde0ef"
            ],
            [
             0.5,
             "#f7f7f7"
            ],
            [
             0.6,
             "#e6f5d0"
            ],
            [
             0.7,
             "#b8e186"
            ],
            [
             0.8,
             "#7fbc41"
            ],
            [
             0.9,
             "#4d9221"
            ],
            [
             1,
             "#276419"
            ]
           ],
           "sequential": [
            [
             0,
             "#0d0887"
            ],
            [
             0.1111111111111111,
             "#46039f"
            ],
            [
             0.2222222222222222,
             "#7201a8"
            ],
            [
             0.3333333333333333,
             "#9c179e"
            ],
            [
             0.4444444444444444,
             "#bd3786"
            ],
            [
             0.5555555555555556,
             "#d8576b"
            ],
            [
             0.6666666666666666,
             "#ed7953"
            ],
            [
             0.7777777777777778,
             "#fb9f3a"
            ],
            [
             0.8888888888888888,
             "#fdca26"
            ],
            [
             1,
             "#f0f921"
            ]
           ],
           "sequentialminus": [
            [
             0,
             "#0d0887"
            ],
            [
             0.1111111111111111,
             "#46039f"
            ],
            [
             0.2222222222222222,
             "#7201a8"
            ],
            [
             0.3333333333333333,
             "#9c179e"
            ],
            [
             0.4444444444444444,
             "#bd3786"
            ],
            [
             0.5555555555555556,
             "#d8576b"
            ],
            [
             0.6666666666666666,
             "#ed7953"
            ],
            [
             0.7777777777777778,
             "#fb9f3a"
            ],
            [
             0.8888888888888888,
             "#fdca26"
            ],
            [
             1,
             "#f0f921"
            ]
           ]
          },
          "colorway": [
           "#636efa",
           "#EF553B",
           "#00cc96",
           "#ab63fa",
           "#FFA15A",
           "#19d3f3",
           "#FF6692",
           "#B6E880",
           "#FF97FF",
           "#FECB52"
          ],
          "font": {
           "color": "#2a3f5f"
          },
          "geo": {
           "bgcolor": "white",
           "lakecolor": "white",
           "landcolor": "#E5ECF6",
           "showlakes": true,
           "showland": true,
           "subunitcolor": "white"
          },
          "hoverlabel": {
           "align": "left"
          },
          "hovermode": "closest",
          "mapbox": {
           "style": "light"
          },
          "paper_bgcolor": "white",
          "plot_bgcolor": "#E5ECF6",
          "polar": {
           "angularaxis": {
            "gridcolor": "white",
            "linecolor": "white",
            "ticks": ""
           },
           "bgcolor": "#E5ECF6",
           "radialaxis": {
            "gridcolor": "white",
            "linecolor": "white",
            "ticks": ""
           }
          },
          "scene": {
           "xaxis": {
            "backgroundcolor": "#E5ECF6",
            "gridcolor": "white",
            "gridwidth": 2,
            "linecolor": "white",
            "showbackground": true,
            "ticks": "",
            "zerolinecolor": "white"
           },
           "yaxis": {
            "backgroundcolor": "#E5ECF6",
            "gridcolor": "white",
            "gridwidth": 2,
            "linecolor": "white",
            "showbackground": true,
            "ticks": "",
            "zerolinecolor": "white"
           },
           "zaxis": {
            "backgroundcolor": "#E5ECF6",
            "gridcolor": "white",
            "gridwidth": 2,
            "linecolor": "white",
            "showbackground": true,
            "ticks": "",
            "zerolinecolor": "white"
           }
          },
          "shapedefaults": {
           "line": {
            "color": "#2a3f5f"
           }
          },
          "ternary": {
           "aaxis": {
            "gridcolor": "white",
            "linecolor": "white",
            "ticks": ""
           },
           "baxis": {
            "gridcolor": "white",
            "linecolor": "white",
            "ticks": ""
           },
           "bgcolor": "#E5ECF6",
           "caxis": {
            "gridcolor": "white",
            "linecolor": "white",
            "ticks": ""
           }
          },
          "title": {
           "x": 0.05
          },
          "xaxis": {
           "automargin": true,
           "gridcolor": "white",
           "linecolor": "white",
           "ticks": "",
           "title": {
            "standoff": 15
           },
           "zerolinecolor": "white",
           "zerolinewidth": 2
          },
          "yaxis": {
           "automargin": true,
           "gridcolor": "white",
           "linecolor": "white",
           "ticks": "",
           "title": {
            "standoff": 15
           },
           "zerolinecolor": "white",
           "zerolinewidth": 2
          }
         }
        }
       }
      },
      "text/html": [
       "<div>                            <div id=\"be061fad-84d7-4be0-8b65-7a0a8384a4c9\" class=\"plotly-graph-div\" style=\"height:525px; width:100%;\"></div>            <script type=\"text/javascript\">                require([\"plotly\"], function(Plotly) {                    window.PLOTLYENV=window.PLOTLYENV || {};                                    if (document.getElementById(\"be061fad-84d7-4be0-8b65-7a0a8384a4c9\")) {                    Plotly.newPlot(                        \"be061fad-84d7-4be0-8b65-7a0a8384a4c9\",                        [{\"hovertemplate\":\"origin=%{x}<br>model_year=%{marker.color}<br>horsepower=%{z}<extra></extra>\",\"legendgroup\":\"\",\"marker\":{\"color\":[70,70,70,70,70,70,70,70,70,70,70,70,70,70,70,70,70,70,70,70,70,70,70,70,70,70,70,70,70,71,71,71,71,71,71,71,71,71,71,71,71,71,71,71,71,71,71,71,71,71,71,71,71,71,71,71,71,72,72,72,72,72,72,72,72,72,72,72,72,72,72,72,72,72,72,72,72,72,72,72,72,72,72,72,72,73,73,73,73,73,73,73,73,73,73,73,73,73,73,73,73,73,73,73,73,73,73,73,73,73,73,73,73,73,73,73,73,73,73,73,73,73,73,73,73,74,74,74,74,74,74,74,74,74,74,74,74,74,74,74,74,74,74,74,74,74,74,74,74,74,74,74,75,75,75,75,75,75,75,75,75,75,75,75,75,75,75,75,75,75,75,75,75,75,75,75,75,75,75,75,75,75,76,76,76,76,76,76,76,76,76,76,76,76,76,76,76,76,76,76,76,76,76,76,76,76,76,76,76,76,76,76,76,76,76,76,77,77,77,77,77,77,77,77,77,77,77,77,77,77,77,77,77,77,77,77,77,77,77,77,77,77,77,77,78,78,78,78,78,78,78,78,78,78,78,78,78,78,78,78,78,78,78,78,78,78,78,78,78,78,78,78,78,78,78,78,78,78,78,78,79,79,79,79,79,79,79,79,79,79,79,79,79,79,79,79,79,79,79,79,79,79,79,79,79,79,79,79,79,80,80,80,80,80,80,80,80,80,80,80,80,80,80,80,80,80,80,80,80,80,80,80,80,80,80,80,80,80,81,81,81,81,81,81,81,81,81,81,81,81,81,81,81,81,81,81,81,81,81,81,81,81,81,81,81,81,81,82,82,82,82,82,82,82,82,82,82,82,82,82,82,82,82,82,82,82,82,82,82,82,82,82,82,82,82,82,82,82],\"coloraxis\":\"coloraxis\",\"opacity\":0.7,\"symbol\":\"circle\"},\"mode\":\"markers\",\"name\":\"\",\"scene\":\"scene\",\"showlegend\":false,\"x\":[\"usa\",\"usa\",\"usa\",\"usa\",\"usa\",\"usa\",\"usa\",\"usa\",\"usa\",\"usa\",\"usa\",\"usa\",\"usa\",\"usa\",\"japan\",\"usa\",\"usa\",\"usa\",\"japan\",\"europe\",\"europe\",\"europe\",\"europe\",\"europe\",\"usa\",\"usa\",\"usa\",\"usa\",\"usa\",\"japan\",\"usa\",\"japan\",\"usa\",\"usa\",\"usa\",\"usa\",\"usa\",\"usa\",\"usa\",\"usa\",\"usa\",\"usa\",\"usa\",\"usa\",\"usa\",\"usa\",\"usa\",\"usa\",\"usa\",\"usa\",\"europe\",\"europe\",\"europe\",\"japan\",\"japan\",\"europe\",\"usa\",\"japan\",\"usa\",\"europe\",\"usa\",\"usa\",\"usa\",\"usa\",\"usa\",\"usa\",\"usa\",\"usa\",\"usa\",\"usa\",\"usa\",\"japan\",\"usa\",\"usa\",\"usa\",\"usa\",\"europe\",\"europe\",\"europe\",\"europe\",\"usa\",\"japan\",\"japan\",\"usa\",\"japan\",\"usa\",\"usa\",\"usa\",\"usa\",\"usa\",\"usa\",\"usa\",\"usa\",\"usa\",\"usa\",\"usa\",\"usa\",\"usa\",\"usa\",\"usa\",\"usa\",\"usa\",\"europe\",\"usa\",\"usa\",\"usa\",\"usa\",\"usa\",\"japan\",\"usa\",\"japan\",\"japan\",\"usa\",\"usa\",\"europe\",\"usa\",\"usa\",\"europe\",\"europe\",\"europe\",\"europe\",\"usa\",\"europe\",\"japan\",\"usa\",\"usa\",\"usa\",\"usa\",\"usa\",\"japan\",\"usa\",\"japan\",\"usa\",\"usa\",\"usa\",\"usa\",\"usa\",\"usa\",\"usa\",\"usa\",\"usa\",\"europe\",\"europe\",\"europe\",\"japan\",\"japan\",\"usa\",\"europe\",\"europe\",\"japan\",\"japan\",\"europe\",\"usa\",\"usa\",\"usa\",\"usa\",\"usa\",\"usa\",\"usa\",\"usa\",\"usa\",\"usa\",\"usa\",\"usa\",\"usa\",\"usa\",\"usa\",\"japan\",\"usa\",\"usa\",\"usa\",\"japan\",\"europe\",\"japan\",\"usa\",\"europe\",\"usa\",\"europe\",\"europe\",\"europe\",\"europe\",\"japan\",\"europe\",\"europe\",\"usa\",\"usa\",\"europe\",\"usa\",\"usa\",\"usa\",\"usa\",\"usa\",\"usa\",\"usa\",\"usa\",\"usa\",\"usa\",\"europe\",\"japan\",\"usa\",\"usa\",\"usa\",\"usa\",\"europe\",\"japan\",\"japan\",\"usa\",\"europe\",\"usa\",\"europe\",\"japan\",\"europe\",\"usa\",\"usa\",\"usa\",\"usa\",\"japan\",\"usa\",\"europe\",\"usa\",\"japan\",\"usa\",\"usa\",\"usa\",\"usa\",\"usa\",\"usa\",\"usa\",\"usa\",\"usa\",\"usa\",\"usa\",\"usa\",\"europe\",\"usa\",\"japan\",\"usa\",\"usa\",\"usa\",\"japan\",\"europe\",\"japan\",\"europe\",\"japan\",\"europe\",\"usa\",\"japan\",\"japan\",\"japan\",\"usa\",\"usa\",\"usa\",\"usa\",\"usa\",\"usa\",\"usa\",\"usa\",\"usa\",\"usa\",\"usa\",\"usa\",\"usa\",\"usa\",\"usa\",\"usa\",\"usa\",\"usa\",\"japan\",\"japan\",\"usa\",\"japan\",\"usa\",\"usa\",\"japan\",\"europe\",\"europe\",\"europe\",\"europe\",\"europe\",\"japan\",\"usa\",\"usa\",\"usa\",\"usa\",\"usa\",\"usa\",\"usa\",\"usa\",\"usa\",\"usa\",\"usa\",\"usa\",\"usa\",\"europe\",\"japan\",\"usa\",\"usa\",\"europe\",\"usa\",\"europe\",\"usa\",\"usa\",\"usa\",\"japan\",\"europe\",\"usa\",\"usa\",\"usa\",\"usa\",\"europe\",\"japan\",\"usa\",\"japan\",\"usa\",\"usa\",\"usa\",\"usa\",\"europe\",\"japan\",\"japan\",\"japan\",\"japan\",\"japan\",\"usa\",\"japan\",\"europe\",\"europe\",\"europe\",\"europe\",\"japan\",\"europe\",\"japan\",\"europe\",\"japan\",\"japan\",\"europe\",\"usa\",\"japan\",\"usa\",\"usa\",\"usa\",\"usa\",\"usa\",\"japan\",\"usa\",\"japan\",\"japan\",\"japan\",\"japan\",\"japan\",\"usa\",\"usa\",\"usa\",\"europe\",\"europe\",\"japan\",\"japan\",\"japan\",\"japan\",\"europe\",\"europe\",\"japan\",\"japan\",\"usa\",\"usa\",\"usa\",\"usa\",\"usa\",\"usa\",\"usa\",\"usa\",\"usa\",\"usa\",\"usa\",\"usa\",\"europe\",\"japan\",\"japan\",\"usa\",\"usa\",\"japan\",\"japan\",\"japan\",\"japan\",\"japan\",\"japan\",\"usa\",\"usa\",\"usa\",\"usa\",\"japan\",\"usa\",\"usa\",\"usa\",\"europe\",\"usa\",\"usa\",\"usa\"],\"y\":[70,70,70,70,70,70,70,70,70,70,70,70,70,70,70,70,70,70,70,70,70,70,70,70,70,70,70,70,70,71,71,71,71,71,71,71,71,71,71,71,71,71,71,71,71,71,71,71,71,71,71,71,71,71,71,71,71,72,72,72,72,72,72,72,72,72,72,72,72,72,72,72,72,72,72,72,72,72,72,72,72,72,72,72,72,73,73,73,73,73,73,73,73,73,73,73,73,73,73,73,73,73,73,73,73,73,73,73,73,73,73,73,73,73,73,73,73,73,73,73,73,73,73,73,73,74,74,74,74,74,74,74,74,74,74,74,74,74,74,74,74,74,74,74,74,74,74,74,74,74,74,74,75,75,75,75,75,75,75,75,75,75,75,75,75,75,75,75,75,75,75,75,75,75,75,75,75,75,75,75,75,75,76,76,76,76,76,76,76,76,76,76,76,76,76,76,76,76,76,76,76,76,76,76,76,76,76,76,76,76,76,76,76,76,76,76,77,77,77,77,77,77,77,77,77,77,77,77,77,77,77,77,77,77,77,77,77,77,77,77,77,77,77,77,78,78,78,78,78,78,78,78,78,78,78,78,78,78,78,78,78,78,78,78,78,78,78,78,78,78,78,78,78,78,78,78,78,78,78,78,79,79,79,79,79,79,79,79,79,79,79,79,79,79,79,79,79,79,79,79,79,79,79,79,79,79,79,79,79,80,80,80,80,80,80,80,80,80,80,80,80,80,80,80,80,80,80,80,80,80,80,80,80,80,80,80,80,80,81,81,81,81,81,81,81,81,81,81,81,81,81,81,81,81,81,81,81,81,81,81,81,81,81,81,81,81,81,82,82,82,82,82,82,82,82,82,82,82,82,82,82,82,82,82,82,82,82,82,82,82,82,82,82,82,82,82,82,82],\"z\":[130.0,165.0,150.0,150.0,140.0,198.0,220.0,215.0,225.0,190.0,170.0,160.0,150.0,225.0,95.0,95.0,97.0,85.0,88.0,46.0,87.0,90.0,95.0,113.0,90.0,215.0,200.0,210.0,193.0,88.0,90.0,95.0,null,100.0,105.0,100.0,88.0,100.0,165.0,175.0,153.0,150.0,180.0,170.0,175.0,110.0,72.0,100.0,88.0,86.0,90.0,70.0,76.0,65.0,69.0,60.0,70.0,95.0,80.0,54.0,90.0,86.0,165.0,175.0,150.0,153.0,150.0,208.0,155.0,160.0,190.0,97.0,150.0,130.0,140.0,150.0,112.0,76.0,87.0,69.0,86.0,92.0,97.0,80.0,88.0,175.0,150.0,145.0,137.0,150.0,198.0,150.0,158.0,150.0,215.0,225.0,175.0,105.0,100.0,100.0,88.0,95.0,46.0,150.0,167.0,170.0,180.0,100.0,88.0,72.0,94.0,90.0,85.0,107.0,90.0,145.0,230.0,49.0,75.0,91.0,112.0,150.0,110.0,122.0,180.0,95.0,null,100.0,100.0,67.0,80.0,65.0,75.0,100.0,110.0,105.0,140.0,150.0,150.0,140.0,150.0,83.0,67.0,78.0,52.0,61.0,75.0,75.0,75.0,97.0,93.0,67.0,95.0,105.0,72.0,72.0,170.0,145.0,150.0,148.0,110.0,105.0,110.0,95.0,110.0,110.0,129.0,75.0,83.0,100.0,78.0,96.0,71.0,97.0,97.0,70.0,90.0,95.0,88.0,98.0,115.0,53.0,86.0,81.0,92.0,79.0,83.0,140.0,150.0,120.0,152.0,100.0,105.0,81.0,90.0,52.0,60.0,70.0,53.0,100.0,78.0,110.0,95.0,71.0,70.0,75.0,72.0,102.0,150.0,88.0,108.0,120.0,180.0,145.0,130.0,150.0,68.0,80.0,58.0,96.0,70.0,145.0,110.0,145.0,130.0,110.0,105.0,100.0,98.0,180.0,170.0,190.0,149.0,78.0,88.0,75.0,89.0,63.0,83.0,67.0,78.0,97.0,110.0,110.0,48.0,66.0,52.0,70.0,60.0,110.0,140.0,139.0,105.0,95.0,85.0,88.0,100.0,90.0,105.0,85.0,110.0,120.0,145.0,165.0,139.0,140.0,68.0,95.0,97.0,75.0,95.0,105.0,85.0,97.0,103.0,125.0,115.0,133.0,71.0,68.0,115.0,85.0,88.0,90.0,110.0,130.0,129.0,138.0,135.0,155.0,142.0,125.0,150.0,71.0,65.0,80.0,80.0,77.0,125.0,71.0,90.0,70.0,70.0,65.0,69.0,90.0,115.0,115.0,90.0,76.0,60.0,70.0,65.0,90.0,88.0,90.0,90.0,78.0,90.0,75.0,92.0,75.0,65.0,105.0,65.0,48.0,48.0,67.0,67.0,67.0,null,67.0,62.0,132.0,100.0,88.0,null,72.0,84.0,84.0,92.0,110.0,84.0,58.0,64.0,60.0,67.0,65.0,62.0,68.0,63.0,65.0,65.0,74.0,null,75.0,75.0,100.0,74.0,80.0,76.0,116.0,120.0,110.0,105.0,88.0,85.0,88.0,88.0,88.0,85.0,84.0,90.0,92.0,null,74.0,68.0,68.0,63.0,70.0,88.0,75.0,70.0,67.0,67.0,67.0,110.0,85.0,92.0,112.0,96.0,84.0,90.0,86.0,52.0,84.0,79.0,82.0],\"type\":\"scatter3d\"}],                        {\"template\":{\"data\":{\"histogram2dcontour\":[{\"type\":\"histogram2dcontour\",\"colorbar\":{\"outlinewidth\":0,\"ticks\":\"\"},\"colorscale\":[[0.0,\"#0d0887\"],[0.1111111111111111,\"#46039f\"],[0.2222222222222222,\"#7201a8\"],[0.3333333333333333,\"#9c179e\"],[0.4444444444444444,\"#bd3786\"],[0.5555555555555556,\"#d8576b\"],[0.6666666666666666,\"#ed7953\"],[0.7777777777777778,\"#fb9f3a\"],[0.8888888888888888,\"#fdca26\"],[1.0,\"#f0f921\"]]}],\"choropleth\":[{\"type\":\"choropleth\",\"colorbar\":{\"outlinewidth\":0,\"ticks\":\"\"}}],\"histogram2d\":[{\"type\":\"histogram2d\",\"colorbar\":{\"outlinewidth\":0,\"ticks\":\"\"},\"colorscale\":[[0.0,\"#0d0887\"],[0.1111111111111111,\"#46039f\"],[0.2222222222222222,\"#7201a8\"],[0.3333333333333333,\"#9c179e\"],[0.4444444444444444,\"#bd3786\"],[0.5555555555555556,\"#d8576b\"],[0.6666666666666666,\"#ed7953\"],[0.7777777777777778,\"#fb9f3a\"],[0.8888888888888888,\"#fdca26\"],[1.0,\"#f0f921\"]]}],\"heatmap\":[{\"type\":\"heatmap\",\"colorbar\":{\"outlinewidth\":0,\"ticks\":\"\"},\"colorscale\":[[0.0,\"#0d0887\"],[0.1111111111111111,\"#46039f\"],[0.2222222222222222,\"#7201a8\"],[0.3333333333333333,\"#9c179e\"],[0.4444444444444444,\"#bd3786\"],[0.5555555555555556,\"#d8576b\"],[0.6666666666666666,\"#ed7953\"],[0.7777777777777778,\"#fb9f3a\"],[0.8888888888888888,\"#fdca26\"],[1.0,\"#f0f921\"]]}],\"heatmapgl\":[{\"type\":\"heatmapgl\",\"colorbar\":{\"outlinewidth\":0,\"ticks\":\"\"},\"colorscale\":[[0.0,\"#0d0887\"],[0.1111111111111111,\"#46039f\"],[0.2222222222222222,\"#7201a8\"],[0.3333333333333333,\"#9c179e\"],[0.4444444444444444,\"#bd3786\"],[0.5555555555555556,\"#d8576b\"],[0.6666666666666666,\"#ed7953\"],[0.7777777777777778,\"#fb9f3a\"],[0.8888888888888888,\"#fdca26\"],[1.0,\"#f0f921\"]]}],\"contourcarpet\":[{\"type\":\"contourcarpet\",\"colorbar\":{\"outlinewidth\":0,\"ticks\":\"\"}}],\"contour\":[{\"type\":\"contour\",\"colorbar\":{\"outlinewidth\":0,\"ticks\":\"\"},\"colorscale\":[[0.0,\"#0d0887\"],[0.1111111111111111,\"#46039f\"],[0.2222222222222222,\"#7201a8\"],[0.3333333333333333,\"#9c179e\"],[0.4444444444444444,\"#bd3786\"],[0.5555555555555556,\"#d8576b\"],[0.6666666666666666,\"#ed7953\"],[0.7777777777777778,\"#fb9f3a\"],[0.8888888888888888,\"#fdca26\"],[1.0,\"#f0f921\"]]}],\"surface\":[{\"type\":\"surface\",\"colorbar\":{\"outlinewidth\":0,\"ticks\":\"\"},\"colorscale\":[[0.0,\"#0d0887\"],[0.1111111111111111,\"#46039f\"],[0.2222222222222222,\"#7201a8\"],[0.3333333333333333,\"#9c179e\"],[0.4444444444444444,\"#bd3786\"],[0.5555555555555556,\"#d8576b\"],[0.6666666666666666,\"#ed7953\"],[0.7777777777777778,\"#fb9f3a\"],[0.8888888888888888,\"#fdca26\"],[1.0,\"#f0f921\"]]}],\"mesh3d\":[{\"type\":\"mesh3d\",\"colorbar\":{\"outlinewidth\":0,\"ticks\":\"\"}}],\"scatter\":[{\"fillpattern\":{\"fillmode\":\"overlay\",\"size\":10,\"solidity\":0.2},\"type\":\"scatter\"}],\"parcoords\":[{\"type\":\"parcoords\",\"line\":{\"colorbar\":{\"outlinewidth\":0,\"ticks\":\"\"}}}],\"scatterpolargl\":[{\"type\":\"scatterpolargl\",\"marker\":{\"colorbar\":{\"outlinewidth\":0,\"ticks\":\"\"}}}],\"bar\":[{\"error_x\":{\"color\":\"#2a3f5f\"},\"error_y\":{\"color\":\"#2a3f5f\"},\"marker\":{\"line\":{\"color\":\"#E5ECF6\",\"width\":0.5},\"pattern\":{\"fillmode\":\"overlay\",\"size\":10,\"solidity\":0.2}},\"type\":\"bar\"}],\"scattergeo\":[{\"type\":\"scattergeo\",\"marker\":{\"colorbar\":{\"outlinewidth\":0,\"ticks\":\"\"}}}],\"scatterpolar\":[{\"type\":\"scatterpolar\",\"marker\":{\"colorbar\":{\"outlinewidth\":0,\"ticks\":\"\"}}}],\"histogram\":[{\"marker\":{\"pattern\":{\"fillmode\":\"overlay\",\"size\":10,\"solidity\":0.2}},\"type\":\"histogram\"}],\"scattergl\":[{\"type\":\"scattergl\",\"marker\":{\"colorbar\":{\"outlinewidth\":0,\"ticks\":\"\"}}}],\"scatter3d\":[{\"type\":\"scatter3d\",\"line\":{\"colorbar\":{\"outlinewidth\":0,\"ticks\":\"\"}},\"marker\":{\"colorbar\":{\"outlinewidth\":0,\"ticks\":\"\"}}}],\"scattermapbox\":[{\"type\":\"scattermapbox\",\"marker\":{\"colorbar\":{\"outlinewidth\":0,\"ticks\":\"\"}}}],\"scatterternary\":[{\"type\":\"scatterternary\",\"marker\":{\"colorbar\":{\"outlinewidth\":0,\"ticks\":\"\"}}}],\"scattercarpet\":[{\"type\":\"scattercarpet\",\"marker\":{\"colorbar\":{\"outlinewidth\":0,\"ticks\":\"\"}}}],\"carpet\":[{\"aaxis\":{\"endlinecolor\":\"#2a3f5f\",\"gridcolor\":\"white\",\"linecolor\":\"white\",\"minorgridcolor\":\"white\",\"startlinecolor\":\"#2a3f5f\"},\"baxis\":{\"endlinecolor\":\"#2a3f5f\",\"gridcolor\":\"white\",\"linecolor\":\"white\",\"minorgridcolor\":\"white\",\"startlinecolor\":\"#2a3f5f\"},\"type\":\"carpet\"}],\"table\":[{\"cells\":{\"fill\":{\"color\":\"#EBF0F8\"},\"line\":{\"color\":\"white\"}},\"header\":{\"fill\":{\"color\":\"#C8D4E3\"},\"line\":{\"color\":\"white\"}},\"type\":\"table\"}],\"barpolar\":[{\"marker\":{\"line\":{\"color\":\"#E5ECF6\",\"width\":0.5},\"pattern\":{\"fillmode\":\"overlay\",\"size\":10,\"solidity\":0.2}},\"type\":\"barpolar\"}],\"pie\":[{\"automargin\":true,\"type\":\"pie\"}]},\"layout\":{\"autotypenumbers\":\"strict\",\"colorway\":[\"#636efa\",\"#EF553B\",\"#00cc96\",\"#ab63fa\",\"#FFA15A\",\"#19d3f3\",\"#FF6692\",\"#B6E880\",\"#FF97FF\",\"#FECB52\"],\"font\":{\"color\":\"#2a3f5f\"},\"hovermode\":\"closest\",\"hoverlabel\":{\"align\":\"left\"},\"paper_bgcolor\":\"white\",\"plot_bgcolor\":\"#E5ECF6\",\"polar\":{\"bgcolor\":\"#E5ECF6\",\"angularaxis\":{\"gridcolor\":\"white\",\"linecolor\":\"white\",\"ticks\":\"\"},\"radialaxis\":{\"gridcolor\":\"white\",\"linecolor\":\"white\",\"ticks\":\"\"}},\"ternary\":{\"bgcolor\":\"#E5ECF6\",\"aaxis\":{\"gridcolor\":\"white\",\"linecolor\":\"white\",\"ticks\":\"\"},\"baxis\":{\"gridcolor\":\"white\",\"linecolor\":\"white\",\"ticks\":\"\"},\"caxis\":{\"gridcolor\":\"white\",\"linecolor\":\"white\",\"ticks\":\"\"}},\"coloraxis\":{\"colorbar\":{\"outlinewidth\":0,\"ticks\":\"\"}},\"colorscale\":{\"sequential\":[[0.0,\"#0d0887\"],[0.1111111111111111,\"#46039f\"],[0.2222222222222222,\"#7201a8\"],[0.3333333333333333,\"#9c179e\"],[0.4444444444444444,\"#bd3786\"],[0.5555555555555556,\"#d8576b\"],[0.6666666666666666,\"#ed7953\"],[0.7777777777777778,\"#fb9f3a\"],[0.8888888888888888,\"#fdca26\"],[1.0,\"#f0f921\"]],\"sequentialminus\":[[0.0,\"#0d0887\"],[0.1111111111111111,\"#46039f\"],[0.2222222222222222,\"#7201a8\"],[0.3333333333333333,\"#9c179e\"],[0.4444444444444444,\"#bd3786\"],[0.5555555555555556,\"#d8576b\"],[0.6666666666666666,\"#ed7953\"],[0.7777777777777778,\"#fb9f3a\"],[0.8888888888888888,\"#fdca26\"],[1.0,\"#f0f921\"]],\"diverging\":[[0,\"#8e0152\"],[0.1,\"#c51b7d\"],[0.2,\"#de77ae\"],[0.3,\"#f1b6da\"],[0.4,\"#fde0ef\"],[0.5,\"#f7f7f7\"],[0.6,\"#e6f5d0\"],[0.7,\"#b8e186\"],[0.8,\"#7fbc41\"],[0.9,\"#4d9221\"],[1,\"#276419\"]]},\"xaxis\":{\"gridcolor\":\"white\",\"linecolor\":\"white\",\"ticks\":\"\",\"title\":{\"standoff\":15},\"zerolinecolor\":\"white\",\"automargin\":true,\"zerolinewidth\":2},\"yaxis\":{\"gridcolor\":\"white\",\"linecolor\":\"white\",\"ticks\":\"\",\"title\":{\"standoff\":15},\"zerolinecolor\":\"white\",\"automargin\":true,\"zerolinewidth\":2},\"scene\":{\"xaxis\":{\"backgroundcolor\":\"#E5ECF6\",\"gridcolor\":\"white\",\"linecolor\":\"white\",\"showbackground\":true,\"ticks\":\"\",\"zerolinecolor\":\"white\",\"gridwidth\":2},\"yaxis\":{\"backgroundcolor\":\"#E5ECF6\",\"gridcolor\":\"white\",\"linecolor\":\"white\",\"showbackground\":true,\"ticks\":\"\",\"zerolinecolor\":\"white\",\"gridwidth\":2},\"zaxis\":{\"backgroundcolor\":\"#E5ECF6\",\"gridcolor\":\"white\",\"linecolor\":\"white\",\"showbackground\":true,\"ticks\":\"\",\"zerolinecolor\":\"white\",\"gridwidth\":2}},\"shapedefaults\":{\"line\":{\"color\":\"#2a3f5f\"}},\"annotationdefaults\":{\"arrowcolor\":\"#2a3f5f\",\"arrowhead\":0,\"arrowwidth\":1},\"geo\":{\"bgcolor\":\"white\",\"landcolor\":\"#E5ECF6\",\"subunitcolor\":\"white\",\"showland\":true,\"showlakes\":true,\"lakecolor\":\"white\"},\"title\":{\"x\":0.05},\"mapbox\":{\"style\":\"light\"}}},\"scene\":{\"domain\":{\"x\":[0.0,1.0],\"y\":[0.0,1.0]},\"xaxis\":{\"title\":{\"text\":\"origin\"}},\"yaxis\":{\"title\":{\"text\":\"model_year\"}},\"zaxis\":{\"title\":{\"text\":\"horsepower\"}}},\"coloraxis\":{\"colorbar\":{\"title\":{\"text\":\"model_year\"}},\"colorscale\":[[0.0,\"#0d0887\"],[0.1111111111111111,\"#46039f\"],[0.2222222222222222,\"#7201a8\"],[0.3333333333333333,\"#9c179e\"],[0.4444444444444444,\"#bd3786\"],[0.5555555555555556,\"#d8576b\"],[0.6666666666666666,\"#ed7953\"],[0.7777777777777778,\"#fb9f3a\"],[0.8888888888888888,\"#fdca26\"],[1.0,\"#f0f921\"]]},\"legend\":{\"tracegroupgap\":0},\"margin\":{\"t\":60}},                        {\"responsive\": true}                    ).then(function(){\n",
       "                            \n",
       "var gd = document.getElementById('be061fad-84d7-4be0-8b65-7a0a8384a4c9');\n",
       "var x = new MutationObserver(function (mutations, observer) {{\n",
       "        var display = window.getComputedStyle(gd).display;\n",
       "        if (!display || display === 'none') {{\n",
       "            console.log([gd, 'removed!']);\n",
       "            Plotly.purge(gd);\n",
       "            observer.disconnect();\n",
       "        }}\n",
       "}});\n",
       "\n",
       "// Listen for the removal of the full notebook cells\n",
       "var notebookContainer = gd.closest('#notebook-container');\n",
       "if (notebookContainer) {{\n",
       "    x.observe(notebookContainer, {childList: true});\n",
       "}}\n",
       "\n",
       "// Listen for the clearing of the current output cell\n",
       "var outputEl = gd.closest('.output');\n",
       "if (outputEl) {{\n",
       "    x.observe(outputEl, {childList: true});\n",
       "}}\n",
       "\n",
       "                        })                };                });            </script>        </div>"
      ]
     },
     "metadata": {},
     "output_type": "display_data"
    }
   ],
   "source": [
    "px.scatter_3d(data, x = \"origin\", y = \"model_year\", z = \"horsepower\", color = \"model_year\", opacity = 0.7)"
   ]
  },
  {
   "cell_type": "code",
   "execution_count": 61,
   "id": "d5cd1c72",
   "metadata": {},
   "outputs": [
    {
     "data": {
      "application/vnd.plotly.v1+json": {
       "config": {
        "plotlyServerURL": "https://plot.ly"
       },
       "data": [
        {
         "hovertemplate": "model_year=%{y}<br>origin=%{x}<br>horsepower=%{z}<extra></extra>",
         "legendgroup": "70",
         "line": {
          "color": "#636efa",
          "dash": "solid"
         },
         "marker": {
          "symbol": "circle"
         },
         "mode": "lines",
         "name": "70",
         "scene": "scene",
         "showlegend": true,
         "type": "scatter3d",
         "x": [
          "usa",
          "usa",
          "usa",
          "usa",
          "usa",
          "usa",
          "usa",
          "usa",
          "usa",
          "usa",
          "usa",
          "usa",
          "usa",
          "usa",
          "japan",
          "usa",
          "usa",
          "usa",
          "japan",
          "europe",
          "europe",
          "europe",
          "europe",
          "europe",
          "usa",
          "usa",
          "usa",
          "usa",
          "usa"
         ],
         "y": [
          70,
          70,
          70,
          70,
          70,
          70,
          70,
          70,
          70,
          70,
          70,
          70,
          70,
          70,
          70,
          70,
          70,
          70,
          70,
          70,
          70,
          70,
          70,
          70,
          70,
          70,
          70,
          70,
          70
         ],
         "z": [
          130,
          165,
          150,
          150,
          140,
          198,
          220,
          215,
          225,
          190,
          170,
          160,
          150,
          225,
          95,
          95,
          97,
          85,
          88,
          46,
          87,
          90,
          95,
          113,
          90,
          215,
          200,
          210,
          193
         ]
        },
        {
         "hovertemplate": "model_year=%{y}<br>origin=%{x}<br>horsepower=%{z}<extra></extra>",
         "legendgroup": "71",
         "line": {
          "color": "#EF553B",
          "dash": "solid"
         },
         "marker": {
          "symbol": "circle"
         },
         "mode": "lines",
         "name": "71",
         "scene": "scene",
         "showlegend": true,
         "type": "scatter3d",
         "x": [
          "japan",
          "usa",
          "japan",
          "usa",
          "usa",
          "usa",
          "usa",
          "usa",
          "usa",
          "usa",
          "usa",
          "usa",
          "usa",
          "usa",
          "usa",
          "usa",
          "usa",
          "usa",
          "usa",
          "usa",
          "usa",
          "europe",
          "europe",
          "europe",
          "japan",
          "japan",
          "europe",
          "usa"
         ],
         "y": [
          71,
          71,
          71,
          71,
          71,
          71,
          71,
          71,
          71,
          71,
          71,
          71,
          71,
          71,
          71,
          71,
          71,
          71,
          71,
          71,
          71,
          71,
          71,
          71,
          71,
          71,
          71,
          71
         ],
         "z": [
          88,
          90,
          95,
          null,
          100,
          105,
          100,
          88,
          100,
          165,
          175,
          153,
          150,
          180,
          170,
          175,
          110,
          72,
          100,
          88,
          86,
          90,
          70,
          76,
          65,
          69,
          60,
          70
         ]
        },
        {
         "hovertemplate": "model_year=%{y}<br>origin=%{x}<br>horsepower=%{z}<extra></extra>",
         "legendgroup": "72",
         "line": {
          "color": "#00cc96",
          "dash": "solid"
         },
         "marker": {
          "symbol": "circle"
         },
         "mode": "lines",
         "name": "72",
         "scene": "scene",
         "showlegend": true,
         "type": "scatter3d",
         "x": [
          "japan",
          "usa",
          "europe",
          "usa",
          "usa",
          "usa",
          "usa",
          "usa",
          "usa",
          "usa",
          "usa",
          "usa",
          "usa",
          "usa",
          "japan",
          "usa",
          "usa",
          "usa",
          "usa",
          "europe",
          "europe",
          "europe",
          "europe",
          "usa",
          "japan",
          "japan",
          "usa",
          "japan"
         ],
         "y": [
          72,
          72,
          72,
          72,
          72,
          72,
          72,
          72,
          72,
          72,
          72,
          72,
          72,
          72,
          72,
          72,
          72,
          72,
          72,
          72,
          72,
          72,
          72,
          72,
          72,
          72,
          72,
          72
         ],
         "z": [
          95,
          80,
          54,
          90,
          86,
          165,
          175,
          150,
          153,
          150,
          208,
          155,
          160,
          190,
          97,
          150,
          130,
          140,
          150,
          112,
          76,
          87,
          69,
          86,
          92,
          97,
          80,
          88
         ]
        },
        {
         "hovertemplate": "model_year=%{y}<br>origin=%{x}<br>horsepower=%{z}<extra></extra>",
         "legendgroup": "73",
         "line": {
          "color": "#ab63fa",
          "dash": "solid"
         },
         "marker": {
          "symbol": "circle"
         },
         "mode": "lines",
         "name": "73",
         "scene": "scene",
         "showlegend": true,
         "type": "scatter3d",
         "x": [
          "usa",
          "usa",
          "usa",
          "usa",
          "usa",
          "usa",
          "usa",
          "usa",
          "usa",
          "usa",
          "usa",
          "usa",
          "usa",
          "usa",
          "usa",
          "usa",
          "usa",
          "europe",
          "usa",
          "usa",
          "usa",
          "usa",
          "usa",
          "japan",
          "usa",
          "japan",
          "japan",
          "usa",
          "usa",
          "europe",
          "usa",
          "usa",
          "europe",
          "europe",
          "europe",
          "europe",
          "usa",
          "europe",
          "japan",
          "usa"
         ],
         "y": [
          73,
          73,
          73,
          73,
          73,
          73,
          73,
          73,
          73,
          73,
          73,
          73,
          73,
          73,
          73,
          73,
          73,
          73,
          73,
          73,
          73,
          73,
          73,
          73,
          73,
          73,
          73,
          73,
          73,
          73,
          73,
          73,
          73,
          73,
          73,
          73,
          73,
          73,
          73,
          73
         ],
         "z": [
          175,
          150,
          145,
          137,
          150,
          198,
          150,
          158,
          150,
          215,
          225,
          175,
          105,
          100,
          100,
          88,
          95,
          46,
          150,
          167,
          170,
          180,
          100,
          88,
          72,
          94,
          90,
          85,
          107,
          90,
          145,
          230,
          49,
          75,
          91,
          112,
          150,
          110,
          122,
          180
         ]
        },
        {
         "hovertemplate": "model_year=%{y}<br>origin=%{x}<br>horsepower=%{z}<extra></extra>",
         "legendgroup": "74",
         "line": {
          "color": "#FFA15A",
          "dash": "solid"
         },
         "marker": {
          "symbol": "circle"
         },
         "mode": "lines",
         "name": "74",
         "scene": "scene",
         "showlegend": true,
         "type": "scatter3d",
         "x": [
          "usa",
          "usa",
          "usa",
          "usa",
          "japan",
          "usa",
          "japan",
          "usa",
          "usa",
          "usa",
          "usa",
          "usa",
          "usa",
          "usa",
          "usa",
          "usa",
          "europe",
          "europe",
          "europe",
          "japan",
          "japan",
          "usa",
          "europe",
          "europe",
          "japan",
          "japan",
          "europe"
         ],
         "y": [
          74,
          74,
          74,
          74,
          74,
          74,
          74,
          74,
          74,
          74,
          74,
          74,
          74,
          74,
          74,
          74,
          74,
          74,
          74,
          74,
          74,
          74,
          74,
          74,
          74,
          74,
          74
         ],
         "z": [
          95,
          null,
          100,
          100,
          67,
          80,
          65,
          75,
          100,
          110,
          105,
          140,
          150,
          150,
          140,
          150,
          83,
          67,
          78,
          52,
          61,
          75,
          75,
          75,
          97,
          93,
          67
         ]
        },
        {
         "hovertemplate": "model_year=%{y}<br>origin=%{x}<br>horsepower=%{z}<extra></extra>",
         "legendgroup": "75",
         "line": {
          "color": "#19d3f3",
          "dash": "solid"
         },
         "marker": {
          "symbol": "circle"
         },
         "mode": "lines",
         "name": "75",
         "scene": "scene",
         "showlegend": true,
         "type": "scatter3d",
         "x": [
          "usa",
          "usa",
          "usa",
          "usa",
          "usa",
          "usa",
          "usa",
          "usa",
          "usa",
          "usa",
          "usa",
          "usa",
          "usa",
          "usa",
          "usa",
          "japan",
          "usa",
          "usa",
          "usa",
          "japan",
          "europe",
          "japan",
          "usa",
          "europe",
          "usa",
          "europe",
          "europe",
          "europe",
          "europe",
          "japan"
         ],
         "y": [
          75,
          75,
          75,
          75,
          75,
          75,
          75,
          75,
          75,
          75,
          75,
          75,
          75,
          75,
          75,
          75,
          75,
          75,
          75,
          75,
          75,
          75,
          75,
          75,
          75,
          75,
          75,
          75,
          75,
          75
         ],
         "z": [
          95,
          105,
          72,
          72,
          170,
          145,
          150,
          148,
          110,
          105,
          110,
          95,
          110,
          110,
          129,
          75,
          83,
          100,
          78,
          96,
          71,
          97,
          97,
          70,
          90,
          95,
          88,
          98,
          115,
          53
         ]
        },
        {
         "hovertemplate": "model_year=%{y}<br>origin=%{x}<br>horsepower=%{z}<extra></extra>",
         "legendgroup": "76",
         "line": {
          "color": "#FF6692",
          "dash": "solid"
         },
         "marker": {
          "symbol": "circle"
         },
         "mode": "lines",
         "name": "76",
         "scene": "scene",
         "showlegend": true,
         "type": "scatter3d",
         "x": [
          "europe",
          "europe",
          "usa",
          "usa",
          "europe",
          "usa",
          "usa",
          "usa",
          "usa",
          "usa",
          "usa",
          "usa",
          "usa",
          "usa",
          "usa",
          "europe",
          "japan",
          "usa",
          "usa",
          "usa",
          "usa",
          "europe",
          "japan",
          "japan",
          "usa",
          "europe",
          "usa",
          "europe",
          "japan",
          "europe",
          "usa",
          "usa",
          "usa",
          "usa"
         ],
         "y": [
          76,
          76,
          76,
          76,
          76,
          76,
          76,
          76,
          76,
          76,
          76,
          76,
          76,
          76,
          76,
          76,
          76,
          76,
          76,
          76,
          76,
          76,
          76,
          76,
          76,
          76,
          76,
          76,
          76,
          76,
          76,
          76,
          76,
          76
         ],
         "z": [
          86,
          81,
          92,
          79,
          83,
          140,
          150,
          120,
          152,
          100,
          105,
          81,
          90,
          52,
          60,
          70,
          53,
          100,
          78,
          110,
          95,
          71,
          70,
          75,
          72,
          102,
          150,
          88,
          108,
          120,
          180,
          145,
          130,
          150
         ]
        },
        {
         "hovertemplate": "model_year=%{y}<br>origin=%{x}<br>horsepower=%{z}<extra></extra>",
         "legendgroup": "77",
         "line": {
          "color": "#B6E880",
          "dash": "solid"
         },
         "marker": {
          "symbol": "circle"
         },
         "mode": "lines",
         "name": "77",
         "scene": "scene",
         "showlegend": true,
         "type": "scatter3d",
         "x": [
          "japan",
          "usa",
          "europe",
          "usa",
          "japan",
          "usa",
          "usa",
          "usa",
          "usa",
          "usa",
          "usa",
          "usa",
          "usa",
          "usa",
          "usa",
          "usa",
          "usa",
          "europe",
          "usa",
          "japan",
          "usa",
          "usa",
          "usa",
          "japan",
          "europe",
          "japan",
          "europe",
          "japan"
         ],
         "y": [
          77,
          77,
          77,
          77,
          77,
          77,
          77,
          77,
          77,
          77,
          77,
          77,
          77,
          77,
          77,
          77,
          77,
          77,
          77,
          77,
          77,
          77,
          77,
          77,
          77,
          77,
          77,
          77
         ],
         "z": [
          68,
          80,
          58,
          96,
          70,
          145,
          110,
          145,
          130,
          110,
          105,
          100,
          98,
          180,
          170,
          190,
          149,
          78,
          88,
          75,
          89,
          63,
          83,
          67,
          78,
          97,
          110,
          110
         ]
        },
        {
         "hovertemplate": "model_year=%{y}<br>origin=%{x}<br>horsepower=%{z}<extra></extra>",
         "legendgroup": "78",
         "line": {
          "color": "#FF97FF",
          "dash": "solid"
         },
         "marker": {
          "symbol": "circle"
         },
         "mode": "lines",
         "name": "78",
         "scene": "scene",
         "showlegend": true,
         "type": "scatter3d",
         "x": [
          "europe",
          "usa",
          "japan",
          "japan",
          "japan",
          "usa",
          "usa",
          "usa",
          "usa",
          "usa",
          "usa",
          "usa",
          "usa",
          "usa",
          "usa",
          "usa",
          "usa",
          "usa",
          "usa",
          "usa",
          "usa",
          "usa",
          "usa",
          "japan",
          "japan",
          "usa",
          "japan",
          "usa",
          "usa",
          "japan",
          "europe",
          "europe",
          "europe",
          "europe",
          "europe",
          "japan"
         ],
         "y": [
          78,
          78,
          78,
          78,
          78,
          78,
          78,
          78,
          78,
          78,
          78,
          78,
          78,
          78,
          78,
          78,
          78,
          78,
          78,
          78,
          78,
          78,
          78,
          78,
          78,
          78,
          78,
          78,
          78,
          78,
          78,
          78,
          78,
          78,
          78,
          78
         ],
         "z": [
          48,
          66,
          52,
          70,
          60,
          110,
          140,
          139,
          105,
          95,
          85,
          88,
          100,
          90,
          105,
          85,
          110,
          120,
          145,
          165,
          139,
          140,
          68,
          95,
          97,
          75,
          95,
          105,
          85,
          97,
          103,
          125,
          115,
          133,
          71,
          68
         ]
        },
        {
         "hovertemplate": "model_year=%{y}<br>origin=%{x}<br>horsepower=%{z}<extra></extra>",
         "legendgroup": "79",
         "line": {
          "color": "#FECB52",
          "dash": "solid"
         },
         "marker": {
          "symbol": "circle"
         },
         "mode": "lines",
         "name": "79",
         "scene": "scene",
         "showlegend": true,
         "type": "scatter3d",
         "x": [
          "usa",
          "usa",
          "usa",
          "usa",
          "usa",
          "usa",
          "usa",
          "usa",
          "usa",
          "usa",
          "usa",
          "usa",
          "usa",
          "europe",
          "japan",
          "usa",
          "usa",
          "europe",
          "usa",
          "europe",
          "usa",
          "usa",
          "usa",
          "japan",
          "europe",
          "usa",
          "usa",
          "usa",
          "usa"
         ],
         "y": [
          79,
          79,
          79,
          79,
          79,
          79,
          79,
          79,
          79,
          79,
          79,
          79,
          79,
          79,
          79,
          79,
          79,
          79,
          79,
          79,
          79,
          79,
          79,
          79,
          79,
          79,
          79,
          79,
          79
         ],
         "z": [
          115,
          85,
          88,
          90,
          110,
          130,
          129,
          138,
          135,
          155,
          142,
          125,
          150,
          71,
          65,
          80,
          80,
          77,
          125,
          71,
          90,
          70,
          70,
          65,
          69,
          90,
          115,
          115,
          90
         ]
        },
        {
         "hovertemplate": "model_year=%{y}<br>origin=%{x}<br>horsepower=%{z}<extra></extra>",
         "legendgroup": "80",
         "line": {
          "color": "#636efa",
          "dash": "solid"
         },
         "marker": {
          "symbol": "circle"
         },
         "mode": "lines",
         "name": "80",
         "scene": "scene",
         "showlegend": true,
         "type": "scatter3d",
         "x": [
          "europe",
          "japan",
          "usa",
          "japan",
          "usa",
          "usa",
          "usa",
          "usa",
          "europe",
          "japan",
          "japan",
          "japan",
          "japan",
          "japan",
          "usa",
          "japan",
          "europe",
          "europe",
          "europe",
          "europe",
          "japan",
          "europe",
          "japan",
          "europe",
          "japan",
          "japan",
          "europe",
          "usa",
          "japan"
         ],
         "y": [
          80,
          80,
          80,
          80,
          80,
          80,
          80,
          80,
          80,
          80,
          80,
          80,
          80,
          80,
          80,
          80,
          80,
          80,
          80,
          80,
          80,
          80,
          80,
          80,
          80,
          80,
          80,
          80,
          80
         ],
         "z": [
          76,
          60,
          70,
          65,
          90,
          88,
          90,
          90,
          78,
          90,
          75,
          92,
          75,
          65,
          105,
          65,
          48,
          48,
          67,
          67,
          67,
          null,
          67,
          62,
          132,
          100,
          88,
          null,
          72
         ]
        },
        {
         "hovertemplate": "model_year=%{y}<br>origin=%{x}<br>horsepower=%{z}<extra></extra>",
         "legendgroup": "81",
         "line": {
          "color": "#EF553B",
          "dash": "solid"
         },
         "marker": {
          "symbol": "circle"
         },
         "mode": "lines",
         "name": "81",
         "scene": "scene",
         "showlegend": true,
         "type": "scatter3d",
         "x": [
          "usa",
          "usa",
          "usa",
          "usa",
          "usa",
          "japan",
          "usa",
          "japan",
          "japan",
          "japan",
          "japan",
          "japan",
          "usa",
          "usa",
          "usa",
          "europe",
          "europe",
          "japan",
          "japan",
          "japan",
          "japan",
          "europe",
          "europe",
          "japan",
          "japan",
          "usa",
          "usa",
          "usa",
          "usa"
         ],
         "y": [
          81,
          81,
          81,
          81,
          81,
          81,
          81,
          81,
          81,
          81,
          81,
          81,
          81,
          81,
          81,
          81,
          81,
          81,
          81,
          81,
          81,
          81,
          81,
          81,
          81,
          81,
          81,
          81,
          81
         ],
         "z": [
          84,
          84,
          92,
          110,
          84,
          58,
          64,
          60,
          67,
          65,
          62,
          68,
          63,
          65,
          65,
          74,
          null,
          75,
          75,
          100,
          74,
          80,
          76,
          116,
          120,
          110,
          105,
          88,
          85
         ]
        },
        {
         "hovertemplate": "model_year=%{y}<br>origin=%{x}<br>horsepower=%{z}<extra></extra>",
         "legendgroup": "82",
         "line": {
          "color": "#00cc96",
          "dash": "solid"
         },
         "marker": {
          "symbol": "circle"
         },
         "mode": "lines",
         "name": "82",
         "scene": "scene",
         "showlegend": true,
         "type": "scatter3d",
         "x": [
          "usa",
          "usa",
          "usa",
          "usa",
          "usa",
          "usa",
          "usa",
          "usa",
          "europe",
          "japan",
          "japan",
          "usa",
          "usa",
          "japan",
          "japan",
          "japan",
          "japan",
          "japan",
          "japan",
          "usa",
          "usa",
          "usa",
          "usa",
          "japan",
          "usa",
          "usa",
          "usa",
          "europe",
          "usa",
          "usa",
          "usa"
         ],
         "y": [
          82,
          82,
          82,
          82,
          82,
          82,
          82,
          82,
          82,
          82,
          82,
          82,
          82,
          82,
          82,
          82,
          82,
          82,
          82,
          82,
          82,
          82,
          82,
          82,
          82,
          82,
          82,
          82,
          82,
          82,
          82
         ],
         "z": [
          88,
          88,
          88,
          85,
          84,
          90,
          92,
          null,
          74,
          68,
          68,
          63,
          70,
          88,
          75,
          70,
          67,
          67,
          67,
          110,
          85,
          92,
          112,
          96,
          84,
          90,
          86,
          52,
          84,
          79,
          82
         ]
        }
       ],
       "layout": {
        "legend": {
         "title": {
          "text": "model_year"
         },
         "tracegroupgap": 0
        },
        "margin": {
         "t": 60
        },
        "scene": {
         "domain": {
          "x": [
           0,
           1
          ],
          "y": [
           0,
           1
          ]
         },
         "xaxis": {
          "title": {
           "text": "origin"
          }
         },
         "yaxis": {
          "categoryarray": [
           70,
           71,
           72,
           73,
           74,
           75,
           76,
           77,
           78,
           79,
           80,
           81,
           82
          ],
          "categoryorder": "array",
          "title": {
           "text": "model_year"
          }
         },
         "zaxis": {
          "title": {
           "text": "horsepower"
          }
         }
        },
        "template": {
         "data": {
          "bar": [
           {
            "error_x": {
             "color": "#2a3f5f"
            },
            "error_y": {
             "color": "#2a3f5f"
            },
            "marker": {
             "line": {
              "color": "#E5ECF6",
              "width": 0.5
             },
             "pattern": {
              "fillmode": "overlay",
              "size": 10,
              "solidity": 0.2
             }
            },
            "type": "bar"
           }
          ],
          "barpolar": [
           {
            "marker": {
             "line": {
              "color": "#E5ECF6",
              "width": 0.5
             },
             "pattern": {
              "fillmode": "overlay",
              "size": 10,
              "solidity": 0.2
             }
            },
            "type": "barpolar"
           }
          ],
          "carpet": [
           {
            "aaxis": {
             "endlinecolor": "#2a3f5f",
             "gridcolor": "white",
             "linecolor": "white",
             "minorgridcolor": "white",
             "startlinecolor": "#2a3f5f"
            },
            "baxis": {
             "endlinecolor": "#2a3f5f",
             "gridcolor": "white",
             "linecolor": "white",
             "minorgridcolor": "white",
             "startlinecolor": "#2a3f5f"
            },
            "type": "carpet"
           }
          ],
          "choropleth": [
           {
            "colorbar": {
             "outlinewidth": 0,
             "ticks": ""
            },
            "type": "choropleth"
           }
          ],
          "contour": [
           {
            "colorbar": {
             "outlinewidth": 0,
             "ticks": ""
            },
            "colorscale": [
             [
              0,
              "#0d0887"
             ],
             [
              0.1111111111111111,
              "#46039f"
             ],
             [
              0.2222222222222222,
              "#7201a8"
             ],
             [
              0.3333333333333333,
              "#9c179e"
             ],
             [
              0.4444444444444444,
              "#bd3786"
             ],
             [
              0.5555555555555556,
              "#d8576b"
             ],
             [
              0.6666666666666666,
              "#ed7953"
             ],
             [
              0.7777777777777778,
              "#fb9f3a"
             ],
             [
              0.8888888888888888,
              "#fdca26"
             ],
             [
              1,
              "#f0f921"
             ]
            ],
            "type": "contour"
           }
          ],
          "contourcarpet": [
           {
            "colorbar": {
             "outlinewidth": 0,
             "ticks": ""
            },
            "type": "contourcarpet"
           }
          ],
          "heatmap": [
           {
            "colorbar": {
             "outlinewidth": 0,
             "ticks": ""
            },
            "colorscale": [
             [
              0,
              "#0d0887"
             ],
             [
              0.1111111111111111,
              "#46039f"
             ],
             [
              0.2222222222222222,
              "#7201a8"
             ],
             [
              0.3333333333333333,
              "#9c179e"
             ],
             [
              0.4444444444444444,
              "#bd3786"
             ],
             [
              0.5555555555555556,
              "#d8576b"
             ],
             [
              0.6666666666666666,
              "#ed7953"
             ],
             [
              0.7777777777777778,
              "#fb9f3a"
             ],
             [
              0.8888888888888888,
              "#fdca26"
             ],
             [
              1,
              "#f0f921"
             ]
            ],
            "type": "heatmap"
           }
          ],
          "heatmapgl": [
           {
            "colorbar": {
             "outlinewidth": 0,
             "ticks": ""
            },
            "colorscale": [
             [
              0,
              "#0d0887"
             ],
             [
              0.1111111111111111,
              "#46039f"
             ],
             [
              0.2222222222222222,
              "#7201a8"
             ],
             [
              0.3333333333333333,
              "#9c179e"
             ],
             [
              0.4444444444444444,
              "#bd3786"
             ],
             [
              0.5555555555555556,
              "#d8576b"
             ],
             [
              0.6666666666666666,
              "#ed7953"
             ],
             [
              0.7777777777777778,
              "#fb9f3a"
             ],
             [
              0.8888888888888888,
              "#fdca26"
             ],
             [
              1,
              "#f0f921"
             ]
            ],
            "type": "heatmapgl"
           }
          ],
          "histogram": [
           {
            "marker": {
             "pattern": {
              "fillmode": "overlay",
              "size": 10,
              "solidity": 0.2
             }
            },
            "type": "histogram"
           }
          ],
          "histogram2d": [
           {
            "colorbar": {
             "outlinewidth": 0,
             "ticks": ""
            },
            "colorscale": [
             [
              0,
              "#0d0887"
             ],
             [
              0.1111111111111111,
              "#46039f"
             ],
             [
              0.2222222222222222,
              "#7201a8"
             ],
             [
              0.3333333333333333,
              "#9c179e"
             ],
             [
              0.4444444444444444,
              "#bd3786"
             ],
             [
              0.5555555555555556,
              "#d8576b"
             ],
             [
              0.6666666666666666,
              "#ed7953"
             ],
             [
              0.7777777777777778,
              "#fb9f3a"
             ],
             [
              0.8888888888888888,
              "#fdca26"
             ],
             [
              1,
              "#f0f921"
             ]
            ],
            "type": "histogram2d"
           }
          ],
          "histogram2dcontour": [
           {
            "colorbar": {
             "outlinewidth": 0,
             "ticks": ""
            },
            "colorscale": [
             [
              0,
              "#0d0887"
             ],
             [
              0.1111111111111111,
              "#46039f"
             ],
             [
              0.2222222222222222,
              "#7201a8"
             ],
             [
              0.3333333333333333,
              "#9c179e"
             ],
             [
              0.4444444444444444,
              "#bd3786"
             ],
             [
              0.5555555555555556,
              "#d8576b"
             ],
             [
              0.6666666666666666,
              "#ed7953"
             ],
             [
              0.7777777777777778,
              "#fb9f3a"
             ],
             [
              0.8888888888888888,
              "#fdca26"
             ],
             [
              1,
              "#f0f921"
             ]
            ],
            "type": "histogram2dcontour"
           }
          ],
          "mesh3d": [
           {
            "colorbar": {
             "outlinewidth": 0,
             "ticks": ""
            },
            "type": "mesh3d"
           }
          ],
          "parcoords": [
           {
            "line": {
             "colorbar": {
              "outlinewidth": 0,
              "ticks": ""
             }
            },
            "type": "parcoords"
           }
          ],
          "pie": [
           {
            "automargin": true,
            "type": "pie"
           }
          ],
          "scatter": [
           {
            "fillpattern": {
             "fillmode": "overlay",
             "size": 10,
             "solidity": 0.2
            },
            "type": "scatter"
           }
          ],
          "scatter3d": [
           {
            "line": {
             "colorbar": {
              "outlinewidth": 0,
              "ticks": ""
             }
            },
            "marker": {
             "colorbar": {
              "outlinewidth": 0,
              "ticks": ""
             }
            },
            "type": "scatter3d"
           }
          ],
          "scattercarpet": [
           {
            "marker": {
             "colorbar": {
              "outlinewidth": 0,
              "ticks": ""
             }
            },
            "type": "scattercarpet"
           }
          ],
          "scattergeo": [
           {
            "marker": {
             "colorbar": {
              "outlinewidth": 0,
              "ticks": ""
             }
            },
            "type": "scattergeo"
           }
          ],
          "scattergl": [
           {
            "marker": {
             "colorbar": {
              "outlinewidth": 0,
              "ticks": ""
             }
            },
            "type": "scattergl"
           }
          ],
          "scattermapbox": [
           {
            "marker": {
             "colorbar": {
              "outlinewidth": 0,
              "ticks": ""
             }
            },
            "type": "scattermapbox"
           }
          ],
          "scatterpolar": [
           {
            "marker": {
             "colorbar": {
              "outlinewidth": 0,
              "ticks": ""
             }
            },
            "type": "scatterpolar"
           }
          ],
          "scatterpolargl": [
           {
            "marker": {
             "colorbar": {
              "outlinewidth": 0,
              "ticks": ""
             }
            },
            "type": "scatterpolargl"
           }
          ],
          "scatterternary": [
           {
            "marker": {
             "colorbar": {
              "outlinewidth": 0,
              "ticks": ""
             }
            },
            "type": "scatterternary"
           }
          ],
          "surface": [
           {
            "colorbar": {
             "outlinewidth": 0,
             "ticks": ""
            },
            "colorscale": [
             [
              0,
              "#0d0887"
             ],
             [
              0.1111111111111111,
              "#46039f"
             ],
             [
              0.2222222222222222,
              "#7201a8"
             ],
             [
              0.3333333333333333,
              "#9c179e"
             ],
             [
              0.4444444444444444,
              "#bd3786"
             ],
             [
              0.5555555555555556,
              "#d8576b"
             ],
             [
              0.6666666666666666,
              "#ed7953"
             ],
             [
              0.7777777777777778,
              "#fb9f3a"
             ],
             [
              0.8888888888888888,
              "#fdca26"
             ],
             [
              1,
              "#f0f921"
             ]
            ],
            "type": "surface"
           }
          ],
          "table": [
           {
            "cells": {
             "fill": {
              "color": "#EBF0F8"
             },
             "line": {
              "color": "white"
             }
            },
            "header": {
             "fill": {
              "color": "#C8D4E3"
             },
             "line": {
              "color": "white"
             }
            },
            "type": "table"
           }
          ]
         },
         "layout": {
          "annotationdefaults": {
           "arrowcolor": "#2a3f5f",
           "arrowhead": 0,
           "arrowwidth": 1
          },
          "autotypenumbers": "strict",
          "coloraxis": {
           "colorbar": {
            "outlinewidth": 0,
            "ticks": ""
           }
          },
          "colorscale": {
           "diverging": [
            [
             0,
             "#8e0152"
            ],
            [
             0.1,
             "#c51b7d"
            ],
            [
             0.2,
             "#de77ae"
            ],
            [
             0.3,
             "#f1b6da"
            ],
            [
             0.4,
             "#fde0ef"
            ],
            [
             0.5,
             "#f7f7f7"
            ],
            [
             0.6,
             "#e6f5d0"
            ],
            [
             0.7,
             "#b8e186"
            ],
            [
             0.8,
             "#7fbc41"
            ],
            [
             0.9,
             "#4d9221"
            ],
            [
             1,
             "#276419"
            ]
           ],
           "sequential": [
            [
             0,
             "#0d0887"
            ],
            [
             0.1111111111111111,
             "#46039f"
            ],
            [
             0.2222222222222222,
             "#7201a8"
            ],
            [
             0.3333333333333333,
             "#9c179e"
            ],
            [
             0.4444444444444444,
             "#bd3786"
            ],
            [
             0.5555555555555556,
             "#d8576b"
            ],
            [
             0.6666666666666666,
             "#ed7953"
            ],
            [
             0.7777777777777778,
             "#fb9f3a"
            ],
            [
             0.8888888888888888,
             "#fdca26"
            ],
            [
             1,
             "#f0f921"
            ]
           ],
           "sequentialminus": [
            [
             0,
             "#0d0887"
            ],
            [
             0.1111111111111111,
             "#46039f"
            ],
            [
             0.2222222222222222,
             "#7201a8"
            ],
            [
             0.3333333333333333,
             "#9c179e"
            ],
            [
             0.4444444444444444,
             "#bd3786"
            ],
            [
             0.5555555555555556,
             "#d8576b"
            ],
            [
             0.6666666666666666,
             "#ed7953"
            ],
            [
             0.7777777777777778,
             "#fb9f3a"
            ],
            [
             0.8888888888888888,
             "#fdca26"
            ],
            [
             1,
             "#f0f921"
            ]
           ]
          },
          "colorway": [
           "#636efa",
           "#EF553B",
           "#00cc96",
           "#ab63fa",
           "#FFA15A",
           "#19d3f3",
           "#FF6692",
           "#B6E880",
           "#FF97FF",
           "#FECB52"
          ],
          "font": {
           "color": "#2a3f5f"
          },
          "geo": {
           "bgcolor": "white",
           "lakecolor": "white",
           "landcolor": "#E5ECF6",
           "showlakes": true,
           "showland": true,
           "subunitcolor": "white"
          },
          "hoverlabel": {
           "align": "left"
          },
          "hovermode": "closest",
          "mapbox": {
           "style": "light"
          },
          "paper_bgcolor": "white",
          "plot_bgcolor": "#E5ECF6",
          "polar": {
           "angularaxis": {
            "gridcolor": "white",
            "linecolor": "white",
            "ticks": ""
           },
           "bgcolor": "#E5ECF6",
           "radialaxis": {
            "gridcolor": "white",
            "linecolor": "white",
            "ticks": ""
           }
          },
          "scene": {
           "xaxis": {
            "backgroundcolor": "#E5ECF6",
            "gridcolor": "white",
            "gridwidth": 2,
            "linecolor": "white",
            "showbackground": true,
            "ticks": "",
            "zerolinecolor": "white"
           },
           "yaxis": {
            "backgroundcolor": "#E5ECF6",
            "gridcolor": "white",
            "gridwidth": 2,
            "linecolor": "white",
            "showbackground": true,
            "ticks": "",
            "zerolinecolor": "white"
           },
           "zaxis": {
            "backgroundcolor": "#E5ECF6",
            "gridcolor": "white",
            "gridwidth": 2,
            "linecolor": "white",
            "showbackground": true,
            "ticks": "",
            "zerolinecolor": "white"
           }
          },
          "shapedefaults": {
           "line": {
            "color": "#2a3f5f"
           }
          },
          "ternary": {
           "aaxis": {
            "gridcolor": "white",
            "linecolor": "white",
            "ticks": ""
           },
           "baxis": {
            "gridcolor": "white",
            "linecolor": "white",
            "ticks": ""
           },
           "bgcolor": "#E5ECF6",
           "caxis": {
            "gridcolor": "white",
            "linecolor": "white",
            "ticks": ""
           }
          },
          "title": {
           "x": 0.05
          },
          "xaxis": {
           "automargin": true,
           "gridcolor": "white",
           "linecolor": "white",
           "ticks": "",
           "title": {
            "standoff": 15
           },
           "zerolinecolor": "white",
           "zerolinewidth": 2
          },
          "yaxis": {
           "automargin": true,
           "gridcolor": "white",
           "linecolor": "white",
           "ticks": "",
           "title": {
            "standoff": 15
           },
           "zerolinecolor": "white",
           "zerolinewidth": 2
          }
         }
        }
       }
      },
      "text/html": [
       "<div>                            <div id=\"3e59bc65-6ae6-4fa0-99f4-ef88b4c682a4\" class=\"plotly-graph-div\" style=\"height:525px; width:100%;\"></div>            <script type=\"text/javascript\">                require([\"plotly\"], function(Plotly) {                    window.PLOTLYENV=window.PLOTLYENV || {};                                    if (document.getElementById(\"3e59bc65-6ae6-4fa0-99f4-ef88b4c682a4\")) {                    Plotly.newPlot(                        \"3e59bc65-6ae6-4fa0-99f4-ef88b4c682a4\",                        [{\"hovertemplate\":\"model_year=%{y}<br>origin=%{x}<br>horsepower=%{z}<extra></extra>\",\"legendgroup\":\"70\",\"line\":{\"color\":\"#636efa\",\"dash\":\"solid\"},\"marker\":{\"symbol\":\"circle\"},\"mode\":\"lines\",\"name\":\"70\",\"scene\":\"scene\",\"showlegend\":true,\"x\":[\"usa\",\"usa\",\"usa\",\"usa\",\"usa\",\"usa\",\"usa\",\"usa\",\"usa\",\"usa\",\"usa\",\"usa\",\"usa\",\"usa\",\"japan\",\"usa\",\"usa\",\"usa\",\"japan\",\"europe\",\"europe\",\"europe\",\"europe\",\"europe\",\"usa\",\"usa\",\"usa\",\"usa\",\"usa\"],\"y\":[70,70,70,70,70,70,70,70,70,70,70,70,70,70,70,70,70,70,70,70,70,70,70,70,70,70,70,70,70],\"z\":[130.0,165.0,150.0,150.0,140.0,198.0,220.0,215.0,225.0,190.0,170.0,160.0,150.0,225.0,95.0,95.0,97.0,85.0,88.0,46.0,87.0,90.0,95.0,113.0,90.0,215.0,200.0,210.0,193.0],\"type\":\"scatter3d\"},{\"hovertemplate\":\"model_year=%{y}<br>origin=%{x}<br>horsepower=%{z}<extra></extra>\",\"legendgroup\":\"71\",\"line\":{\"color\":\"#EF553B\",\"dash\":\"solid\"},\"marker\":{\"symbol\":\"circle\"},\"mode\":\"lines\",\"name\":\"71\",\"scene\":\"scene\",\"showlegend\":true,\"x\":[\"japan\",\"usa\",\"japan\",\"usa\",\"usa\",\"usa\",\"usa\",\"usa\",\"usa\",\"usa\",\"usa\",\"usa\",\"usa\",\"usa\",\"usa\",\"usa\",\"usa\",\"usa\",\"usa\",\"usa\",\"usa\",\"europe\",\"europe\",\"europe\",\"japan\",\"japan\",\"europe\",\"usa\"],\"y\":[71,71,71,71,71,71,71,71,71,71,71,71,71,71,71,71,71,71,71,71,71,71,71,71,71,71,71,71],\"z\":[88.0,90.0,95.0,null,100.0,105.0,100.0,88.0,100.0,165.0,175.0,153.0,150.0,180.0,170.0,175.0,110.0,72.0,100.0,88.0,86.0,90.0,70.0,76.0,65.0,69.0,60.0,70.0],\"type\":\"scatter3d\"},{\"hovertemplate\":\"model_year=%{y}<br>origin=%{x}<br>horsepower=%{z}<extra></extra>\",\"legendgroup\":\"72\",\"line\":{\"color\":\"#00cc96\",\"dash\":\"solid\"},\"marker\":{\"symbol\":\"circle\"},\"mode\":\"lines\",\"name\":\"72\",\"scene\":\"scene\",\"showlegend\":true,\"x\":[\"japan\",\"usa\",\"europe\",\"usa\",\"usa\",\"usa\",\"usa\",\"usa\",\"usa\",\"usa\",\"usa\",\"usa\",\"usa\",\"usa\",\"japan\",\"usa\",\"usa\",\"usa\",\"usa\",\"europe\",\"europe\",\"europe\",\"europe\",\"usa\",\"japan\",\"japan\",\"usa\",\"japan\"],\"y\":[72,72,72,72,72,72,72,72,72,72,72,72,72,72,72,72,72,72,72,72,72,72,72,72,72,72,72,72],\"z\":[95.0,80.0,54.0,90.0,86.0,165.0,175.0,150.0,153.0,150.0,208.0,155.0,160.0,190.0,97.0,150.0,130.0,140.0,150.0,112.0,76.0,87.0,69.0,86.0,92.0,97.0,80.0,88.0],\"type\":\"scatter3d\"},{\"hovertemplate\":\"model_year=%{y}<br>origin=%{x}<br>horsepower=%{z}<extra></extra>\",\"legendgroup\":\"73\",\"line\":{\"color\":\"#ab63fa\",\"dash\":\"solid\"},\"marker\":{\"symbol\":\"circle\"},\"mode\":\"lines\",\"name\":\"73\",\"scene\":\"scene\",\"showlegend\":true,\"x\":[\"usa\",\"usa\",\"usa\",\"usa\",\"usa\",\"usa\",\"usa\",\"usa\",\"usa\",\"usa\",\"usa\",\"usa\",\"usa\",\"usa\",\"usa\",\"usa\",\"usa\",\"europe\",\"usa\",\"usa\",\"usa\",\"usa\",\"usa\",\"japan\",\"usa\",\"japan\",\"japan\",\"usa\",\"usa\",\"europe\",\"usa\",\"usa\",\"europe\",\"europe\",\"europe\",\"europe\",\"usa\",\"europe\",\"japan\",\"usa\"],\"y\":[73,73,73,73,73,73,73,73,73,73,73,73,73,73,73,73,73,73,73,73,73,73,73,73,73,73,73,73,73,73,73,73,73,73,73,73,73,73,73,73],\"z\":[175.0,150.0,145.0,137.0,150.0,198.0,150.0,158.0,150.0,215.0,225.0,175.0,105.0,100.0,100.0,88.0,95.0,46.0,150.0,167.0,170.0,180.0,100.0,88.0,72.0,94.0,90.0,85.0,107.0,90.0,145.0,230.0,49.0,75.0,91.0,112.0,150.0,110.0,122.0,180.0],\"type\":\"scatter3d\"},{\"hovertemplate\":\"model_year=%{y}<br>origin=%{x}<br>horsepower=%{z}<extra></extra>\",\"legendgroup\":\"74\",\"line\":{\"color\":\"#FFA15A\",\"dash\":\"solid\"},\"marker\":{\"symbol\":\"circle\"},\"mode\":\"lines\",\"name\":\"74\",\"scene\":\"scene\",\"showlegend\":true,\"x\":[\"usa\",\"usa\",\"usa\",\"usa\",\"japan\",\"usa\",\"japan\",\"usa\",\"usa\",\"usa\",\"usa\",\"usa\",\"usa\",\"usa\",\"usa\",\"usa\",\"europe\",\"europe\",\"europe\",\"japan\",\"japan\",\"usa\",\"europe\",\"europe\",\"japan\",\"japan\",\"europe\"],\"y\":[74,74,74,74,74,74,74,74,74,74,74,74,74,74,74,74,74,74,74,74,74,74,74,74,74,74,74],\"z\":[95.0,null,100.0,100.0,67.0,80.0,65.0,75.0,100.0,110.0,105.0,140.0,150.0,150.0,140.0,150.0,83.0,67.0,78.0,52.0,61.0,75.0,75.0,75.0,97.0,93.0,67.0],\"type\":\"scatter3d\"},{\"hovertemplate\":\"model_year=%{y}<br>origin=%{x}<br>horsepower=%{z}<extra></extra>\",\"legendgroup\":\"75\",\"line\":{\"color\":\"#19d3f3\",\"dash\":\"solid\"},\"marker\":{\"symbol\":\"circle\"},\"mode\":\"lines\",\"name\":\"75\",\"scene\":\"scene\",\"showlegend\":true,\"x\":[\"usa\",\"usa\",\"usa\",\"usa\",\"usa\",\"usa\",\"usa\",\"usa\",\"usa\",\"usa\",\"usa\",\"usa\",\"usa\",\"usa\",\"usa\",\"japan\",\"usa\",\"usa\",\"usa\",\"japan\",\"europe\",\"japan\",\"usa\",\"europe\",\"usa\",\"europe\",\"europe\",\"europe\",\"europe\",\"japan\"],\"y\":[75,75,75,75,75,75,75,75,75,75,75,75,75,75,75,75,75,75,75,75,75,75,75,75,75,75,75,75,75,75],\"z\":[95.0,105.0,72.0,72.0,170.0,145.0,150.0,148.0,110.0,105.0,110.0,95.0,110.0,110.0,129.0,75.0,83.0,100.0,78.0,96.0,71.0,97.0,97.0,70.0,90.0,95.0,88.0,98.0,115.0,53.0],\"type\":\"scatter3d\"},{\"hovertemplate\":\"model_year=%{y}<br>origin=%{x}<br>horsepower=%{z}<extra></extra>\",\"legendgroup\":\"76\",\"line\":{\"color\":\"#FF6692\",\"dash\":\"solid\"},\"marker\":{\"symbol\":\"circle\"},\"mode\":\"lines\",\"name\":\"76\",\"scene\":\"scene\",\"showlegend\":true,\"x\":[\"europe\",\"europe\",\"usa\",\"usa\",\"europe\",\"usa\",\"usa\",\"usa\",\"usa\",\"usa\",\"usa\",\"usa\",\"usa\",\"usa\",\"usa\",\"europe\",\"japan\",\"usa\",\"usa\",\"usa\",\"usa\",\"europe\",\"japan\",\"japan\",\"usa\",\"europe\",\"usa\",\"europe\",\"japan\",\"europe\",\"usa\",\"usa\",\"usa\",\"usa\"],\"y\":[76,76,76,76,76,76,76,76,76,76,76,76,76,76,76,76,76,76,76,76,76,76,76,76,76,76,76,76,76,76,76,76,76,76],\"z\":[86.0,81.0,92.0,79.0,83.0,140.0,150.0,120.0,152.0,100.0,105.0,81.0,90.0,52.0,60.0,70.0,53.0,100.0,78.0,110.0,95.0,71.0,70.0,75.0,72.0,102.0,150.0,88.0,108.0,120.0,180.0,145.0,130.0,150.0],\"type\":\"scatter3d\"},{\"hovertemplate\":\"model_year=%{y}<br>origin=%{x}<br>horsepower=%{z}<extra></extra>\",\"legendgroup\":\"77\",\"line\":{\"color\":\"#B6E880\",\"dash\":\"solid\"},\"marker\":{\"symbol\":\"circle\"},\"mode\":\"lines\",\"name\":\"77\",\"scene\":\"scene\",\"showlegend\":true,\"x\":[\"japan\",\"usa\",\"europe\",\"usa\",\"japan\",\"usa\",\"usa\",\"usa\",\"usa\",\"usa\",\"usa\",\"usa\",\"usa\",\"usa\",\"usa\",\"usa\",\"usa\",\"europe\",\"usa\",\"japan\",\"usa\",\"usa\",\"usa\",\"japan\",\"europe\",\"japan\",\"europe\",\"japan\"],\"y\":[77,77,77,77,77,77,77,77,77,77,77,77,77,77,77,77,77,77,77,77,77,77,77,77,77,77,77,77],\"z\":[68.0,80.0,58.0,96.0,70.0,145.0,110.0,145.0,130.0,110.0,105.0,100.0,98.0,180.0,170.0,190.0,149.0,78.0,88.0,75.0,89.0,63.0,83.0,67.0,78.0,97.0,110.0,110.0],\"type\":\"scatter3d\"},{\"hovertemplate\":\"model_year=%{y}<br>origin=%{x}<br>horsepower=%{z}<extra></extra>\",\"legendgroup\":\"78\",\"line\":{\"color\":\"#FF97FF\",\"dash\":\"solid\"},\"marker\":{\"symbol\":\"circle\"},\"mode\":\"lines\",\"name\":\"78\",\"scene\":\"scene\",\"showlegend\":true,\"x\":[\"europe\",\"usa\",\"japan\",\"japan\",\"japan\",\"usa\",\"usa\",\"usa\",\"usa\",\"usa\",\"usa\",\"usa\",\"usa\",\"usa\",\"usa\",\"usa\",\"usa\",\"usa\",\"usa\",\"usa\",\"usa\",\"usa\",\"usa\",\"japan\",\"japan\",\"usa\",\"japan\",\"usa\",\"usa\",\"japan\",\"europe\",\"europe\",\"europe\",\"europe\",\"europe\",\"japan\"],\"y\":[78,78,78,78,78,78,78,78,78,78,78,78,78,78,78,78,78,78,78,78,78,78,78,78,78,78,78,78,78,78,78,78,78,78,78,78],\"z\":[48.0,66.0,52.0,70.0,60.0,110.0,140.0,139.0,105.0,95.0,85.0,88.0,100.0,90.0,105.0,85.0,110.0,120.0,145.0,165.0,139.0,140.0,68.0,95.0,97.0,75.0,95.0,105.0,85.0,97.0,103.0,125.0,115.0,133.0,71.0,68.0],\"type\":\"scatter3d\"},{\"hovertemplate\":\"model_year=%{y}<br>origin=%{x}<br>horsepower=%{z}<extra></extra>\",\"legendgroup\":\"79\",\"line\":{\"color\":\"#FECB52\",\"dash\":\"solid\"},\"marker\":{\"symbol\":\"circle\"},\"mode\":\"lines\",\"name\":\"79\",\"scene\":\"scene\",\"showlegend\":true,\"x\":[\"usa\",\"usa\",\"usa\",\"usa\",\"usa\",\"usa\",\"usa\",\"usa\",\"usa\",\"usa\",\"usa\",\"usa\",\"usa\",\"europe\",\"japan\",\"usa\",\"usa\",\"europe\",\"usa\",\"europe\",\"usa\",\"usa\",\"usa\",\"japan\",\"europe\",\"usa\",\"usa\",\"usa\",\"usa\"],\"y\":[79,79,79,79,79,79,79,79,79,79,79,79,79,79,79,79,79,79,79,79,79,79,79,79,79,79,79,79,79],\"z\":[115.0,85.0,88.0,90.0,110.0,130.0,129.0,138.0,135.0,155.0,142.0,125.0,150.0,71.0,65.0,80.0,80.0,77.0,125.0,71.0,90.0,70.0,70.0,65.0,69.0,90.0,115.0,115.0,90.0],\"type\":\"scatter3d\"},{\"hovertemplate\":\"model_year=%{y}<br>origin=%{x}<br>horsepower=%{z}<extra></extra>\",\"legendgroup\":\"80\",\"line\":{\"color\":\"#636efa\",\"dash\":\"solid\"},\"marker\":{\"symbol\":\"circle\"},\"mode\":\"lines\",\"name\":\"80\",\"scene\":\"scene\",\"showlegend\":true,\"x\":[\"europe\",\"japan\",\"usa\",\"japan\",\"usa\",\"usa\",\"usa\",\"usa\",\"europe\",\"japan\",\"japan\",\"japan\",\"japan\",\"japan\",\"usa\",\"japan\",\"europe\",\"europe\",\"europe\",\"europe\",\"japan\",\"europe\",\"japan\",\"europe\",\"japan\",\"japan\",\"europe\",\"usa\",\"japan\"],\"y\":[80,80,80,80,80,80,80,80,80,80,80,80,80,80,80,80,80,80,80,80,80,80,80,80,80,80,80,80,80],\"z\":[76.0,60.0,70.0,65.0,90.0,88.0,90.0,90.0,78.0,90.0,75.0,92.0,75.0,65.0,105.0,65.0,48.0,48.0,67.0,67.0,67.0,null,67.0,62.0,132.0,100.0,88.0,null,72.0],\"type\":\"scatter3d\"},{\"hovertemplate\":\"model_year=%{y}<br>origin=%{x}<br>horsepower=%{z}<extra></extra>\",\"legendgroup\":\"81\",\"line\":{\"color\":\"#EF553B\",\"dash\":\"solid\"},\"marker\":{\"symbol\":\"circle\"},\"mode\":\"lines\",\"name\":\"81\",\"scene\":\"scene\",\"showlegend\":true,\"x\":[\"usa\",\"usa\",\"usa\",\"usa\",\"usa\",\"japan\",\"usa\",\"japan\",\"japan\",\"japan\",\"japan\",\"japan\",\"usa\",\"usa\",\"usa\",\"europe\",\"europe\",\"japan\",\"japan\",\"japan\",\"japan\",\"europe\",\"europe\",\"japan\",\"japan\",\"usa\",\"usa\",\"usa\",\"usa\"],\"y\":[81,81,81,81,81,81,81,81,81,81,81,81,81,81,81,81,81,81,81,81,81,81,81,81,81,81,81,81,81],\"z\":[84.0,84.0,92.0,110.0,84.0,58.0,64.0,60.0,67.0,65.0,62.0,68.0,63.0,65.0,65.0,74.0,null,75.0,75.0,100.0,74.0,80.0,76.0,116.0,120.0,110.0,105.0,88.0,85.0],\"type\":\"scatter3d\"},{\"hovertemplate\":\"model_year=%{y}<br>origin=%{x}<br>horsepower=%{z}<extra></extra>\",\"legendgroup\":\"82\",\"line\":{\"color\":\"#00cc96\",\"dash\":\"solid\"},\"marker\":{\"symbol\":\"circle\"},\"mode\":\"lines\",\"name\":\"82\",\"scene\":\"scene\",\"showlegend\":true,\"x\":[\"usa\",\"usa\",\"usa\",\"usa\",\"usa\",\"usa\",\"usa\",\"usa\",\"europe\",\"japan\",\"japan\",\"usa\",\"usa\",\"japan\",\"japan\",\"japan\",\"japan\",\"japan\",\"japan\",\"usa\",\"usa\",\"usa\",\"usa\",\"japan\",\"usa\",\"usa\",\"usa\",\"europe\",\"usa\",\"usa\",\"usa\"],\"y\":[82,82,82,82,82,82,82,82,82,82,82,82,82,82,82,82,82,82,82,82,82,82,82,82,82,82,82,82,82,82,82],\"z\":[88.0,88.0,88.0,85.0,84.0,90.0,92.0,null,74.0,68.0,68.0,63.0,70.0,88.0,75.0,70.0,67.0,67.0,67.0,110.0,85.0,92.0,112.0,96.0,84.0,90.0,86.0,52.0,84.0,79.0,82.0],\"type\":\"scatter3d\"}],                        {\"template\":{\"data\":{\"histogram2dcontour\":[{\"type\":\"histogram2dcontour\",\"colorbar\":{\"outlinewidth\":0,\"ticks\":\"\"},\"colorscale\":[[0.0,\"#0d0887\"],[0.1111111111111111,\"#46039f\"],[0.2222222222222222,\"#7201a8\"],[0.3333333333333333,\"#9c179e\"],[0.4444444444444444,\"#bd3786\"],[0.5555555555555556,\"#d8576b\"],[0.6666666666666666,\"#ed7953\"],[0.7777777777777778,\"#fb9f3a\"],[0.8888888888888888,\"#fdca26\"],[1.0,\"#f0f921\"]]}],\"choropleth\":[{\"type\":\"choropleth\",\"colorbar\":{\"outlinewidth\":0,\"ticks\":\"\"}}],\"histogram2d\":[{\"type\":\"histogram2d\",\"colorbar\":{\"outlinewidth\":0,\"ticks\":\"\"},\"colorscale\":[[0.0,\"#0d0887\"],[0.1111111111111111,\"#46039f\"],[0.2222222222222222,\"#7201a8\"],[0.3333333333333333,\"#9c179e\"],[0.4444444444444444,\"#bd3786\"],[0.5555555555555556,\"#d8576b\"],[0.6666666666666666,\"#ed7953\"],[0.7777777777777778,\"#fb9f3a\"],[0.8888888888888888,\"#fdca26\"],[1.0,\"#f0f921\"]]}],\"heatmap\":[{\"type\":\"heatmap\",\"colorbar\":{\"outlinewidth\":0,\"ticks\":\"\"},\"colorscale\":[[0.0,\"#0d0887\"],[0.1111111111111111,\"#46039f\"],[0.2222222222222222,\"#7201a8\"],[0.3333333333333333,\"#9c179e\"],[0.4444444444444444,\"#bd3786\"],[0.5555555555555556,\"#d8576b\"],[0.6666666666666666,\"#ed7953\"],[0.7777777777777778,\"#fb9f3a\"],[0.8888888888888888,\"#fdca26\"],[1.0,\"#f0f921\"]]}],\"heatmapgl\":[{\"type\":\"heatmapgl\",\"colorbar\":{\"outlinewidth\":0,\"ticks\":\"\"},\"colorscale\":[[0.0,\"#0d0887\"],[0.1111111111111111,\"#46039f\"],[0.2222222222222222,\"#7201a8\"],[0.3333333333333333,\"#9c179e\"],[0.4444444444444444,\"#bd3786\"],[0.5555555555555556,\"#d8576b\"],[0.6666666666666666,\"#ed7953\"],[0.7777777777777778,\"#fb9f3a\"],[0.8888888888888888,\"#fdca26\"],[1.0,\"#f0f921\"]]}],\"contourcarpet\":[{\"type\":\"contourcarpet\",\"colorbar\":{\"outlinewidth\":0,\"ticks\":\"\"}}],\"contour\":[{\"type\":\"contour\",\"colorbar\":{\"outlinewidth\":0,\"ticks\":\"\"},\"colorscale\":[[0.0,\"#0d0887\"],[0.1111111111111111,\"#46039f\"],[0.2222222222222222,\"#7201a8\"],[0.3333333333333333,\"#9c179e\"],[0.4444444444444444,\"#bd3786\"],[0.5555555555555556,\"#d8576b\"],[0.6666666666666666,\"#ed7953\"],[0.7777777777777778,\"#fb9f3a\"],[0.8888888888888888,\"#fdca26\"],[1.0,\"#f0f921\"]]}],\"surface\":[{\"type\":\"surface\",\"colorbar\":{\"outlinewidth\":0,\"ticks\":\"\"},\"colorscale\":[[0.0,\"#0d0887\"],[0.1111111111111111,\"#46039f\"],[0.2222222222222222,\"#7201a8\"],[0.3333333333333333,\"#9c179e\"],[0.4444444444444444,\"#bd3786\"],[0.5555555555555556,\"#d8576b\"],[0.6666666666666666,\"#ed7953\"],[0.7777777777777778,\"#fb9f3a\"],[0.8888888888888888,\"#fdca26\"],[1.0,\"#f0f921\"]]}],\"mesh3d\":[{\"type\":\"mesh3d\",\"colorbar\":{\"outlinewidth\":0,\"ticks\":\"\"}}],\"scatter\":[{\"fillpattern\":{\"fillmode\":\"overlay\",\"size\":10,\"solidity\":0.2},\"type\":\"scatter\"}],\"parcoords\":[{\"type\":\"parcoords\",\"line\":{\"colorbar\":{\"outlinewidth\":0,\"ticks\":\"\"}}}],\"scatterpolargl\":[{\"type\":\"scatterpolargl\",\"marker\":{\"colorbar\":{\"outlinewidth\":0,\"ticks\":\"\"}}}],\"bar\":[{\"error_x\":{\"color\":\"#2a3f5f\"},\"error_y\":{\"color\":\"#2a3f5f\"},\"marker\":{\"line\":{\"color\":\"#E5ECF6\",\"width\":0.5},\"pattern\":{\"fillmode\":\"overlay\",\"size\":10,\"solidity\":0.2}},\"type\":\"bar\"}],\"scattergeo\":[{\"type\":\"scattergeo\",\"marker\":{\"colorbar\":{\"outlinewidth\":0,\"ticks\":\"\"}}}],\"scatterpolar\":[{\"type\":\"scatterpolar\",\"marker\":{\"colorbar\":{\"outlinewidth\":0,\"ticks\":\"\"}}}],\"histogram\":[{\"marker\":{\"pattern\":{\"fillmode\":\"overlay\",\"size\":10,\"solidity\":0.2}},\"type\":\"histogram\"}],\"scattergl\":[{\"type\":\"scattergl\",\"marker\":{\"colorbar\":{\"outlinewidth\":0,\"ticks\":\"\"}}}],\"scatter3d\":[{\"type\":\"scatter3d\",\"line\":{\"colorbar\":{\"outlinewidth\":0,\"ticks\":\"\"}},\"marker\":{\"colorbar\":{\"outlinewidth\":0,\"ticks\":\"\"}}}],\"scattermapbox\":[{\"type\":\"scattermapbox\",\"marker\":{\"colorbar\":{\"outlinewidth\":0,\"ticks\":\"\"}}}],\"scatterternary\":[{\"type\":\"scatterternary\",\"marker\":{\"colorbar\":{\"outlinewidth\":0,\"ticks\":\"\"}}}],\"scattercarpet\":[{\"type\":\"scattercarpet\",\"marker\":{\"colorbar\":{\"outlinewidth\":0,\"ticks\":\"\"}}}],\"carpet\":[{\"aaxis\":{\"endlinecolor\":\"#2a3f5f\",\"gridcolor\":\"white\",\"linecolor\":\"white\",\"minorgridcolor\":\"white\",\"startlinecolor\":\"#2a3f5f\"},\"baxis\":{\"endlinecolor\":\"#2a3f5f\",\"gridcolor\":\"white\",\"linecolor\":\"white\",\"minorgridcolor\":\"white\",\"startlinecolor\":\"#2a3f5f\"},\"type\":\"carpet\"}],\"table\":[{\"cells\":{\"fill\":{\"color\":\"#EBF0F8\"},\"line\":{\"color\":\"white\"}},\"header\":{\"fill\":{\"color\":\"#C8D4E3\"},\"line\":{\"color\":\"white\"}},\"type\":\"table\"}],\"barpolar\":[{\"marker\":{\"line\":{\"color\":\"#E5ECF6\",\"width\":0.5},\"pattern\":{\"fillmode\":\"overlay\",\"size\":10,\"solidity\":0.2}},\"type\":\"barpolar\"}],\"pie\":[{\"automargin\":true,\"type\":\"pie\"}]},\"layout\":{\"autotypenumbers\":\"strict\",\"colorway\":[\"#636efa\",\"#EF553B\",\"#00cc96\",\"#ab63fa\",\"#FFA15A\",\"#19d3f3\",\"#FF6692\",\"#B6E880\",\"#FF97FF\",\"#FECB52\"],\"font\":{\"color\":\"#2a3f5f\"},\"hovermode\":\"closest\",\"hoverlabel\":{\"align\":\"left\"},\"paper_bgcolor\":\"white\",\"plot_bgcolor\":\"#E5ECF6\",\"polar\":{\"bgcolor\":\"#E5ECF6\",\"angularaxis\":{\"gridcolor\":\"white\",\"linecolor\":\"white\",\"ticks\":\"\"},\"radialaxis\":{\"gridcolor\":\"white\",\"linecolor\":\"white\",\"ticks\":\"\"}},\"ternary\":{\"bgcolor\":\"#E5ECF6\",\"aaxis\":{\"gridcolor\":\"white\",\"linecolor\":\"white\",\"ticks\":\"\"},\"baxis\":{\"gridcolor\":\"white\",\"linecolor\":\"white\",\"ticks\":\"\"},\"caxis\":{\"gridcolor\":\"white\",\"linecolor\":\"white\",\"ticks\":\"\"}},\"coloraxis\":{\"colorbar\":{\"outlinewidth\":0,\"ticks\":\"\"}},\"colorscale\":{\"sequential\":[[0.0,\"#0d0887\"],[0.1111111111111111,\"#46039f\"],[0.2222222222222222,\"#7201a8\"],[0.3333333333333333,\"#9c179e\"],[0.4444444444444444,\"#bd3786\"],[0.5555555555555556,\"#d8576b\"],[0.6666666666666666,\"#ed7953\"],[0.7777777777777778,\"#fb9f3a\"],[0.8888888888888888,\"#fdca26\"],[1.0,\"#f0f921\"]],\"sequentialminus\":[[0.0,\"#0d0887\"],[0.1111111111111111,\"#46039f\"],[0.2222222222222222,\"#7201a8\"],[0.3333333333333333,\"#9c179e\"],[0.4444444444444444,\"#bd3786\"],[0.5555555555555556,\"#d8576b\"],[0.6666666666666666,\"#ed7953\"],[0.7777777777777778,\"#fb9f3a\"],[0.8888888888888888,\"#fdca26\"],[1.0,\"#f0f921\"]],\"diverging\":[[0,\"#8e0152\"],[0.1,\"#c51b7d\"],[0.2,\"#de77ae\"],[0.3,\"#f1b6da\"],[0.4,\"#fde0ef\"],[0.5,\"#f7f7f7\"],[0.6,\"#e6f5d0\"],[0.7,\"#b8e186\"],[0.8,\"#7fbc41\"],[0.9,\"#4d9221\"],[1,\"#276419\"]]},\"xaxis\":{\"gridcolor\":\"white\",\"linecolor\":\"white\",\"ticks\":\"\",\"title\":{\"standoff\":15},\"zerolinecolor\":\"white\",\"automargin\":true,\"zerolinewidth\":2},\"yaxis\":{\"gridcolor\":\"white\",\"linecolor\":\"white\",\"ticks\":\"\",\"title\":{\"standoff\":15},\"zerolinecolor\":\"white\",\"automargin\":true,\"zerolinewidth\":2},\"scene\":{\"xaxis\":{\"backgroundcolor\":\"#E5ECF6\",\"gridcolor\":\"white\",\"linecolor\":\"white\",\"showbackground\":true,\"ticks\":\"\",\"zerolinecolor\":\"white\",\"gridwidth\":2},\"yaxis\":{\"backgroundcolor\":\"#E5ECF6\",\"gridcolor\":\"white\",\"linecolor\":\"white\",\"showbackground\":true,\"ticks\":\"\",\"zerolinecolor\":\"white\",\"gridwidth\":2},\"zaxis\":{\"backgroundcolor\":\"#E5ECF6\",\"gridcolor\":\"white\",\"linecolor\":\"white\",\"showbackground\":true,\"ticks\":\"\",\"zerolinecolor\":\"white\",\"gridwidth\":2}},\"shapedefaults\":{\"line\":{\"color\":\"#2a3f5f\"}},\"annotationdefaults\":{\"arrowcolor\":\"#2a3f5f\",\"arrowhead\":0,\"arrowwidth\":1},\"geo\":{\"bgcolor\":\"white\",\"landcolor\":\"#E5ECF6\",\"subunitcolor\":\"white\",\"showland\":true,\"showlakes\":true,\"lakecolor\":\"white\"},\"title\":{\"x\":0.05},\"mapbox\":{\"style\":\"light\"}}},\"scene\":{\"domain\":{\"x\":[0.0,1.0],\"y\":[0.0,1.0]},\"xaxis\":{\"title\":{\"text\":\"origin\"}},\"yaxis\":{\"title\":{\"text\":\"model_year\"},\"categoryorder\":\"array\",\"categoryarray\":[70,71,72,73,74,75,76,77,78,79,80,81,82]},\"zaxis\":{\"title\":{\"text\":\"horsepower\"}}},\"legend\":{\"title\":{\"text\":\"model_year\"},\"tracegroupgap\":0},\"margin\":{\"t\":60}},                        {\"responsive\": true}                    ).then(function(){\n",
       "                            \n",
       "var gd = document.getElementById('3e59bc65-6ae6-4fa0-99f4-ef88b4c682a4');\n",
       "var x = new MutationObserver(function (mutations, observer) {{\n",
       "        var display = window.getComputedStyle(gd).display;\n",
       "        if (!display || display === 'none') {{\n",
       "            console.log([gd, 'removed!']);\n",
       "            Plotly.purge(gd);\n",
       "            observer.disconnect();\n",
       "        }}\n",
       "}});\n",
       "\n",
       "// Listen for the removal of the full notebook cells\n",
       "var notebookContainer = gd.closest('#notebook-container');\n",
       "if (notebookContainer) {{\n",
       "    x.observe(notebookContainer, {childList: true});\n",
       "}}\n",
       "\n",
       "// Listen for the clearing of the current output cell\n",
       "var outputEl = gd.closest('.output');\n",
       "if (outputEl) {{\n",
       "    x.observe(outputEl, {childList: true});\n",
       "}}\n",
       "\n",
       "                        })                };                });            </script>        </div>"
      ]
     },
     "metadata": {},
     "output_type": "display_data"
    }
   ],
   "source": [
    "px.line_3d(data, x = \"origin\", y = \"model_year\", z = \"horsepower\", color = \"model_year\")"
   ]
  },
  {
   "cell_type": "code",
   "execution_count": 62,
   "id": "1c1358d3",
   "metadata": {},
   "outputs": [
    {
     "data": {
      "application/vnd.plotly.v1+json": {
       "config": {
        "plotlyServerURL": "https://plot.ly"
       },
       "data": [
        {
         "dimensions": [
          {
           "axis": {
            "matches": true
           },
           "label": "mpg",
           "values": [
            18,
            15,
            18,
            16,
            17,
            15,
            14,
            14,
            14,
            15,
            15,
            14,
            15,
            14,
            24,
            22,
            18,
            21,
            27,
            26,
            25,
            24,
            25,
            26,
            21,
            10,
            10,
            11,
            9,
            27,
            28,
            25,
            25,
            19,
            16,
            17,
            19,
            18,
            14,
            14,
            14,
            14,
            12,
            13,
            13,
            18,
            22,
            19,
            18,
            23,
            28,
            30,
            30,
            31,
            35,
            27,
            26,
            24,
            25,
            23,
            20,
            21,
            13,
            14,
            15,
            14,
            17,
            11,
            13,
            12,
            13,
            19,
            15,
            13,
            13,
            14,
            18,
            22,
            21,
            26,
            22,
            28,
            23,
            28,
            27,
            13,
            14,
            13,
            14,
            15,
            12,
            13,
            13,
            14,
            13,
            12,
            13,
            18,
            16,
            18,
            18,
            23,
            26,
            11,
            12,
            13,
            12,
            18,
            20,
            21,
            22,
            18,
            19,
            21,
            26,
            15,
            16,
            29,
            24,
            20,
            19,
            15,
            24,
            20,
            11,
            20,
            21,
            19,
            15,
            31,
            26,
            32,
            25,
            16,
            16,
            18,
            16,
            13,
            14,
            14,
            14,
            29,
            26,
            26,
            31,
            32,
            28,
            24,
            26,
            24,
            26,
            31,
            19,
            18,
            15,
            15,
            16,
            15,
            16,
            14,
            17,
            16,
            15,
            18,
            21,
            20,
            13,
            29,
            23,
            20,
            23,
            24,
            25,
            24,
            18,
            29,
            19,
            23,
            23,
            22,
            25,
            33,
            28,
            25,
            25,
            26,
            27,
            17.5,
            16,
            15.5,
            14.5,
            22,
            22,
            24,
            22.5,
            29,
            24.5,
            29,
            33,
            20,
            18,
            18.5,
            17.5,
            29.5,
            32,
            28,
            26.5,
            20,
            13,
            19,
            19,
            16.5,
            16.5,
            13,
            13,
            13,
            31.5,
            30,
            36,
            25.5,
            33.5,
            17.5,
            17,
            15.5,
            15,
            17.5,
            20.5,
            19,
            18.5,
            16,
            15.5,
            15.5,
            16,
            29,
            24.5,
            26,
            25.5,
            30.5,
            33.5,
            30,
            30.5,
            22,
            21.5,
            21.5,
            43.1,
            36.1,
            32.8,
            39.4,
            36.1,
            19.9,
            19.4,
            20.2,
            19.2,
            20.5,
            20.2,
            25.1,
            20.5,
            19.4,
            20.6,
            20.8,
            18.6,
            18.1,
            19.2,
            17.7,
            18.1,
            17.5,
            30,
            27.5,
            27.2,
            30.9,
            21.1,
            23.2,
            23.8,
            23.9,
            20.3,
            17,
            21.6,
            16.2,
            31.5,
            29.5,
            21.5,
            19.8,
            22.3,
            20.2,
            20.6,
            17,
            17.6,
            16.5,
            18.2,
            16.9,
            15.5,
            19.2,
            18.5,
            31.9,
            34.1,
            35.7,
            27.4,
            25.4,
            23,
            27.2,
            23.9,
            34.2,
            34.5,
            31.8,
            37.3,
            28.4,
            28.8,
            26.8,
            33.5,
            41.5,
            38.1,
            32.1,
            37.2,
            28,
            26.4,
            24.3,
            19.1,
            34.3,
            29.8,
            31.3,
            37,
            32.2,
            46.6,
            27.9,
            40.8,
            44.3,
            43.4,
            36.4,
            30,
            44.6,
            40.9,
            33.8,
            29.8,
            32.7,
            23.7,
            35,
            23.6,
            32.4,
            27.2,
            26.6,
            25.8,
            23.5,
            30,
            39.1,
            39,
            35.1,
            32.3,
            37,
            37.7,
            34.1,
            34.7,
            34.4,
            29.9,
            33,
            34.5,
            33.7,
            32.4,
            32.9,
            31.6,
            28.1,
            30.7,
            25.4,
            24.2,
            22.4,
            26.6,
            20.2,
            17.6,
            28,
            27,
            34,
            31,
            29,
            27,
            24,
            23,
            36,
            37,
            31,
            38,
            36,
            36,
            36,
            34,
            38,
            32,
            38,
            25,
            38,
            26,
            22,
            32,
            36,
            27,
            27,
            44,
            32,
            28,
            31
           ]
          },
          {
           "axis": {
            "matches": true
           },
           "label": "cylinders",
           "values": [
            8,
            8,
            8,
            8,
            8,
            8,
            8,
            8,
            8,
            8,
            8,
            8,
            8,
            8,
            4,
            6,
            6,
            6,
            4,
            4,
            4,
            4,
            4,
            4,
            6,
            8,
            8,
            8,
            8,
            4,
            4,
            4,
            4,
            6,
            6,
            6,
            6,
            6,
            8,
            8,
            8,
            8,
            8,
            8,
            8,
            6,
            4,
            6,
            6,
            4,
            4,
            4,
            4,
            4,
            4,
            4,
            4,
            4,
            4,
            4,
            4,
            4,
            8,
            8,
            8,
            8,
            8,
            8,
            8,
            8,
            8,
            3,
            8,
            8,
            8,
            8,
            4,
            4,
            4,
            4,
            4,
            4,
            4,
            4,
            4,
            8,
            8,
            8,
            8,
            8,
            8,
            8,
            8,
            8,
            8,
            8,
            8,
            6,
            6,
            6,
            6,
            6,
            4,
            8,
            8,
            8,
            8,
            6,
            4,
            4,
            4,
            3,
            4,
            6,
            4,
            8,
            8,
            4,
            4,
            4,
            4,
            8,
            4,
            6,
            8,
            6,
            6,
            6,
            6,
            4,
            4,
            4,
            4,
            6,
            6,
            6,
            8,
            8,
            8,
            8,
            8,
            4,
            4,
            4,
            4,
            4,
            4,
            4,
            4,
            4,
            4,
            4,
            6,
            6,
            6,
            6,
            8,
            8,
            8,
            8,
            6,
            6,
            6,
            6,
            6,
            8,
            8,
            4,
            4,
            6,
            4,
            4,
            4,
            4,
            6,
            4,
            6,
            4,
            4,
            4,
            4,
            4,
            4,
            4,
            4,
            4,
            4,
            8,
            8,
            8,
            8,
            6,
            6,
            6,
            6,
            4,
            4,
            4,
            4,
            6,
            6,
            6,
            6,
            4,
            4,
            4,
            4,
            4,
            8,
            4,
            6,
            6,
            8,
            8,
            8,
            8,
            4,
            4,
            4,
            4,
            4,
            8,
            8,
            8,
            8,
            6,
            6,
            6,
            6,
            8,
            8,
            8,
            8,
            4,
            4,
            4,
            4,
            4,
            4,
            4,
            4,
            6,
            4,
            3,
            4,
            4,
            4,
            4,
            4,
            8,
            8,
            8,
            6,
            6,
            6,
            4,
            6,
            6,
            6,
            6,
            6,
            6,
            8,
            6,
            8,
            8,
            4,
            4,
            4,
            4,
            4,
            4,
            4,
            4,
            5,
            6,
            4,
            6,
            4,
            4,
            6,
            6,
            4,
            6,
            6,
            8,
            8,
            8,
            8,
            8,
            8,
            8,
            8,
            4,
            4,
            4,
            4,
            5,
            8,
            4,
            8,
            4,
            4,
            4,
            4,
            4,
            6,
            6,
            4,
            4,
            4,
            4,
            4,
            4,
            4,
            4,
            6,
            4,
            4,
            4,
            4,
            4,
            4,
            4,
            4,
            4,
            4,
            5,
            4,
            4,
            4,
            4,
            4,
            6,
            3,
            4,
            4,
            4,
            4,
            4,
            4,
            6,
            4,
            4,
            4,
            4,
            4,
            4,
            4,
            4,
            4,
            4,
            4,
            4,
            4,
            4,
            4,
            4,
            4,
            4,
            6,
            6,
            6,
            6,
            8,
            6,
            6,
            4,
            4,
            4,
            4,
            4,
            4,
            4,
            4,
            4,
            4,
            4,
            4,
            4,
            4,
            4,
            4,
            4,
            4,
            4,
            6,
            6,
            4,
            6,
            4,
            4,
            4,
            4,
            4,
            4,
            4,
            4
           ]
          },
          {
           "axis": {
            "matches": true
           },
           "label": "displacement",
           "values": [
            307,
            350,
            318,
            304,
            302,
            429,
            454,
            440,
            455,
            390,
            383,
            340,
            400,
            455,
            113,
            198,
            199,
            200,
            97,
            97,
            110,
            107,
            104,
            121,
            199,
            360,
            307,
            318,
            304,
            97,
            140,
            113,
            98,
            232,
            225,
            250,
            250,
            232,
            350,
            400,
            351,
            318,
            383,
            400,
            400,
            258,
            140,
            250,
            250,
            122,
            116,
            79,
            88,
            71,
            72,
            97,
            91,
            113,
            97.5,
            97,
            140,
            122,
            350,
            400,
            318,
            351,
            304,
            429,
            350,
            350,
            400,
            70,
            304,
            307,
            302,
            318,
            121,
            121,
            120,
            96,
            122,
            97,
            120,
            98,
            97,
            350,
            304,
            350,
            302,
            318,
            429,
            400,
            351,
            318,
            440,
            455,
            360,
            225,
            250,
            232,
            250,
            198,
            97,
            400,
            400,
            360,
            350,
            232,
            97,
            140,
            108,
            70,
            122,
            155,
            98,
            350,
            400,
            68,
            116,
            114,
            121,
            318,
            121,
            156,
            350,
            198,
            200,
            232,
            250,
            79,
            122,
            71,
            140,
            250,
            258,
            225,
            302,
            350,
            318,
            302,
            304,
            98,
            79,
            97,
            76,
            83,
            90,
            90,
            116,
            120,
            108,
            79,
            225,
            250,
            250,
            250,
            400,
            350,
            318,
            351,
            231,
            250,
            258,
            225,
            231,
            262,
            302,
            97,
            140,
            232,
            140,
            134,
            90,
            119,
            171,
            90,
            232,
            115,
            120,
            121,
            121,
            91,
            107,
            116,
            140,
            98,
            101,
            305,
            318,
            304,
            351,
            225,
            250,
            200,
            232,
            85,
            98,
            90,
            91,
            225,
            250,
            250,
            258,
            97,
            85,
            97,
            140,
            130,
            318,
            120,
            156,
            168,
            350,
            350,
            302,
            318,
            98,
            111,
            79,
            122,
            85,
            305,
            260,
            318,
            302,
            250,
            231,
            225,
            250,
            400,
            350,
            400,
            351,
            97,
            151,
            97,
            140,
            98,
            98,
            97,
            97,
            146,
            121,
            80,
            90,
            98,
            78,
            85,
            91,
            260,
            318,
            302,
            231,
            200,
            200,
            140,
            225,
            232,
            231,
            200,
            225,
            258,
            305,
            231,
            302,
            318,
            98,
            134,
            119,
            105,
            134,
            156,
            151,
            119,
            131,
            163,
            121,
            163,
            89,
            98,
            231,
            200,
            140,
            232,
            225,
            305,
            302,
            351,
            318,
            350,
            351,
            267,
            360,
            89,
            86,
            98,
            121,
            183,
            350,
            141,
            260,
            105,
            105,
            85,
            91,
            151,
            173,
            173,
            151,
            98,
            89,
            98,
            86,
            151,
            140,
            151,
            225,
            97,
            134,
            120,
            119,
            108,
            86,
            156,
            85,
            90,
            90,
            121,
            146,
            91,
            85,
            97,
            89,
            168,
            70,
            122,
            140,
            107,
            135,
            151,
            156,
            173,
            135,
            79,
            86,
            81,
            97,
            85,
            89,
            91,
            105,
            98,
            98,
            105,
            100,
            107,
            108,
            119,
            120,
            141,
            145,
            168,
            146,
            231,
            350,
            200,
            225,
            112,
            112,
            112,
            112,
            135,
            151,
            140,
            151,
            105,
            91,
            91,
            105,
            98,
            120,
            107,
            108,
            91,
            91,
            91,
            181,
            262,
            156,
            232,
            144,
            135,
            151,
            140,
            97,
            135,
            120,
            119
           ]
          },
          {
           "axis": {
            "matches": true
           },
           "label": "horsepower",
           "values": [
            130,
            165,
            150,
            150,
            140,
            198,
            220,
            215,
            225,
            190,
            170,
            160,
            150,
            225,
            95,
            95,
            97,
            85,
            88,
            46,
            87,
            90,
            95,
            113,
            90,
            215,
            200,
            210,
            193,
            88,
            90,
            95,
            null,
            100,
            105,
            100,
            88,
            100,
            165,
            175,
            153,
            150,
            180,
            170,
            175,
            110,
            72,
            100,
            88,
            86,
            90,
            70,
            76,
            65,
            69,
            60,
            70,
            95,
            80,
            54,
            90,
            86,
            165,
            175,
            150,
            153,
            150,
            208,
            155,
            160,
            190,
            97,
            150,
            130,
            140,
            150,
            112,
            76,
            87,
            69,
            86,
            92,
            97,
            80,
            88,
            175,
            150,
            145,
            137,
            150,
            198,
            150,
            158,
            150,
            215,
            225,
            175,
            105,
            100,
            100,
            88,
            95,
            46,
            150,
            167,
            170,
            180,
            100,
            88,
            72,
            94,
            90,
            85,
            107,
            90,
            145,
            230,
            49,
            75,
            91,
            112,
            150,
            110,
            122,
            180,
            95,
            null,
            100,
            100,
            67,
            80,
            65,
            75,
            100,
            110,
            105,
            140,
            150,
            150,
            140,
            150,
            83,
            67,
            78,
            52,
            61,
            75,
            75,
            75,
            97,
            93,
            67,
            95,
            105,
            72,
            72,
            170,
            145,
            150,
            148,
            110,
            105,
            110,
            95,
            110,
            110,
            129,
            75,
            83,
            100,
            78,
            96,
            71,
            97,
            97,
            70,
            90,
            95,
            88,
            98,
            115,
            53,
            86,
            81,
            92,
            79,
            83,
            140,
            150,
            120,
            152,
            100,
            105,
            81,
            90,
            52,
            60,
            70,
            53,
            100,
            78,
            110,
            95,
            71,
            70,
            75,
            72,
            102,
            150,
            88,
            108,
            120,
            180,
            145,
            130,
            150,
            68,
            80,
            58,
            96,
            70,
            145,
            110,
            145,
            130,
            110,
            105,
            100,
            98,
            180,
            170,
            190,
            149,
            78,
            88,
            75,
            89,
            63,
            83,
            67,
            78,
            97,
            110,
            110,
            48,
            66,
            52,
            70,
            60,
            110,
            140,
            139,
            105,
            95,
            85,
            88,
            100,
            90,
            105,
            85,
            110,
            120,
            145,
            165,
            139,
            140,
            68,
            95,
            97,
            75,
            95,
            105,
            85,
            97,
            103,
            125,
            115,
            133,
            71,
            68,
            115,
            85,
            88,
            90,
            110,
            130,
            129,
            138,
            135,
            155,
            142,
            125,
            150,
            71,
            65,
            80,
            80,
            77,
            125,
            71,
            90,
            70,
            70,
            65,
            69,
            90,
            115,
            115,
            90,
            76,
            60,
            70,
            65,
            90,
            88,
            90,
            90,
            78,
            90,
            75,
            92,
            75,
            65,
            105,
            65,
            48,
            48,
            67,
            67,
            67,
            null,
            67,
            62,
            132,
            100,
            88,
            null,
            72,
            84,
            84,
            92,
            110,
            84,
            58,
            64,
            60,
            67,
            65,
            62,
            68,
            63,
            65,
            65,
            74,
            null,
            75,
            75,
            100,
            74,
            80,
            76,
            116,
            120,
            110,
            105,
            88,
            85,
            88,
            88,
            88,
            85,
            84,
            90,
            92,
            null,
            74,
            68,
            68,
            63,
            70,
            88,
            75,
            70,
            67,
            67,
            67,
            110,
            85,
            92,
            112,
            96,
            84,
            90,
            86,
            52,
            84,
            79,
            82
           ]
          },
          {
           "axis": {
            "matches": true
           },
           "label": "weight",
           "values": [
            3504,
            3693,
            3436,
            3433,
            3449,
            4341,
            4354,
            4312,
            4425,
            3850,
            3563,
            3609,
            3761,
            3086,
            2372,
            2833,
            2774,
            2587,
            2130,
            1835,
            2672,
            2430,
            2375,
            2234,
            2648,
            4615,
            4376,
            4382,
            4732,
            2130,
            2264,
            2228,
            2046,
            2634,
            3439,
            3329,
            3302,
            3288,
            4209,
            4464,
            4154,
            4096,
            4955,
            4746,
            5140,
            2962,
            2408,
            3282,
            3139,
            2220,
            2123,
            2074,
            2065,
            1773,
            1613,
            1834,
            1955,
            2278,
            2126,
            2254,
            2408,
            2226,
            4274,
            4385,
            4135,
            4129,
            3672,
            4633,
            4502,
            4456,
            4422,
            2330,
            3892,
            4098,
            4294,
            4077,
            2933,
            2511,
            2979,
            2189,
            2395,
            2288,
            2506,
            2164,
            2100,
            4100,
            3672,
            3988,
            4042,
            3777,
            4952,
            4464,
            4363,
            4237,
            4735,
            4951,
            3821,
            3121,
            3278,
            2945,
            3021,
            2904,
            1950,
            4997,
            4906,
            4654,
            4499,
            2789,
            2279,
            2401,
            2379,
            2124,
            2310,
            2472,
            2265,
            4082,
            4278,
            1867,
            2158,
            2582,
            2868,
            3399,
            2660,
            2807,
            3664,
            3102,
            2875,
            2901,
            3336,
            1950,
            2451,
            1836,
            2542,
            3781,
            3632,
            3613,
            4141,
            4699,
            4457,
            4638,
            4257,
            2219,
            1963,
            2300,
            1649,
            2003,
            2125,
            2108,
            2246,
            2489,
            2391,
            2000,
            3264,
            3459,
            3432,
            3158,
            4668,
            4440,
            4498,
            4657,
            3907,
            3897,
            3730,
            3785,
            3039,
            3221,
            3169,
            2171,
            2639,
            2914,
            2592,
            2702,
            2223,
            2545,
            2984,
            1937,
            3211,
            2694,
            2957,
            2945,
            2671,
            1795,
            2464,
            2220,
            2572,
            2255,
            2202,
            4215,
            4190,
            3962,
            4215,
            3233,
            3353,
            3012,
            3085,
            2035,
            2164,
            1937,
            1795,
            3651,
            3574,
            3645,
            3193,
            1825,
            1990,
            2155,
            2565,
            3150,
            3940,
            3270,
            2930,
            3820,
            4380,
            4055,
            3870,
            3755,
            2045,
            2155,
            1825,
            2300,
            1945,
            3880,
            4060,
            4140,
            4295,
            3520,
            3425,
            3630,
            3525,
            4220,
            4165,
            4325,
            4335,
            1940,
            2740,
            2265,
            2755,
            2051,
            2075,
            1985,
            2190,
            2815,
            2600,
            2720,
            1985,
            1800,
            1985,
            2070,
            1800,
            3365,
            3735,
            3570,
            3535,
            3155,
            2965,
            2720,
            3430,
            3210,
            3380,
            3070,
            3620,
            3410,
            3425,
            3445,
            3205,
            4080,
            2155,
            2560,
            2300,
            2230,
            2515,
            2745,
            2855,
            2405,
            2830,
            3140,
            2795,
            3410,
            1990,
            2135,
            3245,
            2990,
            2890,
            3265,
            3360,
            3840,
            3725,
            3955,
            3830,
            4360,
            4054,
            3605,
            3940,
            1925,
            1975,
            1915,
            2670,
            3530,
            3900,
            3190,
            3420,
            2200,
            2150,
            2020,
            2130,
            2670,
            2595,
            2700,
            2556,
            2144,
            1968,
            2120,
            2019,
            2678,
            2870,
            3003,
            3381,
            2188,
            2711,
            2542,
            2434,
            2265,
            2110,
            2800,
            2110,
            2085,
            2335,
            2950,
            3250,
            1850,
            1835,
            2145,
            1845,
            2910,
            2420,
            2500,
            2905,
            2290,
            2490,
            2635,
            2620,
            2725,
            2385,
            1755,
            1875,
            1760,
            2065,
            1975,
            2050,
            1985,
            2215,
            2045,
            2380,
            2190,
            2320,
            2210,
            2350,
            2615,
            2635,
            3230,
            3160,
            2900,
            2930,
            3415,
            3725,
            3060,
            3465,
            2605,
            2640,
            2395,
            2575,
            2525,
            2735,
            2865,
            3035,
            1980,
            2025,
            1970,
            2125,
            2125,
            2160,
            2205,
            2245,
            1965,
            1965,
            1995,
            2945,
            3015,
            2585,
            2835,
            2665,
            2370,
            2950,
            2790,
            2130,
            2295,
            2625,
            2720
           ]
          },
          {
           "axis": {
            "matches": true
           },
           "label": "acceleration",
           "values": [
            12,
            11.5,
            11,
            12,
            10.5,
            10,
            9,
            8.5,
            10,
            8.5,
            10,
            8,
            9.5,
            10,
            15,
            15.5,
            15.5,
            16,
            14.5,
            20.5,
            17.5,
            14.5,
            17.5,
            12.5,
            15,
            14,
            15,
            13.5,
            18.5,
            14.5,
            15.5,
            14,
            19,
            13,
            15.5,
            15.5,
            15.5,
            15.5,
            12,
            11.5,
            13.5,
            13,
            11.5,
            12,
            12,
            13.5,
            19,
            15,
            14.5,
            14,
            14,
            19.5,
            14.5,
            19,
            18,
            19,
            20.5,
            15.5,
            17,
            23.5,
            19.5,
            16.5,
            12,
            12,
            13.5,
            13,
            11.5,
            11,
            13.5,
            13.5,
            12.5,
            13.5,
            12.5,
            14,
            16,
            14,
            14.5,
            18,
            19.5,
            18,
            16,
            17,
            14.5,
            15,
            16.5,
            13,
            11.5,
            13,
            14.5,
            12.5,
            11.5,
            12,
            13,
            14.5,
            11,
            11,
            11,
            16.5,
            18,
            16,
            16.5,
            16,
            21,
            14,
            12.5,
            13,
            12.5,
            15,
            19,
            19.5,
            16.5,
            13.5,
            18.5,
            14,
            15.5,
            13,
            9.5,
            19.5,
            15.5,
            14,
            15.5,
            11,
            14,
            13.5,
            11,
            16.5,
            17,
            16,
            17,
            19,
            16.5,
            21,
            17,
            17,
            18,
            16.5,
            14,
            14.5,
            13.5,
            16,
            15.5,
            16.5,
            15.5,
            14.5,
            16.5,
            19,
            14.5,
            15.5,
            14,
            15,
            15.5,
            16,
            16,
            16,
            21,
            19.5,
            11.5,
            14,
            14.5,
            13.5,
            21,
            18.5,
            19,
            19,
            15,
            13.5,
            12,
            16,
            17,
            16,
            18.5,
            13.5,
            16.5,
            17,
            14.5,
            14,
            17,
            15,
            17,
            14.5,
            13.5,
            17.5,
            15.5,
            16.9,
            14.9,
            17.7,
            15.3,
            13,
            13,
            13.9,
            12.8,
            15.4,
            14.5,
            17.6,
            17.6,
            22.2,
            22.1,
            14.2,
            17.4,
            17.7,
            21,
            16.2,
            17.8,
            12.2,
            17,
            16.4,
            13.6,
            15.7,
            13.2,
            21.9,
            15.5,
            16.7,
            12.1,
            12,
            15,
            14,
            18.5,
            14.8,
            18.6,
            15.5,
            16.8,
            12.5,
            19,
            13.7,
            14.9,
            16.4,
            16.9,
            17.7,
            19,
            11.1,
            11.4,
            12.2,
            14.5,
            14.5,
            16,
            18.2,
            15.8,
            17,
            15.9,
            16.4,
            14.1,
            14.5,
            12.8,
            13.5,
            21.5,
            14.4,
            19.4,
            18.6,
            16.4,
            15.5,
            13.2,
            12.8,
            19.2,
            18.2,
            15.8,
            15.4,
            17.2,
            17.2,
            15.8,
            16.7,
            18.7,
            15.1,
            13.2,
            13.4,
            11.2,
            13.7,
            16.5,
            14.2,
            14.7,
            14.5,
            14.8,
            16.7,
            17.6,
            14.9,
            15.9,
            13.6,
            15.7,
            15.8,
            14.9,
            16.6,
            15.4,
            18.2,
            17.3,
            18.2,
            16.6,
            15.4,
            13.4,
            13.2,
            15.2,
            14.9,
            14.3,
            15,
            13,
            14,
            15.2,
            14.4,
            15,
            20.1,
            17.4,
            24.8,
            22.2,
            13.2,
            14.9,
            19.2,
            14.7,
            16,
            11.3,
            12.9,
            13.2,
            14.7,
            18.8,
            15.5,
            16.4,
            16.5,
            18.1,
            20.1,
            18.7,
            15.8,
            15.5,
            17.5,
            15,
            15.2,
            17.9,
            14.4,
            19.2,
            21.7,
            23.7,
            19.9,
            21.8,
            13.8,
            17.3,
            18,
            15.3,
            11.4,
            12.5,
            15.1,
            14.3,
            17,
            15.7,
            16.4,
            14.4,
            12.6,
            12.9,
            16.9,
            16.4,
            16.1,
            17.8,
            19.4,
            17.3,
            16,
            14.9,
            16.2,
            20.7,
            14.2,
            15.8,
            14.4,
            16.8,
            14.8,
            18.3,
            20.4,
            19.6,
            12.6,
            13.8,
            15.8,
            19,
            17.1,
            16.6,
            19.6,
            18.6,
            18,
            16.2,
            16,
            18,
            16.4,
            20.5,
            15.3,
            18.2,
            17.6,
            14.7,
            17.3,
            14.5,
            14.5,
            16.9,
            15,
            15.7,
            16.2,
            16.4,
            17,
            14.5,
            14.7,
            13.9,
            13,
            17.3,
            15.6,
            24.6,
            11.6,
            18.6,
            19.4
           ]
          },
          {
           "axis": {
            "matches": true
           },
           "label": "model_year",
           "values": [
            70,
            70,
            70,
            70,
            70,
            70,
            70,
            70,
            70,
            70,
            70,
            70,
            70,
            70,
            70,
            70,
            70,
            70,
            70,
            70,
            70,
            70,
            70,
            70,
            70,
            70,
            70,
            70,
            70,
            71,
            71,
            71,
            71,
            71,
            71,
            71,
            71,
            71,
            71,
            71,
            71,
            71,
            71,
            71,
            71,
            71,
            71,
            71,
            71,
            71,
            71,
            71,
            71,
            71,
            71,
            71,
            71,
            72,
            72,
            72,
            72,
            72,
            72,
            72,
            72,
            72,
            72,
            72,
            72,
            72,
            72,
            72,
            72,
            72,
            72,
            72,
            72,
            72,
            72,
            72,
            72,
            72,
            72,
            72,
            72,
            73,
            73,
            73,
            73,
            73,
            73,
            73,
            73,
            73,
            73,
            73,
            73,
            73,
            73,
            73,
            73,
            73,
            73,
            73,
            73,
            73,
            73,
            73,
            73,
            73,
            73,
            73,
            73,
            73,
            73,
            73,
            73,
            73,
            73,
            73,
            73,
            73,
            73,
            73,
            73,
            74,
            74,
            74,
            74,
            74,
            74,
            74,
            74,
            74,
            74,
            74,
            74,
            74,
            74,
            74,
            74,
            74,
            74,
            74,
            74,
            74,
            74,
            74,
            74,
            74,
            74,
            74,
            75,
            75,
            75,
            75,
            75,
            75,
            75,
            75,
            75,
            75,
            75,
            75,
            75,
            75,
            75,
            75,
            75,
            75,
            75,
            75,
            75,
            75,
            75,
            75,
            75,
            75,
            75,
            75,
            75,
            75,
            76,
            76,
            76,
            76,
            76,
            76,
            76,
            76,
            76,
            76,
            76,
            76,
            76,
            76,
            76,
            76,
            76,
            76,
            76,
            76,
            76,
            76,
            76,
            76,
            76,
            76,
            76,
            76,
            76,
            76,
            76,
            76,
            76,
            76,
            77,
            77,
            77,
            77,
            77,
            77,
            77,
            77,
            77,
            77,
            77,
            77,
            77,
            77,
            77,
            77,
            77,
            77,
            77,
            77,
            77,
            77,
            77,
            77,
            77,
            77,
            77,
            77,
            78,
            78,
            78,
            78,
            78,
            78,
            78,
            78,
            78,
            78,
            78,
            78,
            78,
            78,
            78,
            78,
            78,
            78,
            78,
            78,
            78,
            78,
            78,
            78,
            78,
            78,
            78,
            78,
            78,
            78,
            78,
            78,
            78,
            78,
            78,
            78,
            79,
            79,
            79,
            79,
            79,
            79,
            79,
            79,
            79,
            79,
            79,
            79,
            79,
            79,
            79,
            79,
            79,
            79,
            79,
            79,
            79,
            79,
            79,
            79,
            79,
            79,
            79,
            79,
            79,
            80,
            80,
            80,
            80,
            80,
            80,
            80,
            80,
            80,
            80,
            80,
            80,
            80,
            80,
            80,
            80,
            80,
            80,
            80,
            80,
            80,
            80,
            80,
            80,
            80,
            80,
            80,
            80,
            80,
            81,
            81,
            81,
            81,
            81,
            81,
            81,
            81,
            81,
            81,
            81,
            81,
            81,
            81,
            81,
            81,
            81,
            81,
            81,
            81,
            81,
            81,
            81,
            81,
            81,
            81,
            81,
            81,
            81,
            82,
            82,
            82,
            82,
            82,
            82,
            82,
            82,
            82,
            82,
            82,
            82,
            82,
            82,
            82,
            82,
            82,
            82,
            82,
            82,
            82,
            82,
            82,
            82,
            82,
            82,
            82,
            82,
            82,
            82,
            82
           ]
          },
          {
           "axis": {
            "matches": true
           },
           "label": "origin",
           "values": [
            "usa",
            "usa",
            "usa",
            "usa",
            "usa",
            "usa",
            "usa",
            "usa",
            "usa",
            "usa",
            "usa",
            "usa",
            "usa",
            "usa",
            "japan",
            "usa",
            "usa",
            "usa",
            "japan",
            "europe",
            "europe",
            "europe",
            "europe",
            "europe",
            "usa",
            "usa",
            "usa",
            "usa",
            "usa",
            "japan",
            "usa",
            "japan",
            "usa",
            "usa",
            "usa",
            "usa",
            "usa",
            "usa",
            "usa",
            "usa",
            "usa",
            "usa",
            "usa",
            "usa",
            "usa",
            "usa",
            "usa",
            "usa",
            "usa",
            "usa",
            "europe",
            "europe",
            "europe",
            "japan",
            "japan",
            "europe",
            "usa",
            "japan",
            "usa",
            "europe",
            "usa",
            "usa",
            "usa",
            "usa",
            "usa",
            "usa",
            "usa",
            "usa",
            "usa",
            "usa",
            "usa",
            "japan",
            "usa",
            "usa",
            "usa",
            "usa",
            "europe",
            "europe",
            "europe",
            "europe",
            "usa",
            "japan",
            "japan",
            "usa",
            "japan",
            "usa",
            "usa",
            "usa",
            "usa",
            "usa",
            "usa",
            "usa",
            "usa",
            "usa",
            "usa",
            "usa",
            "usa",
            "usa",
            "usa",
            "usa",
            "usa",
            "usa",
            "europe",
            "usa",
            "usa",
            "usa",
            "usa",
            "usa",
            "japan",
            "usa",
            "japan",
            "japan",
            "usa",
            "usa",
            "europe",
            "usa",
            "usa",
            "europe",
            "europe",
            "europe",
            "europe",
            "usa",
            "europe",
            "japan",
            "usa",
            "usa",
            "usa",
            "usa",
            "usa",
            "japan",
            "usa",
            "japan",
            "usa",
            "usa",
            "usa",
            "usa",
            "usa",
            "usa",
            "usa",
            "usa",
            "usa",
            "europe",
            "europe",
            "europe",
            "japan",
            "japan",
            "usa",
            "europe",
            "europe",
            "japan",
            "japan",
            "europe",
            "usa",
            "usa",
            "usa",
            "usa",
            "usa",
            "usa",
            "usa",
            "usa",
            "usa",
            "usa",
            "usa",
            "usa",
            "usa",
            "usa",
            "usa",
            "japan",
            "usa",
            "usa",
            "usa",
            "japan",
            "europe",
            "japan",
            "usa",
            "europe",
            "usa",
            "europe",
            "europe",
            "europe",
            "europe",
            "japan",
            "europe",
            "europe",
            "usa",
            "usa",
            "europe",
            "usa",
            "usa",
            "usa",
            "usa",
            "usa",
            "usa",
            "usa",
            "usa",
            "usa",
            "usa",
            "europe",
            "japan",
            "usa",
            "usa",
            "usa",
            "usa",
            "europe",
            "japan",
            "japan",
            "usa",
            "europe",
            "usa",
            "europe",
            "japan",
            "europe",
            "usa",
            "usa",
            "usa",
            "usa",
            "japan",
            "usa",
            "europe",
            "usa",
            "japan",
            "usa",
            "usa",
            "usa",
            "usa",
            "usa",
            "usa",
            "usa",
            "usa",
            "usa",
            "usa",
            "usa",
            "usa",
            "europe",
            "usa",
            "japan",
            "usa",
            "usa",
            "usa",
            "japan",
            "europe",
            "japan",
            "europe",
            "japan",
            "europe",
            "usa",
            "japan",
            "japan",
            "japan",
            "usa",
            "usa",
            "usa",
            "usa",
            "usa",
            "usa",
            "usa",
            "usa",
            "usa",
            "usa",
            "usa",
            "usa",
            "usa",
            "usa",
            "usa",
            "usa",
            "usa",
            "usa",
            "japan",
            "japan",
            "usa",
            "japan",
            "usa",
            "usa",
            "japan",
            "europe",
            "europe",
            "europe",
            "europe",
            "europe",
            "japan",
            "usa",
            "usa",
            "usa",
            "usa",
            "usa",
            "usa",
            "usa",
            "usa",
            "usa",
            "usa",
            "usa",
            "usa",
            "usa",
            "europe",
            "japan",
            "usa",
            "usa",
            "europe",
            "usa",
            "europe",
            "usa",
            "usa",
            "usa",
            "japan",
            "europe",
            "usa",
            "usa",
            "usa",
            "usa",
            "europe",
            "japan",
            "usa",
            "japan",
            "usa",
            "usa",
            "usa",
            "usa",
            "europe",
            "japan",
            "japan",
            "japan",
            "japan",
            "japan",
            "usa",
            "japan",
            "europe",
            "europe",
            "europe",
            "europe",
            "japan",
            "europe",
            "japan",
            "europe",
            "japan",
            "japan",
            "europe",
            "usa",
            "japan",
            "usa",
            "usa",
            "usa",
            "usa",
            "usa",
            "japan",
            "usa",
            "japan",
            "japan",
            "japan",
            "japan",
            "japan",
            "usa",
            "usa",
            "usa",
            "europe",
            "europe",
            "japan",
            "japan",
            "japan",
            "japan",
            "europe",
            "europe",
            "japan",
            "japan",
            "usa",
            "usa",
            "usa",
            "usa",
            "usa",
            "usa",
            "usa",
            "usa",
            "usa",
            "usa",
            "usa",
            "usa",
            "europe",
            "japan",
            "japan",
            "usa",
            "usa",
            "japan",
            "japan",
            "japan",
            "japan",
            "japan",
            "japan",
            "usa",
            "usa",
            "usa",
            "usa",
            "japan",
            "usa",
            "usa",
            "usa",
            "europe",
            "usa",
            "usa",
            "usa"
           ]
          },
          {
           "axis": {
            "matches": true
           },
           "label": "name",
           "values": [
            "chevrolet chevelle malibu",
            "buick skylark 320",
            "plymouth satellite",
            "amc rebel sst",
            "ford torino",
            "ford galaxie 500",
            "chevrolet impala",
            "plymouth fury iii",
            "pontiac catalina",
            "amc ambassador dpl",
            "dodge challenger se",
            "plymouth 'cuda 340",
            "chevrolet monte carlo",
            "buick estate wagon (sw)",
            "toyota corona mark ii",
            "plymouth duster",
            "amc hornet",
            "ford maverick",
            "datsun pl510",
            "volkswagen 1131 deluxe sedan",
            "peugeot 504",
            "audi 100 ls",
            "saab 99e",
            "bmw 2002",
            "amc gremlin",
            "ford f250",
            "chevy c20",
            "dodge d200",
            "hi 1200d",
            "datsun pl510",
            "chevrolet vega 2300",
            "toyota corona",
            "ford pinto",
            "amc gremlin",
            "plymouth satellite custom",
            "chevrolet chevelle malibu",
            "ford torino 500",
            "amc matador",
            "chevrolet impala",
            "pontiac catalina brougham",
            "ford galaxie 500",
            "plymouth fury iii",
            "dodge monaco (sw)",
            "ford country squire (sw)",
            "pontiac safari (sw)",
            "amc hornet sportabout (sw)",
            "chevrolet vega (sw)",
            "pontiac firebird",
            "ford mustang",
            "mercury capri 2000",
            "opel 1900",
            "peugeot 304",
            "fiat 124b",
            "toyota corolla 1200",
            "datsun 1200",
            "volkswagen model 111",
            "plymouth cricket",
            "toyota corona hardtop",
            "dodge colt hardtop",
            "volkswagen type 3",
            "chevrolet vega",
            "ford pinto runabout",
            "chevrolet impala",
            "pontiac catalina",
            "plymouth fury iii",
            "ford galaxie 500",
            "amc ambassador sst",
            "mercury marquis",
            "buick lesabre custom",
            "oldsmobile delta 88 royale",
            "chrysler newport royal",
            "mazda rx2 coupe",
            "amc matador (sw)",
            "chevrolet chevelle concours (sw)",
            "ford gran torino (sw)",
            "plymouth satellite custom (sw)",
            "volvo 145e (sw)",
            "volkswagen 411 (sw)",
            "peugeot 504 (sw)",
            "renault 12 (sw)",
            "ford pinto (sw)",
            "datsun 510 (sw)",
            "toyouta corona mark ii (sw)",
            "dodge colt (sw)",
            "toyota corolla 1600 (sw)",
            "buick century 350",
            "amc matador",
            "chevrolet malibu",
            "ford gran torino",
            "dodge coronet custom",
            "mercury marquis brougham",
            "chevrolet caprice classic",
            "ford ltd",
            "plymouth fury gran sedan",
            "chrysler new yorker brougham",
            "buick electra 225 custom",
            "amc ambassador brougham",
            "plymouth valiant",
            "chevrolet nova custom",
            "amc hornet",
            "ford maverick",
            "plymouth duster",
            "volkswagen super beetle",
            "chevrolet impala",
            "ford country",
            "plymouth custom suburb",
            "oldsmobile vista cruiser",
            "amc gremlin",
            "toyota carina",
            "chevrolet vega",
            "datsun 610",
            "maxda rx3",
            "ford pinto",
            "mercury capri v6",
            "fiat 124 sport coupe",
            "chevrolet monte carlo s",
            "pontiac grand prix",
            "fiat 128",
            "opel manta",
            "audi 100ls",
            "volvo 144ea",
            "dodge dart custom",
            "saab 99le",
            "toyota mark ii",
            "oldsmobile omega",
            "plymouth duster",
            "ford maverick",
            "amc hornet",
            "chevrolet nova",
            "datsun b210",
            "ford pinto",
            "toyota corolla 1200",
            "chevrolet vega",
            "chevrolet chevelle malibu classic",
            "amc matador",
            "plymouth satellite sebring",
            "ford gran torino",
            "buick century luxus (sw)",
            "dodge coronet custom (sw)",
            "ford gran torino (sw)",
            "amc matador (sw)",
            "audi fox",
            "volkswagen dasher",
            "opel manta",
            "toyota corona",
            "datsun 710",
            "dodge colt",
            "fiat 128",
            "fiat 124 tc",
            "honda civic",
            "subaru",
            "fiat x1.9",
            "plymouth valiant custom",
            "chevrolet nova",
            "mercury monarch",
            "ford maverick",
            "pontiac catalina",
            "chevrolet bel air",
            "plymouth grand fury",
            "ford ltd",
            "buick century",
            "chevroelt chevelle malibu",
            "amc matador",
            "plymouth fury",
            "buick skyhawk",
            "chevrolet monza 2+2",
            "ford mustang ii",
            "toyota corolla",
            "ford pinto",
            "amc gremlin",
            "pontiac astro",
            "toyota corona",
            "volkswagen dasher",
            "datsun 710",
            "ford pinto",
            "volkswagen rabbit",
            "amc pacer",
            "audi 100ls",
            "peugeot 504",
            "volvo 244dl",
            "saab 99le",
            "honda civic cvcc",
            "fiat 131",
            "opel 1900",
            "capri ii",
            "dodge colt",
            "renault 12tl",
            "chevrolet chevelle malibu classic",
            "dodge coronet brougham",
            "amc matador",
            "ford gran torino",
            "plymouth valiant",
            "chevrolet nova",
            "ford maverick",
            "amc hornet",
            "chevrolet chevette",
            "chevrolet woody",
            "vw rabbit",
            "honda civic",
            "dodge aspen se",
            "ford granada ghia",
            "pontiac ventura sj",
            "amc pacer d/l",
            "volkswagen rabbit",
            "datsun b-210",
            "toyota corolla",
            "ford pinto",
            "volvo 245",
            "plymouth volare premier v8",
            "peugeot 504",
            "toyota mark ii",
            "mercedes-benz 280s",
            "cadillac seville",
            "chevy c10",
            "ford f108",
            "dodge d100",
            "honda accord cvcc",
            "buick opel isuzu deluxe",
            "renault 5 gtl",
            "plymouth arrow gs",
            "datsun f-10 hatchback",
            "chevrolet caprice classic",
            "oldsmobile cutlass supreme",
            "dodge monaco brougham",
            "mercury cougar brougham",
            "chevrolet concours",
            "buick skylark",
            "plymouth volare custom",
            "ford granada",
            "pontiac grand prix lj",
            "chevrolet monte carlo landau",
            "chrysler cordoba",
            "ford thunderbird",
            "volkswagen rabbit custom",
            "pontiac sunbird coupe",
            "toyota corolla liftback",
            "ford mustang ii 2+2",
            "chevrolet chevette",
            "dodge colt m/m",
            "subaru dl",
            "volkswagen dasher",
            "datsun 810",
            "bmw 320i",
            "mazda rx-4",
            "volkswagen rabbit custom diesel",
            "ford fiesta",
            "mazda glc deluxe",
            "datsun b210 gx",
            "honda civic cvcc",
            "oldsmobile cutlass salon brougham",
            "dodge diplomat",
            "mercury monarch ghia",
            "pontiac phoenix lj",
            "chevrolet malibu",
            "ford fairmont (auto)",
            "ford fairmont (man)",
            "plymouth volare",
            "amc concord",
            "buick century special",
            "mercury zephyr",
            "dodge aspen",
            "amc concord d/l",
            "chevrolet monte carlo landau",
            "buick regal sport coupe (turbo)",
            "ford futura",
            "dodge magnum xe",
            "chevrolet chevette",
            "toyota corona",
            "datsun 510",
            "dodge omni",
            "toyota celica gt liftback",
            "plymouth sapporo",
            "oldsmobile starfire sx",
            "datsun 200-sx",
            "audi 5000",
            "volvo 264gl",
            "saab 99gle",
            "peugeot 604sl",
            "volkswagen scirocco",
            "honda accord lx",
            "pontiac lemans v6",
            "mercury zephyr 6",
            "ford fairmont 4",
            "amc concord dl 6",
            "dodge aspen 6",
            "chevrolet caprice classic",
            "ford ltd landau",
            "mercury grand marquis",
            "dodge st. regis",
            "buick estate wagon (sw)",
            "ford country squire (sw)",
            "chevrolet malibu classic (sw)",
            "chrysler lebaron town @ country (sw)",
            "vw rabbit custom",
            "maxda glc deluxe",
            "dodge colt hatchback custom",
            "amc spirit dl",
            "mercedes benz 300d",
            "cadillac eldorado",
            "peugeot 504",
            "oldsmobile cutlass salon brougham",
            "plymouth horizon",
            "plymouth horizon tc3",
            "datsun 210",
            "fiat strada custom",
            "buick skylark limited",
            "chevrolet citation",
            "oldsmobile omega brougham",
            "pontiac phoenix",
            "vw rabbit",
            "toyota corolla tercel",
            "chevrolet chevette",
            "datsun 310",
            "chevrolet citation",
            "ford fairmont",
            "amc concord",
            "dodge aspen",
            "audi 4000",
            "toyota corona liftback",
            "mazda 626",
            "datsun 510 hatchback",
            "toyota corolla",
            "mazda glc",
            "dodge colt",
            "datsun 210",
            "vw rabbit c (diesel)",
            "vw dasher (diesel)",
            "audi 5000s (diesel)",
            "mercedes-benz 240d",
            "honda civic 1500 gl",
            "renault lecar deluxe",
            "subaru dl",
            "vokswagen rabbit",
            "datsun 280-zx",
            "mazda rx-7 gs",
            "triumph tr7 coupe",
            "ford mustang cobra",
            "honda accord",
            "plymouth reliant",
            "buick skylark",
            "dodge aries wagon (sw)",
            "chevrolet citation",
            "plymouth reliant",
            "toyota starlet",
            "plymouth champ",
            "honda civic 1300",
            "subaru",
            "datsun 210 mpg",
            "toyota tercel",
            "mazda glc 4",
            "plymouth horizon 4",
            "ford escort 4w",
            "ford escort 2h",
            "volkswagen jetta",
            "renault 18i",
            "honda prelude",
            "toyota corolla",
            "datsun 200sx",
            "mazda 626",
            "peugeot 505s turbo diesel",
            "volvo diesel",
            "toyota cressida",
            "datsun 810 maxima",
            "buick century",
            "oldsmobile cutlass ls",
            "ford granada gl",
            "chrysler lebaron salon",
            "chevrolet cavalier",
            "chevrolet cavalier wagon",
            "chevrolet cavalier 2-door",
            "pontiac j2000 se hatchback",
            "dodge aries se",
            "pontiac phoenix",
            "ford fairmont futura",
            "amc concord dl",
            "volkswagen rabbit l",
            "mazda glc custom l",
            "mazda glc custom",
            "plymouth horizon miser",
            "mercury lynx l",
            "nissan stanza xe",
            "honda accord",
            "toyota corolla",
            "honda civic",
            "honda civic (auto)",
            "datsun 310 gx",
            "buick century limited",
            "oldsmobile cutlass ciera (diesel)",
            "chrysler lebaron medallion",
            "ford granada l",
            "toyota celica gt",
            "dodge charger 2.2",
            "chevrolet camaro",
            "ford mustang gl",
            "vw pickup",
            "dodge rampage",
            "ford ranger",
            "chevy s-10"
           ]
          }
         ],
         "hovertemplate": "%{xaxis.title.text}=%{x}<br>%{yaxis.title.text}=%{y}<br>model_year=%{marker.color}<extra></extra>",
         "legendgroup": "",
         "marker": {
          "color": [
           70,
           70,
           70,
           70,
           70,
           70,
           70,
           70,
           70,
           70,
           70,
           70,
           70,
           70,
           70,
           70,
           70,
           70,
           70,
           70,
           70,
           70,
           70,
           70,
           70,
           70,
           70,
           70,
           70,
           71,
           71,
           71,
           71,
           71,
           71,
           71,
           71,
           71,
           71,
           71,
           71,
           71,
           71,
           71,
           71,
           71,
           71,
           71,
           71,
           71,
           71,
           71,
           71,
           71,
           71,
           71,
           71,
           72,
           72,
           72,
           72,
           72,
           72,
           72,
           72,
           72,
           72,
           72,
           72,
           72,
           72,
           72,
           72,
           72,
           72,
           72,
           72,
           72,
           72,
           72,
           72,
           72,
           72,
           72,
           72,
           73,
           73,
           73,
           73,
           73,
           73,
           73,
           73,
           73,
           73,
           73,
           73,
           73,
           73,
           73,
           73,
           73,
           73,
           73,
           73,
           73,
           73,
           73,
           73,
           73,
           73,
           73,
           73,
           73,
           73,
           73,
           73,
           73,
           73,
           73,
           73,
           73,
           73,
           73,
           73,
           74,
           74,
           74,
           74,
           74,
           74,
           74,
           74,
           74,
           74,
           74,
           74,
           74,
           74,
           74,
           74,
           74,
           74,
           74,
           74,
           74,
           74,
           74,
           74,
           74,
           74,
           74,
           75,
           75,
           75,
           75,
           75,
           75,
           75,
           75,
           75,
           75,
           75,
           75,
           75,
           75,
           75,
           75,
           75,
           75,
           75,
           75,
           75,
           75,
           75,
           75,
           75,
           75,
           75,
           75,
           75,
           75,
           76,
           76,
           76,
           76,
           76,
           76,
           76,
           76,
           76,
           76,
           76,
           76,
           76,
           76,
           76,
           76,
           76,
           76,
           76,
           76,
           76,
           76,
           76,
           76,
           76,
           76,
           76,
           76,
           76,
           76,
           76,
           76,
           76,
           76,
           77,
           77,
           77,
           77,
           77,
           77,
           77,
           77,
           77,
           77,
           77,
           77,
           77,
           77,
           77,
           77,
           77,
           77,
           77,
           77,
           77,
           77,
           77,
           77,
           77,
           77,
           77,
           77,
           78,
           78,
           78,
           78,
           78,
           78,
           78,
           78,
           78,
           78,
           78,
           78,
           78,
           78,
           78,
           78,
           78,
           78,
           78,
           78,
           78,
           78,
           78,
           78,
           78,
           78,
           78,
           78,
           78,
           78,
           78,
           78,
           78,
           78,
           78,
           78,
           79,
           79,
           79,
           79,
           79,
           79,
           79,
           79,
           79,
           79,
           79,
           79,
           79,
           79,
           79,
           79,
           79,
           79,
           79,
           79,
           79,
           79,
           79,
           79,
           79,
           79,
           79,
           79,
           79,
           80,
           80,
           80,
           80,
           80,
           80,
           80,
           80,
           80,
           80,
           80,
           80,
           80,
           80,
           80,
           80,
           80,
           80,
           80,
           80,
           80,
           80,
           80,
           80,
           80,
           80,
           80,
           80,
           80,
           81,
           81,
           81,
           81,
           81,
           81,
           81,
           81,
           81,
           81,
           81,
           81,
           81,
           81,
           81,
           81,
           81,
           81,
           81,
           81,
           81,
           81,
           81,
           81,
           81,
           81,
           81,
           81,
           81,
           82,
           82,
           82,
           82,
           82,
           82,
           82,
           82,
           82,
           82,
           82,
           82,
           82,
           82,
           82,
           82,
           82,
           82,
           82,
           82,
           82,
           82,
           82,
           82,
           82,
           82,
           82,
           82,
           82,
           82,
           82
          ],
          "coloraxis": "coloraxis",
          "symbol": "circle"
         },
         "name": "",
         "showlegend": false,
         "type": "splom"
        }
       ],
       "layout": {
        "coloraxis": {
         "colorbar": {
          "title": {
           "text": "model_year"
          }
         },
         "colorscale": [
          [
           0,
           "#0d0887"
          ],
          [
           0.1111111111111111,
           "#46039f"
          ],
          [
           0.2222222222222222,
           "#7201a8"
          ],
          [
           0.3333333333333333,
           "#9c179e"
          ],
          [
           0.4444444444444444,
           "#bd3786"
          ],
          [
           0.5555555555555556,
           "#d8576b"
          ],
          [
           0.6666666666666666,
           "#ed7953"
          ],
          [
           0.7777777777777778,
           "#fb9f3a"
          ],
          [
           0.8888888888888888,
           "#fdca26"
          ],
          [
           1,
           "#f0f921"
          ]
         ]
        },
        "dragmode": "select",
        "legend": {
         "tracegroupgap": 0
        },
        "margin": {
         "t": 60
        },
        "template": {
         "data": {
          "bar": [
           {
            "error_x": {
             "color": "#2a3f5f"
            },
            "error_y": {
             "color": "#2a3f5f"
            },
            "marker": {
             "line": {
              "color": "#E5ECF6",
              "width": 0.5
             },
             "pattern": {
              "fillmode": "overlay",
              "size": 10,
              "solidity": 0.2
             }
            },
            "type": "bar"
           }
          ],
          "barpolar": [
           {
            "marker": {
             "line": {
              "color": "#E5ECF6",
              "width": 0.5
             },
             "pattern": {
              "fillmode": "overlay",
              "size": 10,
              "solidity": 0.2
             }
            },
            "type": "barpolar"
           }
          ],
          "carpet": [
           {
            "aaxis": {
             "endlinecolor": "#2a3f5f",
             "gridcolor": "white",
             "linecolor": "white",
             "minorgridcolor": "white",
             "startlinecolor": "#2a3f5f"
            },
            "baxis": {
             "endlinecolor": "#2a3f5f",
             "gridcolor": "white",
             "linecolor": "white",
             "minorgridcolor": "white",
             "startlinecolor": "#2a3f5f"
            },
            "type": "carpet"
           }
          ],
          "choropleth": [
           {
            "colorbar": {
             "outlinewidth": 0,
             "ticks": ""
            },
            "type": "choropleth"
           }
          ],
          "contour": [
           {
            "colorbar": {
             "outlinewidth": 0,
             "ticks": ""
            },
            "colorscale": [
             [
              0,
              "#0d0887"
             ],
             [
              0.1111111111111111,
              "#46039f"
             ],
             [
              0.2222222222222222,
              "#7201a8"
             ],
             [
              0.3333333333333333,
              "#9c179e"
             ],
             [
              0.4444444444444444,
              "#bd3786"
             ],
             [
              0.5555555555555556,
              "#d8576b"
             ],
             [
              0.6666666666666666,
              "#ed7953"
             ],
             [
              0.7777777777777778,
              "#fb9f3a"
             ],
             [
              0.8888888888888888,
              "#fdca26"
             ],
             [
              1,
              "#f0f921"
             ]
            ],
            "type": "contour"
           }
          ],
          "contourcarpet": [
           {
            "colorbar": {
             "outlinewidth": 0,
             "ticks": ""
            },
            "type": "contourcarpet"
           }
          ],
          "heatmap": [
           {
            "colorbar": {
             "outlinewidth": 0,
             "ticks": ""
            },
            "colorscale": [
             [
              0,
              "#0d0887"
             ],
             [
              0.1111111111111111,
              "#46039f"
             ],
             [
              0.2222222222222222,
              "#7201a8"
             ],
             [
              0.3333333333333333,
              "#9c179e"
             ],
             [
              0.4444444444444444,
              "#bd3786"
             ],
             [
              0.5555555555555556,
              "#d8576b"
             ],
             [
              0.6666666666666666,
              "#ed7953"
             ],
             [
              0.7777777777777778,
              "#fb9f3a"
             ],
             [
              0.8888888888888888,
              "#fdca26"
             ],
             [
              1,
              "#f0f921"
             ]
            ],
            "type": "heatmap"
           }
          ],
          "heatmapgl": [
           {
            "colorbar": {
             "outlinewidth": 0,
             "ticks": ""
            },
            "colorscale": [
             [
              0,
              "#0d0887"
             ],
             [
              0.1111111111111111,
              "#46039f"
             ],
             [
              0.2222222222222222,
              "#7201a8"
             ],
             [
              0.3333333333333333,
              "#9c179e"
             ],
             [
              0.4444444444444444,
              "#bd3786"
             ],
             [
              0.5555555555555556,
              "#d8576b"
             ],
             [
              0.6666666666666666,
              "#ed7953"
             ],
             [
              0.7777777777777778,
              "#fb9f3a"
             ],
             [
              0.8888888888888888,
              "#fdca26"
             ],
             [
              1,
              "#f0f921"
             ]
            ],
            "type": "heatmapgl"
           }
          ],
          "histogram": [
           {
            "marker": {
             "pattern": {
              "fillmode": "overlay",
              "size": 10,
              "solidity": 0.2
             }
            },
            "type": "histogram"
           }
          ],
          "histogram2d": [
           {
            "colorbar": {
             "outlinewidth": 0,
             "ticks": ""
            },
            "colorscale": [
             [
              0,
              "#0d0887"
             ],
             [
              0.1111111111111111,
              "#46039f"
             ],
             [
              0.2222222222222222,
              "#7201a8"
             ],
             [
              0.3333333333333333,
              "#9c179e"
             ],
             [
              0.4444444444444444,
              "#bd3786"
             ],
             [
              0.5555555555555556,
              "#d8576b"
             ],
             [
              0.6666666666666666,
              "#ed7953"
             ],
             [
              0.7777777777777778,
              "#fb9f3a"
             ],
             [
              0.8888888888888888,
              "#fdca26"
             ],
             [
              1,
              "#f0f921"
             ]
            ],
            "type": "histogram2d"
           }
          ],
          "histogram2dcontour": [
           {
            "colorbar": {
             "outlinewidth": 0,
             "ticks": ""
            },
            "colorscale": [
             [
              0,
              "#0d0887"
             ],
             [
              0.1111111111111111,
              "#46039f"
             ],
             [
              0.2222222222222222,
              "#7201a8"
             ],
             [
              0.3333333333333333,
              "#9c179e"
             ],
             [
              0.4444444444444444,
              "#bd3786"
             ],
             [
              0.5555555555555556,
              "#d8576b"
             ],
             [
              0.6666666666666666,
              "#ed7953"
             ],
             [
              0.7777777777777778,
              "#fb9f3a"
             ],
             [
              0.8888888888888888,
              "#fdca26"
             ],
             [
              1,
              "#f0f921"
             ]
            ],
            "type": "histogram2dcontour"
           }
          ],
          "mesh3d": [
           {
            "colorbar": {
             "outlinewidth": 0,
             "ticks": ""
            },
            "type": "mesh3d"
           }
          ],
          "parcoords": [
           {
            "line": {
             "colorbar": {
              "outlinewidth": 0,
              "ticks": ""
             }
            },
            "type": "parcoords"
           }
          ],
          "pie": [
           {
            "automargin": true,
            "type": "pie"
           }
          ],
          "scatter": [
           {
            "fillpattern": {
             "fillmode": "overlay",
             "size": 10,
             "solidity": 0.2
            },
            "type": "scatter"
           }
          ],
          "scatter3d": [
           {
            "line": {
             "colorbar": {
              "outlinewidth": 0,
              "ticks": ""
             }
            },
            "marker": {
             "colorbar": {
              "outlinewidth": 0,
              "ticks": ""
             }
            },
            "type": "scatter3d"
           }
          ],
          "scattercarpet": [
           {
            "marker": {
             "colorbar": {
              "outlinewidth": 0,
              "ticks": ""
             }
            },
            "type": "scattercarpet"
           }
          ],
          "scattergeo": [
           {
            "marker": {
             "colorbar": {
              "outlinewidth": 0,
              "ticks": ""
             }
            },
            "type": "scattergeo"
           }
          ],
          "scattergl": [
           {
            "marker": {
             "colorbar": {
              "outlinewidth": 0,
              "ticks": ""
             }
            },
            "type": "scattergl"
           }
          ],
          "scattermapbox": [
           {
            "marker": {
             "colorbar": {
              "outlinewidth": 0,
              "ticks": ""
             }
            },
            "type": "scattermapbox"
           }
          ],
          "scatterpolar": [
           {
            "marker": {
             "colorbar": {
              "outlinewidth": 0,
              "ticks": ""
             }
            },
            "type": "scatterpolar"
           }
          ],
          "scatterpolargl": [
           {
            "marker": {
             "colorbar": {
              "outlinewidth": 0,
              "ticks": ""
             }
            },
            "type": "scatterpolargl"
           }
          ],
          "scatterternary": [
           {
            "marker": {
             "colorbar": {
              "outlinewidth": 0,
              "ticks": ""
             }
            },
            "type": "scatterternary"
           }
          ],
          "surface": [
           {
            "colorbar": {
             "outlinewidth": 0,
             "ticks": ""
            },
            "colorscale": [
             [
              0,
              "#0d0887"
             ],
             [
              0.1111111111111111,
              "#46039f"
             ],
             [
              0.2222222222222222,
              "#7201a8"
             ],
             [
              0.3333333333333333,
              "#9c179e"
             ],
             [
              0.4444444444444444,
              "#bd3786"
             ],
             [
              0.5555555555555556,
              "#d8576b"
             ],
             [
              0.6666666666666666,
              "#ed7953"
             ],
             [
              0.7777777777777778,
              "#fb9f3a"
             ],
             [
              0.8888888888888888,
              "#fdca26"
             ],
             [
              1,
              "#f0f921"
             ]
            ],
            "type": "surface"
           }
          ],
          "table": [
           {
            "cells": {
             "fill": {
              "color": "#EBF0F8"
             },
             "line": {
              "color": "white"
             }
            },
            "header": {
             "fill": {
              "color": "#C8D4E3"
             },
             "line": {
              "color": "white"
             }
            },
            "type": "table"
           }
          ]
         },
         "layout": {
          "annotationdefaults": {
           "arrowcolor": "#2a3f5f",
           "arrowhead": 0,
           "arrowwidth": 1
          },
          "autotypenumbers": "strict",
          "coloraxis": {
           "colorbar": {
            "outlinewidth": 0,
            "ticks": ""
           }
          },
          "colorscale": {
           "diverging": [
            [
             0,
             "#8e0152"
            ],
            [
             0.1,
             "#c51b7d"
            ],
            [
             0.2,
             "#de77ae"
            ],
            [
             0.3,
             "#f1b6da"
            ],
            [
             0.4,
             "#fde0ef"
            ],
            [
             0.5,
             "#f7f7f7"
            ],
            [
             0.6,
             "#e6f5d0"
            ],
            [
             0.7,
             "#b8e186"
            ],
            [
             0.8,
             "#7fbc41"
            ],
            [
             0.9,
             "#4d9221"
            ],
            [
             1,
             "#276419"
            ]
           ],
           "sequential": [
            [
             0,
             "#0d0887"
            ],
            [
             0.1111111111111111,
             "#46039f"
            ],
            [
             0.2222222222222222,
             "#7201a8"
            ],
            [
             0.3333333333333333,
             "#9c179e"
            ],
            [
             0.4444444444444444,
             "#bd3786"
            ],
            [
             0.5555555555555556,
             "#d8576b"
            ],
            [
             0.6666666666666666,
             "#ed7953"
            ],
            [
             0.7777777777777778,
             "#fb9f3a"
            ],
            [
             0.8888888888888888,
             "#fdca26"
            ],
            [
             1,
             "#f0f921"
            ]
           ],
           "sequentialminus": [
            [
             0,
             "#0d0887"
            ],
            [
             0.1111111111111111,
             "#46039f"
            ],
            [
             0.2222222222222222,
             "#7201a8"
            ],
            [
             0.3333333333333333,
             "#9c179e"
            ],
            [
             0.4444444444444444,
             "#bd3786"
            ],
            [
             0.5555555555555556,
             "#d8576b"
            ],
            [
             0.6666666666666666,
             "#ed7953"
            ],
            [
             0.7777777777777778,
             "#fb9f3a"
            ],
            [
             0.8888888888888888,
             "#fdca26"
            ],
            [
             1,
             "#f0f921"
            ]
           ]
          },
          "colorway": [
           "#636efa",
           "#EF553B",
           "#00cc96",
           "#ab63fa",
           "#FFA15A",
           "#19d3f3",
           "#FF6692",
           "#B6E880",
           "#FF97FF",
           "#FECB52"
          ],
          "font": {
           "color": "#2a3f5f"
          },
          "geo": {
           "bgcolor": "white",
           "lakecolor": "white",
           "landcolor": "#E5ECF6",
           "showlakes": true,
           "showland": true,
           "subunitcolor": "white"
          },
          "hoverlabel": {
           "align": "left"
          },
          "hovermode": "closest",
          "mapbox": {
           "style": "light"
          },
          "paper_bgcolor": "white",
          "plot_bgcolor": "#E5ECF6",
          "polar": {
           "angularaxis": {
            "gridcolor": "white",
            "linecolor": "white",
            "ticks": ""
           },
           "bgcolor": "#E5ECF6",
           "radialaxis": {
            "gridcolor": "white",
            "linecolor": "white",
            "ticks": ""
           }
          },
          "scene": {
           "xaxis": {
            "backgroundcolor": "#E5ECF6",
            "gridcolor": "white",
            "gridwidth": 2,
            "linecolor": "white",
            "showbackground": true,
            "ticks": "",
            "zerolinecolor": "white"
           },
           "yaxis": {
            "backgroundcolor": "#E5ECF6",
            "gridcolor": "white",
            "gridwidth": 2,
            "linecolor": "white",
            "showbackground": true,
            "ticks": "",
            "zerolinecolor": "white"
           },
           "zaxis": {
            "backgroundcolor": "#E5ECF6",
            "gridcolor": "white",
            "gridwidth": 2,
            "linecolor": "white",
            "showbackground": true,
            "ticks": "",
            "zerolinecolor": "white"
           }
          },
          "shapedefaults": {
           "line": {
            "color": "#2a3f5f"
           }
          },
          "ternary": {
           "aaxis": {
            "gridcolor": "white",
            "linecolor": "white",
            "ticks": ""
           },
           "baxis": {
            "gridcolor": "white",
            "linecolor": "white",
            "ticks": ""
           },
           "bgcolor": "#E5ECF6",
           "caxis": {
            "gridcolor": "white",
            "linecolor": "white",
            "ticks": ""
           }
          },
          "title": {
           "x": 0.05
          },
          "xaxis": {
           "automargin": true,
           "gridcolor": "white",
           "linecolor": "white",
           "ticks": "",
           "title": {
            "standoff": 15
           },
           "zerolinecolor": "white",
           "zerolinewidth": 2
          },
          "yaxis": {
           "automargin": true,
           "gridcolor": "white",
           "linecolor": "white",
           "ticks": "",
           "title": {
            "standoff": 15
           },
           "zerolinecolor": "white",
           "zerolinewidth": 2
          }
         }
        }
       }
      },
      "text/html": [
       "<div>                            <div id=\"9e857c4c-68ca-4c43-ab88-c67715915623\" class=\"plotly-graph-div\" style=\"height:525px; width:100%;\"></div>            <script type=\"text/javascript\">                require([\"plotly\"], function(Plotly) {                    window.PLOTLYENV=window.PLOTLYENV || {};                                    if (document.getElementById(\"9e857c4c-68ca-4c43-ab88-c67715915623\")) {                    Plotly.newPlot(                        \"9e857c4c-68ca-4c43-ab88-c67715915623\",                        [{\"dimensions\":[{\"axis\":{\"matches\":true},\"label\":\"mpg\",\"values\":[18.0,15.0,18.0,16.0,17.0,15.0,14.0,14.0,14.0,15.0,15.0,14.0,15.0,14.0,24.0,22.0,18.0,21.0,27.0,26.0,25.0,24.0,25.0,26.0,21.0,10.0,10.0,11.0,9.0,27.0,28.0,25.0,25.0,19.0,16.0,17.0,19.0,18.0,14.0,14.0,14.0,14.0,12.0,13.0,13.0,18.0,22.0,19.0,18.0,23.0,28.0,30.0,30.0,31.0,35.0,27.0,26.0,24.0,25.0,23.0,20.0,21.0,13.0,14.0,15.0,14.0,17.0,11.0,13.0,12.0,13.0,19.0,15.0,13.0,13.0,14.0,18.0,22.0,21.0,26.0,22.0,28.0,23.0,28.0,27.0,13.0,14.0,13.0,14.0,15.0,12.0,13.0,13.0,14.0,13.0,12.0,13.0,18.0,16.0,18.0,18.0,23.0,26.0,11.0,12.0,13.0,12.0,18.0,20.0,21.0,22.0,18.0,19.0,21.0,26.0,15.0,16.0,29.0,24.0,20.0,19.0,15.0,24.0,20.0,11.0,20.0,21.0,19.0,15.0,31.0,26.0,32.0,25.0,16.0,16.0,18.0,16.0,13.0,14.0,14.0,14.0,29.0,26.0,26.0,31.0,32.0,28.0,24.0,26.0,24.0,26.0,31.0,19.0,18.0,15.0,15.0,16.0,15.0,16.0,14.0,17.0,16.0,15.0,18.0,21.0,20.0,13.0,29.0,23.0,20.0,23.0,24.0,25.0,24.0,18.0,29.0,19.0,23.0,23.0,22.0,25.0,33.0,28.0,25.0,25.0,26.0,27.0,17.5,16.0,15.5,14.5,22.0,22.0,24.0,22.5,29.0,24.5,29.0,33.0,20.0,18.0,18.5,17.5,29.5,32.0,28.0,26.5,20.0,13.0,19.0,19.0,16.5,16.5,13.0,13.0,13.0,31.5,30.0,36.0,25.5,33.5,17.5,17.0,15.5,15.0,17.5,20.5,19.0,18.5,16.0,15.5,15.5,16.0,29.0,24.5,26.0,25.5,30.5,33.5,30.0,30.5,22.0,21.5,21.5,43.1,36.1,32.8,39.4,36.1,19.9,19.4,20.2,19.2,20.5,20.2,25.1,20.5,19.4,20.6,20.8,18.6,18.1,19.2,17.7,18.1,17.5,30.0,27.5,27.2,30.9,21.1,23.2,23.8,23.9,20.3,17.0,21.6,16.2,31.5,29.5,21.5,19.8,22.3,20.2,20.6,17.0,17.6,16.5,18.2,16.9,15.5,19.2,18.5,31.9,34.1,35.7,27.4,25.4,23.0,27.2,23.9,34.2,34.5,31.8,37.3,28.4,28.8,26.8,33.5,41.5,38.1,32.1,37.2,28.0,26.4,24.3,19.1,34.3,29.8,31.3,37.0,32.2,46.6,27.9,40.8,44.3,43.4,36.4,30.0,44.6,40.9,33.8,29.8,32.7,23.7,35.0,23.6,32.4,27.2,26.6,25.8,23.5,30.0,39.1,39.0,35.1,32.3,37.0,37.7,34.1,34.7,34.4,29.9,33.0,34.5,33.7,32.4,32.9,31.6,28.1,30.7,25.4,24.2,22.4,26.6,20.2,17.6,28.0,27.0,34.0,31.0,29.0,27.0,24.0,23.0,36.0,37.0,31.0,38.0,36.0,36.0,36.0,34.0,38.0,32.0,38.0,25.0,38.0,26.0,22.0,32.0,36.0,27.0,27.0,44.0,32.0,28.0,31.0]},{\"axis\":{\"matches\":true},\"label\":\"cylinders\",\"values\":[8,8,8,8,8,8,8,8,8,8,8,8,8,8,4,6,6,6,4,4,4,4,4,4,6,8,8,8,8,4,4,4,4,6,6,6,6,6,8,8,8,8,8,8,8,6,4,6,6,4,4,4,4,4,4,4,4,4,4,4,4,4,8,8,8,8,8,8,8,8,8,3,8,8,8,8,4,4,4,4,4,4,4,4,4,8,8,8,8,8,8,8,8,8,8,8,8,6,6,6,6,6,4,8,8,8,8,6,4,4,4,3,4,6,4,8,8,4,4,4,4,8,4,6,8,6,6,6,6,4,4,4,4,6,6,6,8,8,8,8,8,4,4,4,4,4,4,4,4,4,4,4,6,6,6,6,8,8,8,8,6,6,6,6,6,8,8,4,4,6,4,4,4,4,6,4,6,4,4,4,4,4,4,4,4,4,4,8,8,8,8,6,6,6,6,4,4,4,4,6,6,6,6,4,4,4,4,4,8,4,6,6,8,8,8,8,4,4,4,4,4,8,8,8,8,6,6,6,6,8,8,8,8,4,4,4,4,4,4,4,4,6,4,3,4,4,4,4,4,8,8,8,6,6,6,4,6,6,6,6,6,6,8,6,8,8,4,4,4,4,4,4,4,4,5,6,4,6,4,4,6,6,4,6,6,8,8,8,8,8,8,8,8,4,4,4,4,5,8,4,8,4,4,4,4,4,6,6,4,4,4,4,4,4,4,4,6,4,4,4,4,4,4,4,4,4,4,5,4,4,4,4,4,6,3,4,4,4,4,4,4,6,4,4,4,4,4,4,4,4,4,4,4,4,4,4,4,4,4,4,6,6,6,6,8,6,6,4,4,4,4,4,4,4,4,4,4,4,4,4,4,4,4,4,4,4,6,6,4,6,4,4,4,4,4,4,4,4]},{\"axis\":{\"matches\":true},\"label\":\"displacement\",\"values\":[307.0,350.0,318.0,304.0,302.0,429.0,454.0,440.0,455.0,390.0,383.0,340.0,400.0,455.0,113.0,198.0,199.0,200.0,97.0,97.0,110.0,107.0,104.0,121.0,199.0,360.0,307.0,318.0,304.0,97.0,140.0,113.0,98.0,232.0,225.0,250.0,250.0,232.0,350.0,400.0,351.0,318.0,383.0,400.0,400.0,258.0,140.0,250.0,250.0,122.0,116.0,79.0,88.0,71.0,72.0,97.0,91.0,113.0,97.5,97.0,140.0,122.0,350.0,400.0,318.0,351.0,304.0,429.0,350.0,350.0,400.0,70.0,304.0,307.0,302.0,318.0,121.0,121.0,120.0,96.0,122.0,97.0,120.0,98.0,97.0,350.0,304.0,350.0,302.0,318.0,429.0,400.0,351.0,318.0,440.0,455.0,360.0,225.0,250.0,232.0,250.0,198.0,97.0,400.0,400.0,360.0,350.0,232.0,97.0,140.0,108.0,70.0,122.0,155.0,98.0,350.0,400.0,68.0,116.0,114.0,121.0,318.0,121.0,156.0,350.0,198.0,200.0,232.0,250.0,79.0,122.0,71.0,140.0,250.0,258.0,225.0,302.0,350.0,318.0,302.0,304.0,98.0,79.0,97.0,76.0,83.0,90.0,90.0,116.0,120.0,108.0,79.0,225.0,250.0,250.0,250.0,400.0,350.0,318.0,351.0,231.0,250.0,258.0,225.0,231.0,262.0,302.0,97.0,140.0,232.0,140.0,134.0,90.0,119.0,171.0,90.0,232.0,115.0,120.0,121.0,121.0,91.0,107.0,116.0,140.0,98.0,101.0,305.0,318.0,304.0,351.0,225.0,250.0,200.0,232.0,85.0,98.0,90.0,91.0,225.0,250.0,250.0,258.0,97.0,85.0,97.0,140.0,130.0,318.0,120.0,156.0,168.0,350.0,350.0,302.0,318.0,98.0,111.0,79.0,122.0,85.0,305.0,260.0,318.0,302.0,250.0,231.0,225.0,250.0,400.0,350.0,400.0,351.0,97.0,151.0,97.0,140.0,98.0,98.0,97.0,97.0,146.0,121.0,80.0,90.0,98.0,78.0,85.0,91.0,260.0,318.0,302.0,231.0,200.0,200.0,140.0,225.0,232.0,231.0,200.0,225.0,258.0,305.0,231.0,302.0,318.0,98.0,134.0,119.0,105.0,134.0,156.0,151.0,119.0,131.0,163.0,121.0,163.0,89.0,98.0,231.0,200.0,140.0,232.0,225.0,305.0,302.0,351.0,318.0,350.0,351.0,267.0,360.0,89.0,86.0,98.0,121.0,183.0,350.0,141.0,260.0,105.0,105.0,85.0,91.0,151.0,173.0,173.0,151.0,98.0,89.0,98.0,86.0,151.0,140.0,151.0,225.0,97.0,134.0,120.0,119.0,108.0,86.0,156.0,85.0,90.0,90.0,121.0,146.0,91.0,85.0,97.0,89.0,168.0,70.0,122.0,140.0,107.0,135.0,151.0,156.0,173.0,135.0,79.0,86.0,81.0,97.0,85.0,89.0,91.0,105.0,98.0,98.0,105.0,100.0,107.0,108.0,119.0,120.0,141.0,145.0,168.0,146.0,231.0,350.0,200.0,225.0,112.0,112.0,112.0,112.0,135.0,151.0,140.0,151.0,105.0,91.0,91.0,105.0,98.0,120.0,107.0,108.0,91.0,91.0,91.0,181.0,262.0,156.0,232.0,144.0,135.0,151.0,140.0,97.0,135.0,120.0,119.0]},{\"axis\":{\"matches\":true},\"label\":\"horsepower\",\"values\":[130.0,165.0,150.0,150.0,140.0,198.0,220.0,215.0,225.0,190.0,170.0,160.0,150.0,225.0,95.0,95.0,97.0,85.0,88.0,46.0,87.0,90.0,95.0,113.0,90.0,215.0,200.0,210.0,193.0,88.0,90.0,95.0,null,100.0,105.0,100.0,88.0,100.0,165.0,175.0,153.0,150.0,180.0,170.0,175.0,110.0,72.0,100.0,88.0,86.0,90.0,70.0,76.0,65.0,69.0,60.0,70.0,95.0,80.0,54.0,90.0,86.0,165.0,175.0,150.0,153.0,150.0,208.0,155.0,160.0,190.0,97.0,150.0,130.0,140.0,150.0,112.0,76.0,87.0,69.0,86.0,92.0,97.0,80.0,88.0,175.0,150.0,145.0,137.0,150.0,198.0,150.0,158.0,150.0,215.0,225.0,175.0,105.0,100.0,100.0,88.0,95.0,46.0,150.0,167.0,170.0,180.0,100.0,88.0,72.0,94.0,90.0,85.0,107.0,90.0,145.0,230.0,49.0,75.0,91.0,112.0,150.0,110.0,122.0,180.0,95.0,null,100.0,100.0,67.0,80.0,65.0,75.0,100.0,110.0,105.0,140.0,150.0,150.0,140.0,150.0,83.0,67.0,78.0,52.0,61.0,75.0,75.0,75.0,97.0,93.0,67.0,95.0,105.0,72.0,72.0,170.0,145.0,150.0,148.0,110.0,105.0,110.0,95.0,110.0,110.0,129.0,75.0,83.0,100.0,78.0,96.0,71.0,97.0,97.0,70.0,90.0,95.0,88.0,98.0,115.0,53.0,86.0,81.0,92.0,79.0,83.0,140.0,150.0,120.0,152.0,100.0,105.0,81.0,90.0,52.0,60.0,70.0,53.0,100.0,78.0,110.0,95.0,71.0,70.0,75.0,72.0,102.0,150.0,88.0,108.0,120.0,180.0,145.0,130.0,150.0,68.0,80.0,58.0,96.0,70.0,145.0,110.0,145.0,130.0,110.0,105.0,100.0,98.0,180.0,170.0,190.0,149.0,78.0,88.0,75.0,89.0,63.0,83.0,67.0,78.0,97.0,110.0,110.0,48.0,66.0,52.0,70.0,60.0,110.0,140.0,139.0,105.0,95.0,85.0,88.0,100.0,90.0,105.0,85.0,110.0,120.0,145.0,165.0,139.0,140.0,68.0,95.0,97.0,75.0,95.0,105.0,85.0,97.0,103.0,125.0,115.0,133.0,71.0,68.0,115.0,85.0,88.0,90.0,110.0,130.0,129.0,138.0,135.0,155.0,142.0,125.0,150.0,71.0,65.0,80.0,80.0,77.0,125.0,71.0,90.0,70.0,70.0,65.0,69.0,90.0,115.0,115.0,90.0,76.0,60.0,70.0,65.0,90.0,88.0,90.0,90.0,78.0,90.0,75.0,92.0,75.0,65.0,105.0,65.0,48.0,48.0,67.0,67.0,67.0,null,67.0,62.0,132.0,100.0,88.0,null,72.0,84.0,84.0,92.0,110.0,84.0,58.0,64.0,60.0,67.0,65.0,62.0,68.0,63.0,65.0,65.0,74.0,null,75.0,75.0,100.0,74.0,80.0,76.0,116.0,120.0,110.0,105.0,88.0,85.0,88.0,88.0,88.0,85.0,84.0,90.0,92.0,null,74.0,68.0,68.0,63.0,70.0,88.0,75.0,70.0,67.0,67.0,67.0,110.0,85.0,92.0,112.0,96.0,84.0,90.0,86.0,52.0,84.0,79.0,82.0]},{\"axis\":{\"matches\":true},\"label\":\"weight\",\"values\":[3504,3693,3436,3433,3449,4341,4354,4312,4425,3850,3563,3609,3761,3086,2372,2833,2774,2587,2130,1835,2672,2430,2375,2234,2648,4615,4376,4382,4732,2130,2264,2228,2046,2634,3439,3329,3302,3288,4209,4464,4154,4096,4955,4746,5140,2962,2408,3282,3139,2220,2123,2074,2065,1773,1613,1834,1955,2278,2126,2254,2408,2226,4274,4385,4135,4129,3672,4633,4502,4456,4422,2330,3892,4098,4294,4077,2933,2511,2979,2189,2395,2288,2506,2164,2100,4100,3672,3988,4042,3777,4952,4464,4363,4237,4735,4951,3821,3121,3278,2945,3021,2904,1950,4997,4906,4654,4499,2789,2279,2401,2379,2124,2310,2472,2265,4082,4278,1867,2158,2582,2868,3399,2660,2807,3664,3102,2875,2901,3336,1950,2451,1836,2542,3781,3632,3613,4141,4699,4457,4638,4257,2219,1963,2300,1649,2003,2125,2108,2246,2489,2391,2000,3264,3459,3432,3158,4668,4440,4498,4657,3907,3897,3730,3785,3039,3221,3169,2171,2639,2914,2592,2702,2223,2545,2984,1937,3211,2694,2957,2945,2671,1795,2464,2220,2572,2255,2202,4215,4190,3962,4215,3233,3353,3012,3085,2035,2164,1937,1795,3651,3574,3645,3193,1825,1990,2155,2565,3150,3940,3270,2930,3820,4380,4055,3870,3755,2045,2155,1825,2300,1945,3880,4060,4140,4295,3520,3425,3630,3525,4220,4165,4325,4335,1940,2740,2265,2755,2051,2075,1985,2190,2815,2600,2720,1985,1800,1985,2070,1800,3365,3735,3570,3535,3155,2965,2720,3430,3210,3380,3070,3620,3410,3425,3445,3205,4080,2155,2560,2300,2230,2515,2745,2855,2405,2830,3140,2795,3410,1990,2135,3245,2990,2890,3265,3360,3840,3725,3955,3830,4360,4054,3605,3940,1925,1975,1915,2670,3530,3900,3190,3420,2200,2150,2020,2130,2670,2595,2700,2556,2144,1968,2120,2019,2678,2870,3003,3381,2188,2711,2542,2434,2265,2110,2800,2110,2085,2335,2950,3250,1850,1835,2145,1845,2910,2420,2500,2905,2290,2490,2635,2620,2725,2385,1755,1875,1760,2065,1975,2050,1985,2215,2045,2380,2190,2320,2210,2350,2615,2635,3230,3160,2900,2930,3415,3725,3060,3465,2605,2640,2395,2575,2525,2735,2865,3035,1980,2025,1970,2125,2125,2160,2205,2245,1965,1965,1995,2945,3015,2585,2835,2665,2370,2950,2790,2130,2295,2625,2720]},{\"axis\":{\"matches\":true},\"label\":\"acceleration\",\"values\":[12.0,11.5,11.0,12.0,10.5,10.0,9.0,8.5,10.0,8.5,10.0,8.0,9.5,10.0,15.0,15.5,15.5,16.0,14.5,20.5,17.5,14.5,17.5,12.5,15.0,14.0,15.0,13.5,18.5,14.5,15.5,14.0,19.0,13.0,15.5,15.5,15.5,15.5,12.0,11.5,13.5,13.0,11.5,12.0,12.0,13.5,19.0,15.0,14.5,14.0,14.0,19.5,14.5,19.0,18.0,19.0,20.5,15.5,17.0,23.5,19.5,16.5,12.0,12.0,13.5,13.0,11.5,11.0,13.5,13.5,12.5,13.5,12.5,14.0,16.0,14.0,14.5,18.0,19.5,18.0,16.0,17.0,14.5,15.0,16.5,13.0,11.5,13.0,14.5,12.5,11.5,12.0,13.0,14.5,11.0,11.0,11.0,16.5,18.0,16.0,16.5,16.0,21.0,14.0,12.5,13.0,12.5,15.0,19.0,19.5,16.5,13.5,18.5,14.0,15.5,13.0,9.5,19.5,15.5,14.0,15.5,11.0,14.0,13.5,11.0,16.5,17.0,16.0,17.0,19.0,16.5,21.0,17.0,17.0,18.0,16.5,14.0,14.5,13.5,16.0,15.5,16.5,15.5,14.5,16.5,19.0,14.5,15.5,14.0,15.0,15.5,16.0,16.0,16.0,21.0,19.5,11.5,14.0,14.5,13.5,21.0,18.5,19.0,19.0,15.0,13.5,12.0,16.0,17.0,16.0,18.5,13.5,16.5,17.0,14.5,14.0,17.0,15.0,17.0,14.5,13.5,17.5,15.5,16.9,14.9,17.7,15.3,13.0,13.0,13.9,12.8,15.4,14.5,17.6,17.6,22.2,22.1,14.2,17.4,17.7,21.0,16.2,17.8,12.2,17.0,16.4,13.6,15.7,13.2,21.9,15.5,16.7,12.1,12.0,15.0,14.0,18.5,14.8,18.6,15.5,16.8,12.5,19.0,13.7,14.9,16.4,16.9,17.7,19.0,11.1,11.4,12.2,14.5,14.5,16.0,18.2,15.8,17.0,15.9,16.4,14.1,14.5,12.8,13.5,21.5,14.4,19.4,18.6,16.4,15.5,13.2,12.8,19.2,18.2,15.8,15.4,17.2,17.2,15.8,16.7,18.7,15.1,13.2,13.4,11.2,13.7,16.5,14.2,14.7,14.5,14.8,16.7,17.6,14.9,15.9,13.6,15.7,15.8,14.9,16.6,15.4,18.2,17.3,18.2,16.6,15.4,13.4,13.2,15.2,14.9,14.3,15.0,13.0,14.0,15.2,14.4,15.0,20.1,17.4,24.8,22.2,13.2,14.9,19.2,14.7,16.0,11.3,12.9,13.2,14.7,18.8,15.5,16.4,16.5,18.1,20.1,18.7,15.8,15.5,17.5,15.0,15.2,17.9,14.4,19.2,21.7,23.7,19.9,21.8,13.8,17.3,18.0,15.3,11.4,12.5,15.1,14.3,17.0,15.7,16.4,14.4,12.6,12.9,16.9,16.4,16.1,17.8,19.4,17.3,16.0,14.9,16.2,20.7,14.2,15.8,14.4,16.8,14.8,18.3,20.4,19.6,12.6,13.8,15.8,19.0,17.1,16.6,19.6,18.6,18.0,16.2,16.0,18.0,16.4,20.5,15.3,18.2,17.6,14.7,17.3,14.5,14.5,16.9,15.0,15.7,16.2,16.4,17.0,14.5,14.7,13.9,13.0,17.3,15.6,24.6,11.6,18.6,19.4]},{\"axis\":{\"matches\":true},\"label\":\"model_year\",\"values\":[70,70,70,70,70,70,70,70,70,70,70,70,70,70,70,70,70,70,70,70,70,70,70,70,70,70,70,70,70,71,71,71,71,71,71,71,71,71,71,71,71,71,71,71,71,71,71,71,71,71,71,71,71,71,71,71,71,72,72,72,72,72,72,72,72,72,72,72,72,72,72,72,72,72,72,72,72,72,72,72,72,72,72,72,72,73,73,73,73,73,73,73,73,73,73,73,73,73,73,73,73,73,73,73,73,73,73,73,73,73,73,73,73,73,73,73,73,73,73,73,73,73,73,73,73,74,74,74,74,74,74,74,74,74,74,74,74,74,74,74,74,74,74,74,74,74,74,74,74,74,74,74,75,75,75,75,75,75,75,75,75,75,75,75,75,75,75,75,75,75,75,75,75,75,75,75,75,75,75,75,75,75,76,76,76,76,76,76,76,76,76,76,76,76,76,76,76,76,76,76,76,76,76,76,76,76,76,76,76,76,76,76,76,76,76,76,77,77,77,77,77,77,77,77,77,77,77,77,77,77,77,77,77,77,77,77,77,77,77,77,77,77,77,77,78,78,78,78,78,78,78,78,78,78,78,78,78,78,78,78,78,78,78,78,78,78,78,78,78,78,78,78,78,78,78,78,78,78,78,78,79,79,79,79,79,79,79,79,79,79,79,79,79,79,79,79,79,79,79,79,79,79,79,79,79,79,79,79,79,80,80,80,80,80,80,80,80,80,80,80,80,80,80,80,80,80,80,80,80,80,80,80,80,80,80,80,80,80,81,81,81,81,81,81,81,81,81,81,81,81,81,81,81,81,81,81,81,81,81,81,81,81,81,81,81,81,81,82,82,82,82,82,82,82,82,82,82,82,82,82,82,82,82,82,82,82,82,82,82,82,82,82,82,82,82,82,82,82]},{\"axis\":{\"matches\":true},\"label\":\"origin\",\"values\":[\"usa\",\"usa\",\"usa\",\"usa\",\"usa\",\"usa\",\"usa\",\"usa\",\"usa\",\"usa\",\"usa\",\"usa\",\"usa\",\"usa\",\"japan\",\"usa\",\"usa\",\"usa\",\"japan\",\"europe\",\"europe\",\"europe\",\"europe\",\"europe\",\"usa\",\"usa\",\"usa\",\"usa\",\"usa\",\"japan\",\"usa\",\"japan\",\"usa\",\"usa\",\"usa\",\"usa\",\"usa\",\"usa\",\"usa\",\"usa\",\"usa\",\"usa\",\"usa\",\"usa\",\"usa\",\"usa\",\"usa\",\"usa\",\"usa\",\"usa\",\"europe\",\"europe\",\"europe\",\"japan\",\"japan\",\"europe\",\"usa\",\"japan\",\"usa\",\"europe\",\"usa\",\"usa\",\"usa\",\"usa\",\"usa\",\"usa\",\"usa\",\"usa\",\"usa\",\"usa\",\"usa\",\"japan\",\"usa\",\"usa\",\"usa\",\"usa\",\"europe\",\"europe\",\"europe\",\"europe\",\"usa\",\"japan\",\"japan\",\"usa\",\"japan\",\"usa\",\"usa\",\"usa\",\"usa\",\"usa\",\"usa\",\"usa\",\"usa\",\"usa\",\"usa\",\"usa\",\"usa\",\"usa\",\"usa\",\"usa\",\"usa\",\"usa\",\"europe\",\"usa\",\"usa\",\"usa\",\"usa\",\"usa\",\"japan\",\"usa\",\"japan\",\"japan\",\"usa\",\"usa\",\"europe\",\"usa\",\"usa\",\"europe\",\"europe\",\"europe\",\"europe\",\"usa\",\"europe\",\"japan\",\"usa\",\"usa\",\"usa\",\"usa\",\"usa\",\"japan\",\"usa\",\"japan\",\"usa\",\"usa\",\"usa\",\"usa\",\"usa\",\"usa\",\"usa\",\"usa\",\"usa\",\"europe\",\"europe\",\"europe\",\"japan\",\"japan\",\"usa\",\"europe\",\"europe\",\"japan\",\"japan\",\"europe\",\"usa\",\"usa\",\"usa\",\"usa\",\"usa\",\"usa\",\"usa\",\"usa\",\"usa\",\"usa\",\"usa\",\"usa\",\"usa\",\"usa\",\"usa\",\"japan\",\"usa\",\"usa\",\"usa\",\"japan\",\"europe\",\"japan\",\"usa\",\"europe\",\"usa\",\"europe\",\"europe\",\"europe\",\"europe\",\"japan\",\"europe\",\"europe\",\"usa\",\"usa\",\"europe\",\"usa\",\"usa\",\"usa\",\"usa\",\"usa\",\"usa\",\"usa\",\"usa\",\"usa\",\"usa\",\"europe\",\"japan\",\"usa\",\"usa\",\"usa\",\"usa\",\"europe\",\"japan\",\"japan\",\"usa\",\"europe\",\"usa\",\"europe\",\"japan\",\"europe\",\"usa\",\"usa\",\"usa\",\"usa\",\"japan\",\"usa\",\"europe\",\"usa\",\"japan\",\"usa\",\"usa\",\"usa\",\"usa\",\"usa\",\"usa\",\"usa\",\"usa\",\"usa\",\"usa\",\"usa\",\"usa\",\"europe\",\"usa\",\"japan\",\"usa\",\"usa\",\"usa\",\"japan\",\"europe\",\"japan\",\"europe\",\"japan\",\"europe\",\"usa\",\"japan\",\"japan\",\"japan\",\"usa\",\"usa\",\"usa\",\"usa\",\"usa\",\"usa\",\"usa\",\"usa\",\"usa\",\"usa\",\"usa\",\"usa\",\"usa\",\"usa\",\"usa\",\"usa\",\"usa\",\"usa\",\"japan\",\"japan\",\"usa\",\"japan\",\"usa\",\"usa\",\"japan\",\"europe\",\"europe\",\"europe\",\"europe\",\"europe\",\"japan\",\"usa\",\"usa\",\"usa\",\"usa\",\"usa\",\"usa\",\"usa\",\"usa\",\"usa\",\"usa\",\"usa\",\"usa\",\"usa\",\"europe\",\"japan\",\"usa\",\"usa\",\"europe\",\"usa\",\"europe\",\"usa\",\"usa\",\"usa\",\"japan\",\"europe\",\"usa\",\"usa\",\"usa\",\"usa\",\"europe\",\"japan\",\"usa\",\"japan\",\"usa\",\"usa\",\"usa\",\"usa\",\"europe\",\"japan\",\"japan\",\"japan\",\"japan\",\"japan\",\"usa\",\"japan\",\"europe\",\"europe\",\"europe\",\"europe\",\"japan\",\"europe\",\"japan\",\"europe\",\"japan\",\"japan\",\"europe\",\"usa\",\"japan\",\"usa\",\"usa\",\"usa\",\"usa\",\"usa\",\"japan\",\"usa\",\"japan\",\"japan\",\"japan\",\"japan\",\"japan\",\"usa\",\"usa\",\"usa\",\"europe\",\"europe\",\"japan\",\"japan\",\"japan\",\"japan\",\"europe\",\"europe\",\"japan\",\"japan\",\"usa\",\"usa\",\"usa\",\"usa\",\"usa\",\"usa\",\"usa\",\"usa\",\"usa\",\"usa\",\"usa\",\"usa\",\"europe\",\"japan\",\"japan\",\"usa\",\"usa\",\"japan\",\"japan\",\"japan\",\"japan\",\"japan\",\"japan\",\"usa\",\"usa\",\"usa\",\"usa\",\"japan\",\"usa\",\"usa\",\"usa\",\"europe\",\"usa\",\"usa\",\"usa\"]},{\"axis\":{\"matches\":true},\"label\":\"name\",\"values\":[\"chevrolet chevelle malibu\",\"buick skylark 320\",\"plymouth satellite\",\"amc rebel sst\",\"ford torino\",\"ford galaxie 500\",\"chevrolet impala\",\"plymouth fury iii\",\"pontiac catalina\",\"amc ambassador dpl\",\"dodge challenger se\",\"plymouth 'cuda 340\",\"chevrolet monte carlo\",\"buick estate wagon (sw)\",\"toyota corona mark ii\",\"plymouth duster\",\"amc hornet\",\"ford maverick\",\"datsun pl510\",\"volkswagen 1131 deluxe sedan\",\"peugeot 504\",\"audi 100 ls\",\"saab 99e\",\"bmw 2002\",\"amc gremlin\",\"ford f250\",\"chevy c20\",\"dodge d200\",\"hi 1200d\",\"datsun pl510\",\"chevrolet vega 2300\",\"toyota corona\",\"ford pinto\",\"amc gremlin\",\"plymouth satellite custom\",\"chevrolet chevelle malibu\",\"ford torino 500\",\"amc matador\",\"chevrolet impala\",\"pontiac catalina brougham\",\"ford galaxie 500\",\"plymouth fury iii\",\"dodge monaco (sw)\",\"ford country squire (sw)\",\"pontiac safari (sw)\",\"amc hornet sportabout (sw)\",\"chevrolet vega (sw)\",\"pontiac firebird\",\"ford mustang\",\"mercury capri 2000\",\"opel 1900\",\"peugeot 304\",\"fiat 124b\",\"toyota corolla 1200\",\"datsun 1200\",\"volkswagen model 111\",\"plymouth cricket\",\"toyota corona hardtop\",\"dodge colt hardtop\",\"volkswagen type 3\",\"chevrolet vega\",\"ford pinto runabout\",\"chevrolet impala\",\"pontiac catalina\",\"plymouth fury iii\",\"ford galaxie 500\",\"amc ambassador sst\",\"mercury marquis\",\"buick lesabre custom\",\"oldsmobile delta 88 royale\",\"chrysler newport royal\",\"mazda rx2 coupe\",\"amc matador (sw)\",\"chevrolet chevelle concours (sw)\",\"ford gran torino (sw)\",\"plymouth satellite custom (sw)\",\"volvo 145e (sw)\",\"volkswagen 411 (sw)\",\"peugeot 504 (sw)\",\"renault 12 (sw)\",\"ford pinto (sw)\",\"datsun 510 (sw)\",\"toyouta corona mark ii (sw)\",\"dodge colt (sw)\",\"toyota corolla 1600 (sw)\",\"buick century 350\",\"amc matador\",\"chevrolet malibu\",\"ford gran torino\",\"dodge coronet custom\",\"mercury marquis brougham\",\"chevrolet caprice classic\",\"ford ltd\",\"plymouth fury gran sedan\",\"chrysler new yorker brougham\",\"buick electra 225 custom\",\"amc ambassador brougham\",\"plymouth valiant\",\"chevrolet nova custom\",\"amc hornet\",\"ford maverick\",\"plymouth duster\",\"volkswagen super beetle\",\"chevrolet impala\",\"ford country\",\"plymouth custom suburb\",\"oldsmobile vista cruiser\",\"amc gremlin\",\"toyota carina\",\"chevrolet vega\",\"datsun 610\",\"maxda rx3\",\"ford pinto\",\"mercury capri v6\",\"fiat 124 sport coupe\",\"chevrolet monte carlo s\",\"pontiac grand prix\",\"fiat 128\",\"opel manta\",\"audi 100ls\",\"volvo 144ea\",\"dodge dart custom\",\"saab 99le\",\"toyota mark ii\",\"oldsmobile omega\",\"plymouth duster\",\"ford maverick\",\"amc hornet\",\"chevrolet nova\",\"datsun b210\",\"ford pinto\",\"toyota corolla 1200\",\"chevrolet vega\",\"chevrolet chevelle malibu classic\",\"amc matador\",\"plymouth satellite sebring\",\"ford gran torino\",\"buick century luxus (sw)\",\"dodge coronet custom (sw)\",\"ford gran torino (sw)\",\"amc matador (sw)\",\"audi fox\",\"volkswagen dasher\",\"opel manta\",\"toyota corona\",\"datsun 710\",\"dodge colt\",\"fiat 128\",\"fiat 124 tc\",\"honda civic\",\"subaru\",\"fiat x1.9\",\"plymouth valiant custom\",\"chevrolet nova\",\"mercury monarch\",\"ford maverick\",\"pontiac catalina\",\"chevrolet bel air\",\"plymouth grand fury\",\"ford ltd\",\"buick century\",\"chevroelt chevelle malibu\",\"amc matador\",\"plymouth fury\",\"buick skyhawk\",\"chevrolet monza 2+2\",\"ford mustang ii\",\"toyota corolla\",\"ford pinto\",\"amc gremlin\",\"pontiac astro\",\"toyota corona\",\"volkswagen dasher\",\"datsun 710\",\"ford pinto\",\"volkswagen rabbit\",\"amc pacer\",\"audi 100ls\",\"peugeot 504\",\"volvo 244dl\",\"saab 99le\",\"honda civic cvcc\",\"fiat 131\",\"opel 1900\",\"capri ii\",\"dodge colt\",\"renault 12tl\",\"chevrolet chevelle malibu classic\",\"dodge coronet brougham\",\"amc matador\",\"ford gran torino\",\"plymouth valiant\",\"chevrolet nova\",\"ford maverick\",\"amc hornet\",\"chevrolet chevette\",\"chevrolet woody\",\"vw rabbit\",\"honda civic\",\"dodge aspen se\",\"ford granada ghia\",\"pontiac ventura sj\",\"amc pacer d/l\",\"volkswagen rabbit\",\"datsun b-210\",\"toyota corolla\",\"ford pinto\",\"volvo 245\",\"plymouth volare premier v8\",\"peugeot 504\",\"toyota mark ii\",\"mercedes-benz 280s\",\"cadillac seville\",\"chevy c10\",\"ford f108\",\"dodge d100\",\"honda accord cvcc\",\"buick opel isuzu deluxe\",\"renault 5 gtl\",\"plymouth arrow gs\",\"datsun f-10 hatchback\",\"chevrolet caprice classic\",\"oldsmobile cutlass supreme\",\"dodge monaco brougham\",\"mercury cougar brougham\",\"chevrolet concours\",\"buick skylark\",\"plymouth volare custom\",\"ford granada\",\"pontiac grand prix lj\",\"chevrolet monte carlo landau\",\"chrysler cordoba\",\"ford thunderbird\",\"volkswagen rabbit custom\",\"pontiac sunbird coupe\",\"toyota corolla liftback\",\"ford mustang ii 2+2\",\"chevrolet chevette\",\"dodge colt m/m\",\"subaru dl\",\"volkswagen dasher\",\"datsun 810\",\"bmw 320i\",\"mazda rx-4\",\"volkswagen rabbit custom diesel\",\"ford fiesta\",\"mazda glc deluxe\",\"datsun b210 gx\",\"honda civic cvcc\",\"oldsmobile cutlass salon brougham\",\"dodge diplomat\",\"mercury monarch ghia\",\"pontiac phoenix lj\",\"chevrolet malibu\",\"ford fairmont (auto)\",\"ford fairmont (man)\",\"plymouth volare\",\"amc concord\",\"buick century special\",\"mercury zephyr\",\"dodge aspen\",\"amc concord d/l\",\"chevrolet monte carlo landau\",\"buick regal sport coupe (turbo)\",\"ford futura\",\"dodge magnum xe\",\"chevrolet chevette\",\"toyota corona\",\"datsun 510\",\"dodge omni\",\"toyota celica gt liftback\",\"plymouth sapporo\",\"oldsmobile starfire sx\",\"datsun 200-sx\",\"audi 5000\",\"volvo 264gl\",\"saab 99gle\",\"peugeot 604sl\",\"volkswagen scirocco\",\"honda accord lx\",\"pontiac lemans v6\",\"mercury zephyr 6\",\"ford fairmont 4\",\"amc concord dl 6\",\"dodge aspen 6\",\"chevrolet caprice classic\",\"ford ltd landau\",\"mercury grand marquis\",\"dodge st. regis\",\"buick estate wagon (sw)\",\"ford country squire (sw)\",\"chevrolet malibu classic (sw)\",\"chrysler lebaron town @ country (sw)\",\"vw rabbit custom\",\"maxda glc deluxe\",\"dodge colt hatchback custom\",\"amc spirit dl\",\"mercedes benz 300d\",\"cadillac eldorado\",\"peugeot 504\",\"oldsmobile cutlass salon brougham\",\"plymouth horizon\",\"plymouth horizon tc3\",\"datsun 210\",\"fiat strada custom\",\"buick skylark limited\",\"chevrolet citation\",\"oldsmobile omega brougham\",\"pontiac phoenix\",\"vw rabbit\",\"toyota corolla tercel\",\"chevrolet chevette\",\"datsun 310\",\"chevrolet citation\",\"ford fairmont\",\"amc concord\",\"dodge aspen\",\"audi 4000\",\"toyota corona liftback\",\"mazda 626\",\"datsun 510 hatchback\",\"toyota corolla\",\"mazda glc\",\"dodge colt\",\"datsun 210\",\"vw rabbit c (diesel)\",\"vw dasher (diesel)\",\"audi 5000s (diesel)\",\"mercedes-benz 240d\",\"honda civic 1500 gl\",\"renault lecar deluxe\",\"subaru dl\",\"vokswagen rabbit\",\"datsun 280-zx\",\"mazda rx-7 gs\",\"triumph tr7 coupe\",\"ford mustang cobra\",\"honda accord\",\"plymouth reliant\",\"buick skylark\",\"dodge aries wagon (sw)\",\"chevrolet citation\",\"plymouth reliant\",\"toyota starlet\",\"plymouth champ\",\"honda civic 1300\",\"subaru\",\"datsun 210 mpg\",\"toyota tercel\",\"mazda glc 4\",\"plymouth horizon 4\",\"ford escort 4w\",\"ford escort 2h\",\"volkswagen jetta\",\"renault 18i\",\"honda prelude\",\"toyota corolla\",\"datsun 200sx\",\"mazda 626\",\"peugeot 505s turbo diesel\",\"volvo diesel\",\"toyota cressida\",\"datsun 810 maxima\",\"buick century\",\"oldsmobile cutlass ls\",\"ford granada gl\",\"chrysler lebaron salon\",\"chevrolet cavalier\",\"chevrolet cavalier wagon\",\"chevrolet cavalier 2-door\",\"pontiac j2000 se hatchback\",\"dodge aries se\",\"pontiac phoenix\",\"ford fairmont futura\",\"amc concord dl\",\"volkswagen rabbit l\",\"mazda glc custom l\",\"mazda glc custom\",\"plymouth horizon miser\",\"mercury lynx l\",\"nissan stanza xe\",\"honda accord\",\"toyota corolla\",\"honda civic\",\"honda civic (auto)\",\"datsun 310 gx\",\"buick century limited\",\"oldsmobile cutlass ciera (diesel)\",\"chrysler lebaron medallion\",\"ford granada l\",\"toyota celica gt\",\"dodge charger 2.2\",\"chevrolet camaro\",\"ford mustang gl\",\"vw pickup\",\"dodge rampage\",\"ford ranger\",\"chevy s-10\"]}],\"hovertemplate\":\"%{xaxis.title.text}=%{x}<br>%{yaxis.title.text}=%{y}<br>model_year=%{marker.color}<extra></extra>\",\"legendgroup\":\"\",\"marker\":{\"color\":[70,70,70,70,70,70,70,70,70,70,70,70,70,70,70,70,70,70,70,70,70,70,70,70,70,70,70,70,70,71,71,71,71,71,71,71,71,71,71,71,71,71,71,71,71,71,71,71,71,71,71,71,71,71,71,71,71,72,72,72,72,72,72,72,72,72,72,72,72,72,72,72,72,72,72,72,72,72,72,72,72,72,72,72,72,73,73,73,73,73,73,73,73,73,73,73,73,73,73,73,73,73,73,73,73,73,73,73,73,73,73,73,73,73,73,73,73,73,73,73,73,73,73,73,73,74,74,74,74,74,74,74,74,74,74,74,74,74,74,74,74,74,74,74,74,74,74,74,74,74,74,74,75,75,75,75,75,75,75,75,75,75,75,75,75,75,75,75,75,75,75,75,75,75,75,75,75,75,75,75,75,75,76,76,76,76,76,76,76,76,76,76,76,76,76,76,76,76,76,76,76,76,76,76,76,76,76,76,76,76,76,76,76,76,76,76,77,77,77,77,77,77,77,77,77,77,77,77,77,77,77,77,77,77,77,77,77,77,77,77,77,77,77,77,78,78,78,78,78,78,78,78,78,78,78,78,78,78,78,78,78,78,78,78,78,78,78,78,78,78,78,78,78,78,78,78,78,78,78,78,79,79,79,79,79,79,79,79,79,79,79,79,79,79,79,79,79,79,79,79,79,79,79,79,79,79,79,79,79,80,80,80,80,80,80,80,80,80,80,80,80,80,80,80,80,80,80,80,80,80,80,80,80,80,80,80,80,80,81,81,81,81,81,81,81,81,81,81,81,81,81,81,81,81,81,81,81,81,81,81,81,81,81,81,81,81,81,82,82,82,82,82,82,82,82,82,82,82,82,82,82,82,82,82,82,82,82,82,82,82,82,82,82,82,82,82,82,82],\"coloraxis\":\"coloraxis\",\"symbol\":\"circle\"},\"name\":\"\",\"showlegend\":false,\"type\":\"splom\"}],                        {\"template\":{\"data\":{\"histogram2dcontour\":[{\"type\":\"histogram2dcontour\",\"colorbar\":{\"outlinewidth\":0,\"ticks\":\"\"},\"colorscale\":[[0.0,\"#0d0887\"],[0.1111111111111111,\"#46039f\"],[0.2222222222222222,\"#7201a8\"],[0.3333333333333333,\"#9c179e\"],[0.4444444444444444,\"#bd3786\"],[0.5555555555555556,\"#d8576b\"],[0.6666666666666666,\"#ed7953\"],[0.7777777777777778,\"#fb9f3a\"],[0.8888888888888888,\"#fdca26\"],[1.0,\"#f0f921\"]]}],\"choropleth\":[{\"type\":\"choropleth\",\"colorbar\":{\"outlinewidth\":0,\"ticks\":\"\"}}],\"histogram2d\":[{\"type\":\"histogram2d\",\"colorbar\":{\"outlinewidth\":0,\"ticks\":\"\"},\"colorscale\":[[0.0,\"#0d0887\"],[0.1111111111111111,\"#46039f\"],[0.2222222222222222,\"#7201a8\"],[0.3333333333333333,\"#9c179e\"],[0.4444444444444444,\"#bd3786\"],[0.5555555555555556,\"#d8576b\"],[0.6666666666666666,\"#ed7953\"],[0.7777777777777778,\"#fb9f3a\"],[0.8888888888888888,\"#fdca26\"],[1.0,\"#f0f921\"]]}],\"heatmap\":[{\"type\":\"heatmap\",\"colorbar\":{\"outlinewidth\":0,\"ticks\":\"\"},\"colorscale\":[[0.0,\"#0d0887\"],[0.1111111111111111,\"#46039f\"],[0.2222222222222222,\"#7201a8\"],[0.3333333333333333,\"#9c179e\"],[0.4444444444444444,\"#bd3786\"],[0.5555555555555556,\"#d8576b\"],[0.6666666666666666,\"#ed7953\"],[0.7777777777777778,\"#fb9f3a\"],[0.8888888888888888,\"#fdca26\"],[1.0,\"#f0f921\"]]}],\"heatmapgl\":[{\"type\":\"heatmapgl\",\"colorbar\":{\"outlinewidth\":0,\"ticks\":\"\"},\"colorscale\":[[0.0,\"#0d0887\"],[0.1111111111111111,\"#46039f\"],[0.2222222222222222,\"#7201a8\"],[0.3333333333333333,\"#9c179e\"],[0.4444444444444444,\"#bd3786\"],[0.5555555555555556,\"#d8576b\"],[0.6666666666666666,\"#ed7953\"],[0.7777777777777778,\"#fb9f3a\"],[0.8888888888888888,\"#fdca26\"],[1.0,\"#f0f921\"]]}],\"contourcarpet\":[{\"type\":\"contourcarpet\",\"colorbar\":{\"outlinewidth\":0,\"ticks\":\"\"}}],\"contour\":[{\"type\":\"contour\",\"colorbar\":{\"outlinewidth\":0,\"ticks\":\"\"},\"colorscale\":[[0.0,\"#0d0887\"],[0.1111111111111111,\"#46039f\"],[0.2222222222222222,\"#7201a8\"],[0.3333333333333333,\"#9c179e\"],[0.4444444444444444,\"#bd3786\"],[0.5555555555555556,\"#d8576b\"],[0.6666666666666666,\"#ed7953\"],[0.7777777777777778,\"#fb9f3a\"],[0.8888888888888888,\"#fdca26\"],[1.0,\"#f0f921\"]]}],\"surface\":[{\"type\":\"surface\",\"colorbar\":{\"outlinewidth\":0,\"ticks\":\"\"},\"colorscale\":[[0.0,\"#0d0887\"],[0.1111111111111111,\"#46039f\"],[0.2222222222222222,\"#7201a8\"],[0.3333333333333333,\"#9c179e\"],[0.4444444444444444,\"#bd3786\"],[0.5555555555555556,\"#d8576b\"],[0.6666666666666666,\"#ed7953\"],[0.7777777777777778,\"#fb9f3a\"],[0.8888888888888888,\"#fdca26\"],[1.0,\"#f0f921\"]]}],\"mesh3d\":[{\"type\":\"mesh3d\",\"colorbar\":{\"outlinewidth\":0,\"ticks\":\"\"}}],\"scatter\":[{\"fillpattern\":{\"fillmode\":\"overlay\",\"size\":10,\"solidity\":0.2},\"type\":\"scatter\"}],\"parcoords\":[{\"type\":\"parcoords\",\"line\":{\"colorbar\":{\"outlinewidth\":0,\"ticks\":\"\"}}}],\"scatterpolargl\":[{\"type\":\"scatterpolargl\",\"marker\":{\"colorbar\":{\"outlinewidth\":0,\"ticks\":\"\"}}}],\"bar\":[{\"error_x\":{\"color\":\"#2a3f5f\"},\"error_y\":{\"color\":\"#2a3f5f\"},\"marker\":{\"line\":{\"color\":\"#E5ECF6\",\"width\":0.5},\"pattern\":{\"fillmode\":\"overlay\",\"size\":10,\"solidity\":0.2}},\"type\":\"bar\"}],\"scattergeo\":[{\"type\":\"scattergeo\",\"marker\":{\"colorbar\":{\"outlinewidth\":0,\"ticks\":\"\"}}}],\"scatterpolar\":[{\"type\":\"scatterpolar\",\"marker\":{\"colorbar\":{\"outlinewidth\":0,\"ticks\":\"\"}}}],\"histogram\":[{\"marker\":{\"pattern\":{\"fillmode\":\"overlay\",\"size\":10,\"solidity\":0.2}},\"type\":\"histogram\"}],\"scattergl\":[{\"type\":\"scattergl\",\"marker\":{\"colorbar\":{\"outlinewidth\":0,\"ticks\":\"\"}}}],\"scatter3d\":[{\"type\":\"scatter3d\",\"line\":{\"colorbar\":{\"outlinewidth\":0,\"ticks\":\"\"}},\"marker\":{\"colorbar\":{\"outlinewidth\":0,\"ticks\":\"\"}}}],\"scattermapbox\":[{\"type\":\"scattermapbox\",\"marker\":{\"colorbar\":{\"outlinewidth\":0,\"ticks\":\"\"}}}],\"scatterternary\":[{\"type\":\"scatterternary\",\"marker\":{\"colorbar\":{\"outlinewidth\":0,\"ticks\":\"\"}}}],\"scattercarpet\":[{\"type\":\"scattercarpet\",\"marker\":{\"colorbar\":{\"outlinewidth\":0,\"ticks\":\"\"}}}],\"carpet\":[{\"aaxis\":{\"endlinecolor\":\"#2a3f5f\",\"gridcolor\":\"white\",\"linecolor\":\"white\",\"minorgridcolor\":\"white\",\"startlinecolor\":\"#2a3f5f\"},\"baxis\":{\"endlinecolor\":\"#2a3f5f\",\"gridcolor\":\"white\",\"linecolor\":\"white\",\"minorgridcolor\":\"white\",\"startlinecolor\":\"#2a3f5f\"},\"type\":\"carpet\"}],\"table\":[{\"cells\":{\"fill\":{\"color\":\"#EBF0F8\"},\"line\":{\"color\":\"white\"}},\"header\":{\"fill\":{\"color\":\"#C8D4E3\"},\"line\":{\"color\":\"white\"}},\"type\":\"table\"}],\"barpolar\":[{\"marker\":{\"line\":{\"color\":\"#E5ECF6\",\"width\":0.5},\"pattern\":{\"fillmode\":\"overlay\",\"size\":10,\"solidity\":0.2}},\"type\":\"barpolar\"}],\"pie\":[{\"automargin\":true,\"type\":\"pie\"}]},\"layout\":{\"autotypenumbers\":\"strict\",\"colorway\":[\"#636efa\",\"#EF553B\",\"#00cc96\",\"#ab63fa\",\"#FFA15A\",\"#19d3f3\",\"#FF6692\",\"#B6E880\",\"#FF97FF\",\"#FECB52\"],\"font\":{\"color\":\"#2a3f5f\"},\"hovermode\":\"closest\",\"hoverlabel\":{\"align\":\"left\"},\"paper_bgcolor\":\"white\",\"plot_bgcolor\":\"#E5ECF6\",\"polar\":{\"bgcolor\":\"#E5ECF6\",\"angularaxis\":{\"gridcolor\":\"white\",\"linecolor\":\"white\",\"ticks\":\"\"},\"radialaxis\":{\"gridcolor\":\"white\",\"linecolor\":\"white\",\"ticks\":\"\"}},\"ternary\":{\"bgcolor\":\"#E5ECF6\",\"aaxis\":{\"gridcolor\":\"white\",\"linecolor\":\"white\",\"ticks\":\"\"},\"baxis\":{\"gridcolor\":\"white\",\"linecolor\":\"white\",\"ticks\":\"\"},\"caxis\":{\"gridcolor\":\"white\",\"linecolor\":\"white\",\"ticks\":\"\"}},\"coloraxis\":{\"colorbar\":{\"outlinewidth\":0,\"ticks\":\"\"}},\"colorscale\":{\"sequential\":[[0.0,\"#0d0887\"],[0.1111111111111111,\"#46039f\"],[0.2222222222222222,\"#7201a8\"],[0.3333333333333333,\"#9c179e\"],[0.4444444444444444,\"#bd3786\"],[0.5555555555555556,\"#d8576b\"],[0.6666666666666666,\"#ed7953\"],[0.7777777777777778,\"#fb9f3a\"],[0.8888888888888888,\"#fdca26\"],[1.0,\"#f0f921\"]],\"sequentialminus\":[[0.0,\"#0d0887\"],[0.1111111111111111,\"#46039f\"],[0.2222222222222222,\"#7201a8\"],[0.3333333333333333,\"#9c179e\"],[0.4444444444444444,\"#bd3786\"],[0.5555555555555556,\"#d8576b\"],[0.6666666666666666,\"#ed7953\"],[0.7777777777777778,\"#fb9f3a\"],[0.8888888888888888,\"#fdca26\"],[1.0,\"#f0f921\"]],\"diverging\":[[0,\"#8e0152\"],[0.1,\"#c51b7d\"],[0.2,\"#de77ae\"],[0.3,\"#f1b6da\"],[0.4,\"#fde0ef\"],[0.5,\"#f7f7f7\"],[0.6,\"#e6f5d0\"],[0.7,\"#b8e186\"],[0.8,\"#7fbc41\"],[0.9,\"#4d9221\"],[1,\"#276419\"]]},\"xaxis\":{\"gridcolor\":\"white\",\"linecolor\":\"white\",\"ticks\":\"\",\"title\":{\"standoff\":15},\"zerolinecolor\":\"white\",\"automargin\":true,\"zerolinewidth\":2},\"yaxis\":{\"gridcolor\":\"white\",\"linecolor\":\"white\",\"ticks\":\"\",\"title\":{\"standoff\":15},\"zerolinecolor\":\"white\",\"automargin\":true,\"zerolinewidth\":2},\"scene\":{\"xaxis\":{\"backgroundcolor\":\"#E5ECF6\",\"gridcolor\":\"white\",\"linecolor\":\"white\",\"showbackground\":true,\"ticks\":\"\",\"zerolinecolor\":\"white\",\"gridwidth\":2},\"yaxis\":{\"backgroundcolor\":\"#E5ECF6\",\"gridcolor\":\"white\",\"linecolor\":\"white\",\"showbackground\":true,\"ticks\":\"\",\"zerolinecolor\":\"white\",\"gridwidth\":2},\"zaxis\":{\"backgroundcolor\":\"#E5ECF6\",\"gridcolor\":\"white\",\"linecolor\":\"white\",\"showbackground\":true,\"ticks\":\"\",\"zerolinecolor\":\"white\",\"gridwidth\":2}},\"shapedefaults\":{\"line\":{\"color\":\"#2a3f5f\"}},\"annotationdefaults\":{\"arrowcolor\":\"#2a3f5f\",\"arrowhead\":0,\"arrowwidth\":1},\"geo\":{\"bgcolor\":\"white\",\"landcolor\":\"#E5ECF6\",\"subunitcolor\":\"white\",\"showland\":true,\"showlakes\":true,\"lakecolor\":\"white\"},\"title\":{\"x\":0.05},\"mapbox\":{\"style\":\"light\"}}},\"coloraxis\":{\"colorbar\":{\"title\":{\"text\":\"model_year\"}},\"colorscale\":[[0.0,\"#0d0887\"],[0.1111111111111111,\"#46039f\"],[0.2222222222222222,\"#7201a8\"],[0.3333333333333333,\"#9c179e\"],[0.4444444444444444,\"#bd3786\"],[0.5555555555555556,\"#d8576b\"],[0.6666666666666666,\"#ed7953\"],[0.7777777777777778,\"#fb9f3a\"],[0.8888888888888888,\"#fdca26\"],[1.0,\"#f0f921\"]]},\"legend\":{\"tracegroupgap\":0},\"margin\":{\"t\":60},\"dragmode\":\"select\"},                        {\"responsive\": true}                    ).then(function(){\n",
       "                            \n",
       "var gd = document.getElementById('9e857c4c-68ca-4c43-ab88-c67715915623');\n",
       "var x = new MutationObserver(function (mutations, observer) {{\n",
       "        var display = window.getComputedStyle(gd).display;\n",
       "        if (!display || display === 'none') {{\n",
       "            console.log([gd, 'removed!']);\n",
       "            Plotly.purge(gd);\n",
       "            observer.disconnect();\n",
       "        }}\n",
       "}});\n",
       "\n",
       "// Listen for the removal of the full notebook cells\n",
       "var notebookContainer = gd.closest('#notebook-container');\n",
       "if (notebookContainer) {{\n",
       "    x.observe(notebookContainer, {childList: true});\n",
       "}}\n",
       "\n",
       "// Listen for the clearing of the current output cell\n",
       "var outputEl = gd.closest('.output');\n",
       "if (outputEl) {{\n",
       "    x.observe(outputEl, {childList: true});\n",
       "}}\n",
       "\n",
       "                        })                };                });            </script>        </div>"
      ]
     },
     "metadata": {},
     "output_type": "display_data"
    }
   ],
   "source": [
    "px.scatter_matrix(data, color = \"model_year\")"
   ]
  }
 ],
 "metadata": {
  "kernelspec": {
   "display_name": "Python 3 (ipykernel)",
   "language": "python",
   "name": "python3"
  },
  "language_info": {
   "codemirror_mode": {
    "name": "ipython",
    "version": 3
   },
   "file_extension": ".py",
   "mimetype": "text/x-python",
   "name": "python",
   "nbconvert_exporter": "python",
   "pygments_lexer": "ipython3",
   "version": "3.9.7"
  }
 },
 "nbformat": 4,
 "nbformat_minor": 5
}

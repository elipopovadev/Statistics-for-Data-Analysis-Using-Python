{
 "cells": [
  {
   "cell_type": "code",
   "execution_count": 1,
   "id": "59bd9d58",
   "metadata": {},
   "outputs": [],
   "source": [
    "import numpy as np"
   ]
  },
  {
   "cell_type": "code",
   "execution_count": 2,
   "id": "4bfe5889",
   "metadata": {},
   "outputs": [],
   "source": [
    "die1 = np.random.randint(1,7, 10)\n",
    "die2 = np.random.randint(1,7, 10)"
   ]
  },
  {
   "cell_type": "code",
   "execution_count": 4,
   "id": "c18880d6",
   "metadata": {},
   "outputs": [
    {
     "data": {
      "text/plain": [
       "array([ 9,  6,  6, 12,  4,  7,  7,  5,  5,  8])"
      ]
     },
     "execution_count": 4,
     "metadata": {},
     "output_type": "execute_result"
    }
   ],
   "source": [
    "die_sum = die1 + die2\n",
    "die_sum"
   ]
  },
  {
   "cell_type": "code",
   "execution_count": 5,
   "id": "97fec902",
   "metadata": {},
   "outputs": [
    {
     "data": {
      "text/plain": [
       "415656"
      ]
     },
     "execution_count": 5,
     "metadata": {},
     "output_type": "execute_result"
    }
   ],
   "source": [
    "die1 = np.random.randint(1,7, 1000000)\n",
    "die2 = np.random.randint(1,7, 1000000)\n",
    "die_sum = die1 + die2\n",
    "sum(die_sum > 7)"
   ]
  }
 ],
 "metadata": {
  "kernelspec": {
   "display_name": "Python 3 (ipykernel)",
   "language": "python",
   "name": "python3"
  },
  "language_info": {
   "codemirror_mode": {
    "name": "ipython",
    "version": 3
   },
   "file_extension": ".py",
   "mimetype": "text/x-python",
   "name": "python",
   "nbconvert_exporter": "python",
   "pygments_lexer": "ipython3",
   "version": "3.9.7"
  }
 },
 "nbformat": 4,
 "nbformat_minor": 5
}
